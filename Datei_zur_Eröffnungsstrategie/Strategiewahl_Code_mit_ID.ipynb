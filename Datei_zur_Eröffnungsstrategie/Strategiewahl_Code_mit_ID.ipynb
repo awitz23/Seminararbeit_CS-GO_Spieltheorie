{
  "nbformat": 4,
  "nbformat_minor": 0,
  "metadata": {
    "colab": {
      "name": "awpy_Colab.ipynb",
      "provenance": [],
      "collapsed_sections": [],
      "include_colab_link": true
    },
    "kernelspec": {
      "name": "python3",
      "display_name": "Python 3"
    },
    "language_info": {
      "name": "python"
    }
  },
  "cells": [
    {
      "cell_type": "markdown",
      "metadata": {
        "id": "view-in-github",
        "colab_type": "text"
      },
      "source": [
        "<a href=\"https://colab.research.google.com/github/awitz23/Seminararbeit_CS-GO_Spieltheorie/blob/main/Datei_zur_Er%C3%B6ffnungsstrategie/Strategiewahl_Code_mit_ID.ipynb\" target=\"_parent\"><img src=\"https://colab.research.google.com/assets/colab-badge.svg\" alt=\"Open In Colab\"/></a>"
      ]
    },
    {
      "cell_type": "markdown",
      "source": [
        "#Installationen"
      ],
      "metadata": {
        "id": "0bB6IyTcadMP"
      }
    },
    {
      "cell_type": "code",
      "source": [
        "pip install Pillow==9.0.0"
      ],
      "metadata": {
        "id": "dKND3OLDw0ck"
      },
      "execution_count": null,
      "outputs": []
    },
    {
      "cell_type": "code",
      "metadata": {
        "id": "WeKqfFet03GZ"
      },
      "source": [
        "#shell notwendig, da awpy golang benötigt\n",
        "\n",
        "%%shell\n",
        "add-apt-repository -y ppa:longsleep/golang-backports\n",
        "apt -y update\n",
        "apt -y install golang-go\n",
        "\n",
        "pip install awpy\n"
      ],
      "execution_count": null,
      "outputs": []
    },
    {
      "cell_type": "code",
      "source": [
        "!pip install nashpy\n",
        "import nashpy as nash\n",
        "\n",
        "import pandas as pd\n",
        "import numpy as np\n",
        "from awpy import *\n",
        "from awpy.data import NAV_CSV\n",
        "from google.colab import drive\n",
        "from google.colab import files\n",
        "drive.mount('/content/drive')\n",
        "import plotly.graph_objects as go\n",
        "import pandas as pd\n",
        "import os\n",
        "import ntpath\n",
        "dir = '/content/drive/MyDrive/CS:GO_Dust2/2018_Dust2'"
      ],
      "metadata": {
        "id": "7I1rGINUdoab"
      },
      "execution_count": null,
      "outputs": []
    },
    {
      "cell_type": "code",
      "source": [
        "#Initialisiere ein leeres Dataframe für spätere Nutzung\n",
        "df_strategy=pd.DataFrame()\n",
        "\n",
        "#Lege Pfad fest, aus dem die Dateien gelesen werden\n",
        "dir = '/content/drive/MyDrive/CS:GO_Dust2/2018_Dust2'"
      ],
      "metadata": {
        "id": "sdCx1UMPRhWb"
      },
      "execution_count": null,
      "outputs": []
    },
    {
      "cell_type": "markdown",
      "source": [
        "#Strategiefindung - Parsing"
      ],
      "metadata": {
        "id": "QzNLC_Sapr44"
      }
    },
    {
      "cell_type": "code",
      "source": [
        "#Gehe den vorher definierten Pfad durch\n",
        "for file in os.listdir(dir):\n",
        "  #gehe für jedes Element, das auf .dem endet folgende Befehle durch\n",
        "  if file.endswith(\".dem\"):\n",
        "    #Lese alle Daten aus dem vorher definierten Pfad aus.\n",
        "    p = DemoParser(demofile=\"/content/drive/MyDrive/CS:GO_Dust2/2018_Dust2/\"+file, parse_rate=128)\n",
        "    df = p.parse(return_type=\"df\")\n",
        "    id = ntpath.basename(\"/content/drive/MyDrive/CS:GO_Dust2/2018_Dust2/\"+file)\n",
        "    year = \"18\"\n",
        "\n",
        "    #Strategiefindung für T-Seite\n",
        "    #initialisiere einen Parameter, um die Runden in einer Datei durchzugehen\n",
        "    i = 1\n",
        "\n",
        "    Gameround = []\n",
        "    Strategies = []\n",
        "    Game_id =[]\n",
        "    while i <= df[\"playerFrames\"][\"roundNum\"].max():\n",
        "      track3 = df[\"playerFrames\"]\n",
        "      track4 = track3[(track3['seconds'] > 10) & (track3['seconds'] <= 30)]\n",
        "      track4 = track4.loc[track4[\"roundNum\"]==i] \n",
        "      track4 = track4.loc[track4[\"side\"]==\"T\"]\n",
        "      \n",
        "      #lese die Positionen der Navigation Mesh Datei ein\n",
        "      t = NAV_CSV[NAV_CSV[\"mapName\"] == \"de_dust2\"]\n",
        "\n",
        "\n",
        "      area = []\n",
        "      #für jede Reihe durchgehen und Position festlegen und in Liste einspeichern, für jede Sekunde für jeden Spieler\n",
        "      for index, row in track4.iterrows():\n",
        "         \n",
        "        f = t[(t['northWestX'] > row['x']-40) & (t['northWestX'] < row['x']+40)]\n",
        "        f = f[(f['northWestY'] > row['y']-40) & (f['northWestY'] < row['y']+40)]\n",
        "      \n",
        "        if f.empty:\n",
        "          loc = \"MISTAKE\"\n",
        "          area.append(loc)\n",
        "        \n",
        "        else:\n",
        "          loc = f[\"areaName\"].value_counts().idxmax()\n",
        "          area.append(loc)\n",
        "\n",
        "      #füge Liste mit Positionen zu DF hinzu, hierbei werden die Orte den Regionen zugeteilt\n",
        "      track4[\"area\"] = area \n",
        "      \n",
        "      track4.loc[track4['area'] == \"CTSpawn\",'subgroup'] = \"Mid\"\n",
        "      track4.loc[track4['area'] == \"MidDoors\",'subgroup'] = \"Mid\"\n",
        "      track4.loc[track4['area'] == \"TopofMid\",'subgroup'] = \"Mid\"\n",
        "      track4.loc[track4['area'] == \"Middle\",'subgroup'] = \"Mid\"\n",
        "      track4.loc[track4['area'] == \"Short\",'subgroup'] = \"Mid\"\n",
        "\n",
        "      track4.loc[track4['area'] == \"ShortStairs\",'subgroup'] = \"BombA\"\n",
        "      track4.loc[track4['area'] == \"UnderA\",'subgroup'] = \"BombA\"\n",
        "      track4.loc[track4['area'] == \"ExtendedA\",'subgroup'] = \"BombA\"\n",
        "      track4.loc[track4['area'] == \"Catwalk\",'subgroup'] = \"BombA\"\n",
        "\n",
        "      track4.loc[track4['area'] == \"BombsiteB\",'subgroup'] = \"BombB\"\n",
        "      track4.loc[track4['area'] == \"BDoors\",'subgroup'] = \"BombB\"\n",
        "      track4.loc[track4['area'] == \"Hole\",'subgroup'] = \"BombB\"\n",
        "\n",
        "      track4.loc[track4['area'] == \"TSpawn\",'subgroup'] = \"TerroristSpawn\"\n",
        "      track4.loc[track4['area'] == \"TRamp\",'subgroup'] = \"TerroristSpawn\"\n",
        "\n",
        "      track4.loc[track4['area'] == \"OutsideTunnel\",'subgroup'] = \"BombB\"\n",
        "      track4.loc[track4['area'] == \"UpperTunnel\",'subgroup'] = \"BombB\"\n",
        "      track4.loc[track4['area'] == \"TunnelStairs\",'subgroup'] = \"BombB\"\n",
        "      track4.loc[track4['area'] == \"LowerTunnel\",'subgroup'] = \"BombB\"\n",
        "\n",
        "      track4.loc[track4['area'] == \"LongA\",'subgroup'] = \"BombA\"\n",
        "      track4.loc[track4['area'] == \"LongDoors\",'subgroup'] = \"BombA\"\n",
        "      track4.loc[track4['area'] == \"OutsideLong\",'subgroup'] = \"BombA\"\n",
        "      track4.loc[track4['area'] == \"Pit\",'subgroup'] = \"BombA\"\n",
        "      track4.loc[track4['area'] == \"Ramp\",'subgroup'] = \"BombA\"\n",
        "      track4.loc[track4['area'] == \"Side\",'subgroup'] = \"BombA\"\n",
        "\n",
        "      track4.loc[track4['area'] == \"BombsiteA\",'subgroup'] = \"BombA\"\n",
        "      track4.loc[track4['area'] == \"ARamp\",'subgroup'] = \"BombA\"\n",
        "\n",
        "      stra = []\n",
        "\n",
        "      df2 = track4.groupby(['subgroup', 'name'])['subgroup'].count().unstack(fill_value=0)\n",
        "\n",
        "      #erstelle eine Liste mit 5 Werten, pro Spieler ein Wert, in der gespeichert wird, in welcher Region der jeweilige Spieler die längste Zeit verbracht hat\n",
        "      for column in df2:\n",
        "        y = df2[{column}].idxmax()\n",
        "        y = y.values.tolist()\n",
        "        stra.append(y)\n",
        "      \n",
        "      j = 0\n",
        "      \n",
        "      #gehe Liste durch und finde Strategie für das jeweilige Team\n",
        "      BombA = 0\n",
        "      BombB = 0\n",
        "      Mid = 0\n",
        "      TerroristSpawn = 0\n",
        "\n",
        "      for element in stra:\n",
        "        if (element[j] == \"BombA\"):\n",
        "          BombA = BombA+1\n",
        "        elif (element[j] == \"BombB\"):\n",
        "          BombB = BombB+1\n",
        "        elif (element[j] == \"Mid\"):\n",
        "          Mid = Mid+1\n",
        "        elif (element[j] == \"Terroristspawn\"):\n",
        "          TerroristSpawn = TerroristSpawn + 1 \n",
        "      if BombA >= 4:\n",
        "          strategy = \"RushA\"\n",
        "          Strategies.append(strategy)\n",
        "          strategy=0\n",
        "          Gameround.append(i)\n",
        "          Game_id.append(id+year)\n",
        "      if BombB >=4:\n",
        "          strategy = \"RushB\"\n",
        "          Strategies.append(strategy)\n",
        "          strategy=0\n",
        "          Gameround.append(i)\n",
        "          Game_id.append(id+year)\n",
        "      if (BombA<4)&(BombB<4):\n",
        "          strategy = \"Split\"\n",
        "          Strategies.append(strategy)\n",
        "          strategy=0\n",
        "          Gameround.append(i)\n",
        "          Game_id.append(id+year)\n",
        "\n",
        "      i=i+1\n",
        "\n",
        "    #Strategiefindung für CT-Seite\n",
        "    i = 1\n",
        "    Gameround = []\n",
        "    CTStrategies = []\n",
        "    Game_id =[]\n",
        "    while i <= df[\"playerFrames\"][\"roundNum\"].max():\n",
        "      player= df[\"playerFrames\"]\n",
        "      track3 = player\n",
        "      track4 = track3[(track3['seconds'] > 10) & (track3['seconds'] <= 30)]\n",
        "      track4 = track4.loc[track4[\"roundNum\"]==i] \n",
        "      track4 = track4.loc[track4[\"side\"]==\"CT\"]\n",
        "      \n",
        "      t = NAV_CSV[NAV_CSV[\"mapName\"] == \"de_dust2\"]\n",
        "\n",
        "\n",
        "      area = []\n",
        "      #für jede Reihe durchgehen und Position festlegen und in Liste einspeichern --> jede Sekunde für jeden Spieler\n",
        "      for index, row in track4.iterrows():\n",
        "        f = t[(t['northWestX'] > row['x']-80) & (t['northWestX'] < row['x']+80)]\n",
        "        f = f[(f['northWestY'] > row['y']-80) & (f['northWestY'] < row['y']+80)]\n",
        "      \n",
        "        if f.empty:\n",
        "          loc = \"MISTAKE\"\n",
        "          area.append(loc)\n",
        "        \n",
        "        else:\n",
        "          loc = f[\"areaName\"].value_counts().idxmax()\n",
        "          area.append(loc)\n",
        "\n",
        "      #füge Liste mit Positionen zu DF hinzu\n",
        "      track4[\"area\"] = area \n",
        "      \n",
        "      track4.loc[track4['area'] == \"CTSpawn\",'subgroup'] = \"Mid\"\n",
        "      track4.loc[track4['area'] == \"MidDoors\",'subgroup'] = \"Mid\"\n",
        "      track4.loc[track4['area'] == \"TopofMid\",'subgroup'] = \"Mid\"\n",
        "      track4.loc[track4['area'] == \"Middle\",'subgroup'] = \"Mid\"\n",
        "      track4.loc[track4['area'] == \"Short\",'subgroup'] = \"Mid\"\n",
        "\n",
        "      track4.loc[track4['area'] == \"ShortStairs\",'subgroup'] = \"BombA\"\n",
        "      track4.loc[track4['area'] == \"UnderA\",'subgroup'] = \"BombA\"\n",
        "      track4.loc[track4['area'] == \"ExtendedA\",'subgroup'] = \"BombA\"\n",
        "      track4.loc[track4['area'] == \"Catwalk\",'subgroup'] = \"BombA\"\n",
        "\n",
        "      track4.loc[track4['area'] == \"BombsiteB\",'subgroup'] = \"BombB\"\n",
        "      track4.loc[track4['area'] == \"BDoors\",'subgroup'] = \"BombB\"\n",
        "      track4.loc[track4['area'] == \"Hole\",'subgroup'] = \"BombB\"\n",
        "\n",
        "      track4.loc[track4['area'] == \"TSpawn\",'subgroup'] = \"TerroristSpawn\"\n",
        "      track4.loc[track4['area'] == \"TRamp\",'subgroup'] = \"TerroristSpawn\"\n",
        "\n",
        "      track4.loc[track4['area'] == \"OutsideTunnel\",'subgroup'] = \"BombB\"\n",
        "      track4.loc[track4['area'] == \"UpperTunnel\",'subgroup'] = \"BombB\"\n",
        "      track4.loc[track4['area'] == \"TunnelStairs\",'subgroup'] = \"BombB\"\n",
        "      track4.loc[track4['area'] == \"LowerTunnel\",'subgroup'] = \"BombB\"\n",
        "\n",
        "      track4.loc[track4['area'] == \"LongA\",'subgroup'] = \"BombA\"\n",
        "      track4.loc[track4['area'] == \"LongDoors\",'subgroup'] = \"BombA\"\n",
        "      track4.loc[track4['area'] == \"OutsideLong\",'subgroup'] = \"BombA\"\n",
        "      track4.loc[track4['area'] == \"Pit\",'subgroup'] = \"BombA\"\n",
        "      track4.loc[track4['area'] == \"Ramp\",'subgroup'] = \"BombA\"\n",
        "      track4.loc[track4['area'] == \"Side\",'subgroup'] = \"BombA\"\n",
        "\n",
        "      track4.loc[track4['area'] == \"BombsiteA\",'subgroup'] = \"BombA\"\n",
        "      track4.loc[track4['area'] == \"ARamp\",'subgroup'] = \"BombA\"\n",
        "\n",
        "      stra = []\n",
        "\n",
        "      df2 = track4.groupby(['subgroup', 'name'])['subgroup'].count().unstack(fill_value=0)\n",
        "\n",
        "      for column in df2:\n",
        "        y = df2[{column}].idxmax()\n",
        "        y = y.values.tolist()\n",
        "        stra.append(y)\n",
        "      \n",
        "      j = 0\n",
        "      \n",
        "\n",
        "      BombA = 0\n",
        "      BombB = 0\n",
        "      Mid = 0\n",
        "      TerroristSpawn = 0\n",
        "\n",
        "      for element in stra:\n",
        "        if (element[j] == \"BombA\"):\n",
        "          BombA = BombA+1\n",
        "        elif (element[j] == \"BombB\"):\n",
        "          BombB = BombB+1\n",
        "        elif (element[j] == \"Mid\"):\n",
        "          Mid = Mid+1\n",
        "        elif (element[j] == \"Terroristspawn\"):\n",
        "          TerroristSpawn = TerroristSpawn + 1 \n",
        "      if BombA >= 3:\n",
        "          strategy = \"FullA\"\n",
        "          CTStrategies.append(strategy)\n",
        "          strategy=0\n",
        "          Gameround.append(i)\n",
        "          Game_id.append(id+year)\n",
        "      if BombB >=3:\n",
        "          strategy = \"FullB\"\n",
        "          CTStrategies.append(strategy)\n",
        "          strategy=0\n",
        "          Gameround.append(i)\n",
        "          Game_id.append(id+year)\n",
        "      if (BombA<3)&(BombB<3):\n",
        "          strategy = \"Split\"\n",
        "          CTStrategies.append(strategy)\n",
        "          strategy=0\n",
        "          Gameround.append(i)\n",
        "          Game_id.append(id+year)\n",
        "      \n",
        "      i=i+1\n",
        "      \n",
        "    Winner = df[\"rounds\"][\"winningSide\"].tolist()\n",
        "\n",
        "\n",
        "    df_strategy_temp = pd.DataFrame({'Round':Gameround, \"T-strategy\":Strategies, \"CT-strategy\":CTStrategies, \"Winner\":Winner, \"ID\":Game_id})\n",
        "    df_strategy = df_strategy.append(df_strategy_temp)\n"
      ],
      "metadata": {
        "id": "cCw05XlbojdV"
      },
      "execution_count": null,
      "outputs": []
    },
    {
      "cell_type": "markdown",
      "source": [
        "#Strategiefindung - Datenaufbereitung"
      ],
      "metadata": {
        "id": "7Njmu-5ZKmfQ"
      }
    },
    {
      "cell_type": "code",
      "source": [
        "#Aufteilung des großen DF in 9 kleine \n",
        "#Werte der T-Seite\n",
        "\n",
        "pi_SS = df_strategy[(df_strategy['T-strategy'] == \"Split\") & (df_strategy['CT-strategy'] == \"Split\") & (df_strategy['Winner'] == \"T\")]\n",
        "pi_SA = df_strategy[(df_strategy['T-strategy'] == \"Split\") & (df_strategy['CT-strategy'] == \"FullA\") & (df_strategy['Winner'] == \"T\")]\n",
        "pi_SB = df_strategy[(df_strategy['T-strategy'] == \"Split\") & (df_strategy['CT-strategy'] == \"FullB\") & (df_strategy['Winner'] == \"T\")]\n",
        "pi_AS = df_strategy[(df_strategy['T-strategy'] == \"RushA\") & (df_strategy['CT-strategy'] == \"Split\") & (df_strategy['Winner'] == \"T\")]\n",
        "pi_AA = df_strategy[(df_strategy['T-strategy'] == \"RushA\") & (df_strategy['CT-strategy'] == \"FullA\") & (df_strategy['Winner'] == \"T\")]\n",
        "pi_AB = df_strategy[(df_strategy['T-strategy'] == \"RushA\") & (df_strategy['CT-strategy'] == \"FullB\") & (df_strategy['Winner'] == \"T\")]\n",
        "pi_BS = df_strategy[(df_strategy['T-strategy'] == \"RushB\") & (df_strategy['CT-strategy'] == \"Split\") & (df_strategy['Winner'] == \"T\")]\n",
        "pi_BA = df_strategy[(df_strategy['T-strategy'] == \"RushB\") & (df_strategy['CT-strategy'] == \"FullA\") & (df_strategy['Winner'] == \"T\")]\n",
        "pi_BB = df_strategy[(df_strategy['T-strategy'] == \"RushB\") & (df_strategy['CT-strategy'] == \"FullB\") & (df_strategy['Winner'] == \"T\")]"
      ],
      "metadata": {
        "id": "ht99pW1sOQLF"
      },
      "execution_count": null,
      "outputs": []
    },
    {
      "cell_type": "code",
      "source": [
        "#Werte der CT-Seite \n",
        "\n",
        "CT_pi_SS = df_strategy[(df_strategy['T-strategy'] == \"Split\") & (df_strategy['CT-strategy'] == \"Split\") & (df_strategy['Winner'] == \"CT\")]\n",
        "CT_pi_SA = df_strategy[(df_strategy['T-strategy'] == \"Split\") & (df_strategy['CT-strategy'] == \"FullA\") & (df_strategy['Winner'] == \"CT\")]\n",
        "CT_pi_SB = df_strategy[(df_strategy['T-strategy'] == \"Split\") & (df_strategy['CT-strategy'] == \"FullB\") & (df_strategy['Winner'] == \"CT\")]\n",
        "CT_pi_AS = df_strategy[(df_strategy['T-strategy'] == \"RushA\") & (df_strategy['CT-strategy'] == \"Split\") & (df_strategy['Winner'] == \"CT\")]\n",
        "CT_pi_AA = df_strategy[(df_strategy['T-strategy'] == \"RushA\") & (df_strategy['CT-strategy'] == \"FullA\") & (df_strategy['Winner'] == \"CT\")]\n",
        "CT_pi_AB = df_strategy[(df_strategy['T-strategy'] == \"RushA\") & (df_strategy['CT-strategy'] == \"FullB\") & (df_strategy['Winner'] == \"CT\")]\n",
        "CT_pi_BS = df_strategy[(df_strategy['T-strategy'] == \"RushB\") & (df_strategy['CT-strategy'] == \"Split\") & (df_strategy['Winner'] == \"CT\")]\n",
        "CT_pi_BA = df_strategy[(df_strategy['T-strategy'] == \"RushB\") & (df_strategy['CT-strategy'] == \"FullA\") & (df_strategy['Winner'] == \"CT\")]\n",
        "CT_pi_BB = df_strategy[(df_strategy['T-strategy'] == \"RushB\") & (df_strategy['CT-strategy'] == \"FullB\") & (df_strategy['Winner'] == \"CT\")]"
      ],
      "metadata": {
        "id": "56LqGSKBVnzs"
      },
      "execution_count": null,
      "outputs": []
    },
    {
      "cell_type": "code",
      "source": [
        "#Gesamtzahl der Ereignisse \n",
        "Full_pi_SS = CT_pi_SS.shape[0] + pi_SS.shape[0]\n",
        "Full_pi_SA = CT_pi_SA.shape[0] + pi_SA.shape[0]\n",
        "Full_pi_SB = CT_pi_SB.shape[0] + pi_SB.shape[0]\n",
        "Full_pi_AS = CT_pi_AS.shape[0] + pi_AS.shape[0]\n",
        "Full_pi_AA = CT_pi_AA.shape[0] + pi_AA.shape[0]\n",
        "Full_pi_AB = CT_pi_AB.shape[0] + pi_AB.shape[0]\n",
        "Full_pi_BS = CT_pi_BS.shape[0] + pi_BS.shape[0]\n",
        "Full_pi_BA = CT_pi_BA.shape[0] + pi_BA.shape[0]\n",
        "Full_pi_BB = CT_pi_BB.shape[0] + pi_BB.shape[0]\n"
      ],
      "metadata": {
        "id": "0EU6cBleiKmz"
      },
      "execution_count": null,
      "outputs": []
    },
    {
      "cell_type": "markdown",
      "source": [
        "#Strategiefindung - Tabellen"
      ],
      "metadata": {
        "id": "uCQqrwuSaZYZ"
      }
    },
    {
      "cell_type": "code",
      "source": [
        "headerColor = 'grey'\n",
        "rowEvenColor = 'lightgrey'\n",
        "rowOddColor = 'white'\n",
        "\n",
        "fig = go.Figure(data=[go.Table(\n",
        "  header=dict(\n",
        "    values=['<b> </b>','<b>Split</b>','<b>FullA</b>','<b>FullB</b>','<b>Total</b>'],\n",
        "    line_color='darkslategray',\n",
        "    fill_color=headerColor,\n",
        "    align=['left','center'],\n",
        "    font=dict(color='white', size=12)\n",
        "  ),\n",
        "  cells=dict(\n",
        "    values=[\n",
        "      ['Split', 'RushA', 'RushB', '<b>TOTAL</b>'],\n",
        "      [Full_pi_SS , Full_pi_AS , Full_pi_BS , Full_pi_SS + Full_pi_AS + Full_pi_BS ],\n",
        "      [Full_pi_SA , Full_pi_AA , Full_pi_BA , Full_pi_SA + Full_pi_AA + Full_pi_BA ],\n",
        "      [Full_pi_SB , Full_pi_AB , Full_pi_BB , Full_pi_SB + Full_pi_AB + Full_pi_BB ],\n",
        "      [Full_pi_SS + Full_pi_SA + Full_pi_SB , Full_pi_AS + Full_pi_AA + Full_pi_AB ,\n",
        "       Full_pi_BS + Full_pi_BA + Full_pi_BB , Full_pi_SS + Full_pi_AS + Full_pi_BS  +\n",
        "       Full_pi_SA + Full_pi_AA + Full_pi_BA +\n",
        "       Full_pi_SB + Full_pi_AB + Full_pi_BB ]],\n",
        "    line_color='darkslategray',\n",
        "    # 2-D list of colors for alternating rows\n",
        "    fill_color = [[rowOddColor,rowEvenColor,rowOddColor, rowEvenColor,rowOddColor]*5],\n",
        "    align = ['left', 'center'],\n",
        "    font = dict(color = 'darkslategray', size = 11)\n",
        "    ))\n",
        "])\n",
        "\n",
        "#print(\"Gesamtzahl\")\n",
        "fig.show()"
      ],
      "metadata": {
        "id": "TQx0aiNnjEKv"
      },
      "execution_count": null,
      "outputs": []
    },
    {
      "cell_type": "code",
      "source": [
        "headerColor = 'grey'\n",
        "rowEvenColor = 'lightgrey'\n",
        "rowOddColor = 'white'\n",
        "\n",
        "fig = go.Figure(data=[go.Table(\n",
        "  header=dict(\n",
        "    values=['<b> </b>','<b>Split</b>','<b>FullA</b>','<b>FullB</b>','<b>Total</b>'],\n",
        "    line_color='darkslategray',\n",
        "    fill_color=headerColor,\n",
        "    align=['left','center'],\n",
        "    font=dict(color='white', size=12)\n",
        "  ),\n",
        "  cells=dict(\n",
        "    values=[\n",
        "      ['Split', 'RushA', 'RushB', '<b>TOTAL</b>'],\n",
        "      [pi_SS.shape[0]/Full_pi_SS, pi_AS.shape[0]/Full_pi_AS, pi_BS.shape[0]/Full_pi_BS, pi_SS.shape[0]+ pi_AS.shape[0]+ pi_BS.shape[0]],\n",
        "      [pi_SA.shape[0]/Full_pi_SA, pi_AA.shape[0]/Full_pi_AA, pi_BA.shape[0]/Full_pi_BA, pi_SA.shape[0]+ pi_AA.shape[0]+ pi_BA.shape[0]],\n",
        "      [pi_SB.shape[0]/Full_pi_SB, pi_AB.shape[0]/Full_pi_AB, pi_BB.shape[0]/Full_pi_BB, pi_SB.shape[0]+ pi_AB.shape[0]+ pi_BB.shape[0]],\n",
        "      [pi_SS.shape[0]+ pi_SA.shape[0]+ pi_SB.shape[0], pi_AS.shape[0]+ pi_AA.shape[0]+ pi_AB.shape[0],\n",
        "       pi_BS.shape[0]+ pi_BA.shape[0]+ pi_BB.shape[0], pi_SS.shape[0]+ pi_AS.shape[0]+ pi_BS.shape[0] +\n",
        "       pi_SA.shape[0]+ pi_AA.shape[0]+ pi_BA.shape[0]+\n",
        "       pi_SB.shape[0]+ pi_AB.shape[0]+ pi_BB.shape[0]]],\n",
        "    line_color='darkslategray',\n",
        "    # 2-D list of colors for alternating rows\n",
        "    fill_color = [[rowOddColor,rowEvenColor,rowOddColor, rowEvenColor,rowOddColor]*5],\n",
        "    align = ['left', 'center'],\n",
        "    font = dict(color = 'darkslategray', size = 11)\n",
        "    ))\n",
        "])\n",
        "\n",
        "#print(\"SiegWKEIT der T Seite\")\n",
        "fig.show()"
      ],
      "metadata": {
        "id": "ZjJqacNdyyWC"
      },
      "execution_count": null,
      "outputs": []
    },
    {
      "cell_type": "code",
      "source": [
        "headerColor = 'grey'\n",
        "rowEvenColor = 'lightgrey'\n",
        "rowOddColor = 'white'\n",
        "\n",
        "fig = go.Figure(data=[go.Table(\n",
        "  header=dict(\n",
        "    values=['<b> </b>','<b>Split</b>','<b>FullA</b>','<b>FullB</b>','<b>Total</b>'],\n",
        "    line_color='darkslategray',\n",
        "    fill_color=headerColor,\n",
        "    align=['left','center'],\n",
        "    font=dict(color='white', size=12)\n",
        "  ),\n",
        "  cells=dict(\n",
        "    values=[\n",
        "      ['Split', 'RushA', 'RushB', '<b>TOTAL</b>'],\n",
        "      [CT_pi_SS.shape[0], CT_pi_AS.shape[0], CT_pi_BS.shape[0], CT_pi_SS.shape[0]+ CT_pi_AS.shape[0]+ CT_pi_BS.shape[0]],\n",
        "      [CT_pi_SA.shape[0], CT_pi_AA.shape[0], CT_pi_BA.shape[0], CT_pi_SA.shape[0]+ CT_pi_AA.shape[0]+ CT_pi_BA.shape[0]],\n",
        "      [CT_pi_SB.shape[0], CT_pi_AB.shape[0], CT_pi_BB.shape[0], CT_pi_SB.shape[0]+ CT_pi_AB.shape[0]+ CT_pi_BB.shape[0]],\n",
        "      [CT_pi_SS.shape[0]+ CT_pi_SA.shape[0]+ CT_pi_SB.shape[0], CT_pi_AS.shape[0]+ CT_pi_AA.shape[0]+ CT_pi_AB.shape[0],\n",
        "       CT_pi_BS.shape[0]+ CT_pi_BA.shape[0]+ CT_pi_BB.shape[0], CT_pi_SS.shape[0]+ CT_pi_AS.shape[0]+ CT_pi_BS.shape[0] +\n",
        "       CT_pi_SA.shape[0]+ CT_pi_AA.shape[0]+ CT_pi_BA.shape[0]+\n",
        "       CT_pi_SB.shape[0]+ CT_pi_AB.shape[0]+ CT_pi_BB.shape[0]]],\n",
        "    line_color='darkslategray',\n",
        "    # 2-D list of colors for alternating rows\n",
        "    fill_color = [[rowOddColor,rowEvenColor,rowOddColor, rowEvenColor,rowOddColor]*5],\n",
        "    align = ['left', 'center'],\n",
        "    font = dict(color = 'darkslategray', size = 11)\n",
        "    ))\n",
        "])\n",
        "\n",
        "#print(\"Siege der CT Seite\")\n",
        "fig.show()"
      ],
      "metadata": {
        "id": "FZOAkFE4WFYM"
      },
      "execution_count": null,
      "outputs": []
    },
    {
      "cell_type": "code",
      "source": [
        "headerColor = 'grey'\n",
        "rowEvenColor = 'lightgrey'\n",
        "rowOddColor = 'white'\n",
        "\n",
        "fig = go.Figure(data=[go.Table(\n",
        "  header=dict(\n",
        "    values=['<b> </b>','<b>Split</b>','<b>FullA</b>','<b>FullB</b>','<b>Total</b>'],\n",
        "    line_color='darkslategray',\n",
        "    fill_color=headerColor,\n",
        "    align=['left','center'],\n",
        "    font=dict(color='white', size=12)\n",
        "  ),\n",
        "  cells=dict(\n",
        "    values=[\n",
        "      ['Split', 'RushA', 'RushB', '<b>TOTAL</b>'],\n",
        "      [CT_pi_SS.shape[0]/Full_pi_SS, CT_pi_AS.shape[0]/Full_pi_AS, CT_pi_BS.shape[0]/Full_pi_BS, (CT_pi_SS.shape[0]+ CT_pi_AS.shape[0]+ CT_pi_BS.shape[0])/df_strategy.shape[0]],\n",
        "      [CT_pi_SA.shape[0]/Full_pi_SA, CT_pi_AA.shape[0]/Full_pi_AA, CT_pi_BA.shape[0]/Full_pi_BA, (CT_pi_SA.shape[0]+ CT_pi_AA.shape[0]+ CT_pi_BA.shape[0])/df_strategy.shape[0]],\n",
        "      [CT_pi_SB.shape[0]/Full_pi_SB, CT_pi_AB.shape[0]/Full_pi_AB, CT_pi_BB.shape[0]/Full_pi_BB, (CT_pi_SB.shape[0]+ CT_pi_AB.shape[0]+ CT_pi_BB.shape[0])/df_strategy.shape[0]],\n",
        "      [(CT_pi_SS.shape[0]+ CT_pi_SA.shape[0]+ CT_pi_SB.shape[0])/df_strategy.shape[0], (CT_pi_AS.shape[0]+ CT_pi_AA.shape[0]+ CT_pi_AB.shape[0])/df_strategy.shape[0],\n",
        "       (CT_pi_BS.shape[0]+ CT_pi_BA.shape[0]+ CT_pi_BB.shape[0])/df_strategy.shape[0], (CT_pi_SS.shape[0]+ CT_pi_AS.shape[0]+ CT_pi_BS.shape[0] +\n",
        "       CT_pi_SA.shape[0]+ CT_pi_AA.shape[0]+ CT_pi_BA.shape[0]+\n",
        "       CT_pi_SB.shape[0]+ CT_pi_AB.shape[0]+ CT_pi_BB.shape[0])/df_strategy.shape[0]]],\n",
        "    line_color='darkslategray',\n",
        "    # 2-D list of colors for alternating rows\n",
        "    fill_color = [[rowOddColor,rowEvenColor,rowOddColor, rowEvenColor,rowOddColor]*5],\n",
        "    align = ['left', 'center'],\n",
        "    font = dict(color = 'darkslategray', size = 11)\n",
        "    ))\n",
        "])\n",
        "\n",
        "#print(\"SiegWKEIT der CT Seite\")\n",
        "fig.show()"
      ],
      "metadata": {
        "id": "o_yQgYeOX12n"
      },
      "execution_count": null,
      "outputs": []
    },
    {
      "cell_type": "markdown",
      "source": [
        "#Strategiefindung - Nash"
      ],
      "metadata": {
        "id": "F5HZj8tuTvcV"
      }
    },
    {
      "cell_type": "code",
      "source": [
        "\n",
        "A = np.array([[pi_SS.shape[0]/Full_pi_SS, pi_SA.shape[0]/Full_pi_SA, pi_SB.shape[0]/Full_pi_SB], \n",
        "              [pi_AS.shape[0]/Full_pi_AS, pi_AA.shape[0]/Full_pi_AA, pi_AB.shape[0]/Full_pi_AB],\n",
        "              [pi_BS.shape[0]/Full_pi_BS, pi_BA.shape[0]/Full_pi_BA, pi_BB.shape[0]/Full_pi_BB]])\n",
        "\n",
        "B = np.array([[CT_pi_SS.shape[0]/Full_pi_SS, CT_pi_SA.shape[0]/Full_pi_SA, CT_pi_SB.shape[0]/Full_pi_SB], \n",
        "              [CT_pi_AS.shape[0]/Full_pi_AS, CT_pi_AA.shape[0]/Full_pi_AA, CT_pi_AB.shape[0]/Full_pi_AB],\n",
        "              [CT_pi_BS.shape[0]/Full_pi_BS, CT_pi_BA.shape[0]/Full_pi_BA, CT_pi_BB.shape[0]/Full_pi_BB]])\n",
        "\n",
        "CSGO = nash.Game(A, B)\n",
        "CSGO"
      ],
      "metadata": {
        "id": "Molov4rnTw7v"
      },
      "execution_count": null,
      "outputs": []
    },
    {
      "cell_type": "code",
      "source": [
        "equilibria = CSGO.support_enumeration()\n",
        "for eq in equilibria:\n",
        "    print(eq)"
      ],
      "metadata": {
        "id": "QfbRtrTrXjgV"
      },
      "execution_count": null,
      "outputs": []
    }
  ]
}