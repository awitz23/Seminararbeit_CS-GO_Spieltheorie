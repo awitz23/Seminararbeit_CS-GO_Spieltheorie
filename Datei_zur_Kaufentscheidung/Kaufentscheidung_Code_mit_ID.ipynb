{
  "nbformat": 4,
  "nbformat_minor": 0,
  "metadata": {
    "colab": {
      "name": "awpy_Colab.ipynb",
      "provenance": [],
      "collapsed_sections": [],
      "include_colab_link": true
    },
    "kernelspec": {
      "name": "python3",
      "display_name": "Python 3"
    },
    "language_info": {
      "name": "python"
    }
  },
  "cells": [
    {
      "cell_type": "markdown",
      "metadata": {
        "id": "view-in-github",
        "colab_type": "text"
      },
      "source": [
        "<a href=\"https://colab.research.google.com/github/awitz23/Seminararbeit_CS-GO_Spieltheorie/blob/main/Datei_zur_Kaufentscheidung/Kaufentscheidung_Code_mit_ID.ipynb\" target=\"_parent\"><img src=\"https://colab.research.google.com/assets/colab-badge.svg\" alt=\"Open In Colab\"/></a>"
      ]
    },
    {
      "cell_type": "markdown",
      "source": [
        "#Installationen"
      ],
      "metadata": {
        "id": "0bB6IyTcadMP"
      }
    },
    {
      "cell_type": "code",
      "source": [
        "pip install Pillow==9.0.0"
      ],
      "metadata": {
        "id": "dKND3OLDw0ck"
      },
      "execution_count": null,
      "outputs": []
    },
    {
      "cell_type": "code",
      "metadata": {
        "id": "WeKqfFet03GZ"
      },
      "source": [
        "#shell notwendig, da awpy golang benötigt\n",
        "\n",
        "%%shell\n",
        "add-apt-repository -y ppa:longsleep/golang-backports\n",
        "apt -y update\n",
        "apt -y install golang-go\n",
        "\n",
        "pip install awpy\n"
      ],
      "execution_count": null,
      "outputs": []
    },
    {
      "cell_type": "code",
      "source": [
        "!pip install nashpy\n",
        "import nashpy as nash\n",
        "\n",
        "import pandas as pd\n",
        "import numpy as np\n",
        "from awpy import *\n",
        "from awpy.data import NAV_CSV\n",
        "from google.colab import drive\n",
        "from google.colab import files\n",
        "drive.mount('/content/drive')\n",
        "import plotly.graph_objects as go\n",
        "import pandas as pd\n",
        "import os\n",
        "dir = '/content/drive/MyDrive/2022_Dust2'"
      ],
      "metadata": {
        "id": "7I1rGINUdoab"
      },
      "execution_count": null,
      "outputs": []
    },
    {
      "cell_type": "code",
      "source": [
        "#Initialisiere ein leeres Dataframe für spätere Nutzung\n",
        "df_strategy=pd.DataFrame()\n",
        "\n",
        "#Lege Pfad fest, aus dem die Dateien gelesen werden\n",
        "dir = '/content/drive/MyDrive/2022_Dust2'"
      ],
      "metadata": {
        "id": "sdCx1UMPRhWb"
      },
      "execution_count": null,
      "outputs": []
    },
    {
      "cell_type": "markdown",
      "source": [
        "\n",
        "#Kaufentscheidung - Parsing"
      ],
      "metadata": {
        "id": "4PsVf7sOa3QZ"
      }
    },
    {
      "cell_type": "code",
      "source": [
        "#Parsing\n",
        "\n",
        "#Initialisiere Listen\n",
        "CT_Buy = []\n",
        "T_Buy = []\n",
        "Winner_list = []\n",
        "GameRound_list = []\n",
        "Game_id =[]\n",
        "\n",
        "#Gehe den vorher definierten Pfad durch\n",
        "for file in os.listdir(dir):\n",
        "  #gehe für jedes Element, das auf .dem endet folgende Befehle durch\n",
        "  if file.endswith(\".dem\"):\n",
        "    \n",
        "    #Starte das Einlesen und speichert die Daten als DataFrame \n",
        "    p = DemoParser(demofile=\"/content/drive/MyDrive/CS:GO_Dust2/2018_Dust2/\"+file, parse_rate=128)\n",
        "    df = p.parse(return_type=\"df\")\n",
        "    id = ntpath.basename(\"/content/drive/MyDrive/CS:GO_Dust2/2018_Dust2/\"+file)\n",
        "    year = \"18\"\n",
        "    #erstelle temporäre Liste für eine Datei\n",
        "    #hat für jede Datei andere Werte \n",
        "    CT_buy_temp = df[\"rounds\"][\"ctBuyType\"].tolist()\n",
        "    T_buy_temp = df[\"rounds\"][\"tBuyType\"].tolist()\n",
        "    Winner_list_temp = df[\"rounds\"][\"winningSide\"].tolist()\n",
        "    Gameround_list_temp = df[\"rounds\"][\"roundNum\"].tolist()\n",
        "    Game_id_temp = []\n",
        "    i=1\n",
        "    while i <= df[\"playerFrames\"][\"roundNum\"].max():\n",
        "      Game_id_temp.append(id+year)\n",
        "      i=i+1\n",
        "    #Speichere die temporären Listen in einer gesamten Liste\n",
        "    CT_Buy.extend(CT_buy_temp)\n",
        "    T_Buy.extend(T_buy_temp)\n",
        "    Winner_list.extend(Winner_list_temp)\n",
        "    GameRound_list.extend(Gameround_list_temp)\n",
        "    Game_id.extend(Game_id_temp)\n",
        "    #Wandle die Daten in ein DataFrame um\n",
        "    Buy_Dec = pd.DataFrame({'Round':GameRound_list, \"T-Buy\":T_Buy, \"CT-Buy\":CT_Buy, \"Winner\":Winner_list, \"ID\":Game_id})"
      ],
      "metadata": {
        "id": "up-wgGX9KI3C"
      },
      "execution_count": null,
      "outputs": []
    },
    {
      "cell_type": "markdown",
      "source": [
        "#Kaufentscheidung - Prepocessing"
      ],
      "metadata": {
        "id": "N9v0mJeCTHCK"
      }
    },
    {
      "cell_type": "code",
      "source": [
        "#Aufteilung des großen DF in 16 kleine\n",
        "#Werte der T-Seite\n",
        "\n",
        "pi_F_B_F_B = Buy_Dec[(Buy_Dec['T-Buy'] == \"Full Buy\") & (Buy_Dec['CT-Buy'] == \"Full Buy\") & (Buy_Dec['Winner'] == \"T\")]\n",
        "pi_F_B_S_B = Buy_Dec[(Buy_Dec['T-Buy'] == \"Full Buy\") & (Buy_Dec['CT-Buy'] == \"Semi Buy\") & (Buy_Dec['Winner'] == \"T\")]\n",
        "pi_F_B_F_E = Buy_Dec[(Buy_Dec['T-Buy'] == \"Full Buy\") & (Buy_Dec['CT-Buy'] == \"Full Eco\") & (Buy_Dec['Winner'] == \"T\")]\n",
        "pi_F_B_S_E = Buy_Dec[(Buy_Dec['T-Buy'] == \"Full Buy\") & (Buy_Dec['CT-Buy'] == \"Semi Eco\") & (Buy_Dec['Winner'] == \"T\")]\n",
        "pi_S_B_F_B = Buy_Dec[(Buy_Dec['T-Buy'] == \"Semi Buy\") & (Buy_Dec['CT-Buy'] == \"Full Buy\") & (Buy_Dec['Winner'] == \"T\")]\n",
        "pi_S_B_S_B = Buy_Dec[(Buy_Dec['T-Buy'] == \"Semi Buy\") & (Buy_Dec['CT-Buy'] == \"Semi Buy\") & (Buy_Dec['Winner'] == \"T\")]\n",
        "pi_S_B_F_E = Buy_Dec[(Buy_Dec['T-Buy'] == \"Semi Buy\") & (Buy_Dec['CT-Buy'] == \"Full Eco\") & (Buy_Dec['Winner'] == \"T\")]\n",
        "pi_S_B_S_E = Buy_Dec[(Buy_Dec['T-Buy'] == \"Semi Buy\") & (Buy_Dec['CT-Buy'] == \"Semi Eco\") & (Buy_Dec['Winner'] == \"T\")]\n",
        "pi_F_E_F_B = Buy_Dec[(Buy_Dec['T-Buy'] == \"Full Eco\") & (Buy_Dec['CT-Buy'] == \"Full Buy\") & (Buy_Dec['Winner'] == \"T\")]\n",
        "pi_F_E_S_B = Buy_Dec[(Buy_Dec['T-Buy'] == \"Full Eco\") & (Buy_Dec['CT-Buy'] == \"Semi Buy\") & (Buy_Dec['Winner'] == \"T\")]\n",
        "pi_F_E_F_E = Buy_Dec[(Buy_Dec['T-Buy'] == \"Full Eco\") & (Buy_Dec['CT-Buy'] == \"Full Eco\") & (Buy_Dec['Winner'] == \"T\")]\n",
        "pi_F_E_S_E = Buy_Dec[(Buy_Dec['T-Buy'] == \"Full Eco\") & (Buy_Dec['CT-Buy'] == \"Semi Eco\") & (Buy_Dec['Winner'] == \"T\")]\n",
        "pi_S_E_F_B = Buy_Dec[(Buy_Dec['T-Buy'] == \"Semi Eco\") & (Buy_Dec['CT-Buy'] == \"Full Buy\") & (Buy_Dec['Winner'] == \"T\")]\n",
        "pi_S_E_S_B = Buy_Dec[(Buy_Dec['T-Buy'] == \"Semi Eco\") & (Buy_Dec['CT-Buy'] == \"Semi Buy\") & (Buy_Dec['Winner'] == \"T\")]\n",
        "pi_S_E_F_E = Buy_Dec[(Buy_Dec['T-Buy'] == \"Semi Eco\") & (Buy_Dec['CT-Buy'] == \"Full Eco\") & (Buy_Dec['Winner'] == \"T\")]\n",
        "pi_S_E_S_E = Buy_Dec[(Buy_Dec['T-Buy'] == \"Semi Eco\") & (Buy_Dec['CT-Buy'] == \"Semi Eco\") & (Buy_Dec['Winner'] == \"T\")]"
      ],
      "metadata": {
        "id": "LDjGcq4cX_ln"
      },
      "execution_count": null,
      "outputs": []
    },
    {
      "cell_type": "code",
      "source": [
        "#Werte der CT-Seite\n",
        "CT_pi_F_B_F_B = Buy_Dec[(Buy_Dec['T-Buy'] == \"Full Buy\") & (Buy_Dec['CT-Buy'] == \"Full Buy\") & (Buy_Dec['Winner'] == \"CT\")]\n",
        "CT_pi_F_B_S_B = Buy_Dec[(Buy_Dec['T-Buy'] == \"Full Buy\") & (Buy_Dec['CT-Buy'] == \"Semi Buy\") & (Buy_Dec['Winner'] == \"CT\")]\n",
        "CT_pi_F_B_F_E = Buy_Dec[(Buy_Dec['T-Buy'] == \"Full Buy\") & (Buy_Dec['CT-Buy'] == \"Full Eco\") & (Buy_Dec['Winner'] == \"CT\")]\n",
        "CT_pi_F_B_S_E = Buy_Dec[(Buy_Dec['T-Buy'] == \"Full Buy\") & (Buy_Dec['CT-Buy'] == \"Semi Eco\") & (Buy_Dec['Winner'] == \"CT\")]\n",
        "CT_pi_S_B_F_B = Buy_Dec[(Buy_Dec['T-Buy'] == \"Semi Buy\") & (Buy_Dec['CT-Buy'] == \"Full Buy\") & (Buy_Dec['Winner'] == \"CT\")]\n",
        "CT_pi_S_B_S_B = Buy_Dec[(Buy_Dec['T-Buy'] == \"Semi Buy\") & (Buy_Dec['CT-Buy'] == \"Semi Buy\") & (Buy_Dec['Winner'] == \"CT\")]\n",
        "CT_pi_S_B_F_E = Buy_Dec[(Buy_Dec['T-Buy'] == \"Semi Buy\") & (Buy_Dec['CT-Buy'] == \"Full Eco\") & (Buy_Dec['Winner'] == \"CT\")]\n",
        "CT_pi_S_B_S_E = Buy_Dec[(Buy_Dec['T-Buy'] == \"Semi Buy\") & (Buy_Dec['CT-Buy'] == \"Semi Eco\") & (Buy_Dec['Winner'] == \"CT\")]\n",
        "CT_pi_F_E_F_B = Buy_Dec[(Buy_Dec['T-Buy'] == \"Full Eco\") & (Buy_Dec['CT-Buy'] == \"Full Buy\") & (Buy_Dec['Winner'] == \"CT\")]\n",
        "CT_pi_F_E_S_B = Buy_Dec[(Buy_Dec['T-Buy'] == \"Full Eco\") & (Buy_Dec['CT-Buy'] == \"Semi Buy\") & (Buy_Dec['Winner'] == \"CT\")]\n",
        "CT_pi_F_E_F_E = Buy_Dec[(Buy_Dec['T-Buy'] == \"Full Eco\") & (Buy_Dec['CT-Buy'] == \"Full Eco\") & (Buy_Dec['Winner'] == \"CT\")]\n",
        "CT_pi_F_E_S_E = Buy_Dec[(Buy_Dec['T-Buy'] == \"Full Eco\") & (Buy_Dec['CT-Buy'] == \"Semi Eco\") & (Buy_Dec['Winner'] == \"CT\")]\n",
        "CT_pi_S_E_F_B = Buy_Dec[(Buy_Dec['T-Buy'] == \"Semi Eco\") & (Buy_Dec['CT-Buy'] == \"Full Buy\") & (Buy_Dec['Winner'] == \"CT\")]\n",
        "CT_pi_S_E_S_B = Buy_Dec[(Buy_Dec['T-Buy'] == \"Semi Eco\") & (Buy_Dec['CT-Buy'] == \"Semi Buy\") & (Buy_Dec['Winner'] == \"CT\")]\n",
        "CT_pi_S_E_F_E = Buy_Dec[(Buy_Dec['T-Buy'] == \"Semi Eco\") & (Buy_Dec['CT-Buy'] == \"Full Eco\") & (Buy_Dec['Winner'] == \"CT\")]\n",
        "CT_pi_S_E_S_E = Buy_Dec[(Buy_Dec['T-Buy'] == \"Semi Eco\") & (Buy_Dec['CT-Buy'] == \"Semi Eco\") & (Buy_Dec['Winner'] == \"CT\")]"
      ],
      "metadata": {
        "id": "hzeAgKOaX_71"
      },
      "execution_count": null,
      "outputs": []
    },
    {
      "cell_type": "code",
      "source": [
        "#Gesamtzahl der Ereignisse\n",
        "\n",
        "full_pi_F_B_F_B = pi_F_B_F_B.shape[0] + CT_pi_F_B_F_B.shape[0]\n",
        "full_pi_F_B_S_B = pi_F_B_S_B.shape[0] + CT_pi_F_B_S_B.shape[0]\n",
        "full_pi_F_B_F_E = pi_F_B_F_E.shape[0] + CT_pi_F_B_F_E.shape[0]\n",
        "full_pi_F_B_S_E = pi_F_B_S_E.shape[0] + CT_pi_F_B_S_E.shape[0]\n",
        "full_pi_S_B_F_B = pi_S_B_F_B.shape[0] + CT_pi_S_B_F_B.shape[0]\n",
        "full_pi_S_B_S_B = pi_S_B_S_B.shape[0] + CT_pi_S_B_S_B.shape[0]\n",
        "full_pi_S_B_F_E = pi_S_B_F_E.shape[0] + CT_pi_S_B_F_E.shape[0]\n",
        "full_pi_S_B_S_E = pi_S_B_S_E.shape[0] + CT_pi_S_B_S_E.shape[0]\n",
        "full_pi_F_E_F_B = pi_F_E_F_B.shape[0] + CT_pi_F_E_F_B.shape[0]\n",
        "full_pi_F_E_S_B = pi_F_E_S_B.shape[0] + CT_pi_F_E_S_B.shape[0]\n",
        "full_pi_F_E_F_E = pi_F_E_F_E.shape[0] + CT_pi_F_E_F_E.shape[0]\n",
        "full_pi_F_E_S_E = pi_F_E_S_E.shape[0] + CT_pi_F_E_S_E.shape[0]\n",
        "full_pi_S_E_F_B = pi_S_E_F_B.shape[0] + CT_pi_S_E_F_B.shape[0]\n",
        "full_pi_S_E_S_B = pi_S_E_S_B.shape[0] + CT_pi_S_E_S_B.shape[0]\n",
        "full_pi_S_E_F_E = pi_S_E_F_E.shape[0] + CT_pi_S_E_F_E.shape[0]\n",
        "full_pi_S_E_S_E = pi_S_E_S_E.shape[0] + CT_pi_S_E_S_E.shape[0]\n",
        "\n",
        "\n",
        "#Setze alle 0 Werte auf 1, damit Berechnung der Gewinnwahrscheinlichkeit nicht auf Fehler läuft\n",
        "#Wird nur zum dividieren benötigt\n",
        "\n",
        "if full_pi_F_B_F_B == 0:\n",
        "  full_pi_F_B_F_B = 1\n",
        "else:\n",
        "  full_pi_F_B_F_B = full_pi_F_B_F_B\n",
        "\n",
        "if full_pi_F_B_S_B == 0:\n",
        "  full_pi_F_B_S_B = 1\n",
        "else:\n",
        "  full_pi_F_B_S_B = full_pi_F_B_S_B\n",
        "\n",
        "if full_pi_F_B_F_E == 0:\n",
        "  full_pi_F_B_F_E = 1\n",
        "else:\n",
        "  full_pi_F_B_F_E = full_pi_F_B_F_E\n",
        "\n",
        "if full_pi_F_B_S_E == 0:\n",
        "  full_pi_F_B_S_E = 1\n",
        "else:\n",
        "  full_pi_F_B_S_E = full_pi_F_B_S_E\n",
        "\n",
        "if full_pi_S_B_F_B == 0:\n",
        "  full_pi_S_B_F_B = 1\n",
        "else:\n",
        "  full_pi_S_B_F_B = full_pi_S_B_F_B\n",
        "\n",
        "if full_pi_S_B_S_B == 0:\n",
        "  full_pi_S_B_S_B = 1\n",
        "else:\n",
        "  full_pi_S_B_S_B = full_pi_S_B_S_B\n",
        "\n",
        "if full_pi_S_B_F_E == 0:\n",
        "  full_pi_S_B_F_E = 1\n",
        "else:\n",
        "  full_pi_S_B_F_E = full_pi_S_B_F_E\n",
        "\n",
        "if full_pi_S_B_S_E == 0:\n",
        "  full_pi_S_B_S_E = 1\n",
        "else:\n",
        "  full_pi_S_B_S_E = full_pi_S_B_S_E\n",
        "\n",
        "if full_pi_F_E_F_B == 0:\n",
        "  full_pi_F_E_F_B = 1\n",
        "else:\n",
        "  full_pi_F_E_F_B = full_pi_F_E_F_B\n",
        "\n",
        "if full_pi_F_E_S_B == 0:\n",
        "  full_pi_F_E_S_B = 1\n",
        "else:\n",
        "  full_pi_F_E_S_B = full_pi_F_E_S_B\n",
        "\n",
        "if full_pi_F_E_F_E == 0:\n",
        "  full_pi_F_E_F_E = 1\n",
        "else:\n",
        "  full_pi_F_E_F_E = full_pi_F_E_F_E\n",
        "\n",
        "if full_pi_F_E_S_E == 0:\n",
        "  full_pi_F_E_S_E = 1\n",
        "else:\n",
        "  full_pi_F_E_S_E = full_pi_F_E_S_E\n",
        "\n",
        "if full_pi_S_E_F_B == 0:\n",
        "  full_pi_S_E_F_B = 1\n",
        "else:\n",
        "  full_pi_S_E_F_B = full_pi_S_E_F_B\n",
        "\n",
        "if full_pi_S_E_S_B == 0:\n",
        "  full_pi_S_E_S_B = 1\n",
        "else:\n",
        "  full_pi_S_E_S_B = full_pi_S_E_S_B\n",
        "\n",
        "if full_pi_S_E_F_E == 0:\n",
        "  full_pi_S_E_F_E = 1\n",
        "else:\n",
        "  full_pi_S_E_F_E = full_pi_S_E_F_E\n",
        "\n",
        "if full_pi_S_E_S_E == 0:\n",
        "  full_pi_S_E_S_E = 1\n",
        "else:\n",
        "  full_pi_S_E_S_E = full_pi_S_E_S_E"
      ],
      "metadata": {
        "id": "KZaftjNcjJgm"
      },
      "execution_count": null,
      "outputs": []
    },
    {
      "cell_type": "markdown",
      "source": [
        "#Kaufentscheidung - Tabellen"
      ],
      "metadata": {
        "id": "qqHBnmocpqYk"
      }
    },
    {
      "cell_type": "code",
      "source": [
        "headerColor = 'grey'\n",
        "rowEvenColor = 'lightgrey'\n",
        "rowOddColor = 'white'\n",
        "\n",
        "fig = go.Figure(data=[go.Table(\n",
        "  header=dict(\n",
        "    values=['<b> </b>','<b>Full Buy</b>','<b>Semi Buy</b>','<b>Full Eco</b>','<b>Semi Eco</b>'],\n",
        "    line_color='darkslategray',\n",
        "    fill_color=headerColor,\n",
        "    align=['left','center'],\n",
        "    font=dict(color='white', size=12)\n",
        "  ),\n",
        "  cells=dict(\n",
        "    values=[\n",
        "      ['Full Buy', 'Semi Buy', 'Full Eco', 'Semi Eco'],\n",
        "      [pi_F_B_F_B.shape[0], pi_S_B_F_B.shape[0], pi_F_E_F_B.shape[0], pi_S_E_F_B.shape[0]],\n",
        "      [pi_F_B_S_B.shape[0], pi_S_B_S_B.shape[0], pi_F_E_S_B.shape[0], pi_S_E_S_B.shape[0]],\n",
        "      [pi_F_B_F_E.shape[0], pi_S_B_F_E.shape[0], pi_F_E_F_E.shape[0], pi_S_E_F_E.shape[0]],\n",
        "      [pi_F_B_S_E.shape[0], pi_S_B_S_E.shape[0], pi_F_E_S_E.shape[0], pi_S_E_S_E.shape[0]]],\n",
        "    line_color='darkslategray',\n",
        "    # 2-D list of colors for alternating rows\n",
        "    fill_color = [[rowOddColor,rowEvenColor,rowOddColor, rowEvenColor,rowOddColor]*5],\n",
        "    align = ['left', 'center'],\n",
        "    font = dict(color = 'darkslategray', size = 11)\n",
        "    ))\n",
        "])\n",
        "\n",
        "print(\"Siege der T Seite\")\n",
        "fig.show()"
      ],
      "metadata": {
        "id": "fQ3fyS1dKWxz",
        "outputId": "f16a3827-139d-44b8-8482-52352fdc9e5f",
        "colab": {
          "base_uri": "https://localhost:8080/",
          "height": 560
        }
      },
      "execution_count": null,
      "outputs": [
        {
          "output_type": "stream",
          "name": "stdout",
          "text": [
            "Siege der T Seite\n"
          ]
        },
        {
          "output_type": "display_data",
          "data": {
            "text/html": [
              "<html>\n",
              "<head><meta charset=\"utf-8\" /></head>\n",
              "<body>\n",
              "    <div>            <script src=\"https://cdnjs.cloudflare.com/ajax/libs/mathjax/2.7.5/MathJax.js?config=TeX-AMS-MML_SVG\"></script><script type=\"text/javascript\">if (window.MathJax) {MathJax.Hub.Config({SVG: {font: \"STIX-Web\"}});}</script>                <script type=\"text/javascript\">window.PlotlyConfig = {MathJaxConfig: 'local'};</script>\n",
              "        <script src=\"https://cdn.plot.ly/plotly-2.8.3.min.js\"></script>                <div id=\"5f14474e-4a5f-4425-a900-9f5739e02f6e\" class=\"plotly-graph-div\" style=\"height:525px; width:100%;\"></div>            <script type=\"text/javascript\">                                    window.PLOTLYENV=window.PLOTLYENV || {};                                    if (document.getElementById(\"5f14474e-4a5f-4425-a900-9f5739e02f6e\")) {                    Plotly.newPlot(                        \"5f14474e-4a5f-4425-a900-9f5739e02f6e\",                        [{\"cells\":{\"align\":[\"left\",\"center\"],\"fill\":{\"color\":[[\"white\",\"lightgrey\",\"white\",\"lightgrey\",\"white\",\"white\",\"lightgrey\",\"white\",\"lightgrey\",\"white\",\"white\",\"lightgrey\",\"white\",\"lightgrey\",\"white\",\"white\",\"lightgrey\",\"white\",\"lightgrey\",\"white\",\"white\",\"lightgrey\",\"white\",\"lightgrey\",\"white\"]]},\"font\":{\"color\":\"darkslategray\",\"size\":11},\"line\":{\"color\":\"darkslategray\"},\"values\":[[\"Full Buy\",\"Semi Buy\",\"Full Eco\",\"Semi Eco\"],[10,3,0,0],[3,1,0,0],[3,0,1,0],[3,0,0,0]]},\"header\":{\"align\":[\"left\",\"center\"],\"fill\":{\"color\":\"grey\"},\"font\":{\"color\":\"white\",\"size\":12},\"line\":{\"color\":\"darkslategray\"},\"values\":[\"<b> </b>\",\"<b>Full Buy</b>\",\"<b>Semi Buy</b>\",\"<b>Full Eco</b>\",\"<b>Semi Eco</b>\"]},\"type\":\"table\"}],                        {\"template\":{\"data\":{\"bar\":[{\"error_x\":{\"color\":\"#2a3f5f\"},\"error_y\":{\"color\":\"#2a3f5f\"},\"marker\":{\"line\":{\"color\":\"#E5ECF6\",\"width\":0.5},\"pattern\":{\"fillmode\":\"overlay\",\"size\":10,\"solidity\":0.2}},\"type\":\"bar\"}],\"barpolar\":[{\"marker\":{\"line\":{\"color\":\"#E5ECF6\",\"width\":0.5},\"pattern\":{\"fillmode\":\"overlay\",\"size\":10,\"solidity\":0.2}},\"type\":\"barpolar\"}],\"carpet\":[{\"aaxis\":{\"endlinecolor\":\"#2a3f5f\",\"gridcolor\":\"white\",\"linecolor\":\"white\",\"minorgridcolor\":\"white\",\"startlinecolor\":\"#2a3f5f\"},\"baxis\":{\"endlinecolor\":\"#2a3f5f\",\"gridcolor\":\"white\",\"linecolor\":\"white\",\"minorgridcolor\":\"white\",\"startlinecolor\":\"#2a3f5f\"},\"type\":\"carpet\"}],\"choropleth\":[{\"colorbar\":{\"outlinewidth\":0,\"ticks\":\"\"},\"type\":\"choropleth\"}],\"contour\":[{\"colorbar\":{\"outlinewidth\":0,\"ticks\":\"\"},\"colorscale\":[[0.0,\"#0d0887\"],[0.1111111111111111,\"#46039f\"],[0.2222222222222222,\"#7201a8\"],[0.3333333333333333,\"#9c179e\"],[0.4444444444444444,\"#bd3786\"],[0.5555555555555556,\"#d8576b\"],[0.6666666666666666,\"#ed7953\"],[0.7777777777777778,\"#fb9f3a\"],[0.8888888888888888,\"#fdca26\"],[1.0,\"#f0f921\"]],\"type\":\"contour\"}],\"contourcarpet\":[{\"colorbar\":{\"outlinewidth\":0,\"ticks\":\"\"},\"type\":\"contourcarpet\"}],\"heatmap\":[{\"colorbar\":{\"outlinewidth\":0,\"ticks\":\"\"},\"colorscale\":[[0.0,\"#0d0887\"],[0.1111111111111111,\"#46039f\"],[0.2222222222222222,\"#7201a8\"],[0.3333333333333333,\"#9c179e\"],[0.4444444444444444,\"#bd3786\"],[0.5555555555555556,\"#d8576b\"],[0.6666666666666666,\"#ed7953\"],[0.7777777777777778,\"#fb9f3a\"],[0.8888888888888888,\"#fdca26\"],[1.0,\"#f0f921\"]],\"type\":\"heatmap\"}],\"heatmapgl\":[{\"colorbar\":{\"outlinewidth\":0,\"ticks\":\"\"},\"colorscale\":[[0.0,\"#0d0887\"],[0.1111111111111111,\"#46039f\"],[0.2222222222222222,\"#7201a8\"],[0.3333333333333333,\"#9c179e\"],[0.4444444444444444,\"#bd3786\"],[0.5555555555555556,\"#d8576b\"],[0.6666666666666666,\"#ed7953\"],[0.7777777777777778,\"#fb9f3a\"],[0.8888888888888888,\"#fdca26\"],[1.0,\"#f0f921\"]],\"type\":\"heatmapgl\"}],\"histogram\":[{\"marker\":{\"pattern\":{\"fillmode\":\"overlay\",\"size\":10,\"solidity\":0.2}},\"type\":\"histogram\"}],\"histogram2d\":[{\"colorbar\":{\"outlinewidth\":0,\"ticks\":\"\"},\"colorscale\":[[0.0,\"#0d0887\"],[0.1111111111111111,\"#46039f\"],[0.2222222222222222,\"#7201a8\"],[0.3333333333333333,\"#9c179e\"],[0.4444444444444444,\"#bd3786\"],[0.5555555555555556,\"#d8576b\"],[0.6666666666666666,\"#ed7953\"],[0.7777777777777778,\"#fb9f3a\"],[0.8888888888888888,\"#fdca26\"],[1.0,\"#f0f921\"]],\"type\":\"histogram2d\"}],\"histogram2dcontour\":[{\"colorbar\":{\"outlinewidth\":0,\"ticks\":\"\"},\"colorscale\":[[0.0,\"#0d0887\"],[0.1111111111111111,\"#46039f\"],[0.2222222222222222,\"#7201a8\"],[0.3333333333333333,\"#9c179e\"],[0.4444444444444444,\"#bd3786\"],[0.5555555555555556,\"#d8576b\"],[0.6666666666666666,\"#ed7953\"],[0.7777777777777778,\"#fb9f3a\"],[0.8888888888888888,\"#fdca26\"],[1.0,\"#f0f921\"]],\"type\":\"histogram2dcontour\"}],\"mesh3d\":[{\"colorbar\":{\"outlinewidth\":0,\"ticks\":\"\"},\"type\":\"mesh3d\"}],\"parcoords\":[{\"line\":{\"colorbar\":{\"outlinewidth\":0,\"ticks\":\"\"}},\"type\":\"parcoords\"}],\"pie\":[{\"automargin\":true,\"type\":\"pie\"}],\"scatter\":[{\"marker\":{\"colorbar\":{\"outlinewidth\":0,\"ticks\":\"\"}},\"type\":\"scatter\"}],\"scatter3d\":[{\"line\":{\"colorbar\":{\"outlinewidth\":0,\"ticks\":\"\"}},\"marker\":{\"colorbar\":{\"outlinewidth\":0,\"ticks\":\"\"}},\"type\":\"scatter3d\"}],\"scattercarpet\":[{\"marker\":{\"colorbar\":{\"outlinewidth\":0,\"ticks\":\"\"}},\"type\":\"scattercarpet\"}],\"scattergeo\":[{\"marker\":{\"colorbar\":{\"outlinewidth\":0,\"ticks\":\"\"}},\"type\":\"scattergeo\"}],\"scattergl\":[{\"marker\":{\"colorbar\":{\"outlinewidth\":0,\"ticks\":\"\"}},\"type\":\"scattergl\"}],\"scattermapbox\":[{\"marker\":{\"colorbar\":{\"outlinewidth\":0,\"ticks\":\"\"}},\"type\":\"scattermapbox\"}],\"scatterpolar\":[{\"marker\":{\"colorbar\":{\"outlinewidth\":0,\"ticks\":\"\"}},\"type\":\"scatterpolar\"}],\"scatterpolargl\":[{\"marker\":{\"colorbar\":{\"outlinewidth\":0,\"ticks\":\"\"}},\"type\":\"scatterpolargl\"}],\"scatterternary\":[{\"marker\":{\"colorbar\":{\"outlinewidth\":0,\"ticks\":\"\"}},\"type\":\"scatterternary\"}],\"surface\":[{\"colorbar\":{\"outlinewidth\":0,\"ticks\":\"\"},\"colorscale\":[[0.0,\"#0d0887\"],[0.1111111111111111,\"#46039f\"],[0.2222222222222222,\"#7201a8\"],[0.3333333333333333,\"#9c179e\"],[0.4444444444444444,\"#bd3786\"],[0.5555555555555556,\"#d8576b\"],[0.6666666666666666,\"#ed7953\"],[0.7777777777777778,\"#fb9f3a\"],[0.8888888888888888,\"#fdca26\"],[1.0,\"#f0f921\"]],\"type\":\"surface\"}],\"table\":[{\"cells\":{\"fill\":{\"color\":\"#EBF0F8\"},\"line\":{\"color\":\"white\"}},\"header\":{\"fill\":{\"color\":\"#C8D4E3\"},\"line\":{\"color\":\"white\"}},\"type\":\"table\"}]},\"layout\":{\"annotationdefaults\":{\"arrowcolor\":\"#2a3f5f\",\"arrowhead\":0,\"arrowwidth\":1},\"autotypenumbers\":\"strict\",\"coloraxis\":{\"colorbar\":{\"outlinewidth\":0,\"ticks\":\"\"}},\"colorscale\":{\"diverging\":[[0,\"#8e0152\"],[0.1,\"#c51b7d\"],[0.2,\"#de77ae\"],[0.3,\"#f1b6da\"],[0.4,\"#fde0ef\"],[0.5,\"#f7f7f7\"],[0.6,\"#e6f5d0\"],[0.7,\"#b8e186\"],[0.8,\"#7fbc41\"],[0.9,\"#4d9221\"],[1,\"#276419\"]],\"sequential\":[[0.0,\"#0d0887\"],[0.1111111111111111,\"#46039f\"],[0.2222222222222222,\"#7201a8\"],[0.3333333333333333,\"#9c179e\"],[0.4444444444444444,\"#bd3786\"],[0.5555555555555556,\"#d8576b\"],[0.6666666666666666,\"#ed7953\"],[0.7777777777777778,\"#fb9f3a\"],[0.8888888888888888,\"#fdca26\"],[1.0,\"#f0f921\"]],\"sequentialminus\":[[0.0,\"#0d0887\"],[0.1111111111111111,\"#46039f\"],[0.2222222222222222,\"#7201a8\"],[0.3333333333333333,\"#9c179e\"],[0.4444444444444444,\"#bd3786\"],[0.5555555555555556,\"#d8576b\"],[0.6666666666666666,\"#ed7953\"],[0.7777777777777778,\"#fb9f3a\"],[0.8888888888888888,\"#fdca26\"],[1.0,\"#f0f921\"]]},\"colorway\":[\"#636efa\",\"#EF553B\",\"#00cc96\",\"#ab63fa\",\"#FFA15A\",\"#19d3f3\",\"#FF6692\",\"#B6E880\",\"#FF97FF\",\"#FECB52\"],\"font\":{\"color\":\"#2a3f5f\"},\"geo\":{\"bgcolor\":\"white\",\"lakecolor\":\"white\",\"landcolor\":\"#E5ECF6\",\"showlakes\":true,\"showland\":true,\"subunitcolor\":\"white\"},\"hoverlabel\":{\"align\":\"left\"},\"hovermode\":\"closest\",\"mapbox\":{\"style\":\"light\"},\"paper_bgcolor\":\"white\",\"plot_bgcolor\":\"#E5ECF6\",\"polar\":{\"angularaxis\":{\"gridcolor\":\"white\",\"linecolor\":\"white\",\"ticks\":\"\"},\"bgcolor\":\"#E5ECF6\",\"radialaxis\":{\"gridcolor\":\"white\",\"linecolor\":\"white\",\"ticks\":\"\"}},\"scene\":{\"xaxis\":{\"backgroundcolor\":\"#E5ECF6\",\"gridcolor\":\"white\",\"gridwidth\":2,\"linecolor\":\"white\",\"showbackground\":true,\"ticks\":\"\",\"zerolinecolor\":\"white\"},\"yaxis\":{\"backgroundcolor\":\"#E5ECF6\",\"gridcolor\":\"white\",\"gridwidth\":2,\"linecolor\":\"white\",\"showbackground\":true,\"ticks\":\"\",\"zerolinecolor\":\"white\"},\"zaxis\":{\"backgroundcolor\":\"#E5ECF6\",\"gridcolor\":\"white\",\"gridwidth\":2,\"linecolor\":\"white\",\"showbackground\":true,\"ticks\":\"\",\"zerolinecolor\":\"white\"}},\"shapedefaults\":{\"line\":{\"color\":\"#2a3f5f\"}},\"ternary\":{\"aaxis\":{\"gridcolor\":\"white\",\"linecolor\":\"white\",\"ticks\":\"\"},\"baxis\":{\"gridcolor\":\"white\",\"linecolor\":\"white\",\"ticks\":\"\"},\"bgcolor\":\"#E5ECF6\",\"caxis\":{\"gridcolor\":\"white\",\"linecolor\":\"white\",\"ticks\":\"\"}},\"title\":{\"x\":0.05},\"xaxis\":{\"automargin\":true,\"gridcolor\":\"white\",\"linecolor\":\"white\",\"ticks\":\"\",\"title\":{\"standoff\":15},\"zerolinecolor\":\"white\",\"zerolinewidth\":2},\"yaxis\":{\"automargin\":true,\"gridcolor\":\"white\",\"linecolor\":\"white\",\"ticks\":\"\",\"title\":{\"standoff\":15},\"zerolinecolor\":\"white\",\"zerolinewidth\":2}}}},                        {\"responsive\": true}                    ).then(function(){\n",
              "                            \n",
              "var gd = document.getElementById('5f14474e-4a5f-4425-a900-9f5739e02f6e');\n",
              "var x = new MutationObserver(function (mutations, observer) {{\n",
              "        var display = window.getComputedStyle(gd).display;\n",
              "        if (!display || display === 'none') {{\n",
              "            console.log([gd, 'removed!']);\n",
              "            Plotly.purge(gd);\n",
              "            observer.disconnect();\n",
              "        }}\n",
              "}});\n",
              "\n",
              "// Listen for the removal of the full notebook cells\n",
              "var notebookContainer = gd.closest('#notebook-container');\n",
              "if (notebookContainer) {{\n",
              "    x.observe(notebookContainer, {childList: true});\n",
              "}}\n",
              "\n",
              "// Listen for the clearing of the current output cell\n",
              "var outputEl = gd.closest('.output');\n",
              "if (outputEl) {{\n",
              "    x.observe(outputEl, {childList: true});\n",
              "}}\n",
              "\n",
              "                        })                };                            </script>        </div>\n",
              "</body>\n",
              "</html>"
            ]
          },
          "metadata": {}
        }
      ]
    },
    {
      "cell_type": "code",
      "source": [
        "headerColor = 'grey'\n",
        "rowEvenColor = 'lightgrey'\n",
        "rowOddColor = 'white'\n",
        "\n",
        "fig = go.Figure(data=[go.Table(\n",
        "  header=dict(\n",
        "    values=['<b> </b>','<b>Full Buy</b>','<b>Semi Buy</b>','<b>Full Eco</b>','<b>Semi Eco</b>'],\n",
        "    line_color='darkslategray',\n",
        "    fill_color=headerColor,\n",
        "    align=['left','center'],\n",
        "    font=dict(color='white', size=12)\n",
        "  ),\n",
        "  cells=dict(\n",
        "    values=[\n",
        "      ['Full Buy', 'Semi Buy', 'Full Eco', 'Semi Eco'],\n",
        "      [CT_pi_F_B_F_B.shape[0], CT_pi_S_B_F_B.shape[0], CT_pi_F_E_F_B.shape[0], CT_pi_S_E_F_B.shape[0]],\n",
        "      [CT_pi_F_B_S_B.shape[0], CT_pi_S_B_S_B.shape[0], CT_pi_F_E_S_B.shape[0], CT_pi_S_E_S_B.shape[0]],\n",
        "      [CT_pi_F_B_F_E.shape[0], CT_pi_S_B_F_E.shape[0], CT_pi_F_E_F_E.shape[0], CT_pi_S_E_F_E.shape[0]],\n",
        "      [CT_pi_F_B_S_E.shape[0], CT_pi_S_B_S_E.shape[0], CT_pi_F_E_S_E.shape[0], CT_pi_S_E_S_E.shape[0]]],\n",
        "    line_color='darkslategray',\n",
        "    # 2-D list of colors for alternating rows\n",
        "    fill_color = [[rowOddColor,rowEvenColor,rowOddColor, rowEvenColor,rowOddColor]*5],\n",
        "    align = ['left', 'center'],\n",
        "    font = dict(color = 'darkslategray', size = 11)\n",
        "    ))\n",
        "])\n",
        "\n",
        "print(\"Siege der CT Seite\")\n",
        "fig.show()"
      ],
      "metadata": {
        "colab": {
          "base_uri": "https://localhost:8080/",
          "height": 560
        },
        "id": "c8F3pa9ZY43O",
        "outputId": "4ec1a1de-908f-43a9-f566-61f9781b2e51"
      },
      "execution_count": null,
      "outputs": [
        {
          "output_type": "stream",
          "name": "stdout",
          "text": [
            "Siege der CT Seite\n"
          ]
        },
        {
          "output_type": "display_data",
          "data": {
            "text/html": [
              "<html>\n",
              "<head><meta charset=\"utf-8\" /></head>\n",
              "<body>\n",
              "    <div>            <script src=\"https://cdnjs.cloudflare.com/ajax/libs/mathjax/2.7.5/MathJax.js?config=TeX-AMS-MML_SVG\"></script><script type=\"text/javascript\">if (window.MathJax) {MathJax.Hub.Config({SVG: {font: \"STIX-Web\"}});}</script>                <script type=\"text/javascript\">window.PlotlyConfig = {MathJaxConfig: 'local'};</script>\n",
              "        <script src=\"https://cdn.plot.ly/plotly-2.8.3.min.js\"></script>                <div id=\"3c6b5bc6-fe4d-45d9-8b98-0957bc5639d4\" class=\"plotly-graph-div\" style=\"height:525px; width:100%;\"></div>            <script type=\"text/javascript\">                                    window.PLOTLYENV=window.PLOTLYENV || {};                                    if (document.getElementById(\"3c6b5bc6-fe4d-45d9-8b98-0957bc5639d4\")) {                    Plotly.newPlot(                        \"3c6b5bc6-fe4d-45d9-8b98-0957bc5639d4\",                        [{\"cells\":{\"align\":[\"left\",\"center\"],\"fill\":{\"color\":[[\"white\",\"lightgrey\",\"white\",\"lightgrey\",\"white\",\"white\",\"lightgrey\",\"white\",\"lightgrey\",\"white\",\"white\",\"lightgrey\",\"white\",\"lightgrey\",\"white\",\"white\",\"lightgrey\",\"white\",\"lightgrey\",\"white\",\"white\",\"lightgrey\",\"white\",\"lightgrey\",\"white\"]]},\"font\":{\"color\":\"darkslategray\",\"size\":11},\"line\":{\"color\":\"darkslategray\"},\"values\":[[\"Full Buy\",\"Semi Buy\",\"Full Eco\",\"Semi Eco\"],[15,3,4,0],[0,0,0,0],[0,0,2,1],[0,0,0,0]]},\"header\":{\"align\":[\"left\",\"center\"],\"fill\":{\"color\":\"grey\"},\"font\":{\"color\":\"white\",\"size\":12},\"line\":{\"color\":\"darkslategray\"},\"values\":[\"<b> </b>\",\"<b>Full Buy</b>\",\"<b>Semi Buy</b>\",\"<b>Full Eco</b>\",\"<b>Semi Eco</b>\"]},\"type\":\"table\"}],                        {\"template\":{\"data\":{\"bar\":[{\"error_x\":{\"color\":\"#2a3f5f\"},\"error_y\":{\"color\":\"#2a3f5f\"},\"marker\":{\"line\":{\"color\":\"#E5ECF6\",\"width\":0.5},\"pattern\":{\"fillmode\":\"overlay\",\"size\":10,\"solidity\":0.2}},\"type\":\"bar\"}],\"barpolar\":[{\"marker\":{\"line\":{\"color\":\"#E5ECF6\",\"width\":0.5},\"pattern\":{\"fillmode\":\"overlay\",\"size\":10,\"solidity\":0.2}},\"type\":\"barpolar\"}],\"carpet\":[{\"aaxis\":{\"endlinecolor\":\"#2a3f5f\",\"gridcolor\":\"white\",\"linecolor\":\"white\",\"minorgridcolor\":\"white\",\"startlinecolor\":\"#2a3f5f\"},\"baxis\":{\"endlinecolor\":\"#2a3f5f\",\"gridcolor\":\"white\",\"linecolor\":\"white\",\"minorgridcolor\":\"white\",\"startlinecolor\":\"#2a3f5f\"},\"type\":\"carpet\"}],\"choropleth\":[{\"colorbar\":{\"outlinewidth\":0,\"ticks\":\"\"},\"type\":\"choropleth\"}],\"contour\":[{\"colorbar\":{\"outlinewidth\":0,\"ticks\":\"\"},\"colorscale\":[[0.0,\"#0d0887\"],[0.1111111111111111,\"#46039f\"],[0.2222222222222222,\"#7201a8\"],[0.3333333333333333,\"#9c179e\"],[0.4444444444444444,\"#bd3786\"],[0.5555555555555556,\"#d8576b\"],[0.6666666666666666,\"#ed7953\"],[0.7777777777777778,\"#fb9f3a\"],[0.8888888888888888,\"#fdca26\"],[1.0,\"#f0f921\"]],\"type\":\"contour\"}],\"contourcarpet\":[{\"colorbar\":{\"outlinewidth\":0,\"ticks\":\"\"},\"type\":\"contourcarpet\"}],\"heatmap\":[{\"colorbar\":{\"outlinewidth\":0,\"ticks\":\"\"},\"colorscale\":[[0.0,\"#0d0887\"],[0.1111111111111111,\"#46039f\"],[0.2222222222222222,\"#7201a8\"],[0.3333333333333333,\"#9c179e\"],[0.4444444444444444,\"#bd3786\"],[0.5555555555555556,\"#d8576b\"],[0.6666666666666666,\"#ed7953\"],[0.7777777777777778,\"#fb9f3a\"],[0.8888888888888888,\"#fdca26\"],[1.0,\"#f0f921\"]],\"type\":\"heatmap\"}],\"heatmapgl\":[{\"colorbar\":{\"outlinewidth\":0,\"ticks\":\"\"},\"colorscale\":[[0.0,\"#0d0887\"],[0.1111111111111111,\"#46039f\"],[0.2222222222222222,\"#7201a8\"],[0.3333333333333333,\"#9c179e\"],[0.4444444444444444,\"#bd3786\"],[0.5555555555555556,\"#d8576b\"],[0.6666666666666666,\"#ed7953\"],[0.7777777777777778,\"#fb9f3a\"],[0.8888888888888888,\"#fdca26\"],[1.0,\"#f0f921\"]],\"type\":\"heatmapgl\"}],\"histogram\":[{\"marker\":{\"pattern\":{\"fillmode\":\"overlay\",\"size\":10,\"solidity\":0.2}},\"type\":\"histogram\"}],\"histogram2d\":[{\"colorbar\":{\"outlinewidth\":0,\"ticks\":\"\"},\"colorscale\":[[0.0,\"#0d0887\"],[0.1111111111111111,\"#46039f\"],[0.2222222222222222,\"#7201a8\"],[0.3333333333333333,\"#9c179e\"],[0.4444444444444444,\"#bd3786\"],[0.5555555555555556,\"#d8576b\"],[0.6666666666666666,\"#ed7953\"],[0.7777777777777778,\"#fb9f3a\"],[0.8888888888888888,\"#fdca26\"],[1.0,\"#f0f921\"]],\"type\":\"histogram2d\"}],\"histogram2dcontour\":[{\"colorbar\":{\"outlinewidth\":0,\"ticks\":\"\"},\"colorscale\":[[0.0,\"#0d0887\"],[0.1111111111111111,\"#46039f\"],[0.2222222222222222,\"#7201a8\"],[0.3333333333333333,\"#9c179e\"],[0.4444444444444444,\"#bd3786\"],[0.5555555555555556,\"#d8576b\"],[0.6666666666666666,\"#ed7953\"],[0.7777777777777778,\"#fb9f3a\"],[0.8888888888888888,\"#fdca26\"],[1.0,\"#f0f921\"]],\"type\":\"histogram2dcontour\"}],\"mesh3d\":[{\"colorbar\":{\"outlinewidth\":0,\"ticks\":\"\"},\"type\":\"mesh3d\"}],\"parcoords\":[{\"line\":{\"colorbar\":{\"outlinewidth\":0,\"ticks\":\"\"}},\"type\":\"parcoords\"}],\"pie\":[{\"automargin\":true,\"type\":\"pie\"}],\"scatter\":[{\"marker\":{\"colorbar\":{\"outlinewidth\":0,\"ticks\":\"\"}},\"type\":\"scatter\"}],\"scatter3d\":[{\"line\":{\"colorbar\":{\"outlinewidth\":0,\"ticks\":\"\"}},\"marker\":{\"colorbar\":{\"outlinewidth\":0,\"ticks\":\"\"}},\"type\":\"scatter3d\"}],\"scattercarpet\":[{\"marker\":{\"colorbar\":{\"outlinewidth\":0,\"ticks\":\"\"}},\"type\":\"scattercarpet\"}],\"scattergeo\":[{\"marker\":{\"colorbar\":{\"outlinewidth\":0,\"ticks\":\"\"}},\"type\":\"scattergeo\"}],\"scattergl\":[{\"marker\":{\"colorbar\":{\"outlinewidth\":0,\"ticks\":\"\"}},\"type\":\"scattergl\"}],\"scattermapbox\":[{\"marker\":{\"colorbar\":{\"outlinewidth\":0,\"ticks\":\"\"}},\"type\":\"scattermapbox\"}],\"scatterpolar\":[{\"marker\":{\"colorbar\":{\"outlinewidth\":0,\"ticks\":\"\"}},\"type\":\"scatterpolar\"}],\"scatterpolargl\":[{\"marker\":{\"colorbar\":{\"outlinewidth\":0,\"ticks\":\"\"}},\"type\":\"scatterpolargl\"}],\"scatterternary\":[{\"marker\":{\"colorbar\":{\"outlinewidth\":0,\"ticks\":\"\"}},\"type\":\"scatterternary\"}],\"surface\":[{\"colorbar\":{\"outlinewidth\":0,\"ticks\":\"\"},\"colorscale\":[[0.0,\"#0d0887\"],[0.1111111111111111,\"#46039f\"],[0.2222222222222222,\"#7201a8\"],[0.3333333333333333,\"#9c179e\"],[0.4444444444444444,\"#bd3786\"],[0.5555555555555556,\"#d8576b\"],[0.6666666666666666,\"#ed7953\"],[0.7777777777777778,\"#fb9f3a\"],[0.8888888888888888,\"#fdca26\"],[1.0,\"#f0f921\"]],\"type\":\"surface\"}],\"table\":[{\"cells\":{\"fill\":{\"color\":\"#EBF0F8\"},\"line\":{\"color\":\"white\"}},\"header\":{\"fill\":{\"color\":\"#C8D4E3\"},\"line\":{\"color\":\"white\"}},\"type\":\"table\"}]},\"layout\":{\"annotationdefaults\":{\"arrowcolor\":\"#2a3f5f\",\"arrowhead\":0,\"arrowwidth\":1},\"autotypenumbers\":\"strict\",\"coloraxis\":{\"colorbar\":{\"outlinewidth\":0,\"ticks\":\"\"}},\"colorscale\":{\"diverging\":[[0,\"#8e0152\"],[0.1,\"#c51b7d\"],[0.2,\"#de77ae\"],[0.3,\"#f1b6da\"],[0.4,\"#fde0ef\"],[0.5,\"#f7f7f7\"],[0.6,\"#e6f5d0\"],[0.7,\"#b8e186\"],[0.8,\"#7fbc41\"],[0.9,\"#4d9221\"],[1,\"#276419\"]],\"sequential\":[[0.0,\"#0d0887\"],[0.1111111111111111,\"#46039f\"],[0.2222222222222222,\"#7201a8\"],[0.3333333333333333,\"#9c179e\"],[0.4444444444444444,\"#bd3786\"],[0.5555555555555556,\"#d8576b\"],[0.6666666666666666,\"#ed7953\"],[0.7777777777777778,\"#fb9f3a\"],[0.8888888888888888,\"#fdca26\"],[1.0,\"#f0f921\"]],\"sequentialminus\":[[0.0,\"#0d0887\"],[0.1111111111111111,\"#46039f\"],[0.2222222222222222,\"#7201a8\"],[0.3333333333333333,\"#9c179e\"],[0.4444444444444444,\"#bd3786\"],[0.5555555555555556,\"#d8576b\"],[0.6666666666666666,\"#ed7953\"],[0.7777777777777778,\"#fb9f3a\"],[0.8888888888888888,\"#fdca26\"],[1.0,\"#f0f921\"]]},\"colorway\":[\"#636efa\",\"#EF553B\",\"#00cc96\",\"#ab63fa\",\"#FFA15A\",\"#19d3f3\",\"#FF6692\",\"#B6E880\",\"#FF97FF\",\"#FECB52\"],\"font\":{\"color\":\"#2a3f5f\"},\"geo\":{\"bgcolor\":\"white\",\"lakecolor\":\"white\",\"landcolor\":\"#E5ECF6\",\"showlakes\":true,\"showland\":true,\"subunitcolor\":\"white\"},\"hoverlabel\":{\"align\":\"left\"},\"hovermode\":\"closest\",\"mapbox\":{\"style\":\"light\"},\"paper_bgcolor\":\"white\",\"plot_bgcolor\":\"#E5ECF6\",\"polar\":{\"angularaxis\":{\"gridcolor\":\"white\",\"linecolor\":\"white\",\"ticks\":\"\"},\"bgcolor\":\"#E5ECF6\",\"radialaxis\":{\"gridcolor\":\"white\",\"linecolor\":\"white\",\"ticks\":\"\"}},\"scene\":{\"xaxis\":{\"backgroundcolor\":\"#E5ECF6\",\"gridcolor\":\"white\",\"gridwidth\":2,\"linecolor\":\"white\",\"showbackground\":true,\"ticks\":\"\",\"zerolinecolor\":\"white\"},\"yaxis\":{\"backgroundcolor\":\"#E5ECF6\",\"gridcolor\":\"white\",\"gridwidth\":2,\"linecolor\":\"white\",\"showbackground\":true,\"ticks\":\"\",\"zerolinecolor\":\"white\"},\"zaxis\":{\"backgroundcolor\":\"#E5ECF6\",\"gridcolor\":\"white\",\"gridwidth\":2,\"linecolor\":\"white\",\"showbackground\":true,\"ticks\":\"\",\"zerolinecolor\":\"white\"}},\"shapedefaults\":{\"line\":{\"color\":\"#2a3f5f\"}},\"ternary\":{\"aaxis\":{\"gridcolor\":\"white\",\"linecolor\":\"white\",\"ticks\":\"\"},\"baxis\":{\"gridcolor\":\"white\",\"linecolor\":\"white\",\"ticks\":\"\"},\"bgcolor\":\"#E5ECF6\",\"caxis\":{\"gridcolor\":\"white\",\"linecolor\":\"white\",\"ticks\":\"\"}},\"title\":{\"x\":0.05},\"xaxis\":{\"automargin\":true,\"gridcolor\":\"white\",\"linecolor\":\"white\",\"ticks\":\"\",\"title\":{\"standoff\":15},\"zerolinecolor\":\"white\",\"zerolinewidth\":2},\"yaxis\":{\"automargin\":true,\"gridcolor\":\"white\",\"linecolor\":\"white\",\"ticks\":\"\",\"title\":{\"standoff\":15},\"zerolinecolor\":\"white\",\"zerolinewidth\":2}}}},                        {\"responsive\": true}                    ).then(function(){\n",
              "                            \n",
              "var gd = document.getElementById('3c6b5bc6-fe4d-45d9-8b98-0957bc5639d4');\n",
              "var x = new MutationObserver(function (mutations, observer) {{\n",
              "        var display = window.getComputedStyle(gd).display;\n",
              "        if (!display || display === 'none') {{\n",
              "            console.log([gd, 'removed!']);\n",
              "            Plotly.purge(gd);\n",
              "            observer.disconnect();\n",
              "        }}\n",
              "}});\n",
              "\n",
              "// Listen for the removal of the full notebook cells\n",
              "var notebookContainer = gd.closest('#notebook-container');\n",
              "if (notebookContainer) {{\n",
              "    x.observe(notebookContainer, {childList: true});\n",
              "}}\n",
              "\n",
              "// Listen for the clearing of the current output cell\n",
              "var outputEl = gd.closest('.output');\n",
              "if (outputEl) {{\n",
              "    x.observe(outputEl, {childList: true});\n",
              "}}\n",
              "\n",
              "                        })                };                            </script>        </div>\n",
              "</body>\n",
              "</html>"
            ]
          },
          "metadata": {}
        }
      ]
    },
    {
      "cell_type": "markdown",
      "source": [
        "#Kaufentscheidung - Nash "
      ],
      "metadata": {
        "id": "5CoPzIFci_hn"
      }
    },
    {
      "cell_type": "code",
      "source": [
        "#Payoff-Matrix für Spieler A, in diesem Fall die T-Seite\n",
        "A = np.array([[pi_F_B_F_B.shape[0]/full_pi_F_B_F_B, pi_S_B_F_B.shape[0]/full_pi_S_B_F_B,  pi_F_E_F_B.shape[0]/full_pi_F_E_F_B,  pi_S_E_F_B.shape[0]/full_pi_S_E_F_B],\n",
        "              [pi_F_B_S_B.shape[0]/full_pi_F_B_S_B, pi_S_B_S_B.shape[0]/full_pi_S_B_S_B,  pi_F_E_S_B.shape[0]/full_pi_F_E_S_B,  pi_S_E_S_B.shape[0]/full_pi_S_E_S_B],\n",
        "              [pi_F_B_F_E.shape[0]/full_pi_F_B_F_E, pi_S_B_F_E.shape[0]/full_pi_S_B_F_E,  pi_F_E_F_E.shape[0]/full_pi_F_E_F_E,  pi_S_E_F_E.shape[0]/full_pi_S_E_F_E],\n",
        "              [pi_F_B_S_E.shape[0]/full_pi_F_B_S_E, pi_S_B_S_E.shape[0]/full_pi_S_B_S_E,  pi_F_E_S_E.shape[0]/full_pi_F_E_S_E,  pi_S_E_S_E.shape[0]/full_pi_S_E_S_E]])\n",
        "A = A.transpose()\n",
        "\n",
        "#Payoff-Matrix für Spieler B, in diesem Fall die CT-Seite\n",
        "B = np.array([[CT_pi_F_B_F_B.shape[0]/full_pi_F_B_F_B, CT_pi_S_B_F_B.shape[0]/full_pi_S_B_F_B, CT_pi_F_E_F_B.shape[0]/full_pi_F_E_F_B, CT_pi_S_E_F_B.shape[0]/full_pi_S_E_F_B],\n",
        "              [CT_pi_F_B_S_B.shape[0]/full_pi_F_B_S_B, CT_pi_S_B_S_B.shape[0]/full_pi_S_B_S_B, CT_pi_F_E_S_B.shape[0]/full_pi_F_E_S_B, CT_pi_S_E_S_B.shape[0]/full_pi_S_E_S_B],\n",
        "              [CT_pi_F_B_F_E.shape[0]/full_pi_F_B_F_E, CT_pi_S_B_F_E.shape[0]/full_pi_S_B_F_E, CT_pi_F_E_F_E.shape[0]/full_pi_F_E_F_E, CT_pi_S_E_F_E.shape[0]/full_pi_S_E_F_E],\n",
        "              [CT_pi_F_B_S_E.shape[0]/full_pi_F_B_S_E, CT_pi_S_B_S_E.shape[0]/full_pi_S_B_S_E, CT_pi_F_E_S_E.shape[0]/full_pi_F_E_S_E, CT_pi_S_E_S_E.shape[0]/full_pi_S_E_S_E]])\n",
        "B = B.transpose()\n",
        "\n",
        "#Erstelle ein Spiel\n",
        "CSGO_2 = nash.Game(A, B)\n",
        "\n",
        "#Löse das Spiel und gebe das Ergebnis aus\n",
        "equilibria = CSGO_2.support_enumeration()\n",
        "for eq in equilibria:\n",
        "    print(eq)"
      ],
      "metadata": {
        "id": "zYUYCNIci-43"
      },
      "execution_count": null,
      "outputs": []
    }
  ]
}