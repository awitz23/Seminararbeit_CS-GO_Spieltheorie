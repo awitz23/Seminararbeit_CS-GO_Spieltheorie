{
  "nbformat": 4,
  "nbformat_minor": 0,
  "metadata": {
    "colab": {
      "name": "awpy_Colab.ipynb",
      "provenance": [],
      "collapsed_sections": [],
      "toc_visible": true,
      "include_colab_link": true
    },
    "kernelspec": {
      "name": "python3",
      "display_name": "Python 3"
    },
    "language_info": {
      "name": "python"
    }
  },
  "cells": [
    {
      "cell_type": "markdown",
      "metadata": {
        "id": "view-in-github",
        "colab_type": "text"
      },
      "source": [
        "<a href=\"https://colab.research.google.com/github/awitz23/Project_CS-GO/blob/main/Hierl%C3%A4uftAutomatisierungsogar!UndNash!!.ipynb\" target=\"_parent\"><img src=\"https://colab.research.google.com/assets/colab-badge.svg\" alt=\"Open In Colab\"/></a>"
      ]
    },
    {
      "cell_type": "markdown",
      "source": [
        "#Installationen"
      ],
      "metadata": {
        "id": "0bB6IyTcadMP"
      }
    },
    {
      "cell_type": "code",
      "source": [
        "pip install Pillow==9.0.0"
      ],
      "metadata": {
        "colab": {
          "base_uri": "https://localhost:8080/"
        },
        "id": "dKND3OLDw0ck",
        "outputId": "df0cb6f4-5f0b-4242-832d-c680c7704450"
      },
      "execution_count": 1,
      "outputs": [
        {
          "output_type": "stream",
          "name": "stdout",
          "text": [
            "Looking in indexes: https://pypi.org/simple, https://us-python.pkg.dev/colab-wheels/public/simple/\n",
            "Requirement already satisfied: Pillow==9.0.0 in /usr/local/lib/python3.7/dist-packages (9.0.0)\n"
          ]
        }
      ]
    },
    {
      "cell_type": "code",
      "metadata": {
        "colab": {
          "base_uri": "https://localhost:8080/"
        },
        "id": "WeKqfFet03GZ",
        "outputId": "e74e0abb-c4a6-424d-9bee-d327986e12df"
      },
      "source": [
        "%%shell\n",
        "add-apt-repository -y ppa:longsleep/golang-backports\n",
        "apt -y update\n",
        "apt -y install golang-go\n",
        "\n",
        "pip install awpy\n",
        "\n",
        "#wget https://storage.googleapis.com/csgo-tests/default.dem"
      ],
      "execution_count": 2,
      "outputs": [
        {
          "output_type": "stream",
          "name": "stdout",
          "text": [
            "\r0% [Working]\r            \rHit:1 https://cloud.r-project.org/bin/linux/ubuntu bionic-cran40/ InRelease\n",
            "\r0% [Connecting to archive.ubuntu.com (185.125.190.36)] [Connecting to security.\r                                                                               \rHit:2 https://developer.download.nvidia.com/compute/cuda/repos/ubuntu1804/x86_64  InRelease\n",
            "\r0% [Connecting to archive.ubuntu.com (185.125.190.36)] [Connecting to security.\r0% [1 InRelease gpgv 3,626 B] [Connecting to archive.ubuntu.com (185.125.190.36\r                                                                               \rIgn:3 https://developer.download.nvidia.com/compute/machine-learning/repos/ubuntu1804/x86_64  InRelease\n",
            "\r0% [1 InRelease gpgv 3,626 B] [Waiting for headers] [Connecting to security.ubu\r                                                                               \rHit:4 https://developer.download.nvidia.com/compute/machine-learning/repos/ubuntu1804/x86_64  Release\n",
            "\r0% [1 InRelease gpgv 3,626 B] [Waiting for headers] [Connecting to security.ubu\r                                                                               \rHit:5 http://archive.ubuntu.com/ubuntu bionic InRelease\n",
            "Hit:6 http://ppa.launchpad.net/c2d4u.team/c2d4u4.0+/ubuntu bionic InRelease\n",
            "Get:7 http://security.ubuntu.com/ubuntu bionic-security InRelease [88.7 kB]\n",
            "Get:8 http://archive.ubuntu.com/ubuntu bionic-updates InRelease [88.7 kB]\n",
            "Hit:9 http://ppa.launchpad.net/cran/libgit2/ubuntu bionic InRelease\n",
            "Hit:10 http://ppa.launchpad.net/deadsnakes/ppa/ubuntu bionic InRelease\n",
            "Get:11 http://archive.ubuntu.com/ubuntu bionic-backports InRelease [74.6 kB]\n",
            "Hit:12 http://ppa.launchpad.net/graphics-drivers/ppa/ubuntu bionic InRelease\n",
            "Hit:14 http://ppa.launchpad.net/longsleep/golang-backports/ubuntu bionic InRelease\n",
            "Fetched 252 kB in 5s (49.5 kB/s)\n",
            "Reading package lists... Done\n",
            "Hit:1 https://developer.download.nvidia.com/compute/cuda/repos/ubuntu1804/x86_64  InRelease\n",
            "Ign:2 https://developer.download.nvidia.com/compute/machine-learning/repos/ubuntu1804/x86_64  InRelease\n",
            "Hit:3 https://developer.download.nvidia.com/compute/machine-learning/repos/ubuntu1804/x86_64  Release\n",
            "Get:4 http://security.ubuntu.com/ubuntu bionic-security InRelease [88.7 kB]\n",
            "Hit:5 http://ppa.launchpad.net/c2d4u.team/c2d4u4.0+/ubuntu bionic InRelease\n",
            "Hit:6 http://archive.ubuntu.com/ubuntu bionic InRelease\n",
            "Get:7 http://archive.ubuntu.com/ubuntu bionic-updates InRelease [88.7 kB]\n",
            "Hit:8 http://ppa.launchpad.net/cran/libgit2/ubuntu bionic InRelease\n",
            "Hit:9 https://cloud.r-project.org/bin/linux/ubuntu bionic-cran40/ InRelease\n",
            "Hit:10 http://ppa.launchpad.net/deadsnakes/ppa/ubuntu bionic InRelease\n",
            "Get:11 http://archive.ubuntu.com/ubuntu bionic-backports InRelease [74.6 kB]\n",
            "Hit:12 http://ppa.launchpad.net/graphics-drivers/ppa/ubuntu bionic InRelease\n",
            "Hit:14 http://ppa.launchpad.net/longsleep/golang-backports/ubuntu bionic InRelease\n",
            "Fetched 252 kB in 7s (35.6 kB/s)\n",
            "Reading package lists... Done\n",
            "Building dependency tree       \n",
            "Reading state information... Done\n",
            "87 packages can be upgraded. Run 'apt list --upgradable' to see them.\n",
            "Reading package lists... Done\n",
            "Building dependency tree       \n",
            "Reading state information... Done\n",
            "golang-go is already the newest version (2:1.18~1longsleep1).\n",
            "The following package was automatically installed and is no longer required:\n",
            "  libnvidia-common-460\n",
            "Use 'apt autoremove' to remove it.\n",
            "0 upgraded, 0 newly installed, 0 to remove and 87 not upgraded.\n",
            "Looking in indexes: https://pypi.org/simple, https://us-python.pkg.dev/colab-wheels/public/simple/\n",
            "Requirement already satisfied: awpy in /usr/local/lib/python3.7/dist-packages (1.1.6)\n",
            "Requirement already satisfied: networkx>=2.6.3 in /usr/local/lib/python3.7/dist-packages (from awpy) (2.6.3)\n",
            "Requirement already satisfied: textdistance>=4.2.0 in /usr/local/lib/python3.7/dist-packages (from awpy) (4.2.2)\n",
            "Requirement already satisfied: numpy>=1.18.1 in /usr/local/lib/python3.7/dist-packages (from awpy) (1.21.6)\n",
            "Requirement already satisfied: pandas>=0.25.3 in /usr/local/lib/python3.7/dist-packages (from awpy) (1.3.5)\n",
            "Requirement already satisfied: imageio>=2.9.0 in /usr/local/lib/python3.7/dist-packages (from awpy) (2.19.3)\n",
            "Requirement already satisfied: tqdm>=4.55.2 in /usr/local/lib/python3.7/dist-packages (from awpy) (4.64.0)\n",
            "Requirement already satisfied: scipy>=1.4.1 in /usr/local/lib/python3.7/dist-packages (from awpy) (1.4.1)\n",
            "Requirement already satisfied: matplotlib>=3.1.2 in /usr/local/lib/python3.7/dist-packages (from awpy) (3.2.2)\n",
            "Requirement already satisfied: pillow>=8.3.2 in /usr/local/lib/python3.7/dist-packages (from imageio>=2.9.0->awpy) (9.0.0)\n",
            "Requirement already satisfied: pyparsing!=2.0.4,!=2.1.2,!=2.1.6,>=2.0.1 in /usr/local/lib/python3.7/dist-packages (from matplotlib>=3.1.2->awpy) (3.0.9)\n",
            "Requirement already satisfied: cycler>=0.10 in /usr/local/lib/python3.7/dist-packages (from matplotlib>=3.1.2->awpy) (0.11.0)\n",
            "Requirement already satisfied: kiwisolver>=1.0.1 in /usr/local/lib/python3.7/dist-packages (from matplotlib>=3.1.2->awpy) (1.4.2)\n",
            "Requirement already satisfied: python-dateutil>=2.1 in /usr/local/lib/python3.7/dist-packages (from matplotlib>=3.1.2->awpy) (2.8.2)\n",
            "Requirement already satisfied: typing-extensions in /usr/local/lib/python3.7/dist-packages (from kiwisolver>=1.0.1->matplotlib>=3.1.2->awpy) (4.2.0)\n",
            "Requirement already satisfied: pytz>=2017.3 in /usr/local/lib/python3.7/dist-packages (from pandas>=0.25.3->awpy) (2022.1)\n",
            "Requirement already satisfied: six>=1.5 in /usr/local/lib/python3.7/dist-packages (from python-dateutil>=2.1->matplotlib>=3.1.2->awpy) (1.15.0)\n"
          ]
        },
        {
          "output_type": "execute_result",
          "data": {
            "text/plain": [
              ""
            ]
          },
          "metadata": {},
          "execution_count": 2
        }
      ]
    },
    {
      "cell_type": "code",
      "source": [
        "import pandas as pd\n",
        "import numpy as np\n",
        "\n",
        "#from awpy.parser import DemoParser\n",
        "from awpy import *\n",
        "#from awpy.data import NAV_CSV --> evtl. nicht notwendig, mal ausprobieren\n",
        "\n",
        "from google.colab import drive\n",
        "from google.colab import files\n",
        "drive.mount('/content/drive')\n",
        "\n",
        "\n",
        "from awpy.data import NAV_CSV\n",
        "\n",
        "!pip install nashpy\n",
        "import nashpy as nash\n",
        "import numpy as np\n",
        "\n",
        "pd.set_option('max_rows', 200)\n",
        "pd.set_option('max_colwidth', 4000)\n",
        "pd.describe_option('max_colwidth')\n",
        "df_strategy=pd.DataFrame()\n",
        "\n",
        "import pandas as pd\n",
        "import os\n",
        "dir = '/content/drive/MyDrive/Demofiles'"
      ],
      "metadata": {
        "colab": {
          "base_uri": "https://localhost:8080/"
        },
        "id": "7I1rGINUdoab",
        "outputId": "8472dc46-d543-4b2f-9359-f2568e68ce03"
      },
      "execution_count": 3,
      "outputs": [
        {
          "output_type": "stream",
          "name": "stdout",
          "text": [
            "Drive already mounted at /content/drive; to attempt to forcibly remount, call drive.mount(\"/content/drive\", force_remount=True).\n",
            "Looking in indexes: https://pypi.org/simple, https://us-python.pkg.dev/colab-wheels/public/simple/\n",
            "Requirement already satisfied: nashpy in /usr/local/lib/python3.7/dist-packages (0.0.21)\n",
            "Requirement already satisfied: scipy>=0.19.0 in /usr/local/lib/python3.7/dist-packages (from nashpy) (1.4.1)\n",
            "Requirement already satisfied: numpy>=1.12.1 in /usr/local/lib/python3.7/dist-packages (from nashpy) (1.21.6)\n",
            "display.max_colwidth : int or None\n",
            "    The maximum width in characters of a column in the repr of\n",
            "    a pandas data structure. When the column overflows, a \"...\"\n",
            "    placeholder is embedded in the output. A 'None' value means unlimited.\n",
            "    [default: 50] [currently: 4000]\n"
          ]
        }
      ]
    },
    {
      "cell_type": "markdown",
      "source": [
        "#Parsing"
      ],
      "metadata": {
        "id": "4PsVf7sOa3QZ"
      }
    },
    {
      "cell_type": "code",
      "source": [
        "print(dir)"
      ],
      "metadata": {
        "id": "ytHn_XXoJsYT",
        "outputId": "b33071a4-8e45-4500-f5b7-e731999268bc",
        "colab": {
          "base_uri": "https://localhost:8080/"
        }
      },
      "execution_count": 4,
      "outputs": [
        {
          "output_type": "stream",
          "name": "stdout",
          "text": [
            "/content/drive/MyDrive/Demofiles\n"
          ]
        }
      ]
    },
    {
      "cell_type": "markdown",
      "source": [
        "#Versuch mit Parsing über alle Runden T-Seite"
      ],
      "metadata": {
        "id": "QzNLC_Sapr44"
      }
    },
    {
      "cell_type": "code",
      "source": [
        "for file in os.listdir(dir):\n",
        "  \n",
        "  if file.endswith(\".dem\"):\n",
        "    \n",
        "    p = DemoParser(demofile=\"/content/drive/MyDrive/Demofiles/\"+file, parse_rate=128)\n",
        "    print(file)\n",
        "    #d = p.parse()\n",
        "    #d.keys()\n",
        "    df = p.parse(return_type=\"df\")\n",
        "    #df.keys()\n",
        "\n",
        "    i = 1\n",
        "    Gameround = []\n",
        "    Strategies = []\n",
        "    while i <= df[\"playerFrames\"][\"roundNum\"].max():\n",
        "      player= df[\"playerFrames\"]\n",
        "      track3 = player\n",
        "      track4 = track3[(track3['seconds'] > 10) & (track3['seconds'] <= 30)]\n",
        "      track4 = track4.loc[track4[\"roundNum\"]==i] \n",
        "      track4 = track4.loc[track4[\"side\"]==\"T\"]\n",
        "      \n",
        "      t = NAV_CSV[NAV_CSV[\"mapName\"] == \"de_dust2\"]\n",
        "\n",
        "\n",
        "      area = []\n",
        "      #für jede Reihe durchgehen und Position festlegen und in Liste einspeichern --> jede Sekunde für jeden Spieler\n",
        "      for index, row in track4.iterrows():\n",
        "        f = t[(t['northWestX'] > row['x']-40) & (t['northWestX'] < row['x']+40)]\n",
        "        f = f[(f['northWestY'] > row['y']-40) & (f['northWestY'] < row['y']+40)]\n",
        "      \n",
        "        if f.empty:\n",
        "          loc = \"MISTAKE\"\n",
        "          area.append(loc)\n",
        "        \n",
        "        else:\n",
        "          loc = f[\"areaName\"].value_counts().idxmax()\n",
        "          area.append(loc)\n",
        "\n",
        "      #füge Liste mit Positionen zu DF hinzu\n",
        "      track4[\"area\"] = area \n",
        "      \n",
        "      track4.loc[track4['area'] == \"CTSpawn\",'subgroup'] = \"Mid\"\n",
        "      track4.loc[track4['area'] == \"MidDoors\",'subgroup'] = \"Mid\"\n",
        "      track4.loc[track4['area'] == \"TopofMid\",'subgroup'] = \"Mid\"\n",
        "      track4.loc[track4['area'] == \"Middle\",'subgroup'] = \"Mid\"\n",
        "      track4.loc[track4['area'] == \"Short\",'subgroup'] = \"Mid\"\n",
        "\n",
        "      track4.loc[track4['area'] == \"ShortStairs\",'subgroup'] = \"BombA\"\n",
        "      track4.loc[track4['area'] == \"UnderA\",'subgroup'] = \"BombA\"\n",
        "      track4.loc[track4['area'] == \"ExtendedA\",'subgroup'] = \"BombA\"\n",
        "      track4.loc[track4['area'] == \"Catwalk\",'subgroup'] = \"BombA\"\n",
        "\n",
        "      track4.loc[track4['area'] == \"BombsiteB\",'subgroup'] = \"BombB\"\n",
        "      track4.loc[track4['area'] == \"BDoors\",'subgroup'] = \"BombB\"\n",
        "      track4.loc[track4['area'] == \"Hole\",'subgroup'] = \"BombB\"\n",
        "\n",
        "      track4.loc[track4['area'] == \"TSpawn\",'subgroup'] = \"TerroristSpawn\"\n",
        "      track4.loc[track4['area'] == \"TRamp\",'subgroup'] = \"TerroristSpawn\"\n",
        "\n",
        "      track4.loc[track4['area'] == \"OutsideTunnel\",'subgroup'] = \"BombB\"\n",
        "      track4.loc[track4['area'] == \"UpperTunnel\",'subgroup'] = \"BombB\"\n",
        "      track4.loc[track4['area'] == \"TunnelStairs\",'subgroup'] = \"BombB\"\n",
        "      track4.loc[track4['area'] == \"LowerTunnel\",'subgroup'] = \"BombB\"\n",
        "\n",
        "      track4.loc[track4['area'] == \"LongA\",'subgroup'] = \"BombA\"\n",
        "      track4.loc[track4['area'] == \"LongDoors\",'subgroup'] = \"BombA\"\n",
        "      track4.loc[track4['area'] == \"OutsideLong\",'subgroup'] = \"BombA\"\n",
        "      track4.loc[track4['area'] == \"Pit\",'subgroup'] = \"BombA\"\n",
        "      track4.loc[track4['area'] == \"Ramp\",'subgroup'] = \"BombA\"\n",
        "      track4.loc[track4['area'] == \"Side\",'subgroup'] = \"BombA\"\n",
        "\n",
        "      track4.loc[track4['area'] == \"BombsiteA\",'subgroup'] = \"BombA\"\n",
        "      track4.loc[track4['area'] == \"ARamp\",'subgroup'] = \"BombA\"\n",
        "\n",
        "      stra = []\n",
        "\n",
        "      df2 = track4.groupby(['subgroup', 'name'])['subgroup'].count().unstack(fill_value=0)\n",
        "\n",
        "      for column in df2:\n",
        "        y = df2[{column}].idxmax()\n",
        "        y = y.values.tolist()\n",
        "        stra.append(y)\n",
        "      \n",
        "      j = 0\n",
        "      \n",
        "\n",
        "      BombA = 0\n",
        "      BombB = 0\n",
        "      Mid = 0\n",
        "      TerroristSpawn = 0\n",
        "\n",
        "      for element in stra:\n",
        "        if (element[j] == \"BombA\"):\n",
        "          BombA = BombA+1\n",
        "        elif (element[j] == \"BombB\"):\n",
        "          BombB = BombB+1\n",
        "        elif (element[j] == \"Mid\"):\n",
        "          Mid = Mid+1\n",
        "        elif (element[j] == \"Terroristspawn\"):\n",
        "          TerroristSpawn = TerroristSpawn + 1 \n",
        "      if BombA >= 4:\n",
        "          strategy = \"RushA\"\n",
        "          Strategies.append(strategy)\n",
        "          strategy=0\n",
        "          Gameround.append(i)\n",
        "      if BombB >=4:\n",
        "          strategy = \"RushB\"\n",
        "          Strategies.append(strategy)\n",
        "          strategy=0\n",
        "          Gameround.append(i)\n",
        "      if (BombA<4)&(BombB<4):\n",
        "          strategy = \"Split\"\n",
        "          Strategies.append(strategy)\n",
        "          strategy=0\n",
        "          Gameround.append(i)\n",
        "      ##print(i)\n",
        "      ##print(stra)\n",
        "      ##print(Strategies)\n",
        "\n",
        "      i=i+1\n",
        "\n",
        "    i = 1\n",
        "    Gameround = []\n",
        "    CTStrategies = []\n",
        "    while i <= df[\"playerFrames\"][\"roundNum\"].max():\n",
        "      player= df[\"playerFrames\"]\n",
        "      track3 = player\n",
        "      track4 = track3[(track3['seconds'] > 10) & (track3['seconds'] <= 30)]\n",
        "      track4 = track4.loc[track4[\"roundNum\"]==i] \n",
        "      track4 = track4.loc[track4[\"side\"]==\"CT\"]\n",
        "      \n",
        "      t = NAV_CSV[NAV_CSV[\"mapName\"] == \"de_dust2\"]\n",
        "\n",
        "\n",
        "      area = []\n",
        "      #für jede Reihe durchgehen und Position festlegen und in Liste einspeichern --> jede Sekunde für jeden Spieler\n",
        "      for index, row in track4.iterrows():\n",
        "        f = t[(t['northWestX'] > row['x']-80) & (t['northWestX'] < row['x']+80)]\n",
        "        f = f[(f['northWestY'] > row['y']-80) & (f['northWestY'] < row['y']+80)]\n",
        "      \n",
        "        if f.empty:\n",
        "          loc = \"MISTAKE\"\n",
        "          area.append(loc)\n",
        "        \n",
        "        else:\n",
        "          loc = f[\"areaName\"].value_counts().idxmax()\n",
        "          area.append(loc)\n",
        "\n",
        "      #füge Liste mit Positionen zu DF hinzu\n",
        "      track4[\"area\"] = area \n",
        "      \n",
        "      track4.loc[track4['area'] == \"CTSpawn\",'subgroup'] = \"Mid\"\n",
        "      track4.loc[track4['area'] == \"MidDoors\",'subgroup'] = \"Mid\"\n",
        "      track4.loc[track4['area'] == \"TopofMid\",'subgroup'] = \"Mid\"\n",
        "      track4.loc[track4['area'] == \"Middle\",'subgroup'] = \"Mid\"\n",
        "      track4.loc[track4['area'] == \"Short\",'subgroup'] = \"Mid\"\n",
        "\n",
        "      track4.loc[track4['area'] == \"ShortStairs\",'subgroup'] = \"BombA\"\n",
        "      track4.loc[track4['area'] == \"UnderA\",'subgroup'] = \"BombA\"\n",
        "      track4.loc[track4['area'] == \"ExtendedA\",'subgroup'] = \"BombA\"\n",
        "      track4.loc[track4['area'] == \"Catwalk\",'subgroup'] = \"BombA\"\n",
        "\n",
        "      track4.loc[track4['area'] == \"BombsiteB\",'subgroup'] = \"BombB\"\n",
        "      track4.loc[track4['area'] == \"BDoors\",'subgroup'] = \"BombB\"\n",
        "      track4.loc[track4['area'] == \"Hole\",'subgroup'] = \"BombB\"\n",
        "\n",
        "      track4.loc[track4['area'] == \"TSpawn\",'subgroup'] = \"TerroristSpawn\"\n",
        "      track4.loc[track4['area'] == \"TRamp\",'subgroup'] = \"TerroristSpawn\"\n",
        "\n",
        "      track4.loc[track4['area'] == \"OutsideTunnel\",'subgroup'] = \"BombB\"\n",
        "      track4.loc[track4['area'] == \"UpperTunnel\",'subgroup'] = \"BombB\"\n",
        "      track4.loc[track4['area'] == \"TunnelStairs\",'subgroup'] = \"BombB\"\n",
        "      track4.loc[track4['area'] == \"LowerTunnel\",'subgroup'] = \"BombB\"\n",
        "\n",
        "      track4.loc[track4['area'] == \"LongA\",'subgroup'] = \"BombA\"\n",
        "      track4.loc[track4['area'] == \"LongDoors\",'subgroup'] = \"BombA\"\n",
        "      track4.loc[track4['area'] == \"OutsideLong\",'subgroup'] = \"BombA\"\n",
        "      track4.loc[track4['area'] == \"Pit\",'subgroup'] = \"BombA\"\n",
        "      track4.loc[track4['area'] == \"Ramp\",'subgroup'] = \"BombA\"\n",
        "      track4.loc[track4['area'] == \"Side\",'subgroup'] = \"BombA\"\n",
        "\n",
        "      track4.loc[track4['area'] == \"BombsiteA\",'subgroup'] = \"BombA\"\n",
        "      track4.loc[track4['area'] == \"ARamp\",'subgroup'] = \"BombA\"\n",
        "\n",
        "      stra = []\n",
        "\n",
        "      df2 = track4.groupby(['subgroup', 'name'])['subgroup'].count().unstack(fill_value=0)\n",
        "\n",
        "      for column in df2:\n",
        "        y = df2[{column}].idxmax()\n",
        "        y = y.values.tolist()\n",
        "        stra.append(y)\n",
        "      \n",
        "      j = 0\n",
        "      \n",
        "\n",
        "      BombA = 0\n",
        "      BombB = 0\n",
        "      Mid = 0\n",
        "      TerroristSpawn = 0\n",
        "\n",
        "      for element in stra:\n",
        "        if (element[j] == \"BombA\"):\n",
        "          BombA = BombA+1\n",
        "        elif (element[j] == \"BombB\"):\n",
        "          BombB = BombB+1\n",
        "        elif (element[j] == \"Mid\"):\n",
        "          Mid = Mid+1\n",
        "        elif (element[j] == \"Terroristspawn\"):\n",
        "          TerroristSpawn = TerroristSpawn + 1 \n",
        "      if BombA >= 3:\n",
        "          strategy = \"FullA\"\n",
        "          CTStrategies.append(strategy)\n",
        "          strategy=0\n",
        "          Gameround.append(i)\n",
        "      if BombB >=3:\n",
        "          strategy = \"FullB\"\n",
        "          CTStrategies.append(strategy)\n",
        "          strategy=0\n",
        "          Gameround.append(i)\n",
        "      if (BombA<3)&(BombB<3):\n",
        "          strategy = \"Split\"\n",
        "          CTStrategies.append(strategy)\n",
        "          strategy=0\n",
        "          Gameround.append(i)\n",
        "      #print(i)\n",
        "      ##print(stra)\n",
        "      #print(CTStrategies)\n",
        "\n",
        "      i=i+1\n",
        "      \n",
        "    Winner = df[\"rounds\"][\"winningSide\"].tolist()\n",
        "    #print(Winner)\n",
        "\n",
        "\n",
        "    df_strategy_temp = pd.DataFrame({'Round':Gameround, \"T-strategy\":Strategies, \"CT-strategy\":CTStrategies, \"Winner\":Winner})\n",
        "    df_strategy = df_strategy.append(df_strategy_temp)\n",
        "\n",
        "    #print(df_strategy)\n"
      ],
      "metadata": {
        "id": "cCw05XlbojdV",
        "colab": {
          "base_uri": "https://localhost:8080/"
        },
        "outputId": "4a883f2f-b74f-4198-b8bd-7176a556d742"
      },
      "execution_count": 45,
      "outputs": [
        {
          "output_type": "stream",
          "name": "stdout",
          "text": [
            "natusvincere-vs-astralis-map3-dust2.dem\n",
            "fnatic-vs-gambit-map3-dust2.dem\n",
            "big-vs-natus-vincere-m1-dust2.dem\n",
            "liquid-vs-hellraisers-m2-dust2.dem\n",
            "mibr-vs-natus-vincere-m2-dust2.dem\n",
            "mibr-vs-renegades-m1-dust2.dem\n",
            "astralis-vs-nip-m2-dust2.dem\n",
            "natus-vincere-vs-ence-m2-dust2.dem\n",
            "vitality-vs-avangar-m3-dust2.dem\n",
            "nrg-vs-natus-vincere-m1-dust2.dem\n",
            "renegades-vs-avangar-m2-dust2.dem\n",
            "avangar-vs-astralis-m2-dust2.dem\n",
            "forze-vs-outsiders-m1-dust2.dem\n",
            "vitality-vs-liquid-m2-dust2.dem\n"
          ]
        }
      ]
    },
    {
      "cell_type": "markdown",
      "source": [
        "#Gewinnerseite"
      ],
      "metadata": {
        "id": "385UQcciW7Zi"
      }
    },
    {
      "cell_type": "markdown",
      "source": [
        "#CT Seite"
      ],
      "metadata": {
        "id": "wEruoYsTTk0Q"
      }
    },
    {
      "cell_type": "markdown",
      "source": [
        "#Strategie DF"
      ],
      "metadata": {
        "id": "NZ3xFKGVUugG"
      }
    },
    {
      "cell_type": "code",
      "source": [
        "#df_strategy\n",
        "#df_sicherungskopie=df_strategy\n",
        "#dfkopie4=df_strategy\n",
        "#dfkopie4.to_csv(\"save4.csv\")"
      ],
      "metadata": {
        "id": "c3dOX8aUEF6q"
      },
      "execution_count": 6,
      "outputs": []
    },
    {
      "cell_type": "code",
      "source": [
        "#df_sicherungskopie=df_strategy\n",
        "#df_sicherungskopie"
      ],
      "metadata": {
        "id": "zs7cKM-KJ4ZL"
      },
      "execution_count": 7,
      "outputs": []
    },
    {
      "cell_type": "markdown",
      "source": [
        "#Weiterversuch"
      ],
      "metadata": {
        "id": "7Njmu-5ZKmfQ"
      }
    },
    {
      "cell_type": "markdown",
      "source": [
        "pi_SS = 0\n",
        "pi_SA = 0\n",
        "pi_SB = 0\n",
        "pi_AS = 0\n",
        "pi_AA = 0\n",
        "pi_AB = 0\n",
        "pi_BS = 0\n",
        "pi_BA = 0\n",
        "pi_BB = 0\n",
        "\n",
        "kann man evtl mal gebrauchen wieder"
      ],
      "metadata": {
        "id": "lOI4QJ4SRrlL"
      }
    },
    {
      "cell_type": "code",
      "source": [
        "#Aufteilung des großen DF in 9 kleine --> möglichkeit, über shape[0] Zahlen zu bekommen\n",
        "\n",
        "pi_SS = df_strategy[(df_strategy['T-strategy'] == \"Split\") & (df_strategy['CT-strategy'] == \"Split\") & (df_strategy['Winner'] == \"T\")]\n",
        "pi_SA = df_strategy[(df_strategy['T-strategy'] == \"Split\") & (df_strategy['CT-strategy'] == \"FullA\") & (df_strategy['Winner'] == \"T\")]\n",
        "pi_SB = df_strategy[(df_strategy['T-strategy'] == \"Split\") & (df_strategy['CT-strategy'] == \"FullB\") & (df_strategy['Winner'] == \"T\")]\n",
        "pi_AS = df_strategy[(df_strategy['T-strategy'] == \"RushA\") & (df_strategy['CT-strategy'] == \"Split\") & (df_strategy['Winner'] == \"T\")]\n",
        "pi_AA = df_strategy[(df_strategy['T-strategy'] == \"RushA\") & (df_strategy['CT-strategy'] == \"FullA\") & (df_strategy['Winner'] == \"T\")]\n",
        "pi_AB = df_strategy[(df_strategy['T-strategy'] == \"RushA\") & (df_strategy['CT-strategy'] == \"FullB\") & (df_strategy['Winner'] == \"T\")]\n",
        "pi_BS = df_strategy[(df_strategy['T-strategy'] == \"RushB\") & (df_strategy['CT-strategy'] == \"Split\") & (df_strategy['Winner'] == \"T\")]\n",
        "pi_BA = df_strategy[(df_strategy['T-strategy'] == \"RushB\") & (df_strategy['CT-strategy'] == \"FullA\") & (df_strategy['Winner'] == \"T\")]\n",
        "pi_BB = df_strategy[(df_strategy['T-strategy'] == \"RushB\") & (df_strategy['CT-strategy'] == \"FullB\") & (df_strategy['Winner'] == \"T\")]"
      ],
      "metadata": {
        "id": "ht99pW1sOQLF"
      },
      "execution_count": 8,
      "outputs": []
    },
    {
      "cell_type": "code",
      "source": [
        "#gesamtzahl an siegen der T-Seite\n",
        "wins_T =(\n",
        "pi_SS.shape[0]+\n",
        "pi_SA.shape[0]+\n",
        "pi_SB.shape[0]+\n",
        "pi_AS.shape[0]+\n",
        "pi_AA.shape[0]+\n",
        "pi_AB.shape[0]+\n",
        "pi_BS.shape[0]+\n",
        "pi_BA.shape[0]+\n",
        "pi_BB.shape[0])\n",
        "print(wins_T)"
      ],
      "metadata": {
        "colab": {
          "base_uri": "https://localhost:8080/"
        },
        "id": "52SnbXzgQYUV",
        "outputId": "d6d79afa-529a-47f5-edfe-5b58fef65326"
      },
      "execution_count": 9,
      "outputs": [
        {
          "output_type": "stream",
          "name": "stdout",
          "text": [
            "226\n"
          ]
        }
      ]
    },
    {
      "cell_type": "code",
      "source": [
        "\n",
        "CT_pi_SS = df_strategy[(df_strategy['T-strategy'] == \"Split\") & (df_strategy['CT-strategy'] == \"Split\") & (df_strategy['Winner'] == \"CT\")]\n",
        "CT_pi_SA = df_strategy[(df_strategy['T-strategy'] == \"Split\") & (df_strategy['CT-strategy'] == \"FullA\") & (df_strategy['Winner'] == \"CT\")]\n",
        "CT_pi_SB = df_strategy[(df_strategy['T-strategy'] == \"Split\") & (df_strategy['CT-strategy'] == \"FullB\") & (df_strategy['Winner'] == \"CT\")]\n",
        "CT_pi_AS = df_strategy[(df_strategy['T-strategy'] == \"RushA\") & (df_strategy['CT-strategy'] == \"Split\") & (df_strategy['Winner'] == \"CT\")]\n",
        "CT_pi_AA = df_strategy[(df_strategy['T-strategy'] == \"RushA\") & (df_strategy['CT-strategy'] == \"FullA\") & (df_strategy['Winner'] == \"CT\")]\n",
        "CT_pi_AB = df_strategy[(df_strategy['T-strategy'] == \"RushA\") & (df_strategy['CT-strategy'] == \"FullB\") & (df_strategy['Winner'] == \"CT\")]\n",
        "CT_pi_BS = df_strategy[(df_strategy['T-strategy'] == \"RushB\") & (df_strategy['CT-strategy'] == \"Split\") & (df_strategy['Winner'] == \"CT\")]\n",
        "CT_pi_BA = df_strategy[(df_strategy['T-strategy'] == \"RushB\") & (df_strategy['CT-strategy'] == \"FullA\") & (df_strategy['Winner'] == \"CT\")]\n",
        "CT_pi_BB = df_strategy[(df_strategy['T-strategy'] == \"RushB\") & (df_strategy['CT-strategy'] == \"FullB\") & (df_strategy['Winner'] == \"CT\")]"
      ],
      "metadata": {
        "id": "56LqGSKBVnzs"
      },
      "execution_count": 10,
      "outputs": []
    },
    {
      "cell_type": "code",
      "source": [
        "#Gesamtzahl der Ereignisse \n",
        "Full_pi_SS = CT_pi_SS.shape[0] + pi_SS.shape[0]\n",
        "Full_pi_SA = CT_pi_SA.shape[0] + pi_SA.shape[0]\n",
        "Full_pi_SB = CT_pi_SB.shape[0] + pi_SB.shape[0]\n",
        "Full_pi_AS = CT_pi_AS.shape[0] + pi_AS.shape[0]\n",
        "Full_pi_AA = CT_pi_AA.shape[0] + pi_AA.shape[0]\n",
        "Full_pi_AB = CT_pi_AB.shape[0] + pi_AB.shape[0]\n",
        "Full_pi_BS = CT_pi_BS.shape[0] + pi_BS.shape[0]\n",
        "Full_pi_BA = CT_pi_BA.shape[0] + pi_BA.shape[0]\n",
        "Full_pi_BB = CT_pi_BB.shape[0] + pi_BB.shape[0]\n",
        "\n",
        "#print(Full_pi_AS)"
      ],
      "metadata": {
        "id": "0EU6cBleiKmz"
      },
      "execution_count": 11,
      "outputs": []
    },
    {
      "cell_type": "code",
      "source": [
        "wins_CT =(\n",
        "CT_pi_SS.shape[0]+\n",
        "CT_pi_SA.shape[0]+\n",
        "CT_pi_SB.shape[0]+\n",
        "CT_pi_AS.shape[0]+\n",
        "CT_pi_AA.shape[0]+\n",
        "CT_pi_AB.shape[0]+\n",
        "CT_pi_BS.shape[0]+\n",
        "CT_pi_BA.shape[0]+\n",
        "CT_pi_BB.shape[0])\n",
        "#print(wins_CT)"
      ],
      "metadata": {
        "id": "2yNxwC9SVyNs"
      },
      "execution_count": 12,
      "outputs": []
    },
    {
      "cell_type": "code",
      "source": [
        "import plotly.graph_objects as go\n",
        "\n",
        "headerColor = 'grey'\n",
        "rowEvenColor = 'lightgrey'\n",
        "rowOddColor = 'white'\n",
        "\n",
        "fig = go.Figure(data=[go.Table(\n",
        "  header=dict(\n",
        "    values=['<b> </b>','<b>Split</b>','<b>FullA</b>','<b>FullB</b>','<b>Total</b>'],\n",
        "    line_color='darkslategray',\n",
        "    fill_color=headerColor,\n",
        "    align=['left','center'],\n",
        "    font=dict(color='white', size=12)\n",
        "  ),\n",
        "  cells=dict(\n",
        "    values=[\n",
        "      ['Split', 'RushA', 'RushB', '<b>TOTAL</b>'],\n",
        "      [pi_SS.shape[0], pi_AS.shape[0], pi_BS.shape[0], pi_SS.shape[0]+ pi_AS.shape[0]+ pi_BS.shape[0]],\n",
        "      [pi_SA.shape[0], pi_AA.shape[0], pi_BA.shape[0], pi_SA.shape[0]+ pi_AA.shape[0]+ pi_BA.shape[0]],\n",
        "      [pi_SB.shape[0], pi_AB.shape[0], pi_BB.shape[0], pi_SB.shape[0]+ pi_AB.shape[0]+ pi_BB.shape[0]],\n",
        "      [pi_SS.shape[0]+ pi_SA.shape[0]+ pi_SB.shape[0], pi_AS.shape[0]+ pi_AA.shape[0]+ pi_AB.shape[0],\n",
        "       pi_BS.shape[0]+ pi_BA.shape[0]+ pi_BB.shape[0], pi_SS.shape[0]+ pi_AS.shape[0]+ pi_BS.shape[0] +\n",
        "       pi_SA.shape[0]+ pi_AA.shape[0]+ pi_BA.shape[0]+\n",
        "       pi_SB.shape[0]+ pi_AB.shape[0]+ pi_BB.shape[0]]],\n",
        "    line_color='darkslategray',\n",
        "    # 2-D list of colors for alternating rows\n",
        "    fill_color = [[rowOddColor,rowEvenColor,rowOddColor, rowEvenColor,rowOddColor]*5],\n",
        "    align = ['left', 'center'],\n",
        "    font = dict(color = 'darkslategray', size = 11)\n",
        "    ))\n",
        "])\n",
        "\n",
        "print(\"Siege der T Seite\")\n",
        "fig.show()"
      ],
      "metadata": {
        "colab": {
          "base_uri": "https://localhost:8080/",
          "height": 560
        },
        "id": "fQ3fyS1dKWxz",
        "outputId": "b1a954f2-0878-4839-f76a-39bc9fbf5079"
      },
      "execution_count": 13,
      "outputs": [
        {
          "output_type": "stream",
          "name": "stdout",
          "text": [
            "Siege der T Seite\n"
          ]
        },
        {
          "output_type": "display_data",
          "data": {
            "text/html": [
              "<html>\n",
              "<head><meta charset=\"utf-8\" /></head>\n",
              "<body>\n",
              "    <div>            <script src=\"https://cdnjs.cloudflare.com/ajax/libs/mathjax/2.7.5/MathJax.js?config=TeX-AMS-MML_SVG\"></script><script type=\"text/javascript\">if (window.MathJax) {MathJax.Hub.Config({SVG: {font: \"STIX-Web\"}});}</script>                <script type=\"text/javascript\">window.PlotlyConfig = {MathJaxConfig: 'local'};</script>\n",
              "        <script src=\"https://cdn.plot.ly/plotly-2.8.3.min.js\"></script>                <div id=\"64b5bea4-a4b0-4dc3-b93e-b57966319cb2\" class=\"plotly-graph-div\" style=\"height:525px; width:100%;\"></div>            <script type=\"text/javascript\">                                    window.PLOTLYENV=window.PLOTLYENV || {};                                    if (document.getElementById(\"64b5bea4-a4b0-4dc3-b93e-b57966319cb2\")) {                    Plotly.newPlot(                        \"64b5bea4-a4b0-4dc3-b93e-b57966319cb2\",                        [{\"cells\":{\"align\":[\"left\",\"center\"],\"fill\":{\"color\":[[\"white\",\"lightgrey\",\"white\",\"lightgrey\",\"white\",\"white\",\"lightgrey\",\"white\",\"lightgrey\",\"white\",\"white\",\"lightgrey\",\"white\",\"lightgrey\",\"white\",\"white\",\"lightgrey\",\"white\",\"lightgrey\",\"white\",\"white\",\"lightgrey\",\"white\",\"lightgrey\",\"white\"]]},\"font\":{\"color\":\"darkslategray\",\"size\":11},\"line\":{\"color\":\"darkslategray\"},\"values\":[[\"Split\",\"RushA\",\"RushB\",\"<b>TOTAL</b>\"],[41,11,16,68],[69,42,7,118],[21,2,17,40],[131,55,40,226]]},\"header\":{\"align\":[\"left\",\"center\"],\"fill\":{\"color\":\"grey\"},\"font\":{\"color\":\"white\",\"size\":12},\"line\":{\"color\":\"darkslategray\"},\"values\":[\"<b> </b>\",\"<b>Split</b>\",\"<b>FullA</b>\",\"<b>FullB</b>\",\"<b>Total</b>\"]},\"type\":\"table\"}],                        {\"template\":{\"data\":{\"bar\":[{\"error_x\":{\"color\":\"#2a3f5f\"},\"error_y\":{\"color\":\"#2a3f5f\"},\"marker\":{\"line\":{\"color\":\"#E5ECF6\",\"width\":0.5},\"pattern\":{\"fillmode\":\"overlay\",\"size\":10,\"solidity\":0.2}},\"type\":\"bar\"}],\"barpolar\":[{\"marker\":{\"line\":{\"color\":\"#E5ECF6\",\"width\":0.5},\"pattern\":{\"fillmode\":\"overlay\",\"size\":10,\"solidity\":0.2}},\"type\":\"barpolar\"}],\"carpet\":[{\"aaxis\":{\"endlinecolor\":\"#2a3f5f\",\"gridcolor\":\"white\",\"linecolor\":\"white\",\"minorgridcolor\":\"white\",\"startlinecolor\":\"#2a3f5f\"},\"baxis\":{\"endlinecolor\":\"#2a3f5f\",\"gridcolor\":\"white\",\"linecolor\":\"white\",\"minorgridcolor\":\"white\",\"startlinecolor\":\"#2a3f5f\"},\"type\":\"carpet\"}],\"choropleth\":[{\"colorbar\":{\"outlinewidth\":0,\"ticks\":\"\"},\"type\":\"choropleth\"}],\"contour\":[{\"colorbar\":{\"outlinewidth\":0,\"ticks\":\"\"},\"colorscale\":[[0.0,\"#0d0887\"],[0.1111111111111111,\"#46039f\"],[0.2222222222222222,\"#7201a8\"],[0.3333333333333333,\"#9c179e\"],[0.4444444444444444,\"#bd3786\"],[0.5555555555555556,\"#d8576b\"],[0.6666666666666666,\"#ed7953\"],[0.7777777777777778,\"#fb9f3a\"],[0.8888888888888888,\"#fdca26\"],[1.0,\"#f0f921\"]],\"type\":\"contour\"}],\"contourcarpet\":[{\"colorbar\":{\"outlinewidth\":0,\"ticks\":\"\"},\"type\":\"contourcarpet\"}],\"heatmap\":[{\"colorbar\":{\"outlinewidth\":0,\"ticks\":\"\"},\"colorscale\":[[0.0,\"#0d0887\"],[0.1111111111111111,\"#46039f\"],[0.2222222222222222,\"#7201a8\"],[0.3333333333333333,\"#9c179e\"],[0.4444444444444444,\"#bd3786\"],[0.5555555555555556,\"#d8576b\"],[0.6666666666666666,\"#ed7953\"],[0.7777777777777778,\"#fb9f3a\"],[0.8888888888888888,\"#fdca26\"],[1.0,\"#f0f921\"]],\"type\":\"heatmap\"}],\"heatmapgl\":[{\"colorbar\":{\"outlinewidth\":0,\"ticks\":\"\"},\"colorscale\":[[0.0,\"#0d0887\"],[0.1111111111111111,\"#46039f\"],[0.2222222222222222,\"#7201a8\"],[0.3333333333333333,\"#9c179e\"],[0.4444444444444444,\"#bd3786\"],[0.5555555555555556,\"#d8576b\"],[0.6666666666666666,\"#ed7953\"],[0.7777777777777778,\"#fb9f3a\"],[0.8888888888888888,\"#fdca26\"],[1.0,\"#f0f921\"]],\"type\":\"heatmapgl\"}],\"histogram\":[{\"marker\":{\"pattern\":{\"fillmode\":\"overlay\",\"size\":10,\"solidity\":0.2}},\"type\":\"histogram\"}],\"histogram2d\":[{\"colorbar\":{\"outlinewidth\":0,\"ticks\":\"\"},\"colorscale\":[[0.0,\"#0d0887\"],[0.1111111111111111,\"#46039f\"],[0.2222222222222222,\"#7201a8\"],[0.3333333333333333,\"#9c179e\"],[0.4444444444444444,\"#bd3786\"],[0.5555555555555556,\"#d8576b\"],[0.6666666666666666,\"#ed7953\"],[0.7777777777777778,\"#fb9f3a\"],[0.8888888888888888,\"#fdca26\"],[1.0,\"#f0f921\"]],\"type\":\"histogram2d\"}],\"histogram2dcontour\":[{\"colorbar\":{\"outlinewidth\":0,\"ticks\":\"\"},\"colorscale\":[[0.0,\"#0d0887\"],[0.1111111111111111,\"#46039f\"],[0.2222222222222222,\"#7201a8\"],[0.3333333333333333,\"#9c179e\"],[0.4444444444444444,\"#bd3786\"],[0.5555555555555556,\"#d8576b\"],[0.6666666666666666,\"#ed7953\"],[0.7777777777777778,\"#fb9f3a\"],[0.8888888888888888,\"#fdca26\"],[1.0,\"#f0f921\"]],\"type\":\"histogram2dcontour\"}],\"mesh3d\":[{\"colorbar\":{\"outlinewidth\":0,\"ticks\":\"\"},\"type\":\"mesh3d\"}],\"parcoords\":[{\"line\":{\"colorbar\":{\"outlinewidth\":0,\"ticks\":\"\"}},\"type\":\"parcoords\"}],\"pie\":[{\"automargin\":true,\"type\":\"pie\"}],\"scatter\":[{\"marker\":{\"colorbar\":{\"outlinewidth\":0,\"ticks\":\"\"}},\"type\":\"scatter\"}],\"scatter3d\":[{\"line\":{\"colorbar\":{\"outlinewidth\":0,\"ticks\":\"\"}},\"marker\":{\"colorbar\":{\"outlinewidth\":0,\"ticks\":\"\"}},\"type\":\"scatter3d\"}],\"scattercarpet\":[{\"marker\":{\"colorbar\":{\"outlinewidth\":0,\"ticks\":\"\"}},\"type\":\"scattercarpet\"}],\"scattergeo\":[{\"marker\":{\"colorbar\":{\"outlinewidth\":0,\"ticks\":\"\"}},\"type\":\"scattergeo\"}],\"scattergl\":[{\"marker\":{\"colorbar\":{\"outlinewidth\":0,\"ticks\":\"\"}},\"type\":\"scattergl\"}],\"scattermapbox\":[{\"marker\":{\"colorbar\":{\"outlinewidth\":0,\"ticks\":\"\"}},\"type\":\"scattermapbox\"}],\"scatterpolar\":[{\"marker\":{\"colorbar\":{\"outlinewidth\":0,\"ticks\":\"\"}},\"type\":\"scatterpolar\"}],\"scatterpolargl\":[{\"marker\":{\"colorbar\":{\"outlinewidth\":0,\"ticks\":\"\"}},\"type\":\"scatterpolargl\"}],\"scatterternary\":[{\"marker\":{\"colorbar\":{\"outlinewidth\":0,\"ticks\":\"\"}},\"type\":\"scatterternary\"}],\"surface\":[{\"colorbar\":{\"outlinewidth\":0,\"ticks\":\"\"},\"colorscale\":[[0.0,\"#0d0887\"],[0.1111111111111111,\"#46039f\"],[0.2222222222222222,\"#7201a8\"],[0.3333333333333333,\"#9c179e\"],[0.4444444444444444,\"#bd3786\"],[0.5555555555555556,\"#d8576b\"],[0.6666666666666666,\"#ed7953\"],[0.7777777777777778,\"#fb9f3a\"],[0.8888888888888888,\"#fdca26\"],[1.0,\"#f0f921\"]],\"type\":\"surface\"}],\"table\":[{\"cells\":{\"fill\":{\"color\":\"#EBF0F8\"},\"line\":{\"color\":\"white\"}},\"header\":{\"fill\":{\"color\":\"#C8D4E3\"},\"line\":{\"color\":\"white\"}},\"type\":\"table\"}]},\"layout\":{\"annotationdefaults\":{\"arrowcolor\":\"#2a3f5f\",\"arrowhead\":0,\"arrowwidth\":1},\"autotypenumbers\":\"strict\",\"coloraxis\":{\"colorbar\":{\"outlinewidth\":0,\"ticks\":\"\"}},\"colorscale\":{\"diverging\":[[0,\"#8e0152\"],[0.1,\"#c51b7d\"],[0.2,\"#de77ae\"],[0.3,\"#f1b6da\"],[0.4,\"#fde0ef\"],[0.5,\"#f7f7f7\"],[0.6,\"#e6f5d0\"],[0.7,\"#b8e186\"],[0.8,\"#7fbc41\"],[0.9,\"#4d9221\"],[1,\"#276419\"]],\"sequential\":[[0.0,\"#0d0887\"],[0.1111111111111111,\"#46039f\"],[0.2222222222222222,\"#7201a8\"],[0.3333333333333333,\"#9c179e\"],[0.4444444444444444,\"#bd3786\"],[0.5555555555555556,\"#d8576b\"],[0.6666666666666666,\"#ed7953\"],[0.7777777777777778,\"#fb9f3a\"],[0.8888888888888888,\"#fdca26\"],[1.0,\"#f0f921\"]],\"sequentialminus\":[[0.0,\"#0d0887\"],[0.1111111111111111,\"#46039f\"],[0.2222222222222222,\"#7201a8\"],[0.3333333333333333,\"#9c179e\"],[0.4444444444444444,\"#bd3786\"],[0.5555555555555556,\"#d8576b\"],[0.6666666666666666,\"#ed7953\"],[0.7777777777777778,\"#fb9f3a\"],[0.8888888888888888,\"#fdca26\"],[1.0,\"#f0f921\"]]},\"colorway\":[\"#636efa\",\"#EF553B\",\"#00cc96\",\"#ab63fa\",\"#FFA15A\",\"#19d3f3\",\"#FF6692\",\"#B6E880\",\"#FF97FF\",\"#FECB52\"],\"font\":{\"color\":\"#2a3f5f\"},\"geo\":{\"bgcolor\":\"white\",\"lakecolor\":\"white\",\"landcolor\":\"#E5ECF6\",\"showlakes\":true,\"showland\":true,\"subunitcolor\":\"white\"},\"hoverlabel\":{\"align\":\"left\"},\"hovermode\":\"closest\",\"mapbox\":{\"style\":\"light\"},\"paper_bgcolor\":\"white\",\"plot_bgcolor\":\"#E5ECF6\",\"polar\":{\"angularaxis\":{\"gridcolor\":\"white\",\"linecolor\":\"white\",\"ticks\":\"\"},\"bgcolor\":\"#E5ECF6\",\"radialaxis\":{\"gridcolor\":\"white\",\"linecolor\":\"white\",\"ticks\":\"\"}},\"scene\":{\"xaxis\":{\"backgroundcolor\":\"#E5ECF6\",\"gridcolor\":\"white\",\"gridwidth\":2,\"linecolor\":\"white\",\"showbackground\":true,\"ticks\":\"\",\"zerolinecolor\":\"white\"},\"yaxis\":{\"backgroundcolor\":\"#E5ECF6\",\"gridcolor\":\"white\",\"gridwidth\":2,\"linecolor\":\"white\",\"showbackground\":true,\"ticks\":\"\",\"zerolinecolor\":\"white\"},\"zaxis\":{\"backgroundcolor\":\"#E5ECF6\",\"gridcolor\":\"white\",\"gridwidth\":2,\"linecolor\":\"white\",\"showbackground\":true,\"ticks\":\"\",\"zerolinecolor\":\"white\"}},\"shapedefaults\":{\"line\":{\"color\":\"#2a3f5f\"}},\"ternary\":{\"aaxis\":{\"gridcolor\":\"white\",\"linecolor\":\"white\",\"ticks\":\"\"},\"baxis\":{\"gridcolor\":\"white\",\"linecolor\":\"white\",\"ticks\":\"\"},\"bgcolor\":\"#E5ECF6\",\"caxis\":{\"gridcolor\":\"white\",\"linecolor\":\"white\",\"ticks\":\"\"}},\"title\":{\"x\":0.05},\"xaxis\":{\"automargin\":true,\"gridcolor\":\"white\",\"linecolor\":\"white\",\"ticks\":\"\",\"title\":{\"standoff\":15},\"zerolinecolor\":\"white\",\"zerolinewidth\":2},\"yaxis\":{\"automargin\":true,\"gridcolor\":\"white\",\"linecolor\":\"white\",\"ticks\":\"\",\"title\":{\"standoff\":15},\"zerolinecolor\":\"white\",\"zerolinewidth\":2}}}},                        {\"responsive\": true}                    ).then(function(){\n",
              "                            \n",
              "var gd = document.getElementById('64b5bea4-a4b0-4dc3-b93e-b57966319cb2');\n",
              "var x = new MutationObserver(function (mutations, observer) {{\n",
              "        var display = window.getComputedStyle(gd).display;\n",
              "        if (!display || display === 'none') {{\n",
              "            console.log([gd, 'removed!']);\n",
              "            Plotly.purge(gd);\n",
              "            observer.disconnect();\n",
              "        }}\n",
              "}});\n",
              "\n",
              "// Listen for the removal of the full notebook cells\n",
              "var notebookContainer = gd.closest('#notebook-container');\n",
              "if (notebookContainer) {{\n",
              "    x.observe(notebookContainer, {childList: true});\n",
              "}}\n",
              "\n",
              "// Listen for the clearing of the current output cell\n",
              "var outputEl = gd.closest('.output');\n",
              "if (outputEl) {{\n",
              "    x.observe(outputEl, {childList: true});\n",
              "}}\n",
              "\n",
              "                        })                };                            </script>        </div>\n",
              "</body>\n",
              "</html>"
            ]
          },
          "metadata": {}
        }
      ]
    },
    {
      "cell_type": "code",
      "source": [
        "headerColor = 'grey'\n",
        "rowEvenColor = 'lightgrey'\n",
        "rowOddColor = 'white'\n",
        "\n",
        "fig = go.Figure(data=[go.Table(\n",
        "  header=dict(\n",
        "    values=['<b> </b>','<b>Split</b>','<b>FullA</b>','<b>FullB</b>','<b>Total</b>'],\n",
        "    line_color='darkslategray',\n",
        "    fill_color=headerColor,\n",
        "    align=['left','center'],\n",
        "    font=dict(color='white', size=12)\n",
        "  ),\n",
        "  cells=dict(\n",
        "    values=[\n",
        "      ['Split', 'RushA', 'RushB', '<b>TOTAL</b>'],\n",
        "      [Full_pi_SS , Full_pi_AS , Full_pi_BS , Full_pi_SS + Full_pi_AS + Full_pi_BS ],\n",
        "      [Full_pi_SA , Full_pi_AA , Full_pi_BA , Full_pi_SA + Full_pi_AA + Full_pi_BA ],\n",
        "      [Full_pi_SB , Full_pi_AB , Full_pi_BB , Full_pi_SB + Full_pi_AB + Full_pi_BB ],\n",
        "      [Full_pi_SS + Full_pi_SA + Full_pi_SB , Full_pi_AS + Full_pi_AA + Full_pi_AB ,\n",
        "       Full_pi_BS + Full_pi_BA + Full_pi_BB , Full_pi_SS + Full_pi_AS + Full_pi_BS  +\n",
        "       Full_pi_SA + Full_pi_AA + Full_pi_BA +\n",
        "       Full_pi_SB + Full_pi_AB + Full_pi_BB ]],\n",
        "    line_color='darkslategray',\n",
        "    # 2-D list of colors for alternating rows\n",
        "    fill_color = [[rowOddColor,rowEvenColor,rowOddColor, rowEvenColor,rowOddColor]*5],\n",
        "    align = ['left', 'center'],\n",
        "    font = dict(color = 'darkslategray', size = 11)\n",
        "    ))\n",
        "])\n",
        "\n",
        "#print(\"Gesamtzahl\")\n",
        "fig.show()"
      ],
      "metadata": {
        "colab": {
          "base_uri": "https://localhost:8080/",
          "height": 542
        },
        "id": "TQx0aiNnjEKv",
        "outputId": "88b376d6-48b9-4c08-ca3d-8e3a81c9bddb"
      },
      "execution_count": 14,
      "outputs": [
        {
          "output_type": "display_data",
          "data": {
            "text/html": [
              "<html>\n",
              "<head><meta charset=\"utf-8\" /></head>\n",
              "<body>\n",
              "    <div>            <script src=\"https://cdnjs.cloudflare.com/ajax/libs/mathjax/2.7.5/MathJax.js?config=TeX-AMS-MML_SVG\"></script><script type=\"text/javascript\">if (window.MathJax) {MathJax.Hub.Config({SVG: {font: \"STIX-Web\"}});}</script>                <script type=\"text/javascript\">window.PlotlyConfig = {MathJaxConfig: 'local'};</script>\n",
              "        <script src=\"https://cdn.plot.ly/plotly-2.8.3.min.js\"></script>                <div id=\"1d74167b-6063-4aa7-8f44-f23e7379ee03\" class=\"plotly-graph-div\" style=\"height:525px; width:100%;\"></div>            <script type=\"text/javascript\">                                    window.PLOTLYENV=window.PLOTLYENV || {};                                    if (document.getElementById(\"1d74167b-6063-4aa7-8f44-f23e7379ee03\")) {                    Plotly.newPlot(                        \"1d74167b-6063-4aa7-8f44-f23e7379ee03\",                        [{\"cells\":{\"align\":[\"left\",\"center\"],\"fill\":{\"color\":[[\"white\",\"lightgrey\",\"white\",\"lightgrey\",\"white\",\"white\",\"lightgrey\",\"white\",\"lightgrey\",\"white\",\"white\",\"lightgrey\",\"white\",\"lightgrey\",\"white\",\"white\",\"lightgrey\",\"white\",\"lightgrey\",\"white\",\"white\",\"lightgrey\",\"white\",\"lightgrey\",\"white\"]]},\"font\":{\"color\":\"darkslategray\",\"size\":11},\"line\":{\"color\":\"darkslategray\"},\"values\":[[\"Split\",\"RushA\",\"RushB\",\"<b>TOTAL</b>\"],[101,23,26,150],[141,74,15,230],[33,3,24,60],[275,100,65,440]]},\"header\":{\"align\":[\"left\",\"center\"],\"fill\":{\"color\":\"grey\"},\"font\":{\"color\":\"white\",\"size\":12},\"line\":{\"color\":\"darkslategray\"},\"values\":[\"<b> </b>\",\"<b>Split</b>\",\"<b>FullA</b>\",\"<b>FullB</b>\",\"<b>Total</b>\"]},\"type\":\"table\"}],                        {\"template\":{\"data\":{\"bar\":[{\"error_x\":{\"color\":\"#2a3f5f\"},\"error_y\":{\"color\":\"#2a3f5f\"},\"marker\":{\"line\":{\"color\":\"#E5ECF6\",\"width\":0.5},\"pattern\":{\"fillmode\":\"overlay\",\"size\":10,\"solidity\":0.2}},\"type\":\"bar\"}],\"barpolar\":[{\"marker\":{\"line\":{\"color\":\"#E5ECF6\",\"width\":0.5},\"pattern\":{\"fillmode\":\"overlay\",\"size\":10,\"solidity\":0.2}},\"type\":\"barpolar\"}],\"carpet\":[{\"aaxis\":{\"endlinecolor\":\"#2a3f5f\",\"gridcolor\":\"white\",\"linecolor\":\"white\",\"minorgridcolor\":\"white\",\"startlinecolor\":\"#2a3f5f\"},\"baxis\":{\"endlinecolor\":\"#2a3f5f\",\"gridcolor\":\"white\",\"linecolor\":\"white\",\"minorgridcolor\":\"white\",\"startlinecolor\":\"#2a3f5f\"},\"type\":\"carpet\"}],\"choropleth\":[{\"colorbar\":{\"outlinewidth\":0,\"ticks\":\"\"},\"type\":\"choropleth\"}],\"contour\":[{\"colorbar\":{\"outlinewidth\":0,\"ticks\":\"\"},\"colorscale\":[[0.0,\"#0d0887\"],[0.1111111111111111,\"#46039f\"],[0.2222222222222222,\"#7201a8\"],[0.3333333333333333,\"#9c179e\"],[0.4444444444444444,\"#bd3786\"],[0.5555555555555556,\"#d8576b\"],[0.6666666666666666,\"#ed7953\"],[0.7777777777777778,\"#fb9f3a\"],[0.8888888888888888,\"#fdca26\"],[1.0,\"#f0f921\"]],\"type\":\"contour\"}],\"contourcarpet\":[{\"colorbar\":{\"outlinewidth\":0,\"ticks\":\"\"},\"type\":\"contourcarpet\"}],\"heatmap\":[{\"colorbar\":{\"outlinewidth\":0,\"ticks\":\"\"},\"colorscale\":[[0.0,\"#0d0887\"],[0.1111111111111111,\"#46039f\"],[0.2222222222222222,\"#7201a8\"],[0.3333333333333333,\"#9c179e\"],[0.4444444444444444,\"#bd3786\"],[0.5555555555555556,\"#d8576b\"],[0.6666666666666666,\"#ed7953\"],[0.7777777777777778,\"#fb9f3a\"],[0.8888888888888888,\"#fdca26\"],[1.0,\"#f0f921\"]],\"type\":\"heatmap\"}],\"heatmapgl\":[{\"colorbar\":{\"outlinewidth\":0,\"ticks\":\"\"},\"colorscale\":[[0.0,\"#0d0887\"],[0.1111111111111111,\"#46039f\"],[0.2222222222222222,\"#7201a8\"],[0.3333333333333333,\"#9c179e\"],[0.4444444444444444,\"#bd3786\"],[0.5555555555555556,\"#d8576b\"],[0.6666666666666666,\"#ed7953\"],[0.7777777777777778,\"#fb9f3a\"],[0.8888888888888888,\"#fdca26\"],[1.0,\"#f0f921\"]],\"type\":\"heatmapgl\"}],\"histogram\":[{\"marker\":{\"pattern\":{\"fillmode\":\"overlay\",\"size\":10,\"solidity\":0.2}},\"type\":\"histogram\"}],\"histogram2d\":[{\"colorbar\":{\"outlinewidth\":0,\"ticks\":\"\"},\"colorscale\":[[0.0,\"#0d0887\"],[0.1111111111111111,\"#46039f\"],[0.2222222222222222,\"#7201a8\"],[0.3333333333333333,\"#9c179e\"],[0.4444444444444444,\"#bd3786\"],[0.5555555555555556,\"#d8576b\"],[0.6666666666666666,\"#ed7953\"],[0.7777777777777778,\"#fb9f3a\"],[0.8888888888888888,\"#fdca26\"],[1.0,\"#f0f921\"]],\"type\":\"histogram2d\"}],\"histogram2dcontour\":[{\"colorbar\":{\"outlinewidth\":0,\"ticks\":\"\"},\"colorscale\":[[0.0,\"#0d0887\"],[0.1111111111111111,\"#46039f\"],[0.2222222222222222,\"#7201a8\"],[0.3333333333333333,\"#9c179e\"],[0.4444444444444444,\"#bd3786\"],[0.5555555555555556,\"#d8576b\"],[0.6666666666666666,\"#ed7953\"],[0.7777777777777778,\"#fb9f3a\"],[0.8888888888888888,\"#fdca26\"],[1.0,\"#f0f921\"]],\"type\":\"histogram2dcontour\"}],\"mesh3d\":[{\"colorbar\":{\"outlinewidth\":0,\"ticks\":\"\"},\"type\":\"mesh3d\"}],\"parcoords\":[{\"line\":{\"colorbar\":{\"outlinewidth\":0,\"ticks\":\"\"}},\"type\":\"parcoords\"}],\"pie\":[{\"automargin\":true,\"type\":\"pie\"}],\"scatter\":[{\"marker\":{\"colorbar\":{\"outlinewidth\":0,\"ticks\":\"\"}},\"type\":\"scatter\"}],\"scatter3d\":[{\"line\":{\"colorbar\":{\"outlinewidth\":0,\"ticks\":\"\"}},\"marker\":{\"colorbar\":{\"outlinewidth\":0,\"ticks\":\"\"}},\"type\":\"scatter3d\"}],\"scattercarpet\":[{\"marker\":{\"colorbar\":{\"outlinewidth\":0,\"ticks\":\"\"}},\"type\":\"scattercarpet\"}],\"scattergeo\":[{\"marker\":{\"colorbar\":{\"outlinewidth\":0,\"ticks\":\"\"}},\"type\":\"scattergeo\"}],\"scattergl\":[{\"marker\":{\"colorbar\":{\"outlinewidth\":0,\"ticks\":\"\"}},\"type\":\"scattergl\"}],\"scattermapbox\":[{\"marker\":{\"colorbar\":{\"outlinewidth\":0,\"ticks\":\"\"}},\"type\":\"scattermapbox\"}],\"scatterpolar\":[{\"marker\":{\"colorbar\":{\"outlinewidth\":0,\"ticks\":\"\"}},\"type\":\"scatterpolar\"}],\"scatterpolargl\":[{\"marker\":{\"colorbar\":{\"outlinewidth\":0,\"ticks\":\"\"}},\"type\":\"scatterpolargl\"}],\"scatterternary\":[{\"marker\":{\"colorbar\":{\"outlinewidth\":0,\"ticks\":\"\"}},\"type\":\"scatterternary\"}],\"surface\":[{\"colorbar\":{\"outlinewidth\":0,\"ticks\":\"\"},\"colorscale\":[[0.0,\"#0d0887\"],[0.1111111111111111,\"#46039f\"],[0.2222222222222222,\"#7201a8\"],[0.3333333333333333,\"#9c179e\"],[0.4444444444444444,\"#bd3786\"],[0.5555555555555556,\"#d8576b\"],[0.6666666666666666,\"#ed7953\"],[0.7777777777777778,\"#fb9f3a\"],[0.8888888888888888,\"#fdca26\"],[1.0,\"#f0f921\"]],\"type\":\"surface\"}],\"table\":[{\"cells\":{\"fill\":{\"color\":\"#EBF0F8\"},\"line\":{\"color\":\"white\"}},\"header\":{\"fill\":{\"color\":\"#C8D4E3\"},\"line\":{\"color\":\"white\"}},\"type\":\"table\"}]},\"layout\":{\"annotationdefaults\":{\"arrowcolor\":\"#2a3f5f\",\"arrowhead\":0,\"arrowwidth\":1},\"autotypenumbers\":\"strict\",\"coloraxis\":{\"colorbar\":{\"outlinewidth\":0,\"ticks\":\"\"}},\"colorscale\":{\"diverging\":[[0,\"#8e0152\"],[0.1,\"#c51b7d\"],[0.2,\"#de77ae\"],[0.3,\"#f1b6da\"],[0.4,\"#fde0ef\"],[0.5,\"#f7f7f7\"],[0.6,\"#e6f5d0\"],[0.7,\"#b8e186\"],[0.8,\"#7fbc41\"],[0.9,\"#4d9221\"],[1,\"#276419\"]],\"sequential\":[[0.0,\"#0d0887\"],[0.1111111111111111,\"#46039f\"],[0.2222222222222222,\"#7201a8\"],[0.3333333333333333,\"#9c179e\"],[0.4444444444444444,\"#bd3786\"],[0.5555555555555556,\"#d8576b\"],[0.6666666666666666,\"#ed7953\"],[0.7777777777777778,\"#fb9f3a\"],[0.8888888888888888,\"#fdca26\"],[1.0,\"#f0f921\"]],\"sequentialminus\":[[0.0,\"#0d0887\"],[0.1111111111111111,\"#46039f\"],[0.2222222222222222,\"#7201a8\"],[0.3333333333333333,\"#9c179e\"],[0.4444444444444444,\"#bd3786\"],[0.5555555555555556,\"#d8576b\"],[0.6666666666666666,\"#ed7953\"],[0.7777777777777778,\"#fb9f3a\"],[0.8888888888888888,\"#fdca26\"],[1.0,\"#f0f921\"]]},\"colorway\":[\"#636efa\",\"#EF553B\",\"#00cc96\",\"#ab63fa\",\"#FFA15A\",\"#19d3f3\",\"#FF6692\",\"#B6E880\",\"#FF97FF\",\"#FECB52\"],\"font\":{\"color\":\"#2a3f5f\"},\"geo\":{\"bgcolor\":\"white\",\"lakecolor\":\"white\",\"landcolor\":\"#E5ECF6\",\"showlakes\":true,\"showland\":true,\"subunitcolor\":\"white\"},\"hoverlabel\":{\"align\":\"left\"},\"hovermode\":\"closest\",\"mapbox\":{\"style\":\"light\"},\"paper_bgcolor\":\"white\",\"plot_bgcolor\":\"#E5ECF6\",\"polar\":{\"angularaxis\":{\"gridcolor\":\"white\",\"linecolor\":\"white\",\"ticks\":\"\"},\"bgcolor\":\"#E5ECF6\",\"radialaxis\":{\"gridcolor\":\"white\",\"linecolor\":\"white\",\"ticks\":\"\"}},\"scene\":{\"xaxis\":{\"backgroundcolor\":\"#E5ECF6\",\"gridcolor\":\"white\",\"gridwidth\":2,\"linecolor\":\"white\",\"showbackground\":true,\"ticks\":\"\",\"zerolinecolor\":\"white\"},\"yaxis\":{\"backgroundcolor\":\"#E5ECF6\",\"gridcolor\":\"white\",\"gridwidth\":2,\"linecolor\":\"white\",\"showbackground\":true,\"ticks\":\"\",\"zerolinecolor\":\"white\"},\"zaxis\":{\"backgroundcolor\":\"#E5ECF6\",\"gridcolor\":\"white\",\"gridwidth\":2,\"linecolor\":\"white\",\"showbackground\":true,\"ticks\":\"\",\"zerolinecolor\":\"white\"}},\"shapedefaults\":{\"line\":{\"color\":\"#2a3f5f\"}},\"ternary\":{\"aaxis\":{\"gridcolor\":\"white\",\"linecolor\":\"white\",\"ticks\":\"\"},\"baxis\":{\"gridcolor\":\"white\",\"linecolor\":\"white\",\"ticks\":\"\"},\"bgcolor\":\"#E5ECF6\",\"caxis\":{\"gridcolor\":\"white\",\"linecolor\":\"white\",\"ticks\":\"\"}},\"title\":{\"x\":0.05},\"xaxis\":{\"automargin\":true,\"gridcolor\":\"white\",\"linecolor\":\"white\",\"ticks\":\"\",\"title\":{\"standoff\":15},\"zerolinecolor\":\"white\",\"zerolinewidth\":2},\"yaxis\":{\"automargin\":true,\"gridcolor\":\"white\",\"linecolor\":\"white\",\"ticks\":\"\",\"title\":{\"standoff\":15},\"zerolinecolor\":\"white\",\"zerolinewidth\":2}}}},                        {\"responsive\": true}                    ).then(function(){\n",
              "                            \n",
              "var gd = document.getElementById('1d74167b-6063-4aa7-8f44-f23e7379ee03');\n",
              "var x = new MutationObserver(function (mutations, observer) {{\n",
              "        var display = window.getComputedStyle(gd).display;\n",
              "        if (!display || display === 'none') {{\n",
              "            console.log([gd, 'removed!']);\n",
              "            Plotly.purge(gd);\n",
              "            observer.disconnect();\n",
              "        }}\n",
              "}});\n",
              "\n",
              "// Listen for the removal of the full notebook cells\n",
              "var notebookContainer = gd.closest('#notebook-container');\n",
              "if (notebookContainer) {{\n",
              "    x.observe(notebookContainer, {childList: true});\n",
              "}}\n",
              "\n",
              "// Listen for the clearing of the current output cell\n",
              "var outputEl = gd.closest('.output');\n",
              "if (outputEl) {{\n",
              "    x.observe(outputEl, {childList: true});\n",
              "}}\n",
              "\n",
              "                        })                };                            </script>        </div>\n",
              "</body>\n",
              "</html>"
            ]
          },
          "metadata": {}
        }
      ]
    },
    {
      "cell_type": "code",
      "source": [
        "headerColor = 'grey'\n",
        "rowEvenColor = 'lightgrey'\n",
        "rowOddColor = 'white'\n",
        "\n",
        "fig = go.Figure(data=[go.Table(\n",
        "  header=dict(\n",
        "    values=['<b> </b>','<b>Split</b>','<b>FullA</b>','<b>FullB</b>','<b>Total</b>'],\n",
        "    line_color='darkslategray',\n",
        "    fill_color=headerColor,\n",
        "    align=['left','center'],\n",
        "    font=dict(color='white', size=12)\n",
        "  ),\n",
        "  cells=dict(\n",
        "    values=[\n",
        "      ['Split', 'RushA', 'RushB', '<b>TOTAL</b>'],\n",
        "      [pi_SS.shape[0]/Full_pi_SS, pi_AS.shape[0]/Full_pi_AS, pi_BS.shape[0]/Full_pi_BS, pi_SS.shape[0]+ pi_AS.shape[0]+ pi_BS.shape[0]],\n",
        "      [pi_SA.shape[0]/Full_pi_SA, pi_AA.shape[0]/Full_pi_AA, pi_BA.shape[0]/Full_pi_BA, pi_SA.shape[0]+ pi_AA.shape[0]+ pi_BA.shape[0]],\n",
        "      [pi_SB.shape[0]/Full_pi_SB, pi_AB.shape[0]/Full_pi_AB, pi_BB.shape[0]/Full_pi_BB, pi_SB.shape[0]+ pi_AB.shape[0]+ pi_BB.shape[0]],\n",
        "      [pi_SS.shape[0]+ pi_SA.shape[0]+ pi_SB.shape[0], pi_AS.shape[0]+ pi_AA.shape[0]+ pi_AB.shape[0],\n",
        "       pi_BS.shape[0]+ pi_BA.shape[0]+ pi_BB.shape[0], pi_SS.shape[0]+ pi_AS.shape[0]+ pi_BS.shape[0] +\n",
        "       pi_SA.shape[0]+ pi_AA.shape[0]+ pi_BA.shape[0]+\n",
        "       pi_SB.shape[0]+ pi_AB.shape[0]+ pi_BB.shape[0]]],\n",
        "    line_color='darkslategray',\n",
        "    # 2-D list of colors for alternating rows\n",
        "    fill_color = [[rowOddColor,rowEvenColor,rowOddColor, rowEvenColor,rowOddColor]*5],\n",
        "    align = ['left', 'center'],\n",
        "    font = dict(color = 'darkslategray', size = 11)\n",
        "    ))\n",
        "])\n",
        "\n",
        "#print(\"SiegWKEIT der T Seite\")\n",
        "fig.show()"
      ],
      "metadata": {
        "colab": {
          "base_uri": "https://localhost:8080/",
          "height": 542
        },
        "id": "ZjJqacNdyyWC",
        "outputId": "30a4e692-e1b3-4fef-a064-e34f383835d6"
      },
      "execution_count": 15,
      "outputs": [
        {
          "output_type": "display_data",
          "data": {
            "text/html": [
              "<html>\n",
              "<head><meta charset=\"utf-8\" /></head>\n",
              "<body>\n",
              "    <div>            <script src=\"https://cdnjs.cloudflare.com/ajax/libs/mathjax/2.7.5/MathJax.js?config=TeX-AMS-MML_SVG\"></script><script type=\"text/javascript\">if (window.MathJax) {MathJax.Hub.Config({SVG: {font: \"STIX-Web\"}});}</script>                <script type=\"text/javascript\">window.PlotlyConfig = {MathJaxConfig: 'local'};</script>\n",
              "        <script src=\"https://cdn.plot.ly/plotly-2.8.3.min.js\"></script>                <div id=\"b02bde19-95de-498d-a4b8-fc604aad6db6\" class=\"plotly-graph-div\" style=\"height:525px; width:100%;\"></div>            <script type=\"text/javascript\">                                    window.PLOTLYENV=window.PLOTLYENV || {};                                    if (document.getElementById(\"b02bde19-95de-498d-a4b8-fc604aad6db6\")) {                    Plotly.newPlot(                        \"b02bde19-95de-498d-a4b8-fc604aad6db6\",                        [{\"cells\":{\"align\":[\"left\",\"center\"],\"fill\":{\"color\":[[\"white\",\"lightgrey\",\"white\",\"lightgrey\",\"white\",\"white\",\"lightgrey\",\"white\",\"lightgrey\",\"white\",\"white\",\"lightgrey\",\"white\",\"lightgrey\",\"white\",\"white\",\"lightgrey\",\"white\",\"lightgrey\",\"white\",\"white\",\"lightgrey\",\"white\",\"lightgrey\",\"white\"]]},\"font\":{\"color\":\"darkslategray\",\"size\":11},\"line\":{\"color\":\"darkslategray\"},\"values\":[[\"Split\",\"RushA\",\"RushB\",\"<b>TOTAL</b>\"],[0.40594059405940597,0.4782608695652174,0.6153846153846154,68],[0.48936170212765956,0.5675675675675675,0.4666666666666667,118],[0.6363636363636364,0.6666666666666666,0.7083333333333334,40],[131,55,40,226]]},\"header\":{\"align\":[\"left\",\"center\"],\"fill\":{\"color\":\"grey\"},\"font\":{\"color\":\"white\",\"size\":12},\"line\":{\"color\":\"darkslategray\"},\"values\":[\"<b> </b>\",\"<b>Split</b>\",\"<b>FullA</b>\",\"<b>FullB</b>\",\"<b>Total</b>\"]},\"type\":\"table\"}],                        {\"template\":{\"data\":{\"bar\":[{\"error_x\":{\"color\":\"#2a3f5f\"},\"error_y\":{\"color\":\"#2a3f5f\"},\"marker\":{\"line\":{\"color\":\"#E5ECF6\",\"width\":0.5},\"pattern\":{\"fillmode\":\"overlay\",\"size\":10,\"solidity\":0.2}},\"type\":\"bar\"}],\"barpolar\":[{\"marker\":{\"line\":{\"color\":\"#E5ECF6\",\"width\":0.5},\"pattern\":{\"fillmode\":\"overlay\",\"size\":10,\"solidity\":0.2}},\"type\":\"barpolar\"}],\"carpet\":[{\"aaxis\":{\"endlinecolor\":\"#2a3f5f\",\"gridcolor\":\"white\",\"linecolor\":\"white\",\"minorgridcolor\":\"white\",\"startlinecolor\":\"#2a3f5f\"},\"baxis\":{\"endlinecolor\":\"#2a3f5f\",\"gridcolor\":\"white\",\"linecolor\":\"white\",\"minorgridcolor\":\"white\",\"startlinecolor\":\"#2a3f5f\"},\"type\":\"carpet\"}],\"choropleth\":[{\"colorbar\":{\"outlinewidth\":0,\"ticks\":\"\"},\"type\":\"choropleth\"}],\"contour\":[{\"colorbar\":{\"outlinewidth\":0,\"ticks\":\"\"},\"colorscale\":[[0.0,\"#0d0887\"],[0.1111111111111111,\"#46039f\"],[0.2222222222222222,\"#7201a8\"],[0.3333333333333333,\"#9c179e\"],[0.4444444444444444,\"#bd3786\"],[0.5555555555555556,\"#d8576b\"],[0.6666666666666666,\"#ed7953\"],[0.7777777777777778,\"#fb9f3a\"],[0.8888888888888888,\"#fdca26\"],[1.0,\"#f0f921\"]],\"type\":\"contour\"}],\"contourcarpet\":[{\"colorbar\":{\"outlinewidth\":0,\"ticks\":\"\"},\"type\":\"contourcarpet\"}],\"heatmap\":[{\"colorbar\":{\"outlinewidth\":0,\"ticks\":\"\"},\"colorscale\":[[0.0,\"#0d0887\"],[0.1111111111111111,\"#46039f\"],[0.2222222222222222,\"#7201a8\"],[0.3333333333333333,\"#9c179e\"],[0.4444444444444444,\"#bd3786\"],[0.5555555555555556,\"#d8576b\"],[0.6666666666666666,\"#ed7953\"],[0.7777777777777778,\"#fb9f3a\"],[0.8888888888888888,\"#fdca26\"],[1.0,\"#f0f921\"]],\"type\":\"heatmap\"}],\"heatmapgl\":[{\"colorbar\":{\"outlinewidth\":0,\"ticks\":\"\"},\"colorscale\":[[0.0,\"#0d0887\"],[0.1111111111111111,\"#46039f\"],[0.2222222222222222,\"#7201a8\"],[0.3333333333333333,\"#9c179e\"],[0.4444444444444444,\"#bd3786\"],[0.5555555555555556,\"#d8576b\"],[0.6666666666666666,\"#ed7953\"],[0.7777777777777778,\"#fb9f3a\"],[0.8888888888888888,\"#fdca26\"],[1.0,\"#f0f921\"]],\"type\":\"heatmapgl\"}],\"histogram\":[{\"marker\":{\"pattern\":{\"fillmode\":\"overlay\",\"size\":10,\"solidity\":0.2}},\"type\":\"histogram\"}],\"histogram2d\":[{\"colorbar\":{\"outlinewidth\":0,\"ticks\":\"\"},\"colorscale\":[[0.0,\"#0d0887\"],[0.1111111111111111,\"#46039f\"],[0.2222222222222222,\"#7201a8\"],[0.3333333333333333,\"#9c179e\"],[0.4444444444444444,\"#bd3786\"],[0.5555555555555556,\"#d8576b\"],[0.6666666666666666,\"#ed7953\"],[0.7777777777777778,\"#fb9f3a\"],[0.8888888888888888,\"#fdca26\"],[1.0,\"#f0f921\"]],\"type\":\"histogram2d\"}],\"histogram2dcontour\":[{\"colorbar\":{\"outlinewidth\":0,\"ticks\":\"\"},\"colorscale\":[[0.0,\"#0d0887\"],[0.1111111111111111,\"#46039f\"],[0.2222222222222222,\"#7201a8\"],[0.3333333333333333,\"#9c179e\"],[0.4444444444444444,\"#bd3786\"],[0.5555555555555556,\"#d8576b\"],[0.6666666666666666,\"#ed7953\"],[0.7777777777777778,\"#fb9f3a\"],[0.8888888888888888,\"#fdca26\"],[1.0,\"#f0f921\"]],\"type\":\"histogram2dcontour\"}],\"mesh3d\":[{\"colorbar\":{\"outlinewidth\":0,\"ticks\":\"\"},\"type\":\"mesh3d\"}],\"parcoords\":[{\"line\":{\"colorbar\":{\"outlinewidth\":0,\"ticks\":\"\"}},\"type\":\"parcoords\"}],\"pie\":[{\"automargin\":true,\"type\":\"pie\"}],\"scatter\":[{\"marker\":{\"colorbar\":{\"outlinewidth\":0,\"ticks\":\"\"}},\"type\":\"scatter\"}],\"scatter3d\":[{\"line\":{\"colorbar\":{\"outlinewidth\":0,\"ticks\":\"\"}},\"marker\":{\"colorbar\":{\"outlinewidth\":0,\"ticks\":\"\"}},\"type\":\"scatter3d\"}],\"scattercarpet\":[{\"marker\":{\"colorbar\":{\"outlinewidth\":0,\"ticks\":\"\"}},\"type\":\"scattercarpet\"}],\"scattergeo\":[{\"marker\":{\"colorbar\":{\"outlinewidth\":0,\"ticks\":\"\"}},\"type\":\"scattergeo\"}],\"scattergl\":[{\"marker\":{\"colorbar\":{\"outlinewidth\":0,\"ticks\":\"\"}},\"type\":\"scattergl\"}],\"scattermapbox\":[{\"marker\":{\"colorbar\":{\"outlinewidth\":0,\"ticks\":\"\"}},\"type\":\"scattermapbox\"}],\"scatterpolar\":[{\"marker\":{\"colorbar\":{\"outlinewidth\":0,\"ticks\":\"\"}},\"type\":\"scatterpolar\"}],\"scatterpolargl\":[{\"marker\":{\"colorbar\":{\"outlinewidth\":0,\"ticks\":\"\"}},\"type\":\"scatterpolargl\"}],\"scatterternary\":[{\"marker\":{\"colorbar\":{\"outlinewidth\":0,\"ticks\":\"\"}},\"type\":\"scatterternary\"}],\"surface\":[{\"colorbar\":{\"outlinewidth\":0,\"ticks\":\"\"},\"colorscale\":[[0.0,\"#0d0887\"],[0.1111111111111111,\"#46039f\"],[0.2222222222222222,\"#7201a8\"],[0.3333333333333333,\"#9c179e\"],[0.4444444444444444,\"#bd3786\"],[0.5555555555555556,\"#d8576b\"],[0.6666666666666666,\"#ed7953\"],[0.7777777777777778,\"#fb9f3a\"],[0.8888888888888888,\"#fdca26\"],[1.0,\"#f0f921\"]],\"type\":\"surface\"}],\"table\":[{\"cells\":{\"fill\":{\"color\":\"#EBF0F8\"},\"line\":{\"color\":\"white\"}},\"header\":{\"fill\":{\"color\":\"#C8D4E3\"},\"line\":{\"color\":\"white\"}},\"type\":\"table\"}]},\"layout\":{\"annotationdefaults\":{\"arrowcolor\":\"#2a3f5f\",\"arrowhead\":0,\"arrowwidth\":1},\"autotypenumbers\":\"strict\",\"coloraxis\":{\"colorbar\":{\"outlinewidth\":0,\"ticks\":\"\"}},\"colorscale\":{\"diverging\":[[0,\"#8e0152\"],[0.1,\"#c51b7d\"],[0.2,\"#de77ae\"],[0.3,\"#f1b6da\"],[0.4,\"#fde0ef\"],[0.5,\"#f7f7f7\"],[0.6,\"#e6f5d0\"],[0.7,\"#b8e186\"],[0.8,\"#7fbc41\"],[0.9,\"#4d9221\"],[1,\"#276419\"]],\"sequential\":[[0.0,\"#0d0887\"],[0.1111111111111111,\"#46039f\"],[0.2222222222222222,\"#7201a8\"],[0.3333333333333333,\"#9c179e\"],[0.4444444444444444,\"#bd3786\"],[0.5555555555555556,\"#d8576b\"],[0.6666666666666666,\"#ed7953\"],[0.7777777777777778,\"#fb9f3a\"],[0.8888888888888888,\"#fdca26\"],[1.0,\"#f0f921\"]],\"sequentialminus\":[[0.0,\"#0d0887\"],[0.1111111111111111,\"#46039f\"],[0.2222222222222222,\"#7201a8\"],[0.3333333333333333,\"#9c179e\"],[0.4444444444444444,\"#bd3786\"],[0.5555555555555556,\"#d8576b\"],[0.6666666666666666,\"#ed7953\"],[0.7777777777777778,\"#fb9f3a\"],[0.8888888888888888,\"#fdca26\"],[1.0,\"#f0f921\"]]},\"colorway\":[\"#636efa\",\"#EF553B\",\"#00cc96\",\"#ab63fa\",\"#FFA15A\",\"#19d3f3\",\"#FF6692\",\"#B6E880\",\"#FF97FF\",\"#FECB52\"],\"font\":{\"color\":\"#2a3f5f\"},\"geo\":{\"bgcolor\":\"white\",\"lakecolor\":\"white\",\"landcolor\":\"#E5ECF6\",\"showlakes\":true,\"showland\":true,\"subunitcolor\":\"white\"},\"hoverlabel\":{\"align\":\"left\"},\"hovermode\":\"closest\",\"mapbox\":{\"style\":\"light\"},\"paper_bgcolor\":\"white\",\"plot_bgcolor\":\"#E5ECF6\",\"polar\":{\"angularaxis\":{\"gridcolor\":\"white\",\"linecolor\":\"white\",\"ticks\":\"\"},\"bgcolor\":\"#E5ECF6\",\"radialaxis\":{\"gridcolor\":\"white\",\"linecolor\":\"white\",\"ticks\":\"\"}},\"scene\":{\"xaxis\":{\"backgroundcolor\":\"#E5ECF6\",\"gridcolor\":\"white\",\"gridwidth\":2,\"linecolor\":\"white\",\"showbackground\":true,\"ticks\":\"\",\"zerolinecolor\":\"white\"},\"yaxis\":{\"backgroundcolor\":\"#E5ECF6\",\"gridcolor\":\"white\",\"gridwidth\":2,\"linecolor\":\"white\",\"showbackground\":true,\"ticks\":\"\",\"zerolinecolor\":\"white\"},\"zaxis\":{\"backgroundcolor\":\"#E5ECF6\",\"gridcolor\":\"white\",\"gridwidth\":2,\"linecolor\":\"white\",\"showbackground\":true,\"ticks\":\"\",\"zerolinecolor\":\"white\"}},\"shapedefaults\":{\"line\":{\"color\":\"#2a3f5f\"}},\"ternary\":{\"aaxis\":{\"gridcolor\":\"white\",\"linecolor\":\"white\",\"ticks\":\"\"},\"baxis\":{\"gridcolor\":\"white\",\"linecolor\":\"white\",\"ticks\":\"\"},\"bgcolor\":\"#E5ECF6\",\"caxis\":{\"gridcolor\":\"white\",\"linecolor\":\"white\",\"ticks\":\"\"}},\"title\":{\"x\":0.05},\"xaxis\":{\"automargin\":true,\"gridcolor\":\"white\",\"linecolor\":\"white\",\"ticks\":\"\",\"title\":{\"standoff\":15},\"zerolinecolor\":\"white\",\"zerolinewidth\":2},\"yaxis\":{\"automargin\":true,\"gridcolor\":\"white\",\"linecolor\":\"white\",\"ticks\":\"\",\"title\":{\"standoff\":15},\"zerolinecolor\":\"white\",\"zerolinewidth\":2}}}},                        {\"responsive\": true}                    ).then(function(){\n",
              "                            \n",
              "var gd = document.getElementById('b02bde19-95de-498d-a4b8-fc604aad6db6');\n",
              "var x = new MutationObserver(function (mutations, observer) {{\n",
              "        var display = window.getComputedStyle(gd).display;\n",
              "        if (!display || display === 'none') {{\n",
              "            console.log([gd, 'removed!']);\n",
              "            Plotly.purge(gd);\n",
              "            observer.disconnect();\n",
              "        }}\n",
              "}});\n",
              "\n",
              "// Listen for the removal of the full notebook cells\n",
              "var notebookContainer = gd.closest('#notebook-container');\n",
              "if (notebookContainer) {{\n",
              "    x.observe(notebookContainer, {childList: true});\n",
              "}}\n",
              "\n",
              "// Listen for the clearing of the current output cell\n",
              "var outputEl = gd.closest('.output');\n",
              "if (outputEl) {{\n",
              "    x.observe(outputEl, {childList: true});\n",
              "}}\n",
              "\n",
              "                        })                };                            </script>        </div>\n",
              "</body>\n",
              "</html>"
            ]
          },
          "metadata": {}
        }
      ]
    },
    {
      "cell_type": "code",
      "source": [
        "headerColor = 'grey'\n",
        "rowEvenColor = 'lightgrey'\n",
        "rowOddColor = 'white'\n",
        "\n",
        "fig = go.Figure(data=[go.Table(\n",
        "  header=dict(\n",
        "    values=['<b> </b>','<b>Split</b>','<b>FullA</b>','<b>FullB</b>','<b>Total</b>'],\n",
        "    line_color='darkslategray',\n",
        "    fill_color=headerColor,\n",
        "    align=['left','center'],\n",
        "    font=dict(color='white', size=12)\n",
        "  ),\n",
        "  cells=dict(\n",
        "    values=[\n",
        "      ['Split', 'RushA', 'RushB', '<b>TOTAL</b>'],\n",
        "      [CT_pi_SS.shape[0], CT_pi_AS.shape[0], CT_pi_BS.shape[0], CT_pi_SS.shape[0]+ CT_pi_AS.shape[0]+ CT_pi_BS.shape[0]],\n",
        "      [CT_pi_SA.shape[0], CT_pi_AA.shape[0], CT_pi_BA.shape[0], CT_pi_SA.shape[0]+ CT_pi_AA.shape[0]+ CT_pi_BA.shape[0]],\n",
        "      [CT_pi_SB.shape[0], CT_pi_AB.shape[0], CT_pi_BB.shape[0], CT_pi_SB.shape[0]+ CT_pi_AB.shape[0]+ CT_pi_BB.shape[0]],\n",
        "      [CT_pi_SS.shape[0]+ CT_pi_SA.shape[0]+ CT_pi_SB.shape[0], CT_pi_AS.shape[0]+ CT_pi_AA.shape[0]+ CT_pi_AB.shape[0],\n",
        "       CT_pi_BS.shape[0]+ CT_pi_BA.shape[0]+ CT_pi_BB.shape[0], CT_pi_SS.shape[0]+ CT_pi_AS.shape[0]+ CT_pi_BS.shape[0] +\n",
        "       CT_pi_SA.shape[0]+ CT_pi_AA.shape[0]+ CT_pi_BA.shape[0]+\n",
        "       CT_pi_SB.shape[0]+ CT_pi_AB.shape[0]+ CT_pi_BB.shape[0]]],\n",
        "    line_color='darkslategray',\n",
        "    # 2-D list of colors for alternating rows\n",
        "    fill_color = [[rowOddColor,rowEvenColor,rowOddColor, rowEvenColor,rowOddColor]*5],\n",
        "    align = ['left', 'center'],\n",
        "    font = dict(color = 'darkslategray', size = 11)\n",
        "    ))\n",
        "])\n",
        "\n",
        "#print(\"Siege der CT Seite\")\n",
        "fig.show()"
      ],
      "metadata": {
        "colab": {
          "base_uri": "https://localhost:8080/",
          "height": 542
        },
        "id": "FZOAkFE4WFYM",
        "outputId": "034924ef-9f61-41c0-8368-db4dc7a950da"
      },
      "execution_count": 16,
      "outputs": [
        {
          "output_type": "display_data",
          "data": {
            "text/html": [
              "<html>\n",
              "<head><meta charset=\"utf-8\" /></head>\n",
              "<body>\n",
              "    <div>            <script src=\"https://cdnjs.cloudflare.com/ajax/libs/mathjax/2.7.5/MathJax.js?config=TeX-AMS-MML_SVG\"></script><script type=\"text/javascript\">if (window.MathJax) {MathJax.Hub.Config({SVG: {font: \"STIX-Web\"}});}</script>                <script type=\"text/javascript\">window.PlotlyConfig = {MathJaxConfig: 'local'};</script>\n",
              "        <script src=\"https://cdn.plot.ly/plotly-2.8.3.min.js\"></script>                <div id=\"b43e4aa6-87fe-4e1a-a7ad-c0e31e9b4c08\" class=\"plotly-graph-div\" style=\"height:525px; width:100%;\"></div>            <script type=\"text/javascript\">                                    window.PLOTLYENV=window.PLOTLYENV || {};                                    if (document.getElementById(\"b43e4aa6-87fe-4e1a-a7ad-c0e31e9b4c08\")) {                    Plotly.newPlot(                        \"b43e4aa6-87fe-4e1a-a7ad-c0e31e9b4c08\",                        [{\"cells\":{\"align\":[\"left\",\"center\"],\"fill\":{\"color\":[[\"white\",\"lightgrey\",\"white\",\"lightgrey\",\"white\",\"white\",\"lightgrey\",\"white\",\"lightgrey\",\"white\",\"white\",\"lightgrey\",\"white\",\"lightgrey\",\"white\",\"white\",\"lightgrey\",\"white\",\"lightgrey\",\"white\",\"white\",\"lightgrey\",\"white\",\"lightgrey\",\"white\"]]},\"font\":{\"color\":\"darkslategray\",\"size\":11},\"line\":{\"color\":\"darkslategray\"},\"values\":[[\"Split\",\"RushA\",\"RushB\",\"<b>TOTAL</b>\"],[60,12,10,82],[72,32,8,112],[12,1,7,20],[144,45,25,214]]},\"header\":{\"align\":[\"left\",\"center\"],\"fill\":{\"color\":\"grey\"},\"font\":{\"color\":\"white\",\"size\":12},\"line\":{\"color\":\"darkslategray\"},\"values\":[\"<b> </b>\",\"<b>Split</b>\",\"<b>FullA</b>\",\"<b>FullB</b>\",\"<b>Total</b>\"]},\"type\":\"table\"}],                        {\"template\":{\"data\":{\"bar\":[{\"error_x\":{\"color\":\"#2a3f5f\"},\"error_y\":{\"color\":\"#2a3f5f\"},\"marker\":{\"line\":{\"color\":\"#E5ECF6\",\"width\":0.5},\"pattern\":{\"fillmode\":\"overlay\",\"size\":10,\"solidity\":0.2}},\"type\":\"bar\"}],\"barpolar\":[{\"marker\":{\"line\":{\"color\":\"#E5ECF6\",\"width\":0.5},\"pattern\":{\"fillmode\":\"overlay\",\"size\":10,\"solidity\":0.2}},\"type\":\"barpolar\"}],\"carpet\":[{\"aaxis\":{\"endlinecolor\":\"#2a3f5f\",\"gridcolor\":\"white\",\"linecolor\":\"white\",\"minorgridcolor\":\"white\",\"startlinecolor\":\"#2a3f5f\"},\"baxis\":{\"endlinecolor\":\"#2a3f5f\",\"gridcolor\":\"white\",\"linecolor\":\"white\",\"minorgridcolor\":\"white\",\"startlinecolor\":\"#2a3f5f\"},\"type\":\"carpet\"}],\"choropleth\":[{\"colorbar\":{\"outlinewidth\":0,\"ticks\":\"\"},\"type\":\"choropleth\"}],\"contour\":[{\"colorbar\":{\"outlinewidth\":0,\"ticks\":\"\"},\"colorscale\":[[0.0,\"#0d0887\"],[0.1111111111111111,\"#46039f\"],[0.2222222222222222,\"#7201a8\"],[0.3333333333333333,\"#9c179e\"],[0.4444444444444444,\"#bd3786\"],[0.5555555555555556,\"#d8576b\"],[0.6666666666666666,\"#ed7953\"],[0.7777777777777778,\"#fb9f3a\"],[0.8888888888888888,\"#fdca26\"],[1.0,\"#f0f921\"]],\"type\":\"contour\"}],\"contourcarpet\":[{\"colorbar\":{\"outlinewidth\":0,\"ticks\":\"\"},\"type\":\"contourcarpet\"}],\"heatmap\":[{\"colorbar\":{\"outlinewidth\":0,\"ticks\":\"\"},\"colorscale\":[[0.0,\"#0d0887\"],[0.1111111111111111,\"#46039f\"],[0.2222222222222222,\"#7201a8\"],[0.3333333333333333,\"#9c179e\"],[0.4444444444444444,\"#bd3786\"],[0.5555555555555556,\"#d8576b\"],[0.6666666666666666,\"#ed7953\"],[0.7777777777777778,\"#fb9f3a\"],[0.8888888888888888,\"#fdca26\"],[1.0,\"#f0f921\"]],\"type\":\"heatmap\"}],\"heatmapgl\":[{\"colorbar\":{\"outlinewidth\":0,\"ticks\":\"\"},\"colorscale\":[[0.0,\"#0d0887\"],[0.1111111111111111,\"#46039f\"],[0.2222222222222222,\"#7201a8\"],[0.3333333333333333,\"#9c179e\"],[0.4444444444444444,\"#bd3786\"],[0.5555555555555556,\"#d8576b\"],[0.6666666666666666,\"#ed7953\"],[0.7777777777777778,\"#fb9f3a\"],[0.8888888888888888,\"#fdca26\"],[1.0,\"#f0f921\"]],\"type\":\"heatmapgl\"}],\"histogram\":[{\"marker\":{\"pattern\":{\"fillmode\":\"overlay\",\"size\":10,\"solidity\":0.2}},\"type\":\"histogram\"}],\"histogram2d\":[{\"colorbar\":{\"outlinewidth\":0,\"ticks\":\"\"},\"colorscale\":[[0.0,\"#0d0887\"],[0.1111111111111111,\"#46039f\"],[0.2222222222222222,\"#7201a8\"],[0.3333333333333333,\"#9c179e\"],[0.4444444444444444,\"#bd3786\"],[0.5555555555555556,\"#d8576b\"],[0.6666666666666666,\"#ed7953\"],[0.7777777777777778,\"#fb9f3a\"],[0.8888888888888888,\"#fdca26\"],[1.0,\"#f0f921\"]],\"type\":\"histogram2d\"}],\"histogram2dcontour\":[{\"colorbar\":{\"outlinewidth\":0,\"ticks\":\"\"},\"colorscale\":[[0.0,\"#0d0887\"],[0.1111111111111111,\"#46039f\"],[0.2222222222222222,\"#7201a8\"],[0.3333333333333333,\"#9c179e\"],[0.4444444444444444,\"#bd3786\"],[0.5555555555555556,\"#d8576b\"],[0.6666666666666666,\"#ed7953\"],[0.7777777777777778,\"#fb9f3a\"],[0.8888888888888888,\"#fdca26\"],[1.0,\"#f0f921\"]],\"type\":\"histogram2dcontour\"}],\"mesh3d\":[{\"colorbar\":{\"outlinewidth\":0,\"ticks\":\"\"},\"type\":\"mesh3d\"}],\"parcoords\":[{\"line\":{\"colorbar\":{\"outlinewidth\":0,\"ticks\":\"\"}},\"type\":\"parcoords\"}],\"pie\":[{\"automargin\":true,\"type\":\"pie\"}],\"scatter\":[{\"marker\":{\"colorbar\":{\"outlinewidth\":0,\"ticks\":\"\"}},\"type\":\"scatter\"}],\"scatter3d\":[{\"line\":{\"colorbar\":{\"outlinewidth\":0,\"ticks\":\"\"}},\"marker\":{\"colorbar\":{\"outlinewidth\":0,\"ticks\":\"\"}},\"type\":\"scatter3d\"}],\"scattercarpet\":[{\"marker\":{\"colorbar\":{\"outlinewidth\":0,\"ticks\":\"\"}},\"type\":\"scattercarpet\"}],\"scattergeo\":[{\"marker\":{\"colorbar\":{\"outlinewidth\":0,\"ticks\":\"\"}},\"type\":\"scattergeo\"}],\"scattergl\":[{\"marker\":{\"colorbar\":{\"outlinewidth\":0,\"ticks\":\"\"}},\"type\":\"scattergl\"}],\"scattermapbox\":[{\"marker\":{\"colorbar\":{\"outlinewidth\":0,\"ticks\":\"\"}},\"type\":\"scattermapbox\"}],\"scatterpolar\":[{\"marker\":{\"colorbar\":{\"outlinewidth\":0,\"ticks\":\"\"}},\"type\":\"scatterpolar\"}],\"scatterpolargl\":[{\"marker\":{\"colorbar\":{\"outlinewidth\":0,\"ticks\":\"\"}},\"type\":\"scatterpolargl\"}],\"scatterternary\":[{\"marker\":{\"colorbar\":{\"outlinewidth\":0,\"ticks\":\"\"}},\"type\":\"scatterternary\"}],\"surface\":[{\"colorbar\":{\"outlinewidth\":0,\"ticks\":\"\"},\"colorscale\":[[0.0,\"#0d0887\"],[0.1111111111111111,\"#46039f\"],[0.2222222222222222,\"#7201a8\"],[0.3333333333333333,\"#9c179e\"],[0.4444444444444444,\"#bd3786\"],[0.5555555555555556,\"#d8576b\"],[0.6666666666666666,\"#ed7953\"],[0.7777777777777778,\"#fb9f3a\"],[0.8888888888888888,\"#fdca26\"],[1.0,\"#f0f921\"]],\"type\":\"surface\"}],\"table\":[{\"cells\":{\"fill\":{\"color\":\"#EBF0F8\"},\"line\":{\"color\":\"white\"}},\"header\":{\"fill\":{\"color\":\"#C8D4E3\"},\"line\":{\"color\":\"white\"}},\"type\":\"table\"}]},\"layout\":{\"annotationdefaults\":{\"arrowcolor\":\"#2a3f5f\",\"arrowhead\":0,\"arrowwidth\":1},\"autotypenumbers\":\"strict\",\"coloraxis\":{\"colorbar\":{\"outlinewidth\":0,\"ticks\":\"\"}},\"colorscale\":{\"diverging\":[[0,\"#8e0152\"],[0.1,\"#c51b7d\"],[0.2,\"#de77ae\"],[0.3,\"#f1b6da\"],[0.4,\"#fde0ef\"],[0.5,\"#f7f7f7\"],[0.6,\"#e6f5d0\"],[0.7,\"#b8e186\"],[0.8,\"#7fbc41\"],[0.9,\"#4d9221\"],[1,\"#276419\"]],\"sequential\":[[0.0,\"#0d0887\"],[0.1111111111111111,\"#46039f\"],[0.2222222222222222,\"#7201a8\"],[0.3333333333333333,\"#9c179e\"],[0.4444444444444444,\"#bd3786\"],[0.5555555555555556,\"#d8576b\"],[0.6666666666666666,\"#ed7953\"],[0.7777777777777778,\"#fb9f3a\"],[0.8888888888888888,\"#fdca26\"],[1.0,\"#f0f921\"]],\"sequentialminus\":[[0.0,\"#0d0887\"],[0.1111111111111111,\"#46039f\"],[0.2222222222222222,\"#7201a8\"],[0.3333333333333333,\"#9c179e\"],[0.4444444444444444,\"#bd3786\"],[0.5555555555555556,\"#d8576b\"],[0.6666666666666666,\"#ed7953\"],[0.7777777777777778,\"#fb9f3a\"],[0.8888888888888888,\"#fdca26\"],[1.0,\"#f0f921\"]]},\"colorway\":[\"#636efa\",\"#EF553B\",\"#00cc96\",\"#ab63fa\",\"#FFA15A\",\"#19d3f3\",\"#FF6692\",\"#B6E880\",\"#FF97FF\",\"#FECB52\"],\"font\":{\"color\":\"#2a3f5f\"},\"geo\":{\"bgcolor\":\"white\",\"lakecolor\":\"white\",\"landcolor\":\"#E5ECF6\",\"showlakes\":true,\"showland\":true,\"subunitcolor\":\"white\"},\"hoverlabel\":{\"align\":\"left\"},\"hovermode\":\"closest\",\"mapbox\":{\"style\":\"light\"},\"paper_bgcolor\":\"white\",\"plot_bgcolor\":\"#E5ECF6\",\"polar\":{\"angularaxis\":{\"gridcolor\":\"white\",\"linecolor\":\"white\",\"ticks\":\"\"},\"bgcolor\":\"#E5ECF6\",\"radialaxis\":{\"gridcolor\":\"white\",\"linecolor\":\"white\",\"ticks\":\"\"}},\"scene\":{\"xaxis\":{\"backgroundcolor\":\"#E5ECF6\",\"gridcolor\":\"white\",\"gridwidth\":2,\"linecolor\":\"white\",\"showbackground\":true,\"ticks\":\"\",\"zerolinecolor\":\"white\"},\"yaxis\":{\"backgroundcolor\":\"#E5ECF6\",\"gridcolor\":\"white\",\"gridwidth\":2,\"linecolor\":\"white\",\"showbackground\":true,\"ticks\":\"\",\"zerolinecolor\":\"white\"},\"zaxis\":{\"backgroundcolor\":\"#E5ECF6\",\"gridcolor\":\"white\",\"gridwidth\":2,\"linecolor\":\"white\",\"showbackground\":true,\"ticks\":\"\",\"zerolinecolor\":\"white\"}},\"shapedefaults\":{\"line\":{\"color\":\"#2a3f5f\"}},\"ternary\":{\"aaxis\":{\"gridcolor\":\"white\",\"linecolor\":\"white\",\"ticks\":\"\"},\"baxis\":{\"gridcolor\":\"white\",\"linecolor\":\"white\",\"ticks\":\"\"},\"bgcolor\":\"#E5ECF6\",\"caxis\":{\"gridcolor\":\"white\",\"linecolor\":\"white\",\"ticks\":\"\"}},\"title\":{\"x\":0.05},\"xaxis\":{\"automargin\":true,\"gridcolor\":\"white\",\"linecolor\":\"white\",\"ticks\":\"\",\"title\":{\"standoff\":15},\"zerolinecolor\":\"white\",\"zerolinewidth\":2},\"yaxis\":{\"automargin\":true,\"gridcolor\":\"white\",\"linecolor\":\"white\",\"ticks\":\"\",\"title\":{\"standoff\":15},\"zerolinecolor\":\"white\",\"zerolinewidth\":2}}}},                        {\"responsive\": true}                    ).then(function(){\n",
              "                            \n",
              "var gd = document.getElementById('b43e4aa6-87fe-4e1a-a7ad-c0e31e9b4c08');\n",
              "var x = new MutationObserver(function (mutations, observer) {{\n",
              "        var display = window.getComputedStyle(gd).display;\n",
              "        if (!display || display === 'none') {{\n",
              "            console.log([gd, 'removed!']);\n",
              "            Plotly.purge(gd);\n",
              "            observer.disconnect();\n",
              "        }}\n",
              "}});\n",
              "\n",
              "// Listen for the removal of the full notebook cells\n",
              "var notebookContainer = gd.closest('#notebook-container');\n",
              "if (notebookContainer) {{\n",
              "    x.observe(notebookContainer, {childList: true});\n",
              "}}\n",
              "\n",
              "// Listen for the clearing of the current output cell\n",
              "var outputEl = gd.closest('.output');\n",
              "if (outputEl) {{\n",
              "    x.observe(outputEl, {childList: true});\n",
              "}}\n",
              "\n",
              "                        })                };                            </script>        </div>\n",
              "</body>\n",
              "</html>"
            ]
          },
          "metadata": {}
        }
      ]
    },
    {
      "cell_type": "code",
      "source": [
        "headerColor = 'grey'\n",
        "rowEvenColor = 'lightgrey'\n",
        "rowOddColor = 'white'\n",
        "\n",
        "fig = go.Figure(data=[go.Table(\n",
        "  header=dict(\n",
        "    values=['<b> </b>','<b>Split</b>','<b>FullA</b>','<b>FullB</b>','<b>Total</b>'],\n",
        "    line_color='darkslategray',\n",
        "    fill_color=headerColor,\n",
        "    align=['left','center'],\n",
        "    font=dict(color='white', size=12)\n",
        "  ),\n",
        "  cells=dict(\n",
        "    values=[\n",
        "      ['Split', 'RushA', 'RushB', '<b>TOTAL</b>'],\n",
        "      [CT_pi_SS.shape[0]/Full_pi_SS, CT_pi_AS.shape[0]/Full_pi_AS, CT_pi_BS.shape[0]/Full_pi_BS, (CT_pi_SS.shape[0]+ CT_pi_AS.shape[0]+ CT_pi_BS.shape[0])/df_strategy.shape[0]],\n",
        "      [CT_pi_SA.shape[0]/Full_pi_SA, CT_pi_AA.shape[0]/Full_pi_AA, CT_pi_BA.shape[0]/Full_pi_BA, (CT_pi_SA.shape[0]+ CT_pi_AA.shape[0]+ CT_pi_BA.shape[0])/df_strategy.shape[0]],\n",
        "      [CT_pi_SB.shape[0]/Full_pi_SB, CT_pi_AB.shape[0]/Full_pi_AB, CT_pi_BB.shape[0]/Full_pi_BB, (CT_pi_SB.shape[0]+ CT_pi_AB.shape[0]+ CT_pi_BB.shape[0])/df_strategy.shape[0]],\n",
        "      [(CT_pi_SS.shape[0]+ CT_pi_SA.shape[0]+ CT_pi_SB.shape[0])/df_strategy.shape[0], (CT_pi_AS.shape[0]+ CT_pi_AA.shape[0]+ CT_pi_AB.shape[0])/df_strategy.shape[0],\n",
        "       (CT_pi_BS.shape[0]+ CT_pi_BA.shape[0]+ CT_pi_BB.shape[0])/df_strategy.shape[0], (CT_pi_SS.shape[0]+ CT_pi_AS.shape[0]+ CT_pi_BS.shape[0] +\n",
        "       CT_pi_SA.shape[0]+ CT_pi_AA.shape[0]+ CT_pi_BA.shape[0]+\n",
        "       CT_pi_SB.shape[0]+ CT_pi_AB.shape[0]+ CT_pi_BB.shape[0])/df_strategy.shape[0]]],\n",
        "    line_color='darkslategray',\n",
        "    # 2-D list of colors for alternating rows\n",
        "    fill_color = [[rowOddColor,rowEvenColor,rowOddColor, rowEvenColor,rowOddColor]*5],\n",
        "    align = ['left', 'center'],\n",
        "    font = dict(color = 'darkslategray', size = 11)\n",
        "    ))\n",
        "])\n",
        "\n",
        "#print(\"SiegWKEIT der CT Seite\")\n",
        "fig.show()"
      ],
      "metadata": {
        "colab": {
          "base_uri": "https://localhost:8080/",
          "height": 542
        },
        "id": "o_yQgYeOX12n",
        "outputId": "771be450-5b12-43c3-96f9-e24684ff237a"
      },
      "execution_count": 17,
      "outputs": [
        {
          "output_type": "display_data",
          "data": {
            "text/html": [
              "<html>\n",
              "<head><meta charset=\"utf-8\" /></head>\n",
              "<body>\n",
              "    <div>            <script src=\"https://cdnjs.cloudflare.com/ajax/libs/mathjax/2.7.5/MathJax.js?config=TeX-AMS-MML_SVG\"></script><script type=\"text/javascript\">if (window.MathJax) {MathJax.Hub.Config({SVG: {font: \"STIX-Web\"}});}</script>                <script type=\"text/javascript\">window.PlotlyConfig = {MathJaxConfig: 'local'};</script>\n",
              "        <script src=\"https://cdn.plot.ly/plotly-2.8.3.min.js\"></script>                <div id=\"75ebb0fb-4e97-47c4-b0db-41f575484d82\" class=\"plotly-graph-div\" style=\"height:525px; width:100%;\"></div>            <script type=\"text/javascript\">                                    window.PLOTLYENV=window.PLOTLYENV || {};                                    if (document.getElementById(\"75ebb0fb-4e97-47c4-b0db-41f575484d82\")) {                    Plotly.newPlot(                        \"75ebb0fb-4e97-47c4-b0db-41f575484d82\",                        [{\"cells\":{\"align\":[\"left\",\"center\"],\"fill\":{\"color\":[[\"white\",\"lightgrey\",\"white\",\"lightgrey\",\"white\",\"white\",\"lightgrey\",\"white\",\"lightgrey\",\"white\",\"white\",\"lightgrey\",\"white\",\"lightgrey\",\"white\",\"white\",\"lightgrey\",\"white\",\"lightgrey\",\"white\",\"white\",\"lightgrey\",\"white\",\"lightgrey\",\"white\"]]},\"font\":{\"color\":\"darkslategray\",\"size\":11},\"line\":{\"color\":\"darkslategray\"},\"values\":[[\"Split\",\"RushA\",\"RushB\",\"<b>TOTAL</b>\"],[0.594059405940594,0.5217391304347826,0.38461538461538464,0.18636363636363637],[0.5106382978723404,0.43243243243243246,0.5333333333333333,0.2545454545454545],[0.36363636363636365,0.3333333333333333,0.2916666666666667,0.045454545454545456],[0.32727272727272727,0.10227272727272728,0.056818181818181816,0.4863636363636364]]},\"header\":{\"align\":[\"left\",\"center\"],\"fill\":{\"color\":\"grey\"},\"font\":{\"color\":\"white\",\"size\":12},\"line\":{\"color\":\"darkslategray\"},\"values\":[\"<b> </b>\",\"<b>Split</b>\",\"<b>FullA</b>\",\"<b>FullB</b>\",\"<b>Total</b>\"]},\"type\":\"table\"}],                        {\"template\":{\"data\":{\"bar\":[{\"error_x\":{\"color\":\"#2a3f5f\"},\"error_y\":{\"color\":\"#2a3f5f\"},\"marker\":{\"line\":{\"color\":\"#E5ECF6\",\"width\":0.5},\"pattern\":{\"fillmode\":\"overlay\",\"size\":10,\"solidity\":0.2}},\"type\":\"bar\"}],\"barpolar\":[{\"marker\":{\"line\":{\"color\":\"#E5ECF6\",\"width\":0.5},\"pattern\":{\"fillmode\":\"overlay\",\"size\":10,\"solidity\":0.2}},\"type\":\"barpolar\"}],\"carpet\":[{\"aaxis\":{\"endlinecolor\":\"#2a3f5f\",\"gridcolor\":\"white\",\"linecolor\":\"white\",\"minorgridcolor\":\"white\",\"startlinecolor\":\"#2a3f5f\"},\"baxis\":{\"endlinecolor\":\"#2a3f5f\",\"gridcolor\":\"white\",\"linecolor\":\"white\",\"minorgridcolor\":\"white\",\"startlinecolor\":\"#2a3f5f\"},\"type\":\"carpet\"}],\"choropleth\":[{\"colorbar\":{\"outlinewidth\":0,\"ticks\":\"\"},\"type\":\"choropleth\"}],\"contour\":[{\"colorbar\":{\"outlinewidth\":0,\"ticks\":\"\"},\"colorscale\":[[0.0,\"#0d0887\"],[0.1111111111111111,\"#46039f\"],[0.2222222222222222,\"#7201a8\"],[0.3333333333333333,\"#9c179e\"],[0.4444444444444444,\"#bd3786\"],[0.5555555555555556,\"#d8576b\"],[0.6666666666666666,\"#ed7953\"],[0.7777777777777778,\"#fb9f3a\"],[0.8888888888888888,\"#fdca26\"],[1.0,\"#f0f921\"]],\"type\":\"contour\"}],\"contourcarpet\":[{\"colorbar\":{\"outlinewidth\":0,\"ticks\":\"\"},\"type\":\"contourcarpet\"}],\"heatmap\":[{\"colorbar\":{\"outlinewidth\":0,\"ticks\":\"\"},\"colorscale\":[[0.0,\"#0d0887\"],[0.1111111111111111,\"#46039f\"],[0.2222222222222222,\"#7201a8\"],[0.3333333333333333,\"#9c179e\"],[0.4444444444444444,\"#bd3786\"],[0.5555555555555556,\"#d8576b\"],[0.6666666666666666,\"#ed7953\"],[0.7777777777777778,\"#fb9f3a\"],[0.8888888888888888,\"#fdca26\"],[1.0,\"#f0f921\"]],\"type\":\"heatmap\"}],\"heatmapgl\":[{\"colorbar\":{\"outlinewidth\":0,\"ticks\":\"\"},\"colorscale\":[[0.0,\"#0d0887\"],[0.1111111111111111,\"#46039f\"],[0.2222222222222222,\"#7201a8\"],[0.3333333333333333,\"#9c179e\"],[0.4444444444444444,\"#bd3786\"],[0.5555555555555556,\"#d8576b\"],[0.6666666666666666,\"#ed7953\"],[0.7777777777777778,\"#fb9f3a\"],[0.8888888888888888,\"#fdca26\"],[1.0,\"#f0f921\"]],\"type\":\"heatmapgl\"}],\"histogram\":[{\"marker\":{\"pattern\":{\"fillmode\":\"overlay\",\"size\":10,\"solidity\":0.2}},\"type\":\"histogram\"}],\"histogram2d\":[{\"colorbar\":{\"outlinewidth\":0,\"ticks\":\"\"},\"colorscale\":[[0.0,\"#0d0887\"],[0.1111111111111111,\"#46039f\"],[0.2222222222222222,\"#7201a8\"],[0.3333333333333333,\"#9c179e\"],[0.4444444444444444,\"#bd3786\"],[0.5555555555555556,\"#d8576b\"],[0.6666666666666666,\"#ed7953\"],[0.7777777777777778,\"#fb9f3a\"],[0.8888888888888888,\"#fdca26\"],[1.0,\"#f0f921\"]],\"type\":\"histogram2d\"}],\"histogram2dcontour\":[{\"colorbar\":{\"outlinewidth\":0,\"ticks\":\"\"},\"colorscale\":[[0.0,\"#0d0887\"],[0.1111111111111111,\"#46039f\"],[0.2222222222222222,\"#7201a8\"],[0.3333333333333333,\"#9c179e\"],[0.4444444444444444,\"#bd3786\"],[0.5555555555555556,\"#d8576b\"],[0.6666666666666666,\"#ed7953\"],[0.7777777777777778,\"#fb9f3a\"],[0.8888888888888888,\"#fdca26\"],[1.0,\"#f0f921\"]],\"type\":\"histogram2dcontour\"}],\"mesh3d\":[{\"colorbar\":{\"outlinewidth\":0,\"ticks\":\"\"},\"type\":\"mesh3d\"}],\"parcoords\":[{\"line\":{\"colorbar\":{\"outlinewidth\":0,\"ticks\":\"\"}},\"type\":\"parcoords\"}],\"pie\":[{\"automargin\":true,\"type\":\"pie\"}],\"scatter\":[{\"marker\":{\"colorbar\":{\"outlinewidth\":0,\"ticks\":\"\"}},\"type\":\"scatter\"}],\"scatter3d\":[{\"line\":{\"colorbar\":{\"outlinewidth\":0,\"ticks\":\"\"}},\"marker\":{\"colorbar\":{\"outlinewidth\":0,\"ticks\":\"\"}},\"type\":\"scatter3d\"}],\"scattercarpet\":[{\"marker\":{\"colorbar\":{\"outlinewidth\":0,\"ticks\":\"\"}},\"type\":\"scattercarpet\"}],\"scattergeo\":[{\"marker\":{\"colorbar\":{\"outlinewidth\":0,\"ticks\":\"\"}},\"type\":\"scattergeo\"}],\"scattergl\":[{\"marker\":{\"colorbar\":{\"outlinewidth\":0,\"ticks\":\"\"}},\"type\":\"scattergl\"}],\"scattermapbox\":[{\"marker\":{\"colorbar\":{\"outlinewidth\":0,\"ticks\":\"\"}},\"type\":\"scattermapbox\"}],\"scatterpolar\":[{\"marker\":{\"colorbar\":{\"outlinewidth\":0,\"ticks\":\"\"}},\"type\":\"scatterpolar\"}],\"scatterpolargl\":[{\"marker\":{\"colorbar\":{\"outlinewidth\":0,\"ticks\":\"\"}},\"type\":\"scatterpolargl\"}],\"scatterternary\":[{\"marker\":{\"colorbar\":{\"outlinewidth\":0,\"ticks\":\"\"}},\"type\":\"scatterternary\"}],\"surface\":[{\"colorbar\":{\"outlinewidth\":0,\"ticks\":\"\"},\"colorscale\":[[0.0,\"#0d0887\"],[0.1111111111111111,\"#46039f\"],[0.2222222222222222,\"#7201a8\"],[0.3333333333333333,\"#9c179e\"],[0.4444444444444444,\"#bd3786\"],[0.5555555555555556,\"#d8576b\"],[0.6666666666666666,\"#ed7953\"],[0.7777777777777778,\"#fb9f3a\"],[0.8888888888888888,\"#fdca26\"],[1.0,\"#f0f921\"]],\"type\":\"surface\"}],\"table\":[{\"cells\":{\"fill\":{\"color\":\"#EBF0F8\"},\"line\":{\"color\":\"white\"}},\"header\":{\"fill\":{\"color\":\"#C8D4E3\"},\"line\":{\"color\":\"white\"}},\"type\":\"table\"}]},\"layout\":{\"annotationdefaults\":{\"arrowcolor\":\"#2a3f5f\",\"arrowhead\":0,\"arrowwidth\":1},\"autotypenumbers\":\"strict\",\"coloraxis\":{\"colorbar\":{\"outlinewidth\":0,\"ticks\":\"\"}},\"colorscale\":{\"diverging\":[[0,\"#8e0152\"],[0.1,\"#c51b7d\"],[0.2,\"#de77ae\"],[0.3,\"#f1b6da\"],[0.4,\"#fde0ef\"],[0.5,\"#f7f7f7\"],[0.6,\"#e6f5d0\"],[0.7,\"#b8e186\"],[0.8,\"#7fbc41\"],[0.9,\"#4d9221\"],[1,\"#276419\"]],\"sequential\":[[0.0,\"#0d0887\"],[0.1111111111111111,\"#46039f\"],[0.2222222222222222,\"#7201a8\"],[0.3333333333333333,\"#9c179e\"],[0.4444444444444444,\"#bd3786\"],[0.5555555555555556,\"#d8576b\"],[0.6666666666666666,\"#ed7953\"],[0.7777777777777778,\"#fb9f3a\"],[0.8888888888888888,\"#fdca26\"],[1.0,\"#f0f921\"]],\"sequentialminus\":[[0.0,\"#0d0887\"],[0.1111111111111111,\"#46039f\"],[0.2222222222222222,\"#7201a8\"],[0.3333333333333333,\"#9c179e\"],[0.4444444444444444,\"#bd3786\"],[0.5555555555555556,\"#d8576b\"],[0.6666666666666666,\"#ed7953\"],[0.7777777777777778,\"#fb9f3a\"],[0.8888888888888888,\"#fdca26\"],[1.0,\"#f0f921\"]]},\"colorway\":[\"#636efa\",\"#EF553B\",\"#00cc96\",\"#ab63fa\",\"#FFA15A\",\"#19d3f3\",\"#FF6692\",\"#B6E880\",\"#FF97FF\",\"#FECB52\"],\"font\":{\"color\":\"#2a3f5f\"},\"geo\":{\"bgcolor\":\"white\",\"lakecolor\":\"white\",\"landcolor\":\"#E5ECF6\",\"showlakes\":true,\"showland\":true,\"subunitcolor\":\"white\"},\"hoverlabel\":{\"align\":\"left\"},\"hovermode\":\"closest\",\"mapbox\":{\"style\":\"light\"},\"paper_bgcolor\":\"white\",\"plot_bgcolor\":\"#E5ECF6\",\"polar\":{\"angularaxis\":{\"gridcolor\":\"white\",\"linecolor\":\"white\",\"ticks\":\"\"},\"bgcolor\":\"#E5ECF6\",\"radialaxis\":{\"gridcolor\":\"white\",\"linecolor\":\"white\",\"ticks\":\"\"}},\"scene\":{\"xaxis\":{\"backgroundcolor\":\"#E5ECF6\",\"gridcolor\":\"white\",\"gridwidth\":2,\"linecolor\":\"white\",\"showbackground\":true,\"ticks\":\"\",\"zerolinecolor\":\"white\"},\"yaxis\":{\"backgroundcolor\":\"#E5ECF6\",\"gridcolor\":\"white\",\"gridwidth\":2,\"linecolor\":\"white\",\"showbackground\":true,\"ticks\":\"\",\"zerolinecolor\":\"white\"},\"zaxis\":{\"backgroundcolor\":\"#E5ECF6\",\"gridcolor\":\"white\",\"gridwidth\":2,\"linecolor\":\"white\",\"showbackground\":true,\"ticks\":\"\",\"zerolinecolor\":\"white\"}},\"shapedefaults\":{\"line\":{\"color\":\"#2a3f5f\"}},\"ternary\":{\"aaxis\":{\"gridcolor\":\"white\",\"linecolor\":\"white\",\"ticks\":\"\"},\"baxis\":{\"gridcolor\":\"white\",\"linecolor\":\"white\",\"ticks\":\"\"},\"bgcolor\":\"#E5ECF6\",\"caxis\":{\"gridcolor\":\"white\",\"linecolor\":\"white\",\"ticks\":\"\"}},\"title\":{\"x\":0.05},\"xaxis\":{\"automargin\":true,\"gridcolor\":\"white\",\"linecolor\":\"white\",\"ticks\":\"\",\"title\":{\"standoff\":15},\"zerolinecolor\":\"white\",\"zerolinewidth\":2},\"yaxis\":{\"automargin\":true,\"gridcolor\":\"white\",\"linecolor\":\"white\",\"ticks\":\"\",\"title\":{\"standoff\":15},\"zerolinecolor\":\"white\",\"zerolinewidth\":2}}}},                        {\"responsive\": true}                    ).then(function(){\n",
              "                            \n",
              "var gd = document.getElementById('75ebb0fb-4e97-47c4-b0db-41f575484d82');\n",
              "var x = new MutationObserver(function (mutations, observer) {{\n",
              "        var display = window.getComputedStyle(gd).display;\n",
              "        if (!display || display === 'none') {{\n",
              "            console.log([gd, 'removed!']);\n",
              "            Plotly.purge(gd);\n",
              "            observer.disconnect();\n",
              "        }}\n",
              "}});\n",
              "\n",
              "// Listen for the removal of the full notebook cells\n",
              "var notebookContainer = gd.closest('#notebook-container');\n",
              "if (notebookContainer) {{\n",
              "    x.observe(notebookContainer, {childList: true});\n",
              "}}\n",
              "\n",
              "// Listen for the clearing of the current output cell\n",
              "var outputEl = gd.closest('.output');\n",
              "if (outputEl) {{\n",
              "    x.observe(outputEl, {childList: true});\n",
              "}}\n",
              "\n",
              "                        })                };                            </script>        </div>\n",
              "</body>\n",
              "</html>"
            ]
          },
          "metadata": {}
        }
      ]
    },
    {
      "cell_type": "markdown",
      "source": [
        "#Nash Test"
      ],
      "metadata": {
        "id": "F5HZj8tuTvcV"
      }
    },
    {
      "cell_type": "code",
      "source": [
        "\n",
        "A = np.array([[pi_SS.shape[0]/Full_pi_SS, pi_SA.shape[0]/Full_pi_SA, pi_SB.shape[0]/Full_pi_SB], \n",
        "              [pi_AS.shape[0]/Full_pi_AS, pi_AA.shape[0]/Full_pi_AA, pi_AB.shape[0]/Full_pi_AB],\n",
        "              [pi_BS.shape[0]/Full_pi_BS, pi_BA.shape[0]/Full_pi_BA, pi_BB.shape[0]/Full_pi_BB]])\n",
        "\n",
        "B = np.array([[CT_pi_SS.shape[0]/Full_pi_SS, CT_pi_SA.shape[0]/Full_pi_SA, CT_pi_SB.shape[0]/Full_pi_SB], \n",
        "              [CT_pi_AS.shape[0]/Full_pi_AS, CT_pi_AA.shape[0]/Full_pi_AA, CT_pi_AB.shape[0]/Full_pi_AB],\n",
        "              [CT_pi_BS.shape[0]/Full_pi_BS, CT_pi_BA.shape[0]/Full_pi_BA, CT_pi_BB.shape[0]/Full_pi_BB]])\n",
        "\n",
        "#B = np.array([[CT_pi_SS.shape[0]/Full_pi_SS, CT_pi_AS.shape[0]/Full_pi_AS, CT_pi_BS.shape[0]/Full_pi_BS], \n",
        "#              [CT_pi_SA.shape[0]/Full_pi_SA, CT_pi_AA.shape[0]/Full_pi_AA, CT_pi_BA.shape[0]/Full_pi_BA],\n",
        "#              [CT_pi_SB.shape[0]/Full_pi_SB, CT_pi_AB.shape[0]/Full_pi_AB, CT_pi_BB.shape[0]/Full_pi_BB]])\n",
        "CSGO = nash.Game(A, B)\n",
        "CSGO"
      ],
      "metadata": {
        "colab": {
          "base_uri": "https://localhost:8080/"
        },
        "id": "Molov4rnTw7v",
        "outputId": "c6571f8b-28d6-4126-a669-bbe3fcd1f266"
      },
      "execution_count": 18,
      "outputs": [
        {
          "output_type": "execute_result",
          "data": {
            "text/plain": [
              "Bi matrix game with payoff matrices:\n",
              "\n",
              "Row player:\n",
              "[[0.40594059 0.4893617  0.63636364]\n",
              " [0.47826087 0.56756757 0.66666667]\n",
              " [0.61538462 0.46666667 0.70833333]]\n",
              "\n",
              "Column player:\n",
              "[[0.59405941 0.5106383  0.36363636]\n",
              " [0.52173913 0.43243243 0.33333333]\n",
              " [0.38461538 0.53333333 0.29166667]]"
            ]
          },
          "metadata": {},
          "execution_count": 18
        }
      ]
    },
    {
      "cell_type": "code",
      "source": [
        "equilibria = CSGO.support_enumeration()\n",
        "for eq in equilibria:\n",
        "    print(eq)"
      ],
      "metadata": {
        "colab": {
          "base_uri": "https://localhost:8080/"
        },
        "id": "QfbRtrTrXjgV",
        "outputId": "ec9a5afa-8801-4534-9d67-1caf98fc5d23"
      },
      "execution_count": 19,
      "outputs": [
        {
          "output_type": "stream",
          "name": "stdout",
          "text": [
            "(array([0.        , 0.62480063, 0.37519937]), array([0.42390947, 0.57609053, 0.        ]))\n"
          ]
        }
      ]
    },
    {
      "cell_type": "markdown",
      "source": [
        "#AB HIER: Versuch \n",
        "1. Spieler lokalisieren (X & Y Koord. Suchen)\n",
        "2. Genauen Bereich lokalisieren (Durch NAV File)"
      ],
      "metadata": {
        "id": "Ugwt1si7jiqh"
      }
    },
    {
      "cell_type": "code",
      "source": [
        "#1. Spieler lokalisieren und erste 20 sek. tracken\n",
        "\n",
        "player= df[\"playerFrames\"]\n",
        "track3 = player\n",
        "\n",
        "track4 = track3[(track3['seconds'] > 0) & (track3['seconds'] <= 20)]\n",
        "track4 = track4.loc[track4[\"roundNum\"]==17] \n",
        "track4 = track4.loc[track4[\"side\"]==\"T\"]"
      ],
      "metadata": {
        "id": "lvgLyiqkjxqQ"
      },
      "execution_count": 20,
      "outputs": []
    },
    {
      "cell_type": "code",
      "source": [
        "#2. Suche Position d. Spielers in NAV Datei\n",
        "\n",
        "#ziehe Daten der Map\n",
        "#t = NAV_CSV[NAV_CSV[\"mapName\"] == \"de_dust2\"]\n",
        "\n",
        "#loaklisiere Spieler\n",
        "#f = t[(t['northWestX'] > track5.iloc[0][\"x\"]-80) & (t['northWestX'] < track5.iloc[0][\"x\"]+80)]\n",
        "#f = f[(f['northWestY'] > track5.iloc[0][\"y\"]-80) & (f['northWestY'] < track5.iloc[0][\"y\"]+80)]\n",
        "\n",
        "#nehme nur eine Position, die die am häufigsten auftritt, da durch Z-Koord. diese häufiger auftreten. Durch höchste Anzahl sollte die richtige koord. gewählt werden\n",
        "#loc = f[\"areaName\"].value_counts().idxmax()\n",
        "\n"
      ],
      "metadata": {
        "id": "gC0la2XXlMc4"
      },
      "execution_count": 21,
      "outputs": []
    },
    {
      "cell_type": "code",
      "source": [
        "#track5 = track5.reset_index() \n",
        "\n",
        "#Finde Positionen für alle Spieler in den ersten 20 sekunden zu jeder sekunde\n",
        "\n",
        "#initialisiere leere Liste um später Positionen einzuspeichern\n",
        "area = []\n",
        "#für jede Reihe durchgehen und Position festlegen und in Liste einspeichern --> jede Sekunde für jeden Spieler\n",
        "for index, row in track4.iterrows():\n",
        "  f = t[(t['northWestX'] > row['x']-80) & (t['northWestX'] < row['x']+80)]\n",
        "  f = f[(f['northWestY'] > row['y']-80) & (f['northWestY'] < row['y']+80)]\n",
        "  \n",
        "  if f.empty:\n",
        "    loc = \"MISTAKE\"\n",
        "    area.append(loc)\n",
        "    \n",
        "  else:\n",
        "    loc = f[\"areaName\"].value_counts().idxmax()\n",
        "    area.append(loc)\n",
        "\n",
        "#füge Liste mit Positionen zu DF hinzu\n",
        "track4[\"area\"] = area \n",
        "\n",
        "    "
      ],
      "metadata": {
        "id": "IXTAiy_9wNSW"
      },
      "execution_count": 22,
      "outputs": []
    },
    {
      "cell_type": "code",
      "source": [
        "#Group into Subgroups\n",
        "#merke: Short und Long in A umwandeln ! Tunnel in B\n",
        "track4.loc[track4['area'] == \"CTSpawn\",'subgroup'] = \"Mid\"\n",
        "track4.loc[track4['area'] == \"MidDoors\",'subgroup'] = \"BombB\"\n",
        "track4.loc[track4['area'] == \"TopofMid\",'subgroup'] = \"Mid\"\n",
        "track4.loc[track4['area'] == \"Middle\",'subgroup'] = \"Mid\"\n",
        "track4.loc[track4['area'] == \"Short\",'subgroup'] = \"Mid\"\n",
        "\n",
        "track4.loc[track4['area'] == \"ShortStairs\",'subgroup'] = \"BombA\"\n",
        "track4.loc[track4['area'] == \"UnderA\",'subgroup'] = \"BombA\"\n",
        "track4.loc[track4['area'] == \"ExtendedA\",'subgroup'] = \"BombA\"\n",
        "track4.loc[track4['area'] == \"Catwalk\",'subgroup'] = \"BombA\"\n",
        "\n",
        "track4.loc[track4['area'] == \"BombsiteB\",'subgroup'] = \"BombB\"\n",
        "track4.loc[track4['area'] == \"BDoors\",'subgroup'] = \"BombB\"\n",
        "track4.loc[track4['area'] == \"Hole\",'subgroup'] = \"BombB\"\n",
        "\n",
        "track4.loc[track4['area'] == \"TSpawn\",'subgroup'] = \"TerroristSpawn\"\n",
        "track4.loc[track4['area'] == \"TRamp\",'subgroup'] = \"TerroristSpawn\"\n",
        "\n",
        "track4.loc[track4['area'] == \"OutsideTunnel\",'subgroup'] = \"BombB\"\n",
        "track4.loc[track4['area'] == \"UpperTunnel\",'subgroup'] = \"BombB\"\n",
        "track4.loc[track4['area'] == \"TunnelStairs\",'subgroup'] = \"BombB\"\n",
        "track4.loc[track4['area'] == \"LowerTunnel\",'subgroup'] = \"BombB\"\n",
        "\n",
        "track4.loc[track4['area'] == \"LongA\",'subgroup'] = \"BombA\"\n",
        "track4.loc[track4['area'] == \"LongDoors\",'subgroup'] = \"BombA\"\n",
        "track4.loc[track4['area'] == \"OutsideLong\",'subgroup'] = \"BombA\"\n",
        "track4.loc[track4['area'] == \"Pit\",'subgroup'] = \"BombA\"\n",
        "track4.loc[track4['area'] == \"Side\",'subgroup'] = \"BombA\"\n",
        "\n",
        "track4.loc[track4['area'] == \"BombsiteA\",'subgroup'] = \"BombA\"\n",
        "track4.loc[track4['area'] == \"ARamp\",'subgroup'] = \"BombA\"\n",
        "track4.loc[track4['area'] == \"Ramp\",'subgroup'] = \"BombA\"\n",
        "\n",
        "#df.loc[df['days'] <=20,'subgroup'] = 3\n",
        "#df.loc[df['days'] <=10,'subgroup'] = 2\n",
        "#df.loc[df['days'] ==0,'subgroup'] = 1\n",
        "#df = df.reset_index()\n",
        "#df['dynamic_subgroup'] = df.groupby(['group'])['subgroup'].rank(method='dense')\n",
        "#track4"
      ],
      "metadata": {
        "id": "2VBscv2nd6G6"
      },
      "execution_count": 23,
      "outputs": []
    },
    {
      "cell_type": "code",
      "source": [
        "#zeigt count der orte der ersten 20 sekunden der spieler an\n",
        "\n",
        "stra = []\n",
        "\n",
        "df2 = track4.groupby(['subgroup', 'name'])['subgroup'].count().unstack(fill_value=0)\n",
        "#print(df2)"
      ],
      "metadata": {
        "id": "IBKR_kDkC_7I"
      },
      "execution_count": 24,
      "outputs": []
    },
    {
      "cell_type": "code",
      "source": [
        "#zeige, welche Position von welchem Spieler am häufigsten innerhalb der Zeit besetzt war\n",
        "\n",
        "for column in df2:\n",
        "  y = df2[{column}].idxmax()\n",
        "  y = y.values.tolist()\n",
        "  stra.append(y)"
      ],
      "metadata": {
        "id": "02XrWnUwmBSV"
      },
      "execution_count": 25,
      "outputs": []
    },
    {
      "cell_type": "code",
      "source": [
        "##zähle wie oft welches element in der Liste stra vorhanden war und leite davon die Strategie ab\n",
        "#print(stra)\n",
        "j = 0\n",
        "Strategies = []\n",
        "\n",
        "BombA = 0\n",
        "BombB = 0\n",
        "Mid = 0\n",
        "TerroristSpawn = 0\n",
        "\n",
        "for element in stra:\n",
        "  if (element[j] == \"BombA\"):\n",
        "    BombA = BombA+1\n",
        "  elif (element[j] == \"BombB\"):\n",
        "    BombB = BombB+1\n",
        "  elif (element[j] == \"Mid\"):\n",
        "    Mid = Mid+1\n",
        "  elif (element[j] == \"Terroristspawn\"):\n",
        "    TerroristSpawn = TerroristSpawn + 1 \n",
        "  if BombA >= 4:\n",
        "    strategy = \"RushA\"\n",
        "  if BombB >=4:\n",
        "    strategy = \"RushB\"\n",
        "  if BombA<4 & BombB<4:\n",
        "    strategy = \"Split\"\n",
        "\n",
        "Strategies.append(strategy)\n",
        "#print(Strategies)\n",
        "    \n",
        "\n",
        "  \n",
        "\n",
        "#print(BombA, BombB, Mid, TerroristSpawn, strategy)\n",
        "\n"
      ],
      "metadata": {
        "id": "3n_sUlasd0Di"
      },
      "execution_count": 26,
      "outputs": []
    },
    {
      "cell_type": "code",
      "source": [
        "import matplotlib.pyplot as plt\n",
        "from awpy.visualization.plot import plot_map\n",
        "\n",
        "f, a = plot_map(map_name=\"de_dust2\", map_type=\"simpleradar\")\n",
        "plt.show()"
      ],
      "metadata": {
        "id": "-zszRJnDJgoC",
        "outputId": "afb40e8b-0cd3-404a-893f-c9ad6f39fd8b",
        "colab": {
          "base_uri": "https://localhost:8080/",
          "height": 269
        }
      },
      "execution_count": 27,
      "outputs": [
        {
          "output_type": "display_data",
          "data": {
            "text/plain": [
              "<Figure size 432x288 with 1 Axes>"
            ],
            "image/png": "[encoded data removed]"
          },
          "metadata": {
            "needs_background": "light"
          }
        }
      ]
    },
    {
      "cell_type": "markdown",
      "source": [
        "#vllt nochmal mit Liste versuchen, sorgt aber für Probleme hier, darum nicht mehr, aber code mal lassen\n",
        "\n",
        "Mid = [\"MidDoors\", \"TopofMid\", \"Middle\", \"CTSpawn\", \"Short\"]\n",
        "Short = [\"ShortStairs\", \"UnderA\", \"ExtendedA\", \"Catwalk\"]\n",
        "BombB = [\"BombsiteB\", \"BDoors\", \"Hole\"]\n",
        "TerroristSpawn = [\"TSpawn\", \"TRamp\"]\n",
        "Tunnel = [\"OutsideTunnel\", \"UpperTunnel\", \"TunnelStairs\", \"LowerTunnel\"]\n",
        "Long = [\"LongA\", \"LongDoors\", \"OutsideLong\", \"Pit\", \"Side\"]\n",
        "BombA = [\"BombsiteA\", \"ARamp\",\"Ramp\"]\n",
        "i=0\n",
        "po = []\n",
        "for index, row in track4.iterrows():\n",
        "  if track4.at[i,'area'] in Mid:\n",
        "    e = \"Mid\"\n",
        "    po.append(e)\n",
        "    #print(po)\n",
        "    i = i+1\n",
        "  elif track4.at[i,'area'] in Short:\n",
        "    e = \"Short\"\n",
        "    po.append(po)\n",
        "    i = i+1\n",
        "  elif track4.at[i,'area'] in BombB:\n",
        "    e = \"BombB\"\n",
        "    po.append(e)\n",
        "    i = i+1\n",
        "  elif track4.at[i,'area'] in TerroristSpawn:\n",
        "    e = \"TerroristSpawn\"\n",
        "    po.append(e)\n",
        "    i = i+1\n",
        "  elif track4.at[i,'area'] in Tunnel:\n",
        "    e = \"Tunnel\"\n",
        "    po.append(e)\n",
        "    i = i+1\n",
        "  elif track4.at[i,'area'] in Long:\n",
        "    e = \"Long\"\n",
        "    po.append(e)\n",
        "    i = i+1\n",
        "  elif track4.at[i,'area'] in BombA:\n",
        "    e = \"BombA\"\n",
        "    po.append(e)\n",
        "    i = i+1\n",
        "  else:\n",
        "    e = \"ERROR\"\n",
        "    po.append(e)\n",
        "    i = i+1\n",
        "  \n",
        "track4[\"eeee\"] = po"
      ],
      "metadata": {
        "id": "0keOqutY4Pju"
      }
    },
    {
      "cell_type": "code",
      "source": [
        "\n",
        "#track4[\"area\"] = area \n",
        "#track4[\"area\"].value_counts()\n",
        "#check = track4.loc[track4[\"area\"]==\"\"]\n"
      ],
      "metadata": {
        "id": "eWZn6rH95neq"
      },
      "execution_count": 28,
      "outputs": []
    },
    {
      "cell_type": "code",
      "source": [
        "che = track4.loc[track4[\"side\"]== \"CT\"]\n",
        "che"
      ],
      "metadata": {
        "id": "MvlcEJA8m4zS",
        "collapsed": true,
        "outputId": "a96171cb-2d27-47e0-d9ea-889ca142b95b",
        "colab": {
          "base_uri": "https://localhost:8080/",
          "height": 143
        }
      },
      "execution_count": 29,
      "outputs": [
        {
          "output_type": "execute_result",
          "data": {
            "text/plain": [
              "Empty DataFrame\n",
              "Columns: [roundNum, tick, seconds, side, teamName, steamID, name, team, x, y, z, velocityX, velocityY, velocityZ, viewX, viewY, hp, armor, activeWeapon, totalUtility, isAlive, isBlinded, isAirborne, isDucking, isDuckingInProgress, isUnDuckingInProgress, isDefusing, isPlanting, isReloading, isInBombZone, isInBuyZone, isStanding, isScoped, isWalking, isUnknown, spotters, equipmentValue, equipmentValueFreezetimeEnd, equipmentValueRoundStart, cash, cashSpendThisRound, cashSpendTotal, hasHelmet, hasDefuse, hasBomb, ping, zoomLevel, matchID, mapName, area, subgroup]\n",
              "Index: []\n",
              "\n",
              "[0 rows x 51 columns]"
            ],
            "text/html": [
              "\n",
              "  <div id=\"df-2cf3957e-c995-4c46-811b-2be1db82528d\">\n",
              "    <div class=\"colab-df-container\">\n",
              "      <div>\n",
              "<style scoped>\n",
              "    .dataframe tbody tr th:only-of-type {\n",
              "        vertical-align: middle;\n",
              "    }\n",
              "\n",
              "    .dataframe tbody tr th {\n",
              "        vertical-align: top;\n",
              "    }\n",
              "\n",
              "    .dataframe thead th {\n",
              "        text-align: right;\n",
              "    }\n",
              "</style>\n",
              "<table border=\"1\" class=\"dataframe\">\n",
              "  <thead>\n",
              "    <tr style=\"text-align: right;\">\n",
              "      <th></th>\n",
              "      <th>roundNum</th>\n",
              "      <th>tick</th>\n",
              "      <th>seconds</th>\n",
              "      <th>side</th>\n",
              "      <th>teamName</th>\n",
              "      <th>steamID</th>\n",
              "      <th>name</th>\n",
              "      <th>team</th>\n",
              "      <th>x</th>\n",
              "      <th>y</th>\n",
              "      <th>...</th>\n",
              "      <th>cashSpendTotal</th>\n",
              "      <th>hasHelmet</th>\n",
              "      <th>hasDefuse</th>\n",
              "      <th>hasBomb</th>\n",
              "      <th>ping</th>\n",
              "      <th>zoomLevel</th>\n",
              "      <th>matchID</th>\n",
              "      <th>mapName</th>\n",
              "      <th>area</th>\n",
              "      <th>subgroup</th>\n",
              "    </tr>\n",
              "  </thead>\n",
              "  <tbody>\n",
              "  </tbody>\n",
              "</table>\n",
              "<p>0 rows × 51 columns</p>\n",
              "</div>\n",
              "      <button class=\"colab-df-convert\" onclick=\"convertToInteractive('df-2cf3957e-c995-4c46-811b-2be1db82528d')\"\n",
              "              title=\"Convert this dataframe to an interactive table.\"\n",
              "              style=\"display:none;\">\n",
              "        \n",
              "  <svg xmlns=\"http://www.w3.org/2000/svg\" height=\"24px\"viewBox=\"0 0 24 24\"\n",
              "       width=\"24px\">\n",
              "    <path d=\"M0 0h24v24H0V0z\" fill=\"none\"/>\n",
              "    <path d=\"M18.56 5.44l.94 2.06.94-2.06 2.06-.94-2.06-.94-.94-2.06-.94 2.06-2.06.94zm-11 1L8.5 8.5l.94-2.06 2.06-.94-2.06-.94L8.5 2.5l-.94 2.06-2.06.94zm10 10l.94 2.06.94-2.06 2.06-.94-2.06-.94-.94-2.06-.94 2.06-2.06.94z\"/><path d=\"M17.41 7.96l-1.37-1.37c-.4-.4-.92-.59-1.43-.59-.52 0-1.04.2-1.43.59L10.3 9.45l-7.72 7.72c-.78.78-.78 2.05 0 2.83L4 21.41c.39.39.9.59 1.41.59.51 0 1.02-.2 1.41-.59l7.78-7.78 2.81-2.81c.8-.78.8-2.07 0-2.86zM5.41 20L4 18.59l7.72-7.72 1.47 1.35L5.41 20z\"/>\n",
              "  </svg>\n",
              "      </button>\n",
              "      \n",
              "  <style>\n",
              "    .colab-df-container {\n",
              "      display:flex;\n",
              "      flex-wrap:wrap;\n",
              "      gap: 12px;\n",
              "    }\n",
              "\n",
              "    .colab-df-convert {\n",
              "      background-color: #E8F0FE;\n",
              "      border: none;\n",
              "      border-radius: 50%;\n",
              "      cursor: pointer;\n",
              "      display: none;\n",
              "      fill: #1967D2;\n",
              "      height: 32px;\n",
              "      padding: 0 0 0 0;\n",
              "      width: 32px;\n",
              "    }\n",
              "\n",
              "    .colab-df-convert:hover {\n",
              "      background-color: #E2EBFA;\n",
              "      box-shadow: 0px 1px 2px rgba(60, 64, 67, 0.3), 0px 1px 3px 1px rgba(60, 64, 67, 0.15);\n",
              "      fill: #174EA6;\n",
              "    }\n",
              "\n",
              "    [theme=dark] .colab-df-convert {\n",
              "      background-color: #3B4455;\n",
              "      fill: #D2E3FC;\n",
              "    }\n",
              "\n",
              "    [theme=dark] .colab-df-convert:hover {\n",
              "      background-color: #434B5C;\n",
              "      box-shadow: 0px 1px 3px 1px rgba(0, 0, 0, 0.15);\n",
              "      filter: drop-shadow(0px 1px 2px rgba(0, 0, 0, 0.3));\n",
              "      fill: #FFFFFF;\n",
              "    }\n",
              "  </style>\n",
              "\n",
              "      <script>\n",
              "        const buttonEl =\n",
              "          document.querySelector('#df-2cf3957e-c995-4c46-811b-2be1db82528d button.colab-df-convert');\n",
              "        buttonEl.style.display =\n",
              "          google.colab.kernel.accessAllowed ? 'block' : 'none';\n",
              "\n",
              "        async function convertToInteractive(key) {\n",
              "          const element = document.querySelector('#df-2cf3957e-c995-4c46-811b-2be1db82528d');\n",
              "          const dataTable =\n",
              "            await google.colab.kernel.invokeFunction('convertToInteractive',\n",
              "                                                     [key], {});\n",
              "          if (!dataTable) return;\n",
              "\n",
              "          const docLinkHtml = 'Like what you see? Visit the ' +\n",
              "            '<a target=\"_blank\" href=https://colab.research.google.com/notebooks/data_table.ipynb>data table notebook</a>'\n",
              "            + ' to learn more about interactive tables.';\n",
              "          element.innerHTML = '';\n",
              "          dataTable['output_type'] = 'display_data';\n",
              "          await google.colab.output.renderOutput(dataTable, element);\n",
              "          const docLink = document.createElement('div');\n",
              "          docLink.innerHTML = docLinkHtml;\n",
              "          element.appendChild(docLink);\n",
              "        }\n",
              "      </script>\n",
              "    </div>\n",
              "  </div>\n",
              "  "
            ]
          },
          "metadata": {},
          "execution_count": 29
        }
      ]
    },
    {
      "cell_type": "code",
      "source": [
        "from collections import Counter\n",
        "\n",
        "def Most_Common(lst):\n",
        "    data = Counter(lst)\n",
        "    return data.most_common(1)[0][0]"
      ],
      "metadata": {
        "id": "OCvodVBTUSK2"
      },
      "execution_count": 30,
      "outputs": []
    },
    {
      "cell_type": "code",
      "source": [
        "Magisk = list(track4[(track4['name']=='Magisk')].groupby(['subgroup']).count())\n",
        "#print(\"List for CT-Side Location Occurences, Magisk: \", Magisk)\n",
        "\n",
        "#Location Lists for CT-Side\n",
        "\n",
        "\n",
        "\n",
        "CTBombA = list(track4[(track4['subgroup']=='BombA')&(track4[\"side\"]==\"CT\")].groupby(['name']).count()['subgroup'])\n",
        "#print(\"List for CT-Side Location Occurences, BombA: \", CTBombA)\n",
        "\n",
        "CTBombB = list(track4[(track4['subgroup']=='BombB')&(track4[\"side\"]==\"CT\")].groupby(['name']).count()['subgroup'])\n",
        "#print(\"List for CT-Side Location Occurences, BombB: \", CTBombB)\n",
        "\n",
        "CTMid = list(track4[(track4['subgroup']=='Mid')&(track4[\"side\"]==\"CT\")].groupby(['name']).count()['subgroup'])\n",
        "#print(\"List for CT-Side Location Occurences, Mid: \", CTMid)\n",
        "\n",
        "CTTerroristSpawn = list(track4[(track4['subgroup']=='TerroristSpawn')&(track4[\"side\"]==\"CT\")].groupby(['name']).count()['subgroup'])\n",
        "#print(\"List for CT-Side Location Occurences, TerroristSpawn: \", CTTerroristSpawn)\n",
        "\n",
        "#Lists for T-Side\n",
        "\n",
        "TBombA = list(track4[(track4['subgroup']=='BombA')&(track4[\"side\"]==\"T\")].groupby(['name']).count()['subgroup'])\n",
        "#print(\"List for T-Side Location Occurences, BombA: \", TBombA)\n",
        "\n",
        "TBombB = list(track4[(track4['subgroup']=='BombB')&(track4[\"side\"]==\"T\")].groupby(['name']).count()['subgroup'])\n",
        "#print(\"List for T-Side Location Occurences, BombB: \", TBombB)\n",
        "\n",
        "TMid = list(track4[(track4['subgroup']=='Mid')&(track4[\"side\"]==\"T\")].groupby(['name']).count()['subgroup'])\n",
        "#print(\"List for T-Side Location Occurences, Mid: \", TMid)\n",
        "\n",
        "TTerroristSpawn = list(track4[(track4['subgroup']=='TerroristSpawn')&(track4[\"side\"]==\"T\")].groupby(['name']).count()['subgroup'])\n",
        "#print(\"List for T-Side Location Occurences, TerroristSpawn: \", TTerroristSpawn)\n",
        "\n",
        "dict = {'CTBombA': CTBombA, 'CTBombB': CTBombB, 'CTMid': CTMid, 'CTTerroristSpawn': CTTerroristSpawn,'TBombA': TBombA, 'TBombB': TBombB, 'TMid': TMid, 'TTerroristSpawn': TTerroristSpawn} "
      ],
      "metadata": {
        "id": "J9FNMzs5nQLV"
      },
      "execution_count": 31,
      "outputs": []
    },
    {
      "cell_type": "code",
      "source": [
        "#track4['subgroup'] = track4['subgroup'].mask(track4['subgroup'].ne('BombA'))\n",
        "#track4.groupby(['side'])['subgroup'].count().tolist()"
      ],
      "metadata": {
        "id": "slDAu5bVtA2y"
      },
      "execution_count": 32,
      "outputs": []
    },
    {
      "cell_type": "code",
      "source": [
        "#Strategydetection"
      ],
      "metadata": {
        "id": "7H-nQH_Clxrm"
      },
      "execution_count": 33,
      "outputs": []
    },
    {
      "cell_type": "code",
      "source": [
        "#zähle wie viele Spiele sich in welcher Region aufhalten\n",
        "\n",
        "df1 = track4.groupby(['subgroup', 'seconds', 'name' ])['subgroup'].count().unstack(fill_value=0)\n",
        "#print(df1)\n",
        "\n",
        "\n",
        "#track4 = track4.join(df1, on='subgroup')\n",
        "##print(track4)\n",
        "\n"
      ],
      "metadata": {
        "id": "B1brD2KZo8oj"
      },
      "execution_count": 34,
      "outputs": []
    },
    {
      "cell_type": "markdown",
      "source": [
        "#Hier: Diverser Müll"
      ],
      "metadata": {
        "id": "ZdGOZ5T9jy5b"
      }
    },
    {
      "cell_type": "code",
      "source": [
        "df[\"frames\"]\n",
        "f = df[\"frames\"]\n",
        "\n",
        "f.to_csv('f.csv') \n",
        "#files.download('f.csv')"
      ],
      "metadata": {
        "id": "UXjku9qXXn5_"
      },
      "execution_count": 35,
      "outputs": []
    },
    {
      "cell_type": "code",
      "source": [
        "#zeigt häufigste Position insgesamt an \n",
        "\n",
        "def most_frequent(List):\n",
        "    counter = 0\n",
        "    num = List[0]\n",
        "     \n",
        "    for i in List:\n",
        "        curr_frequency = List.count(i)\n",
        "        if(curr_frequency> counter):\n",
        "            counter = curr_frequency\n",
        "            num = i\n",
        " \n",
        "    return num\n",
        " \n",
        "\n",
        "#print(most_frequent(stra))"
      ],
      "metadata": {
        "id": "--YotkOB-w5R"
      },
      "execution_count": 36,
      "outputs": []
    },
    {
      "cell_type": "code",
      "source": [
        "from awpy.data import NAV_CSV\n",
        "\n",
        "t = NAV_CSV[NAV_CSV[\"mapName\"] == \"de_dust2\"]\n",
        "\n",
        "t['areaName'].value_counts()"
      ],
      "metadata": {
        "id": "V3wGonjcH7Zb",
        "outputId": "01e7c324-4caf-477d-cb82-e57ebfdb42ca",
        "colab": {
          "base_uri": "https://localhost:8080/"
        }
      },
      "execution_count": 37,
      "outputs": [
        {
          "output_type": "execute_result",
          "data": {
            "text/plain": [
              "BombsiteB        129\n",
              "TSpawn           127\n",
              "OutsideTunnel     81\n",
              "LongA             73\n",
              "LongDoors         65\n",
              "                  64\n",
              "UpperTunnel       63\n",
              "BDoors            60\n",
              "MidDoors          59\n",
              "TopofMid          42\n",
              "BombsiteA         41\n",
              "OutsideLong       40\n",
              "TunnelStairs      32\n",
              "TRamp             25\n",
              "Middle            25\n",
              "UnderA            25\n",
              "ShortStairs       24\n",
              "ARamp             23\n",
              "Pit               23\n",
              "CTSpawn           22\n",
              "Side              18\n",
              "ExtendedA         18\n",
              "Catwalk           13\n",
              "Hole              12\n",
              "LowerTunnel        7\n",
              "Ramp               6\n",
              "Short              3\n",
              "Name: areaName, dtype: int64"
            ]
          },
          "metadata": {},
          "execution_count": 37
        }
      ]
    },
    {
      "cell_type": "code",
      "source": [
        "#f = t.loc[t[\"areaName\"]==\"BombsiteB\"]\n",
        "#f = f.sort_values(\"northWestX\")\n",
        "#f = f.loc[f[\"northWestY\"]>=2800]\n",
        "#f\n",
        "\n",
        "#Suchfeld einschränken --> Position lokalisieren\n",
        "f = t[(t['northWestX'] > 260) & (t['northWestX'] < 320)]\n",
        "f = f[(f['northWestY'] > 2000) & (f['northWestY'] < 2300)]\n",
        "f"
      ],
      "metadata": {
        "id": "2MwVEwClUxHj",
        "outputId": "082c7159-196a-486f-9ff4-0dc263db12fe",
        "colab": {
          "base_uri": "https://localhost:8080/",
          "height": 175
        }
      },
      "execution_count": 38,
      "outputs": [
        {
          "output_type": "execute_result",
          "data": {
            "text/plain": [
              "       mapName  areaId   areaName  northWestX  northWestY  northWestZ  \\\n",
              "2201  de_dust2    8782  ExtendedA       300.0      2150.0    96.03125   \n",
              "3028  de_dust2    8781  ExtendedA       275.0      2150.0    96.03125   \n",
              "3029  de_dust2     303      Short       275.0      2100.0    96.03125   \n",
              "3106  de_dust2      95  ExtendedA       300.0      2025.0    96.03125   \n",
              "\n",
              "      southEastX  southEastY  southEastZ  \n",
              "2201       525.0      2425.0    96.03125  \n",
              "3028       300.0      2425.0    96.03125  \n",
              "3029       300.0      2150.0    96.03125  \n",
              "3106       425.0      2150.0    96.03125  "
            ],
            "text/html": [
              "\n",
              "  <div id=\"df-09dc37d6-fbbd-4ca2-b461-c394b7a69040\">\n",
              "    <div class=\"colab-df-container\">\n",
              "      <div>\n",
              "<style scoped>\n",
              "    .dataframe tbody tr th:only-of-type {\n",
              "        vertical-align: middle;\n",
              "    }\n",
              "\n",
              "    .dataframe tbody tr th {\n",
              "        vertical-align: top;\n",
              "    }\n",
              "\n",
              "    .dataframe thead th {\n",
              "        text-align: right;\n",
              "    }\n",
              "</style>\n",
              "<table border=\"1\" class=\"dataframe\">\n",
              "  <thead>\n",
              "    <tr style=\"text-align: right;\">\n",
              "      <th></th>\n",
              "      <th>mapName</th>\n",
              "      <th>areaId</th>\n",
              "      <th>areaName</th>\n",
              "      <th>northWestX</th>\n",
              "      <th>northWestY</th>\n",
              "      <th>northWestZ</th>\n",
              "      <th>southEastX</th>\n",
              "      <th>southEastY</th>\n",
              "      <th>southEastZ</th>\n",
              "    </tr>\n",
              "  </thead>\n",
              "  <tbody>\n",
              "    <tr>\n",
              "      <th>2201</th>\n",
              "      <td>de_dust2</td>\n",
              "      <td>8782</td>\n",
              "      <td>ExtendedA</td>\n",
              "      <td>300.0</td>\n",
              "      <td>2150.0</td>\n",
              "      <td>96.03125</td>\n",
              "      <td>525.0</td>\n",
              "      <td>2425.0</td>\n",
              "      <td>96.03125</td>\n",
              "    </tr>\n",
              "    <tr>\n",
              "      <th>3028</th>\n",
              "      <td>de_dust2</td>\n",
              "      <td>8781</td>\n",
              "      <td>ExtendedA</td>\n",
              "      <td>275.0</td>\n",
              "      <td>2150.0</td>\n",
              "      <td>96.03125</td>\n",
              "      <td>300.0</td>\n",
              "      <td>2425.0</td>\n",
              "      <td>96.03125</td>\n",
              "    </tr>\n",
              "    <tr>\n",
              "      <th>3029</th>\n",
              "      <td>de_dust2</td>\n",
              "      <td>303</td>\n",
              "      <td>Short</td>\n",
              "      <td>275.0</td>\n",
              "      <td>2100.0</td>\n",
              "      <td>96.03125</td>\n",
              "      <td>300.0</td>\n",
              "      <td>2150.0</td>\n",
              "      <td>96.03125</td>\n",
              "    </tr>\n",
              "    <tr>\n",
              "      <th>3106</th>\n",
              "      <td>de_dust2</td>\n",
              "      <td>95</td>\n",
              "      <td>ExtendedA</td>\n",
              "      <td>300.0</td>\n",
              "      <td>2025.0</td>\n",
              "      <td>96.03125</td>\n",
              "      <td>425.0</td>\n",
              "      <td>2150.0</td>\n",
              "      <td>96.03125</td>\n",
              "    </tr>\n",
              "  </tbody>\n",
              "</table>\n",
              "</div>\n",
              "      <button class=\"colab-df-convert\" onclick=\"convertToInteractive('df-09dc37d6-fbbd-4ca2-b461-c394b7a69040')\"\n",
              "              title=\"Convert this dataframe to an interactive table.\"\n",
              "              style=\"display:none;\">\n",
              "        \n",
              "  <svg xmlns=\"http://www.w3.org/2000/svg\" height=\"24px\"viewBox=\"0 0 24 24\"\n",
              "       width=\"24px\">\n",
              "    <path d=\"M0 0h24v24H0V0z\" fill=\"none\"/>\n",
              "    <path d=\"M18.56 5.44l.94 2.06.94-2.06 2.06-.94-2.06-.94-.94-2.06-.94 2.06-2.06.94zm-11 1L8.5 8.5l.94-2.06 2.06-.94-2.06-.94L8.5 2.5l-.94 2.06-2.06.94zm10 10l.94 2.06.94-2.06 2.06-.94-2.06-.94-.94-2.06-.94 2.06-2.06.94z\"/><path d=\"M17.41 7.96l-1.37-1.37c-.4-.4-.92-.59-1.43-.59-.52 0-1.04.2-1.43.59L10.3 9.45l-7.72 7.72c-.78.78-.78 2.05 0 2.83L4 21.41c.39.39.9.59 1.41.59.51 0 1.02-.2 1.41-.59l7.78-7.78 2.81-2.81c.8-.78.8-2.07 0-2.86zM5.41 20L4 18.59l7.72-7.72 1.47 1.35L5.41 20z\"/>\n",
              "  </svg>\n",
              "      </button>\n",
              "      \n",
              "  <style>\n",
              "    .colab-df-container {\n",
              "      display:flex;\n",
              "      flex-wrap:wrap;\n",
              "      gap: 12px;\n",
              "    }\n",
              "\n",
              "    .colab-df-convert {\n",
              "      background-color: #E8F0FE;\n",
              "      border: none;\n",
              "      border-radius: 50%;\n",
              "      cursor: pointer;\n",
              "      display: none;\n",
              "      fill: #1967D2;\n",
              "      height: 32px;\n",
              "      padding: 0 0 0 0;\n",
              "      width: 32px;\n",
              "    }\n",
              "\n",
              "    .colab-df-convert:hover {\n",
              "      background-color: #E2EBFA;\n",
              "      box-shadow: 0px 1px 2px rgba(60, 64, 67, 0.3), 0px 1px 3px 1px rgba(60, 64, 67, 0.15);\n",
              "      fill: #174EA6;\n",
              "    }\n",
              "\n",
              "    [theme=dark] .colab-df-convert {\n",
              "      background-color: #3B4455;\n",
              "      fill: #D2E3FC;\n",
              "    }\n",
              "\n",
              "    [theme=dark] .colab-df-convert:hover {\n",
              "      background-color: #434B5C;\n",
              "      box-shadow: 0px 1px 3px 1px rgba(0, 0, 0, 0.15);\n",
              "      filter: drop-shadow(0px 1px 2px rgba(0, 0, 0, 0.3));\n",
              "      fill: #FFFFFF;\n",
              "    }\n",
              "  </style>\n",
              "\n",
              "      <script>\n",
              "        const buttonEl =\n",
              "          document.querySelector('#df-09dc37d6-fbbd-4ca2-b461-c394b7a69040 button.colab-df-convert');\n",
              "        buttonEl.style.display =\n",
              "          google.colab.kernel.accessAllowed ? 'block' : 'none';\n",
              "\n",
              "        async function convertToInteractive(key) {\n",
              "          const element = document.querySelector('#df-09dc37d6-fbbd-4ca2-b461-c394b7a69040');\n",
              "          const dataTable =\n",
              "            await google.colab.kernel.invokeFunction('convertToInteractive',\n",
              "                                                     [key], {});\n",
              "          if (!dataTable) return;\n",
              "\n",
              "          const docLinkHtml = 'Like what you see? Visit the ' +\n",
              "            '<a target=\"_blank\" href=https://colab.research.google.com/notebooks/data_table.ipynb>data table notebook</a>'\n",
              "            + ' to learn more about interactive tables.';\n",
              "          element.innerHTML = '';\n",
              "          dataTable['output_type'] = 'display_data';\n",
              "          await google.colab.output.renderOutput(dataTable, element);\n",
              "          const docLink = document.createElement('div');\n",
              "          docLink.innerHTML = docLinkHtml;\n",
              "          element.appendChild(docLink);\n",
              "        }\n",
              "      </script>\n",
              "    </div>\n",
              "  </div>\n",
              "  "
            ]
          },
          "metadata": {},
          "execution_count": 38
        }
      ]
    },
    {
      "cell_type": "code",
      "source": [
        "#Suche spezielle Werte\n",
        "\n",
        "z = t.loc[t[\"areaId\"]==1213]\n",
        "X = z.iloc[0][\"northWestX\"]\n",
        "Y = z.iloc[0][\"northWestY\"]\n",
        "\n",
        "z"
      ],
      "metadata": {
        "id": "SmUxPjspXY8o",
        "outputId": "9eb539d7-d0dc-4064-ebeb-f60789be4c5b",
        "colab": {
          "base_uri": "https://localhost:8080/",
          "height": 81
        }
      },
      "execution_count": 39,
      "outputs": [
        {
          "output_type": "execute_result",
          "data": {
            "text/plain": [
              "       mapName  areaId   areaName  northWestX   northWestY  northWestZ  \\\n",
              "3257  de_dust2    1213  BombsiteA      1050.0  2303.518799   128.03125   \n",
              "\n",
              "      southEastX   southEastY  southEastZ  \n",
              "3257      1125.0  2320.481201   128.03125  "
            ],
            "text/html": [
              "\n",
              "  <div id=\"df-32535aa5-368e-42e7-ab6f-385f83789aec\">\n",
              "    <div class=\"colab-df-container\">\n",
              "      <div>\n",
              "<style scoped>\n",
              "    .dataframe tbody tr th:only-of-type {\n",
              "        vertical-align: middle;\n",
              "    }\n",
              "\n",
              "    .dataframe tbody tr th {\n",
              "        vertical-align: top;\n",
              "    }\n",
              "\n",
              "    .dataframe thead th {\n",
              "        text-align: right;\n",
              "    }\n",
              "</style>\n",
              "<table border=\"1\" class=\"dataframe\">\n",
              "  <thead>\n",
              "    <tr style=\"text-align: right;\">\n",
              "      <th></th>\n",
              "      <th>mapName</th>\n",
              "      <th>areaId</th>\n",
              "      <th>areaName</th>\n",
              "      <th>northWestX</th>\n",
              "      <th>northWestY</th>\n",
              "      <th>northWestZ</th>\n",
              "      <th>southEastX</th>\n",
              "      <th>southEastY</th>\n",
              "      <th>southEastZ</th>\n",
              "    </tr>\n",
              "  </thead>\n",
              "  <tbody>\n",
              "    <tr>\n",
              "      <th>3257</th>\n",
              "      <td>de_dust2</td>\n",
              "      <td>1213</td>\n",
              "      <td>BombsiteA</td>\n",
              "      <td>1050.0</td>\n",
              "      <td>2303.518799</td>\n",
              "      <td>128.03125</td>\n",
              "      <td>1125.0</td>\n",
              "      <td>2320.481201</td>\n",
              "      <td>128.03125</td>\n",
              "    </tr>\n",
              "  </tbody>\n",
              "</table>\n",
              "</div>\n",
              "      <button class=\"colab-df-convert\" onclick=\"convertToInteractive('df-32535aa5-368e-42e7-ab6f-385f83789aec')\"\n",
              "              title=\"Convert this dataframe to an interactive table.\"\n",
              "              style=\"display:none;\">\n",
              "        \n",
              "  <svg xmlns=\"http://www.w3.org/2000/svg\" height=\"24px\"viewBox=\"0 0 24 24\"\n",
              "       width=\"24px\">\n",
              "    <path d=\"M0 0h24v24H0V0z\" fill=\"none\"/>\n",
              "    <path d=\"M18.56 5.44l.94 2.06.94-2.06 2.06-.94-2.06-.94-.94-2.06-.94 2.06-2.06.94zm-11 1L8.5 8.5l.94-2.06 2.06-.94-2.06-.94L8.5 2.5l-.94 2.06-2.06.94zm10 10l.94 2.06.94-2.06 2.06-.94-2.06-.94-.94-2.06-.94 2.06-2.06.94z\"/><path d=\"M17.41 7.96l-1.37-1.37c-.4-.4-.92-.59-1.43-.59-.52 0-1.04.2-1.43.59L10.3 9.45l-7.72 7.72c-.78.78-.78 2.05 0 2.83L4 21.41c.39.39.9.59 1.41.59.51 0 1.02-.2 1.41-.59l7.78-7.78 2.81-2.81c.8-.78.8-2.07 0-2.86zM5.41 20L4 18.59l7.72-7.72 1.47 1.35L5.41 20z\"/>\n",
              "  </svg>\n",
              "      </button>\n",
              "      \n",
              "  <style>\n",
              "    .colab-df-container {\n",
              "      display:flex;\n",
              "      flex-wrap:wrap;\n",
              "      gap: 12px;\n",
              "    }\n",
              "\n",
              "    .colab-df-convert {\n",
              "      background-color: #E8F0FE;\n",
              "      border: none;\n",
              "      border-radius: 50%;\n",
              "      cursor: pointer;\n",
              "      display: none;\n",
              "      fill: #1967D2;\n",
              "      height: 32px;\n",
              "      padding: 0 0 0 0;\n",
              "      width: 32px;\n",
              "    }\n",
              "\n",
              "    .colab-df-convert:hover {\n",
              "      background-color: #E2EBFA;\n",
              "      box-shadow: 0px 1px 2px rgba(60, 64, 67, 0.3), 0px 1px 3px 1px rgba(60, 64, 67, 0.15);\n",
              "      fill: #174EA6;\n",
              "    }\n",
              "\n",
              "    [theme=dark] .colab-df-convert {\n",
              "      background-color: #3B4455;\n",
              "      fill: #D2E3FC;\n",
              "    }\n",
              "\n",
              "    [theme=dark] .colab-df-convert:hover {\n",
              "      background-color: #434B5C;\n",
              "      box-shadow: 0px 1px 3px 1px rgba(0, 0, 0, 0.15);\n",
              "      filter: drop-shadow(0px 1px 2px rgba(0, 0, 0, 0.3));\n",
              "      fill: #FFFFFF;\n",
              "    }\n",
              "  </style>\n",
              "\n",
              "      <script>\n",
              "        const buttonEl =\n",
              "          document.querySelector('#df-32535aa5-368e-42e7-ab6f-385f83789aec button.colab-df-convert');\n",
              "        buttonEl.style.display =\n",
              "          google.colab.kernel.accessAllowed ? 'block' : 'none';\n",
              "\n",
              "        async function convertToInteractive(key) {\n",
              "          const element = document.querySelector('#df-32535aa5-368e-42e7-ab6f-385f83789aec');\n",
              "          const dataTable =\n",
              "            await google.colab.kernel.invokeFunction('convertToInteractive',\n",
              "                                                     [key], {});\n",
              "          if (!dataTable) return;\n",
              "\n",
              "          const docLinkHtml = 'Like what you see? Visit the ' +\n",
              "            '<a target=\"_blank\" href=https://colab.research.google.com/notebooks/data_table.ipynb>data table notebook</a>'\n",
              "            + ' to learn more about interactive tables.';\n",
              "          element.innerHTML = '';\n",
              "          dataTable['output_type'] = 'display_data';\n",
              "          await google.colab.output.renderOutput(dataTable, element);\n",
              "          const docLink = document.createElement('div');\n",
              "          docLink.innerHTML = docLinkHtml;\n",
              "          element.appendChild(docLink);\n",
              "        }\n",
              "      </script>\n",
              "    </div>\n",
              "  </div>\n",
              "  "
            ]
          },
          "metadata": {},
          "execution_count": 39
        }
      ]
    },
    {
      "cell_type": "code",
      "source": [
        "import matplotlib.pyplot as plt\n",
        "plt.axes()\n",
        "\n",
        "z = t.loc[t[\"areaId\"]==1213]\n",
        "\n",
        "z\n",
        "\n",
        "rectangle = plt.Rectangle(((z.iloc[0][\"southEastX\"],z.iloc[0][\"southEastY\"])), -z.iloc[0][\"southEastX\"]+z.iloc[0][\"northWestX\"], z.iloc[0][\"northWestY\"]-z.iloc[0][\"southEastY\"], fc='blue',ec=\"red\")\n",
        "plt.gca().add_patch(rectangle)\n",
        "plt.axis('scaled')\n",
        "plt.show()"
      ],
      "metadata": {
        "id": "ElMLrYXBTl6d",
        "outputId": "54ed89bb-c115-4fef-9c58-d369f7a86762",
        "colab": {
          "base_uri": "https://localhost:8080/",
          "height": 124
        }
      },
      "execution_count": 40,
      "outputs": [
        {
          "output_type": "display_data",
          "data": {
            "text/plain": [
              "<Figure size 432x288 with 1 Axes>"
            ],
            "image/png": "[encoded data removed]"
          },
          "metadata": {
            "needs_background": "light"
          }
        }
      ]
    },
    {
      "cell_type": "markdown",
      "source": [
        ""
      ],
      "metadata": {
        "id": "aAaHyWmDdRvZ"
      }
    },
    {
      "cell_type": "code",
      "source": [
        "z = t.loc[t[\"areaId\"]==8773]\n",
        "\n",
        "z\n",
        "\n",
        "rectangle = plt.Rectangle(((z.iloc[0][\"southEastX\"],z.iloc[0][\"southEastY\"])), -z.iloc[0][\"southEastX\"]+z.iloc[0][\"northWestX\"], z.iloc[0][\"northWestY\"]-z.iloc[0][\"southEastY\"], fc='blue',ec=\"red\")\n",
        "plt.gca().add_patch(rectangle)\n",
        "plt.axis('scaled')\n",
        "plt.show()"
      ],
      "metadata": {
        "id": "0AEJq-lba_YJ",
        "outputId": "46cc03c5-d2af-4736-c6bb-461c9d7fccff",
        "colab": {
          "base_uri": "https://localhost:8080/",
          "height": 265
        }
      },
      "execution_count": 41,
      "outputs": [
        {
          "output_type": "display_data",
          "data": {
            "text/plain": [
              "<Figure size 432x288 with 1 Axes>"
            ],
            "image/png": "[encoded data removed]"
          },
          "metadata": {
            "needs_background": "light"
          }
        }
      ]
    },
    {
      "cell_type": "code",
      "source": [
        "player= df[\"playerFrames\"]\n",
        "\n",
        "\n",
        "track3 = player.loc[player['roundNum'] == 1]\n",
        "track4 = track3[(track3['seconds'] > 0) & (track3['seconds'] <= 20)]\n",
        "track5 = track4.loc[player['name'] == \"NAF-FLY\"]\n",
        "\n",
        "track4.to_csv('track4.csv') \n",
        "files.download('track4.csv')\n"
      ],
      "metadata": {
        "id": "5sWIBQEGx75t",
        "outputId": "ec85577d-ed3c-45a3-ff3b-9a0c37cd92f4",
        "colab": {
          "base_uri": "https://localhost:8080/",
          "height": 17
        }
      },
      "execution_count": 42,
      "outputs": [
        {
          "output_type": "display_data",
          "data": {
            "text/plain": [
              "<IPython.core.display.Javascript object>"
            ],
            "application/javascript": [
              "\n",
              "    async function download(id, filename, size) {\n",
              "      if (!google.colab.kernel.accessAllowed) {\n",
              "        return;\n",
              "      }\n",
              "      const div = document.createElement('div');\n",
              "      const label = document.createElement('label');\n",
              "      label.textContent = `Downloading \"${filename}\": `;\n",
              "      div.appendChild(label);\n",
              "      const progress = document.createElement('progress');\n",
              "      progress.max = size;\n",
              "      div.appendChild(progress);\n",
              "      document.body.appendChild(div);\n",
              "\n",
              "      const buffers = [];\n",
              "      let downloaded = 0;\n",
              "\n",
              "      const channel = await google.colab.kernel.comms.open(id);\n",
              "      // Send a message to notify the kernel that we're ready.\n",
              "      channel.send({})\n",
              "\n",
              "      for await (const message of channel.messages) {\n",
              "        // Send a message to notify the kernel that we're ready.\n",
              "        channel.send({})\n",
              "        if (message.buffers) {\n",
              "          for (const buffer of message.buffers) {\n",
              "            buffers.push(buffer);\n",
              "            downloaded += buffer.byteLength;\n",
              "            progress.value = downloaded;\n",
              "          }\n",
              "        }\n",
              "      }\n",
              "      const blob = new Blob(buffers, {type: 'application/binary'});\n",
              "      const a = document.createElement('a');\n",
              "      a.href = window.URL.createObjectURL(blob);\n",
              "      a.download = filename;\n",
              "      div.appendChild(a);\n",
              "      a.click();\n",
              "      div.remove();\n",
              "    }\n",
              "  "
            ]
          },
          "metadata": {}
        },
        {
          "output_type": "display_data",
          "data": {
            "text/plain": [
              "<IPython.core.display.Javascript object>"
            ],
            "application/javascript": [
              "download(\"download_c9895ef4-10a1-4f85-9c7e-048eae408d06\", \"track4.csv\", 77115)"
            ]
          },
          "metadata": {}
        }
      ]
    },
    {
      "cell_type": "code",
      "source": [
        "track5"
      ],
      "metadata": {
        "id": "whqjInPyb1Gt",
        "outputId": "2a877434-cfbf-4a98-bd15-9b5a1ea4f2a0",
        "colab": {
          "base_uri": "https://localhost:8080/",
          "height": 143
        }
      },
      "execution_count": 43,
      "outputs": [
        {
          "output_type": "execute_result",
          "data": {
            "text/plain": [
              "Empty DataFrame\n",
              "Columns: [roundNum, tick, seconds, side, teamName, steamID, name, team, x, y, z, velocityX, velocityY, velocityZ, viewX, viewY, hp, armor, activeWeapon, totalUtility, isAlive, isBlinded, isAirborne, isDucking, isDuckingInProgress, isUnDuckingInProgress, isDefusing, isPlanting, isReloading, isInBombZone, isInBuyZone, isStanding, isScoped, isWalking, isUnknown, spotters, equipmentValue, equipmentValueFreezetimeEnd, equipmentValueRoundStart, cash, cashSpendThisRound, cashSpendTotal, hasHelmet, hasDefuse, hasBomb, ping, zoomLevel, matchID, mapName]\n",
              "Index: []\n",
              "\n",
              "[0 rows x 49 columns]"
            ],
            "text/html": [
              "\n",
              "  <div id=\"df-eff819d3-2ad2-4124-8458-b764f60fbab4\">\n",
              "    <div class=\"colab-df-container\">\n",
              "      <div>\n",
              "<style scoped>\n",
              "    .dataframe tbody tr th:only-of-type {\n",
              "        vertical-align: middle;\n",
              "    }\n",
              "\n",
              "    .dataframe tbody tr th {\n",
              "        vertical-align: top;\n",
              "    }\n",
              "\n",
              "    .dataframe thead th {\n",
              "        text-align: right;\n",
              "    }\n",
              "</style>\n",
              "<table border=\"1\" class=\"dataframe\">\n",
              "  <thead>\n",
              "    <tr style=\"text-align: right;\">\n",
              "      <th></th>\n",
              "      <th>roundNum</th>\n",
              "      <th>tick</th>\n",
              "      <th>seconds</th>\n",
              "      <th>side</th>\n",
              "      <th>teamName</th>\n",
              "      <th>steamID</th>\n",
              "      <th>name</th>\n",
              "      <th>team</th>\n",
              "      <th>x</th>\n",
              "      <th>y</th>\n",
              "      <th>...</th>\n",
              "      <th>cash</th>\n",
              "      <th>cashSpendThisRound</th>\n",
              "      <th>cashSpendTotal</th>\n",
              "      <th>hasHelmet</th>\n",
              "      <th>hasDefuse</th>\n",
              "      <th>hasBomb</th>\n",
              "      <th>ping</th>\n",
              "      <th>zoomLevel</th>\n",
              "      <th>matchID</th>\n",
              "      <th>mapName</th>\n",
              "    </tr>\n",
              "  </thead>\n",
              "  <tbody>\n",
              "  </tbody>\n",
              "</table>\n",
              "<p>0 rows × 49 columns</p>\n",
              "</div>\n",
              "      <button class=\"colab-df-convert\" onclick=\"convertToInteractive('df-eff819d3-2ad2-4124-8458-b764f60fbab4')\"\n",
              "              title=\"Convert this dataframe to an interactive table.\"\n",
              "              style=\"display:none;\">\n",
              "        \n",
              "  <svg xmlns=\"http://www.w3.org/2000/svg\" height=\"24px\"viewBox=\"0 0 24 24\"\n",
              "       width=\"24px\">\n",
              "    <path d=\"M0 0h24v24H0V0z\" fill=\"none\"/>\n",
              "    <path d=\"M18.56 5.44l.94 2.06.94-2.06 2.06-.94-2.06-.94-.94-2.06-.94 2.06-2.06.94zm-11 1L8.5 8.5l.94-2.06 2.06-.94-2.06-.94L8.5 2.5l-.94 2.06-2.06.94zm10 10l.94 2.06.94-2.06 2.06-.94-2.06-.94-.94-2.06-.94 2.06-2.06.94z\"/><path d=\"M17.41 7.96l-1.37-1.37c-.4-.4-.92-.59-1.43-.59-.52 0-1.04.2-1.43.59L10.3 9.45l-7.72 7.72c-.78.78-.78 2.05 0 2.83L4 21.41c.39.39.9.59 1.41.59.51 0 1.02-.2 1.41-.59l7.78-7.78 2.81-2.81c.8-.78.8-2.07 0-2.86zM5.41 20L4 18.59l7.72-7.72 1.47 1.35L5.41 20z\"/>\n",
              "  </svg>\n",
              "      </button>\n",
              "      \n",
              "  <style>\n",
              "    .colab-df-container {\n",
              "      display:flex;\n",
              "      flex-wrap:wrap;\n",
              "      gap: 12px;\n",
              "    }\n",
              "\n",
              "    .colab-df-convert {\n",
              "      background-color: #E8F0FE;\n",
              "      border: none;\n",
              "      border-radius: 50%;\n",
              "      cursor: pointer;\n",
              "      display: none;\n",
              "      fill: #1967D2;\n",
              "      height: 32px;\n",
              "      padding: 0 0 0 0;\n",
              "      width: 32px;\n",
              "    }\n",
              "\n",
              "    .colab-df-convert:hover {\n",
              "      background-color: #E2EBFA;\n",
              "      box-shadow: 0px 1px 2px rgba(60, 64, 67, 0.3), 0px 1px 3px 1px rgba(60, 64, 67, 0.15);\n",
              "      fill: #174EA6;\n",
              "    }\n",
              "\n",
              "    [theme=dark] .colab-df-convert {\n",
              "      background-color: #3B4455;\n",
              "      fill: #D2E3FC;\n",
              "    }\n",
              "\n",
              "    [theme=dark] .colab-df-convert:hover {\n",
              "      background-color: #434B5C;\n",
              "      box-shadow: 0px 1px 3px 1px rgba(0, 0, 0, 0.15);\n",
              "      filter: drop-shadow(0px 1px 2px rgba(0, 0, 0, 0.3));\n",
              "      fill: #FFFFFF;\n",
              "    }\n",
              "  </style>\n",
              "\n",
              "      <script>\n",
              "        const buttonEl =\n",
              "          document.querySelector('#df-eff819d3-2ad2-4124-8458-b764f60fbab4 button.colab-df-convert');\n",
              "        buttonEl.style.display =\n",
              "          google.colab.kernel.accessAllowed ? 'block' : 'none';\n",
              "\n",
              "        async function convertToInteractive(key) {\n",
              "          const element = document.querySelector('#df-eff819d3-2ad2-4124-8458-b764f60fbab4');\n",
              "          const dataTable =\n",
              "            await google.colab.kernel.invokeFunction('convertToInteractive',\n",
              "                                                     [key], {});\n",
              "          if (!dataTable) return;\n",
              "\n",
              "          const docLinkHtml = 'Like what you see? Visit the ' +\n",
              "            '<a target=\"_blank\" href=https://colab.research.google.com/notebooks/data_table.ipynb>data table notebook</a>'\n",
              "            + ' to learn more about interactive tables.';\n",
              "          element.innerHTML = '';\n",
              "          dataTable['output_type'] = 'display_data';\n",
              "          await google.colab.output.renderOutput(dataTable, element);\n",
              "          const docLink = document.createElement('div');\n",
              "          docLink.innerHTML = docLinkHtml;\n",
              "          element.appendChild(docLink);\n",
              "        }\n",
              "      </script>\n",
              "    </div>\n",
              "  </div>\n",
              "  "
            ]
          },
          "metadata": {},
          "execution_count": 43
        }
      ]
    },
    {
      "cell_type": "code",
      "source": [
        "roundCTTiles = list(df['playerFrames'][(df['playerFrames']['roundNum'] == 1) \n",
        "                    & (df['playerFrames']['side'] == 'CT') \n",
        "                    #& (df['playerFrames']['tick'] <= tmpRoundEndTick) \n",
        "                    #& (df['playerFrames']['isAlive'])].groupby(by = 'tick')['areaID']\n",
        "                    .apply(list))\n"
      ],
      "metadata": {
        "id": "9poDgYI5eO8h",
        "outputId": "47d9addd-8d26-440c-8600-2f1731977008",
        "colab": {
          "base_uri": "https://localhost:8080/",
          "height": 133
        }
      },
      "execution_count": 44,
      "outputs": [
        {
          "output_type": "error",
          "ename": "SyntaxError",
          "evalue": "ignored",
          "traceback": [
            "\u001b[0;36m  File \u001b[0;32m\"<ipython-input-44-cdf2b613df4b>\"\u001b[0;36m, line \u001b[0;32m5\u001b[0m\n\u001b[0;31m    .apply(list))\u001b[0m\n\u001b[0m                ^\u001b[0m\n\u001b[0;31mSyntaxError\u001b[0m\u001b[0;31m:\u001b[0m invalid syntax\n"
          ]
        }
      ]
    },
    {
      "cell_type": "code",
      "source": [
        "track6 = track5[[\"x\",\"y\"]]\n",
        "\n",
        "track6=track6.values.tolist()\n",
        "\n",
        "#print(track6)"
      ],
      "metadata": {
        "id": "7-ZH-sk7XQGm"
      },
      "execution_count": null,
      "outputs": []
    },
    {
      "cell_type": "code",
      "source": [
        "track3.seconds = track3.seconds.round(3)\n",
        "track3.x = track3.x.round(3)\n",
        "#track3\n",
        "#track3.to_csv('track3.csv') \n",
        "#files.download('track3.csv')"
      ],
      "metadata": {
        "id": "wIW1BiklpRnJ"
      },
      "execution_count": null,
      "outputs": []
    },
    {
      "cell_type": "code",
      "source": [
        "#test2 = df[\"rounds\"]\n",
        "\n",
        "\n",
        "\n",
        "#test2.to_csv('test2.csv') \n",
        "#files.download('test2.csv')"
      ],
      "metadata": {
        "id": "ZhEixqKvvOpq"
      },
      "execution_count": null,
      "outputs": []
    },
    {
      "cell_type": "code",
      "source": [
        "#kills2= df[\"kills\"]\n",
        "\n",
        "#kills_1 = kills2.loc[kills2['roundNum'] == 1]\n",
        "#kills2.to_csv('kills2.csv') \n",
        "#files.download('kills2.csv')"
      ],
      "metadata": {
        "id": "6HL895FC3pK0"
      },
      "execution_count": null,
      "outputs": []
    },
    {
      "cell_type": "code",
      "source": [
        "df_test=pd.read_csv('/content/drive/MyDrive/Demofiles/track2.csv')\n"
      ],
      "metadata": {
        "id": "TksI4IubeFl7"
      },
      "execution_count": null,
      "outputs": []
    },
    {
      "cell_type": "code",
      "source": [
        "#df_test.x = df_test.x.round(3)\n",
        "#df_test"
      ],
      "metadata": {
        "id": "Xkj4f93BvG_5"
      },
      "execution_count": null,
      "outputs": []
    },
    {
      "cell_type": "code",
      "source": [
        "import matplotlib.pyplot as plt\n",
        "from awpy.visualization.plot import plot_map\n",
        "\n",
        "\n",
        "f, a = plot_map(map_name=\"de_dust2\", map_type=\"original\")\n",
        "plt.show()"
      ],
      "metadata": {
        "id": "rWP6Ex8-vwDh"
      },
      "execution_count": null,
      "outputs": []
    },
    {
      "cell_type": "code",
      "source": [
        "f, a = plot_map(map_name=\"de_dust2\", map_type=\"simpleradar\", dark=True)\n",
        "plt.show()"
      ],
      "metadata": {
        "id": "lV902v-PzQ1-"
      },
      "execution_count": null,
      "outputs": []
    },
    {
      "cell_type": "code",
      "source": [
        "from awpy.visualization.plot import plot_nades\n",
        "\n",
        "plot_nades(rounds=d[\"gameRounds\"][1:25], nades=[\"Flashbang\", \"HE Grenade\", \"Smoke Grenade\", \"Molotov\", \"Incendiary Grenade\"], side=\"CT\", map_name=\"de_dust2\", map_type=\"simpleradar\", dark=False)\n"
      ],
      "metadata": {
        "id": "NFZ6VZqkzBj9"
      },
      "execution_count": null,
      "outputs": []
    },
    {
      "cell_type": "code",
      "source": [
        "d.keys()"
      ],
      "metadata": {
        "id": "B8xepFPeOw8-"
      },
      "execution_count": null,
      "outputs": []
    },
    {
      "cell_type": "code",
      "source": [
        "#print(type(d[\"gameRounds\"]))\n",
        "dftest = pd.DataFrame(data={\"col1\": d[\"gameRounds\"]})\n",
        "#dftest.to_csv(\"dftest.csv\")\n",
        "#files.download('dftest.csv')"
      ],
      "metadata": {
        "id": "Gtdcg0TFO0Zr"
      },
      "execution_count": null,
      "outputs": []
    },
    {
      "cell_type": "code",
      "source": [
        "dftest2 = pd.DataFrame(data={\"col1\": d[\"gameRounds\"][0]})\n",
        "dftest2.to_csv(\"dftest2.csv\")\n",
        "files.download('dftest2.csv')"
      ],
      "metadata": {
        "id": "dJIYMQbFR9Bl"
      },
      "execution_count": null,
      "outputs": []
    },
    {
      "cell_type": "code",
      "source": [
        "from awpy.visualization.plot import plot_positions\n",
        "\n",
        "plot_positions(positions=track6, colors=[\"red\"], markers=[\"s\"], map_name='de_dust2', map_type='original', dark=False, apply_transformation=False)"
      ],
      "metadata": {
        "id": "lHKSCwN3zqHv"
      },
      "execution_count": null,
      "outputs": []
    },
    {
      "cell_type": "markdown",
      "source": [
        "HIER TEST VISUALISIERUNG"
      ],
      "metadata": {
        "id": "LaOMo3T7haYk"
      }
    },
    {
      "cell_type": "code",
      "source": [
        "import pandas as pd\n",
        "\n",
        "\n",
        "import time\n",
        "import json\n",
        "import numpy as np\n",
        "import pandas as pd\n",
        "from matplotlib import pyplot as plt\n",
        "import matplotlib\n",
        "from matplotlib import patches\n",
        "import imageio\n",
        "\n",
        "\n",
        "demo_filepath = \"/content/drive/MyDrive/Demofiles/vitality-vs-liquid-m2-dust2.dem\"\n",
        "\n",
        "\n",
        "demo_parser = DemoParser(demofile = demo_filepath, demo_id = \"FAZE-C9-Inferno\", parse_rate=128)\n",
        "\n",
        "\n",
        "data_df = demo_parser.parse(return_type=\"df\")"
      ],
      "metadata": {
        "id": "88i-M1Wfhd0Z"
      },
      "execution_count": null,
      "outputs": []
    },
    {
      "cell_type": "code",
      "source": [
        "def tile_values_snapshot(ctTilesWanted, tTilesWanted, neighborInfo):\n",
        "\n",
        "    \n",
        "    funcCTIds = [str(i) for i in list(ctTilesWanted)]\n",
        "    funcTIds = [str(i) for i in list(tTilesWanted)]\n",
        "\n",
        "    ### Run BFS For CT Tiles\n",
        "    ctDict = {}\n",
        "    for curId in funcCTIds:\n",
        "        startVal = 10\n",
        "        stepsize = 1\n",
        "        tilesSeen = set()\n",
        "        stack = []\n",
        "        startingNode = (curId, startVal)\n",
        "        stack.append(startingNode)\n",
        "        while stack[0][1] > 0:\n",
        "            curId, curVal = stack.pop(0)\n",
        "            if curId not in tilesSeen:\n",
        "                tilesSeen.add(curId)\n",
        "                curTileValues = ctDict.get(int(curId), ([]))\n",
        "                curTileValues.append(curVal/startVal)\n",
        "                ctDict[int(curId)] = (curTileValues)\n",
        "                for neighbor in neighborInfo[curId]:\n",
        "                    stack.append((neighbor, curVal - stepsize))\n",
        "\n",
        "\n",
        "    ### Run BFS For T Tiles\n",
        "    tDict = {}\n",
        "    for curId in funcTIds:\n",
        "        \n",
        "        startVal = 10\n",
        "        stepsize = 1\n",
        "        tilesSeen = set()\n",
        "        stack = []\n",
        "        startingNode = (curId, startVal)\n",
        "        stack.append(startingNode)\n",
        "        while stack[0][1] > 0:\n",
        "            curId, curVal = stack.pop(0)\n",
        "            if curId not in tilesSeen:\n",
        "                tilesSeen.add(curId)\n",
        "                curTileValues = tDict.get(int(curId), ([]))\n",
        "                curTileValues.append(curVal/startVal)\n",
        "                tDict[int(curId)] = (curTileValues)\n",
        "                for neighbor in neighborInfo[curId]:\n",
        "                    stack.append((neighbor, curVal - stepsize))\n",
        "                    \n",
        "    return ctDict, tDict\n"
      ],
      "metadata": {
        "id": "6aJsAwcfhsj8"
      },
      "execution_count": null,
      "outputs": []
    },
    {
      "cell_type": "code",
      "source": [
        "filepath_cur = '/content/vitality-vs-liquid-m2-dust2.json'\n",
        "# Opening JSON file\n",
        "with open(filepath_cur) as json_file:\n",
        "    data = json.load(json_file)\n",
        "\n",
        "\n",
        "roundWanted = 25\n",
        "\n",
        "tmpRoundBombPlanted = 'plant' in list(data_df['bombEvents'][data_df['bombEvents']['roundNum'] == roundWanted]['bombAction'])\n",
        "if tmpRoundBombPlanted:\n",
        "    tmpRoundBombTick = data_df['bombEvents'][(data_df['bombEvents']['roundNum'] == roundWanted) & (data_df['bombEvents']['bombAction'] == 'plant')]['tick'].iloc[0]\n",
        "    \n",
        "else:\n",
        "    tmpRoundBombTick = None\n",
        "\n"
      ],
      "metadata": {
        "id": "w0ZrT6Ysh0uU"
      },
      "execution_count": null,
      "outputs": []
    },
    {
      "cell_type": "code",
      "source": [
        "tmpRoundBeginTick = data_df['rounds'][data_df['rounds']['roundNum'] == roundWanted]['freezeTimeEndTick'].iloc[0]\n",
        "tmpRoundEndTick = data_df['rounds'][data_df['rounds']['roundNum'] == roundWanted]['endOfficialTick'].iloc[0]\n",
        "\n",
        "\n",
        "roundCTTiles = list(data_df['playerFrames'][(data_df['playerFrames']['roundNum'] == roundWanted) & (data_df['playerFrames']['side'] == 'CT') & (data_df['playerFrames']['tick'] <= tmpRoundEndTick) & (data_df['playerFrames']['isAlive'])].apply(list))\n",
        "roundTTiles = list(data_df['playerFrames'][(data_df['playerFrames']['roundNum'] == roundWanted) & (data_df['playerFrames']['side'] == 'T') & (data_df['playerFrames']['tick'] <= tmpRoundEndTick) & (data_df['playerFrames']['isAlive'])].apply(list))\n",
        "\n",
        "CT_x = list(data_df['playerFrames'][(data_df['playerFrames']['roundNum'] == roundWanted) & (data_df['playerFrames']['side'] == 'CT') & (data_df['playerFrames']['tick'] <= tmpRoundEndTick) & (data_df['playerFrames']['isAlive'])].groupby('tick')['x'].apply(list))\n",
        "CT_y = list(data_df['playerFrames'][(data_df['playerFrames']['roundNum'] == roundWanted) & (data_df['playerFrames']['side'] == 'CT') & (data_df['playerFrames']['tick'] <= tmpRoundEndTick) & (data_df['playerFrames']['isAlive'])].groupby('tick')['y'].apply(list))\n",
        "T_x = list(data_df['playerFrames'][(data_df['playerFrames']['roundNum'] == roundWanted) & (data_df['playerFrames']['side'] == 'T') & (data_df['playerFrames']['tick'] <= tmpRoundEndTick) & (data_df['playerFrames']['isAlive'])].groupby('tick')['x'].apply(list))\n",
        "T_y = list(data_df['playerFrames'][(data_df['playerFrames']['roundNum'] == roundWanted) & (data_df['playerFrames']['side'] == 'T') & (data_df['playerFrames']['tick'] <= tmpRoundEndTick) & (data_df['playerFrames']['isAlive'])].groupby('tick')['y'].apply(list))\n",
        "\n",
        "tmpRoundTickVals = list(data_df['playerFrames'][(data_df['playerFrames']['roundNum'] == roundWanted) & (data_df['playerFrames']['side'] == 'CT') & (data_df['playerFrames']['isAlive']) & (tmpRoundBeginTick <= data_df['playerFrames']['tick']) & (data_df['playerFrames']['tick'] <= tmpRoundEndTick)].groupby(by = 'tick').groups.keys())\n",
        "tmpRoundSecArr = [(i - tmpRoundBeginTick) / 128 for i in tmpRoundTickVals]\n",
        "\n",
        "#print(len(roundCTTiles), len(roundTTiles), len(tmpRoundSecArr), len(tmpRoundTickVals))\n",
        "combinedRoundTiles = zip(roundCTTiles, roundTTiles)\n",
        "tileValuesRound = [tile_values_snapshot(i, j, data) for i, j in combinedRoundTiles]"
      ],
      "metadata": {
        "id": "5YwBCyI7iJLa"
      },
      "execution_count": null,
      "outputs": []
    },
    {
      "cell_type": "code",
      "source": [
        "\n",
        "\n",
        "\n",
        "\n",
        "\n",
        "130 130 130 130\n",
        "import math\n",
        "def create_clocktimes(tickArr, roundTickStart, roundTickEnd, roundBombTick, tickRate, end_buffer = 0):\n",
        "    '''\n",
        "    Purpose: Function meant to estimate the in-game clock for a certain tick/frame within a round\n",
        "    \n",
        "    Inputs:\n",
        "    \n",
        "    tickArr -> Array of ticks in current round\n",
        "    \n",
        "    roundTickStart -> Tick where the round started. Should be the first tick after the buy phase (freezeTimeEndTick)\n",
        "    \n",
        "    roundTickEnd -> Tick where the round 'officially' ends (endOfficialTick)\n",
        "    \n",
        "    roundBombTick -> Tick where the bomb was planted. None if the bomb was not planted\n",
        "    \n",
        "    tickRate -> Tick rate at which the demo file was parsed\n",
        "    \n",
        "    end_buffer -> There is a brief amount of time after the round which players can still move\n",
        "    around. This parameter is supposed to account for that. However, some demos/rounds are weird and have \n",
        "    different amounts of time at the end of the round (10 seconds, 15 seconds, etc.). I recommend\n",
        "    using this parameter to fix any issues like that.\n",
        "    \n",
        "    Output:\n",
        "    \n",
        "    retArr -> Array of clocktimes corresponding to the ticks in tickArr\n",
        "    \n",
        "    '''\n",
        "    retArr = []\n",
        "    addedOnce = False\n",
        "    for curTick in tickArr:\n",
        "        if roundBombTick is not None:\n",
        "            if curTick < roundBombTick:\n",
        "                if curTick < roundTickEnd:\n",
        "                    totalSeconds = 115 - (curTick - roundTickStart) / tickRate\n",
        "                else:\n",
        "                    totalSeconds = 10 - (curTick - roundTickEnd) / tickRate\n",
        "            else:\n",
        "                totalSeconds = 40 - (curTick - roundBombTick) / tickRate            \n",
        "        else:\n",
        "            if curTick < roundTickEnd:\n",
        "                totalSeconds = 115 - (curTick - roundTickStart) / tickRate\n",
        "            else:\n",
        "                totalSeconds = 10 - (curTick - roundTickEnd) / tickRate\n",
        "        if totalSeconds < 0:\n",
        "            totalSeconds += end_buffer\n",
        "            ##print(totalSeconds)\n",
        "            \n",
        "        minutes = math.floor(max(totalSeconds, 0)/60)\n",
        "        seconds = math.ceil((totalSeconds - 60*(minutes)))\n",
        "        ##print(totalSeconds, minutes, seconds, curTick, roundBombTick, roundTickEnd)\n",
        "        retArr.append(str(minutes) + ':' + '0'* ((len(str(seconds)) * -1) + 2) + str(seconds))\n",
        "    return retArr\n",
        "tmpClockTimeArr = create_clocktimes(tmpRoundTickVals, tmpRoundBeginTick, tmpRoundEndTick, tmpRoundBombTick, data_df['tickRate'], end_buffer = 15)\n",
        "#print(len(tmpClockTimeArr))\n",
        "130\n",
        "Load in Nav Tile Metadata\n",
        "# The map_nav.csv file is a csv with info on every tile on every map\n",
        "# It can be found here: https://github.com/pnxenopoulos/csgo/blob/main/csgo/data/nav/map_nav.csv\n",
        "\n",
        "tileInfo = pd.read_csv('../../../csgo/data/nav/map_nav.csv')\n",
        "tileInfo\n",
        "MapName\tAreaId\tAreaName\tNorthWestX\tNorthWestY\tNorthWestZ\tSouthEastX\tSouthEastY\tSouthEastZ\tConnections\tHidingSpots\tEarliestOccupyTimeFirstTeam\tEarliestOccupyTimeSecondTeam\n",
        "0\tde_ancient\t152\tOutside\t260.60\t642.80\t-19.416094\t280.60\t627.80\t18.666107\t10\t0\t8.199903\t15.538094\n",
        "1\tde_ancient\t2559\tMainHall\t155.60\t512.80\t75.847092\t160.60\t502.80\t72.037033\t3\t0\t12.804793\t13.120758\n",
        "2\tde_ancient\t2748\tRuins\t725.60\t732.80\t-29.636036\t730.60\t722.80\t-15.349043\t3\t1\t7.245784\t19.397285\n",
        "3\tde_ancient\t2835\tMiddle\t540.60\t477.80\t65.784042\t565.60\t457.80\t68.031197\t2\t1\t13.451628\t8.742879\n",
        "4\tde_ancient\t2927\tSideHall\t315.60\t507.80\t103.918999\t340.60\t492.80\t104.806747\t2\t0\t15.876244\t11.825044\n",
        "...\t...\t...\t...\t...\t...\t...\t...\t...\t...\t...\t...\t...\t...\n",
        "10592\tde_vertigo\t4366\tTSpawn\t417.00\t809.25\t11488.031250\t429.50\t790.50\t11488.031250\t4\t0\t0.404472\t17.929251\n",
        "10593\tde_vertigo\t4446\tBridge\t623.25\t553.00\t11501.278320\t629.50\t546.75\t11488.031250\t4\t0\t10.745050\t16.382465\n",
        "10594\tde_vertigo\t4490\tBombsiteB\t173.25\t346.75\t11776.031250\t192.00\t328.00\t11776.031250\t4\t1\t15.058154\t8.052150\n",
        "10595\tde_vertigo\t5000\tARamp\t573.25\t621.75\t11573.395508\t579.50\t609.25\t11560.895508\t5\t0\t11.585015\t14.865434\n",
        "10596\tde_vertigo\t3294\tARamp\t160.75\t640.50\t11488.031250\t173.25\t634.25\t11488.031250\t3\t0\t5.609235\t19.288990\n",
        "10597 rows × 13 columns\n",
        "\n",
        "Calculate Extra Tile Data\n",
        "currentMap = 'de_inferno'\n",
        "curMapTile = tileInfo[(tileInfo['MapName'] == currentMap)]\n",
        "curMapTile['TileWidth'] = curMapTile['SouthEastX'] - curMapTile['NorthWestX']\n",
        "curMapTile['TileHeight'] = curMapTile['NorthWestY'] - curMapTile['SouthEastY']\n",
        "curMapTile['TileArea'] = curMapTile['TileWidth'] * curMapTile['TileHeight']\n",
        "tileToArea = {}\n",
        "for i in range(len(curMapTile)):\n",
        "    tileToArea[curMapTile['AreaId'].iloc[i]] = curMapTile['TileArea'].iloc[i]\n",
        "#tileToArea\n",
        "<ipython-input-64-46c40cc51063>:3: SettingWithCopyWarning: \n",
        "A value is trying to be set on a copy of a slice from a DataFrame.\n",
        "Try using .loc[row_indexer,col_indexer] = value instead\n",
        "\n",
        "See the caveats in the documentation: https://pandas.pydata.org/pandas-docs/stable/user_guide/indexing.html#returning-a-view-versus-a-copy\n",
        "  curMapTile['TileWidth'] = curMapTile['SouthEastX'] - curMapTile['NorthWestX']\n",
        "<ipython-input-64-46c40cc51063>:4: SettingWithCopyWarning: \n",
        "A value is trying to be set on a copy of a slice from a DataFrame.\n",
        "Try using .loc[row_indexer,col_indexer] = value instead\n",
        "\n",
        "See the caveats in the documentation: https://pandas.pydata.org/pandas-docs/stable/user_guide/indexing.html#returning-a-view-versus-a-copy\n",
        "  curMapTile['TileHeight'] = curMapTile['NorthWestY'] - curMapTile['SouthEastY']\n",
        "<ipython-input-64-46c40cc51063>:5: SettingWithCopyWarning: \n",
        "A value is trying to be set on a copy of a slice from a DataFrame.\n",
        "Try using .loc[row_indexer,col_indexer] = value instead\n",
        "\n",
        "See the caveats in the documentation: https://pandas.pydata.org/pandas-docs/stable/user_guide/indexing.html#returning-a-view-versus-a-copy\n",
        "  curMapTile['TileArea'] = curMapTile['TileWidth'] * curMapTile['TileHeight']\n",
        "Visualize Map Control Snapshot(s)\n",
        "Now that we have values from the CT and T team for each tile, now we need to map these values to a color value for plotting. For this example we will use Red for T and Green for CT. There are 4 possible cases:\n",
        "\n",
        "a tile only has values from CT (within n tiles from at least one CT tile)\n",
        "a tile only has values from T (within n tiles from at least 1 T tile)\n",
        "a tile has values from both team (within n tiles from at least 1 T tile\n",
        "and a tile doesn't have any values\n",
        "If a tile only has values from one team, the max value is taken from its array of value. This max value is then mapped to a color by scaling the corresponding team's colors ([1, 0, 0] or [0, 1, 0] for this notebook) by the max value. Here's an example that might help. Let's say a tile T_0 has the following values [0.4, 0.8, 0.1] and all of these values were from the CT team. Then the max value for T_0 would be 0.8 and the color for the tile would be 0.8 * [0, 1, 0] = [0, 0.8, 0].\n",
        "\n",
        "If a tile has values from both teams, the ratio between the sum of the CT values and the sum of both the CT and T values, or\n",
        "\n",
        " \n",
        "Then, like before, this calculated value is linearly mapped to a color where 0 maps to [1, 0, 0] and 1 maps to [0, 1, 0].\n",
        "\n",
        "def plot_map(map_name=\"de_dust2\", map_type=\"original\", dark=False, prevFig = None, prevAx = None):\n",
        "    # Plots the simpleradar minimap for the wanted map. Code taken from csgo python library\n",
        "    # which can be found here https://github.com/pnxenopoulos/csgo\n",
        "    \n",
        "    map_folder_path = \"../../../csgo/data/map/\"\n",
        "    if map_type == \"original\":\n",
        "        map_bg = plt.imread(map_folder_path + \"\"\"{0}.png\"\"\".format(map_name))\n",
        "    else:\n",
        "        col = \"light\"\n",
        "        if dark:\n",
        "            col = \"dark\"\n",
        "        map_bg = plt.imread(\n",
        "            map_folder_path + \"\"\"{0}_{1}.png\"\"\".format(map_name, col)\n",
        "        )\n",
        "    if prevFig and prevAx:\n",
        "        prevAx.imshow(map_bg, zorder=0)\n",
        "        return prevFig, prevAx\n",
        "    else:\n",
        "        fig, ax = plt.subplots()\n",
        "        ax.imshow(map_bg, zorder=0)\n",
        "        return fig, ax\n",
        "def plot_map_control_snapshot(tileData, ctTiles, tTiles, map_name = 'de_dust2', useFig = None, useAx = None):\n",
        "    \"\"\"\n",
        "    Purpose: Visualize map control for the current snapshot.\n",
        "    Tile values are mapped to RGB colors and then plotted.\n",
        "    \n",
        "    Inputs:\n",
        "    tileData -> Pandas df with nav tile metadata for the specific map\n",
        "    \n",
        "    ctTiles -> Dictionary mapping nav tile ID to its array of values\n",
        "    from the CT team. Part of the output from tile_values_snapshot\n",
        "    \n",
        "    tTiles -> Dictionary mapping nav tile ID to its array of values\n",
        "    from the T team. Part of the output from tile_values_snapshot\n",
        "    \n",
        "    map_name -> Name of map such that the correct minimap is plotted.\n",
        "    Used for plot_map function\n",
        "    \n",
        "    Output(s):\n",
        "    f, ax -> figure and axis objects used to visualize the current map control state\n",
        "    \"\"\"\n",
        "    f, ax = plot_map(map_name = map_name, map_type = 'simpleradar', dark = True, prevFig = useFig, prevAx = useAx)\n",
        "    ctTileLocs, tTileLocs = set(ctTiles.keys()), set(tTiles.keys())\n",
        "    ctTileOnly, tTileOnly, bothTiles = ctTileLocs - tTileLocs, tTileLocs - ctTileLocs, ctTileLocs.intersection(tTileLocs)\n",
        "    allRelevantTiles = ctTileLocs.union(tTileLocs)\n",
        "    \n",
        "    #iterate through the tiles that have a value\n",
        "    for curTile in allRelevantTiles:\n",
        "        func_cur_df = tileData[tileData['AreaId'] == curTile]\n",
        "        func_cur_bl_x, func_cur_bl_y = func_cur_df['NorthWestX'].iloc[0], func_cur_df['SouthEastY'].iloc[0]\n",
        "        func_cur_tr_x, func_cur_tr_y = func_cur_df['SouthEastX'].iloc[0], func_cur_df['NorthWestY'].iloc[0]\n",
        "        func_curWidth, func_curHeight = func_cur_tr_x - func_cur_bl_x, func_cur_tr_y - func_cur_bl_y\n",
        "        \n",
        "        if curTile in ctTileLocs - tTileLocs:\n",
        "            curTileValue = max(ctTiles[curTile])\n",
        "            curColor = curTileValue * np.array([0, 1, 0])\n",
        "\n",
        "        elif curTile in tTileLocs - ctTileLocs:\n",
        "            curTileValue = max(tTiles[curTile])\n",
        "            curColor = curTileValue * np.array([1, 0, 0])\n",
        "            \n",
        "        elif curTile in bothTiles:\n",
        "            curTileValue = sum(ctTiles[curTile]) / (sum(ctTiles[curTile]) + sum(tTiles[curTile]))\n",
        "            curColor = curTileValue * np.array([0, 1, 0]) + (1 - curTileValue) * np.array([1, 0, 0])\n",
        "        rect = patches.Rectangle((func_cur_bl_x, func_cur_bl_y), func_curWidth, func_curHeight, linewidth=1, edgecolor= curColor, facecolor = curColor,  alpha = 1.0)\n",
        "        ax.add_patch(rect)\n",
        "    return f, ax\n",
        "Visualize individual snapshot(s)\n",
        "visIdx = 40\n",
        "curF, curAx = plot_map_control_snapshot(curMapTile, tileValuesRound[visIdx][0], tileValuesRound[visIdx][1], map_name = currentMap)\n",
        "plt.title(tmpClockTimeArr[visIdx])\n",
        "plt.show()\n",
        "\n",
        "Calculate Map Control Metric(s)\n",
        "def map_control_snapshot(curCTDict, curTDict, tileAreaDict, area_norm = True):\n",
        "    \"\"\"\n",
        "    Purpose: Calculate map control metric for a specific snapshot/moment during a round\n",
        "    \n",
        "    Inputs:\n",
        "    curCTDict -> Python dictionary where key = tile ID and value = array of CT values\n",
        "    curTDict -> Python dictionary where key = tile ID and value = array of T values\n",
        "    tileAreaDict -> Python dictionary where key = tile ID and value = bounding box area\n",
        "    area_norm -> True if you want to weight the value by the area of the nav tile.\n",
        "    \n",
        "    Output(s):\n",
        "    retVal -> Float representing map control difference for current snapshot. 0 means both teams\n",
        "    have equal control. 1 means total CT control ; -1 means total T control.\n",
        "    \"\"\"\n",
        "    funcCTTiles = set(curCTDict.keys())\n",
        "    funcTTiles = set(curTDict.keys())\n",
        "    \n",
        "    onlyCTTiles = funcCTTiles - funcTTiles\n",
        "    onlyTTiles = funcTTiles - funcCTTiles\n",
        "    bothTiles = funcCTTiles.intersection(funcTTiles)\n",
        "    \n",
        "    retVal = 0.0\n",
        "    retTrack = []\n",
        "    areaTrack = []\n",
        "    \n",
        "    # sum up the tile values\n",
        "    for curTile in onlyCTTiles:\n",
        "        tmpVal = max(curCTDict.get(curTile)) * tileAreaDict.get(curTile) if area_norm else max(curCTDict.get(curTile))\n",
        "        retVal += tmpVal\n",
        "        retTrack.append(max(curCTDict.get(curTile)))\n",
        "        areaTrack.append(tileAreaDict.get(curTile))\n",
        "        \n",
        "    for curTile in onlyTTiles:\n",
        "        tmpVal = max(curTDict.get(curTile)) * tileAreaDict.get(curTile) if area_norm else max(curTDict.get(curTile))\n",
        "        retVal -= tmpVal\n",
        "        retTrack.append(max(curTDict.get(curTile)) * -1)\n",
        "        areaTrack.append(tileAreaDict.get(curTile))\n",
        "        \n",
        "    for curTile in bothTiles:\n",
        "        funcCurCTVals, funcCurTVals = curCTDict.get(curTile), curTDict.get(curTile)\n",
        "        curCTSum, curTSum = sum(funcCurCTVals), sum(funcCurTVals)\n",
        "        tmpVal = curCTSum / (curCTSum + curTSum) - 0.5 * tileAreaDict.get(curTile) if area_norm else curCTSum / (curCTSum + curTSum) - 0.5\n",
        "        retVal += tmpVal\n",
        "        retTrack.append(curCTSum / (curCTSum + curTSum) - 0.5)\n",
        "        areaTrack.append(tileAreaDict.get(curTile))\n",
        "\n",
        "    if area_norm:\n",
        "        return sum(np.array(retTrack) * np.array(areaTrack)) / sum(areaTrack)\n",
        "    else:\n",
        "        return sum(retTrack)\n",
        "    #return retVal\n",
        "snapshotArr = [map_control_snapshot(i, j, tileToArea, True) for i, j in tileValuesRound]\n",
        "Create Map Control Graphic(s)\n",
        "# code borrowed from original csgo library (link below) to transform the map coordinates to\n",
        "# fit the minimap format (originally borrowed from PureSkill.gg)\n",
        "#\n",
        "# https://github.com/pnxenopoulos/csgo/blob/0efe873c519762b43a16f6a526d1ef679ea931dd/csgo/visualization/plot.py#L33\n",
        "\n",
        "\n",
        "from csgo import MAP_DATA\n",
        "\n",
        "def position_transform(map_name, position, axis):\n",
        "    start = MAP_DATA[map_name][axis]\n",
        "    scale = MAP_DATA[map_name][\"scale\"]\n",
        "    if axis == \"x\":\n",
        "        pos = position - start\n",
        "        pos /= scale\n",
        "        return pos\n",
        "    elif axis == \"y\":\n",
        "        pos = start - position\n",
        "        pos /= scale\n",
        "        return pos\n",
        "    else:\n",
        "        return None\n",
        "# visualize the clocktime ticks at the bottom of the graphic to be generated such that\n",
        "# they can be adjusted if necessary\n",
        "\n",
        "xTickArr = [i * 25 for i in range(len(tmpRoundSecArr) // 25 + 1) if (i * 25) < len(tmpRoundSecArr)]\n",
        "\n",
        "[tmpClockTimeArr[x] for x in xTickArr]\n",
        "['1:55', '1:30', '1:05', '0:40', '0:15', '0:04']\n",
        "yTickArr = [-1, -0.75, -0.5, -0.25, 0, 0.25, 0.5, 0.75, 1]\n",
        "xTickArr = [i * 25 for i in range(len(tmpRoundSecArr) // 25 + 1) if (i * 25) < len(tmpRoundSecArr)]\n",
        "save_fig = True\n",
        "for i in range(len(tmpClockTimeArr)):\n",
        "    if i % 10 == 0:\n",
        "        #print(i, ' out of ', len(tileValuesRound))\n",
        "\n",
        "    ### Initialize the subplots\n",
        "    fig, axs = plt.subplots(1, 2)\n",
        "\n",
        "    ### Plot map control visualization\n",
        "    axs[0].xaxis.set_visible(False)\n",
        "    axs[0].yaxis.set_visible(False)\n",
        "    axs[0].set_title(tmpClockTimeArr[i])\n",
        "    axs[0].text(0.25, -0.10, '@AdiSujithkumar', horizontalalignment='center', verticalalignment='center', transform=axs[0].transAxes)\n",
        "    fig, tmpp = plot_map_control_snapshot(curMapTile, tileValuesRound[i][0], tileValuesRound[i][1], map_name = currentMap, useFig = fig, useAx = axs[0])\n",
        "\n",
        "    ### Plot CT/T player(s) positions\n",
        "    for curCTX, curCTY in zip(CT_x[i], CT_y[i]):\n",
        "        transX, transY = position_transform(currentMap, curCTX, \"x\"), position_transform(currentMap, curCTY, \"y\")\n",
        "        tmpp.scatter(\n",
        "            x=transX,\n",
        "            y=transY,\n",
        "            c= ['#5d79ae'],\n",
        "            s = 10,\n",
        "            zorder=2\n",
        "        )\n",
        "    for curTX, curTY in zip(T_x[i], T_y[i]):\n",
        "        transX, transY = position_transform(currentMap, curTX, \"x\"), position_transform(currentMap, curTY, \"y\")\n",
        "        tmpp.scatter(\n",
        "            x=transX,\n",
        "            y=transY,\n",
        "            c= ['#de9b35'],\n",
        "            s = 10,\n",
        "            zorder=2\n",
        "        )\n",
        "\n",
        "    ### Plot map control metric line plot\n",
        "    axs[1].plot(tmpRoundSecArr[:i], snapshotArr[:i], c = 'k')\n",
        "    axs[1].set_title('Map Control During Round')\n",
        "    axs[1].set_xlabel('Clocktime')\n",
        "    axs[1].set_ylabel('Map Control')\n",
        "    axs[1].set_ylim([-1, 1])\n",
        "\n",
        "    axs[1].set_yticks(yTickArr)\n",
        "    axs[1].set_yticklabels([abs(x) for x in yTickArr])\n",
        "    axs[1].set_xlim([0, len(tmpRoundSecArr)])\n",
        "    axs[1].set_xticks(xTickArr)\n",
        "    axs[1].set_xticklabels([tmpClockTimeArr[x] for x in xTickArr])\n",
        "    axs[1].axhline(0, linestyle = 'dashed', c = 'k')\n",
        "    axs[1].text(0.1, 0.9, 'CT', horizontalalignment='center', verticalalignment='center', transform=axs[1].transAxes, weight='bold')\n",
        "    axs[1].text(0.1, 0.1, 'T', horizontalalignment='center', verticalalignment='center', transform=axs[1].transAxes, weight='bold')\n",
        "\n",
        "    fig.tight_layout()\n",
        "    if save_fig:\n",
        "        # the individual plots for each snapshot are saved as .png images in a tmp folder\n",
        "        fig.savefig(fname = './tmp/tmp' + str(i) + '.png', bbox_inches='tight', dpi = 400)\n",
        "    else:\n",
        "        plt.show()\n",
        "    plt.close(fig)"
      ],
      "metadata": {
        "id": "44-wkaiPgvx4"
      },
      "execution_count": null,
      "outputs": []
    }
  ]
}