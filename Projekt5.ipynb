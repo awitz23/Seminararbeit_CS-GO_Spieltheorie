{
  "nbformat": 4,
  "nbformat_minor": 0,
  "metadata": {
    "colab": {
      "name": "awpy_Colab.ipynb",
      "provenance": [],
      "collapsed_sections": [],
      "include_colab_link": true
    },
    "kernelspec": {
      "name": "python3",
      "display_name": "Python 3"
    },
    "language_info": {
      "name": "python"
    }
  },
  "cells": [
    {
      "cell_type": "markdown",
      "metadata": {
        "id": "view-in-github",
        "colab_type": "text"
      },
      "source": [
        "<a href=\"https://colab.research.google.com/github/awitz23/Project_CS-GO/blob/main/Projekt5.ipynb\" target=\"_parent\"><img src=\"https://colab.research.google.com/assets/colab-badge.svg\" alt=\"Open In Colab\"/></a>"
      ]
    },
    {
      "cell_type": "code",
      "source": [
        "pip install Pillow==9.0.0"
      ],
      "metadata": {
        "colab": {
          "base_uri": "https://localhost:8080/"
        },
        "id": "dKND3OLDw0ck",
        "outputId": "b2c8f62c-d20a-454b-a197-b40ff20a5ee5"
      },
      "execution_count": 1,
      "outputs": [
        {
          "output_type": "stream",
          "name": "stdout",
          "text": [
            "Looking in indexes: https://pypi.org/simple, https://us-python.pkg.dev/colab-wheels/public/simple/\n",
            "Requirement already satisfied: Pillow==9.0.0 in /usr/local/lib/python3.7/dist-packages (9.0.0)\n"
          ]
        }
      ]
    },
    {
      "cell_type": "code",
      "metadata": {
        "colab": {
          "base_uri": "https://localhost:8080/"
        },
        "id": "WeKqfFet03GZ",
        "outputId": "1541db83-76ae-41af-8ed4-8e59f5a5347c"
      },
      "source": [
        "%%shell\n",
        "add-apt-repository -y ppa:longsleep/golang-backports\n",
        "apt -y update\n",
        "apt -y install golang-go\n",
        "\n",
        "pip install awpy\n",
        "\n",
        "#wget https://storage.googleapis.com/csgo-tests/default.dem"
      ],
      "execution_count": 2,
      "outputs": [
        {
          "output_type": "stream",
          "name": "stdout",
          "text": [
            "\r0% [Working]\r            \rHit:1 https://cloud.r-project.org/bin/linux/ubuntu bionic-cran40/ InRelease\n",
            "Hit:2 https://developer.download.nvidia.com/compute/cuda/repos/ubuntu1804/x86_64  InRelease\n",
            "Get:3 http://security.ubuntu.com/ubuntu bionic-security InRelease [88.7 kB]\n",
            "Ign:4 https://developer.download.nvidia.com/compute/machine-learning/repos/ubuntu1804/x86_64  InRelease\n",
            "Hit:5 https://developer.download.nvidia.com/compute/machine-learning/repos/ubuntu1804/x86_64  Release\n",
            "Hit:6 http://ppa.launchpad.net/c2d4u.team/c2d4u4.0+/ubuntu bionic InRelease\n",
            "Hit:7 http://archive.ubuntu.com/ubuntu bionic InRelease\n",
            "Hit:8 http://archive.ubuntu.com/ubuntu bionic-updates InRelease\n",
            "Hit:9 http://ppa.launchpad.net/cran/libgit2/ubuntu bionic InRelease\n",
            "Hit:10 http://archive.ubuntu.com/ubuntu bionic-backports InRelease\n",
            "Hit:11 http://ppa.launchpad.net/deadsnakes/ppa/ubuntu bionic InRelease\n",
            "Hit:12 http://ppa.launchpad.net/graphics-drivers/ppa/ubuntu bionic InRelease\n",
            "Hit:13 http://ppa.launchpad.net/longsleep/golang-backports/ubuntu bionic InRelease\n",
            "Fetched 88.7 kB in 6s (15.7 kB/s)\n",
            "Reading package lists... Done\n",
            "Hit:1 https://developer.download.nvidia.com/compute/cuda/repos/ubuntu1804/x86_64  InRelease\n",
            "Hit:2 http://security.ubuntu.com/ubuntu bionic-security InRelease\n",
            "Hit:3 https://cloud.r-project.org/bin/linux/ubuntu bionic-cran40/ InRelease\n",
            "Ign:4 https://developer.download.nvidia.com/compute/machine-learning/repos/ubuntu1804/x86_64  InRelease\n",
            "Hit:5 https://developer.download.nvidia.com/compute/machine-learning/repos/ubuntu1804/x86_64  Release\n",
            "Hit:6 http://ppa.launchpad.net/c2d4u.team/c2d4u4.0+/ubuntu bionic InRelease\n",
            "Hit:7 http://archive.ubuntu.com/ubuntu bionic InRelease\n",
            "Hit:8 http://archive.ubuntu.com/ubuntu bionic-updates InRelease\n",
            "Hit:9 http://ppa.launchpad.net/cran/libgit2/ubuntu bionic InRelease\n",
            "Hit:10 http://archive.ubuntu.com/ubuntu bionic-backports InRelease\n",
            "Hit:11 http://ppa.launchpad.net/deadsnakes/ppa/ubuntu bionic InRelease\n",
            "Hit:12 http://ppa.launchpad.net/graphics-drivers/ppa/ubuntu bionic InRelease\n",
            "Hit:13 http://ppa.launchpad.net/longsleep/golang-backports/ubuntu bionic InRelease\n",
            "Reading package lists... Done\n",
            "Building dependency tree       \n",
            "Reading state information... Done\n",
            "75 packages can be upgraded. Run 'apt list --upgradable' to see them.\n",
            "Reading package lists... Done\n",
            "Building dependency tree       \n",
            "Reading state information... Done\n",
            "golang-go is already the newest version (2:1.18~1longsleep1).\n",
            "The following package was automatically installed and is no longer required:\n",
            "  libnvidia-common-460\n",
            "Use 'apt autoremove' to remove it.\n",
            "0 upgraded, 0 newly installed, 0 to remove and 75 not upgraded.\n",
            "Looking in indexes: https://pypi.org/simple, https://us-python.pkg.dev/colab-wheels/public/simple/\n",
            "Requirement already satisfied: awpy in /usr/local/lib/python3.7/dist-packages (1.1.6)\n",
            "Requirement already satisfied: networkx>=2.6.3 in /usr/local/lib/python3.7/dist-packages (from awpy) (2.6.3)\n",
            "Requirement already satisfied: tqdm>=4.55.2 in /usr/local/lib/python3.7/dist-packages (from awpy) (4.64.0)\n",
            "Requirement already satisfied: textdistance>=4.2.0 in /usr/local/lib/python3.7/dist-packages (from awpy) (4.2.2)\n",
            "Requirement already satisfied: imageio>=2.9.0 in /usr/local/lib/python3.7/dist-packages (from awpy) (2.19.3)\n",
            "Requirement already satisfied: scipy>=1.4.1 in /usr/local/lib/python3.7/dist-packages (from awpy) (1.4.1)\n",
            "Requirement already satisfied: matplotlib>=3.1.2 in /usr/local/lib/python3.7/dist-packages (from awpy) (3.2.2)\n",
            "Requirement already satisfied: pandas>=0.25.3 in /usr/local/lib/python3.7/dist-packages (from awpy) (1.3.5)\n",
            "Requirement already satisfied: numpy>=1.18.1 in /usr/local/lib/python3.7/dist-packages (from awpy) (1.21.6)\n",
            "Requirement already satisfied: pillow>=8.3.2 in /usr/local/lib/python3.7/dist-packages (from imageio>=2.9.0->awpy) (9.0.0)\n",
            "Requirement already satisfied: kiwisolver>=1.0.1 in /usr/local/lib/python3.7/dist-packages (from matplotlib>=3.1.2->awpy) (1.4.2)\n",
            "Requirement already satisfied: python-dateutil>=2.1 in /usr/local/lib/python3.7/dist-packages (from matplotlib>=3.1.2->awpy) (2.8.2)\n",
            "Requirement already satisfied: cycler>=0.10 in /usr/local/lib/python3.7/dist-packages (from matplotlib>=3.1.2->awpy) (0.11.0)\n",
            "Requirement already satisfied: pyparsing!=2.0.4,!=2.1.2,!=2.1.6,>=2.0.1 in /usr/local/lib/python3.7/dist-packages (from matplotlib>=3.1.2->awpy) (3.0.9)\n",
            "Requirement already satisfied: typing-extensions in /usr/local/lib/python3.7/dist-packages (from kiwisolver>=1.0.1->matplotlib>=3.1.2->awpy) (4.2.0)\n",
            "Requirement already satisfied: pytz>=2017.3 in /usr/local/lib/python3.7/dist-packages (from pandas>=0.25.3->awpy) (2022.1)\n",
            "Requirement already satisfied: six>=1.5 in /usr/local/lib/python3.7/dist-packages (from python-dateutil>=2.1->matplotlib>=3.1.2->awpy) (1.15.0)\n"
          ]
        },
        {
          "output_type": "execute_result",
          "data": {
            "text/plain": [
              ""
            ]
          },
          "metadata": {},
          "execution_count": 2
        }
      ]
    },
    {
      "cell_type": "code",
      "source": [
        "import pandas as pd\n",
        "import numpy as np\n",
        "\n",
        "#from awpy.parser import DemoParser\n",
        "from awpy import *\n",
        "#from awpy.data import NAV_CSV --> evtl. nicht notwendig, mal ausprobieren\n",
        "\n",
        "from google.colab import drive\n",
        "from google.colab import files\n",
        "drive.mount('/content/drive')\n",
        "\n",
        "p = DemoParser(demofile=\"/content/drive/MyDrive/Demofiles/vitality-vs-liquid-m2-dust2.dem\", parse_rate=128)\n",
        "\n",
        "from awpy.data import NAV_CSV\n",
        "\n",
        "\n",
        "pd.set_option('max_rows', 200)\n",
        "pd.set_option('max_colwidth', 4000)\n",
        "pd.describe_option('max_colwidth')"
      ],
      "metadata": {
        "colab": {
          "base_uri": "https://localhost:8080/"
        },
        "id": "7I1rGINUdoab",
        "outputId": "380a2331-ca1e-45e2-fbeb-104a7d29dfb4"
      },
      "execution_count": 27,
      "outputs": [
        {
          "output_type": "stream",
          "name": "stdout",
          "text": [
            "Drive already mounted at /content/drive; to attempt to forcibly remount, call drive.mount(\"/content/drive\", force_remount=True).\n",
            "display.max_colwidth : int or None\n",
            "    The maximum width in characters of a column in the repr of\n",
            "    a pandas data structure. When the column overflows, a \"...\"\n",
            "    placeholder is embedded in the output. A 'None' value means unlimited.\n",
            "    [default: 50] [currently: 4000]\n"
          ]
        }
      ]
    },
    {
      "cell_type": "code",
      "metadata": {
        "id": "CXKOw4vA1sab",
        "colab": {
          "base_uri": "https://localhost:8080/"
        },
        "outputId": "0d155b0a-fcbf-4e12-9513-6cf801fda582"
      },
      "source": [
        "d = p.parse()\n",
        "d.keys()\n",
        "df = p.parse(return_type=\"df\")\n",
        "df.keys()"
      ],
      "execution_count": 4,
      "outputs": [
        {
          "output_type": "execute_result",
          "data": {
            "text/plain": [
              "dict_keys(['matchID', 'clientName', 'mapName', 'tickRate', 'playbackTicks', 'rounds', 'kills', 'damages', 'grenades', 'flashes', 'weaponFires', 'bombEvents', 'frames', 'playerFrames'])"
            ]
          },
          "metadata": {},
          "execution_count": 4
        }
      ]
    },
    {
      "cell_type": "markdown",
      "source": [
        "#AB HIER: Versuch \n",
        "1. Spieler lokalisieren (X & Y Koord. Suchen)\n",
        "2. Genauen Bereich lokalisieren (Durch NAV File)"
      ],
      "metadata": {
        "id": "Ugwt1si7jiqh"
      }
    },
    {
      "cell_type": "code",
      "source": [
        "#1. Spieler lokalisieren und erste 20 sek. tracken\n",
        "\n",
        "player= df[\"playerFrames\"]\n",
        "\n",
        "\n",
        "track3 = player#.loc[(player['roundNum'] == 1)]\n",
        "track4 = track3[(track3['seconds'] > 0) & (track3['seconds'] <= 20)]\n",
        "track5 = track4.loc[\n",
        "                    #(player['name'] == \"shox\") & \n",
        "                    (track4[\"seconds\"]<14)&\n",
        "                    (track4[\"seconds\"]>13)] \n",
        "#track5 entspricht dem DF für Spieler shox der Sekunden 0-20 --> alle Bewegungen und Aktionen der ersten 20 Sekunden\n",
        "\n",
        "track4 = track4.loc[track4[\"roundNum\"]==1] \n",
        "track4 = track4.loc[track4[\"side\"]==\"CT\"]"
      ],
      "metadata": {
        "id": "lvgLyiqkjxqQ"
      },
      "execution_count": 33,
      "outputs": []
    },
    {
      "cell_type": "code",
      "source": [
        "#2. Suche Position d. Spielers in NAV Datei\n",
        "\n",
        "#ziehe Daten der Map\n",
        "t = NAV_CSV[NAV_CSV[\"mapName\"] == \"de_dust2\"]\n",
        "\n",
        "#loaklisiere Spieler\n",
        "f = t[(t['northWestX'] > track5.iloc[0][\"x\"]-80) & (t['northWestX'] < track5.iloc[0][\"x\"]+80)]\n",
        "f = f[(f['northWestY'] > track5.iloc[0][\"y\"]-80) & (f['northWestY'] < track5.iloc[0][\"y\"]+80)]\n",
        "\n",
        "#nehme nur eine Position, die die am häufigsten auftritt, da durch Z-Koord. diese häufiger auftreten. Durch höchste Anzahl sollte die richtige koord. gewählt werden\n",
        "loc = f[\"areaName\"].value_counts().idxmax()\n",
        "\n"
      ],
      "metadata": {
        "id": "gC0la2XXlMc4"
      },
      "execution_count": 30,
      "outputs": []
    },
    {
      "cell_type": "code",
      "source": [
        "#track5 = track5.reset_index() \n",
        "\n",
        "#Finde Positionen für alle Spieler in den ersten 20 sekunden zu jeder sekunde\n",
        "\n",
        "#initialisiere leere Liste um später Positionen einzuspeichern\n",
        "area = []\n",
        "#für jede Reihe durchgehen und Position festlegen und in Liste einspeichern --> jede Sekunde für jeden Spieler\n",
        "for index, row in track4.iterrows():\n",
        "  f = t[(t['northWestX'] > row['x']-80) & (t['northWestX'] < row['x']+80)]\n",
        "  f = f[(f['northWestY'] > row['y']-80) & (f['northWestY'] < row['y']+80)]\n",
        "  \n",
        "  if f.empty:\n",
        "    loc = \"MISTAKE\"\n",
        "    area.append(loc)\n",
        "    \n",
        "  else:\n",
        "    loc = f[\"areaName\"].value_counts().idxmax()\n",
        "    area.append(loc)\n",
        "\n",
        "#füge Liste mit Positionen zu DF hinzu\n",
        "track4[\"area\"] = area \n",
        "\n",
        "    "
      ],
      "metadata": {
        "id": "IXTAiy_9wNSW"
      },
      "execution_count": 29,
      "outputs": []
    },
    {
      "cell_type": "code",
      "source": [
        "\n",
        "#track4[\"area\"] = area \n",
        "#track4[\"area\"].value_counts()\n",
        "#check = track4.loc[track4[\"area\"]==\"\"]\n"
      ],
      "metadata": {
        "id": "eWZn6rH95neq"
      },
      "execution_count": 25,
      "outputs": []
    },
    {
      "cell_type": "markdown",
      "source": [
        "#vllt nochmal mit Liste versuchen, sorgt aber für Probleme hier, darum nicht mehr, aber code mal lassen\n",
        "\n",
        "Mid = [\"MidDoors\", \"TopofMid\", \"Middle\", \"CTSpawn\", \"Short\"]\n",
        "Short = [\"ShortStairs\", \"UnderA\", \"ExtendedA\", \"Catwalk\"]\n",
        "BombB = [\"BombsiteB\", \"BDoors\", \"Hole\"]\n",
        "TerroristSpawn = [\"TSpawn\", \"TRamp\"]\n",
        "Tunnel = [\"OutsideTunnel\", \"UpperTunnel\", \"TunnelStairs\", \"LowerTunnel\"]\n",
        "Long = [\"LongA\", \"LongDoors\", \"OutsideLong\", \"Pit\", \"Side\"]\n",
        "BombA = [\"BombsiteA\", \"ARamp\",\"Ramp\"]\n",
        "i=0\n",
        "po = []\n",
        "for index, row in track4.iterrows():\n",
        "  if track4.at[i,'area'] in Mid:\n",
        "    e = \"Mid\"\n",
        "    po.append(e)\n",
        "    print(po)\n",
        "    i = i+1\n",
        "  elif track4.at[i,'area'] in Short:\n",
        "    e = \"Short\"\n",
        "    po.append(po)\n",
        "    i = i+1\n",
        "  elif track4.at[i,'area'] in BombB:\n",
        "    e = \"BombB\"\n",
        "    po.append(e)\n",
        "    i = i+1\n",
        "  elif track4.at[i,'area'] in TerroristSpawn:\n",
        "    e = \"TerroristSpawn\"\n",
        "    po.append(e)\n",
        "    i = i+1\n",
        "  elif track4.at[i,'area'] in Tunnel:\n",
        "    e = \"Tunnel\"\n",
        "    po.append(e)\n",
        "    i = i+1\n",
        "  elif track4.at[i,'area'] in Long:\n",
        "    e = \"Long\"\n",
        "    po.append(e)\n",
        "    i = i+1\n",
        "  elif track4.at[i,'area'] in BombA:\n",
        "    e = \"BombA\"\n",
        "    po.append(e)\n",
        "    i = i+1\n",
        "  else:\n",
        "    e = \"ERROR\"\n",
        "    po.append(e)\n",
        "    i = i+1\n",
        "  \n",
        "track4[\"eeee\"] = po"
      ],
      "metadata": {
        "id": "0keOqutY4Pju"
      }
    },
    {
      "cell_type": "code",
      "source": [
        "#Group into Subgroups\n",
        "\n",
        "track4.loc[track4['area'] == \"CTSpawn\",'subgroup'] = \"Mid\"\n",
        "track4.loc[track4['area'] == \"MidDoors\",'subgroup'] = \"Mid\"\n",
        "track4.loc[track4['area'] == \"TopofMid\",'subgroup'] = \"Mid\"\n",
        "track4.loc[track4['area'] == \"Middle\",'subgroup'] = \"Mid\"\n",
        "track4.loc[track4['area'] == \"Short\",'subgroup'] = \"Mid\"\n",
        "\n",
        "track4.loc[track4['area'] == \"ShortStairs\",'subgroup'] = \"Short\"\n",
        "track4.loc[track4['area'] == \"UnderA\",'subgroup'] = \"Short\"\n",
        "track4.loc[track4['area'] == \"ExtendedA\",'subgroup'] = \"Short\"\n",
        "track4.loc[track4['area'] == \"Catwalk\",'subgroup'] = \"Short\"\n",
        "\n",
        "track4.loc[track4['area'] == \"BombsiteB\",'subgroup'] = \"BombB\"\n",
        "track4.loc[track4['area'] == \"BDoors\",'subgroup'] = \"BombB\"\n",
        "track4.loc[track4['area'] == \"Hole\",'subgroup'] = \"BombB\"\n",
        "\n",
        "track4.loc[track4['area'] == \"TSpawn\",'subgroup'] = \"TerroristSpawn\"\n",
        "track4.loc[track4['area'] == \"TRamp\",'subgroup'] = \"TerroristSpawn\"\n",
        "\n",
        "track4.loc[track4['area'] == \"OutsideTunnel\",'subgroup'] = \"Tunnel\"\n",
        "track4.loc[track4['area'] == \"UpperTunnel\",'subgroup'] = \"Tunnel\"\n",
        "track4.loc[track4['area'] == \"TunnelStairs\",'subgroup'] = \"Tunnel\"\n",
        "track4.loc[track4['area'] == \"LowerTunnel\",'subgroup'] = \"Tunnel\"\n",
        "\n",
        "track4.loc[track4['area'] == \"LongA\",'subgroup'] = \"Long\"\n",
        "track4.loc[track4['area'] == \"LongDoors\",'subgroup'] = \"Long\"\n",
        "track4.loc[track4['area'] == \"OutsideLong\",'subgroup'] = \"Long\"\n",
        "track4.loc[track4['area'] == \"Pit\",'subgroup'] = \"Long\"\n",
        "track4.loc[track4['area'] == \"Side\",'subgroup'] = \"Long\"\n",
        "\n",
        "track4.loc[track4['area'] == \"BombsiteA\",'subgroup'] = \"BombA\"\n",
        "track4.loc[track4['area'] == \"ARamp\",'subgroup'] = \"BombA\"\n",
        "track4.loc[track4['area'] == \"Ramp\",'subgroup'] = \"BombA\"\n",
        "\n",
        "#df.loc[df['days'] <=20,'subgroup'] = 3\n",
        "#df.loc[df['days'] <=10,'subgroup'] = 2\n",
        "#df.loc[df['days'] ==0,'subgroup'] = 1\n",
        "#df = df.reset_index()\n",
        "#df['dynamic_subgroup'] = df.groupby(['group'])['subgroup'].rank(method='dense')\n",
        "track4"
      ],
      "metadata": {
        "id": "2VBscv2nd6G6",
        "outputId": "8aeaa23e-22a2-4e30-fc27-3286390c2227",
        "colab": {
          "base_uri": "https://localhost:8080/",
          "height": 494
        }
      },
      "execution_count": 34,
      "outputs": [
        {
          "output_type": "error",
          "ename": "KeyError",
          "evalue": "ignored",
          "traceback": [
            "\u001b[0;31m---------------------------------------------------------------------------\u001b[0m",
            "\u001b[0;31mKeyError\u001b[0m                                  Traceback (most recent call last)",
            "\u001b[0;32m/usr/local/lib/python3.7/dist-packages/pandas/core/indexes/base.py\u001b[0m in \u001b[0;36mget_loc\u001b[0;34m(self, key, method, tolerance)\u001b[0m\n\u001b[1;32m   3360\u001b[0m             \u001b[0;32mtry\u001b[0m\u001b[0;34m:\u001b[0m\u001b[0;34m\u001b[0m\u001b[0;34m\u001b[0m\u001b[0m\n\u001b[0;32m-> 3361\u001b[0;31m                 \u001b[0;32mreturn\u001b[0m \u001b[0mself\u001b[0m\u001b[0;34m.\u001b[0m\u001b[0m_engine\u001b[0m\u001b[0;34m.\u001b[0m\u001b[0mget_loc\u001b[0m\u001b[0;34m(\u001b[0m\u001b[0mcasted_key\u001b[0m\u001b[0;34m)\u001b[0m\u001b[0;34m\u001b[0m\u001b[0;34m\u001b[0m\u001b[0m\n\u001b[0m\u001b[1;32m   3362\u001b[0m             \u001b[0;32mexcept\u001b[0m \u001b[0mKeyError\u001b[0m \u001b[0;32mas\u001b[0m \u001b[0merr\u001b[0m\u001b[0;34m:\u001b[0m\u001b[0;34m\u001b[0m\u001b[0;34m\u001b[0m\u001b[0m\n",
            "\u001b[0;32m/usr/local/lib/python3.7/dist-packages/pandas/_libs/index.pyx\u001b[0m in \u001b[0;36mpandas._libs.index.IndexEngine.get_loc\u001b[0;34m()\u001b[0m\n",
            "\u001b[0;32m/usr/local/lib/python3.7/dist-packages/pandas/_libs/index.pyx\u001b[0m in \u001b[0;36mpandas._libs.index.IndexEngine.get_loc\u001b[0;34m()\u001b[0m\n",
            "\u001b[0;32mpandas/_libs/hashtable_class_helper.pxi\u001b[0m in \u001b[0;36mpandas._libs.hashtable.PyObjectHashTable.get_item\u001b[0;34m()\u001b[0m\n",
            "\u001b[0;32mpandas/_libs/hashtable_class_helper.pxi\u001b[0m in \u001b[0;36mpandas._libs.hashtable.PyObjectHashTable.get_item\u001b[0;34m()\u001b[0m\n",
            "\u001b[0;31mKeyError\u001b[0m: 'area'",
            "\nThe above exception was the direct cause of the following exception:\n",
            "\u001b[0;31mKeyError\u001b[0m                                  Traceback (most recent call last)",
            "\u001b[0;32m<ipython-input-34-65c0e6a91d2e>\u001b[0m in \u001b[0;36m<module>\u001b[0;34m()\u001b[0m\n\u001b[1;32m      1\u001b[0m \u001b[0;31m#Group into Subgroups\u001b[0m\u001b[0;34m\u001b[0m\u001b[0;34m\u001b[0m\u001b[0;34m\u001b[0m\u001b[0m\n\u001b[1;32m      2\u001b[0m \u001b[0;34m\u001b[0m\u001b[0m\n\u001b[0;32m----> 3\u001b[0;31m \u001b[0mtrack4\u001b[0m\u001b[0;34m.\u001b[0m\u001b[0mloc\u001b[0m\u001b[0;34m[\u001b[0m\u001b[0mtrack4\u001b[0m\u001b[0;34m[\u001b[0m\u001b[0;34m'area'\u001b[0m\u001b[0;34m]\u001b[0m \u001b[0;34m==\u001b[0m \u001b[0;34m\"CTSpawn\"\u001b[0m\u001b[0;34m,\u001b[0m\u001b[0;34m'subgroup'\u001b[0m\u001b[0;34m]\u001b[0m \u001b[0;34m=\u001b[0m \u001b[0;34m\"Mid\"\u001b[0m\u001b[0;34m\u001b[0m\u001b[0;34m\u001b[0m\u001b[0m\n\u001b[0m\u001b[1;32m      4\u001b[0m \u001b[0mtrack4\u001b[0m\u001b[0;34m.\u001b[0m\u001b[0mloc\u001b[0m\u001b[0;34m[\u001b[0m\u001b[0mtrack4\u001b[0m\u001b[0;34m[\u001b[0m\u001b[0;34m'area'\u001b[0m\u001b[0;34m]\u001b[0m \u001b[0;34m==\u001b[0m \u001b[0;34m\"MidDoors\"\u001b[0m\u001b[0;34m,\u001b[0m\u001b[0;34m'subgroup'\u001b[0m\u001b[0;34m]\u001b[0m \u001b[0;34m=\u001b[0m \u001b[0;34m\"Mid\"\u001b[0m\u001b[0;34m\u001b[0m\u001b[0;34m\u001b[0m\u001b[0m\n\u001b[1;32m      5\u001b[0m \u001b[0mtrack4\u001b[0m\u001b[0;34m.\u001b[0m\u001b[0mloc\u001b[0m\u001b[0;34m[\u001b[0m\u001b[0mtrack4\u001b[0m\u001b[0;34m[\u001b[0m\u001b[0;34m'area'\u001b[0m\u001b[0;34m]\u001b[0m \u001b[0;34m==\u001b[0m \u001b[0;34m\"TopofMid\"\u001b[0m\u001b[0;34m,\u001b[0m\u001b[0;34m'subgroup'\u001b[0m\u001b[0;34m]\u001b[0m \u001b[0;34m=\u001b[0m \u001b[0;34m\"Mid\"\u001b[0m\u001b[0;34m\u001b[0m\u001b[0;34m\u001b[0m\u001b[0m\n",
            "\u001b[0;32m/usr/local/lib/python3.7/dist-packages/pandas/core/frame.py\u001b[0m in \u001b[0;36m__getitem__\u001b[0;34m(self, key)\u001b[0m\n\u001b[1;32m   3456\u001b[0m             \u001b[0;32mif\u001b[0m \u001b[0mself\u001b[0m\u001b[0;34m.\u001b[0m\u001b[0mcolumns\u001b[0m\u001b[0;34m.\u001b[0m\u001b[0mnlevels\u001b[0m \u001b[0;34m>\u001b[0m \u001b[0;36m1\u001b[0m\u001b[0;34m:\u001b[0m\u001b[0;34m\u001b[0m\u001b[0;34m\u001b[0m\u001b[0m\n\u001b[1;32m   3457\u001b[0m                 \u001b[0;32mreturn\u001b[0m \u001b[0mself\u001b[0m\u001b[0;34m.\u001b[0m\u001b[0m_getitem_multilevel\u001b[0m\u001b[0;34m(\u001b[0m\u001b[0mkey\u001b[0m\u001b[0;34m)\u001b[0m\u001b[0;34m\u001b[0m\u001b[0;34m\u001b[0m\u001b[0m\n\u001b[0;32m-> 3458\u001b[0;31m             \u001b[0mindexer\u001b[0m \u001b[0;34m=\u001b[0m \u001b[0mself\u001b[0m\u001b[0;34m.\u001b[0m\u001b[0mcolumns\u001b[0m\u001b[0;34m.\u001b[0m\u001b[0mget_loc\u001b[0m\u001b[0;34m(\u001b[0m\u001b[0mkey\u001b[0m\u001b[0;34m)\u001b[0m\u001b[0;34m\u001b[0m\u001b[0;34m\u001b[0m\u001b[0m\n\u001b[0m\u001b[1;32m   3459\u001b[0m             \u001b[0;32mif\u001b[0m \u001b[0mis_integer\u001b[0m\u001b[0;34m(\u001b[0m\u001b[0mindexer\u001b[0m\u001b[0;34m)\u001b[0m\u001b[0;34m:\u001b[0m\u001b[0;34m\u001b[0m\u001b[0;34m\u001b[0m\u001b[0m\n\u001b[1;32m   3460\u001b[0m                 \u001b[0mindexer\u001b[0m \u001b[0;34m=\u001b[0m \u001b[0;34m[\u001b[0m\u001b[0mindexer\u001b[0m\u001b[0;34m]\u001b[0m\u001b[0;34m\u001b[0m\u001b[0;34m\u001b[0m\u001b[0m\n",
            "\u001b[0;32m/usr/local/lib/python3.7/dist-packages/pandas/core/indexes/base.py\u001b[0m in \u001b[0;36mget_loc\u001b[0;34m(self, key, method, tolerance)\u001b[0m\n\u001b[1;32m   3361\u001b[0m                 \u001b[0;32mreturn\u001b[0m \u001b[0mself\u001b[0m\u001b[0;34m.\u001b[0m\u001b[0m_engine\u001b[0m\u001b[0;34m.\u001b[0m\u001b[0mget_loc\u001b[0m\u001b[0;34m(\u001b[0m\u001b[0mcasted_key\u001b[0m\u001b[0;34m)\u001b[0m\u001b[0;34m\u001b[0m\u001b[0;34m\u001b[0m\u001b[0m\n\u001b[1;32m   3362\u001b[0m             \u001b[0;32mexcept\u001b[0m \u001b[0mKeyError\u001b[0m \u001b[0;32mas\u001b[0m \u001b[0merr\u001b[0m\u001b[0;34m:\u001b[0m\u001b[0;34m\u001b[0m\u001b[0;34m\u001b[0m\u001b[0m\n\u001b[0;32m-> 3363\u001b[0;31m                 \u001b[0;32mraise\u001b[0m \u001b[0mKeyError\u001b[0m\u001b[0;34m(\u001b[0m\u001b[0mkey\u001b[0m\u001b[0;34m)\u001b[0m \u001b[0;32mfrom\u001b[0m \u001b[0merr\u001b[0m\u001b[0;34m\u001b[0m\u001b[0;34m\u001b[0m\u001b[0m\n\u001b[0m\u001b[1;32m   3364\u001b[0m \u001b[0;34m\u001b[0m\u001b[0m\n\u001b[1;32m   3365\u001b[0m         \u001b[0;32mif\u001b[0m \u001b[0mis_scalar\u001b[0m\u001b[0;34m(\u001b[0m\u001b[0mkey\u001b[0m\u001b[0;34m)\u001b[0m \u001b[0;32mand\u001b[0m \u001b[0misna\u001b[0m\u001b[0;34m(\u001b[0m\u001b[0mkey\u001b[0m\u001b[0;34m)\u001b[0m \u001b[0;32mand\u001b[0m \u001b[0;32mnot\u001b[0m \u001b[0mself\u001b[0m\u001b[0;34m.\u001b[0m\u001b[0mhasnans\u001b[0m\u001b[0;34m:\u001b[0m\u001b[0;34m\u001b[0m\u001b[0;34m\u001b[0m\u001b[0m\n",
            "\u001b[0;31mKeyError\u001b[0m: 'area'"
          ]
        }
      ]
    },
    {
      "cell_type": "code",
      "source": [
        "#zähle wie viele Spiele sich in welcher Region aufhalten\n",
        "\n",
        "df1 = track4.groupby(['subgroup', 'side', 'roundNum'])['subgroup'].count().unstack(fill_value=0)\n",
        "print(df1)\n",
        "\n",
        "\n",
        "track4 = track4.join(df1, on='subgroup')\n",
        "print(track4)\n",
        "\n"
      ],
      "metadata": {
        "id": "B1brD2KZo8oj",
        "outputId": "eeebde34-ee27-4425-c2c7-07a51bd4d235",
        "colab": {
          "base_uri": "https://localhost:8080/",
          "height": 970
        }
      },
      "execution_count": 21,
      "outputs": [
        {
          "output_type": "stream",
          "name": "stdout",
          "text": [
            "roundNum             1   2   3   4   5   6   7   8   9   10  ...  18  19  20  \\\n",
            "subgroup       side                                          ...               \n",
            "BombA          CT     0   4   3  11  17   0   5   3   1  16  ...   2   5   2   \n",
            "               T      0   0   9   0   0   0  10   0   0  20  ...   0   0   0   \n",
            "BombB          CT    14  22  15   0  13  56  15  24  61  40  ...   9  14  51   \n",
            "               T      0   0  39   0   0  44   0   0  20   0  ...   0   0  34   \n",
            "Long           CT     0  36  43  23  10  24  38  34  26  71  ...  15   9  43   \n",
            "               T     19  45  39  10  53  24  35  10  10  50  ...  26  47  45   \n",
            "Mid            CT    55  15  79  11  22  51  61  17  55  46  ...  24  25  46   \n",
            "               T     13  20  43   4   0  44  40  32  53  33  ...   0   3  23   \n",
            "Short          CT    17  10   9  32  27  35  47  12   7  10  ...  43  27  10   \n",
            "               T      0   0   2   0   0   0  34   0   0  20  ...   0   0   0   \n",
            "TerroristSpawn CT     0   0   6   0   0   7   7   0   0   0  ...   0   0   0   \n",
            "               T     12  12  18  30  16  23  32  12   7  17  ...  29  18  19   \n",
            "Tunnel         CT     0   0   7  10   0   5  11   0  30   0  ...   0   0  34   \n",
            "               T     41  16  37  34  11  30  31  23  43  43  ...  28  11  43   \n",
            "\n",
            "roundNum             21  22  23  24  25  26  27  \n",
            "subgroup       side                              \n",
            "BombA          CT     5   4   0   4   5   5   0  \n",
            "               T      0   0   0   0   0   0   0  \n",
            "BombB          CT    57  16   5  22  18  17  23  \n",
            "               T     25   0   0   3   0   0   0  \n",
            "Long           CT    35   3  14  29  30  26  26  \n",
            "               T     10  36  10   4  29  24  16  \n",
            "Mid            CT    47  31  37  20  25  19  26  \n",
            "               T     36   4  52   4  11  33   0  \n",
            "Short          CT    23  33  25  10  13  20   7  \n",
            "               T      7   0   2   0   0  15   0  \n",
            "TerroristSpawn CT     0   0   0   0   0   0   0  \n",
            "               T     29  25  24  20  25   9  22  \n",
            "Tunnel         CT     0   1   0   0   0   0   0  \n",
            "               T     42  28   0  57  13   0  45  \n",
            "\n",
            "[14 rows x 27 columns]\n"
          ]
        },
        {
          "output_type": "error",
          "ename": "ValueError",
          "evalue": "ignored",
          "traceback": [
            "\u001b[0;31m---------------------------------------------------------------------------\u001b[0m",
            "\u001b[0;31mValueError\u001b[0m                                Traceback (most recent call last)",
            "\u001b[0;32m<ipython-input-21-fc67b260ce97>\u001b[0m in \u001b[0;36m<module>\u001b[0;34m()\u001b[0m\n\u001b[1;32m      5\u001b[0m \u001b[0;34m\u001b[0m\u001b[0m\n\u001b[1;32m      6\u001b[0m \u001b[0;34m\u001b[0m\u001b[0m\n\u001b[0;32m----> 7\u001b[0;31m \u001b[0mtrack4\u001b[0m \u001b[0;34m=\u001b[0m \u001b[0mtrack4\u001b[0m\u001b[0;34m.\u001b[0m\u001b[0mjoin\u001b[0m\u001b[0;34m(\u001b[0m\u001b[0mdf1\u001b[0m\u001b[0;34m,\u001b[0m \u001b[0mon\u001b[0m\u001b[0;34m=\u001b[0m\u001b[0;34m'subgroup'\u001b[0m\u001b[0;34m)\u001b[0m\u001b[0;34m\u001b[0m\u001b[0;34m\u001b[0m\u001b[0m\n\u001b[0m\u001b[1;32m      8\u001b[0m \u001b[0mprint\u001b[0m\u001b[0;34m(\u001b[0m\u001b[0mtrack4\u001b[0m\u001b[0;34m)\u001b[0m\u001b[0;34m\u001b[0m\u001b[0;34m\u001b[0m\u001b[0m\n\u001b[1;32m      9\u001b[0m \u001b[0;34m\u001b[0m\u001b[0m\n",
            "\u001b[0;32m/usr/local/lib/python3.7/dist-packages/pandas/core/frame.py\u001b[0m in \u001b[0;36mjoin\u001b[0;34m(self, other, on, how, lsuffix, rsuffix, sort)\u001b[0m\n\u001b[1;32m   9098\u001b[0m         \"\"\"\n\u001b[1;32m   9099\u001b[0m         return self._join_compat(\n\u001b[0;32m-> 9100\u001b[0;31m             \u001b[0mother\u001b[0m\u001b[0;34m,\u001b[0m \u001b[0mon\u001b[0m\u001b[0;34m=\u001b[0m\u001b[0mon\u001b[0m\u001b[0;34m,\u001b[0m \u001b[0mhow\u001b[0m\u001b[0;34m=\u001b[0m\u001b[0mhow\u001b[0m\u001b[0;34m,\u001b[0m \u001b[0mlsuffix\u001b[0m\u001b[0;34m=\u001b[0m\u001b[0mlsuffix\u001b[0m\u001b[0;34m,\u001b[0m \u001b[0mrsuffix\u001b[0m\u001b[0;34m=\u001b[0m\u001b[0mrsuffix\u001b[0m\u001b[0;34m,\u001b[0m \u001b[0msort\u001b[0m\u001b[0;34m=\u001b[0m\u001b[0msort\u001b[0m\u001b[0;34m\u001b[0m\u001b[0;34m\u001b[0m\u001b[0m\n\u001b[0m\u001b[1;32m   9101\u001b[0m         )\n\u001b[1;32m   9102\u001b[0m \u001b[0;34m\u001b[0m\u001b[0m\n",
            "\u001b[0;32m/usr/local/lib/python3.7/dist-packages/pandas/core/frame.py\u001b[0m in \u001b[0;36m_join_compat\u001b[0;34m(self, other, on, how, lsuffix, rsuffix, sort)\u001b[0m\n\u001b[1;32m   9136\u001b[0m                 \u001b[0mright_index\u001b[0m\u001b[0;34m=\u001b[0m\u001b[0;32mTrue\u001b[0m\u001b[0;34m,\u001b[0m\u001b[0;34m\u001b[0m\u001b[0;34m\u001b[0m\u001b[0m\n\u001b[1;32m   9137\u001b[0m                 \u001b[0msuffixes\u001b[0m\u001b[0;34m=\u001b[0m\u001b[0;34m(\u001b[0m\u001b[0mlsuffix\u001b[0m\u001b[0;34m,\u001b[0m \u001b[0mrsuffix\u001b[0m\u001b[0;34m)\u001b[0m\u001b[0;34m,\u001b[0m\u001b[0;34m\u001b[0m\u001b[0;34m\u001b[0m\u001b[0m\n\u001b[0;32m-> 9138\u001b[0;31m                 \u001b[0msort\u001b[0m\u001b[0;34m=\u001b[0m\u001b[0msort\u001b[0m\u001b[0;34m,\u001b[0m\u001b[0;34m\u001b[0m\u001b[0;34m\u001b[0m\u001b[0m\n\u001b[0m\u001b[1;32m   9139\u001b[0m             )\n\u001b[1;32m   9140\u001b[0m         \u001b[0;32melse\u001b[0m\u001b[0;34m:\u001b[0m\u001b[0;34m\u001b[0m\u001b[0;34m\u001b[0m\u001b[0m\n",
            "\u001b[0;32m/usr/local/lib/python3.7/dist-packages/pandas/core/reshape/merge.py\u001b[0m in \u001b[0;36mmerge\u001b[0;34m(left, right, how, on, left_on, right_on, left_index, right_index, sort, suffixes, copy, indicator, validate)\u001b[0m\n\u001b[1;32m    117\u001b[0m         \u001b[0mcopy\u001b[0m\u001b[0;34m=\u001b[0m\u001b[0mcopy\u001b[0m\u001b[0;34m,\u001b[0m\u001b[0;34m\u001b[0m\u001b[0;34m\u001b[0m\u001b[0m\n\u001b[1;32m    118\u001b[0m         \u001b[0mindicator\u001b[0m\u001b[0;34m=\u001b[0m\u001b[0mindicator\u001b[0m\u001b[0;34m,\u001b[0m\u001b[0;34m\u001b[0m\u001b[0;34m\u001b[0m\u001b[0m\n\u001b[0;32m--> 119\u001b[0;31m         \u001b[0mvalidate\u001b[0m\u001b[0;34m=\u001b[0m\u001b[0mvalidate\u001b[0m\u001b[0;34m,\u001b[0m\u001b[0;34m\u001b[0m\u001b[0;34m\u001b[0m\u001b[0m\n\u001b[0m\u001b[1;32m    120\u001b[0m     )\n\u001b[1;32m    121\u001b[0m     \u001b[0;32mreturn\u001b[0m \u001b[0mop\u001b[0m\u001b[0;34m.\u001b[0m\u001b[0mget_result\u001b[0m\u001b[0;34m(\u001b[0m\u001b[0;34m)\u001b[0m\u001b[0;34m\u001b[0m\u001b[0;34m\u001b[0m\u001b[0m\n",
            "\u001b[0;32m/usr/local/lib/python3.7/dist-packages/pandas/core/reshape/merge.py\u001b[0m in \u001b[0;36m__init__\u001b[0;34m(self, left, right, how, on, left_on, right_on, axis, left_index, right_index, sort, suffixes, copy, indicator, validate)\u001b[0m\n\u001b[1;32m    679\u001b[0m             \u001b[0mwarnings\u001b[0m\u001b[0;34m.\u001b[0m\u001b[0mwarn\u001b[0m\u001b[0;34m(\u001b[0m\u001b[0mmsg\u001b[0m\u001b[0;34m,\u001b[0m \u001b[0mFutureWarning\u001b[0m\u001b[0;34m,\u001b[0m \u001b[0mstacklevel\u001b[0m\u001b[0;34m=\u001b[0m\u001b[0;36m3\u001b[0m\u001b[0;34m)\u001b[0m\u001b[0;34m\u001b[0m\u001b[0;34m\u001b[0m\u001b[0m\n\u001b[1;32m    680\u001b[0m \u001b[0;34m\u001b[0m\u001b[0m\n\u001b[0;32m--> 681\u001b[0;31m         \u001b[0mself\u001b[0m\u001b[0;34m.\u001b[0m\u001b[0m_validate_specification\u001b[0m\u001b[0;34m(\u001b[0m\u001b[0;34m)\u001b[0m\u001b[0;34m\u001b[0m\u001b[0;34m\u001b[0m\u001b[0m\n\u001b[0m\u001b[1;32m    682\u001b[0m \u001b[0;34m\u001b[0m\u001b[0m\n\u001b[1;32m    683\u001b[0m         \u001b[0mcross_col\u001b[0m \u001b[0;34m=\u001b[0m \u001b[0;32mNone\u001b[0m\u001b[0;34m\u001b[0m\u001b[0;34m\u001b[0m\u001b[0m\n",
            "\u001b[0;32m/usr/local/lib/python3.7/dist-packages/pandas/core/reshape/merge.py\u001b[0m in \u001b[0;36m_validate_specification\u001b[0;34m(self)\u001b[0m\n\u001b[1;32m   1380\u001b[0m                 \u001b[0;32mif\u001b[0m \u001b[0mlen\u001b[0m\u001b[0;34m(\u001b[0m\u001b[0mself\u001b[0m\u001b[0;34m.\u001b[0m\u001b[0mleft_on\u001b[0m\u001b[0;34m)\u001b[0m \u001b[0;34m!=\u001b[0m \u001b[0mself\u001b[0m\u001b[0;34m.\u001b[0m\u001b[0mright\u001b[0m\u001b[0;34m.\u001b[0m\u001b[0mindex\u001b[0m\u001b[0;34m.\u001b[0m\u001b[0mnlevels\u001b[0m\u001b[0;34m:\u001b[0m\u001b[0;34m\u001b[0m\u001b[0;34m\u001b[0m\u001b[0m\n\u001b[1;32m   1381\u001b[0m                     raise ValueError(\n\u001b[0;32m-> 1382\u001b[0;31m                         \u001b[0;34m\"len(left_on) must equal the number \"\u001b[0m\u001b[0;34m\u001b[0m\u001b[0;34m\u001b[0m\u001b[0m\n\u001b[0m\u001b[1;32m   1383\u001b[0m                         \u001b[0;34m'of levels in the index of \"right\"'\u001b[0m\u001b[0;34m\u001b[0m\u001b[0;34m\u001b[0m\u001b[0m\n\u001b[1;32m   1384\u001b[0m                     )\n",
            "\u001b[0;31mValueError\u001b[0m: len(left_on) must equal the number of levels in the index of \"right\""
          ]
        }
      ]
    },
    {
      "cell_type": "markdown",
      "source": [
        "#Hier: Diverser Müll"
      ],
      "metadata": {
        "id": "ZdGOZ5T9jy5b"
      }
    },
    {
      "cell_type": "code",
      "source": [
        "df[\"frames\"]\n",
        "f = df[\"frames\"]\n",
        "\n",
        "f.to_csv('f.csv') \n",
        "#files.download('f.csv')"
      ],
      "metadata": {
        "id": "UXjku9qXXn5_"
      },
      "execution_count": null,
      "outputs": []
    },
    {
      "cell_type": "code",
      "source": [
        "from awpy.data import NAV_CSV\n",
        "\n",
        "t = NAV_CSV[NAV_CSV[\"mapName\"] == \"de_dust2\"]\n",
        "\n",
        "t['areaName'].value_counts()"
      ],
      "metadata": {
        "id": "V3wGonjcH7Zb"
      },
      "execution_count": null,
      "outputs": []
    },
    {
      "cell_type": "code",
      "source": [
        "#f = t.loc[t[\"areaName\"]==\"BombsiteB\"]\n",
        "#f = f.sort_values(\"northWestX\")\n",
        "#f = f.loc[f[\"northWestY\"]>=2800]\n",
        "#f\n",
        "\n",
        "#Suchfeld einschränken --> Position lokalisieren\n",
        "f = t[(t['northWestX'] > 260) & (t['northWestX'] < 320)]\n",
        "f = f[(f['northWestY'] > 2000) & (f['northWestY'] < 2300)]\n",
        "f"
      ],
      "metadata": {
        "id": "2MwVEwClUxHj"
      },
      "execution_count": null,
      "outputs": []
    },
    {
      "cell_type": "code",
      "source": [
        "#Suche spezielle Werte\n",
        "\n",
        "z = t.loc[t[\"areaId\"]==1213]\n",
        "X = z.iloc[0][\"northWestX\"]\n",
        "Y = z.iloc[0][\"northWestY\"]\n",
        "\n",
        "z"
      ],
      "metadata": {
        "id": "SmUxPjspXY8o"
      },
      "execution_count": null,
      "outputs": []
    },
    {
      "cell_type": "code",
      "source": [
        "import matplotlib.pyplot as plt\n",
        "plt.axes()\n",
        "\n",
        "z = t.loc[t[\"areaId\"]==1213]\n",
        "\n",
        "z\n",
        "\n",
        "rectangle = plt.Rectangle(((z.iloc[0][\"southEastX\"],z.iloc[0][\"southEastY\"])), -z.iloc[0][\"southEastX\"]+z.iloc[0][\"northWestX\"], z.iloc[0][\"northWestY\"]-z.iloc[0][\"southEastY\"], fc='blue',ec=\"red\")\n",
        "plt.gca().add_patch(rectangle)\n",
        "plt.axis('scaled')\n",
        "plt.show()"
      ],
      "metadata": {
        "id": "ElMLrYXBTl6d"
      },
      "execution_count": null,
      "outputs": []
    },
    {
      "cell_type": "markdown",
      "source": [
        ""
      ],
      "metadata": {
        "id": "aAaHyWmDdRvZ"
      }
    },
    {
      "cell_type": "code",
      "source": [
        "z = t.loc[t[\"areaId\"]==8773]\n",
        "\n",
        "z\n",
        "\n",
        "rectangle = plt.Rectangle(((z.iloc[0][\"southEastX\"],z.iloc[0][\"southEastY\"])), -z.iloc[0][\"southEastX\"]+z.iloc[0][\"northWestX\"], z.iloc[0][\"northWestY\"]-z.iloc[0][\"southEastY\"], fc='blue',ec=\"red\")\n",
        "plt.gca().add_patch(rectangle)\n",
        "plt.axis('scaled')\n",
        "plt.show()"
      ],
      "metadata": {
        "id": "0AEJq-lba_YJ"
      },
      "execution_count": null,
      "outputs": []
    },
    {
      "cell_type": "code",
      "source": [
        "player= df[\"playerFrames\"]\n",
        "\n",
        "\n",
        "track3 = player.loc[player['roundNum'] == 1]\n",
        "track4 = track3[(track3['seconds'] > 0) & (track3['seconds'] <= 20)]\n",
        "track5 = track4.loc[player['name'] == \"NAF-FLY\"]\n",
        "\n",
        "track4.to_csv('track4.csv') \n",
        "files.download('track4.csv')\n"
      ],
      "metadata": {
        "id": "5sWIBQEGx75t"
      },
      "execution_count": null,
      "outputs": []
    },
    {
      "cell_type": "code",
      "source": [
        "track5"
      ],
      "metadata": {
        "id": "whqjInPyb1Gt"
      },
      "execution_count": null,
      "outputs": []
    },
    {
      "cell_type": "code",
      "source": [
        "roundCTTiles = list(df['playerFrames'][(df['playerFrames']['roundNum'] == 1) \n",
        "                    & (df['playerFrames']['side'] == 'CT') \n",
        "                    #& (df['playerFrames']['tick'] <= tmpRoundEndTick) \n",
        "                    #& (df['playerFrames']['isAlive'])].groupby(by = 'tick')['areaID']\n",
        "                    .apply(list))\n"
      ],
      "metadata": {
        "id": "9poDgYI5eO8h"
      },
      "execution_count": null,
      "outputs": []
    },
    {
      "cell_type": "code",
      "source": [
        "track6 = track5[[\"x\",\"y\"]]\n",
        "\n",
        "track6=track6.values.tolist()\n",
        "\n",
        "print(track6)"
      ],
      "metadata": {
        "id": "7-ZH-sk7XQGm"
      },
      "execution_count": null,
      "outputs": []
    },
    {
      "cell_type": "code",
      "source": [
        "track3.seconds = track3.seconds.round(3)\n",
        "track3.x = track3.x.round(3)\n",
        "#track3\n",
        "#track3.to_csv('track3.csv') \n",
        "#files.download('track3.csv')"
      ],
      "metadata": {
        "id": "wIW1BiklpRnJ"
      },
      "execution_count": null,
      "outputs": []
    },
    {
      "cell_type": "code",
      "source": [
        "#test2 = df[\"rounds\"]\n",
        "\n",
        "\n",
        "\n",
        "#test2.to_csv('test2.csv') \n",
        "#files.download('test2.csv')"
      ],
      "metadata": {
        "id": "ZhEixqKvvOpq"
      },
      "execution_count": null,
      "outputs": []
    },
    {
      "cell_type": "code",
      "source": [
        "#kills2= df[\"kills\"]\n",
        "\n",
        "#kills_1 = kills2.loc[kills2['roundNum'] == 1]\n",
        "#kills2.to_csv('kills2.csv') \n",
        "#files.download('kills2.csv')"
      ],
      "metadata": {
        "id": "6HL895FC3pK0"
      },
      "execution_count": null,
      "outputs": []
    },
    {
      "cell_type": "code",
      "source": [
        "df_test=pd.read_csv('/content/drive/MyDrive/Demofiles/track2.csv')\n"
      ],
      "metadata": {
        "id": "TksI4IubeFl7"
      },
      "execution_count": null,
      "outputs": []
    },
    {
      "cell_type": "code",
      "source": [
        "#df_test.x = df_test.x.round(3)\n",
        "#df_test"
      ],
      "metadata": {
        "id": "Xkj4f93BvG_5"
      },
      "execution_count": null,
      "outputs": []
    },
    {
      "cell_type": "code",
      "source": [
        "import matplotlib.pyplot as plt\n",
        "from awpy.visualization.plot import plot_map\n",
        "\n",
        "\n",
        "f, a = plot_map(map_name=\"de_dust2\", map_type=\"original\")\n",
        "plt.show()"
      ],
      "metadata": {
        "id": "rWP6Ex8-vwDh"
      },
      "execution_count": null,
      "outputs": []
    },
    {
      "cell_type": "code",
      "source": [
        "f, a = plot_map(map_name=\"de_dust2\", map_type=\"simpleradar\", dark=True)\n",
        "plt.show()"
      ],
      "metadata": {
        "id": "lV902v-PzQ1-"
      },
      "execution_count": null,
      "outputs": []
    },
    {
      "cell_type": "code",
      "source": [
        "from awpy.visualization.plot import plot_nades\n",
        "\n",
        "plot_nades(rounds=d[\"gameRounds\"][1:25], nades=[\"Flashbang\", \"HE Grenade\", \"Smoke Grenade\", \"Molotov\", \"Incendiary Grenade\"], side=\"CT\", map_name=\"de_dust2\", map_type=\"simpleradar\", dark=False)\n"
      ],
      "metadata": {
        "id": "NFZ6VZqkzBj9"
      },
      "execution_count": null,
      "outputs": []
    },
    {
      "cell_type": "code",
      "source": [
        "d.keys()"
      ],
      "metadata": {
        "id": "B8xepFPeOw8-"
      },
      "execution_count": null,
      "outputs": []
    },
    {
      "cell_type": "code",
      "source": [
        "print(type(d[\"gameRounds\"]))\n",
        "dftest = pd.DataFrame(data={\"col1\": d[\"gameRounds\"]})\n",
        "#dftest.to_csv(\"dftest.csv\")\n",
        "#files.download('dftest.csv')"
      ],
      "metadata": {
        "id": "Gtdcg0TFO0Zr"
      },
      "execution_count": null,
      "outputs": []
    },
    {
      "cell_type": "code",
      "source": [
        "dftest2 = pd.DataFrame(data={\"col1\": d[\"gameRounds\"][0]})\n",
        "dftest2.to_csv(\"dftest2.csv\")\n",
        "files.download('dftest2.csv')"
      ],
      "metadata": {
        "id": "dJIYMQbFR9Bl"
      },
      "execution_count": null,
      "outputs": []
    },
    {
      "cell_type": "code",
      "source": [
        "from awpy.visualization.plot import plot_positions\n",
        "\n",
        "plot_positions(positions=track6, colors=[\"red\"], markers=[\"s\"], map_name='de_dust2', map_type='original', dark=False, apply_transformation=False)"
      ],
      "metadata": {
        "id": "lHKSCwN3zqHv"
      },
      "execution_count": null,
      "outputs": []
    },
    {
      "cell_type": "markdown",
      "source": [
        "HIER TEST VISUALISIERUNG"
      ],
      "metadata": {
        "id": "LaOMo3T7haYk"
      }
    },
    {
      "cell_type": "code",
      "source": [
        "import pandas as pd\n",
        "\n",
        "\n",
        "import time\n",
        "import json\n",
        "import numpy as np\n",
        "import pandas as pd\n",
        "from matplotlib import pyplot as plt\n",
        "import matplotlib\n",
        "from matplotlib import patches\n",
        "import imageio\n",
        "\n",
        "\n",
        "demo_filepath = \"/content/drive/MyDrive/Demofiles/vitality-vs-liquid-m2-dust2.dem\"\n",
        "\n",
        "\n",
        "demo_parser = DemoParser(demofile = demo_filepath, demo_id = \"FAZE-C9-Inferno\", parse_rate=128)\n",
        "\n",
        "\n",
        "data_df = demo_parser.parse(return_type=\"df\")"
      ],
      "metadata": {
        "id": "88i-M1Wfhd0Z"
      },
      "execution_count": null,
      "outputs": []
    },
    {
      "cell_type": "code",
      "source": [
        "def tile_values_snapshot(ctTilesWanted, tTilesWanted, neighborInfo):\n",
        "\n",
        "    \n",
        "    funcCTIds = [str(i) for i in list(ctTilesWanted)]\n",
        "    funcTIds = [str(i) for i in list(tTilesWanted)]\n",
        "\n",
        "    ### Run BFS For CT Tiles\n",
        "    ctDict = {}\n",
        "    for curId in funcCTIds:\n",
        "        startVal = 10\n",
        "        stepsize = 1\n",
        "        tilesSeen = set()\n",
        "        stack = []\n",
        "        startingNode = (curId, startVal)\n",
        "        stack.append(startingNode)\n",
        "        while stack[0][1] > 0:\n",
        "            curId, curVal = stack.pop(0)\n",
        "            if curId not in tilesSeen:\n",
        "                tilesSeen.add(curId)\n",
        "                curTileValues = ctDict.get(int(curId), ([]))\n",
        "                curTileValues.append(curVal/startVal)\n",
        "                ctDict[int(curId)] = (curTileValues)\n",
        "                for neighbor in neighborInfo[curId]:\n",
        "                    stack.append((neighbor, curVal - stepsize))\n",
        "\n",
        "\n",
        "    ### Run BFS For T Tiles\n",
        "    tDict = {}\n",
        "    for curId in funcTIds:\n",
        "        \n",
        "        startVal = 10\n",
        "        stepsize = 1\n",
        "        tilesSeen = set()\n",
        "        stack = []\n",
        "        startingNode = (curId, startVal)\n",
        "        stack.append(startingNode)\n",
        "        while stack[0][1] > 0:\n",
        "            curId, curVal = stack.pop(0)\n",
        "            if curId not in tilesSeen:\n",
        "                tilesSeen.add(curId)\n",
        "                curTileValues = tDict.get(int(curId), ([]))\n",
        "                curTileValues.append(curVal/startVal)\n",
        "                tDict[int(curId)] = (curTileValues)\n",
        "                for neighbor in neighborInfo[curId]:\n",
        "                    stack.append((neighbor, curVal - stepsize))\n",
        "                    \n",
        "    return ctDict, tDict\n"
      ],
      "metadata": {
        "id": "6aJsAwcfhsj8"
      },
      "execution_count": null,
      "outputs": []
    },
    {
      "cell_type": "code",
      "source": [
        "filepath_cur = '/content/vitality-vs-liquid-m2-dust2.json'\n",
        "# Opening JSON file\n",
        "with open(filepath_cur) as json_file:\n",
        "    data = json.load(json_file)\n",
        "\n",
        "\n",
        "roundWanted = 25\n",
        "\n",
        "tmpRoundBombPlanted = 'plant' in list(data_df['bombEvents'][data_df['bombEvents']['roundNum'] == roundWanted]['bombAction'])\n",
        "if tmpRoundBombPlanted:\n",
        "    tmpRoundBombTick = data_df['bombEvents'][(data_df['bombEvents']['roundNum'] == roundWanted) & (data_df['bombEvents']['bombAction'] == 'plant')]['tick'].iloc[0]\n",
        "    \n",
        "else:\n",
        "    tmpRoundBombTick = None\n",
        "\n"
      ],
      "metadata": {
        "id": "w0ZrT6Ysh0uU"
      },
      "execution_count": null,
      "outputs": []
    },
    {
      "cell_type": "code",
      "source": [
        "tmpRoundBeginTick = data_df['rounds'][data_df['rounds']['roundNum'] == roundWanted]['freezeTimeEndTick'].iloc[0]\n",
        "tmpRoundEndTick = data_df['rounds'][data_df['rounds']['roundNum'] == roundWanted]['endOfficialTick'].iloc[0]\n",
        "\n",
        "\n",
        "roundCTTiles = list(data_df['playerFrames'][(data_df['playerFrames']['roundNum'] == roundWanted) & (data_df['playerFrames']['side'] == 'CT') & (data_df['playerFrames']['tick'] <= tmpRoundEndTick) & (data_df['playerFrames']['isAlive'])].apply(list))\n",
        "roundTTiles = list(data_df['playerFrames'][(data_df['playerFrames']['roundNum'] == roundWanted) & (data_df['playerFrames']['side'] == 'T') & (data_df['playerFrames']['tick'] <= tmpRoundEndTick) & (data_df['playerFrames']['isAlive'])].apply(list))\n",
        "\n",
        "CT_x = list(data_df['playerFrames'][(data_df['playerFrames']['roundNum'] == roundWanted) & (data_df['playerFrames']['side'] == 'CT') & (data_df['playerFrames']['tick'] <= tmpRoundEndTick) & (data_df['playerFrames']['isAlive'])].groupby('tick')['x'].apply(list))\n",
        "CT_y = list(data_df['playerFrames'][(data_df['playerFrames']['roundNum'] == roundWanted) & (data_df['playerFrames']['side'] == 'CT') & (data_df['playerFrames']['tick'] <= tmpRoundEndTick) & (data_df['playerFrames']['isAlive'])].groupby('tick')['y'].apply(list))\n",
        "T_x = list(data_df['playerFrames'][(data_df['playerFrames']['roundNum'] == roundWanted) & (data_df['playerFrames']['side'] == 'T') & (data_df['playerFrames']['tick'] <= tmpRoundEndTick) & (data_df['playerFrames']['isAlive'])].groupby('tick')['x'].apply(list))\n",
        "T_y = list(data_df['playerFrames'][(data_df['playerFrames']['roundNum'] == roundWanted) & (data_df['playerFrames']['side'] == 'T') & (data_df['playerFrames']['tick'] <= tmpRoundEndTick) & (data_df['playerFrames']['isAlive'])].groupby('tick')['y'].apply(list))\n",
        "\n",
        "tmpRoundTickVals = list(data_df['playerFrames'][(data_df['playerFrames']['roundNum'] == roundWanted) & (data_df['playerFrames']['side'] == 'CT') & (data_df['playerFrames']['isAlive']) & (tmpRoundBeginTick <= data_df['playerFrames']['tick']) & (data_df['playerFrames']['tick'] <= tmpRoundEndTick)].groupby(by = 'tick').groups.keys())\n",
        "tmpRoundSecArr = [(i - tmpRoundBeginTick) / 128 for i in tmpRoundTickVals]\n",
        "\n",
        "print(len(roundCTTiles), len(roundTTiles), len(tmpRoundSecArr), len(tmpRoundTickVals))\n",
        "combinedRoundTiles = zip(roundCTTiles, roundTTiles)\n",
        "tileValuesRound = [tile_values_snapshot(i, j, data) for i, j in combinedRoundTiles]"
      ],
      "metadata": {
        "id": "5YwBCyI7iJLa"
      },
      "execution_count": null,
      "outputs": []
    },
    {
      "cell_type": "code",
      "source": [
        "\n",
        "\n",
        "\n",
        "\n",
        "\n",
        "130 130 130 130\n",
        "import math\n",
        "def create_clocktimes(tickArr, roundTickStart, roundTickEnd, roundBombTick, tickRate, end_buffer = 0):\n",
        "    '''\n",
        "    Purpose: Function meant to estimate the in-game clock for a certain tick/frame within a round\n",
        "    \n",
        "    Inputs:\n",
        "    \n",
        "    tickArr -> Array of ticks in current round\n",
        "    \n",
        "    roundTickStart -> Tick where the round started. Should be the first tick after the buy phase (freezeTimeEndTick)\n",
        "    \n",
        "    roundTickEnd -> Tick where the round 'officially' ends (endOfficialTick)\n",
        "    \n",
        "    roundBombTick -> Tick where the bomb was planted. None if the bomb was not planted\n",
        "    \n",
        "    tickRate -> Tick rate at which the demo file was parsed\n",
        "    \n",
        "    end_buffer -> There is a brief amount of time after the round which players can still move\n",
        "    around. This parameter is supposed to account for that. However, some demos/rounds are weird and have \n",
        "    different amounts of time at the end of the round (10 seconds, 15 seconds, etc.). I recommend\n",
        "    using this parameter to fix any issues like that.\n",
        "    \n",
        "    Output:\n",
        "    \n",
        "    retArr -> Array of clocktimes corresponding to the ticks in tickArr\n",
        "    \n",
        "    '''\n",
        "    retArr = []\n",
        "    addedOnce = False\n",
        "    for curTick in tickArr:\n",
        "        if roundBombTick is not None:\n",
        "            if curTick < roundBombTick:\n",
        "                if curTick < roundTickEnd:\n",
        "                    totalSeconds = 115 - (curTick - roundTickStart) / tickRate\n",
        "                else:\n",
        "                    totalSeconds = 10 - (curTick - roundTickEnd) / tickRate\n",
        "            else:\n",
        "                totalSeconds = 40 - (curTick - roundBombTick) / tickRate            \n",
        "        else:\n",
        "            if curTick < roundTickEnd:\n",
        "                totalSeconds = 115 - (curTick - roundTickStart) / tickRate\n",
        "            else:\n",
        "                totalSeconds = 10 - (curTick - roundTickEnd) / tickRate\n",
        "        if totalSeconds < 0:\n",
        "            totalSeconds += end_buffer\n",
        "            #print(totalSeconds)\n",
        "            \n",
        "        minutes = math.floor(max(totalSeconds, 0)/60)\n",
        "        seconds = math.ceil((totalSeconds - 60*(minutes)))\n",
        "        #print(totalSeconds, minutes, seconds, curTick, roundBombTick, roundTickEnd)\n",
        "        retArr.append(str(minutes) + ':' + '0'* ((len(str(seconds)) * -1) + 2) + str(seconds))\n",
        "    return retArr\n",
        "tmpClockTimeArr = create_clocktimes(tmpRoundTickVals, tmpRoundBeginTick, tmpRoundEndTick, tmpRoundBombTick, data_df['tickRate'], end_buffer = 15)\n",
        "print(len(tmpClockTimeArr))\n",
        "130\n",
        "Load in Nav Tile Metadata\n",
        "# The map_nav.csv file is a csv with info on every tile on every map\n",
        "# It can be found here: https://github.com/pnxenopoulos/csgo/blob/main/csgo/data/nav/map_nav.csv\n",
        "\n",
        "tileInfo = pd.read_csv('../../../csgo/data/nav/map_nav.csv')\n",
        "tileInfo\n",
        "MapName\tAreaId\tAreaName\tNorthWestX\tNorthWestY\tNorthWestZ\tSouthEastX\tSouthEastY\tSouthEastZ\tConnections\tHidingSpots\tEarliestOccupyTimeFirstTeam\tEarliestOccupyTimeSecondTeam\n",
        "0\tde_ancient\t152\tOutside\t260.60\t642.80\t-19.416094\t280.60\t627.80\t18.666107\t10\t0\t8.199903\t15.538094\n",
        "1\tde_ancient\t2559\tMainHall\t155.60\t512.80\t75.847092\t160.60\t502.80\t72.037033\t3\t0\t12.804793\t13.120758\n",
        "2\tde_ancient\t2748\tRuins\t725.60\t732.80\t-29.636036\t730.60\t722.80\t-15.349043\t3\t1\t7.245784\t19.397285\n",
        "3\tde_ancient\t2835\tMiddle\t540.60\t477.80\t65.784042\t565.60\t457.80\t68.031197\t2\t1\t13.451628\t8.742879\n",
        "4\tde_ancient\t2927\tSideHall\t315.60\t507.80\t103.918999\t340.60\t492.80\t104.806747\t2\t0\t15.876244\t11.825044\n",
        "...\t...\t...\t...\t...\t...\t...\t...\t...\t...\t...\t...\t...\t...\n",
        "10592\tde_vertigo\t4366\tTSpawn\t417.00\t809.25\t11488.031250\t429.50\t790.50\t11488.031250\t4\t0\t0.404472\t17.929251\n",
        "10593\tde_vertigo\t4446\tBridge\t623.25\t553.00\t11501.278320\t629.50\t546.75\t11488.031250\t4\t0\t10.745050\t16.382465\n",
        "10594\tde_vertigo\t4490\tBombsiteB\t173.25\t346.75\t11776.031250\t192.00\t328.00\t11776.031250\t4\t1\t15.058154\t8.052150\n",
        "10595\tde_vertigo\t5000\tARamp\t573.25\t621.75\t11573.395508\t579.50\t609.25\t11560.895508\t5\t0\t11.585015\t14.865434\n",
        "10596\tde_vertigo\t3294\tARamp\t160.75\t640.50\t11488.031250\t173.25\t634.25\t11488.031250\t3\t0\t5.609235\t19.288990\n",
        "10597 rows × 13 columns\n",
        "\n",
        "Calculate Extra Tile Data\n",
        "currentMap = 'de_inferno'\n",
        "curMapTile = tileInfo[(tileInfo['MapName'] == currentMap)]\n",
        "curMapTile['TileWidth'] = curMapTile['SouthEastX'] - curMapTile['NorthWestX']\n",
        "curMapTile['TileHeight'] = curMapTile['NorthWestY'] - curMapTile['SouthEastY']\n",
        "curMapTile['TileArea'] = curMapTile['TileWidth'] * curMapTile['TileHeight']\n",
        "tileToArea = {}\n",
        "for i in range(len(curMapTile)):\n",
        "    tileToArea[curMapTile['AreaId'].iloc[i]] = curMapTile['TileArea'].iloc[i]\n",
        "#tileToArea\n",
        "<ipython-input-64-46c40cc51063>:3: SettingWithCopyWarning: \n",
        "A value is trying to be set on a copy of a slice from a DataFrame.\n",
        "Try using .loc[row_indexer,col_indexer] = value instead\n",
        "\n",
        "See the caveats in the documentation: https://pandas.pydata.org/pandas-docs/stable/user_guide/indexing.html#returning-a-view-versus-a-copy\n",
        "  curMapTile['TileWidth'] = curMapTile['SouthEastX'] - curMapTile['NorthWestX']\n",
        "<ipython-input-64-46c40cc51063>:4: SettingWithCopyWarning: \n",
        "A value is trying to be set on a copy of a slice from a DataFrame.\n",
        "Try using .loc[row_indexer,col_indexer] = value instead\n",
        "\n",
        "See the caveats in the documentation: https://pandas.pydata.org/pandas-docs/stable/user_guide/indexing.html#returning-a-view-versus-a-copy\n",
        "  curMapTile['TileHeight'] = curMapTile['NorthWestY'] - curMapTile['SouthEastY']\n",
        "<ipython-input-64-46c40cc51063>:5: SettingWithCopyWarning: \n",
        "A value is trying to be set on a copy of a slice from a DataFrame.\n",
        "Try using .loc[row_indexer,col_indexer] = value instead\n",
        "\n",
        "See the caveats in the documentation: https://pandas.pydata.org/pandas-docs/stable/user_guide/indexing.html#returning-a-view-versus-a-copy\n",
        "  curMapTile['TileArea'] = curMapTile['TileWidth'] * curMapTile['TileHeight']\n",
        "Visualize Map Control Snapshot(s)\n",
        "Now that we have values from the CT and T team for each tile, now we need to map these values to a color value for plotting. For this example we will use Red for T and Green for CT. There are 4 possible cases:\n",
        "\n",
        "a tile only has values from CT (within n tiles from at least one CT tile)\n",
        "a tile only has values from T (within n tiles from at least 1 T tile)\n",
        "a tile has values from both team (within n tiles from at least 1 T tile\n",
        "and a tile doesn't have any values\n",
        "If a tile only has values from one team, the max value is taken from its array of value. This max value is then mapped to a color by scaling the corresponding team's colors ([1, 0, 0] or [0, 1, 0] for this notebook) by the max value. Here's an example that might help. Let's say a tile T_0 has the following values [0.4, 0.8, 0.1] and all of these values were from the CT team. Then the max value for T_0 would be 0.8 and the color for the tile would be 0.8 * [0, 1, 0] = [0, 0.8, 0].\n",
        "\n",
        "If a tile has values from both teams, the ratio between the sum of the CT values and the sum of both the CT and T values, or\n",
        "\n",
        " \n",
        "Then, like before, this calculated value is linearly mapped to a color where 0 maps to [1, 0, 0] and 1 maps to [0, 1, 0].\n",
        "\n",
        "def plot_map(map_name=\"de_dust2\", map_type=\"original\", dark=False, prevFig = None, prevAx = None):\n",
        "    # Plots the simpleradar minimap for the wanted map. Code taken from csgo python library\n",
        "    # which can be found here https://github.com/pnxenopoulos/csgo\n",
        "    \n",
        "    map_folder_path = \"../../../csgo/data/map/\"\n",
        "    if map_type == \"original\":\n",
        "        map_bg = plt.imread(map_folder_path + \"\"\"{0}.png\"\"\".format(map_name))\n",
        "    else:\n",
        "        col = \"light\"\n",
        "        if dark:\n",
        "            col = \"dark\"\n",
        "        map_bg = plt.imread(\n",
        "            map_folder_path + \"\"\"{0}_{1}.png\"\"\".format(map_name, col)\n",
        "        )\n",
        "    if prevFig and prevAx:\n",
        "        prevAx.imshow(map_bg, zorder=0)\n",
        "        return prevFig, prevAx\n",
        "    else:\n",
        "        fig, ax = plt.subplots()\n",
        "        ax.imshow(map_bg, zorder=0)\n",
        "        return fig, ax\n",
        "def plot_map_control_snapshot(tileData, ctTiles, tTiles, map_name = 'de_dust2', useFig = None, useAx = None):\n",
        "    \"\"\"\n",
        "    Purpose: Visualize map control for the current snapshot.\n",
        "    Tile values are mapped to RGB colors and then plotted.\n",
        "    \n",
        "    Inputs:\n",
        "    tileData -> Pandas df with nav tile metadata for the specific map\n",
        "    \n",
        "    ctTiles -> Dictionary mapping nav tile ID to its array of values\n",
        "    from the CT team. Part of the output from tile_values_snapshot\n",
        "    \n",
        "    tTiles -> Dictionary mapping nav tile ID to its array of values\n",
        "    from the T team. Part of the output from tile_values_snapshot\n",
        "    \n",
        "    map_name -> Name of map such that the correct minimap is plotted.\n",
        "    Used for plot_map function\n",
        "    \n",
        "    Output(s):\n",
        "    f, ax -> figure and axis objects used to visualize the current map control state\n",
        "    \"\"\"\n",
        "    f, ax = plot_map(map_name = map_name, map_type = 'simpleradar', dark = True, prevFig = useFig, prevAx = useAx)\n",
        "    ctTileLocs, tTileLocs = set(ctTiles.keys()), set(tTiles.keys())\n",
        "    ctTileOnly, tTileOnly, bothTiles = ctTileLocs - tTileLocs, tTileLocs - ctTileLocs, ctTileLocs.intersection(tTileLocs)\n",
        "    allRelevantTiles = ctTileLocs.union(tTileLocs)\n",
        "    \n",
        "    #iterate through the tiles that have a value\n",
        "    for curTile in allRelevantTiles:\n",
        "        func_cur_df = tileData[tileData['AreaId'] == curTile]\n",
        "        func_cur_bl_x, func_cur_bl_y = func_cur_df['NorthWestX'].iloc[0], func_cur_df['SouthEastY'].iloc[0]\n",
        "        func_cur_tr_x, func_cur_tr_y = func_cur_df['SouthEastX'].iloc[0], func_cur_df['NorthWestY'].iloc[0]\n",
        "        func_curWidth, func_curHeight = func_cur_tr_x - func_cur_bl_x, func_cur_tr_y - func_cur_bl_y\n",
        "        \n",
        "        if curTile in ctTileLocs - tTileLocs:\n",
        "            curTileValue = max(ctTiles[curTile])\n",
        "            curColor = curTileValue * np.array([0, 1, 0])\n",
        "\n",
        "        elif curTile in tTileLocs - ctTileLocs:\n",
        "            curTileValue = max(tTiles[curTile])\n",
        "            curColor = curTileValue * np.array([1, 0, 0])\n",
        "            \n",
        "        elif curTile in bothTiles:\n",
        "            curTileValue = sum(ctTiles[curTile]) / (sum(ctTiles[curTile]) + sum(tTiles[curTile]))\n",
        "            curColor = curTileValue * np.array([0, 1, 0]) + (1 - curTileValue) * np.array([1, 0, 0])\n",
        "        rect = patches.Rectangle((func_cur_bl_x, func_cur_bl_y), func_curWidth, func_curHeight, linewidth=1, edgecolor= curColor, facecolor = curColor,  alpha = 1.0)\n",
        "        ax.add_patch(rect)\n",
        "    return f, ax\n",
        "Visualize individual snapshot(s)\n",
        "visIdx = 40\n",
        "curF, curAx = plot_map_control_snapshot(curMapTile, tileValuesRound[visIdx][0], tileValuesRound[visIdx][1], map_name = currentMap)\n",
        "plt.title(tmpClockTimeArr[visIdx])\n",
        "plt.show()\n",
        "\n",
        "Calculate Map Control Metric(s)\n",
        "def map_control_snapshot(curCTDict, curTDict, tileAreaDict, area_norm = True):\n",
        "    \"\"\"\n",
        "    Purpose: Calculate map control metric for a specific snapshot/moment during a round\n",
        "    \n",
        "    Inputs:\n",
        "    curCTDict -> Python dictionary where key = tile ID and value = array of CT values\n",
        "    curTDict -> Python dictionary where key = tile ID and value = array of T values\n",
        "    tileAreaDict -> Python dictionary where key = tile ID and value = bounding box area\n",
        "    area_norm -> True if you want to weight the value by the area of the nav tile.\n",
        "    \n",
        "    Output(s):\n",
        "    retVal -> Float representing map control difference for current snapshot. 0 means both teams\n",
        "    have equal control. 1 means total CT control ; -1 means total T control.\n",
        "    \"\"\"\n",
        "    funcCTTiles = set(curCTDict.keys())\n",
        "    funcTTiles = set(curTDict.keys())\n",
        "    \n",
        "    onlyCTTiles = funcCTTiles - funcTTiles\n",
        "    onlyTTiles = funcTTiles - funcCTTiles\n",
        "    bothTiles = funcCTTiles.intersection(funcTTiles)\n",
        "    \n",
        "    retVal = 0.0\n",
        "    retTrack = []\n",
        "    areaTrack = []\n",
        "    \n",
        "    # sum up the tile values\n",
        "    for curTile in onlyCTTiles:\n",
        "        tmpVal = max(curCTDict.get(curTile)) * tileAreaDict.get(curTile) if area_norm else max(curCTDict.get(curTile))\n",
        "        retVal += tmpVal\n",
        "        retTrack.append(max(curCTDict.get(curTile)))\n",
        "        areaTrack.append(tileAreaDict.get(curTile))\n",
        "        \n",
        "    for curTile in onlyTTiles:\n",
        "        tmpVal = max(curTDict.get(curTile)) * tileAreaDict.get(curTile) if area_norm else max(curTDict.get(curTile))\n",
        "        retVal -= tmpVal\n",
        "        retTrack.append(max(curTDict.get(curTile)) * -1)\n",
        "        areaTrack.append(tileAreaDict.get(curTile))\n",
        "        \n",
        "    for curTile in bothTiles:\n",
        "        funcCurCTVals, funcCurTVals = curCTDict.get(curTile), curTDict.get(curTile)\n",
        "        curCTSum, curTSum = sum(funcCurCTVals), sum(funcCurTVals)\n",
        "        tmpVal = curCTSum / (curCTSum + curTSum) - 0.5 * tileAreaDict.get(curTile) if area_norm else curCTSum / (curCTSum + curTSum) - 0.5\n",
        "        retVal += tmpVal\n",
        "        retTrack.append(curCTSum / (curCTSum + curTSum) - 0.5)\n",
        "        areaTrack.append(tileAreaDict.get(curTile))\n",
        "\n",
        "    if area_norm:\n",
        "        return sum(np.array(retTrack) * np.array(areaTrack)) / sum(areaTrack)\n",
        "    else:\n",
        "        return sum(retTrack)\n",
        "    #return retVal\n",
        "snapshotArr = [map_control_snapshot(i, j, tileToArea, True) for i, j in tileValuesRound]\n",
        "Create Map Control Graphic(s)\n",
        "# code borrowed from original csgo library (link below) to transform the map coordinates to\n",
        "# fit the minimap format (originally borrowed from PureSkill.gg)\n",
        "#\n",
        "# https://github.com/pnxenopoulos/csgo/blob/0efe873c519762b43a16f6a526d1ef679ea931dd/csgo/visualization/plot.py#L33\n",
        "\n",
        "\n",
        "from csgo import MAP_DATA\n",
        "\n",
        "def position_transform(map_name, position, axis):\n",
        "    start = MAP_DATA[map_name][axis]\n",
        "    scale = MAP_DATA[map_name][\"scale\"]\n",
        "    if axis == \"x\":\n",
        "        pos = position - start\n",
        "        pos /= scale\n",
        "        return pos\n",
        "    elif axis == \"y\":\n",
        "        pos = start - position\n",
        "        pos /= scale\n",
        "        return pos\n",
        "    else:\n",
        "        return None\n",
        "# visualize the clocktime ticks at the bottom of the graphic to be generated such that\n",
        "# they can be adjusted if necessary\n",
        "\n",
        "xTickArr = [i * 25 for i in range(len(tmpRoundSecArr) // 25 + 1) if (i * 25) < len(tmpRoundSecArr)]\n",
        "\n",
        "[tmpClockTimeArr[x] for x in xTickArr]\n",
        "['1:55', '1:30', '1:05', '0:40', '0:15', '0:04']\n",
        "yTickArr = [-1, -0.75, -0.5, -0.25, 0, 0.25, 0.5, 0.75, 1]\n",
        "xTickArr = [i * 25 for i in range(len(tmpRoundSecArr) // 25 + 1) if (i * 25) < len(tmpRoundSecArr)]\n",
        "save_fig = True\n",
        "for i in range(len(tmpClockTimeArr)):\n",
        "    if i % 10 == 0:\n",
        "        print(i, ' out of ', len(tileValuesRound))\n",
        "\n",
        "    ### Initialize the subplots\n",
        "    fig, axs = plt.subplots(1, 2)\n",
        "\n",
        "    ### Plot map control visualization\n",
        "    axs[0].xaxis.set_visible(False)\n",
        "    axs[0].yaxis.set_visible(False)\n",
        "    axs[0].set_title(tmpClockTimeArr[i])\n",
        "    axs[0].text(0.25, -0.10, '@AdiSujithkumar', horizontalalignment='center', verticalalignment='center', transform=axs[0].transAxes)\n",
        "    fig, tmpp = plot_map_control_snapshot(curMapTile, tileValuesRound[i][0], tileValuesRound[i][1], map_name = currentMap, useFig = fig, useAx = axs[0])\n",
        "\n",
        "    ### Plot CT/T player(s) positions\n",
        "    for curCTX, curCTY in zip(CT_x[i], CT_y[i]):\n",
        "        transX, transY = position_transform(currentMap, curCTX, \"x\"), position_transform(currentMap, curCTY, \"y\")\n",
        "        tmpp.scatter(\n",
        "            x=transX,\n",
        "            y=transY,\n",
        "            c= ['#5d79ae'],\n",
        "            s = 10,\n",
        "            zorder=2\n",
        "        )\n",
        "    for curTX, curTY in zip(T_x[i], T_y[i]):\n",
        "        transX, transY = position_transform(currentMap, curTX, \"x\"), position_transform(currentMap, curTY, \"y\")\n",
        "        tmpp.scatter(\n",
        "            x=transX,\n",
        "            y=transY,\n",
        "            c= ['#de9b35'],\n",
        "            s = 10,\n",
        "            zorder=2\n",
        "        )\n",
        "\n",
        "    ### Plot map control metric line plot\n",
        "    axs[1].plot(tmpRoundSecArr[:i], snapshotArr[:i], c = 'k')\n",
        "    axs[1].set_title('Map Control During Round')\n",
        "    axs[1].set_xlabel('Clocktime')\n",
        "    axs[1].set_ylabel('Map Control')\n",
        "    axs[1].set_ylim([-1, 1])\n",
        "\n",
        "    axs[1].set_yticks(yTickArr)\n",
        "    axs[1].set_yticklabels([abs(x) for x in yTickArr])\n",
        "    axs[1].set_xlim([0, len(tmpRoundSecArr)])\n",
        "    axs[1].set_xticks(xTickArr)\n",
        "    axs[1].set_xticklabels([tmpClockTimeArr[x] for x in xTickArr])\n",
        "    axs[1].axhline(0, linestyle = 'dashed', c = 'k')\n",
        "    axs[1].text(0.1, 0.9, 'CT', horizontalalignment='center', verticalalignment='center', transform=axs[1].transAxes, weight='bold')\n",
        "    axs[1].text(0.1, 0.1, 'T', horizontalalignment='center', verticalalignment='center', transform=axs[1].transAxes, weight='bold')\n",
        "\n",
        "    fig.tight_layout()\n",
        "    if save_fig:\n",
        "        # the individual plots for each snapshot are saved as .png images in a tmp folder\n",
        "        fig.savefig(fname = './tmp/tmp' + str(i) + '.png', bbox_inches='tight', dpi = 400)\n",
        "    else:\n",
        "        plt.show()\n",
        "    plt.close(fig)"
      ],
      "metadata": {
        "id": "44-wkaiPgvx4"
      },
      "execution_count": null,
      "outputs": []
    }
  ]
}