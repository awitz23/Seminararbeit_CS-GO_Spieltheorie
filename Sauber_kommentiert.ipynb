{
  "nbformat": 4,
  "nbformat_minor": 0,
  "metadata": {
    "colab": {
      "name": "awpy_Colab.ipynb",
      "provenance": [],
      "collapsed_sections": [],
      "include_colab_link": true
    },
    "kernelspec": {
      "name": "python3",
      "display_name": "Python 3"
    },
    "language_info": {
      "name": "python"
    }
  },
  "cells": [
    {
      "cell_type": "markdown",
      "metadata": {
        "id": "view-in-github",
        "colab_type": "text"
      },
      "source": [
        "<a href=\"https://colab.research.google.com/github/awitz23/Project_CS-GO/blob/main/Sauber_kommentiert.ipynb\" target=\"_parent\"><img src=\"https://colab.research.google.com/assets/colab-badge.svg\" alt=\"Open In Colab\"/></a>"
      ]
    },
    {
      "cell_type": "markdown",
      "source": [
        "#Installationen"
      ],
      "metadata": {
        "id": "0bB6IyTcadMP"
      }
    },
    {
      "cell_type": "code",
      "source": [
        "pip install Pillow==9.0.0"
      ],
      "metadata": {
        "colab": {
          "base_uri": "https://localhost:8080/",
          "height": 339
        },
        "id": "dKND3OLDw0ck",
        "outputId": "2e0fd34d-0db0-42b0-fd78-79062649a84d"
      },
      "execution_count": null,
      "outputs": [
        {
          "output_type": "stream",
          "name": "stdout",
          "text": [
            "Looking in indexes: https://pypi.org/simple, https://us-python.pkg.dev/colab-wheels/public/simple/\n",
            "Collecting Pillow==9.0.0\n",
            "  Downloading Pillow-9.0.0-cp37-cp37m-manylinux_2_17_x86_64.manylinux2014_x86_64.whl (4.3 MB)\n",
            "\u001b[K     |████████████████████████████████| 4.3 MB 19.2 MB/s \n",
            "\u001b[?25hInstalling collected packages: Pillow\n",
            "  Attempting uninstall: Pillow\n",
            "    Found existing installation: Pillow 7.1.2\n",
            "    Uninstalling Pillow-7.1.2:\n",
            "      Successfully uninstalled Pillow-7.1.2\n",
            "\u001b[31mERROR: pip's dependency resolver does not currently take into account all the packages that are installed. This behaviour is the source of the following dependency conflicts.\n",
            "albumentations 0.1.12 requires imgaug<0.2.7,>=0.2.5, but you have imgaug 0.2.9 which is incompatible.\u001b[0m\n",
            "Successfully installed Pillow-9.0.0\n"
          ]
        },
        {
          "output_type": "display_data",
          "data": {
            "application/vnd.colab-display-data+json": {
              "pip_warning": {
                "packages": [
                  "PIL"
                ]
              }
            }
          },
          "metadata": {}
        }
      ]
    },
    {
      "cell_type": "code",
      "metadata": {
        "colab": {
          "base_uri": "https://localhost:8080/"
        },
        "id": "WeKqfFet03GZ",
        "outputId": "24b7a9ef-31b4-41fd-b3b4-c163019008bf"
      },
      "source": [
        "#shell notwendig, da awpy golang benötigt\n",
        "\n",
        "%%shell\n",
        "add-apt-repository -y ppa:longsleep/golang-backports\n",
        "apt -y update\n",
        "apt -y install golang-go\n",
        "\n",
        "pip install awpy\n"
      ],
      "execution_count": null,
      "outputs": [
        {
          "output_type": "stream",
          "name": "stdout",
          "text": [
            "\r0% [Working]\r            \rGet:1 https://cloud.r-project.org/bin/linux/ubuntu bionic-cran40/ InRelease [3,626 B]\n",
            "Hit:2 https://developer.download.nvidia.com/compute/cuda/repos/ubuntu1804/x86_64  InRelease\n",
            "Get:3 http://security.ubuntu.com/ubuntu bionic-security InRelease [88.7 kB]\n",
            "Hit:4 http://archive.ubuntu.com/ubuntu bionic InRelease\n",
            "Hit:5 http://ppa.launchpad.net/c2d4u.team/c2d4u4.0+/ubuntu bionic InRelease\n",
            "Get:6 http://archive.ubuntu.com/ubuntu bionic-updates InRelease [88.7 kB]\n",
            "Ign:7 https://developer.download.nvidia.com/compute/machine-learning/repos/ubuntu1804/x86_64  InRelease\n",
            "Hit:8 https://developer.download.nvidia.com/compute/machine-learning/repos/ubuntu1804/x86_64  Release\n",
            "Hit:9 http://ppa.launchpad.net/cran/libgit2/ubuntu bionic InRelease\n",
            "Hit:10 http://ppa.launchpad.net/deadsnakes/ppa/ubuntu bionic InRelease\n",
            "Get:11 http://archive.ubuntu.com/ubuntu bionic-backports InRelease [74.6 kB]\n",
            "Hit:12 http://ppa.launchpad.net/graphics-drivers/ppa/ubuntu bionic InRelease\n",
            "Get:13 http://ppa.launchpad.net/longsleep/golang-backports/ubuntu bionic InRelease [15.4 kB]\n",
            "Get:15 http://security.ubuntu.com/ubuntu bionic-security/multiverse amd64 Packages [22.8 kB]\n",
            "Get:16 http://security.ubuntu.com/ubuntu bionic-security/restricted amd64 Packages [1,006 kB]\n",
            "Get:17 http://security.ubuntu.com/ubuntu bionic-security/main amd64 Packages [2,861 kB]\n",
            "Get:18 http://archive.ubuntu.com/ubuntu bionic-updates/main amd64 Packages [3,294 kB]\n",
            "Get:19 http://security.ubuntu.com/ubuntu bionic-security/universe amd64 Packages [1,521 kB]\n",
            "Get:20 http://archive.ubuntu.com/ubuntu bionic-updates/universe amd64 Packages [2,297 kB]\n",
            "Get:21 http://archive.ubuntu.com/ubuntu bionic-updates/multiverse amd64 Packages [29.8 kB]\n",
            "Get:22 http://archive.ubuntu.com/ubuntu bionic-updates/restricted amd64 Packages [1,040 kB]\n",
            "Get:23 http://archive.ubuntu.com/ubuntu bionic-backports/main amd64 Packages [12.2 kB]\n",
            "Get:24 http://ppa.launchpad.net/longsleep/golang-backports/ubuntu bionic/main amd64 Packages [7,218 B]\n",
            "Fetched 12.4 MB in 6s (2,121 kB/s)\n",
            "Reading package lists... Done\n",
            "Hit:1 https://cloud.r-project.org/bin/linux/ubuntu bionic-cran40/ InRelease\n",
            "Hit:2 https://developer.download.nvidia.com/compute/cuda/repos/ubuntu1804/x86_64  InRelease\n",
            "Hit:3 http://ppa.launchpad.net/c2d4u.team/c2d4u4.0+/ubuntu bionic InRelease\n",
            "Hit:4 http://security.ubuntu.com/ubuntu bionic-security InRelease\n",
            "Hit:5 http://archive.ubuntu.com/ubuntu bionic InRelease\n",
            "Ign:6 https://developer.download.nvidia.com/compute/machine-learning/repos/ubuntu1804/x86_64  InRelease\n",
            "Hit:7 https://developer.download.nvidia.com/compute/machine-learning/repos/ubuntu1804/x86_64  Release\n",
            "Hit:8 http://archive.ubuntu.com/ubuntu bionic-updates InRelease\n",
            "Hit:9 http://ppa.launchpad.net/cran/libgit2/ubuntu bionic InRelease\n",
            "Hit:10 http://archive.ubuntu.com/ubuntu bionic-backports InRelease\n",
            "Hit:11 http://ppa.launchpad.net/deadsnakes/ppa/ubuntu bionic InRelease\n",
            "Hit:12 http://ppa.launchpad.net/graphics-drivers/ppa/ubuntu bionic InRelease\n",
            "Hit:13 http://ppa.launchpad.net/longsleep/golang-backports/ubuntu bionic InRelease\n",
            "Reading package lists... Done\n",
            "Building dependency tree       \n",
            "Reading state information... Done\n",
            "49 packages can be upgraded. Run 'apt list --upgradable' to see them.\n",
            "Reading package lists... Done\n",
            "Building dependency tree       \n",
            "Reading state information... Done\n",
            "The following package was automatically installed and is no longer required:\n",
            "  libnvidia-common-460\n",
            "Use 'apt autoremove' to remove it.\n",
            "The following additional packages will be installed:\n",
            "  golang-1.18-go golang-1.18-src golang-src\n",
            "Suggested packages:\n",
            "  bzr | brz mercurial subversion\n",
            "The following NEW packages will be installed:\n",
            "  golang-1.18-go golang-1.18-src golang-go golang-src\n",
            "0 upgraded, 4 newly installed, 0 to remove and 49 not upgraded.\n",
            "Need to get 76.4 MB of archives.\n",
            "After this operation, 436 MB of additional disk space will be used.\n",
            "Get:1 http://ppa.launchpad.net/longsleep/golang-backports/ubuntu bionic/main amd64 golang-1.18-src all 1.18.3-1longsleep1+focal [15.6 MB]\n",
            "Get:2 http://ppa.launchpad.net/longsleep/golang-backports/ubuntu bionic/main amd64 golang-1.18-go amd64 1.18.3-1longsleep1+focal [60.8 MB]\n",
            "Get:3 http://ppa.launchpad.net/longsleep/golang-backports/ubuntu bionic/main amd64 golang-src amd64 2:1.18~1longsleep1 [5,080 B]\n",
            "Get:4 http://ppa.launchpad.net/longsleep/golang-backports/ubuntu bionic/main amd64 golang-go amd64 2:1.18~1longsleep1 [24.1 kB]\n",
            "Fetched 76.4 MB in 4s (17.9 MB/s)\n",
            "Selecting previously unselected package golang-1.18-src.\n",
            "(Reading database ... 155639 files and directories currently installed.)\n",
            "Preparing to unpack .../golang-1.18-src_1.18.3-1longsleep1+focal_all.deb ...\n",
            "Unpacking golang-1.18-src (1.18.3-1longsleep1+focal) ...\n",
            "Selecting previously unselected package golang-1.18-go.\n",
            "Preparing to unpack .../golang-1.18-go_1.18.3-1longsleep1+focal_amd64.deb ...\n",
            "Unpacking golang-1.18-go (1.18.3-1longsleep1+focal) ...\n",
            "Selecting previously unselected package golang-src:amd64.\n",
            "Preparing to unpack .../golang-src_2%3a1.18~1longsleep1_amd64.deb ...\n",
            "Unpacking golang-src:amd64 (2:1.18~1longsleep1) ...\n",
            "Selecting previously unselected package golang-go.\n",
            "Preparing to unpack .../golang-go_2%3a1.18~1longsleep1_amd64.deb ...\n",
            "Unpacking golang-go (2:1.18~1longsleep1) ...\n",
            "Setting up golang-1.18-src (1.18.3-1longsleep1+focal) ...\n",
            "Setting up golang-1.18-go (1.18.3-1longsleep1+focal) ...\n",
            "Setting up golang-src:amd64 (2:1.18~1longsleep1) ...\n",
            "Setting up golang-go (2:1.18~1longsleep1) ...\n",
            "Processing triggers for man-db (2.8.3-2ubuntu0.1) ...\n",
            "Looking in indexes: https://pypi.org/simple, https://us-python.pkg.dev/colab-wheels/public/simple/\n",
            "Collecting awpy\n",
            "  Downloading awpy-1.1.7.tar.gz (10.1 MB)\n",
            "\u001b[K     |████████████████████████████████| 10.1 MB 26.9 MB/s \n",
            "\u001b[?25hRequirement already satisfied: pandas>=0.25.3 in /usr/local/lib/python3.7/dist-packages (from awpy) (1.3.5)\n",
            "Requirement already satisfied: numpy>=1.18.1 in /usr/local/lib/python3.7/dist-packages (from awpy) (1.21.6)\n",
            "Requirement already satisfied: scipy>=1.4.1 in /usr/local/lib/python3.7/dist-packages (from awpy) (1.4.1)\n",
            "Requirement already satisfied: matplotlib>=3.1.2 in /usr/local/lib/python3.7/dist-packages (from awpy) (3.2.2)\n",
            "Requirement already satisfied: networkx>=2.6.3 in /usr/local/lib/python3.7/dist-packages (from awpy) (2.6.3)\n",
            "Collecting textdistance>=4.2.0\n",
            "  Downloading textdistance-4.2.2-py3-none-any.whl (28 kB)\n",
            "Collecting imageio>=2.9.0\n",
            "  Downloading imageio-2.19.3-py3-none-any.whl (3.4 MB)\n",
            "\u001b[K     |████████████████████████████████| 3.4 MB 58.2 MB/s \n",
            "\u001b[?25hRequirement already satisfied: tqdm>=4.55.2 in /usr/local/lib/python3.7/dist-packages (from awpy) (4.64.0)\n",
            "Requirement already satisfied: pillow>=8.3.2 in /usr/local/lib/python3.7/dist-packages (from imageio>=2.9.0->awpy) (9.0.0)\n",
            "Requirement already satisfied: kiwisolver>=1.0.1 in /usr/local/lib/python3.7/dist-packages (from matplotlib>=3.1.2->awpy) (1.4.3)\n",
            "Requirement already satisfied: pyparsing!=2.0.4,!=2.1.2,!=2.1.6,>=2.0.1 in /usr/local/lib/python3.7/dist-packages (from matplotlib>=3.1.2->awpy) (3.0.9)\n",
            "Requirement already satisfied: cycler>=0.10 in /usr/local/lib/python3.7/dist-packages (from matplotlib>=3.1.2->awpy) (0.11.0)\n",
            "Requirement already satisfied: python-dateutil>=2.1 in /usr/local/lib/python3.7/dist-packages (from matplotlib>=3.1.2->awpy) (2.8.2)\n",
            "Requirement already satisfied: typing-extensions in /usr/local/lib/python3.7/dist-packages (from kiwisolver>=1.0.1->matplotlib>=3.1.2->awpy) (4.1.1)\n",
            "Requirement already satisfied: pytz>=2017.3 in /usr/local/lib/python3.7/dist-packages (from pandas>=0.25.3->awpy) (2022.1)\n",
            "Requirement already satisfied: six>=1.5 in /usr/local/lib/python3.7/dist-packages (from python-dateutil>=2.1->matplotlib>=3.1.2->awpy) (1.15.0)\n",
            "Building wheels for collected packages: awpy\n",
            "  Building wheel for awpy (setup.py) ... \u001b[?25l\u001b[?25hdone\n",
            "  Created wheel for awpy: filename=awpy-1.1.7-py3-none-any.whl size=10064602 sha256=d381f1762ca02c88a911b50139ef775d13692b8fffc35c7d215d955825765aae\n",
            "  Stored in directory: /root/.cache/pip/wheels/26/50/b0/6a83f9f8f8f593139b8f645db54b20231c646e192bafd50649\n",
            "Successfully built awpy\n",
            "Installing collected packages: textdistance, imageio, awpy\n",
            "  Attempting uninstall: imageio\n",
            "    Found existing installation: imageio 2.4.1\n",
            "    Uninstalling imageio-2.4.1:\n",
            "      Successfully uninstalled imageio-2.4.1\n",
            "\u001b[31mERROR: pip's dependency resolver does not currently take into account all the packages that are installed. This behaviour is the source of the following dependency conflicts.\n",
            "albumentations 0.1.12 requires imgaug<0.2.7,>=0.2.5, but you have imgaug 0.2.9 which is incompatible.\u001b[0m\n",
            "Successfully installed awpy-1.1.7 imageio-2.19.3 textdistance-4.2.2\n"
          ]
        },
        {
          "output_type": "execute_result",
          "data": {
            "text/plain": [
              ""
            ]
          },
          "metadata": {},
          "execution_count": 2
        }
      ]
    },
    {
      "cell_type": "code",
      "source": [
        "!pip install nashpy\n",
        "import nashpy as nash\n",
        "\n",
        "import pandas as pd\n",
        "import numpy as np\n",
        "from awpy import *\n",
        "from awpy.data import NAV_CSV\n",
        "from google.colab import drive\n",
        "from google.colab import files\n",
        "drive.mount('/content/drive')\n",
        "import plotly.graph_objects as go\n",
        "import pandas as pd\n",
        "import os\n",
        "dir = '/content/drive/MyDrive/2022_Dust2'"
      ],
      "metadata": {
        "colab": {
          "base_uri": "https://localhost:8080/"
        },
        "id": "7I1rGINUdoab",
        "outputId": "4c8ad081-f622-42d1-b1f8-37af717d85aa"
      },
      "execution_count": null,
      "outputs": [
        {
          "output_type": "stream",
          "name": "stdout",
          "text": [
            "Mounted at /content/drive\n",
            "Looking in indexes: https://pypi.org/simple, https://us-python.pkg.dev/colab-wheels/public/simple/\n",
            "Collecting nashpy\n",
            "  Downloading nashpy-0.0.22.tar.gz (11 kB)\n",
            "\u001b[33mWARNING: Discarding https://files.pythonhosted.org/packages/93/1c/9005c6a0a3a3b183b5b216cc02cef14bb080fd3ee8733a1006fbcd81fffc/nashpy-0.0.22.tar.gz#sha256=9378fd492f01163ac01a7384dd94f7ffa3ce40e31fe2a08844a2e34576b3d8db (from https://pypi.org/simple/nashpy/). Command errored out with exit status 1: python setup.py egg_info Check the logs for full command output.\u001b[0m\n",
            "  Downloading nashpy-0.0.21.tar.gz (11 kB)\n",
            "Requirement already satisfied: numpy>=1.12.1 in /usr/local/lib/python3.7/dist-packages (from nashpy) (1.21.6)\n",
            "Requirement already satisfied: scipy>=0.19.0 in /usr/local/lib/python3.7/dist-packages (from nashpy) (1.4.1)\n",
            "Building wheels for collected packages: nashpy\n",
            "  Building wheel for nashpy (setup.py) ... \u001b[?25l\u001b[?25hdone\n",
            "  Created wheel for nashpy: filename=nashpy-0.0.21-py3-none-any.whl size=15280 sha256=bac77737afd42ad2861ee13e5c88c0387dd6207499f4149e9545ada76d1016bc\n",
            "  Stored in directory: /root/.cache/pip/wheels/02/08/62/cf4fa931e0a317d180936b266169a57f4bb4eb801465bbe8a1\n",
            "Successfully built nashpy\n",
            "Installing collected packages: nashpy\n",
            "Successfully installed nashpy-0.0.21\n",
            "display.max_colwidth : int or None\n",
            "    The maximum width in characters of a column in the repr of\n",
            "    a pandas data structure. When the column overflows, a \"...\"\n",
            "    placeholder is embedded in the output. A 'None' value means unlimited.\n",
            "    [default: 50] [currently: 4000]\n"
          ]
        }
      ]
    },
    {
      "cell_type": "code",
      "source": [
        "#Initialisiere ein leeres Dataframe für spätere Nutzung\n",
        "df_strategy=pd.DataFrame()\n",
        "\n",
        "#Lege Pfad fest, aus dem die Dateien gelesen werden\n",
        "dir = '/content/drive/MyDrive/2022_Dust2'"
      ],
      "metadata": {
        "id": "sdCx1UMPRhWb"
      },
      "execution_count": null,
      "outputs": []
    },
    {
      "cell_type": "markdown",
      "source": [
        "#Buy Decision - Parsing"
      ],
      "metadata": {
        "id": "4PsVf7sOa3QZ"
      }
    },
    {
      "cell_type": "code",
      "source": [
        "#Parsing\n",
        "\n",
        "#Initialisiere Listen\n",
        "CT_Buy = []\n",
        "T_Buy = []\n",
        "Winner_list = []\n",
        "GameRound_list = []\n",
        "\n",
        "#Gehe den vorher definierten Pfad durch\n",
        "for file in os.listdir(dir):\n",
        "  #gehe für jedes Element, das auf .dem endet folgende Befehle durch\n",
        "  if file.endswith(\".dem\"):\n",
        "    \n",
        "    #Starte das Einlesen und speichert die Daten als DataFrame \n",
        "    p = DemoParser(demofile=\"/content/drive/MyDrive/2022_Dust2/\"+file, parse_rate=128)\n",
        "    df = p.parse(return_type=\"df\")\n",
        "\n",
        "    #erstelle temporäre Liste für eine Datei\n",
        "    #hat für jede Datei andere Werte \n",
        "    CT_buy_temp = df[\"rounds\"][\"ctBuyType\"].tolist()\n",
        "    T_buy_temp = df[\"rounds\"][\"tBuyType\"].tolist()\n",
        "    Winner_list_temp = df[\"rounds\"][\"winningSide\"].tolist()\n",
        "    Gameround_list_temp = df[\"rounds\"][\"roundNum\"].tolist()\n",
        "\n",
        "    #Speichere die temporären Listen in einer gesamten Liste\n",
        "    CT_Buy.extend(CT_buy_temp)\n",
        "    T_Buy.extend(T_buy_temp)\n",
        "    Winner_list.extend(Winner_list_temp)\n",
        "    GameRound_list.extend(Gameround_list_temp)\n",
        "\n",
        "    #Wandle die Daten in ein DataFrame um\n",
        "    Buy_Dec = pd.DataFrame({'Round':GameRound_list, \"T-Buy\":T_Buy, \"CT-Buy\":CT_Buy, \"Winner\":Winner_list})\n",
        "\n"
      ],
      "metadata": {
        "colab": {
          "base_uri": "https://localhost:8080/"
        },
        "id": "up-wgGX9KI3C",
        "outputId": "b095a0b4-f40c-425d-8f9d-ce8ca28cd53e"
      },
      "execution_count": null,
      "outputs": [
        {
          "output_type": "stream",
          "name": "stdout",
          "text": [
            "natus-vincere-vs-faze-m2-dust2.dem\n",
            "['Full Eco', 'Full Buy', 'Full Buy', 'Semi Buy', 'Full Eco', 'Full Buy', 'Semi Buy', 'Full Buy', 'Full Buy', 'Full Buy', 'Full Buy', 'Full Buy', 'Full Buy', 'Full Buy', 'Full Buy', 'Full Eco', 'Full Buy', 'Full Buy', 'Full Buy', 'Full Buy', 'Full Buy', 'Semi Eco', 'Full Buy', 'Full Buy', 'Full Buy', 'Semi Eco', 'Full Eco', 'Full Buy']\n",
            "['Full Eco', 'Full Buy', 'Full Buy', 'Semi Buy', 'Full Eco', 'Full Buy', 'Semi Buy', 'Full Buy', 'Full Buy', 'Full Buy', 'Full Buy', 'Full Buy', 'Full Buy', 'Full Buy', 'Full Buy', 'Full Eco', 'Full Buy', 'Full Buy', 'Full Buy', 'Full Buy', 'Full Buy', 'Semi Eco', 'Full Buy', 'Full Buy', 'Full Buy', 'Semi Eco', 'Full Eco', 'Full Buy']\n",
            "gambit-vs-faze-m1-dust2.dem\n",
            "['Full Eco', 'Full Buy', 'Full Buy', 'Full Buy', 'Full Buy', 'Full Buy', 'Full Buy', 'Full Eco', 'Full Buy', 'Full Buy', 'Full Buy', 'Full Buy', 'Full Buy', 'Full Buy', 'Full Buy', 'Full Eco', 'Semi Buy', 'Semi Eco', 'Full Buy', 'Full Buy', 'Semi Buy']\n",
            "['Full Eco', 'Full Buy', 'Full Buy', 'Semi Buy', 'Full Eco', 'Full Buy', 'Semi Buy', 'Full Buy', 'Full Buy', 'Full Buy', 'Full Buy', 'Full Buy', 'Full Buy', 'Full Buy', 'Full Buy', 'Full Eco', 'Full Buy', 'Full Buy', 'Full Buy', 'Full Buy', 'Full Buy', 'Semi Eco', 'Full Buy', 'Full Buy', 'Full Buy', 'Semi Eco', 'Full Eco', 'Full Buy', 'Full Eco', 'Full Buy', 'Full Buy', 'Full Buy', 'Full Buy', 'Full Buy', 'Full Buy', 'Full Eco', 'Full Buy', 'Full Buy', 'Full Buy', 'Full Buy', 'Full Buy', 'Full Buy', 'Full Buy', 'Full Eco', 'Semi Buy', 'Semi Eco', 'Full Buy', 'Full Buy', 'Semi Buy']\n",
            "g2-vs-faze-m3-dust2.dem\n",
            "['Full Eco', 'Semi Eco', 'Full Eco', 'Full Buy', 'Full Buy', 'Full Buy', 'Full Eco', 'Full Buy', 'Semi Eco', 'Full Buy', 'Full Buy', 'Full Buy', 'Full Buy', 'Full Buy', 'Full Buy', 'Full Eco', 'Semi Eco', 'Semi Eco', 'Full Buy', 'Full Buy', 'Full Buy', 'Full Buy', 'Full Buy', 'Full Buy', 'Full Buy', 'Full Eco', 'Full Buy', 'Full Buy', 'Semi Buy', 'Full Buy']\n",
            "['Full Eco', 'Full Buy', 'Full Buy', 'Semi Buy', 'Full Eco', 'Full Buy', 'Semi Buy', 'Full Buy', 'Full Buy', 'Full Buy', 'Full Buy', 'Full Buy', 'Full Buy', 'Full Buy', 'Full Buy', 'Full Eco', 'Full Buy', 'Full Buy', 'Full Buy', 'Full Buy', 'Full Buy', 'Semi Eco', 'Full Buy', 'Full Buy', 'Full Buy', 'Semi Eco', 'Full Eco', 'Full Buy', 'Full Eco', 'Full Buy', 'Full Buy', 'Full Buy', 'Full Buy', 'Full Buy', 'Full Buy', 'Full Eco', 'Full Buy', 'Full Buy', 'Full Buy', 'Full Buy', 'Full Buy', 'Full Buy', 'Full Buy', 'Full Eco', 'Semi Buy', 'Semi Eco', 'Full Buy', 'Full Buy', 'Semi Buy', 'Full Eco', 'Semi Eco', 'Full Eco', 'Full Buy', 'Full Buy', 'Full Buy', 'Full Eco', 'Full Buy', 'Semi Eco', 'Full Buy', 'Full Buy', 'Full Buy', 'Full Buy', 'Full Buy', 'Full Buy', 'Full Eco', 'Semi Eco', 'Semi Eco', 'Full Buy', 'Full Buy', 'Full Buy', 'Full Buy', 'Full Buy', 'Full Buy', 'Full Buy', 'Full Eco', 'Full Buy', 'Full Buy', 'Semi Buy', 'Full Buy']\n",
            "ence-vs-faze-m4-dust2.dem\n",
            "['Full Eco', 'Semi Buy', 'Full Buy', 'Full Buy', 'Full Buy', 'Full Buy', 'Semi Buy', 'Full Eco', 'Full Buy', 'Full Buy', 'Full Buy', 'Full Buy', 'Full Buy', 'Full Buy', 'Full Buy', 'Full Eco', 'Semi Buy', 'Full Eco', 'Full Buy', 'Full Buy', 'Full Buy', 'Full Buy', 'Full Buy', 'Full Buy', 'Full Buy', 'Full Buy', 'Full Buy', 'Full Buy']\n",
            "['Full Eco', 'Full Buy', 'Full Buy', 'Semi Buy', 'Full Eco', 'Full Buy', 'Semi Buy', 'Full Buy', 'Full Buy', 'Full Buy', 'Full Buy', 'Full Buy', 'Full Buy', 'Full Buy', 'Full Buy', 'Full Eco', 'Full Buy', 'Full Buy', 'Full Buy', 'Full Buy', 'Full Buy', 'Semi Eco', 'Full Buy', 'Full Buy', 'Full Buy', 'Semi Eco', 'Full Eco', 'Full Buy', 'Full Eco', 'Full Buy', 'Full Buy', 'Full Buy', 'Full Buy', 'Full Buy', 'Full Buy', 'Full Eco', 'Full Buy', 'Full Buy', 'Full Buy', 'Full Buy', 'Full Buy', 'Full Buy', 'Full Buy', 'Full Eco', 'Semi Buy', 'Semi Eco', 'Full Buy', 'Full Buy', 'Semi Buy', 'Full Eco', 'Semi Eco', 'Full Eco', 'Full Buy', 'Full Buy', 'Full Buy', 'Full Eco', 'Full Buy', 'Semi Eco', 'Full Buy', 'Full Buy', 'Full Buy', 'Full Buy', 'Full Buy', 'Full Buy', 'Full Eco', 'Semi Eco', 'Semi Eco', 'Full Buy', 'Full Buy', 'Full Buy', 'Full Buy', 'Full Buy', 'Full Buy', 'Full Buy', 'Full Eco', 'Full Buy', 'Full Buy', 'Semi Buy', 'Full Buy', 'Full Eco', 'Semi Buy', 'Full Buy', 'Full Buy', 'Full Buy', 'Full Buy', 'Semi Buy', 'Full Eco', 'Full Buy', 'Full Buy', 'Full Buy', 'Full Buy', 'Full Buy', 'Full Buy', 'Full Buy', 'Full Eco', 'Semi Buy', 'Full Eco', 'Full Buy', 'Full Buy', 'Full Buy', 'Full Buy', 'Full Buy', 'Full Buy', 'Full Buy', 'Full Buy', 'Full Buy', 'Full Buy']\n",
            "forze-vs-outsiders-m1-dust2.dem\n",
            "['Full Eco', 'Full Buy', 'Full Buy', 'Full Buy', 'Full Buy', 'Full Buy', 'Full Buy', 'Full Buy', 'Full Buy', 'Full Buy', 'Full Buy', 'Full Buy', 'Full Buy', 'Full Buy', 'Full Buy', 'Full Eco', 'Full Buy', 'Full Buy', 'Full Buy', 'Full Buy', 'Full Buy', 'Full Buy', 'Full Buy', 'Full Buy', 'Full Buy', 'Full Buy', 'Full Buy', 'Full Buy']\n",
            "['Full Eco', 'Full Buy', 'Full Buy', 'Semi Buy', 'Full Eco', 'Full Buy', 'Semi Buy', 'Full Buy', 'Full Buy', 'Full Buy', 'Full Buy', 'Full Buy', 'Full Buy', 'Full Buy', 'Full Buy', 'Full Eco', 'Full Buy', 'Full Buy', 'Full Buy', 'Full Buy', 'Full Buy', 'Semi Eco', 'Full Buy', 'Full Buy', 'Full Buy', 'Semi Eco', 'Full Eco', 'Full Buy', 'Full Eco', 'Full Buy', 'Full Buy', 'Full Buy', 'Full Buy', 'Full Buy', 'Full Buy', 'Full Eco', 'Full Buy', 'Full Buy', 'Full Buy', 'Full Buy', 'Full Buy', 'Full Buy', 'Full Buy', 'Full Eco', 'Semi Buy', 'Semi Eco', 'Full Buy', 'Full Buy', 'Semi Buy', 'Full Eco', 'Semi Eco', 'Full Eco', 'Full Buy', 'Full Buy', 'Full Buy', 'Full Eco', 'Full Buy', 'Semi Eco', 'Full Buy', 'Full Buy', 'Full Buy', 'Full Buy', 'Full Buy', 'Full Buy', 'Full Eco', 'Semi Eco', 'Semi Eco', 'Full Buy', 'Full Buy', 'Full Buy', 'Full Buy', 'Full Buy', 'Full Buy', 'Full Buy', 'Full Eco', 'Full Buy', 'Full Buy', 'Semi Buy', 'Full Buy', 'Full Eco', 'Semi Buy', 'Full Buy', 'Full Buy', 'Full Buy', 'Full Buy', 'Semi Buy', 'Full Eco', 'Full Buy', 'Full Buy', 'Full Buy', 'Full Buy', 'Full Buy', 'Full Buy', 'Full Buy', 'Full Eco', 'Semi Buy', 'Full Eco', 'Full Buy', 'Full Buy', 'Full Buy', 'Full Buy', 'Full Buy', 'Full Buy', 'Full Buy', 'Full Buy', 'Full Buy', 'Full Buy', 'Full Eco', 'Full Buy', 'Full Buy', 'Full Buy', 'Full Buy', 'Full Buy', 'Full Buy', 'Full Buy', 'Full Buy', 'Full Buy', 'Full Buy', 'Full Buy', 'Full Buy', 'Full Buy', 'Full Buy', 'Full Eco', 'Full Buy', 'Full Buy', 'Full Buy', 'Full Buy', 'Full Buy', 'Full Buy', 'Full Buy', 'Full Buy', 'Full Buy', 'Full Buy', 'Full Buy', 'Full Buy']\n",
            "vitality-vs-liquid-m2-dust2.dem\n",
            "['Full Eco', 'Full Buy', 'Full Buy', 'Semi Eco', 'Full Buy', 'Full Buy', 'Semi Eco', 'Full Buy', 'Full Buy', 'Full Buy', 'Full Buy', 'Full Buy', 'Semi Eco', 'Full Buy', 'Full Buy', 'Full Eco', 'Semi Buy', 'Full Buy', 'Full Buy', 'Full Buy', 'Full Buy', 'Full Eco', 'Full Buy', 'Full Buy', 'Full Buy', 'Full Buy', 'Full Buy']\n",
            "['Full Eco', 'Full Buy', 'Full Buy', 'Semi Buy', 'Full Eco', 'Full Buy', 'Semi Buy', 'Full Buy', 'Full Buy', 'Full Buy', 'Full Buy', 'Full Buy', 'Full Buy', 'Full Buy', 'Full Buy', 'Full Eco', 'Full Buy', 'Full Buy', 'Full Buy', 'Full Buy', 'Full Buy', 'Semi Eco', 'Full Buy', 'Full Buy', 'Full Buy', 'Semi Eco', 'Full Eco', 'Full Buy', 'Full Eco', 'Full Buy', 'Full Buy', 'Full Buy', 'Full Buy', 'Full Buy', 'Full Buy', 'Full Eco', 'Full Buy', 'Full Buy', 'Full Buy', 'Full Buy', 'Full Buy', 'Full Buy', 'Full Buy', 'Full Eco', 'Semi Buy', 'Semi Eco', 'Full Buy', 'Full Buy', 'Semi Buy', 'Full Eco', 'Semi Eco', 'Full Eco', 'Full Buy', 'Full Buy', 'Full Buy', 'Full Eco', 'Full Buy', 'Semi Eco', 'Full Buy', 'Full Buy', 'Full Buy', 'Full Buy', 'Full Buy', 'Full Buy', 'Full Eco', 'Semi Eco', 'Semi Eco', 'Full Buy', 'Full Buy', 'Full Buy', 'Full Buy', 'Full Buy', 'Full Buy', 'Full Buy', 'Full Eco', 'Full Buy', 'Full Buy', 'Semi Buy', 'Full Buy', 'Full Eco', 'Semi Buy', 'Full Buy', 'Full Buy', 'Full Buy', 'Full Buy', 'Semi Buy', 'Full Eco', 'Full Buy', 'Full Buy', 'Full Buy', 'Full Buy', 'Full Buy', 'Full Buy', 'Full Buy', 'Full Eco', 'Semi Buy', 'Full Eco', 'Full Buy', 'Full Buy', 'Full Buy', 'Full Buy', 'Full Buy', 'Full Buy', 'Full Buy', 'Full Buy', 'Full Buy', 'Full Buy', 'Full Eco', 'Full Buy', 'Full Buy', 'Full Buy', 'Full Buy', 'Full Buy', 'Full Buy', 'Full Buy', 'Full Buy', 'Full Buy', 'Full Buy', 'Full Buy', 'Full Buy', 'Full Buy', 'Full Buy', 'Full Eco', 'Full Buy', 'Full Buy', 'Full Buy', 'Full Buy', 'Full Buy', 'Full Buy', 'Full Buy', 'Full Buy', 'Full Buy', 'Full Buy', 'Full Buy', 'Full Buy', 'Full Eco', 'Full Buy', 'Full Buy', 'Semi Eco', 'Full Buy', 'Full Buy', 'Semi Eco', 'Full Buy', 'Full Buy', 'Full Buy', 'Full Buy', 'Full Buy', 'Semi Eco', 'Full Buy', 'Full Buy', 'Full Eco', 'Semi Buy', 'Full Buy', 'Full Buy', 'Full Buy', 'Full Buy', 'Full Eco', 'Full Buy', 'Full Buy', 'Full Buy', 'Full Buy', 'Full Buy']\n",
            "faze-vs-spirit-m2-dust2.dem\n",
            "['Full Eco', 'Full Buy', 'Full Buy', 'Semi Buy', 'Full Buy', 'Full Buy', 'Full Buy', 'Full Buy', 'Full Buy', 'Full Buy', 'Full Buy', 'Full Buy', 'Full Eco', 'Full Buy', 'Full Buy', 'Full Eco', 'Full Buy', 'Full Buy', 'Semi Eco', 'Full Buy', 'Full Buy', 'Full Buy', 'Full Buy', 'Full Buy', 'Full Buy', 'Full Buy', 'Full Buy', 'Full Buy', 'Full Buy', 'Semi Buy', 'Full Buy', 'Full Buy', 'Full Buy', 'Full Buy', 'Full Buy', 'Full Buy', 'Full Buy', 'Full Buy', 'Full Buy', 'Full Buy', 'Full Buy', 'Full Buy', 'Full Buy', 'Full Buy', 'Full Buy', 'Full Buy', 'Full Buy', 'Full Buy']\n",
            "['Full Eco', 'Full Buy', 'Full Buy', 'Semi Buy', 'Full Eco', 'Full Buy', 'Semi Buy', 'Full Buy', 'Full Buy', 'Full Buy', 'Full Buy', 'Full Buy', 'Full Buy', 'Full Buy', 'Full Buy', 'Full Eco', 'Full Buy', 'Full Buy', 'Full Buy', 'Full Buy', 'Full Buy', 'Semi Eco', 'Full Buy', 'Full Buy', 'Full Buy', 'Semi Eco', 'Full Eco', 'Full Buy', 'Full Eco', 'Full Buy', 'Full Buy', 'Full Buy', 'Full Buy', 'Full Buy', 'Full Buy', 'Full Eco', 'Full Buy', 'Full Buy', 'Full Buy', 'Full Buy', 'Full Buy', 'Full Buy', 'Full Buy', 'Full Eco', 'Semi Buy', 'Semi Eco', 'Full Buy', 'Full Buy', 'Semi Buy', 'Full Eco', 'Semi Eco', 'Full Eco', 'Full Buy', 'Full Buy', 'Full Buy', 'Full Eco', 'Full Buy', 'Semi Eco', 'Full Buy', 'Full Buy', 'Full Buy', 'Full Buy', 'Full Buy', 'Full Buy', 'Full Eco', 'Semi Eco', 'Semi Eco', 'Full Buy', 'Full Buy', 'Full Buy', 'Full Buy', 'Full Buy', 'Full Buy', 'Full Buy', 'Full Eco', 'Full Buy', 'Full Buy', 'Semi Buy', 'Full Buy', 'Full Eco', 'Semi Buy', 'Full Buy', 'Full Buy', 'Full Buy', 'Full Buy', 'Semi Buy', 'Full Eco', 'Full Buy', 'Full Buy', 'Full Buy', 'Full Buy', 'Full Buy', 'Full Buy', 'Full Buy', 'Full Eco', 'Semi Buy', 'Full Eco', 'Full Buy', 'Full Buy', 'Full Buy', 'Full Buy', 'Full Buy', 'Full Buy', 'Full Buy', 'Full Buy', 'Full Buy', 'Full Buy', 'Full Eco', 'Full Buy', 'Full Buy', 'Full Buy', 'Full Buy', 'Full Buy', 'Full Buy', 'Full Buy', 'Full Buy', 'Full Buy', 'Full Buy', 'Full Buy', 'Full Buy', 'Full Buy', 'Full Buy', 'Full Eco', 'Full Buy', 'Full Buy', 'Full Buy', 'Full Buy', 'Full Buy', 'Full Buy', 'Full Buy', 'Full Buy', 'Full Buy', 'Full Buy', 'Full Buy', 'Full Buy', 'Full Eco', 'Full Buy', 'Full Buy', 'Semi Eco', 'Full Buy', 'Full Buy', 'Semi Eco', 'Full Buy', 'Full Buy', 'Full Buy', 'Full Buy', 'Full Buy', 'Semi Eco', 'Full Buy', 'Full Buy', 'Full Eco', 'Semi Buy', 'Full Buy', 'Full Buy', 'Full Buy', 'Full Buy', 'Full Eco', 'Full Buy', 'Full Buy', 'Full Buy', 'Full Buy', 'Full Buy', 'Full Eco', 'Full Buy', 'Full Buy', 'Semi Buy', 'Full Buy', 'Full Buy', 'Full Buy', 'Full Buy', 'Full Buy', 'Full Buy', 'Full Buy', 'Full Buy', 'Full Eco', 'Full Buy', 'Full Buy', 'Full Eco', 'Full Buy', 'Full Buy', 'Semi Eco', 'Full Buy', 'Full Buy', 'Full Buy', 'Full Buy', 'Full Buy', 'Full Buy', 'Full Buy', 'Full Buy', 'Full Buy', 'Full Buy', 'Semi Buy', 'Full Buy', 'Full Buy', 'Full Buy', 'Full Buy', 'Full Buy', 'Full Buy', 'Full Buy', 'Full Buy', 'Full Buy', 'Full Buy', 'Full Buy', 'Full Buy', 'Full Buy', 'Full Buy', 'Full Buy', 'Full Buy', 'Full Buy', 'Full Buy']\n",
            "ence-vs-natus-vincere-m2-dust2.dem\n",
            "['Full Eco', 'Full Buy', 'Full Buy', 'Full Buy', 'Full Buy', 'Semi Eco', 'Full Buy', 'Full Buy', 'Full Eco', 'Full Buy', 'Full Buy', 'Full Buy', 'Semi Buy', 'Full Eco', 'Full Buy', 'Full Eco', 'Semi Buy', 'Full Buy', 'Full Buy', 'Full Buy', 'Full Buy', 'Full Buy', 'Full Buy', 'Semi Eco', 'Full Eco', 'Full Buy', 'Full Buy', 'Full Buy']\n",
            "['Full Eco', 'Full Buy', 'Full Buy', 'Semi Buy', 'Full Eco', 'Full Buy', 'Semi Buy', 'Full Buy', 'Full Buy', 'Full Buy', 'Full Buy', 'Full Buy', 'Full Buy', 'Full Buy', 'Full Buy', 'Full Eco', 'Full Buy', 'Full Buy', 'Full Buy', 'Full Buy', 'Full Buy', 'Semi Eco', 'Full Buy', 'Full Buy', 'Full Buy', 'Semi Eco', 'Full Eco', 'Full Buy', 'Full Eco', 'Full Buy', 'Full Buy', 'Full Buy', 'Full Buy', 'Full Buy', 'Full Buy', 'Full Eco', 'Full Buy', 'Full Buy', 'Full Buy', 'Full Buy', 'Full Buy', 'Full Buy', 'Full Buy', 'Full Eco', 'Semi Buy', 'Semi Eco', 'Full Buy', 'Full Buy', 'Semi Buy', 'Full Eco', 'Semi Eco', 'Full Eco', 'Full Buy', 'Full Buy', 'Full Buy', 'Full Eco', 'Full Buy', 'Semi Eco', 'Full Buy', 'Full Buy', 'Full Buy', 'Full Buy', 'Full Buy', 'Full Buy', 'Full Eco', 'Semi Eco', 'Semi Eco', 'Full Buy', 'Full Buy', 'Full Buy', 'Full Buy', 'Full Buy', 'Full Buy', 'Full Buy', 'Full Eco', 'Full Buy', 'Full Buy', 'Semi Buy', 'Full Buy', 'Full Eco', 'Semi Buy', 'Full Buy', 'Full Buy', 'Full Buy', 'Full Buy', 'Semi Buy', 'Full Eco', 'Full Buy', 'Full Buy', 'Full Buy', 'Full Buy', 'Full Buy', 'Full Buy', 'Full Buy', 'Full Eco', 'Semi Buy', 'Full Eco', 'Full Buy', 'Full Buy', 'Full Buy', 'Full Buy', 'Full Buy', 'Full Buy', 'Full Buy', 'Full Buy', 'Full Buy', 'Full Buy', 'Full Eco', 'Full Buy', 'Full Buy', 'Full Buy', 'Full Buy', 'Full Buy', 'Full Buy', 'Full Buy', 'Full Buy', 'Full Buy', 'Full Buy', 'Full Buy', 'Full Buy', 'Full Buy', 'Full Buy', 'Full Eco', 'Full Buy', 'Full Buy', 'Full Buy', 'Full Buy', 'Full Buy', 'Full Buy', 'Full Buy', 'Full Buy', 'Full Buy', 'Full Buy', 'Full Buy', 'Full Buy', 'Full Eco', 'Full Buy', 'Full Buy', 'Semi Eco', 'Full Buy', 'Full Buy', 'Semi Eco', 'Full Buy', 'Full Buy', 'Full Buy', 'Full Buy', 'Full Buy', 'Semi Eco', 'Full Buy', 'Full Buy', 'Full Eco', 'Semi Buy', 'Full Buy', 'Full Buy', 'Full Buy', 'Full Buy', 'Full Eco', 'Full Buy', 'Full Buy', 'Full Buy', 'Full Buy', 'Full Buy', 'Full Eco', 'Full Buy', 'Full Buy', 'Semi Buy', 'Full Buy', 'Full Buy', 'Full Buy', 'Full Buy', 'Full Buy', 'Full Buy', 'Full Buy', 'Full Buy', 'Full Eco', 'Full Buy', 'Full Buy', 'Full Eco', 'Full Buy', 'Full Buy', 'Semi Eco', 'Full Buy', 'Full Buy', 'Full Buy', 'Full Buy', 'Full Buy', 'Full Buy', 'Full Buy', 'Full Buy', 'Full Buy', 'Full Buy', 'Semi Buy', 'Full Buy', 'Full Buy', 'Full Buy', 'Full Buy', 'Full Buy', 'Full Buy', 'Full Buy', 'Full Buy', 'Full Buy', 'Full Buy', 'Full Buy', 'Full Buy', 'Full Buy', 'Full Buy', 'Full Buy', 'Full Buy', 'Full Buy', 'Full Buy', 'Full Eco', 'Full Buy', 'Full Buy', 'Full Buy', 'Full Buy', 'Semi Eco', 'Full Buy', 'Full Buy', 'Full Eco', 'Full Buy', 'Full Buy', 'Full Buy', 'Semi Buy', 'Full Eco', 'Full Buy', 'Full Eco', 'Semi Buy', 'Full Buy', 'Full Buy', 'Full Buy', 'Full Buy', 'Full Buy', 'Full Buy', 'Semi Eco', 'Full Eco', 'Full Buy', 'Full Buy', 'Full Buy']\n"
          ]
        }
      ]
    },
    {
      "cell_type": "markdown",
      "source": [
        "#Buy Decision - Prepocessing"
      ],
      "metadata": {
        "id": "N9v0mJeCTHCK"
      }
    },
    {
      "cell_type": "code",
      "source": [
        "#Aufteilung des großen DF in 16 kleine\n",
        "#Werte der T-Seite\n",
        "\n",
        "pi_F_B_F_B = Buy_Dec[(Buy_Dec['T-Buy'] == \"Full Buy\") & (Buy_Dec['CT-Buy'] == \"Full Buy\") & (Buy_Dec['Winner'] == \"T\")]\n",
        "pi_F_B_S_B = Buy_Dec[(Buy_Dec['T-Buy'] == \"Full Buy\") & (Buy_Dec['CT-Buy'] == \"Semi Buy\") & (Buy_Dec['Winner'] == \"T\")]\n",
        "pi_F_B_F_E = Buy_Dec[(Buy_Dec['T-Buy'] == \"Full Buy\") & (Buy_Dec['CT-Buy'] == \"Full Eco\") & (Buy_Dec['Winner'] == \"T\")]\n",
        "pi_F_B_S_E = Buy_Dec[(Buy_Dec['T-Buy'] == \"Full Buy\") & (Buy_Dec['CT-Buy'] == \"Semi Eco\") & (Buy_Dec['Winner'] == \"T\")]\n",
        "pi_S_B_F_B = Buy_Dec[(Buy_Dec['T-Buy'] == \"Semi Buy\") & (Buy_Dec['CT-Buy'] == \"Full Buy\") & (Buy_Dec['Winner'] == \"T\")]\n",
        "pi_S_B_S_B = Buy_Dec[(Buy_Dec['T-Buy'] == \"Semi Buy\") & (Buy_Dec['CT-Buy'] == \"Semi Buy\") & (Buy_Dec['Winner'] == \"T\")]\n",
        "pi_S_B_F_E = Buy_Dec[(Buy_Dec['T-Buy'] == \"Semi Buy\") & (Buy_Dec['CT-Buy'] == \"Full Eco\") & (Buy_Dec['Winner'] == \"T\")]\n",
        "pi_S_B_S_E = Buy_Dec[(Buy_Dec['T-Buy'] == \"Semi Buy\") & (Buy_Dec['CT-Buy'] == \"Semi Eco\") & (Buy_Dec['Winner'] == \"T\")]\n",
        "pi_F_E_F_B = Buy_Dec[(Buy_Dec['T-Buy'] == \"Full Eco\") & (Buy_Dec['CT-Buy'] == \"Full Buy\") & (Buy_Dec['Winner'] == \"T\")]\n",
        "pi_F_E_S_B = Buy_Dec[(Buy_Dec['T-Buy'] == \"Full Eco\") & (Buy_Dec['CT-Buy'] == \"Semi Buy\") & (Buy_Dec['Winner'] == \"T\")]\n",
        "pi_F_E_F_E = Buy_Dec[(Buy_Dec['T-Buy'] == \"Full Eco\") & (Buy_Dec['CT-Buy'] == \"Full Eco\") & (Buy_Dec['Winner'] == \"T\")]\n",
        "pi_F_E_S_E = Buy_Dec[(Buy_Dec['T-Buy'] == \"Full Eco\") & (Buy_Dec['CT-Buy'] == \"Semi Eco\") & (Buy_Dec['Winner'] == \"T\")]\n",
        "pi_S_E_F_B = Buy_Dec[(Buy_Dec['T-Buy'] == \"Semi Eco\") & (Buy_Dec['CT-Buy'] == \"Full Buy\") & (Buy_Dec['Winner'] == \"T\")]\n",
        "pi_S_E_S_B = Buy_Dec[(Buy_Dec['T-Buy'] == \"Semi Eco\") & (Buy_Dec['CT-Buy'] == \"Semi Buy\") & (Buy_Dec['Winner'] == \"T\")]\n",
        "pi_S_E_F_E = Buy_Dec[(Buy_Dec['T-Buy'] == \"Semi Eco\") & (Buy_Dec['CT-Buy'] == \"Full Eco\") & (Buy_Dec['Winner'] == \"T\")]\n",
        "pi_S_E_S_E = Buy_Dec[(Buy_Dec['T-Buy'] == \"Semi Eco\") & (Buy_Dec['CT-Buy'] == \"Semi Eco\") & (Buy_Dec['Winner'] == \"T\")]"
      ],
      "metadata": {
        "id": "LDjGcq4cX_ln"
      },
      "execution_count": null,
      "outputs": []
    },
    {
      "cell_type": "code",
      "source": [
        "#Werte der CT-Seite\n",
        "CT_pi_F_B_F_B = Buy_Dec[(Buy_Dec['T-Buy'] == \"Full Buy\") & (Buy_Dec['CT-Buy'] == \"Full Buy\") & (Buy_Dec['Winner'] == \"CT\")]\n",
        "CT_pi_F_B_S_B = Buy_Dec[(Buy_Dec['T-Buy'] == \"Full Buy\") & (Buy_Dec['CT-Buy'] == \"Semi Buy\") & (Buy_Dec['Winner'] == \"CT\")]\n",
        "CT_pi_F_B_F_E = Buy_Dec[(Buy_Dec['T-Buy'] == \"Full Buy\") & (Buy_Dec['CT-Buy'] == \"Full Eco\") & (Buy_Dec['Winner'] == \"CT\")]\n",
        "CT_pi_F_B_S_E = Buy_Dec[(Buy_Dec['T-Buy'] == \"Full Buy\") & (Buy_Dec['CT-Buy'] == \"Semi Eco\") & (Buy_Dec['Winner'] == \"CT\")]\n",
        "CT_pi_S_B_F_B = Buy_Dec[(Buy_Dec['T-Buy'] == \"Semi Buy\") & (Buy_Dec['CT-Buy'] == \"Full Buy\") & (Buy_Dec['Winner'] == \"CT\")]\n",
        "CT_pi_S_B_S_B = Buy_Dec[(Buy_Dec['T-Buy'] == \"Semi Buy\") & (Buy_Dec['CT-Buy'] == \"Semi Buy\") & (Buy_Dec['Winner'] == \"CT\")]\n",
        "CT_pi_S_B_F_E = Buy_Dec[(Buy_Dec['T-Buy'] == \"Semi Buy\") & (Buy_Dec['CT-Buy'] == \"Full Eco\") & (Buy_Dec['Winner'] == \"CT\")]\n",
        "CT_pi_S_B_S_E = Buy_Dec[(Buy_Dec['T-Buy'] == \"Semi Buy\") & (Buy_Dec['CT-Buy'] == \"Semi Eco\") & (Buy_Dec['Winner'] == \"CT\")]\n",
        "CT_pi_F_E_F_B = Buy_Dec[(Buy_Dec['T-Buy'] == \"Full Eco\") & (Buy_Dec['CT-Buy'] == \"Full Buy\") & (Buy_Dec['Winner'] == \"CT\")]\n",
        "CT_pi_F_E_S_B = Buy_Dec[(Buy_Dec['T-Buy'] == \"Full Eco\") & (Buy_Dec['CT-Buy'] == \"Semi Buy\") & (Buy_Dec['Winner'] == \"CT\")]\n",
        "CT_pi_F_E_F_E = Buy_Dec[(Buy_Dec['T-Buy'] == \"Full Eco\") & (Buy_Dec['CT-Buy'] == \"Full Eco\") & (Buy_Dec['Winner'] == \"CT\")]\n",
        "CT_pi_F_E_S_E = Buy_Dec[(Buy_Dec['T-Buy'] == \"Full Eco\") & (Buy_Dec['CT-Buy'] == \"Semi Eco\") & (Buy_Dec['Winner'] == \"CT\")]\n",
        "CT_pi_S_E_F_B = Buy_Dec[(Buy_Dec['T-Buy'] == \"Semi Eco\") & (Buy_Dec['CT-Buy'] == \"Full Buy\") & (Buy_Dec['Winner'] == \"CT\")]\n",
        "CT_pi_S_E_S_B = Buy_Dec[(Buy_Dec['T-Buy'] == \"Semi Eco\") & (Buy_Dec['CT-Buy'] == \"Semi Buy\") & (Buy_Dec['Winner'] == \"CT\")]\n",
        "CT_pi_S_E_F_E = Buy_Dec[(Buy_Dec['T-Buy'] == \"Semi Eco\") & (Buy_Dec['CT-Buy'] == \"Full Eco\") & (Buy_Dec['Winner'] == \"CT\")]\n",
        "CT_pi_S_E_S_E = Buy_Dec[(Buy_Dec['T-Buy'] == \"Semi Eco\") & (Buy_Dec['CT-Buy'] == \"Semi Eco\") & (Buy_Dec['Winner'] == \"CT\")]"
      ],
      "metadata": {
        "id": "hzeAgKOaX_71"
      },
      "execution_count": null,
      "outputs": []
    },
    {
      "cell_type": "code",
      "source": [
        "#Gesamtzahl der Ereignisse\n",
        "\n",
        "full_pi_F_B_F_B = pi_F_B_F_B.shape[0] + CT_pi_F_B_F_B.shape[0]\n",
        "full_pi_F_B_S_B = pi_F_B_S_B.shape[0] + CT_pi_F_B_S_B.shape[0]\n",
        "full_pi_F_B_F_E = pi_F_B_F_E.shape[0] + CT_pi_F_B_F_E.shape[0]\n",
        "full_pi_F_B_S_E = pi_F_B_S_E.shape[0] + CT_pi_F_B_S_E.shape[0]\n",
        "full_pi_S_B_F_B = pi_S_B_F_B.shape[0] + CT_pi_S_B_F_B.shape[0]\n",
        "full_pi_S_B_S_B = pi_S_B_S_B.shape[0] + CT_pi_S_B_S_B.shape[0]\n",
        "full_pi_S_B_F_E = pi_S_B_F_E.shape[0] + CT_pi_S_B_F_E.shape[0]\n",
        "full_pi_S_B_S_E = pi_S_B_S_E.shape[0] + CT_pi_S_B_S_E.shape[0]\n",
        "full_pi_F_E_F_B = pi_F_E_F_B.shape[0] + CT_pi_F_E_F_B.shape[0]\n",
        "full_pi_F_E_S_B = pi_F_E_S_B.shape[0] + CT_pi_F_E_S_B.shape[0]\n",
        "full_pi_F_E_F_E = pi_F_E_F_E.shape[0] + CT_pi_F_E_F_E.shape[0]\n",
        "full_pi_F_E_S_E = pi_F_E_S_E.shape[0] + CT_pi_F_E_S_E.shape[0]\n",
        "full_pi_S_E_F_B = pi_S_E_F_B.shape[0] + CT_pi_S_E_F_B.shape[0]\n",
        "full_pi_S_E_S_B = pi_S_E_S_B.shape[0] + CT_pi_S_E_S_B.shape[0]\n",
        "full_pi_S_E_F_E = pi_S_E_F_E.shape[0] + CT_pi_S_E_F_E.shape[0]\n",
        "full_pi_S_E_S_E = pi_S_E_S_E.shape[0] + CT_pi_S_E_S_E.shape[0]\n",
        "\n",
        "\n",
        "#Setze alle 0 Werte auf 1, damit Berechnung der Gewinnwahrscheinlichkeit nicht auf Fehler läuft\n",
        "#Wird nur zum dividieren benötigt\n",
        "\n",
        "if full_pi_F_B_F_B == 0:\n",
        "  full_pi_F_B_F_B = 1\n",
        "else:\n",
        "  full_pi_F_B_F_B = full_pi_F_B_F_B\n",
        "\n",
        "if full_pi_F_B_S_B == 0:\n",
        "  full_pi_F_B_S_B = 1\n",
        "else:\n",
        "  full_pi_F_B_S_B = full_pi_F_B_S_B\n",
        "\n",
        "if full_pi_F_B_F_E == 0:\n",
        "  full_pi_F_B_F_E = 1\n",
        "else:\n",
        "  full_pi_F_B_F_E = full_pi_F_B_F_E\n",
        "\n",
        "if full_pi_F_B_S_E == 0:\n",
        "  full_pi_F_B_S_E = 1\n",
        "else:\n",
        "  full_pi_F_B_S_E = full_pi_F_B_S_E\n",
        "\n",
        "if full_pi_S_B_F_B == 0:\n",
        "  full_pi_S_B_F_B = 1\n",
        "else:\n",
        "  full_pi_S_B_F_B = full_pi_S_B_F_B\n",
        "\n",
        "if full_pi_S_B_S_B == 0:\n",
        "  full_pi_S_B_S_B = 1\n",
        "else:\n",
        "  full_pi_S_B_S_B = full_pi_S_B_S_B\n",
        "\n",
        "if full_pi_S_B_F_E == 0:\n",
        "  full_pi_S_B_F_E = 1\n",
        "else:\n",
        "  full_pi_S_B_F_E = full_pi_S_B_F_E\n",
        "\n",
        "if full_pi_S_B_S_E == 0:\n",
        "  full_pi_S_B_S_E = 1\n",
        "else:\n",
        "  full_pi_S_B_S_E = full_pi_S_B_S_E\n",
        "\n",
        "if full_pi_F_E_F_B == 0:\n",
        "  full_pi_F_E_F_B = 1\n",
        "else:\n",
        "  full_pi_F_E_F_B = full_pi_F_E_F_B\n",
        "\n",
        "if full_pi_F_E_S_B == 0:\n",
        "  full_pi_F_E_S_B = 1\n",
        "else:\n",
        "  full_pi_F_E_S_B = full_pi_F_E_S_B\n",
        "\n",
        "if full_pi_F_E_F_E == 0:\n",
        "  full_pi_F_E_F_E = 1\n",
        "else:\n",
        "  full_pi_F_E_F_E = full_pi_F_E_F_E\n",
        "\n",
        "if full_pi_F_E_S_E == 0:\n",
        "  full_pi_F_E_S_E = 1\n",
        "else:\n",
        "  full_pi_F_E_S_E = full_pi_F_E_S_E\n",
        "\n",
        "if full_pi_S_E_F_B == 0:\n",
        "  full_pi_S_E_F_B = 1\n",
        "else:\n",
        "  full_pi_S_E_F_B = full_pi_S_E_F_B\n",
        "\n",
        "if full_pi_S_E_S_B == 0:\n",
        "  full_pi_S_E_S_B = 1\n",
        "else:\n",
        "  full_pi_S_E_S_B = full_pi_S_E_S_B\n",
        "\n",
        "if full_pi_S_E_F_E == 0:\n",
        "  full_pi_S_E_F_E = 1\n",
        "else:\n",
        "  full_pi_S_E_F_E = full_pi_S_E_F_E\n",
        "\n",
        "if full_pi_S_E_S_E == 0:\n",
        "  full_pi_S_E_S_E = 1\n",
        "else:\n",
        "  full_pi_S_E_S_E = full_pi_S_E_S_E"
      ],
      "metadata": {
        "id": "KZaftjNcjJgm"
      },
      "execution_count": null,
      "outputs": []
    },
    {
      "cell_type": "markdown",
      "source": [
        "#Buy Decision - Tabellen"
      ],
      "metadata": {
        "id": "qqHBnmocpqYk"
      }
    },
    {
      "cell_type": "code",
      "source": [
        "headerColor = 'grey'\n",
        "rowEvenColor = 'lightgrey'\n",
        "rowOddColor = 'white'\n",
        "\n",
        "fig = go.Figure(data=[go.Table(\n",
        "  header=dict(\n",
        "    values=['<b> </b>','<b>Full Buy</b>','<b>Semi Buy</b>','<b>Full Eco</b>','<b>Semi Eco</b>',\"Summe\"],\n",
        "    line_color='darkslategray',\n",
        "    fill_color=headerColor,\n",
        "    align=['left','center'],\n",
        "    font=dict(color='white', size=12)\n",
        "  ),\n",
        "  cells=dict(\n",
        "    values=[\n",
        "      ['Full Buy', 'Semi Buy', 'Full Eco', 'Semi Eco', \"Summe\"],\n",
        "      [pi_F_B_F_B.shape[0], pi_S_B_F_B.shape[0], pi_F_E_F_B.shape[0], pi_S_E_F_B.shape[0], sum([pi_F_B_F_B.shape[0], pi_S_B_F_B.shape[0], pi_F_E_F_B.shape[0], pi_S_E_F_B.shape[0]])],\n",
        "      [pi_F_B_S_B.shape[0], pi_S_B_S_B.shape[0], pi_F_E_S_B.shape[0], pi_S_E_S_B.shape[0], sum([pi_F_B_S_B.shape[0], pi_S_B_S_B.shape[0], pi_F_E_S_B.shape[0], pi_S_E_S_B.shape[0]])],\n",
        "      [pi_F_B_F_E.shape[0], pi_S_B_F_E.shape[0], pi_F_E_F_E.shape[0], pi_S_E_F_E.shape[0], sum([pi_F_B_F_E.shape[0], pi_S_B_F_E.shape[0], pi_F_E_F_E.shape[0], pi_S_E_F_E.shape[0]])],\n",
        "      [pi_F_B_S_E.shape[0], pi_S_B_S_E.shape[0], pi_F_E_S_E.shape[0], pi_S_E_S_E.shape[0], sum([pi_F_B_S_E.shape[0], pi_S_B_S_E.shape[0], pi_F_E_S_E.shape[0], pi_S_E_S_E.shape[0]])]],\n",
        "      #[sum([pi_F_B_F_B, pi_F_B_S_B, pi_F_B_F_E, pi_F_B_S_E]), sum([pi_S_B_F_B, pi_S_B_S_B, pi_S_B_F_E, pi_S_B_S_E]), \n",
        "       #sum([pi_F_E_F_B, pi_F_E_S_B, pi_F_E_F_E, pi_F_E_S_E]), sum([pi_S_E_F_B, pi_S_E_S_B, pi_S_E_F_E, pi_S_E_S_E])]],\n",
        "    line_color='darkslategray',\n",
        "    # 2-D list of colors for alternating rows\n",
        "    fill_color = [[rowOddColor,rowEvenColor,rowOddColor, rowEvenColor,rowOddColor]*5],\n",
        "    align = ['left', 'center'],\n",
        "    font = dict(color = 'darkslategray', size = 11)\n",
        "    ))\n",
        "])\n",
        "\n",
        "print(\"Siege der T Seite\")\n",
        "fig.show()"
      ],
      "metadata": {
        "id": "fQ3fyS1dKWxz",
        "outputId": "4d5591e9-7558-4405-b450-f32f5e6b96fc",
        "colab": {
          "base_uri": "https://localhost:8080/",
          "height": 560
        }
      },
      "execution_count": null,
      "outputs": [
        {
          "output_type": "stream",
          "name": "stdout",
          "text": [
            "Siege der T Seite\n"
          ]
        },
        {
          "output_type": "display_data",
          "data": {
            "text/html": [
              "<html>\n",
              "<head><meta charset=\"utf-8\" /></head>\n",
              "<body>\n",
              "    <div>            <script src=\"https://cdnjs.cloudflare.com/ajax/libs/mathjax/2.7.5/MathJax.js?config=TeX-AMS-MML_SVG\"></script><script type=\"text/javascript\">if (window.MathJax) {MathJax.Hub.Config({SVG: {font: \"STIX-Web\"}});}</script>                <script type=\"text/javascript\">window.PlotlyConfig = {MathJaxConfig: 'local'};</script>\n",
              "        <script src=\"https://cdn.plot.ly/plotly-2.8.3.min.js\"></script>                <div id=\"d1dd86dc-90d5-4b51-8f82-78291901d260\" class=\"plotly-graph-div\" style=\"height:525px; width:100%;\"></div>            <script type=\"text/javascript\">                                    window.PLOTLYENV=window.PLOTLYENV || {};                                    if (document.getElementById(\"d1dd86dc-90d5-4b51-8f82-78291901d260\")) {                    Plotly.newPlot(                        \"d1dd86dc-90d5-4b51-8f82-78291901d260\",                        [{\"cells\":{\"align\":[\"left\",\"center\"],\"fill\":{\"color\":[[\"white\",\"lightgrey\",\"white\",\"lightgrey\",\"white\",\"white\",\"lightgrey\",\"white\",\"lightgrey\",\"white\",\"white\",\"lightgrey\",\"white\",\"lightgrey\",\"white\",\"white\",\"lightgrey\",\"white\",\"lightgrey\",\"white\",\"white\",\"lightgrey\",\"white\",\"lightgrey\",\"white\"]]},\"font\":{\"color\":\"darkslategray\",\"size\":11},\"line\":{\"color\":\"darkslategray\"},\"values\":[[\"Full Buy\",\"Semi Buy\",\"Full Eco\",\"Semi Eco\",\"Summe\"],[534,72,10,25,641],[94,24,0,6,124],[103,26,64,3,196],[103,18,0,0,121]]},\"header\":{\"align\":[\"left\",\"center\"],\"fill\":{\"color\":\"grey\"},\"font\":{\"color\":\"white\",\"size\":12},\"line\":{\"color\":\"darkslategray\"},\"values\":[\"<b> </b>\",\"<b>Full Buy</b>\",\"<b>Semi Buy</b>\",\"<b>Full Eco</b>\",\"<b>Semi Eco</b>\",\"Summe\"]},\"type\":\"table\"}],                        {\"template\":{\"data\":{\"bar\":[{\"error_x\":{\"color\":\"#2a3f5f\"},\"error_y\":{\"color\":\"#2a3f5f\"},\"marker\":{\"line\":{\"color\":\"#E5ECF6\",\"width\":0.5},\"pattern\":{\"fillmode\":\"overlay\",\"size\":10,\"solidity\":0.2}},\"type\":\"bar\"}],\"barpolar\":[{\"marker\":{\"line\":{\"color\":\"#E5ECF6\",\"width\":0.5},\"pattern\":{\"fillmode\":\"overlay\",\"size\":10,\"solidity\":0.2}},\"type\":\"barpolar\"}],\"carpet\":[{\"aaxis\":{\"endlinecolor\":\"#2a3f5f\",\"gridcolor\":\"white\",\"linecolor\":\"white\",\"minorgridcolor\":\"white\",\"startlinecolor\":\"#2a3f5f\"},\"baxis\":{\"endlinecolor\":\"#2a3f5f\",\"gridcolor\":\"white\",\"linecolor\":\"white\",\"minorgridcolor\":\"white\",\"startlinecolor\":\"#2a3f5f\"},\"type\":\"carpet\"}],\"choropleth\":[{\"colorbar\":{\"outlinewidth\":0,\"ticks\":\"\"},\"type\":\"choropleth\"}],\"contour\":[{\"colorbar\":{\"outlinewidth\":0,\"ticks\":\"\"},\"colorscale\":[[0.0,\"#0d0887\"],[0.1111111111111111,\"#46039f\"],[0.2222222222222222,\"#7201a8\"],[0.3333333333333333,\"#9c179e\"],[0.4444444444444444,\"#bd3786\"],[0.5555555555555556,\"#d8576b\"],[0.6666666666666666,\"#ed7953\"],[0.7777777777777778,\"#fb9f3a\"],[0.8888888888888888,\"#fdca26\"],[1.0,\"#f0f921\"]],\"type\":\"contour\"}],\"contourcarpet\":[{\"colorbar\":{\"outlinewidth\":0,\"ticks\":\"\"},\"type\":\"contourcarpet\"}],\"heatmap\":[{\"colorbar\":{\"outlinewidth\":0,\"ticks\":\"\"},\"colorscale\":[[0.0,\"#0d0887\"],[0.1111111111111111,\"#46039f\"],[0.2222222222222222,\"#7201a8\"],[0.3333333333333333,\"#9c179e\"],[0.4444444444444444,\"#bd3786\"],[0.5555555555555556,\"#d8576b\"],[0.6666666666666666,\"#ed7953\"],[0.7777777777777778,\"#fb9f3a\"],[0.8888888888888888,\"#fdca26\"],[1.0,\"#f0f921\"]],\"type\":\"heatmap\"}],\"heatmapgl\":[{\"colorbar\":{\"outlinewidth\":0,\"ticks\":\"\"},\"colorscale\":[[0.0,\"#0d0887\"],[0.1111111111111111,\"#46039f\"],[0.2222222222222222,\"#7201a8\"],[0.3333333333333333,\"#9c179e\"],[0.4444444444444444,\"#bd3786\"],[0.5555555555555556,\"#d8576b\"],[0.6666666666666666,\"#ed7953\"],[0.7777777777777778,\"#fb9f3a\"],[0.8888888888888888,\"#fdca26\"],[1.0,\"#f0f921\"]],\"type\":\"heatmapgl\"}],\"histogram\":[{\"marker\":{\"pattern\":{\"fillmode\":\"overlay\",\"size\":10,\"solidity\":0.2}},\"type\":\"histogram\"}],\"histogram2d\":[{\"colorbar\":{\"outlinewidth\":0,\"ticks\":\"\"},\"colorscale\":[[0.0,\"#0d0887\"],[0.1111111111111111,\"#46039f\"],[0.2222222222222222,\"#7201a8\"],[0.3333333333333333,\"#9c179e\"],[0.4444444444444444,\"#bd3786\"],[0.5555555555555556,\"#d8576b\"],[0.6666666666666666,\"#ed7953\"],[0.7777777777777778,\"#fb9f3a\"],[0.8888888888888888,\"#fdca26\"],[1.0,\"#f0f921\"]],\"type\":\"histogram2d\"}],\"histogram2dcontour\":[{\"colorbar\":{\"outlinewidth\":0,\"ticks\":\"\"},\"colorscale\":[[0.0,\"#0d0887\"],[0.1111111111111111,\"#46039f\"],[0.2222222222222222,\"#7201a8\"],[0.3333333333333333,\"#9c179e\"],[0.4444444444444444,\"#bd3786\"],[0.5555555555555556,\"#d8576b\"],[0.6666666666666666,\"#ed7953\"],[0.7777777777777778,\"#fb9f3a\"],[0.8888888888888888,\"#fdca26\"],[1.0,\"#f0f921\"]],\"type\":\"histogram2dcontour\"}],\"mesh3d\":[{\"colorbar\":{\"outlinewidth\":0,\"ticks\":\"\"},\"type\":\"mesh3d\"}],\"parcoords\":[{\"line\":{\"colorbar\":{\"outlinewidth\":0,\"ticks\":\"\"}},\"type\":\"parcoords\"}],\"pie\":[{\"automargin\":true,\"type\":\"pie\"}],\"scatter\":[{\"marker\":{\"colorbar\":{\"outlinewidth\":0,\"ticks\":\"\"}},\"type\":\"scatter\"}],\"scatter3d\":[{\"line\":{\"colorbar\":{\"outlinewidth\":0,\"ticks\":\"\"}},\"marker\":{\"colorbar\":{\"outlinewidth\":0,\"ticks\":\"\"}},\"type\":\"scatter3d\"}],\"scattercarpet\":[{\"marker\":{\"colorbar\":{\"outlinewidth\":0,\"ticks\":\"\"}},\"type\":\"scattercarpet\"}],\"scattergeo\":[{\"marker\":{\"colorbar\":{\"outlinewidth\":0,\"ticks\":\"\"}},\"type\":\"scattergeo\"}],\"scattergl\":[{\"marker\":{\"colorbar\":{\"outlinewidth\":0,\"ticks\":\"\"}},\"type\":\"scattergl\"}],\"scattermapbox\":[{\"marker\":{\"colorbar\":{\"outlinewidth\":0,\"ticks\":\"\"}},\"type\":\"scattermapbox\"}],\"scatterpolar\":[{\"marker\":{\"colorbar\":{\"outlinewidth\":0,\"ticks\":\"\"}},\"type\":\"scatterpolar\"}],\"scatterpolargl\":[{\"marker\":{\"colorbar\":{\"outlinewidth\":0,\"ticks\":\"\"}},\"type\":\"scatterpolargl\"}],\"scatterternary\":[{\"marker\":{\"colorbar\":{\"outlinewidth\":0,\"ticks\":\"\"}},\"type\":\"scatterternary\"}],\"surface\":[{\"colorbar\":{\"outlinewidth\":0,\"ticks\":\"\"},\"colorscale\":[[0.0,\"#0d0887\"],[0.1111111111111111,\"#46039f\"],[0.2222222222222222,\"#7201a8\"],[0.3333333333333333,\"#9c179e\"],[0.4444444444444444,\"#bd3786\"],[0.5555555555555556,\"#d8576b\"],[0.6666666666666666,\"#ed7953\"],[0.7777777777777778,\"#fb9f3a\"],[0.8888888888888888,\"#fdca26\"],[1.0,\"#f0f921\"]],\"type\":\"surface\"}],\"table\":[{\"cells\":{\"fill\":{\"color\":\"#EBF0F8\"},\"line\":{\"color\":\"white\"}},\"header\":{\"fill\":{\"color\":\"#C8D4E3\"},\"line\":{\"color\":\"white\"}},\"type\":\"table\"}]},\"layout\":{\"annotationdefaults\":{\"arrowcolor\":\"#2a3f5f\",\"arrowhead\":0,\"arrowwidth\":1},\"autotypenumbers\":\"strict\",\"coloraxis\":{\"colorbar\":{\"outlinewidth\":0,\"ticks\":\"\"}},\"colorscale\":{\"diverging\":[[0,\"#8e0152\"],[0.1,\"#c51b7d\"],[0.2,\"#de77ae\"],[0.3,\"#f1b6da\"],[0.4,\"#fde0ef\"],[0.5,\"#f7f7f7\"],[0.6,\"#e6f5d0\"],[0.7,\"#b8e186\"],[0.8,\"#7fbc41\"],[0.9,\"#4d9221\"],[1,\"#276419\"]],\"sequential\":[[0.0,\"#0d0887\"],[0.1111111111111111,\"#46039f\"],[0.2222222222222222,\"#7201a8\"],[0.3333333333333333,\"#9c179e\"],[0.4444444444444444,\"#bd3786\"],[0.5555555555555556,\"#d8576b\"],[0.6666666666666666,\"#ed7953\"],[0.7777777777777778,\"#fb9f3a\"],[0.8888888888888888,\"#fdca26\"],[1.0,\"#f0f921\"]],\"sequentialminus\":[[0.0,\"#0d0887\"],[0.1111111111111111,\"#46039f\"],[0.2222222222222222,\"#7201a8\"],[0.3333333333333333,\"#9c179e\"],[0.4444444444444444,\"#bd3786\"],[0.5555555555555556,\"#d8576b\"],[0.6666666666666666,\"#ed7953\"],[0.7777777777777778,\"#fb9f3a\"],[0.8888888888888888,\"#fdca26\"],[1.0,\"#f0f921\"]]},\"colorway\":[\"#636efa\",\"#EF553B\",\"#00cc96\",\"#ab63fa\",\"#FFA15A\",\"#19d3f3\",\"#FF6692\",\"#B6E880\",\"#FF97FF\",\"#FECB52\"],\"font\":{\"color\":\"#2a3f5f\"},\"geo\":{\"bgcolor\":\"white\",\"lakecolor\":\"white\",\"landcolor\":\"#E5ECF6\",\"showlakes\":true,\"showland\":true,\"subunitcolor\":\"white\"},\"hoverlabel\":{\"align\":\"left\"},\"hovermode\":\"closest\",\"mapbox\":{\"style\":\"light\"},\"paper_bgcolor\":\"white\",\"plot_bgcolor\":\"#E5ECF6\",\"polar\":{\"angularaxis\":{\"gridcolor\":\"white\",\"linecolor\":\"white\",\"ticks\":\"\"},\"bgcolor\":\"#E5ECF6\",\"radialaxis\":{\"gridcolor\":\"white\",\"linecolor\":\"white\",\"ticks\":\"\"}},\"scene\":{\"xaxis\":{\"backgroundcolor\":\"#E5ECF6\",\"gridcolor\":\"white\",\"gridwidth\":2,\"linecolor\":\"white\",\"showbackground\":true,\"ticks\":\"\",\"zerolinecolor\":\"white\"},\"yaxis\":{\"backgroundcolor\":\"#E5ECF6\",\"gridcolor\":\"white\",\"gridwidth\":2,\"linecolor\":\"white\",\"showbackground\":true,\"ticks\":\"\",\"zerolinecolor\":\"white\"},\"zaxis\":{\"backgroundcolor\":\"#E5ECF6\",\"gridcolor\":\"white\",\"gridwidth\":2,\"linecolor\":\"white\",\"showbackground\":true,\"ticks\":\"\",\"zerolinecolor\":\"white\"}},\"shapedefaults\":{\"line\":{\"color\":\"#2a3f5f\"}},\"ternary\":{\"aaxis\":{\"gridcolor\":\"white\",\"linecolor\":\"white\",\"ticks\":\"\"},\"baxis\":{\"gridcolor\":\"white\",\"linecolor\":\"white\",\"ticks\":\"\"},\"bgcolor\":\"#E5ECF6\",\"caxis\":{\"gridcolor\":\"white\",\"linecolor\":\"white\",\"ticks\":\"\"}},\"title\":{\"x\":0.05},\"xaxis\":{\"automargin\":true,\"gridcolor\":\"white\",\"linecolor\":\"white\",\"ticks\":\"\",\"title\":{\"standoff\":15},\"zerolinecolor\":\"white\",\"zerolinewidth\":2},\"yaxis\":{\"automargin\":true,\"gridcolor\":\"white\",\"linecolor\":\"white\",\"ticks\":\"\",\"title\":{\"standoff\":15},\"zerolinecolor\":\"white\",\"zerolinewidth\":2}}}},                        {\"responsive\": true}                    ).then(function(){\n",
              "                            \n",
              "var gd = document.getElementById('d1dd86dc-90d5-4b51-8f82-78291901d260');\n",
              "var x = new MutationObserver(function (mutations, observer) {{\n",
              "        var display = window.getComputedStyle(gd).display;\n",
              "        if (!display || display === 'none') {{\n",
              "            console.log([gd, 'removed!']);\n",
              "            Plotly.purge(gd);\n",
              "            observer.disconnect();\n",
              "        }}\n",
              "}});\n",
              "\n",
              "// Listen for the removal of the full notebook cells\n",
              "var notebookContainer = gd.closest('#notebook-container');\n",
              "if (notebookContainer) {{\n",
              "    x.observe(notebookContainer, {childList: true});\n",
              "}}\n",
              "\n",
              "// Listen for the clearing of the current output cell\n",
              "var outputEl = gd.closest('.output');\n",
              "if (outputEl) {{\n",
              "    x.observe(outputEl, {childList: true});\n",
              "}}\n",
              "\n",
              "                        })                };                            </script>        </div>\n",
              "</body>\n",
              "</html>"
            ]
          },
          "metadata": {}
        }
      ]
    },
    {
      "cell_type": "code",
      "source": [
        "headerColor = 'grey'\n",
        "rowEvenColor = 'lightgrey'\n",
        "rowOddColor = 'white'\n",
        "\n",
        "fig = go.Figure(data=[go.Table(\n",
        "  header=dict(\n",
        "    values=['<b> </b>','<b>Full Buy</b>','<b>Semi Buy</b>','<b>Full Eco</b>','<b>Semi Eco</b>',\"Summe\"],\n",
        "    line_color='darkslategray',\n",
        "    fill_color=headerColor,\n",
        "    align=['left','center'],\n",
        "    font=dict(color='white', size=12)\n",
        "  ),\n",
        "  cells=dict(\n",
        "    values=[\n",
        "      ['Full Buy', 'Semi Buy', 'Full Eco', 'Semi Eco', \"Summe\"],\n",
        "      [CT_pi_F_B_F_B.shape[0], CT_pi_S_B_F_B.shape[0], CT_pi_F_E_F_B.shape[0], CT_pi_S_E_F_B.shape[0], sum([CT_pi_F_B_F_B.shape[0], CT_pi_S_B_F_B.shape[0], CT_pi_F_E_F_B.shape[0], CT_pi_S_E_F_B.shape[0]])],\n",
        "      [CT_pi_F_B_S_B.shape[0], CT_pi_S_B_S_B.shape[0], CT_pi_F_E_S_B.shape[0], CT_pi_S_E_S_B.shape[0], sum([CT_pi_F_B_S_B.shape[0], CT_pi_S_B_S_B.shape[0], CT_pi_F_E_S_B.shape[0], CT_pi_S_E_S_B.shape[0]])],\n",
        "      [CT_pi_F_B_F_E.shape[0], CT_pi_S_B_F_E.shape[0], CT_pi_F_E_F_E.shape[0], CT_pi_S_E_F_E.shape[0], sum([CT_pi_F_B_F_E.shape[0], CT_pi_S_B_F_E.shape[0], CT_pi_F_E_F_E.shape[0], CT_pi_S_E_F_E.shape[0]])],\n",
        "      [CT_pi_F_B_S_E.shape[0], CT_pi_S_B_S_E.shape[0], CT_pi_F_E_S_E.shape[0], CT_pi_S_E_S_E.shape[0], sum([CT_pi_F_B_S_E.shape[0], CT_pi_S_B_S_E.shape[0], CT_pi_F_E_S_E.shape[0], CT_pi_S_E_S_E.shape[0]])]],\n",
        "      #[sum([CT_pi_F_B_F_B, CT_pi_F_B_S_B, CT_pi_F_B_F_E, CT_pi_F_B_S_E]), sum([CT_pi_S_B_F_B, CT_pi_S_B_S_B, CT_pi_S_B_F_E, CT_pi_S_B_S_E]), \n",
        "       #sum([CT_pi_F_E_F_B, CT_pi_F_E_S_B, CT_pi_F_E_F_E, CT_pi_F_E_S_E]), sum([CT_pi_S_E_F_B, CT_pi_S_E_S_B, CT_pi_S_E_F_E, CT_pi_S_E_S_E])]],\n",
        "    line_color='darkslategray',\n",
        "    # 2-D list of colors for alternating rows\n",
        "    fill_color = [[rowOddColor,rowEvenColor,rowOddColor, rowEvenColor,rowOddColor]*5],\n",
        "    align = ['left', 'center'],\n",
        "    font = dict(color = 'darkslategray', size = 11)\n",
        "    ))\n",
        "])\n",
        "\n",
        "print(\"Siege der CT Seite\")\n",
        "fig.show()"
      ],
      "metadata": {
        "colab": {
          "base_uri": "https://localhost:8080/",
          "height": 560
        },
        "id": "c8F3pa9ZY43O",
        "outputId": "1b316225-169b-499e-e5e1-49b17b3c2bbc"
      },
      "execution_count": null,
      "outputs": [
        {
          "output_type": "stream",
          "name": "stdout",
          "text": [
            "Siege der CT Seite\n"
          ]
        },
        {
          "output_type": "display_data",
          "data": {
            "text/html": [
              "<html>\n",
              "<head><meta charset=\"utf-8\" /></head>\n",
              "<body>\n",
              "    <div>            <script src=\"https://cdnjs.cloudflare.com/ajax/libs/mathjax/2.7.5/MathJax.js?config=TeX-AMS-MML_SVG\"></script><script type=\"text/javascript\">if (window.MathJax) {MathJax.Hub.Config({SVG: {font: \"STIX-Web\"}});}</script>                <script type=\"text/javascript\">window.PlotlyConfig = {MathJaxConfig: 'local'};</script>\n",
              "        <script src=\"https://cdn.plot.ly/plotly-2.8.3.min.js\"></script>                <div id=\"563ba8e9-88cc-4468-91f2-72221f843432\" class=\"plotly-graph-div\" style=\"height:525px; width:100%;\"></div>            <script type=\"text/javascript\">                                    window.PLOTLYENV=window.PLOTLYENV || {};                                    if (document.getElementById(\"563ba8e9-88cc-4468-91f2-72221f843432\")) {                    Plotly.newPlot(                        \"563ba8e9-88cc-4468-91f2-72221f843432\",                        [{\"cells\":{\"align\":[\"left\",\"center\"],\"fill\":{\"color\":[[\"white\",\"lightgrey\",\"white\",\"lightgrey\",\"white\",\"white\",\"lightgrey\",\"white\",\"lightgrey\",\"white\",\"white\",\"lightgrey\",\"white\",\"lightgrey\",\"white\",\"white\",\"lightgrey\",\"white\",\"lightgrey\",\"white\",\"white\",\"lightgrey\",\"white\",\"lightgrey\",\"white\"]]},\"font\":{\"color\":\"darkslategray\",\"size\":11},\"line\":{\"color\":\"darkslategray\"},\"values\":[[\"Full Buy\",\"Semi Buy\",\"Full Eco\",\"Semi Eco\",\"Summe\"],[553,129,149,121,952],[32,12,14,8,66],[6,0,100,0,106],[13,14,0,0,27]]},\"header\":{\"align\":[\"left\",\"center\"],\"fill\":{\"color\":\"grey\"},\"font\":{\"color\":\"white\",\"size\":12},\"line\":{\"color\":\"darkslategray\"},\"values\":[\"<b> </b>\",\"<b>Full Buy</b>\",\"<b>Semi Buy</b>\",\"<b>Full Eco</b>\",\"<b>Semi Eco</b>\",\"Summe\"]},\"type\":\"table\"}],                        {\"template\":{\"data\":{\"bar\":[{\"error_x\":{\"color\":\"#2a3f5f\"},\"error_y\":{\"color\":\"#2a3f5f\"},\"marker\":{\"line\":{\"color\":\"#E5ECF6\",\"width\":0.5},\"pattern\":{\"fillmode\":\"overlay\",\"size\":10,\"solidity\":0.2}},\"type\":\"bar\"}],\"barpolar\":[{\"marker\":{\"line\":{\"color\":\"#E5ECF6\",\"width\":0.5},\"pattern\":{\"fillmode\":\"overlay\",\"size\":10,\"solidity\":0.2}},\"type\":\"barpolar\"}],\"carpet\":[{\"aaxis\":{\"endlinecolor\":\"#2a3f5f\",\"gridcolor\":\"white\",\"linecolor\":\"white\",\"minorgridcolor\":\"white\",\"startlinecolor\":\"#2a3f5f\"},\"baxis\":{\"endlinecolor\":\"#2a3f5f\",\"gridcolor\":\"white\",\"linecolor\":\"white\",\"minorgridcolor\":\"white\",\"startlinecolor\":\"#2a3f5f\"},\"type\":\"carpet\"}],\"choropleth\":[{\"colorbar\":{\"outlinewidth\":0,\"ticks\":\"\"},\"type\":\"choropleth\"}],\"contour\":[{\"colorbar\":{\"outlinewidth\":0,\"ticks\":\"\"},\"colorscale\":[[0.0,\"#0d0887\"],[0.1111111111111111,\"#46039f\"],[0.2222222222222222,\"#7201a8\"],[0.3333333333333333,\"#9c179e\"],[0.4444444444444444,\"#bd3786\"],[0.5555555555555556,\"#d8576b\"],[0.6666666666666666,\"#ed7953\"],[0.7777777777777778,\"#fb9f3a\"],[0.8888888888888888,\"#fdca26\"],[1.0,\"#f0f921\"]],\"type\":\"contour\"}],\"contourcarpet\":[{\"colorbar\":{\"outlinewidth\":0,\"ticks\":\"\"},\"type\":\"contourcarpet\"}],\"heatmap\":[{\"colorbar\":{\"outlinewidth\":0,\"ticks\":\"\"},\"colorscale\":[[0.0,\"#0d0887\"],[0.1111111111111111,\"#46039f\"],[0.2222222222222222,\"#7201a8\"],[0.3333333333333333,\"#9c179e\"],[0.4444444444444444,\"#bd3786\"],[0.5555555555555556,\"#d8576b\"],[0.6666666666666666,\"#ed7953\"],[0.7777777777777778,\"#fb9f3a\"],[0.8888888888888888,\"#fdca26\"],[1.0,\"#f0f921\"]],\"type\":\"heatmap\"}],\"heatmapgl\":[{\"colorbar\":{\"outlinewidth\":0,\"ticks\":\"\"},\"colorscale\":[[0.0,\"#0d0887\"],[0.1111111111111111,\"#46039f\"],[0.2222222222222222,\"#7201a8\"],[0.3333333333333333,\"#9c179e\"],[0.4444444444444444,\"#bd3786\"],[0.5555555555555556,\"#d8576b\"],[0.6666666666666666,\"#ed7953\"],[0.7777777777777778,\"#fb9f3a\"],[0.8888888888888888,\"#fdca26\"],[1.0,\"#f0f921\"]],\"type\":\"heatmapgl\"}],\"histogram\":[{\"marker\":{\"pattern\":{\"fillmode\":\"overlay\",\"size\":10,\"solidity\":0.2}},\"type\":\"histogram\"}],\"histogram2d\":[{\"colorbar\":{\"outlinewidth\":0,\"ticks\":\"\"},\"colorscale\":[[0.0,\"#0d0887\"],[0.1111111111111111,\"#46039f\"],[0.2222222222222222,\"#7201a8\"],[0.3333333333333333,\"#9c179e\"],[0.4444444444444444,\"#bd3786\"],[0.5555555555555556,\"#d8576b\"],[0.6666666666666666,\"#ed7953\"],[0.7777777777777778,\"#fb9f3a\"],[0.8888888888888888,\"#fdca26\"],[1.0,\"#f0f921\"]],\"type\":\"histogram2d\"}],\"histogram2dcontour\":[{\"colorbar\":{\"outlinewidth\":0,\"ticks\":\"\"},\"colorscale\":[[0.0,\"#0d0887\"],[0.1111111111111111,\"#46039f\"],[0.2222222222222222,\"#7201a8\"],[0.3333333333333333,\"#9c179e\"],[0.4444444444444444,\"#bd3786\"],[0.5555555555555556,\"#d8576b\"],[0.6666666666666666,\"#ed7953\"],[0.7777777777777778,\"#fb9f3a\"],[0.8888888888888888,\"#fdca26\"],[1.0,\"#f0f921\"]],\"type\":\"histogram2dcontour\"}],\"mesh3d\":[{\"colorbar\":{\"outlinewidth\":0,\"ticks\":\"\"},\"type\":\"mesh3d\"}],\"parcoords\":[{\"line\":{\"colorbar\":{\"outlinewidth\":0,\"ticks\":\"\"}},\"type\":\"parcoords\"}],\"pie\":[{\"automargin\":true,\"type\":\"pie\"}],\"scatter\":[{\"marker\":{\"colorbar\":{\"outlinewidth\":0,\"ticks\":\"\"}},\"type\":\"scatter\"}],\"scatter3d\":[{\"line\":{\"colorbar\":{\"outlinewidth\":0,\"ticks\":\"\"}},\"marker\":{\"colorbar\":{\"outlinewidth\":0,\"ticks\":\"\"}},\"type\":\"scatter3d\"}],\"scattercarpet\":[{\"marker\":{\"colorbar\":{\"outlinewidth\":0,\"ticks\":\"\"}},\"type\":\"scattercarpet\"}],\"scattergeo\":[{\"marker\":{\"colorbar\":{\"outlinewidth\":0,\"ticks\":\"\"}},\"type\":\"scattergeo\"}],\"scattergl\":[{\"marker\":{\"colorbar\":{\"outlinewidth\":0,\"ticks\":\"\"}},\"type\":\"scattergl\"}],\"scattermapbox\":[{\"marker\":{\"colorbar\":{\"outlinewidth\":0,\"ticks\":\"\"}},\"type\":\"scattermapbox\"}],\"scatterpolar\":[{\"marker\":{\"colorbar\":{\"outlinewidth\":0,\"ticks\":\"\"}},\"type\":\"scatterpolar\"}],\"scatterpolargl\":[{\"marker\":{\"colorbar\":{\"outlinewidth\":0,\"ticks\":\"\"}},\"type\":\"scatterpolargl\"}],\"scatterternary\":[{\"marker\":{\"colorbar\":{\"outlinewidth\":0,\"ticks\":\"\"}},\"type\":\"scatterternary\"}],\"surface\":[{\"colorbar\":{\"outlinewidth\":0,\"ticks\":\"\"},\"colorscale\":[[0.0,\"#0d0887\"],[0.1111111111111111,\"#46039f\"],[0.2222222222222222,\"#7201a8\"],[0.3333333333333333,\"#9c179e\"],[0.4444444444444444,\"#bd3786\"],[0.5555555555555556,\"#d8576b\"],[0.6666666666666666,\"#ed7953\"],[0.7777777777777778,\"#fb9f3a\"],[0.8888888888888888,\"#fdca26\"],[1.0,\"#f0f921\"]],\"type\":\"surface\"}],\"table\":[{\"cells\":{\"fill\":{\"color\":\"#EBF0F8\"},\"line\":{\"color\":\"white\"}},\"header\":{\"fill\":{\"color\":\"#C8D4E3\"},\"line\":{\"color\":\"white\"}},\"type\":\"table\"}]},\"layout\":{\"annotationdefaults\":{\"arrowcolor\":\"#2a3f5f\",\"arrowhead\":0,\"arrowwidth\":1},\"autotypenumbers\":\"strict\",\"coloraxis\":{\"colorbar\":{\"outlinewidth\":0,\"ticks\":\"\"}},\"colorscale\":{\"diverging\":[[0,\"#8e0152\"],[0.1,\"#c51b7d\"],[0.2,\"#de77ae\"],[0.3,\"#f1b6da\"],[0.4,\"#fde0ef\"],[0.5,\"#f7f7f7\"],[0.6,\"#e6f5d0\"],[0.7,\"#b8e186\"],[0.8,\"#7fbc41\"],[0.9,\"#4d9221\"],[1,\"#276419\"]],\"sequential\":[[0.0,\"#0d0887\"],[0.1111111111111111,\"#46039f\"],[0.2222222222222222,\"#7201a8\"],[0.3333333333333333,\"#9c179e\"],[0.4444444444444444,\"#bd3786\"],[0.5555555555555556,\"#d8576b\"],[0.6666666666666666,\"#ed7953\"],[0.7777777777777778,\"#fb9f3a\"],[0.8888888888888888,\"#fdca26\"],[1.0,\"#f0f921\"]],\"sequentialminus\":[[0.0,\"#0d0887\"],[0.1111111111111111,\"#46039f\"],[0.2222222222222222,\"#7201a8\"],[0.3333333333333333,\"#9c179e\"],[0.4444444444444444,\"#bd3786\"],[0.5555555555555556,\"#d8576b\"],[0.6666666666666666,\"#ed7953\"],[0.7777777777777778,\"#fb9f3a\"],[0.8888888888888888,\"#fdca26\"],[1.0,\"#f0f921\"]]},\"colorway\":[\"#636efa\",\"#EF553B\",\"#00cc96\",\"#ab63fa\",\"#FFA15A\",\"#19d3f3\",\"#FF6692\",\"#B6E880\",\"#FF97FF\",\"#FECB52\"],\"font\":{\"color\":\"#2a3f5f\"},\"geo\":{\"bgcolor\":\"white\",\"lakecolor\":\"white\",\"landcolor\":\"#E5ECF6\",\"showlakes\":true,\"showland\":true,\"subunitcolor\":\"white\"},\"hoverlabel\":{\"align\":\"left\"},\"hovermode\":\"closest\",\"mapbox\":{\"style\":\"light\"},\"paper_bgcolor\":\"white\",\"plot_bgcolor\":\"#E5ECF6\",\"polar\":{\"angularaxis\":{\"gridcolor\":\"white\",\"linecolor\":\"white\",\"ticks\":\"\"},\"bgcolor\":\"#E5ECF6\",\"radialaxis\":{\"gridcolor\":\"white\",\"linecolor\":\"white\",\"ticks\":\"\"}},\"scene\":{\"xaxis\":{\"backgroundcolor\":\"#E5ECF6\",\"gridcolor\":\"white\",\"gridwidth\":2,\"linecolor\":\"white\",\"showbackground\":true,\"ticks\":\"\",\"zerolinecolor\":\"white\"},\"yaxis\":{\"backgroundcolor\":\"#E5ECF6\",\"gridcolor\":\"white\",\"gridwidth\":2,\"linecolor\":\"white\",\"showbackground\":true,\"ticks\":\"\",\"zerolinecolor\":\"white\"},\"zaxis\":{\"backgroundcolor\":\"#E5ECF6\",\"gridcolor\":\"white\",\"gridwidth\":2,\"linecolor\":\"white\",\"showbackground\":true,\"ticks\":\"\",\"zerolinecolor\":\"white\"}},\"shapedefaults\":{\"line\":{\"color\":\"#2a3f5f\"}},\"ternary\":{\"aaxis\":{\"gridcolor\":\"white\",\"linecolor\":\"white\",\"ticks\":\"\"},\"baxis\":{\"gridcolor\":\"white\",\"linecolor\":\"white\",\"ticks\":\"\"},\"bgcolor\":\"#E5ECF6\",\"caxis\":{\"gridcolor\":\"white\",\"linecolor\":\"white\",\"ticks\":\"\"}},\"title\":{\"x\":0.05},\"xaxis\":{\"automargin\":true,\"gridcolor\":\"white\",\"linecolor\":\"white\",\"ticks\":\"\",\"title\":{\"standoff\":15},\"zerolinecolor\":\"white\",\"zerolinewidth\":2},\"yaxis\":{\"automargin\":true,\"gridcolor\":\"white\",\"linecolor\":\"white\",\"ticks\":\"\",\"title\":{\"standoff\":15},\"zerolinecolor\":\"white\",\"zerolinewidth\":2}}}},                        {\"responsive\": true}                    ).then(function(){\n",
              "                            \n",
              "var gd = document.getElementById('563ba8e9-88cc-4468-91f2-72221f843432');\n",
              "var x = new MutationObserver(function (mutations, observer) {{\n",
              "        var display = window.getComputedStyle(gd).display;\n",
              "        if (!display || display === 'none') {{\n",
              "            console.log([gd, 'removed!']);\n",
              "            Plotly.purge(gd);\n",
              "            observer.disconnect();\n",
              "        }}\n",
              "}});\n",
              "\n",
              "// Listen for the removal of the full notebook cells\n",
              "var notebookContainer = gd.closest('#notebook-container');\n",
              "if (notebookContainer) {{\n",
              "    x.observe(notebookContainer, {childList: true});\n",
              "}}\n",
              "\n",
              "// Listen for the clearing of the current output cell\n",
              "var outputEl = gd.closest('.output');\n",
              "if (outputEl) {{\n",
              "    x.observe(outputEl, {childList: true});\n",
              "}}\n",
              "\n",
              "                        })                };                            </script>        </div>\n",
              "</body>\n",
              "</html>"
            ]
          },
          "metadata": {}
        }
      ]
    },
    {
      "cell_type": "markdown",
      "source": [
        "#Buy Decision - Nash "
      ],
      "metadata": {
        "id": "5CoPzIFci_hn"
      }
    },
    {
      "cell_type": "code",
      "source": [
        "#Payoff-Matrix für Spieler A, in diesem Fall die T-Seite\n",
        "A = np.array([[pi_F_B_F_B.shape[0]/full_pi_F_B_F_B, pi_S_B_F_B.shape[0]/full_pi_S_B_F_B,  pi_F_E_F_B.shape[0]/full_pi_F_E_F_B,  pi_S_E_F_B.shape[0]/full_pi_S_E_F_B],\n",
        "              [pi_F_B_S_B.shape[0]/full_pi_F_B_S_B, pi_S_B_S_B.shape[0]/full_pi_S_B_S_B,  pi_F_E_S_B.shape[0]/full_pi_F_E_S_B,  pi_S_E_S_B.shape[0]/full_pi_S_E_S_B],\n",
        "              [pi_F_B_F_E.shape[0]/full_pi_F_B_F_E, pi_S_B_F_E.shape[0]/full_pi_S_B_F_E,  pi_F_E_F_E.shape[0]/full_pi_F_E_F_E,  pi_S_E_F_E.shape[0]/full_pi_S_E_F_E],\n",
        "              [pi_F_B_S_E.shape[0]/full_pi_F_B_S_E, pi_S_B_S_E.shape[0]/full_pi_S_B_S_E,  pi_F_E_S_E.shape[0]/full_pi_F_E_S_E,  pi_S_E_S_E.shape[0]/full_pi_S_E_S_E]])\n",
        "A = A.transpose()\n",
        "\n",
        "#Payoff-Matrix für Spieler B, in diesem Fall die CT-Seite\n",
        "B = np.array([[CT_pi_F_B_F_B.shape[0]/full_pi_F_B_F_B, CT_pi_S_B_F_B.shape[0]/full_pi_S_B_F_B, CT_pi_F_E_F_B.shape[0]/full_pi_F_E_F_B, CT_pi_S_E_F_B.shape[0]/full_pi_S_E_F_B],\n",
        "              [CT_pi_F_B_S_B.shape[0]/full_pi_F_B_S_B, CT_pi_S_B_S_B.shape[0]/full_pi_S_B_S_B, CT_pi_F_E_S_B.shape[0]/full_pi_F_E_S_B, CT_pi_S_E_S_B.shape[0]/full_pi_S_E_S_B],\n",
        "              [CT_pi_F_B_F_E.shape[0]/full_pi_F_B_F_E, CT_pi_S_B_F_E.shape[0]/full_pi_S_B_F_E, CT_pi_F_E_F_E.shape[0]/full_pi_F_E_F_E, CT_pi_S_E_F_E.shape[0]/full_pi_S_E_F_E],\n",
        "              [CT_pi_F_B_S_E.shape[0]/full_pi_F_B_S_E, CT_pi_S_B_S_E.shape[0]/full_pi_S_B_S_E, CT_pi_F_E_S_E.shape[0]/full_pi_F_E_S_E, CT_pi_S_E_S_E.shape[0]/full_pi_S_E_S_E]])\n",
        "B = B.transpose()\n",
        "\n",
        "#Erstelle ein Spiel\n",
        "CSGO_2 = nash.Game(A, B)\n",
        "\n",
        "#Löse das Spiel und gebe das Ergebnis aus\n",
        "equilibria = CSGO_2.support_enumeration()\n",
        "for eq in equilibria:\n",
        "    print(eq)"
      ],
      "metadata": {
        "colab": {
          "base_uri": "https://localhost:8080/"
        },
        "id": "zYUYCNIci-43",
        "outputId": "3e4dd676-fb53-41a7-f144-a706da55a32e"
      },
      "execution_count": null,
      "outputs": [
        {
          "output_type": "stream",
          "name": "stdout",
          "text": [
            "(array([1., 0., 0.]), array([0., 0., 1.]))\n"
          ]
        }
      ]
    },
    {
      "cell_type": "markdown",
      "source": [
        "#Strategiefindung - Parsing"
      ],
      "metadata": {
        "id": "QzNLC_Sapr44"
      }
    },
    {
      "cell_type": "code",
      "source": [
        "#Gehe den vorher definierten Pfad durch\n",
        "for file in os.listdir(dir):\n",
        "  #gehe für jedes Element, das auf .dem endet folgende Befehle durch\n",
        "  if file.endswith(\".dem\"):\n",
        "    #Lese alle Daten aus dem vorher definierten Pfad aus.\n",
        "    p = DemoParser(demofile=\"/content/drive/MyDrive/2022_Dust2/\"+file, parse_rate=128)\n",
        "    df = p.parse(return_type=\"df\")\n",
        "\n",
        "    #Strategiefindung für T-Seite\n",
        "    #initialisiere einen Parameter, um die Runden in einer Datei durchzugehen\n",
        "    i = 1\n",
        "\n",
        "    Gameround = []\n",
        "    Strategies = []\n",
        "\n",
        "    while i <= df[\"playerFrames\"][\"roundNum\"].max():\n",
        "      track3 = df[\"playerFrames\"]\n",
        "      track4 = track3[(track3['seconds'] > 10) & (track3['seconds'] <= 30)]\n",
        "      track4 = track4.loc[track4[\"roundNum\"]==i] \n",
        "      track4 = track4.loc[track4[\"side\"]==\"T\"]\n",
        "      \n",
        "      #lese die Positionen der Navigation Mesh Datei ein\n",
        "      t = NAV_CSV[NAV_CSV[\"mapName\"] == \"de_dust2\"]\n",
        "\n",
        "\n",
        "      area = []\n",
        "      #für jede Reihe durchgehen und Position festlegen und in Liste einspeichern, für jede Sekunde für jeden Spieler\n",
        "      for index, row in track4.iterrows():\n",
        "         \n",
        "        f = t[(t['northWestX'] > row['x']-40) & (t['northWestX'] < row['x']+40)]\n",
        "        f = f[(f['northWestY'] > row['y']-40) & (f['northWestY'] < row['y']+40)]\n",
        "      \n",
        "        if f.empty:\n",
        "          loc = \"MISTAKE\"\n",
        "          area.append(loc)\n",
        "        \n",
        "        else:\n",
        "          loc = f[\"areaName\"].value_counts().idxmax()\n",
        "          area.append(loc)\n",
        "\n",
        "      #füge Liste mit Positionen zu DF hinzu, hierbei werden die Orte den Regionen zugeteilt\n",
        "      track4[\"area\"] = area \n",
        "      \n",
        "      track4.loc[track4['area'] == \"CTSpawn\",'subgroup'] = \"Mid\"\n",
        "      track4.loc[track4['area'] == \"MidDoors\",'subgroup'] = \"Mid\"\n",
        "      track4.loc[track4['area'] == \"TopofMid\",'subgroup'] = \"Mid\"\n",
        "      track4.loc[track4['area'] == \"Middle\",'subgroup'] = \"Mid\"\n",
        "      track4.loc[track4['area'] == \"Short\",'subgroup'] = \"Mid\"\n",
        "\n",
        "      track4.loc[track4['area'] == \"ShortStairs\",'subgroup'] = \"BombA\"\n",
        "      track4.loc[track4['area'] == \"UnderA\",'subgroup'] = \"BombA\"\n",
        "      track4.loc[track4['area'] == \"ExtendedA\",'subgroup'] = \"BombA\"\n",
        "      track4.loc[track4['area'] == \"Catwalk\",'subgroup'] = \"BombA\"\n",
        "\n",
        "      track4.loc[track4['area'] == \"BombsiteB\",'subgroup'] = \"BombB\"\n",
        "      track4.loc[track4['area'] == \"BDoors\",'subgroup'] = \"BombB\"\n",
        "      track4.loc[track4['area'] == \"Hole\",'subgroup'] = \"BombB\"\n",
        "\n",
        "      track4.loc[track4['area'] == \"TSpawn\",'subgroup'] = \"TerroristSpawn\"\n",
        "      track4.loc[track4['area'] == \"TRamp\",'subgroup'] = \"TerroristSpawn\"\n",
        "\n",
        "      track4.loc[track4['area'] == \"OutsideTunnel\",'subgroup'] = \"BombB\"\n",
        "      track4.loc[track4['area'] == \"UpperTunnel\",'subgroup'] = \"BombB\"\n",
        "      track4.loc[track4['area'] == \"TunnelStairs\",'subgroup'] = \"BombB\"\n",
        "      track4.loc[track4['area'] == \"LowerTunnel\",'subgroup'] = \"BombB\"\n",
        "\n",
        "      track4.loc[track4['area'] == \"LongA\",'subgroup'] = \"BombA\"\n",
        "      track4.loc[track4['area'] == \"LongDoors\",'subgroup'] = \"BombA\"\n",
        "      track4.loc[track4['area'] == \"OutsideLong\",'subgroup'] = \"BombA\"\n",
        "      track4.loc[track4['area'] == \"Pit\",'subgroup'] = \"BombA\"\n",
        "      track4.loc[track4['area'] == \"Ramp\",'subgroup'] = \"BombA\"\n",
        "      track4.loc[track4['area'] == \"Side\",'subgroup'] = \"BombA\"\n",
        "\n",
        "      track4.loc[track4['area'] == \"BombsiteA\",'subgroup'] = \"BombA\"\n",
        "      track4.loc[track4['area'] == \"ARamp\",'subgroup'] = \"BombA\"\n",
        "\n",
        "      stra = []\n",
        "\n",
        "      df2 = track4.groupby(['subgroup', 'name'])['subgroup'].count().unstack(fill_value=0)\n",
        "\n",
        "      #erstelle eine Liste mit 5 Werten, pro Spieler ein Wert, in der gespeichert wird, in welcher Region der jeweilige Spieler die längste Zeit verbracht hat\n",
        "      for column in df2:\n",
        "        y = df2[{column}].idxmax()\n",
        "        y = y.values.tolist()\n",
        "        stra.append(y)\n",
        "      \n",
        "      j = 0\n",
        "      \n",
        "      #gehe Liste durch und finde Strategie für das jeweilige Team\n",
        "      BombA = 0\n",
        "      BombB = 0\n",
        "      Mid = 0\n",
        "      TerroristSpawn = 0\n",
        "\n",
        "      for element in stra:\n",
        "        if (element[j] == \"BombA\"):\n",
        "          BombA = BombA+1\n",
        "        elif (element[j] == \"BombB\"):\n",
        "          BombB = BombB+1\n",
        "        elif (element[j] == \"Mid\"):\n",
        "          Mid = Mid+1\n",
        "        elif (element[j] == \"Terroristspawn\"):\n",
        "          TerroristSpawn = TerroristSpawn + 1 \n",
        "      if BombA >= 4:\n",
        "          strategy = \"RushA\"\n",
        "          Strategies.append(strategy)\n",
        "          strategy=0\n",
        "          Gameround.append(i)\n",
        "      if BombB >=4:\n",
        "          strategy = \"RushB\"\n",
        "          Strategies.append(strategy)\n",
        "          strategy=0\n",
        "          Gameround.append(i)\n",
        "      if (BombA<4)&(BombB<4):\n",
        "          strategy = \"Split\"\n",
        "          Strategies.append(strategy)\n",
        "          strategy=0\n",
        "          Gameround.append(i)\n",
        "\n",
        "      i=i+1\n",
        "\n",
        "    #Strategiefindung für CT-Seite\n",
        "    i = 1\n",
        "    Gameround = []\n",
        "    CTStrategies = []\n",
        "    while i <= df[\"playerFrames\"][\"roundNum\"].max():\n",
        "      player= df[\"playerFrames\"]\n",
        "      track3 = player\n",
        "      track4 = track3[(track3['seconds'] > 10) & (track3['seconds'] <= 30)]\n",
        "      track4 = track4.loc[track4[\"roundNum\"]==i] \n",
        "      track4 = track4.loc[track4[\"side\"]==\"CT\"]\n",
        "      \n",
        "      t = NAV_CSV[NAV_CSV[\"mapName\"] == \"de_dust2\"]\n",
        "\n",
        "\n",
        "      area = []\n",
        "      #für jede Reihe durchgehen und Position festlegen und in Liste einspeichern --> jede Sekunde für jeden Spieler\n",
        "      for index, row in track4.iterrows():\n",
        "        f = t[(t['northWestX'] > row['x']-80) & (t['northWestX'] < row['x']+80)]\n",
        "        f = f[(f['northWestY'] > row['y']-80) & (f['northWestY'] < row['y']+80)]\n",
        "      \n",
        "        if f.empty:\n",
        "          loc = \"MISTAKE\"\n",
        "          area.append(loc)\n",
        "        \n",
        "        else:\n",
        "          loc = f[\"areaName\"].value_counts().idxmax()\n",
        "          area.append(loc)\n",
        "\n",
        "      #füge Liste mit Positionen zu DF hinzu\n",
        "      track4[\"area\"] = area \n",
        "      \n",
        "      track4.loc[track4['area'] == \"CTSpawn\",'subgroup'] = \"Mid\"\n",
        "      track4.loc[track4['area'] == \"MidDoors\",'subgroup'] = \"Mid\"\n",
        "      track4.loc[track4['area'] == \"TopofMid\",'subgroup'] = \"Mid\"\n",
        "      track4.loc[track4['area'] == \"Middle\",'subgroup'] = \"Mid\"\n",
        "      track4.loc[track4['area'] == \"Short\",'subgroup'] = \"Mid\"\n",
        "\n",
        "      track4.loc[track4['area'] == \"ShortStairs\",'subgroup'] = \"BombA\"\n",
        "      track4.loc[track4['area'] == \"UnderA\",'subgroup'] = \"BombA\"\n",
        "      track4.loc[track4['area'] == \"ExtendedA\",'subgroup'] = \"BombA\"\n",
        "      track4.loc[track4['area'] == \"Catwalk\",'subgroup'] = \"BombA\"\n",
        "\n",
        "      track4.loc[track4['area'] == \"BombsiteB\",'subgroup'] = \"BombB\"\n",
        "      track4.loc[track4['area'] == \"BDoors\",'subgroup'] = \"BombB\"\n",
        "      track4.loc[track4['area'] == \"Hole\",'subgroup'] = \"BombB\"\n",
        "\n",
        "      track4.loc[track4['area'] == \"TSpawn\",'subgroup'] = \"TerroristSpawn\"\n",
        "      track4.loc[track4['area'] == \"TRamp\",'subgroup'] = \"TerroristSpawn\"\n",
        "\n",
        "      track4.loc[track4['area'] == \"OutsideTunnel\",'subgroup'] = \"BombB\"\n",
        "      track4.loc[track4['area'] == \"UpperTunnel\",'subgroup'] = \"BombB\"\n",
        "      track4.loc[track4['area'] == \"TunnelStairs\",'subgroup'] = \"BombB\"\n",
        "      track4.loc[track4['area'] == \"LowerTunnel\",'subgroup'] = \"BombB\"\n",
        "\n",
        "      track4.loc[track4['area'] == \"LongA\",'subgroup'] = \"BombA\"\n",
        "      track4.loc[track4['area'] == \"LongDoors\",'subgroup'] = \"BombA\"\n",
        "      track4.loc[track4['area'] == \"OutsideLong\",'subgroup'] = \"BombA\"\n",
        "      track4.loc[track4['area'] == \"Pit\",'subgroup'] = \"BombA\"\n",
        "      track4.loc[track4['area'] == \"Ramp\",'subgroup'] = \"BombA\"\n",
        "      track4.loc[track4['area'] == \"Side\",'subgroup'] = \"BombA\"\n",
        "\n",
        "      track4.loc[track4['area'] == \"BombsiteA\",'subgroup'] = \"BombA\"\n",
        "      track4.loc[track4['area'] == \"ARamp\",'subgroup'] = \"BombA\"\n",
        "\n",
        "      stra = []\n",
        "\n",
        "      df2 = track4.groupby(['subgroup', 'name'])['subgroup'].count().unstack(fill_value=0)\n",
        "\n",
        "      for column in df2:\n",
        "        y = df2[{column}].idxmax()\n",
        "        y = y.values.tolist()\n",
        "        stra.append(y)\n",
        "      \n",
        "      j = 0\n",
        "      \n",
        "\n",
        "      BombA = 0\n",
        "      BombB = 0\n",
        "      Mid = 0\n",
        "      TerroristSpawn = 0\n",
        "\n",
        "      for element in stra:\n",
        "        if (element[j] == \"BombA\"):\n",
        "          BombA = BombA+1\n",
        "        elif (element[j] == \"BombB\"):\n",
        "          BombB = BombB+1\n",
        "        elif (element[j] == \"Mid\"):\n",
        "          Mid = Mid+1\n",
        "        elif (element[j] == \"Terroristspawn\"):\n",
        "          TerroristSpawn = TerroristSpawn + 1 \n",
        "      if BombA >= 3:\n",
        "          strategy = \"FullA\"\n",
        "          CTStrategies.append(strategy)\n",
        "          strategy=0\n",
        "          Gameround.append(i)\n",
        "      if BombB >=3:\n",
        "          strategy = \"FullB\"\n",
        "          CTStrategies.append(strategy)\n",
        "          strategy=0\n",
        "          Gameround.append(i)\n",
        "      if (BombA<3)&(BombB<3):\n",
        "          strategy = \"Split\"\n",
        "          CTStrategies.append(strategy)\n",
        "          strategy=0\n",
        "          Gameround.append(i)\n",
        "      \n",
        "      i=i+1\n",
        "      \n",
        "    Winner = df[\"rounds\"][\"winningSide\"].tolist()\n",
        "\n",
        "\n",
        "    df_strategy_temp = pd.DataFrame({'Round':Gameround, \"T-strategy\":Strategies, \"CT-strategy\":CTStrategies, \"Winner\":Winner})\n",
        "    df_strategy = df_strategy.append(df_strategy_temp)\n"
      ],
      "metadata": {
        "id": "cCw05XlbojdV",
        "colab": {
          "base_uri": "https://localhost:8080/"
        },
        "outputId": "a1a1a254-c48a-4ea7-ef64-0edf52f63349"
      },
      "execution_count": null,
      "outputs": [
        {
          "metadata": {
            "tags": null
          },
          "name": "stdout",
          "output_type": "stream",
          "text": [
            "natus-vincere-vs-faze-m2-dust2.dem\n",
            "gambit-vs-faze-m1-dust2.dem\n",
            "g2-vs-faze-m3-dust2.dem\n"
          ]
        },
        {
          "metadata": {
            "tags": null
          },
          "name": "stderr",
          "output_type": "stream",
          "text": [
            "/usr/local/lib/python3.7/dist-packages/ipykernel_launcher.py:40: SettingWithCopyWarning: \n",
            "A value is trying to be set on a copy of a slice from a DataFrame.\n",
            "Try using .loc[row_indexer,col_indexer] = value instead\n",
            "\n",
            "See the caveats in the documentation: https://pandas.pydata.org/pandas-docs/stable/user_guide/indexing.html#returning-a-view-versus-a-copy\n",
            "/usr/local/lib/python3.7/dist-packages/pandas/core/indexing.py:1684: SettingWithCopyWarning: \n",
            "A value is trying to be set on a copy of a slice from a DataFrame.\n",
            "Try using .loc[row_indexer,col_indexer] = value instead\n",
            "\n",
            "See the caveats in the documentation: https://pandas.pydata.org/pandas-docs/stable/user_guide/indexing.html#returning-a-view-versus-a-copy\n",
            "  self.obj[key] = infer_fill_value(value)\n",
            "/usr/local/lib/python3.7/dist-packages/pandas/core/indexing.py:1817: SettingWithCopyWarning: \n",
            "A value is trying to be set on a copy of a slice from a DataFrame.\n",
            "Try using .loc[row_indexer,col_indexer] = value instead\n",
            "\n",
            "See the caveats in the documentation: https://pandas.pydata.org/pandas-docs/stable/user_guide/indexing.html#returning-a-view-versus-a-copy\n",
            "  self._setitem_single_column(loc, value, pi)\n"
          ]
        },
        {
          "metadata": {
            "tags": null
          },
          "name": "stdout",
          "output_type": "stream",
          "text": [
            "ence-vs-faze-m4-dust2.dem\n",
            "forze-vs-outsiders-m1-dust2.dem\n",
            "vitality-vs-liquid-m2-dust2.dem\n",
            "faze-vs-spirit-m2-dust2.dem\n",
            "ence-vs-natus-vincere-m2-dust2.dem\n"
          ]
        }
      ]
    },
    {
      "cell_type": "markdown",
      "source": [
        "#Strategiefindung - Datenaufbereitung"
      ],
      "metadata": {
        "id": "7Njmu-5ZKmfQ"
      }
    },
    {
      "cell_type": "code",
      "source": [
        "#Aufteilung des großen DF in 9 kleine \n",
        "#Werte der T-Seite\n",
        "\n",
        "pi_SS = df_strategy[(df_strategy['T-strategy'] == \"Split\") & (df_strategy['CT-strategy'] == \"Split\") & (df_strategy['Winner'] == \"T\")]\n",
        "pi_SA = df_strategy[(df_strategy['T-strategy'] == \"Split\") & (df_strategy['CT-strategy'] == \"FullA\") & (df_strategy['Winner'] == \"T\")]\n",
        "pi_SB = df_strategy[(df_strategy['T-strategy'] == \"Split\") & (df_strategy['CT-strategy'] == \"FullB\") & (df_strategy['Winner'] == \"T\")]\n",
        "pi_AS = df_strategy[(df_strategy['T-strategy'] == \"RushA\") & (df_strategy['CT-strategy'] == \"Split\") & (df_strategy['Winner'] == \"T\")]\n",
        "pi_AA = df_strategy[(df_strategy['T-strategy'] == \"RushA\") & (df_strategy['CT-strategy'] == \"FullA\") & (df_strategy['Winner'] == \"T\")]\n",
        "pi_AB = df_strategy[(df_strategy['T-strategy'] == \"RushA\") & (df_strategy['CT-strategy'] == \"FullB\") & (df_strategy['Winner'] == \"T\")]\n",
        "pi_BS = df_strategy[(df_strategy['T-strategy'] == \"RushB\") & (df_strategy['CT-strategy'] == \"Split\") & (df_strategy['Winner'] == \"T\")]\n",
        "pi_BA = df_strategy[(df_strategy['T-strategy'] == \"RushB\") & (df_strategy['CT-strategy'] == \"FullA\") & (df_strategy['Winner'] == \"T\")]\n",
        "pi_BB = df_strategy[(df_strategy['T-strategy'] == \"RushB\") & (df_strategy['CT-strategy'] == \"FullB\") & (df_strategy['Winner'] == \"T\")]"
      ],
      "metadata": {
        "id": "ht99pW1sOQLF"
      },
      "execution_count": null,
      "outputs": []
    },
    {
      "cell_type": "code",
      "source": [
        "#Werte der CT-Seite \n",
        "\n",
        "CT_pi_SS = df_strategy[(df_strategy['T-strategy'] == \"Split\") & (df_strategy['CT-strategy'] == \"Split\") & (df_strategy['Winner'] == \"CT\")]\n",
        "CT_pi_SA = df_strategy[(df_strategy['T-strategy'] == \"Split\") & (df_strategy['CT-strategy'] == \"FullA\") & (df_strategy['Winner'] == \"CT\")]\n",
        "CT_pi_SB = df_strategy[(df_strategy['T-strategy'] == \"Split\") & (df_strategy['CT-strategy'] == \"FullB\") & (df_strategy['Winner'] == \"CT\")]\n",
        "CT_pi_AS = df_strategy[(df_strategy['T-strategy'] == \"RushA\") & (df_strategy['CT-strategy'] == \"Split\") & (df_strategy['Winner'] == \"CT\")]\n",
        "CT_pi_AA = df_strategy[(df_strategy['T-strategy'] == \"RushA\") & (df_strategy['CT-strategy'] == \"FullA\") & (df_strategy['Winner'] == \"CT\")]\n",
        "CT_pi_AB = df_strategy[(df_strategy['T-strategy'] == \"RushA\") & (df_strategy['CT-strategy'] == \"FullB\") & (df_strategy['Winner'] == \"CT\")]\n",
        "CT_pi_BS = df_strategy[(df_strategy['T-strategy'] == \"RushB\") & (df_strategy['CT-strategy'] == \"Split\") & (df_strategy['Winner'] == \"CT\")]\n",
        "CT_pi_BA = df_strategy[(df_strategy['T-strategy'] == \"RushB\") & (df_strategy['CT-strategy'] == \"FullA\") & (df_strategy['Winner'] == \"CT\")]\n",
        "CT_pi_BB = df_strategy[(df_strategy['T-strategy'] == \"RushB\") & (df_strategy['CT-strategy'] == \"FullB\") & (df_strategy['Winner'] == \"CT\")]"
      ],
      "metadata": {
        "id": "56LqGSKBVnzs"
      },
      "execution_count": null,
      "outputs": []
    },
    {
      "cell_type": "code",
      "source": [
        "#Gesamtzahl der Ereignisse \n",
        "Full_pi_SS = CT_pi_SS.shape[0] + pi_SS.shape[0]\n",
        "Full_pi_SA = CT_pi_SA.shape[0] + pi_SA.shape[0]\n",
        "Full_pi_SB = CT_pi_SB.shape[0] + pi_SB.shape[0]\n",
        "Full_pi_AS = CT_pi_AS.shape[0] + pi_AS.shape[0]\n",
        "Full_pi_AA = CT_pi_AA.shape[0] + pi_AA.shape[0]\n",
        "Full_pi_AB = CT_pi_AB.shape[0] + pi_AB.shape[0]\n",
        "Full_pi_BS = CT_pi_BS.shape[0] + pi_BS.shape[0]\n",
        "Full_pi_BA = CT_pi_BA.shape[0] + pi_BA.shape[0]\n",
        "Full_pi_BB = CT_pi_BB.shape[0] + pi_BB.shape[0]\n"
      ],
      "metadata": {
        "id": "0EU6cBleiKmz"
      },
      "execution_count": null,
      "outputs": []
    },
    {
      "cell_type": "markdown",
      "source": [
        "#Strategiefindung - Tabellen"
      ],
      "metadata": {
        "id": "uCQqrwuSaZYZ"
      }
    },
    {
      "cell_type": "code",
      "source": [
        "headerColor = 'grey'\n",
        "rowEvenColor = 'lightgrey'\n",
        "rowOddColor = 'white'\n",
        "\n",
        "fig = go.Figure(data=[go.Table(\n",
        "  header=dict(\n",
        "    values=['<b> </b>','<b>Split</b>','<b>FullA</b>','<b>FullB</b>','<b>Total</b>'],\n",
        "    line_color='darkslategray',\n",
        "    fill_color=headerColor,\n",
        "    align=['left','center'],\n",
        "    font=dict(color='white', size=12)\n",
        "  ),\n",
        "  cells=dict(\n",
        "    values=[\n",
        "      ['Split', 'RushA', 'RushB', '<b>TOTAL</b>'],\n",
        "      [Full_pi_SS , Full_pi_AS , Full_pi_BS , Full_pi_SS + Full_pi_AS + Full_pi_BS ],\n",
        "      [Full_pi_SA , Full_pi_AA , Full_pi_BA , Full_pi_SA + Full_pi_AA + Full_pi_BA ],\n",
        "      [Full_pi_SB , Full_pi_AB , Full_pi_BB , Full_pi_SB + Full_pi_AB + Full_pi_BB ],\n",
        "      [Full_pi_SS + Full_pi_SA + Full_pi_SB , Full_pi_AS + Full_pi_AA + Full_pi_AB ,\n",
        "       Full_pi_BS + Full_pi_BA + Full_pi_BB , Full_pi_SS + Full_pi_AS + Full_pi_BS  +\n",
        "       Full_pi_SA + Full_pi_AA + Full_pi_BA +\n",
        "       Full_pi_SB + Full_pi_AB + Full_pi_BB ]],\n",
        "    line_color='darkslategray',\n",
        "    # 2-D list of colors for alternating rows\n",
        "    fill_color = [[rowOddColor,rowEvenColor,rowOddColor, rowEvenColor,rowOddColor]*5],\n",
        "    align = ['left', 'center'],\n",
        "    font = dict(color = 'darkslategray', size = 11)\n",
        "    ))\n",
        "])\n",
        "\n",
        "#print(\"Gesamtzahl\")\n",
        "fig.show()"
      ],
      "metadata": {
        "colab": {
          "base_uri": "https://localhost:8080/",
          "height": 542
        },
        "id": "TQx0aiNnjEKv",
        "outputId": "62e83dc8-a14c-4eba-c976-f5c2dde66c90"
      },
      "execution_count": null,
      "outputs": [
        {
          "output_type": "display_data",
          "data": {
            "text/html": [
              "<html>\n",
              "<head><meta charset=\"utf-8\" /></head>\n",
              "<body>\n",
              "    <div>            <script src=\"https://cdnjs.cloudflare.com/ajax/libs/mathjax/2.7.5/MathJax.js?config=TeX-AMS-MML_SVG\"></script><script type=\"text/javascript\">if (window.MathJax) {MathJax.Hub.Config({SVG: {font: \"STIX-Web\"}});}</script>                <script type=\"text/javascript\">window.PlotlyConfig = {MathJaxConfig: 'local'};</script>\n",
              "        <script src=\"https://cdn.plot.ly/plotly-2.8.3.min.js\"></script>                <div id=\"7b3cb95a-2fec-4e23-8746-d9e7cad248b1\" class=\"plotly-graph-div\" style=\"height:525px; width:100%;\"></div>            <script type=\"text/javascript\">                                    window.PLOTLYENV=window.PLOTLYENV || {};                                    if (document.getElementById(\"7b3cb95a-2fec-4e23-8746-d9e7cad248b1\")) {                    Plotly.newPlot(                        \"7b3cb95a-2fec-4e23-8746-d9e7cad248b1\",                        [{\"cells\":{\"align\":[\"left\",\"center\"],\"fill\":{\"color\":[[\"white\",\"lightgrey\",\"white\",\"lightgrey\",\"white\",\"white\",\"lightgrey\",\"white\",\"lightgrey\",\"white\",\"white\",\"lightgrey\",\"white\",\"lightgrey\",\"white\",\"white\",\"lightgrey\",\"white\",\"lightgrey\",\"white\",\"white\",\"lightgrey\",\"white\",\"lightgrey\",\"white\"]]},\"font\":{\"color\":\"darkslategray\",\"size\":11},\"line\":{\"color\":\"darkslategray\"},\"values\":[[\"Split\",\"RushA\",\"RushB\",\"<b>TOTAL</b>\"],[70,12,15,97],[67,31,8,106],[17,0,18,35],[154,43,41,238]]},\"header\":{\"align\":[\"left\",\"center\"],\"fill\":{\"color\":\"grey\"},\"font\":{\"color\":\"white\",\"size\":12},\"line\":{\"color\":\"darkslategray\"},\"values\":[\"<b> </b>\",\"<b>Split</b>\",\"<b>FullA</b>\",\"<b>FullB</b>\",\"<b>Total</b>\"]},\"type\":\"table\"}],                        {\"template\":{\"data\":{\"bar\":[{\"error_x\":{\"color\":\"#2a3f5f\"},\"error_y\":{\"color\":\"#2a3f5f\"},\"marker\":{\"line\":{\"color\":\"#E5ECF6\",\"width\":0.5},\"pattern\":{\"fillmode\":\"overlay\",\"size\":10,\"solidity\":0.2}},\"type\":\"bar\"}],\"barpolar\":[{\"marker\":{\"line\":{\"color\":\"#E5ECF6\",\"width\":0.5},\"pattern\":{\"fillmode\":\"overlay\",\"size\":10,\"solidity\":0.2}},\"type\":\"barpolar\"}],\"carpet\":[{\"aaxis\":{\"endlinecolor\":\"#2a3f5f\",\"gridcolor\":\"white\",\"linecolor\":\"white\",\"minorgridcolor\":\"white\",\"startlinecolor\":\"#2a3f5f\"},\"baxis\":{\"endlinecolor\":\"#2a3f5f\",\"gridcolor\":\"white\",\"linecolor\":\"white\",\"minorgridcolor\":\"white\",\"startlinecolor\":\"#2a3f5f\"},\"type\":\"carpet\"}],\"choropleth\":[{\"colorbar\":{\"outlinewidth\":0,\"ticks\":\"\"},\"type\":\"choropleth\"}],\"contour\":[{\"colorbar\":{\"outlinewidth\":0,\"ticks\":\"\"},\"colorscale\":[[0.0,\"#0d0887\"],[0.1111111111111111,\"#46039f\"],[0.2222222222222222,\"#7201a8\"],[0.3333333333333333,\"#9c179e\"],[0.4444444444444444,\"#bd3786\"],[0.5555555555555556,\"#d8576b\"],[0.6666666666666666,\"#ed7953\"],[0.7777777777777778,\"#fb9f3a\"],[0.8888888888888888,\"#fdca26\"],[1.0,\"#f0f921\"]],\"type\":\"contour\"}],\"contourcarpet\":[{\"colorbar\":{\"outlinewidth\":0,\"ticks\":\"\"},\"type\":\"contourcarpet\"}],\"heatmap\":[{\"colorbar\":{\"outlinewidth\":0,\"ticks\":\"\"},\"colorscale\":[[0.0,\"#0d0887\"],[0.1111111111111111,\"#46039f\"],[0.2222222222222222,\"#7201a8\"],[0.3333333333333333,\"#9c179e\"],[0.4444444444444444,\"#bd3786\"],[0.5555555555555556,\"#d8576b\"],[0.6666666666666666,\"#ed7953\"],[0.7777777777777778,\"#fb9f3a\"],[0.8888888888888888,\"#fdca26\"],[1.0,\"#f0f921\"]],\"type\":\"heatmap\"}],\"heatmapgl\":[{\"colorbar\":{\"outlinewidth\":0,\"ticks\":\"\"},\"colorscale\":[[0.0,\"#0d0887\"],[0.1111111111111111,\"#46039f\"],[0.2222222222222222,\"#7201a8\"],[0.3333333333333333,\"#9c179e\"],[0.4444444444444444,\"#bd3786\"],[0.5555555555555556,\"#d8576b\"],[0.6666666666666666,\"#ed7953\"],[0.7777777777777778,\"#fb9f3a\"],[0.8888888888888888,\"#fdca26\"],[1.0,\"#f0f921\"]],\"type\":\"heatmapgl\"}],\"histogram\":[{\"marker\":{\"pattern\":{\"fillmode\":\"overlay\",\"size\":10,\"solidity\":0.2}},\"type\":\"histogram\"}],\"histogram2d\":[{\"colorbar\":{\"outlinewidth\":0,\"ticks\":\"\"},\"colorscale\":[[0.0,\"#0d0887\"],[0.1111111111111111,\"#46039f\"],[0.2222222222222222,\"#7201a8\"],[0.3333333333333333,\"#9c179e\"],[0.4444444444444444,\"#bd3786\"],[0.5555555555555556,\"#d8576b\"],[0.6666666666666666,\"#ed7953\"],[0.7777777777777778,\"#fb9f3a\"],[0.8888888888888888,\"#fdca26\"],[1.0,\"#f0f921\"]],\"type\":\"histogram2d\"}],\"histogram2dcontour\":[{\"colorbar\":{\"outlinewidth\":0,\"ticks\":\"\"},\"colorscale\":[[0.0,\"#0d0887\"],[0.1111111111111111,\"#46039f\"],[0.2222222222222222,\"#7201a8\"],[0.3333333333333333,\"#9c179e\"],[0.4444444444444444,\"#bd3786\"],[0.5555555555555556,\"#d8576b\"],[0.6666666666666666,\"#ed7953\"],[0.7777777777777778,\"#fb9f3a\"],[0.8888888888888888,\"#fdca26\"],[1.0,\"#f0f921\"]],\"type\":\"histogram2dcontour\"}],\"mesh3d\":[{\"colorbar\":{\"outlinewidth\":0,\"ticks\":\"\"},\"type\":\"mesh3d\"}],\"parcoords\":[{\"line\":{\"colorbar\":{\"outlinewidth\":0,\"ticks\":\"\"}},\"type\":\"parcoords\"}],\"pie\":[{\"automargin\":true,\"type\":\"pie\"}],\"scatter\":[{\"marker\":{\"colorbar\":{\"outlinewidth\":0,\"ticks\":\"\"}},\"type\":\"scatter\"}],\"scatter3d\":[{\"line\":{\"colorbar\":{\"outlinewidth\":0,\"ticks\":\"\"}},\"marker\":{\"colorbar\":{\"outlinewidth\":0,\"ticks\":\"\"}},\"type\":\"scatter3d\"}],\"scattercarpet\":[{\"marker\":{\"colorbar\":{\"outlinewidth\":0,\"ticks\":\"\"}},\"type\":\"scattercarpet\"}],\"scattergeo\":[{\"marker\":{\"colorbar\":{\"outlinewidth\":0,\"ticks\":\"\"}},\"type\":\"scattergeo\"}],\"scattergl\":[{\"marker\":{\"colorbar\":{\"outlinewidth\":0,\"ticks\":\"\"}},\"type\":\"scattergl\"}],\"scattermapbox\":[{\"marker\":{\"colorbar\":{\"outlinewidth\":0,\"ticks\":\"\"}},\"type\":\"scattermapbox\"}],\"scatterpolar\":[{\"marker\":{\"colorbar\":{\"outlinewidth\":0,\"ticks\":\"\"}},\"type\":\"scatterpolar\"}],\"scatterpolargl\":[{\"marker\":{\"colorbar\":{\"outlinewidth\":0,\"ticks\":\"\"}},\"type\":\"scatterpolargl\"}],\"scatterternary\":[{\"marker\":{\"colorbar\":{\"outlinewidth\":0,\"ticks\":\"\"}},\"type\":\"scatterternary\"}],\"surface\":[{\"colorbar\":{\"outlinewidth\":0,\"ticks\":\"\"},\"colorscale\":[[0.0,\"#0d0887\"],[0.1111111111111111,\"#46039f\"],[0.2222222222222222,\"#7201a8\"],[0.3333333333333333,\"#9c179e\"],[0.4444444444444444,\"#bd3786\"],[0.5555555555555556,\"#d8576b\"],[0.6666666666666666,\"#ed7953\"],[0.7777777777777778,\"#fb9f3a\"],[0.8888888888888888,\"#fdca26\"],[1.0,\"#f0f921\"]],\"type\":\"surface\"}],\"table\":[{\"cells\":{\"fill\":{\"color\":\"#EBF0F8\"},\"line\":{\"color\":\"white\"}},\"header\":{\"fill\":{\"color\":\"#C8D4E3\"},\"line\":{\"color\":\"white\"}},\"type\":\"table\"}]},\"layout\":{\"annotationdefaults\":{\"arrowcolor\":\"#2a3f5f\",\"arrowhead\":0,\"arrowwidth\":1},\"autotypenumbers\":\"strict\",\"coloraxis\":{\"colorbar\":{\"outlinewidth\":0,\"ticks\":\"\"}},\"colorscale\":{\"diverging\":[[0,\"#8e0152\"],[0.1,\"#c51b7d\"],[0.2,\"#de77ae\"],[0.3,\"#f1b6da\"],[0.4,\"#fde0ef\"],[0.5,\"#f7f7f7\"],[0.6,\"#e6f5d0\"],[0.7,\"#b8e186\"],[0.8,\"#7fbc41\"],[0.9,\"#4d9221\"],[1,\"#276419\"]],\"sequential\":[[0.0,\"#0d0887\"],[0.1111111111111111,\"#46039f\"],[0.2222222222222222,\"#7201a8\"],[0.3333333333333333,\"#9c179e\"],[0.4444444444444444,\"#bd3786\"],[0.5555555555555556,\"#d8576b\"],[0.6666666666666666,\"#ed7953\"],[0.7777777777777778,\"#fb9f3a\"],[0.8888888888888888,\"#fdca26\"],[1.0,\"#f0f921\"]],\"sequentialminus\":[[0.0,\"#0d0887\"],[0.1111111111111111,\"#46039f\"],[0.2222222222222222,\"#7201a8\"],[0.3333333333333333,\"#9c179e\"],[0.4444444444444444,\"#bd3786\"],[0.5555555555555556,\"#d8576b\"],[0.6666666666666666,\"#ed7953\"],[0.7777777777777778,\"#fb9f3a\"],[0.8888888888888888,\"#fdca26\"],[1.0,\"#f0f921\"]]},\"colorway\":[\"#636efa\",\"#EF553B\",\"#00cc96\",\"#ab63fa\",\"#FFA15A\",\"#19d3f3\",\"#FF6692\",\"#B6E880\",\"#FF97FF\",\"#FECB52\"],\"font\":{\"color\":\"#2a3f5f\"},\"geo\":{\"bgcolor\":\"white\",\"lakecolor\":\"white\",\"landcolor\":\"#E5ECF6\",\"showlakes\":true,\"showland\":true,\"subunitcolor\":\"white\"},\"hoverlabel\":{\"align\":\"left\"},\"hovermode\":\"closest\",\"mapbox\":{\"style\":\"light\"},\"paper_bgcolor\":\"white\",\"plot_bgcolor\":\"#E5ECF6\",\"polar\":{\"angularaxis\":{\"gridcolor\":\"white\",\"linecolor\":\"white\",\"ticks\":\"\"},\"bgcolor\":\"#E5ECF6\",\"radialaxis\":{\"gridcolor\":\"white\",\"linecolor\":\"white\",\"ticks\":\"\"}},\"scene\":{\"xaxis\":{\"backgroundcolor\":\"#E5ECF6\",\"gridcolor\":\"white\",\"gridwidth\":2,\"linecolor\":\"white\",\"showbackground\":true,\"ticks\":\"\",\"zerolinecolor\":\"white\"},\"yaxis\":{\"backgroundcolor\":\"#E5ECF6\",\"gridcolor\":\"white\",\"gridwidth\":2,\"linecolor\":\"white\",\"showbackground\":true,\"ticks\":\"\",\"zerolinecolor\":\"white\"},\"zaxis\":{\"backgroundcolor\":\"#E5ECF6\",\"gridcolor\":\"white\",\"gridwidth\":2,\"linecolor\":\"white\",\"showbackground\":true,\"ticks\":\"\",\"zerolinecolor\":\"white\"}},\"shapedefaults\":{\"line\":{\"color\":\"#2a3f5f\"}},\"ternary\":{\"aaxis\":{\"gridcolor\":\"white\",\"linecolor\":\"white\",\"ticks\":\"\"},\"baxis\":{\"gridcolor\":\"white\",\"linecolor\":\"white\",\"ticks\":\"\"},\"bgcolor\":\"#E5ECF6\",\"caxis\":{\"gridcolor\":\"white\",\"linecolor\":\"white\",\"ticks\":\"\"}},\"title\":{\"x\":0.05},\"xaxis\":{\"automargin\":true,\"gridcolor\":\"white\",\"linecolor\":\"white\",\"ticks\":\"\",\"title\":{\"standoff\":15},\"zerolinecolor\":\"white\",\"zerolinewidth\":2},\"yaxis\":{\"automargin\":true,\"gridcolor\":\"white\",\"linecolor\":\"white\",\"ticks\":\"\",\"title\":{\"standoff\":15},\"zerolinecolor\":\"white\",\"zerolinewidth\":2}}}},                        {\"responsive\": true}                    ).then(function(){\n",
              "                            \n",
              "var gd = document.getElementById('7b3cb95a-2fec-4e23-8746-d9e7cad248b1');\n",
              "var x = new MutationObserver(function (mutations, observer) {{\n",
              "        var display = window.getComputedStyle(gd).display;\n",
              "        if (!display || display === 'none') {{\n",
              "            console.log([gd, 'removed!']);\n",
              "            Plotly.purge(gd);\n",
              "            observer.disconnect();\n",
              "        }}\n",
              "}});\n",
              "\n",
              "// Listen for the removal of the full notebook cells\n",
              "var notebookContainer = gd.closest('#notebook-container');\n",
              "if (notebookContainer) {{\n",
              "    x.observe(notebookContainer, {childList: true});\n",
              "}}\n",
              "\n",
              "// Listen for the clearing of the current output cell\n",
              "var outputEl = gd.closest('.output');\n",
              "if (outputEl) {{\n",
              "    x.observe(outputEl, {childList: true});\n",
              "}}\n",
              "\n",
              "                        })                };                            </script>        </div>\n",
              "</body>\n",
              "</html>"
            ]
          },
          "metadata": {}
        }
      ]
    },
    {
      "cell_type": "code",
      "source": [
        "headerColor = 'grey'\n",
        "rowEvenColor = 'lightgrey'\n",
        "rowOddColor = 'white'\n",
        "\n",
        "fig = go.Figure(data=[go.Table(\n",
        "  header=dict(\n",
        "    values=['<b> </b>','<b>Split</b>','<b>FullA</b>','<b>FullB</b>','<b>Total</b>'],\n",
        "    line_color='darkslategray',\n",
        "    fill_color=headerColor,\n",
        "    align=['left','center'],\n",
        "    font=dict(color='white', size=12)\n",
        "  ),\n",
        "  cells=dict(\n",
        "    values=[\n",
        "      ['Split', 'RushA', 'RushB', '<b>TOTAL</b>'],\n",
        "      [pi_SS.shape[0]/Full_pi_SS, pi_AS.shape[0]/Full_pi_AS, pi_BS.shape[0]/Full_pi_BS, pi_SS.shape[0]+ pi_AS.shape[0]+ pi_BS.shape[0]],\n",
        "      [pi_SA.shape[0]/Full_pi_SA, pi_AA.shape[0]/Full_pi_AA, pi_BA.shape[0]/Full_pi_BA, pi_SA.shape[0]+ pi_AA.shape[0]+ pi_BA.shape[0]],\n",
        "      [pi_SB.shape[0]/Full_pi_SB, pi_AB.shape[0]/Full_pi_AB, pi_BB.shape[0]/Full_pi_BB, pi_SB.shape[0]+ pi_AB.shape[0]+ pi_BB.shape[0]],\n",
        "      [pi_SS.shape[0]+ pi_SA.shape[0]+ pi_SB.shape[0], pi_AS.shape[0]+ pi_AA.shape[0]+ pi_AB.shape[0],\n",
        "       pi_BS.shape[0]+ pi_BA.shape[0]+ pi_BB.shape[0], pi_SS.shape[0]+ pi_AS.shape[0]+ pi_BS.shape[0] +\n",
        "       pi_SA.shape[0]+ pi_AA.shape[0]+ pi_BA.shape[0]+\n",
        "       pi_SB.shape[0]+ pi_AB.shape[0]+ pi_BB.shape[0]]],\n",
        "    line_color='darkslategray',\n",
        "    # 2-D list of colors for alternating rows\n",
        "    fill_color = [[rowOddColor,rowEvenColor,rowOddColor, rowEvenColor,rowOddColor]*5],\n",
        "    align = ['left', 'center'],\n",
        "    font = dict(color = 'darkslategray', size = 11)\n",
        "    ))\n",
        "])\n",
        "\n",
        "#print(\"SiegWKEIT der T Seite\")\n",
        "fig.show()"
      ],
      "metadata": {
        "colab": {
          "base_uri": "https://localhost:8080/",
          "height": 294
        },
        "id": "ZjJqacNdyyWC",
        "outputId": "abd3aca5-063a-4596-a7d7-275a19c70cf1"
      },
      "execution_count": null,
      "outputs": [
        {
          "output_type": "error",
          "ename": "ZeroDivisionError",
          "evalue": "ignored",
          "traceback": [
            "\u001b[0;31m---------------------------------------------------------------------------\u001b[0m",
            "\u001b[0;31mZeroDivisionError\u001b[0m                         Traceback (most recent call last)",
            "\u001b[0;32m<ipython-input-13-1ddaf83e5256>\u001b[0m in \u001b[0;36m<module>\u001b[0;34m()\u001b[0m\n\u001b[1;32m     16\u001b[0m       \u001b[0;34m[\u001b[0m\u001b[0mpi_SS\u001b[0m\u001b[0;34m.\u001b[0m\u001b[0mshape\u001b[0m\u001b[0;34m[\u001b[0m\u001b[0;36m0\u001b[0m\u001b[0;34m]\u001b[0m\u001b[0;34m/\u001b[0m\u001b[0mFull_pi_SS\u001b[0m\u001b[0;34m,\u001b[0m \u001b[0mpi_AS\u001b[0m\u001b[0;34m.\u001b[0m\u001b[0mshape\u001b[0m\u001b[0;34m[\u001b[0m\u001b[0;36m0\u001b[0m\u001b[0;34m]\u001b[0m\u001b[0;34m/\u001b[0m\u001b[0mFull_pi_AS\u001b[0m\u001b[0;34m,\u001b[0m \u001b[0mpi_BS\u001b[0m\u001b[0;34m.\u001b[0m\u001b[0mshape\u001b[0m\u001b[0;34m[\u001b[0m\u001b[0;36m0\u001b[0m\u001b[0;34m]\u001b[0m\u001b[0;34m/\u001b[0m\u001b[0mFull_pi_BS\u001b[0m\u001b[0;34m,\u001b[0m \u001b[0mpi_SS\u001b[0m\u001b[0;34m.\u001b[0m\u001b[0mshape\u001b[0m\u001b[0;34m[\u001b[0m\u001b[0;36m0\u001b[0m\u001b[0;34m]\u001b[0m\u001b[0;34m+\u001b[0m \u001b[0mpi_AS\u001b[0m\u001b[0;34m.\u001b[0m\u001b[0mshape\u001b[0m\u001b[0;34m[\u001b[0m\u001b[0;36m0\u001b[0m\u001b[0;34m]\u001b[0m\u001b[0;34m+\u001b[0m \u001b[0mpi_BS\u001b[0m\u001b[0;34m.\u001b[0m\u001b[0mshape\u001b[0m\u001b[0;34m[\u001b[0m\u001b[0;36m0\u001b[0m\u001b[0;34m]\u001b[0m\u001b[0;34m]\u001b[0m\u001b[0;34m,\u001b[0m\u001b[0;34m\u001b[0m\u001b[0;34m\u001b[0m\u001b[0m\n\u001b[1;32m     17\u001b[0m       \u001b[0;34m[\u001b[0m\u001b[0mpi_SA\u001b[0m\u001b[0;34m.\u001b[0m\u001b[0mshape\u001b[0m\u001b[0;34m[\u001b[0m\u001b[0;36m0\u001b[0m\u001b[0;34m]\u001b[0m\u001b[0;34m/\u001b[0m\u001b[0mFull_pi_SA\u001b[0m\u001b[0;34m,\u001b[0m \u001b[0mpi_AA\u001b[0m\u001b[0;34m.\u001b[0m\u001b[0mshape\u001b[0m\u001b[0;34m[\u001b[0m\u001b[0;36m0\u001b[0m\u001b[0;34m]\u001b[0m\u001b[0;34m/\u001b[0m\u001b[0mFull_pi_AA\u001b[0m\u001b[0;34m,\u001b[0m \u001b[0mpi_BA\u001b[0m\u001b[0;34m.\u001b[0m\u001b[0mshape\u001b[0m\u001b[0;34m[\u001b[0m\u001b[0;36m0\u001b[0m\u001b[0;34m]\u001b[0m\u001b[0;34m/\u001b[0m\u001b[0mFull_pi_BA\u001b[0m\u001b[0;34m,\u001b[0m \u001b[0mpi_SA\u001b[0m\u001b[0;34m.\u001b[0m\u001b[0mshape\u001b[0m\u001b[0;34m[\u001b[0m\u001b[0;36m0\u001b[0m\u001b[0;34m]\u001b[0m\u001b[0;34m+\u001b[0m \u001b[0mpi_AA\u001b[0m\u001b[0;34m.\u001b[0m\u001b[0mshape\u001b[0m\u001b[0;34m[\u001b[0m\u001b[0;36m0\u001b[0m\u001b[0;34m]\u001b[0m\u001b[0;34m+\u001b[0m \u001b[0mpi_BA\u001b[0m\u001b[0;34m.\u001b[0m\u001b[0mshape\u001b[0m\u001b[0;34m[\u001b[0m\u001b[0;36m0\u001b[0m\u001b[0;34m]\u001b[0m\u001b[0;34m]\u001b[0m\u001b[0;34m,\u001b[0m\u001b[0;34m\u001b[0m\u001b[0;34m\u001b[0m\u001b[0m\n\u001b[0;32m---> 18\u001b[0;31m       \u001b[0;34m[\u001b[0m\u001b[0mpi_SB\u001b[0m\u001b[0;34m.\u001b[0m\u001b[0mshape\u001b[0m\u001b[0;34m[\u001b[0m\u001b[0;36m0\u001b[0m\u001b[0;34m]\u001b[0m\u001b[0;34m/\u001b[0m\u001b[0mFull_pi_SB\u001b[0m\u001b[0;34m,\u001b[0m \u001b[0mpi_AB\u001b[0m\u001b[0;34m.\u001b[0m\u001b[0mshape\u001b[0m\u001b[0;34m[\u001b[0m\u001b[0;36m0\u001b[0m\u001b[0;34m]\u001b[0m\u001b[0;34m/\u001b[0m\u001b[0mFull_pi_AB\u001b[0m\u001b[0;34m,\u001b[0m \u001b[0mpi_BB\u001b[0m\u001b[0;34m.\u001b[0m\u001b[0mshape\u001b[0m\u001b[0;34m[\u001b[0m\u001b[0;36m0\u001b[0m\u001b[0;34m]\u001b[0m\u001b[0;34m/\u001b[0m\u001b[0mFull_pi_BB\u001b[0m\u001b[0;34m,\u001b[0m \u001b[0mpi_SB\u001b[0m\u001b[0;34m.\u001b[0m\u001b[0mshape\u001b[0m\u001b[0;34m[\u001b[0m\u001b[0;36m0\u001b[0m\u001b[0;34m]\u001b[0m\u001b[0;34m+\u001b[0m \u001b[0mpi_AB\u001b[0m\u001b[0;34m.\u001b[0m\u001b[0mshape\u001b[0m\u001b[0;34m[\u001b[0m\u001b[0;36m0\u001b[0m\u001b[0;34m]\u001b[0m\u001b[0;34m+\u001b[0m \u001b[0mpi_BB\u001b[0m\u001b[0;34m.\u001b[0m\u001b[0mshape\u001b[0m\u001b[0;34m[\u001b[0m\u001b[0;36m0\u001b[0m\u001b[0;34m]\u001b[0m\u001b[0;34m]\u001b[0m\u001b[0;34m,\u001b[0m\u001b[0;34m\u001b[0m\u001b[0;34m\u001b[0m\u001b[0m\n\u001b[0m\u001b[1;32m     19\u001b[0m       [pi_SS.shape[0]+ pi_SA.shape[0]+ pi_SB.shape[0], pi_AS.shape[0]+ pi_AA.shape[0]+ pi_AB.shape[0],\n\u001b[1;32m     20\u001b[0m        \u001b[0mpi_BS\u001b[0m\u001b[0;34m.\u001b[0m\u001b[0mshape\u001b[0m\u001b[0;34m[\u001b[0m\u001b[0;36m0\u001b[0m\u001b[0;34m]\u001b[0m\u001b[0;34m+\u001b[0m \u001b[0mpi_BA\u001b[0m\u001b[0;34m.\u001b[0m\u001b[0mshape\u001b[0m\u001b[0;34m[\u001b[0m\u001b[0;36m0\u001b[0m\u001b[0;34m]\u001b[0m\u001b[0;34m+\u001b[0m \u001b[0mpi_BB\u001b[0m\u001b[0;34m.\u001b[0m\u001b[0mshape\u001b[0m\u001b[0;34m[\u001b[0m\u001b[0;36m0\u001b[0m\u001b[0;34m]\u001b[0m\u001b[0;34m,\u001b[0m \u001b[0mpi_SS\u001b[0m\u001b[0;34m.\u001b[0m\u001b[0mshape\u001b[0m\u001b[0;34m[\u001b[0m\u001b[0;36m0\u001b[0m\u001b[0;34m]\u001b[0m\u001b[0;34m+\u001b[0m \u001b[0mpi_AS\u001b[0m\u001b[0;34m.\u001b[0m\u001b[0mshape\u001b[0m\u001b[0;34m[\u001b[0m\u001b[0;36m0\u001b[0m\u001b[0;34m]\u001b[0m\u001b[0;34m+\u001b[0m \u001b[0mpi_BS\u001b[0m\u001b[0;34m.\u001b[0m\u001b[0mshape\u001b[0m\u001b[0;34m[\u001b[0m\u001b[0;36m0\u001b[0m\u001b[0;34m]\u001b[0m \u001b[0;34m+\u001b[0m\u001b[0;34m\u001b[0m\u001b[0;34m\u001b[0m\u001b[0m\n",
            "\u001b[0;31mZeroDivisionError\u001b[0m: division by zero"
          ]
        }
      ]
    },
    {
      "cell_type": "code",
      "source": [
        "headerColor = 'grey'\n",
        "rowEvenColor = 'lightgrey'\n",
        "rowOddColor = 'white'\n",
        "\n",
        "fig = go.Figure(data=[go.Table(\n",
        "  header=dict(\n",
        "    values=['<b> </b>','<b>Split</b>','<b>FullA</b>','<b>FullB</b>','<b>Total</b>'],\n",
        "    line_color='darkslategray',\n",
        "    fill_color=headerColor,\n",
        "    align=['left','center'],\n",
        "    font=dict(color='white', size=12)\n",
        "  ),\n",
        "  cells=dict(\n",
        "    values=[\n",
        "      ['Split', 'RushA', 'RushB', '<b>TOTAL</b>'],\n",
        "      [CT_pi_SS.shape[0], CT_pi_AS.shape[0], CT_pi_BS.shape[0], CT_pi_SS.shape[0]+ CT_pi_AS.shape[0]+ CT_pi_BS.shape[0]],\n",
        "      [CT_pi_SA.shape[0], CT_pi_AA.shape[0], CT_pi_BA.shape[0], CT_pi_SA.shape[0]+ CT_pi_AA.shape[0]+ CT_pi_BA.shape[0]],\n",
        "      [CT_pi_SB.shape[0], CT_pi_AB.shape[0], CT_pi_BB.shape[0], CT_pi_SB.shape[0]+ CT_pi_AB.shape[0]+ CT_pi_BB.shape[0]],\n",
        "      [CT_pi_SS.shape[0]+ CT_pi_SA.shape[0]+ CT_pi_SB.shape[0], CT_pi_AS.shape[0]+ CT_pi_AA.shape[0]+ CT_pi_AB.shape[0],\n",
        "       CT_pi_BS.shape[0]+ CT_pi_BA.shape[0]+ CT_pi_BB.shape[0], CT_pi_SS.shape[0]+ CT_pi_AS.shape[0]+ CT_pi_BS.shape[0] +\n",
        "       CT_pi_SA.shape[0]+ CT_pi_AA.shape[0]+ CT_pi_BA.shape[0]+\n",
        "       CT_pi_SB.shape[0]+ CT_pi_AB.shape[0]+ CT_pi_BB.shape[0]]],\n",
        "    line_color='darkslategray',\n",
        "    # 2-D list of colors for alternating rows\n",
        "    fill_color = [[rowOddColor,rowEvenColor,rowOddColor, rowEvenColor,rowOddColor]*5],\n",
        "    align = ['left', 'center'],\n",
        "    font = dict(color = 'darkslategray', size = 11)\n",
        "    ))\n",
        "])\n",
        "\n",
        "#print(\"Siege der CT Seite\")\n",
        "fig.show()"
      ],
      "metadata": {
        "id": "FZOAkFE4WFYM"
      },
      "execution_count": null,
      "outputs": []
    },
    {
      "cell_type": "code",
      "source": [
        "headerColor = 'grey'\n",
        "rowEvenColor = 'lightgrey'\n",
        "rowOddColor = 'white'\n",
        "\n",
        "fig = go.Figure(data=[go.Table(\n",
        "  header=dict(\n",
        "    values=['<b> </b>','<b>Split</b>','<b>FullA</b>','<b>FullB</b>','<b>Total</b>'],\n",
        "    line_color='darkslategray',\n",
        "    fill_color=headerColor,\n",
        "    align=['left','center'],\n",
        "    font=dict(color='white', size=12)\n",
        "  ),\n",
        "  cells=dict(\n",
        "    values=[\n",
        "      ['Split', 'RushA', 'RushB', '<b>TOTAL</b>'],\n",
        "      [CT_pi_SS.shape[0]/Full_pi_SS, CT_pi_AS.shape[0]/Full_pi_AS, CT_pi_BS.shape[0]/Full_pi_BS, (CT_pi_SS.shape[0]+ CT_pi_AS.shape[0]+ CT_pi_BS.shape[0])/df_strategy.shape[0]],\n",
        "      [CT_pi_SA.shape[0]/Full_pi_SA, CT_pi_AA.shape[0]/Full_pi_AA, CT_pi_BA.shape[0]/Full_pi_BA, (CT_pi_SA.shape[0]+ CT_pi_AA.shape[0]+ CT_pi_BA.shape[0])/df_strategy.shape[0]],\n",
        "      [CT_pi_SB.shape[0]/Full_pi_SB, CT_pi_AB.shape[0]/Full_pi_AB, CT_pi_BB.shape[0]/Full_pi_BB, (CT_pi_SB.shape[0]+ CT_pi_AB.shape[0]+ CT_pi_BB.shape[0])/df_strategy.shape[0]],\n",
        "      [(CT_pi_SS.shape[0]+ CT_pi_SA.shape[0]+ CT_pi_SB.shape[0])/df_strategy.shape[0], (CT_pi_AS.shape[0]+ CT_pi_AA.shape[0]+ CT_pi_AB.shape[0])/df_strategy.shape[0],\n",
        "       (CT_pi_BS.shape[0]+ CT_pi_BA.shape[0]+ CT_pi_BB.shape[0])/df_strategy.shape[0], (CT_pi_SS.shape[0]+ CT_pi_AS.shape[0]+ CT_pi_BS.shape[0] +\n",
        "       CT_pi_SA.shape[0]+ CT_pi_AA.shape[0]+ CT_pi_BA.shape[0]+\n",
        "       CT_pi_SB.shape[0]+ CT_pi_AB.shape[0]+ CT_pi_BB.shape[0])/df_strategy.shape[0]]],\n",
        "    line_color='darkslategray',\n",
        "    # 2-D list of colors for alternating rows\n",
        "    fill_color = [[rowOddColor,rowEvenColor,rowOddColor, rowEvenColor,rowOddColor]*5],\n",
        "    align = ['left', 'center'],\n",
        "    font = dict(color = 'darkslategray', size = 11)\n",
        "    ))\n",
        "])\n",
        "\n",
        "#print(\"SiegWKEIT der CT Seite\")\n",
        "fig.show()"
      ],
      "metadata": {
        "id": "o_yQgYeOX12n"
      },
      "execution_count": null,
      "outputs": []
    },
    {
      "cell_type": "markdown",
      "source": [
        "#Strategiefindung - Nash"
      ],
      "metadata": {
        "id": "F5HZj8tuTvcV"
      }
    },
    {
      "cell_type": "code",
      "source": [
        "\n",
        "A = np.array([[pi_SS.shape[0]/Full_pi_SS, pi_SA.shape[0]/Full_pi_SA, pi_SB.shape[0]/Full_pi_SB], \n",
        "              [pi_AS.shape[0]/Full_pi_AS, pi_AA.shape[0]/Full_pi_AA, pi_AB.shape[0]/Full_pi_AB],\n",
        "              [pi_BS.shape[0]/Full_pi_BS, pi_BA.shape[0]/Full_pi_BA, pi_BB.shape[0]/Full_pi_BB]])\n",
        "\n",
        "B = np.array([[CT_pi_SS.shape[0]/Full_pi_SS, CT_pi_SA.shape[0]/Full_pi_SA, CT_pi_SB.shape[0]/Full_pi_SB], \n",
        "              [CT_pi_AS.shape[0]/Full_pi_AS, CT_pi_AA.shape[0]/Full_pi_AA, CT_pi_AB.shape[0]/Full_pi_AB],\n",
        "              [CT_pi_BS.shape[0]/Full_pi_BS, CT_pi_BA.shape[0]/Full_pi_BA, CT_pi_BB.shape[0]/Full_pi_BB]])\n",
        "\n",
        "CSGO = nash.Game(A, B)\n",
        "CSGO"
      ],
      "metadata": {
        "colab": {
          "base_uri": "https://localhost:8080/",
          "height": 240
        },
        "id": "Molov4rnTw7v",
        "outputId": "59be7bf1-25ef-4e9c-ee94-7bcc7f93d6fa"
      },
      "execution_count": null,
      "outputs": [
        {
          "output_type": "error",
          "ename": "ZeroDivisionError",
          "evalue": "ignored",
          "traceback": [
            "\u001b[0;31m---------------------------------------------------------------------------\u001b[0m",
            "\u001b[0;31mZeroDivisionError\u001b[0m                         Traceback (most recent call last)",
            "\u001b[0;32m<ipython-input-14-c440d682fc60>\u001b[0m in \u001b[0;36m<module>\u001b[0;34m()\u001b[0m\n\u001b[1;32m      1\u001b[0m \u001b[0;34m\u001b[0m\u001b[0m\n\u001b[1;32m      2\u001b[0m A = np.array([[pi_SS.shape[0]/Full_pi_SS, pi_SA.shape[0]/Full_pi_SA, pi_SB.shape[0]/Full_pi_SB], \n\u001b[0;32m----> 3\u001b[0;31m               \u001b[0;34m[\u001b[0m\u001b[0mpi_AS\u001b[0m\u001b[0;34m.\u001b[0m\u001b[0mshape\u001b[0m\u001b[0;34m[\u001b[0m\u001b[0;36m0\u001b[0m\u001b[0;34m]\u001b[0m\u001b[0;34m/\u001b[0m\u001b[0mFull_pi_AS\u001b[0m\u001b[0;34m,\u001b[0m \u001b[0mpi_AA\u001b[0m\u001b[0;34m.\u001b[0m\u001b[0mshape\u001b[0m\u001b[0;34m[\u001b[0m\u001b[0;36m0\u001b[0m\u001b[0;34m]\u001b[0m\u001b[0;34m/\u001b[0m\u001b[0mFull_pi_AA\u001b[0m\u001b[0;34m,\u001b[0m \u001b[0mpi_AB\u001b[0m\u001b[0;34m.\u001b[0m\u001b[0mshape\u001b[0m\u001b[0;34m[\u001b[0m\u001b[0;36m0\u001b[0m\u001b[0;34m]\u001b[0m\u001b[0;34m/\u001b[0m\u001b[0mFull_pi_AB\u001b[0m\u001b[0;34m]\u001b[0m\u001b[0;34m,\u001b[0m\u001b[0;34m\u001b[0m\u001b[0;34m\u001b[0m\u001b[0m\n\u001b[0m\u001b[1;32m      4\u001b[0m               [pi_BS.shape[0]/Full_pi_BS, pi_BA.shape[0]/Full_pi_BA, pi_BB.shape[0]/Full_pi_BB]])\n\u001b[1;32m      5\u001b[0m \u001b[0;34m\u001b[0m\u001b[0m\n",
            "\u001b[0;31mZeroDivisionError\u001b[0m: division by zero"
          ]
        }
      ]
    },
    {
      "cell_type": "code",
      "source": [
        "equilibria = CSGO.support_enumeration()\n",
        "for eq in equilibria:\n",
        "    print(eq)"
      ],
      "metadata": {
        "colab": {
          "base_uri": "https://localhost:8080/",
          "height": 204
        },
        "id": "QfbRtrTrXjgV",
        "outputId": "e705d95d-d548-426f-b554-4672929fbe56"
      },
      "execution_count": null,
      "outputs": [
        {
          "output_type": "error",
          "ename": "NameError",
          "evalue": "ignored",
          "traceback": [
            "\u001b[0;31m---------------------------------------------------------------------------\u001b[0m",
            "\u001b[0;31mNameError\u001b[0m                                 Traceback (most recent call last)",
            "\u001b[0;32m<ipython-input-15-ffd091d8feb4>\u001b[0m in \u001b[0;36m<module>\u001b[0;34m()\u001b[0m\n\u001b[0;32m----> 1\u001b[0;31m \u001b[0mequilibria\u001b[0m \u001b[0;34m=\u001b[0m \u001b[0mCSGO\u001b[0m\u001b[0;34m.\u001b[0m\u001b[0msupport_enumeration\u001b[0m\u001b[0;34m(\u001b[0m\u001b[0;34m)\u001b[0m\u001b[0;34m\u001b[0m\u001b[0;34m\u001b[0m\u001b[0m\n\u001b[0m\u001b[1;32m      2\u001b[0m \u001b[0;32mfor\u001b[0m \u001b[0meq\u001b[0m \u001b[0;32min\u001b[0m \u001b[0mequilibria\u001b[0m\u001b[0;34m:\u001b[0m\u001b[0;34m\u001b[0m\u001b[0;34m\u001b[0m\u001b[0m\n\u001b[1;32m      3\u001b[0m     \u001b[0mprint\u001b[0m\u001b[0;34m(\u001b[0m\u001b[0meq\u001b[0m\u001b[0;34m)\u001b[0m\u001b[0;34m\u001b[0m\u001b[0;34m\u001b[0m\u001b[0m\n",
            "\u001b[0;31mNameError\u001b[0m: name 'CSGO' is not defined"
          ]
        }
      ]
    }
  ]
}