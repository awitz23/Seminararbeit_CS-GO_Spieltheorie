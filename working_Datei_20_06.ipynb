{
  "nbformat": 4,
  "nbformat_minor": 0,
  "metadata": {
    "colab": {
      "name": "awpy_Colab.ipynb",
      "provenance": [],
      "collapsed_sections": [],
      "include_colab_link": true
    },
    "kernelspec": {
      "name": "python3",
      "display_name": "Python 3"
    },
    "language_info": {
      "name": "python"
    }
  },
  "cells": [
    {
      "cell_type": "markdown",
      "metadata": {
        "id": "view-in-github",
        "colab_type": "text"
      },
      "source": [
        "<a href=\"https://colab.research.google.com/github/awitz23/Project_CS-GO/blob/main/working_Datei_20_06.ipynb\" target=\"_parent\"><img src=\"https://colab.research.google.com/assets/colab-badge.svg\" alt=\"Open In Colab\"/></a>"
      ]
    },
    {
      "cell_type": "markdown",
      "source": [
        "#Installationen"
      ],
      "metadata": {
        "id": "0bB6IyTcadMP"
      }
    },
    {
      "cell_type": "code",
      "source": [
        "pip install Pillow==9.0.0"
      ],
      "metadata": {
        "colab": {
          "base_uri": "https://localhost:8080/",
          "height": 339
        },
        "id": "dKND3OLDw0ck",
        "outputId": "83b6c210-a8b3-4b3e-a40d-96ce56cb0efa"
      },
      "execution_count": 2,
      "outputs": [
        {
          "output_type": "stream",
          "name": "stdout",
          "text": [
            "Looking in indexes: https://pypi.org/simple, https://us-python.pkg.dev/colab-wheels/public/simple/\n",
            "Collecting Pillow==9.0.0\n",
            "  Downloading Pillow-9.0.0-cp37-cp37m-manylinux_2_17_x86_64.manylinux2014_x86_64.whl (4.3 MB)\n",
            "\u001b[K     |████████████████████████████████| 4.3 MB 5.1 MB/s \n",
            "\u001b[?25hInstalling collected packages: Pillow\n",
            "  Attempting uninstall: Pillow\n",
            "    Found existing installation: Pillow 7.1.2\n",
            "    Uninstalling Pillow-7.1.2:\n",
            "      Successfully uninstalled Pillow-7.1.2\n",
            "\u001b[31mERROR: pip's dependency resolver does not currently take into account all the packages that are installed. This behaviour is the source of the following dependency conflicts.\n",
            "albumentations 0.1.12 requires imgaug<0.2.7,>=0.2.5, but you have imgaug 0.2.9 which is incompatible.\u001b[0m\n",
            "Successfully installed Pillow-9.0.0\n"
          ]
        },
        {
          "output_type": "display_data",
          "data": {
            "application/vnd.colab-display-data+json": {
              "pip_warning": {
                "packages": [
                  "PIL"
                ]
              }
            }
          },
          "metadata": {}
        }
      ]
    },
    {
      "cell_type": "code",
      "metadata": {
        "colab": {
          "base_uri": "https://localhost:8080/"
        },
        "id": "WeKqfFet03GZ",
        "outputId": "3c934e73-b862-4630-8128-f82a3984c960"
      },
      "source": [
        "%%shell\n",
        "add-apt-repository -y ppa:longsleep/golang-backports\n",
        "apt -y update\n",
        "apt -y install golang-go\n",
        "\n",
        "pip install awpy\n",
        "\n",
        "#wget https://storage.googleapis.com/csgo-tests/default.dem"
      ],
      "execution_count": 3,
      "outputs": [
        {
          "output_type": "stream",
          "name": "stdout",
          "text": [
            "\r0% [Working]\r            \rGet:1 http://security.ubuntu.com/ubuntu bionic-security InRelease [88.7 kB]\n",
            "\r0% [Connecting to archive.ubuntu.com (185.125.190.36)] [1 InRelease 14.2 kB/88.\r                                                                               \rHit:2 https://developer.download.nvidia.com/compute/cuda/repos/ubuntu1804/x86_64  InRelease\n",
            "Get:3 https://cloud.r-project.org/bin/linux/ubuntu bionic-cran40/ InRelease [3,626 B]\n",
            "Ign:4 https://developer.download.nvidia.com/compute/machine-learning/repos/ubuntu1804/x86_64  InRelease\n",
            "Hit:5 https://developer.download.nvidia.com/compute/machine-learning/repos/ubuntu1804/x86_64  Release\n",
            "Hit:6 http://archive.ubuntu.com/ubuntu bionic InRelease\n",
            "Hit:7 http://ppa.launchpad.net/c2d4u.team/c2d4u4.0+/ubuntu bionic InRelease\n",
            "Get:8 http://archive.ubuntu.com/ubuntu bionic-updates InRelease [88.7 kB]\n",
            "Hit:9 http://ppa.launchpad.net/cran/libgit2/ubuntu bionic InRelease\n",
            "Hit:10 http://ppa.launchpad.net/deadsnakes/ppa/ubuntu bionic InRelease\n",
            "Get:11 http://archive.ubuntu.com/ubuntu bionic-backports InRelease [74.6 kB]\n",
            "Hit:12 http://ppa.launchpad.net/graphics-drivers/ppa/ubuntu bionic InRelease\n",
            "Get:13 http://security.ubuntu.com/ubuntu bionic-security/universe amd64 Packages [1,521 kB]\n",
            "Get:14 http://ppa.launchpad.net/longsleep/golang-backports/ubuntu bionic InRelease [15.4 kB]\n",
            "Get:15 http://security.ubuntu.com/ubuntu bionic-security/restricted amd64 Packages [1,006 kB]\n",
            "Get:16 http://security.ubuntu.com/ubuntu bionic-security/multiverse amd64 Packages [22.8 kB]\n",
            "Get:17 http://security.ubuntu.com/ubuntu bionic-security/main amd64 Packages [2,861 kB]\n",
            "Get:19 http://archive.ubuntu.com/ubuntu bionic-updates/main amd64 Packages [3,294 kB]\n",
            "Get:20 http://archive.ubuntu.com/ubuntu bionic-updates/restricted amd64 Packages [1,040 kB]\n",
            "Get:21 http://archive.ubuntu.com/ubuntu bionic-updates/universe amd64 Packages [2,297 kB]\n",
            "Get:22 http://archive.ubuntu.com/ubuntu bionic-updates/multiverse amd64 Packages [29.8 kB]\n",
            "Get:23 http://archive.ubuntu.com/ubuntu bionic-backports/main amd64 Packages [12.2 kB]\n",
            "Get:24 http://ppa.launchpad.net/longsleep/golang-backports/ubuntu bionic/main amd64 Packages [7,218 B]\n",
            "Fetched 12.4 MB in 7s (1,757 kB/s)\n",
            "Reading package lists... Done\n",
            "Hit:1 https://cloud.r-project.org/bin/linux/ubuntu bionic-cran40/ InRelease\n",
            "Hit:2 https://developer.download.nvidia.com/compute/cuda/repos/ubuntu1804/x86_64  InRelease\n",
            "Ign:3 https://developer.download.nvidia.com/compute/machine-learning/repos/ubuntu1804/x86_64  InRelease\n",
            "Hit:4 https://developer.download.nvidia.com/compute/machine-learning/repos/ubuntu1804/x86_64  Release\n",
            "Hit:5 http://ppa.launchpad.net/c2d4u.team/c2d4u4.0+/ubuntu bionic InRelease\n",
            "Hit:6 http://security.ubuntu.com/ubuntu bionic-security InRelease\n",
            "Hit:7 http://archive.ubuntu.com/ubuntu bionic InRelease\n",
            "Hit:8 http://archive.ubuntu.com/ubuntu bionic-updates InRelease\n",
            "Hit:9 http://ppa.launchpad.net/cran/libgit2/ubuntu bionic InRelease\n",
            "Hit:10 http://archive.ubuntu.com/ubuntu bionic-backports InRelease\n",
            "Hit:11 http://ppa.launchpad.net/deadsnakes/ppa/ubuntu bionic InRelease\n",
            "Hit:12 http://ppa.launchpad.net/graphics-drivers/ppa/ubuntu bionic InRelease\n",
            "Hit:13 http://ppa.launchpad.net/longsleep/golang-backports/ubuntu bionic InRelease\n",
            "Reading package lists... Done\n",
            "Building dependency tree       \n",
            "Reading state information... Done\n",
            "49 packages can be upgraded. Run 'apt list --upgradable' to see them.\n",
            "Reading package lists... Done\n",
            "Building dependency tree       \n",
            "Reading state information... Done\n",
            "The following package was automatically installed and is no longer required:\n",
            "  libnvidia-common-460\n",
            "Use 'apt autoremove' to remove it.\n",
            "The following additional packages will be installed:\n",
            "  golang-1.18-go golang-1.18-src golang-src\n",
            "Suggested packages:\n",
            "  bzr | brz mercurial subversion\n",
            "The following NEW packages will be installed:\n",
            "  golang-1.18-go golang-1.18-src golang-go golang-src\n",
            "0 upgraded, 4 newly installed, 0 to remove and 49 not upgraded.\n",
            "Need to get 76.4 MB of archives.\n",
            "After this operation, 436 MB of additional disk space will be used.\n",
            "Get:1 http://ppa.launchpad.net/longsleep/golang-backports/ubuntu bionic/main amd64 golang-1.18-src all 1.18.3-1longsleep1+focal [15.6 MB]\n",
            "Get:2 http://ppa.launchpad.net/longsleep/golang-backports/ubuntu bionic/main amd64 golang-1.18-go amd64 1.18.3-1longsleep1+focal [60.8 MB]\n",
            "Get:3 http://ppa.launchpad.net/longsleep/golang-backports/ubuntu bionic/main amd64 golang-src amd64 2:1.18~1longsleep1 [5,080 B]\n",
            "Get:4 http://ppa.launchpad.net/longsleep/golang-backports/ubuntu bionic/main amd64 golang-go amd64 2:1.18~1longsleep1 [24.1 kB]\n",
            "Fetched 76.4 MB in 6s (12.6 MB/s)\n",
            "Selecting previously unselected package golang-1.18-src.\n",
            "(Reading database ... 155639 files and directories currently installed.)\n",
            "Preparing to unpack .../golang-1.18-src_1.18.3-1longsleep1+focal_all.deb ...\n",
            "Unpacking golang-1.18-src (1.18.3-1longsleep1+focal) ...\n",
            "Selecting previously unselected package golang-1.18-go.\n",
            "Preparing to unpack .../golang-1.18-go_1.18.3-1longsleep1+focal_amd64.deb ...\n",
            "Unpacking golang-1.18-go (1.18.3-1longsleep1+focal) ...\n",
            "Selecting previously unselected package golang-src:amd64.\n",
            "Preparing to unpack .../golang-src_2%3a1.18~1longsleep1_amd64.deb ...\n",
            "Unpacking golang-src:amd64 (2:1.18~1longsleep1) ...\n",
            "Selecting previously unselected package golang-go.\n",
            "Preparing to unpack .../golang-go_2%3a1.18~1longsleep1_amd64.deb ...\n",
            "Unpacking golang-go (2:1.18~1longsleep1) ...\n",
            "Setting up golang-1.18-src (1.18.3-1longsleep1+focal) ...\n",
            "Setting up golang-1.18-go (1.18.3-1longsleep1+focal) ...\n",
            "Setting up golang-src:amd64 (2:1.18~1longsleep1) ...\n",
            "Setting up golang-go (2:1.18~1longsleep1) ...\n",
            "Processing triggers for man-db (2.8.3-2ubuntu0.1) ...\n",
            "Looking in indexes: https://pypi.org/simple, https://us-python.pkg.dev/colab-wheels/public/simple/\n",
            "Collecting awpy\n",
            "  Downloading awpy-1.1.7.tar.gz (10.1 MB)\n",
            "\u001b[K     |████████████████████████████████| 10.1 MB 6.7 MB/s \n",
            "\u001b[?25hRequirement already satisfied: pandas>=0.25.3 in /usr/local/lib/python3.7/dist-packages (from awpy) (1.3.5)\n",
            "Requirement already satisfied: numpy>=1.18.1 in /usr/local/lib/python3.7/dist-packages (from awpy) (1.21.6)\n",
            "Requirement already satisfied: scipy>=1.4.1 in /usr/local/lib/python3.7/dist-packages (from awpy) (1.4.1)\n",
            "Requirement already satisfied: matplotlib>=3.1.2 in /usr/local/lib/python3.7/dist-packages (from awpy) (3.2.2)\n",
            "Requirement already satisfied: networkx>=2.6.3 in /usr/local/lib/python3.7/dist-packages (from awpy) (2.6.3)\n",
            "Collecting textdistance>=4.2.0\n",
            "  Downloading textdistance-4.2.2-py3-none-any.whl (28 kB)\n",
            "Collecting imageio>=2.9.0\n",
            "  Downloading imageio-2.19.3-py3-none-any.whl (3.4 MB)\n",
            "\u001b[K     |████████████████████████████████| 3.4 MB 30.2 MB/s \n",
            "\u001b[?25hRequirement already satisfied: tqdm>=4.55.2 in /usr/local/lib/python3.7/dist-packages (from awpy) (4.64.0)\n",
            "Requirement already satisfied: pillow>=8.3.2 in /usr/local/lib/python3.7/dist-packages (from imageio>=2.9.0->awpy) (9.0.0)\n",
            "Requirement already satisfied: kiwisolver>=1.0.1 in /usr/local/lib/python3.7/dist-packages (from matplotlib>=3.1.2->awpy) (1.4.3)\n",
            "Requirement already satisfied: cycler>=0.10 in /usr/local/lib/python3.7/dist-packages (from matplotlib>=3.1.2->awpy) (0.11.0)\n",
            "Requirement already satisfied: python-dateutil>=2.1 in /usr/local/lib/python3.7/dist-packages (from matplotlib>=3.1.2->awpy) (2.8.2)\n",
            "Requirement already satisfied: pyparsing!=2.0.4,!=2.1.2,!=2.1.6,>=2.0.1 in /usr/local/lib/python3.7/dist-packages (from matplotlib>=3.1.2->awpy) (3.0.9)\n",
            "Requirement already satisfied: typing-extensions in /usr/local/lib/python3.7/dist-packages (from kiwisolver>=1.0.1->matplotlib>=3.1.2->awpy) (4.1.1)\n",
            "Requirement already satisfied: pytz>=2017.3 in /usr/local/lib/python3.7/dist-packages (from pandas>=0.25.3->awpy) (2022.1)\n",
            "Requirement already satisfied: six>=1.5 in /usr/local/lib/python3.7/dist-packages (from python-dateutil>=2.1->matplotlib>=3.1.2->awpy) (1.15.0)\n",
            "Building wheels for collected packages: awpy\n",
            "  Building wheel for awpy (setup.py) ... \u001b[?25l\u001b[?25hdone\n",
            "  Created wheel for awpy: filename=awpy-1.1.7-py3-none-any.whl size=10064602 sha256=9577ba9b2bac84a0c308f6e054c5a14cdc96736cdfc14cda109ca823947602ba\n",
            "  Stored in directory: /root/.cache/pip/wheels/26/50/b0/6a83f9f8f8f593139b8f645db54b20231c646e192bafd50649\n",
            "Successfully built awpy\n",
            "Installing collected packages: textdistance, imageio, awpy\n",
            "  Attempting uninstall: imageio\n",
            "    Found existing installation: imageio 2.4.1\n",
            "    Uninstalling imageio-2.4.1:\n",
            "      Successfully uninstalled imageio-2.4.1\n",
            "\u001b[31mERROR: pip's dependency resolver does not currently take into account all the packages that are installed. This behaviour is the source of the following dependency conflicts.\n",
            "albumentations 0.1.12 requires imgaug<0.2.7,>=0.2.5, but you have imgaug 0.2.9 which is incompatible.\u001b[0m\n",
            "Successfully installed awpy-1.1.7 imageio-2.19.3 textdistance-4.2.2\n"
          ]
        },
        {
          "output_type": "execute_result",
          "data": {
            "text/plain": [
              ""
            ]
          },
          "metadata": {},
          "execution_count": 3
        }
      ]
    },
    {
      "cell_type": "code",
      "source": [
        "import pandas as pd\n",
        "import numpy as np\n",
        "\n",
        "#from awpy.parser import DemoParser\n",
        "from awpy import *\n",
        "#from awpy.data import NAV_CSV --> evtl. nicht notwendig, mal ausprobieren\n",
        "\n",
        "from google.colab import drive\n",
        "from google.colab import files\n",
        "drive.mount('/content/drive')\n",
        "\n",
        "\n",
        "from awpy.data import NAV_CSV\n",
        "\n",
        "!pip install nashpy\n",
        "import nashpy as nash\n",
        "import numpy as np\n",
        "\n",
        "import plotly.graph_objects as go\n",
        "\n",
        "\n",
        "pd.set_option('max_rows', 200)\n",
        "pd.set_option('max_colwidth', 4000)\n",
        "pd.describe_option('max_colwidth')\n",
        "df_strategy=pd.DataFrame()\n",
        "\n",
        "import pandas as pd\n",
        "import os\n",
        "dir = '/content/drive/MyDrive/2022_Dust2'\n",
        "\n",
        "strat_18 = \"/content/drive/MyDrive/CSV_Dateien/df_strategy_2018.csv\"\n",
        "strat_19 = \"/content/drive/MyDrive/CSV_Dateien/df_strategy_2019 (2).csv\"\n",
        "strat_20 = \"/content/drive/MyDrive/CSV_Dateien/df_strategy_2020.csv\"\n",
        "strat_21 = \"/content/drive/MyDrive/CSV_Dateien/df_strategy_2021.csv\"\n",
        "strat_22 = \"/content/drive/MyDrive/CSV_Dateien/df_strategy_2022.csv\"\n",
        "\n",
        "buy_18 = \"/content/drive/MyDrive/CSV_Dateien/Buy_dec_2018.csv\"\n",
        "buy_19 = \"/content/drive/MyDrive/CSV_Dateien/Buy_dec_2019_2.csv\"\n",
        "buy_20 = \"/content/drive/MyDrive/CSV_Dateien/Buy_dec_2020 (1).csv\"\n",
        "buy_21 = \"/content/drive/MyDrive/CSV_Dateien/Buy_dec_2021.csv\"\n",
        "buy_22 = \"/content/drive/MyDrive/CSV_Dateien/Buy_dec_2022.csv\""
      ],
      "metadata": {
        "colab": {
          "base_uri": "https://localhost:8080/"
        },
        "id": "7I1rGINUdoab",
        "outputId": "1ed2d8ad-5313-48e6-9deb-fe782d4d667e"
      },
      "execution_count": 199,
      "outputs": [
        {
          "output_type": "stream",
          "name": "stdout",
          "text": [
            "Drive already mounted at /content/drive; to attempt to forcibly remount, call drive.mount(\"/content/drive\", force_remount=True).\n",
            "Looking in indexes: https://pypi.org/simple, https://us-python.pkg.dev/colab-wheels/public/simple/\n",
            "Requirement already satisfied: nashpy in /usr/local/lib/python3.7/dist-packages (0.0.21)\n",
            "Requirement already satisfied: numpy>=1.12.1 in /usr/local/lib/python3.7/dist-packages (from nashpy) (1.21.6)\n",
            "Requirement already satisfied: scipy>=0.19.0 in /usr/local/lib/python3.7/dist-packages (from nashpy) (1.4.1)\n",
            "display.max_colwidth : int or None\n",
            "    The maximum width in characters of a column in the repr of\n",
            "    a pandas data structure. When the column overflows, a \"...\"\n",
            "    placeholder is embedded in the output. A 'None' value means unlimited.\n",
            "    [default: 50] [currently: 4000]\n"
          ]
        }
      ]
    },
    {
      "cell_type": "markdown",
      "source": [
        "#Einlesen der CSV"
      ],
      "metadata": {
        "id": "ZzeQTBdwLbuT"
      }
    },
    {
      "cell_type": "code",
      "source": [
        "df_strat_18 = pd.DataFrame(pd.read_csv(strat_18, sep=',', header=0))\n",
        "df_strat_19 = pd.DataFrame(pd.read_csv(strat_19, sep=',', header=0))\n",
        "df_strat_20 = pd.DataFrame(pd.read_csv(strat_20, sep=',', header=0))\n",
        "df_strat_21 = pd.DataFrame(pd.read_csv(strat_21, sep=',', header=0))\n",
        "df_strat_22 = pd.DataFrame(pd.read_csv(strat_22, sep=',', header=0))\n",
        "print(df_strat_22)"
      ],
      "metadata": {
        "colab": {
          "base_uri": "https://localhost:8080/"
        },
        "id": "F204PWrsLbfO",
        "outputId": "9a754166-7ce6-4e54-d0f1-9443b0b6e364"
      },
      "execution_count": 9,
      "outputs": [
        {
          "output_type": "stream",
          "name": "stdout",
          "text": [
            "     Unnamed: 0  Round T-strategy CT-strategy Winner\n",
            "0             0      1      Split       Split     CT\n",
            "1             1      2      Split       Split     CT\n",
            "2             2      3      Split       FullA      T\n",
            "3             3      4      RushA       FullA      T\n",
            "4             4      5      Split       Split      T\n",
            "..          ...    ...        ...         ...    ...\n",
            "233          23     24      RushA       FullA      T\n",
            "234          24     25      Split       Split      T\n",
            "235          25     26      RushB       Split      T\n",
            "236          26     27      RushB       Split      T\n",
            "237          27     28      RushB       Split     CT\n",
            "\n",
            "[238 rows x 5 columns]\n"
          ]
        }
      ]
    },
    {
      "cell_type": "code",
      "source": [
        "Buy_dec_18 = pd.DataFrame(pd.read_csv(buy_18, sep=',', header=0))\n",
        "Buy_dec_19 = pd.DataFrame(pd.read_csv(buy_19, sep=',', header=0))\n",
        "Buy_dec_20 = pd.DataFrame(pd.read_csv(buy_20, sep=',', header=0))\n",
        "Buy_dec_21 = pd.DataFrame(pd.read_csv(buy_21, sep=',', header=0))\n",
        "Buy_dec_22 = pd.DataFrame(pd.read_csv(buy_22, sep=',', header=0))\n",
        "\n",
        "Buy_Dec = pd.concat([Buy_dec_18, Buy_dec_19, Buy_dec_20, Buy_dec_21, Buy_dec_22], ignore_index=True)"
      ],
      "metadata": {
        "id": "r_WuV_2TN14w"
      },
      "execution_count": 202,
      "outputs": []
    },
    {
      "cell_type": "code",
      "source": [
        "df_strategy = pd.concat([df_strat_18], ignore_index=True)\n",
        "#df_strat_18,df_strat_19, \n",
        "df_strategy"
      ],
      "metadata": {
        "colab": {
          "base_uri": "https://localhost:8080/",
          "height": 424
        },
        "id": "4Efb9Fl5MitA",
        "outputId": "4d4ca858-f102-49bf-c60c-7ee8143d66ba"
      },
      "execution_count": 184,
      "outputs": [
        {
          "output_type": "execute_result",
          "data": {
            "text/plain": [
              "      Unnamed: 0  Round T-strategy CT-strategy Winner\n",
              "0              0      1      RushA       FullA     CT\n",
              "1              1      2      Split       FullA     CT\n",
              "2              2      3      Split       FullA     CT\n",
              "3              3      4      RushB       Split     CT\n",
              "4              4      5      Split       Split      T\n",
              "...          ...    ...        ...         ...    ...\n",
              "1203          19     20      RushB       Split      T\n",
              "1204          20     21      RushB       Split      T\n",
              "1205          21     22      RushA       FullA      T\n",
              "1206          22     23      RushA       FullA      T\n",
              "1207          23     24      Split       FullA     CT\n",
              "\n",
              "[1208 rows x 5 columns]"
            ],
            "text/html": [
              "\n",
              "  <div id=\"df-1ce41226-6bcd-485b-92be-c0dc5119a5da\">\n",
              "    <div class=\"colab-df-container\">\n",
              "      <div>\n",
              "<style scoped>\n",
              "    .dataframe tbody tr th:only-of-type {\n",
              "        vertical-align: middle;\n",
              "    }\n",
              "\n",
              "    .dataframe tbody tr th {\n",
              "        vertical-align: top;\n",
              "    }\n",
              "\n",
              "    .dataframe thead th {\n",
              "        text-align: right;\n",
              "    }\n",
              "</style>\n",
              "<table border=\"1\" class=\"dataframe\">\n",
              "  <thead>\n",
              "    <tr style=\"text-align: right;\">\n",
              "      <th></th>\n",
              "      <th>Unnamed: 0</th>\n",
              "      <th>Round</th>\n",
              "      <th>T-strategy</th>\n",
              "      <th>CT-strategy</th>\n",
              "      <th>Winner</th>\n",
              "    </tr>\n",
              "  </thead>\n",
              "  <tbody>\n",
              "    <tr>\n",
              "      <th>0</th>\n",
              "      <td>0</td>\n",
              "      <td>1</td>\n",
              "      <td>RushA</td>\n",
              "      <td>FullA</td>\n",
              "      <td>CT</td>\n",
              "    </tr>\n",
              "    <tr>\n",
              "      <th>1</th>\n",
              "      <td>1</td>\n",
              "      <td>2</td>\n",
              "      <td>Split</td>\n",
              "      <td>FullA</td>\n",
              "      <td>CT</td>\n",
              "    </tr>\n",
              "    <tr>\n",
              "      <th>2</th>\n",
              "      <td>2</td>\n",
              "      <td>3</td>\n",
              "      <td>Split</td>\n",
              "      <td>FullA</td>\n",
              "      <td>CT</td>\n",
              "    </tr>\n",
              "    <tr>\n",
              "      <th>3</th>\n",
              "      <td>3</td>\n",
              "      <td>4</td>\n",
              "      <td>RushB</td>\n",
              "      <td>Split</td>\n",
              "      <td>CT</td>\n",
              "    </tr>\n",
              "    <tr>\n",
              "      <th>4</th>\n",
              "      <td>4</td>\n",
              "      <td>5</td>\n",
              "      <td>Split</td>\n",
              "      <td>Split</td>\n",
              "      <td>T</td>\n",
              "    </tr>\n",
              "    <tr>\n",
              "      <th>...</th>\n",
              "      <td>...</td>\n",
              "      <td>...</td>\n",
              "      <td>...</td>\n",
              "      <td>...</td>\n",
              "      <td>...</td>\n",
              "    </tr>\n",
              "    <tr>\n",
              "      <th>1203</th>\n",
              "      <td>19</td>\n",
              "      <td>20</td>\n",
              "      <td>RushB</td>\n",
              "      <td>Split</td>\n",
              "      <td>T</td>\n",
              "    </tr>\n",
              "    <tr>\n",
              "      <th>1204</th>\n",
              "      <td>20</td>\n",
              "      <td>21</td>\n",
              "      <td>RushB</td>\n",
              "      <td>Split</td>\n",
              "      <td>T</td>\n",
              "    </tr>\n",
              "    <tr>\n",
              "      <th>1205</th>\n",
              "      <td>21</td>\n",
              "      <td>22</td>\n",
              "      <td>RushA</td>\n",
              "      <td>FullA</td>\n",
              "      <td>T</td>\n",
              "    </tr>\n",
              "    <tr>\n",
              "      <th>1206</th>\n",
              "      <td>22</td>\n",
              "      <td>23</td>\n",
              "      <td>RushA</td>\n",
              "      <td>FullA</td>\n",
              "      <td>T</td>\n",
              "    </tr>\n",
              "    <tr>\n",
              "      <th>1207</th>\n",
              "      <td>23</td>\n",
              "      <td>24</td>\n",
              "      <td>Split</td>\n",
              "      <td>FullA</td>\n",
              "      <td>CT</td>\n",
              "    </tr>\n",
              "  </tbody>\n",
              "</table>\n",
              "<p>1208 rows × 5 columns</p>\n",
              "</div>\n",
              "      <button class=\"colab-df-convert\" onclick=\"convertToInteractive('df-1ce41226-6bcd-485b-92be-c0dc5119a5da')\"\n",
              "              title=\"Convert this dataframe to an interactive table.\"\n",
              "              style=\"display:none;\">\n",
              "        \n",
              "  <svg xmlns=\"http://www.w3.org/2000/svg\" height=\"24px\"viewBox=\"0 0 24 24\"\n",
              "       width=\"24px\">\n",
              "    <path d=\"M0 0h24v24H0V0z\" fill=\"none\"/>\n",
              "    <path d=\"M18.56 5.44l.94 2.06.94-2.06 2.06-.94-2.06-.94-.94-2.06-.94 2.06-2.06.94zm-11 1L8.5 8.5l.94-2.06 2.06-.94-2.06-.94L8.5 2.5l-.94 2.06-2.06.94zm10 10l.94 2.06.94-2.06 2.06-.94-2.06-.94-.94-2.06-.94 2.06-2.06.94z\"/><path d=\"M17.41 7.96l-1.37-1.37c-.4-.4-.92-.59-1.43-.59-.52 0-1.04.2-1.43.59L10.3 9.45l-7.72 7.72c-.78.78-.78 2.05 0 2.83L4 21.41c.39.39.9.59 1.41.59.51 0 1.02-.2 1.41-.59l7.78-7.78 2.81-2.81c.8-.78.8-2.07 0-2.86zM5.41 20L4 18.59l7.72-7.72 1.47 1.35L5.41 20z\"/>\n",
              "  </svg>\n",
              "      </button>\n",
              "      \n",
              "  <style>\n",
              "    .colab-df-container {\n",
              "      display:flex;\n",
              "      flex-wrap:wrap;\n",
              "      gap: 12px;\n",
              "    }\n",
              "\n",
              "    .colab-df-convert {\n",
              "      background-color: #E8F0FE;\n",
              "      border: none;\n",
              "      border-radius: 50%;\n",
              "      cursor: pointer;\n",
              "      display: none;\n",
              "      fill: #1967D2;\n",
              "      height: 32px;\n",
              "      padding: 0 0 0 0;\n",
              "      width: 32px;\n",
              "    }\n",
              "\n",
              "    .colab-df-convert:hover {\n",
              "      background-color: #E2EBFA;\n",
              "      box-shadow: 0px 1px 2px rgba(60, 64, 67, 0.3), 0px 1px 3px 1px rgba(60, 64, 67, 0.15);\n",
              "      fill: #174EA6;\n",
              "    }\n",
              "\n",
              "    [theme=dark] .colab-df-convert {\n",
              "      background-color: #3B4455;\n",
              "      fill: #D2E3FC;\n",
              "    }\n",
              "\n",
              "    [theme=dark] .colab-df-convert:hover {\n",
              "      background-color: #434B5C;\n",
              "      box-shadow: 0px 1px 3px 1px rgba(0, 0, 0, 0.15);\n",
              "      filter: drop-shadow(0px 1px 2px rgba(0, 0, 0, 0.3));\n",
              "      fill: #FFFFFF;\n",
              "    }\n",
              "  </style>\n",
              "\n",
              "      <script>\n",
              "        const buttonEl =\n",
              "          document.querySelector('#df-1ce41226-6bcd-485b-92be-c0dc5119a5da button.colab-df-convert');\n",
              "        buttonEl.style.display =\n",
              "          google.colab.kernel.accessAllowed ? 'block' : 'none';\n",
              "\n",
              "        async function convertToInteractive(key) {\n",
              "          const element = document.querySelector('#df-1ce41226-6bcd-485b-92be-c0dc5119a5da');\n",
              "          const dataTable =\n",
              "            await google.colab.kernel.invokeFunction('convertToInteractive',\n",
              "                                                     [key], {});\n",
              "          if (!dataTable) return;\n",
              "\n",
              "          const docLinkHtml = 'Like what you see? Visit the ' +\n",
              "            '<a target=\"_blank\" href=https://colab.research.google.com/notebooks/data_table.ipynb>data table notebook</a>'\n",
              "            + ' to learn more about interactive tables.';\n",
              "          element.innerHTML = '';\n",
              "          dataTable['output_type'] = 'display_data';\n",
              "          await google.colab.output.renderOutput(dataTable, element);\n",
              "          const docLink = document.createElement('div');\n",
              "          docLink.innerHTML = docLinkHtml;\n",
              "          element.appendChild(docLink);\n",
              "        }\n",
              "      </script>\n",
              "    </div>\n",
              "  </div>\n",
              "  "
            ]
          },
          "metadata": {},
          "execution_count": 184
        }
      ]
    },
    {
      "cell_type": "markdown",
      "source": [
        "#Buy Decision"
      ],
      "metadata": {
        "id": "4PsVf7sOa3QZ"
      }
    },
    {
      "cell_type": "code",
      "source": [
        "#Parsing\n",
        "\n",
        "CT_Buy = []\n",
        "T_Buy = []\n",
        "Winner_list = []\n",
        "GameRound_list = []\n",
        "for file in os.listdir(dir):\n",
        "  \n",
        "  if file.endswith(\".dem\"):\n",
        "    \n",
        "    p = DemoParser(demofile=\"/content/drive/MyDrive/2022_Dust2/\"+file, parse_rate=128)\n",
        "    df = p.parse(return_type=\"df\")\n",
        "    print(file)\n",
        "    CT_buy_temp = df[\"rounds\"][\"ctBuyType\"].tolist()\n",
        "    T_buy_temp = df[\"rounds\"][\"tBuyType\"].tolist()\n",
        "    Winner_list_temp = df[\"rounds\"][\"winningSide\"].tolist()\n",
        "    Gameround_list_temp = df[\"rounds\"][\"roundNum\"].tolist()\n",
        "    print(CT_buy_temp)\n",
        "\n",
        "    CT_Buy.extend(CT_buy_temp)\n",
        "    T_Buy.extend(T_buy_temp)\n",
        "    Winner_list.extend(Winner_list_temp)\n",
        "    GameRound_list.extend(Gameround_list_temp)\n",
        "    print(CT_Buy)\n",
        "\n",
        "    Buy_Dec = pd.DataFrame({'Round':GameRound_list, \"T-Buy\":T_Buy, \"CT-Buy\":CT_Buy, \"Winner\":Winner_list})\n",
        "    #print(Buy_Dec)\n",
        "\n",
        "Buy_Dec.to_csv(\"Buy_dec_2018.csv\")"
      ],
      "metadata": {
        "colab": {
          "base_uri": "https://localhost:8080/"
        },
        "id": "up-wgGX9KI3C",
        "outputId": "b095a0b4-f40c-425d-8f9d-ce8ca28cd53e"
      },
      "execution_count": 5,
      "outputs": [
        {
          "output_type": "stream",
          "name": "stdout",
          "text": [
            "natus-vincere-vs-faze-m2-dust2.dem\n",
            "['Full Eco', 'Full Buy', 'Full Buy', 'Semi Buy', 'Full Eco', 'Full Buy', 'Semi Buy', 'Full Buy', 'Full Buy', 'Full Buy', 'Full Buy', 'Full Buy', 'Full Buy', 'Full Buy', 'Full Buy', 'Full Eco', 'Full Buy', 'Full Buy', 'Full Buy', 'Full Buy', 'Full Buy', 'Semi Eco', 'Full Buy', 'Full Buy', 'Full Buy', 'Semi Eco', 'Full Eco', 'Full Buy']\n",
            "['Full Eco', 'Full Buy', 'Full Buy', 'Semi Buy', 'Full Eco', 'Full Buy', 'Semi Buy', 'Full Buy', 'Full Buy', 'Full Buy', 'Full Buy', 'Full Buy', 'Full Buy', 'Full Buy', 'Full Buy', 'Full Eco', 'Full Buy', 'Full Buy', 'Full Buy', 'Full Buy', 'Full Buy', 'Semi Eco', 'Full Buy', 'Full Buy', 'Full Buy', 'Semi Eco', 'Full Eco', 'Full Buy']\n",
            "gambit-vs-faze-m1-dust2.dem\n",
            "['Full Eco', 'Full Buy', 'Full Buy', 'Full Buy', 'Full Buy', 'Full Buy', 'Full Buy', 'Full Eco', 'Full Buy', 'Full Buy', 'Full Buy', 'Full Buy', 'Full Buy', 'Full Buy', 'Full Buy', 'Full Eco', 'Semi Buy', 'Semi Eco', 'Full Buy', 'Full Buy', 'Semi Buy']\n",
            "['Full Eco', 'Full Buy', 'Full Buy', 'Semi Buy', 'Full Eco', 'Full Buy', 'Semi Buy', 'Full Buy', 'Full Buy', 'Full Buy', 'Full Buy', 'Full Buy', 'Full Buy', 'Full Buy', 'Full Buy', 'Full Eco', 'Full Buy', 'Full Buy', 'Full Buy', 'Full Buy', 'Full Buy', 'Semi Eco', 'Full Buy', 'Full Buy', 'Full Buy', 'Semi Eco', 'Full Eco', 'Full Buy', 'Full Eco', 'Full Buy', 'Full Buy', 'Full Buy', 'Full Buy', 'Full Buy', 'Full Buy', 'Full Eco', 'Full Buy', 'Full Buy', 'Full Buy', 'Full Buy', 'Full Buy', 'Full Buy', 'Full Buy', 'Full Eco', 'Semi Buy', 'Semi Eco', 'Full Buy', 'Full Buy', 'Semi Buy']\n",
            "g2-vs-faze-m3-dust2.dem\n",
            "['Full Eco', 'Semi Eco', 'Full Eco', 'Full Buy', 'Full Buy', 'Full Buy', 'Full Eco', 'Full Buy', 'Semi Eco', 'Full Buy', 'Full Buy', 'Full Buy', 'Full Buy', 'Full Buy', 'Full Buy', 'Full Eco', 'Semi Eco', 'Semi Eco', 'Full Buy', 'Full Buy', 'Full Buy', 'Full Buy', 'Full Buy', 'Full Buy', 'Full Buy', 'Full Eco', 'Full Buy', 'Full Buy', 'Semi Buy', 'Full Buy']\n",
            "['Full Eco', 'Full Buy', 'Full Buy', 'Semi Buy', 'Full Eco', 'Full Buy', 'Semi Buy', 'Full Buy', 'Full Buy', 'Full Buy', 'Full Buy', 'Full Buy', 'Full Buy', 'Full Buy', 'Full Buy', 'Full Eco', 'Full Buy', 'Full Buy', 'Full Buy', 'Full Buy', 'Full Buy', 'Semi Eco', 'Full Buy', 'Full Buy', 'Full Buy', 'Semi Eco', 'Full Eco', 'Full Buy', 'Full Eco', 'Full Buy', 'Full Buy', 'Full Buy', 'Full Buy', 'Full Buy', 'Full Buy', 'Full Eco', 'Full Buy', 'Full Buy', 'Full Buy', 'Full Buy', 'Full Buy', 'Full Buy', 'Full Buy', 'Full Eco', 'Semi Buy', 'Semi Eco', 'Full Buy', 'Full Buy', 'Semi Buy', 'Full Eco', 'Semi Eco', 'Full Eco', 'Full Buy', 'Full Buy', 'Full Buy', 'Full Eco', 'Full Buy', 'Semi Eco', 'Full Buy', 'Full Buy', 'Full Buy', 'Full Buy', 'Full Buy', 'Full Buy', 'Full Eco', 'Semi Eco', 'Semi Eco', 'Full Buy', 'Full Buy', 'Full Buy', 'Full Buy', 'Full Buy', 'Full Buy', 'Full Buy', 'Full Eco', 'Full Buy', 'Full Buy', 'Semi Buy', 'Full Buy']\n",
            "ence-vs-faze-m4-dust2.dem\n",
            "['Full Eco', 'Semi Buy', 'Full Buy', 'Full Buy', 'Full Buy', 'Full Buy', 'Semi Buy', 'Full Eco', 'Full Buy', 'Full Buy', 'Full Buy', 'Full Buy', 'Full Buy', 'Full Buy', 'Full Buy', 'Full Eco', 'Semi Buy', 'Full Eco', 'Full Buy', 'Full Buy', 'Full Buy', 'Full Buy', 'Full Buy', 'Full Buy', 'Full Buy', 'Full Buy', 'Full Buy', 'Full Buy']\n",
            "['Full Eco', 'Full Buy', 'Full Buy', 'Semi Buy', 'Full Eco', 'Full Buy', 'Semi Buy', 'Full Buy', 'Full Buy', 'Full Buy', 'Full Buy', 'Full Buy', 'Full Buy', 'Full Buy', 'Full Buy', 'Full Eco', 'Full Buy', 'Full Buy', 'Full Buy', 'Full Buy', 'Full Buy', 'Semi Eco', 'Full Buy', 'Full Buy', 'Full Buy', 'Semi Eco', 'Full Eco', 'Full Buy', 'Full Eco', 'Full Buy', 'Full Buy', 'Full Buy', 'Full Buy', 'Full Buy', 'Full Buy', 'Full Eco', 'Full Buy', 'Full Buy', 'Full Buy', 'Full Buy', 'Full Buy', 'Full Buy', 'Full Buy', 'Full Eco', 'Semi Buy', 'Semi Eco', 'Full Buy', 'Full Buy', 'Semi Buy', 'Full Eco', 'Semi Eco', 'Full Eco', 'Full Buy', 'Full Buy', 'Full Buy', 'Full Eco', 'Full Buy', 'Semi Eco', 'Full Buy', 'Full Buy', 'Full Buy', 'Full Buy', 'Full Buy', 'Full Buy', 'Full Eco', 'Semi Eco', 'Semi Eco', 'Full Buy', 'Full Buy', 'Full Buy', 'Full Buy', 'Full Buy', 'Full Buy', 'Full Buy', 'Full Eco', 'Full Buy', 'Full Buy', 'Semi Buy', 'Full Buy', 'Full Eco', 'Semi Buy', 'Full Buy', 'Full Buy', 'Full Buy', 'Full Buy', 'Semi Buy', 'Full Eco', 'Full Buy', 'Full Buy', 'Full Buy', 'Full Buy', 'Full Buy', 'Full Buy', 'Full Buy', 'Full Eco', 'Semi Buy', 'Full Eco', 'Full Buy', 'Full Buy', 'Full Buy', 'Full Buy', 'Full Buy', 'Full Buy', 'Full Buy', 'Full Buy', 'Full Buy', 'Full Buy']\n",
            "forze-vs-outsiders-m1-dust2.dem\n",
            "['Full Eco', 'Full Buy', 'Full Buy', 'Full Buy', 'Full Buy', 'Full Buy', 'Full Buy', 'Full Buy', 'Full Buy', 'Full Buy', 'Full Buy', 'Full Buy', 'Full Buy', 'Full Buy', 'Full Buy', 'Full Eco', 'Full Buy', 'Full Buy', 'Full Buy', 'Full Buy', 'Full Buy', 'Full Buy', 'Full Buy', 'Full Buy', 'Full Buy', 'Full Buy', 'Full Buy', 'Full Buy']\n",
            "['Full Eco', 'Full Buy', 'Full Buy', 'Semi Buy', 'Full Eco', 'Full Buy', 'Semi Buy', 'Full Buy', 'Full Buy', 'Full Buy', 'Full Buy', 'Full Buy', 'Full Buy', 'Full Buy', 'Full Buy', 'Full Eco', 'Full Buy', 'Full Buy', 'Full Buy', 'Full Buy', 'Full Buy', 'Semi Eco', 'Full Buy', 'Full Buy', 'Full Buy', 'Semi Eco', 'Full Eco', 'Full Buy', 'Full Eco', 'Full Buy', 'Full Buy', 'Full Buy', 'Full Buy', 'Full Buy', 'Full Buy', 'Full Eco', 'Full Buy', 'Full Buy', 'Full Buy', 'Full Buy', 'Full Buy', 'Full Buy', 'Full Buy', 'Full Eco', 'Semi Buy', 'Semi Eco', 'Full Buy', 'Full Buy', 'Semi Buy', 'Full Eco', 'Semi Eco', 'Full Eco', 'Full Buy', 'Full Buy', 'Full Buy', 'Full Eco', 'Full Buy', 'Semi Eco', 'Full Buy', 'Full Buy', 'Full Buy', 'Full Buy', 'Full Buy', 'Full Buy', 'Full Eco', 'Semi Eco', 'Semi Eco', 'Full Buy', 'Full Buy', 'Full Buy', 'Full Buy', 'Full Buy', 'Full Buy', 'Full Buy', 'Full Eco', 'Full Buy', 'Full Buy', 'Semi Buy', 'Full Buy', 'Full Eco', 'Semi Buy', 'Full Buy', 'Full Buy', 'Full Buy', 'Full Buy', 'Semi Buy', 'Full Eco', 'Full Buy', 'Full Buy', 'Full Buy', 'Full Buy', 'Full Buy', 'Full Buy', 'Full Buy', 'Full Eco', 'Semi Buy', 'Full Eco', 'Full Buy', 'Full Buy', 'Full Buy', 'Full Buy', 'Full Buy', 'Full Buy', 'Full Buy', 'Full Buy', 'Full Buy', 'Full Buy', 'Full Eco', 'Full Buy', 'Full Buy', 'Full Buy', 'Full Buy', 'Full Buy', 'Full Buy', 'Full Buy', 'Full Buy', 'Full Buy', 'Full Buy', 'Full Buy', 'Full Buy', 'Full Buy', 'Full Buy', 'Full Eco', 'Full Buy', 'Full Buy', 'Full Buy', 'Full Buy', 'Full Buy', 'Full Buy', 'Full Buy', 'Full Buy', 'Full Buy', 'Full Buy', 'Full Buy', 'Full Buy']\n",
            "vitality-vs-liquid-m2-dust2.dem\n",
            "['Full Eco', 'Full Buy', 'Full Buy', 'Semi Eco', 'Full Buy', 'Full Buy', 'Semi Eco', 'Full Buy', 'Full Buy', 'Full Buy', 'Full Buy', 'Full Buy', 'Semi Eco', 'Full Buy', 'Full Buy', 'Full Eco', 'Semi Buy', 'Full Buy', 'Full Buy', 'Full Buy', 'Full Buy', 'Full Eco', 'Full Buy', 'Full Buy', 'Full Buy', 'Full Buy', 'Full Buy']\n",
            "['Full Eco', 'Full Buy', 'Full Buy', 'Semi Buy', 'Full Eco', 'Full Buy', 'Semi Buy', 'Full Buy', 'Full Buy', 'Full Buy', 'Full Buy', 'Full Buy', 'Full Buy', 'Full Buy', 'Full Buy', 'Full Eco', 'Full Buy', 'Full Buy', 'Full Buy', 'Full Buy', 'Full Buy', 'Semi Eco', 'Full Buy', 'Full Buy', 'Full Buy', 'Semi Eco', 'Full Eco', 'Full Buy', 'Full Eco', 'Full Buy', 'Full Buy', 'Full Buy', 'Full Buy', 'Full Buy', 'Full Buy', 'Full Eco', 'Full Buy', 'Full Buy', 'Full Buy', 'Full Buy', 'Full Buy', 'Full Buy', 'Full Buy', 'Full Eco', 'Semi Buy', 'Semi Eco', 'Full Buy', 'Full Buy', 'Semi Buy', 'Full Eco', 'Semi Eco', 'Full Eco', 'Full Buy', 'Full Buy', 'Full Buy', 'Full Eco', 'Full Buy', 'Semi Eco', 'Full Buy', 'Full Buy', 'Full Buy', 'Full Buy', 'Full Buy', 'Full Buy', 'Full Eco', 'Semi Eco', 'Semi Eco', 'Full Buy', 'Full Buy', 'Full Buy', 'Full Buy', 'Full Buy', 'Full Buy', 'Full Buy', 'Full Eco', 'Full Buy', 'Full Buy', 'Semi Buy', 'Full Buy', 'Full Eco', 'Semi Buy', 'Full Buy', 'Full Buy', 'Full Buy', 'Full Buy', 'Semi Buy', 'Full Eco', 'Full Buy', 'Full Buy', 'Full Buy', 'Full Buy', 'Full Buy', 'Full Buy', 'Full Buy', 'Full Eco', 'Semi Buy', 'Full Eco', 'Full Buy', 'Full Buy', 'Full Buy', 'Full Buy', 'Full Buy', 'Full Buy', 'Full Buy', 'Full Buy', 'Full Buy', 'Full Buy', 'Full Eco', 'Full Buy', 'Full Buy', 'Full Buy', 'Full Buy', 'Full Buy', 'Full Buy', 'Full Buy', 'Full Buy', 'Full Buy', 'Full Buy', 'Full Buy', 'Full Buy', 'Full Buy', 'Full Buy', 'Full Eco', 'Full Buy', 'Full Buy', 'Full Buy', 'Full Buy', 'Full Buy', 'Full Buy', 'Full Buy', 'Full Buy', 'Full Buy', 'Full Buy', 'Full Buy', 'Full Buy', 'Full Eco', 'Full Buy', 'Full Buy', 'Semi Eco', 'Full Buy', 'Full Buy', 'Semi Eco', 'Full Buy', 'Full Buy', 'Full Buy', 'Full Buy', 'Full Buy', 'Semi Eco', 'Full Buy', 'Full Buy', 'Full Eco', 'Semi Buy', 'Full Buy', 'Full Buy', 'Full Buy', 'Full Buy', 'Full Eco', 'Full Buy', 'Full Buy', 'Full Buy', 'Full Buy', 'Full Buy']\n",
            "faze-vs-spirit-m2-dust2.dem\n",
            "['Full Eco', 'Full Buy', 'Full Buy', 'Semi Buy', 'Full Buy', 'Full Buy', 'Full Buy', 'Full Buy', 'Full Buy', 'Full Buy', 'Full Buy', 'Full Buy', 'Full Eco', 'Full Buy', 'Full Buy', 'Full Eco', 'Full Buy', 'Full Buy', 'Semi Eco', 'Full Buy', 'Full Buy', 'Full Buy', 'Full Buy', 'Full Buy', 'Full Buy', 'Full Buy', 'Full Buy', 'Full Buy', 'Full Buy', 'Semi Buy', 'Full Buy', 'Full Buy', 'Full Buy', 'Full Buy', 'Full Buy', 'Full Buy', 'Full Buy', 'Full Buy', 'Full Buy', 'Full Buy', 'Full Buy', 'Full Buy', 'Full Buy', 'Full Buy', 'Full Buy', 'Full Buy', 'Full Buy', 'Full Buy']\n",
            "['Full Eco', 'Full Buy', 'Full Buy', 'Semi Buy', 'Full Eco', 'Full Buy', 'Semi Buy', 'Full Buy', 'Full Buy', 'Full Buy', 'Full Buy', 'Full Buy', 'Full Buy', 'Full Buy', 'Full Buy', 'Full Eco', 'Full Buy', 'Full Buy', 'Full Buy', 'Full Buy', 'Full Buy', 'Semi Eco', 'Full Buy', 'Full Buy', 'Full Buy', 'Semi Eco', 'Full Eco', 'Full Buy', 'Full Eco', 'Full Buy', 'Full Buy', 'Full Buy', 'Full Buy', 'Full Buy', 'Full Buy', 'Full Eco', 'Full Buy', 'Full Buy', 'Full Buy', 'Full Buy', 'Full Buy', 'Full Buy', 'Full Buy', 'Full Eco', 'Semi Buy', 'Semi Eco', 'Full Buy', 'Full Buy', 'Semi Buy', 'Full Eco', 'Semi Eco', 'Full Eco', 'Full Buy', 'Full Buy', 'Full Buy', 'Full Eco', 'Full Buy', 'Semi Eco', 'Full Buy', 'Full Buy', 'Full Buy', 'Full Buy', 'Full Buy', 'Full Buy', 'Full Eco', 'Semi Eco', 'Semi Eco', 'Full Buy', 'Full Buy', 'Full Buy', 'Full Buy', 'Full Buy', 'Full Buy', 'Full Buy', 'Full Eco', 'Full Buy', 'Full Buy', 'Semi Buy', 'Full Buy', 'Full Eco', 'Semi Buy', 'Full Buy', 'Full Buy', 'Full Buy', 'Full Buy', 'Semi Buy', 'Full Eco', 'Full Buy', 'Full Buy', 'Full Buy', 'Full Buy', 'Full Buy', 'Full Buy', 'Full Buy', 'Full Eco', 'Semi Buy', 'Full Eco', 'Full Buy', 'Full Buy', 'Full Buy', 'Full Buy', 'Full Buy', 'Full Buy', 'Full Buy', 'Full Buy', 'Full Buy', 'Full Buy', 'Full Eco', 'Full Buy', 'Full Buy', 'Full Buy', 'Full Buy', 'Full Buy', 'Full Buy', 'Full Buy', 'Full Buy', 'Full Buy', 'Full Buy', 'Full Buy', 'Full Buy', 'Full Buy', 'Full Buy', 'Full Eco', 'Full Buy', 'Full Buy', 'Full Buy', 'Full Buy', 'Full Buy', 'Full Buy', 'Full Buy', 'Full Buy', 'Full Buy', 'Full Buy', 'Full Buy', 'Full Buy', 'Full Eco', 'Full Buy', 'Full Buy', 'Semi Eco', 'Full Buy', 'Full Buy', 'Semi Eco', 'Full Buy', 'Full Buy', 'Full Buy', 'Full Buy', 'Full Buy', 'Semi Eco', 'Full Buy', 'Full Buy', 'Full Eco', 'Semi Buy', 'Full Buy', 'Full Buy', 'Full Buy', 'Full Buy', 'Full Eco', 'Full Buy', 'Full Buy', 'Full Buy', 'Full Buy', 'Full Buy', 'Full Eco', 'Full Buy', 'Full Buy', 'Semi Buy', 'Full Buy', 'Full Buy', 'Full Buy', 'Full Buy', 'Full Buy', 'Full Buy', 'Full Buy', 'Full Buy', 'Full Eco', 'Full Buy', 'Full Buy', 'Full Eco', 'Full Buy', 'Full Buy', 'Semi Eco', 'Full Buy', 'Full Buy', 'Full Buy', 'Full Buy', 'Full Buy', 'Full Buy', 'Full Buy', 'Full Buy', 'Full Buy', 'Full Buy', 'Semi Buy', 'Full Buy', 'Full Buy', 'Full Buy', 'Full Buy', 'Full Buy', 'Full Buy', 'Full Buy', 'Full Buy', 'Full Buy', 'Full Buy', 'Full Buy', 'Full Buy', 'Full Buy', 'Full Buy', 'Full Buy', 'Full Buy', 'Full Buy', 'Full Buy']\n",
            "ence-vs-natus-vincere-m2-dust2.dem\n",
            "['Full Eco', 'Full Buy', 'Full Buy', 'Full Buy', 'Full Buy', 'Semi Eco', 'Full Buy', 'Full Buy', 'Full Eco', 'Full Buy', 'Full Buy', 'Full Buy', 'Semi Buy', 'Full Eco', 'Full Buy', 'Full Eco', 'Semi Buy', 'Full Buy', 'Full Buy', 'Full Buy', 'Full Buy', 'Full Buy', 'Full Buy', 'Semi Eco', 'Full Eco', 'Full Buy', 'Full Buy', 'Full Buy']\n",
            "['Full Eco', 'Full Buy', 'Full Buy', 'Semi Buy', 'Full Eco', 'Full Buy', 'Semi Buy', 'Full Buy', 'Full Buy', 'Full Buy', 'Full Buy', 'Full Buy', 'Full Buy', 'Full Buy', 'Full Buy', 'Full Eco', 'Full Buy', 'Full Buy', 'Full Buy', 'Full Buy', 'Full Buy', 'Semi Eco', 'Full Buy', 'Full Buy', 'Full Buy', 'Semi Eco', 'Full Eco', 'Full Buy', 'Full Eco', 'Full Buy', 'Full Buy', 'Full Buy', 'Full Buy', 'Full Buy', 'Full Buy', 'Full Eco', 'Full Buy', 'Full Buy', 'Full Buy', 'Full Buy', 'Full Buy', 'Full Buy', 'Full Buy', 'Full Eco', 'Semi Buy', 'Semi Eco', 'Full Buy', 'Full Buy', 'Semi Buy', 'Full Eco', 'Semi Eco', 'Full Eco', 'Full Buy', 'Full Buy', 'Full Buy', 'Full Eco', 'Full Buy', 'Semi Eco', 'Full Buy', 'Full Buy', 'Full Buy', 'Full Buy', 'Full Buy', 'Full Buy', 'Full Eco', 'Semi Eco', 'Semi Eco', 'Full Buy', 'Full Buy', 'Full Buy', 'Full Buy', 'Full Buy', 'Full Buy', 'Full Buy', 'Full Eco', 'Full Buy', 'Full Buy', 'Semi Buy', 'Full Buy', 'Full Eco', 'Semi Buy', 'Full Buy', 'Full Buy', 'Full Buy', 'Full Buy', 'Semi Buy', 'Full Eco', 'Full Buy', 'Full Buy', 'Full Buy', 'Full Buy', 'Full Buy', 'Full Buy', 'Full Buy', 'Full Eco', 'Semi Buy', 'Full Eco', 'Full Buy', 'Full Buy', 'Full Buy', 'Full Buy', 'Full Buy', 'Full Buy', 'Full Buy', 'Full Buy', 'Full Buy', 'Full Buy', 'Full Eco', 'Full Buy', 'Full Buy', 'Full Buy', 'Full Buy', 'Full Buy', 'Full Buy', 'Full Buy', 'Full Buy', 'Full Buy', 'Full Buy', 'Full Buy', 'Full Buy', 'Full Buy', 'Full Buy', 'Full Eco', 'Full Buy', 'Full Buy', 'Full Buy', 'Full Buy', 'Full Buy', 'Full Buy', 'Full Buy', 'Full Buy', 'Full Buy', 'Full Buy', 'Full Buy', 'Full Buy', 'Full Eco', 'Full Buy', 'Full Buy', 'Semi Eco', 'Full Buy', 'Full Buy', 'Semi Eco', 'Full Buy', 'Full Buy', 'Full Buy', 'Full Buy', 'Full Buy', 'Semi Eco', 'Full Buy', 'Full Buy', 'Full Eco', 'Semi Buy', 'Full Buy', 'Full Buy', 'Full Buy', 'Full Buy', 'Full Eco', 'Full Buy', 'Full Buy', 'Full Buy', 'Full Buy', 'Full Buy', 'Full Eco', 'Full Buy', 'Full Buy', 'Semi Buy', 'Full Buy', 'Full Buy', 'Full Buy', 'Full Buy', 'Full Buy', 'Full Buy', 'Full Buy', 'Full Buy', 'Full Eco', 'Full Buy', 'Full Buy', 'Full Eco', 'Full Buy', 'Full Buy', 'Semi Eco', 'Full Buy', 'Full Buy', 'Full Buy', 'Full Buy', 'Full Buy', 'Full Buy', 'Full Buy', 'Full Buy', 'Full Buy', 'Full Buy', 'Semi Buy', 'Full Buy', 'Full Buy', 'Full Buy', 'Full Buy', 'Full Buy', 'Full Buy', 'Full Buy', 'Full Buy', 'Full Buy', 'Full Buy', 'Full Buy', 'Full Buy', 'Full Buy', 'Full Buy', 'Full Buy', 'Full Buy', 'Full Buy', 'Full Buy', 'Full Eco', 'Full Buy', 'Full Buy', 'Full Buy', 'Full Buy', 'Semi Eco', 'Full Buy', 'Full Buy', 'Full Eco', 'Full Buy', 'Full Buy', 'Full Buy', 'Semi Buy', 'Full Eco', 'Full Buy', 'Full Eco', 'Semi Buy', 'Full Buy', 'Full Buy', 'Full Buy', 'Full Buy', 'Full Buy', 'Full Buy', 'Semi Eco', 'Full Eco', 'Full Buy', 'Full Buy', 'Full Buy']\n"
          ]
        }
      ]
    },
    {
      "cell_type": "code",
      "source": [
        "#Aufteilung des großen DF in 16 kleine --> möglichkeit, über shape[0] Zahlen zu bekommen\n",
        "#pi T Seite\n",
        "\n",
        "pi_F_B_F_B = Buy_Dec[(Buy_Dec['T-Buy'] == \"Full Buy\") & (Buy_Dec['CT-Buy'] == \"Full Buy\") & (Buy_Dec['Winner'] == \"T\")]\n",
        "pi_F_B_S_B = Buy_Dec[(Buy_Dec['T-Buy'] == \"Full Buy\") & (Buy_Dec['CT-Buy'] == \"Semi Buy\") & (Buy_Dec['Winner'] == \"T\")]\n",
        "pi_F_B_F_E = Buy_Dec[(Buy_Dec['T-Buy'] == \"Full Buy\") & (Buy_Dec['CT-Buy'] == \"Full Eco\") & (Buy_Dec['Winner'] == \"T\")]\n",
        "pi_F_B_S_E = Buy_Dec[(Buy_Dec['T-Buy'] == \"Full Buy\") & (Buy_Dec['CT-Buy'] == \"Semi Eco\") & (Buy_Dec['Winner'] == \"T\")]\n",
        "pi_S_B_F_B = Buy_Dec[(Buy_Dec['T-Buy'] == \"Semi Buy\") & (Buy_Dec['CT-Buy'] == \"Full Buy\") & (Buy_Dec['Winner'] == \"T\")]\n",
        "pi_S_B_S_B = Buy_Dec[(Buy_Dec['T-Buy'] == \"Semi Buy\") & (Buy_Dec['CT-Buy'] == \"Semi Buy\") & (Buy_Dec['Winner'] == \"T\")]\n",
        "pi_S_B_F_E = Buy_Dec[(Buy_Dec['T-Buy'] == \"Semi Buy\") & (Buy_Dec['CT-Buy'] == \"Full Eco\") & (Buy_Dec['Winner'] == \"T\")]\n",
        "pi_S_B_S_E = Buy_Dec[(Buy_Dec['T-Buy'] == \"Semi Buy\") & (Buy_Dec['CT-Buy'] == \"Semi Eco\") & (Buy_Dec['Winner'] == \"T\")]\n",
        "pi_F_E_F_B = Buy_Dec[(Buy_Dec['T-Buy'] == \"Full Eco\") & (Buy_Dec['CT-Buy'] == \"Full Buy\") & (Buy_Dec['Winner'] == \"T\")]\n",
        "pi_F_E_S_B = Buy_Dec[(Buy_Dec['T-Buy'] == \"Full Eco\") & (Buy_Dec['CT-Buy'] == \"Semi Buy\") & (Buy_Dec['Winner'] == \"T\")]\n",
        "pi_F_E_F_E = Buy_Dec[(Buy_Dec['T-Buy'] == \"Full Eco\") & (Buy_Dec['CT-Buy'] == \"Full Eco\") & (Buy_Dec['Winner'] == \"T\")]\n",
        "pi_F_E_S_E = Buy_Dec[(Buy_Dec['T-Buy'] == \"Full Eco\") & (Buy_Dec['CT-Buy'] == \"Semi Eco\") & (Buy_Dec['Winner'] == \"T\")]\n",
        "pi_S_E_F_B = Buy_Dec[(Buy_Dec['T-Buy'] == \"Semi Eco\") & (Buy_Dec['CT-Buy'] == \"Full Buy\") & (Buy_Dec['Winner'] == \"T\")]\n",
        "pi_S_E_S_B = Buy_Dec[(Buy_Dec['T-Buy'] == \"Semi Eco\") & (Buy_Dec['CT-Buy'] == \"Semi Buy\") & (Buy_Dec['Winner'] == \"T\")]\n",
        "pi_S_E_F_E = Buy_Dec[(Buy_Dec['T-Buy'] == \"Semi Eco\") & (Buy_Dec['CT-Buy'] == \"Full Eco\") & (Buy_Dec['Winner'] == \"T\")]\n",
        "pi_S_E_S_E = Buy_Dec[(Buy_Dec['T-Buy'] == \"Semi Eco\") & (Buy_Dec['CT-Buy'] == \"Semi Eco\") & (Buy_Dec['Winner'] == \"T\")]"
      ],
      "metadata": {
        "id": "LDjGcq4cX_ln"
      },
      "execution_count": 203,
      "outputs": []
    },
    {
      "cell_type": "code",
      "source": [
        "#Pi CT Seite\n",
        "\n",
        "CT_pi_F_B_F_B = Buy_Dec[(Buy_Dec['T-Buy'] == \"Full Buy\") & (Buy_Dec['CT-Buy'] == \"Full Buy\") & (Buy_Dec['Winner'] == \"CT\")]\n",
        "CT_pi_F_B_S_B = Buy_Dec[(Buy_Dec['T-Buy'] == \"Full Buy\") & (Buy_Dec['CT-Buy'] == \"Semi Buy\") & (Buy_Dec['Winner'] == \"CT\")]\n",
        "CT_pi_F_B_F_E = Buy_Dec[(Buy_Dec['T-Buy'] == \"Full Buy\") & (Buy_Dec['CT-Buy'] == \"Full Eco\") & (Buy_Dec['Winner'] == \"CT\")]\n",
        "CT_pi_F_B_S_E = Buy_Dec[(Buy_Dec['T-Buy'] == \"Full Buy\") & (Buy_Dec['CT-Buy'] == \"Semi Eco\") & (Buy_Dec['Winner'] == \"CT\")]\n",
        "CT_pi_S_B_F_B = Buy_Dec[(Buy_Dec['T-Buy'] == \"Semi Buy\") & (Buy_Dec['CT-Buy'] == \"Full Buy\") & (Buy_Dec['Winner'] == \"CT\")]\n",
        "CT_pi_S_B_S_B = Buy_Dec[(Buy_Dec['T-Buy'] == \"Semi Buy\") & (Buy_Dec['CT-Buy'] == \"Semi Buy\") & (Buy_Dec['Winner'] == \"CT\")]\n",
        "CT_pi_S_B_F_E = Buy_Dec[(Buy_Dec['T-Buy'] == \"Semi Buy\") & (Buy_Dec['CT-Buy'] == \"Full Eco\") & (Buy_Dec['Winner'] == \"CT\")]\n",
        "CT_pi_S_B_S_E = Buy_Dec[(Buy_Dec['T-Buy'] == \"Semi Buy\") & (Buy_Dec['CT-Buy'] == \"Semi Eco\") & (Buy_Dec['Winner'] == \"CT\")]\n",
        "CT_pi_F_E_F_B = Buy_Dec[(Buy_Dec['T-Buy'] == \"Full Eco\") & (Buy_Dec['CT-Buy'] == \"Full Buy\") & (Buy_Dec['Winner'] == \"CT\")]\n",
        "CT_pi_F_E_S_B = Buy_Dec[(Buy_Dec['T-Buy'] == \"Full Eco\") & (Buy_Dec['CT-Buy'] == \"Semi Buy\") & (Buy_Dec['Winner'] == \"CT\")]\n",
        "CT_pi_F_E_F_E = Buy_Dec[(Buy_Dec['T-Buy'] == \"Full Eco\") & (Buy_Dec['CT-Buy'] == \"Full Eco\") & (Buy_Dec['Winner'] == \"CT\")]\n",
        "CT_pi_F_E_S_E = Buy_Dec[(Buy_Dec['T-Buy'] == \"Full Eco\") & (Buy_Dec['CT-Buy'] == \"Semi Eco\") & (Buy_Dec['Winner'] == \"CT\")]\n",
        "CT_pi_S_E_F_B = Buy_Dec[(Buy_Dec['T-Buy'] == \"Semi Eco\") & (Buy_Dec['CT-Buy'] == \"Full Buy\") & (Buy_Dec['Winner'] == \"CT\")]\n",
        "CT_pi_S_E_S_B = Buy_Dec[(Buy_Dec['T-Buy'] == \"Semi Eco\") & (Buy_Dec['CT-Buy'] == \"Semi Buy\") & (Buy_Dec['Winner'] == \"CT\")]\n",
        "CT_pi_S_E_F_E = Buy_Dec[(Buy_Dec['T-Buy'] == \"Semi Eco\") & (Buy_Dec['CT-Buy'] == \"Full Eco\") & (Buy_Dec['Winner'] == \"CT\")]\n",
        "CT_pi_S_E_S_E = Buy_Dec[(Buy_Dec['T-Buy'] == \"Semi Eco\") & (Buy_Dec['CT-Buy'] == \"Semi Eco\") & (Buy_Dec['Winner'] == \"CT\")]"
      ],
      "metadata": {
        "id": "hzeAgKOaX_71"
      },
      "execution_count": 205,
      "outputs": []
    },
    {
      "cell_type": "code",
      "source": [
        "#Gesamtzahl der Ereignisse\n",
        "\n",
        "full_pi_F_B_F_B = pi_F_B_F_B.shape[0] + CT_pi_F_B_F_B.shape[0]\n",
        "full_pi_F_B_S_B = pi_F_B_S_B.shape[0] + CT_pi_F_B_S_B.shape[0]\n",
        "full_pi_F_B_F_E = pi_F_B_F_E.shape[0] + CT_pi_F_B_F_E.shape[0]\n",
        "full_pi_F_B_S_E = pi_F_B_S_E.shape[0] + CT_pi_F_B_S_E.shape[0]\n",
        "full_pi_S_B_F_B = pi_S_B_F_B.shape[0] + CT_pi_S_B_F_B.shape[0]\n",
        "full_pi_S_B_S_B = pi_S_B_S_B.shape[0] + CT_pi_S_B_S_B.shape[0]\n",
        "full_pi_S_B_F_E = pi_S_B_F_E.shape[0] + CT_pi_S_B_F_E.shape[0]\n",
        "full_pi_S_B_S_E = pi_S_B_S_E.shape[0] + CT_pi_S_B_S_E.shape[0]\n",
        "full_pi_F_E_F_B = pi_F_E_F_B.shape[0] + CT_pi_F_E_F_B.shape[0]\n",
        "full_pi_F_E_S_B = pi_F_E_S_B.shape[0] + CT_pi_F_E_S_B.shape[0]\n",
        "full_pi_F_E_F_E = pi_F_E_F_E.shape[0] + CT_pi_F_E_F_E.shape[0]\n",
        "full_pi_F_E_S_E = pi_F_E_S_E.shape[0] + CT_pi_F_E_S_E.shape[0]\n",
        "full_pi_S_E_F_B = pi_S_E_F_B.shape[0] + CT_pi_S_E_F_B.shape[0]\n",
        "full_pi_S_E_S_B = pi_S_E_S_B.shape[0] + CT_pi_S_E_S_B.shape[0]\n",
        "full_pi_S_E_F_E = pi_S_E_F_E.shape[0] + CT_pi_S_E_F_E.shape[0]\n",
        "full_pi_S_E_S_E = pi_S_E_S_E.shape[0] + CT_pi_S_E_S_E.shape[0]\n",
        "\n",
        "if full_pi_F_B_F_B == 0:\n",
        "  full_pi_F_B_F_B = 1\n",
        "else:\n",
        "  full_pi_F_B_F_B = full_pi_F_B_F_B\n",
        "\n",
        "if full_pi_F_B_S_B == 0:\n",
        "  full_pi_F_B_S_B = 1\n",
        "else:\n",
        "  full_pi_F_B_S_B = full_pi_F_B_S_B\n",
        "\n",
        "if full_pi_F_B_F_E == 0:\n",
        "  full_pi_F_B_F_E = 1\n",
        "else:\n",
        "  full_pi_F_B_F_E = full_pi_F_B_F_E\n",
        "\n",
        "if full_pi_F_B_S_E == 0:\n",
        "  full_pi_F_B_S_E = 1\n",
        "else:\n",
        "  full_pi_F_B_S_E = full_pi_F_B_S_E\n",
        "\n",
        "if full_pi_S_B_F_B == 0:\n",
        "  full_pi_S_B_F_B = 1\n",
        "else:\n",
        "  full_pi_S_B_F_B = full_pi_S_B_F_B\n",
        "\n",
        "if full_pi_S_B_S_B == 0:\n",
        "  full_pi_S_B_S_B = 1\n",
        "else:\n",
        "  full_pi_S_B_S_B = full_pi_S_B_S_B\n",
        "\n",
        "if full_pi_S_B_F_E == 0:\n",
        "  full_pi_S_B_F_E = 1\n",
        "else:\n",
        "  full_pi_S_B_F_E = full_pi_S_B_F_E\n",
        "\n",
        "if full_pi_S_B_S_E == 0:\n",
        "  full_pi_S_B_S_E = 1\n",
        "else:\n",
        "  full_pi_S_B_S_E = full_pi_S_B_S_E\n",
        "\n",
        "if full_pi_F_E_F_B == 0:\n",
        "  full_pi_F_E_F_B = 1\n",
        "else:\n",
        "  full_pi_F_E_F_B = full_pi_F_E_F_B\n",
        "\n",
        "if full_pi_F_E_S_B == 0:\n",
        "  full_pi_F_E_S_B = 1\n",
        "else:\n",
        "  full_pi_F_E_S_B = full_pi_F_E_S_B\n",
        "\n",
        "if full_pi_F_E_F_E == 0:\n",
        "  full_pi_F_E_F_E = 1\n",
        "else:\n",
        "  full_pi_F_E_F_E = full_pi_F_E_F_E\n",
        "\n",
        "if full_pi_F_E_S_E == 0:\n",
        "  full_pi_F_E_S_E = 1\n",
        "else:\n",
        "  full_pi_F_E_S_E = full_pi_F_E_S_E\n",
        "\n",
        "if full_pi_S_E_F_B == 0:\n",
        "  full_pi_S_E_F_B = 1\n",
        "else:\n",
        "  full_pi_S_E_F_B = full_pi_S_E_F_B\n",
        "\n",
        "if full_pi_S_E_S_B == 0:\n",
        "  full_pi_S_E_S_B = 1\n",
        "else:\n",
        "  full_pi_S_E_S_B = full_pi_S_E_S_B\n",
        "\n",
        "if full_pi_S_E_F_E == 0:\n",
        "  full_pi_S_E_F_E = 1\n",
        "else:\n",
        "  full_pi_S_E_F_E = full_pi_S_E_F_E\n",
        "\n",
        "if full_pi_S_E_S_E == 0:\n",
        "  full_pi_S_E_S_E = 1\n",
        "else:\n",
        "  full_pi_S_E_S_E = full_pi_S_E_S_E"
      ],
      "metadata": {
        "id": "KZaftjNcjJgm"
      },
      "execution_count": 206,
      "outputs": []
    },
    {
      "cell_type": "markdown",
      "source": [
        "#Buy Decision - Tabellen"
      ],
      "metadata": {
        "id": "qqHBnmocpqYk"
      }
    },
    {
      "cell_type": "code",
      "source": [
        "\n",
        "\n",
        "headerColor = 'grey'\n",
        "rowEvenColor = 'lightgrey'\n",
        "rowOddColor = 'white'\n",
        "\n",
        "fig = go.Figure(data=[go.Table(\n",
        "  header=dict(\n",
        "    values=['<b> </b>','<b>Full Buy</b>','<b>Semi Buy</b>','<b>Full Eco</b>','<b>Semi Eco</b>',\"Summe\"],\n",
        "    line_color='darkslategray',\n",
        "    fill_color=headerColor,\n",
        "    align=['left','center'],\n",
        "    font=dict(color='white', size=12)\n",
        "  ),\n",
        "  cells=dict(\n",
        "    values=[\n",
        "      ['Full Buy', 'Semi Buy', 'Full Eco', 'Semi Eco', \"Summe\"],\n",
        "      [pi_F_B_F_B.shape[0], pi_S_B_F_B.shape[0], pi_F_E_F_B.shape[0], pi_S_E_F_B.shape[0], sum([pi_F_B_F_B.shape[0], pi_S_B_F_B.shape[0], pi_F_E_F_B.shape[0], pi_S_E_F_B.shape[0]])],\n",
        "      [pi_F_B_S_B.shape[0], pi_S_B_S_B.shape[0], pi_F_E_S_B.shape[0], pi_S_E_S_B.shape[0], sum([pi_F_B_S_B.shape[0], pi_S_B_S_B.shape[0], pi_F_E_S_B.shape[0], pi_S_E_S_B.shape[0]])],\n",
        "      [pi_F_B_F_E.shape[0], pi_S_B_F_E.shape[0], pi_F_E_F_E.shape[0], pi_S_E_F_E.shape[0], sum([pi_F_B_F_E.shape[0], pi_S_B_F_E.shape[0], pi_F_E_F_E.shape[0], pi_S_E_F_E.shape[0]])],\n",
        "      [pi_F_B_S_E.shape[0], pi_S_B_S_E.shape[0], pi_F_E_S_E.shape[0], pi_S_E_S_E.shape[0], sum([pi_F_B_S_E.shape[0], pi_S_B_S_E.shape[0], pi_F_E_S_E.shape[0], pi_S_E_S_E.shape[0]])]],\n",
        "      #[sum([pi_F_B_F_B, pi_F_B_S_B, pi_F_B_F_E, pi_F_B_S_E]), sum([pi_S_B_F_B, pi_S_B_S_B, pi_S_B_F_E, pi_S_B_S_E]), \n",
        "       #sum([pi_F_E_F_B, pi_F_E_S_B, pi_F_E_F_E, pi_F_E_S_E]), sum([pi_S_E_F_B, pi_S_E_S_B, pi_S_E_F_E, pi_S_E_S_E])]],\n",
        "    line_color='darkslategray',\n",
        "    # 2-D list of colors for alternating rows\n",
        "    fill_color = [[rowOddColor,rowEvenColor,rowOddColor, rowEvenColor,rowOddColor]*5],\n",
        "    align = ['left', 'center'],\n",
        "    font = dict(color = 'darkslategray', size = 11)\n",
        "    ))\n",
        "])\n",
        "\n",
        "print(\"Siege der T Seite\")\n",
        "fig.show()"
      ],
      "metadata": {
        "id": "fQ3fyS1dKWxz",
        "colab": {
          "base_uri": "https://localhost:8080/",
          "height": 560
        },
        "outputId": "ec0ec7ab-ac87-440b-bcfb-ec07432eef6d"
      },
      "execution_count": 207,
      "outputs": [
        {
          "output_type": "stream",
          "name": "stdout",
          "text": [
            "Siege der T Seite\n"
          ]
        },
        {
          "output_type": "display_data",
          "data": {
            "text/html": [
              "<html>\n",
              "<head><meta charset=\"utf-8\" /></head>\n",
              "<body>\n",
              "    <div>            <script src=\"https://cdnjs.cloudflare.com/ajax/libs/mathjax/2.7.5/MathJax.js?config=TeX-AMS-MML_SVG\"></script><script type=\"text/javascript\">if (window.MathJax) {MathJax.Hub.Config({SVG: {font: \"STIX-Web\"}});}</script>                <script type=\"text/javascript\">window.PlotlyConfig = {MathJaxConfig: 'local'};</script>\n",
              "        <script src=\"https://cdn.plot.ly/plotly-2.8.3.min.js\"></script>                <div id=\"362453fb-a9da-4b7b-9094-0e64048019d0\" class=\"plotly-graph-div\" style=\"height:525px; width:100%;\"></div>            <script type=\"text/javascript\">                                    window.PLOTLYENV=window.PLOTLYENV || {};                                    if (document.getElementById(\"362453fb-a9da-4b7b-9094-0e64048019d0\")) {                    Plotly.newPlot(                        \"362453fb-a9da-4b7b-9094-0e64048019d0\",                        [{\"cells\":{\"align\":[\"left\",\"center\"],\"fill\":{\"color\":[[\"white\",\"lightgrey\",\"white\",\"lightgrey\",\"white\",\"white\",\"lightgrey\",\"white\",\"lightgrey\",\"white\",\"white\",\"lightgrey\",\"white\",\"lightgrey\",\"white\",\"white\",\"lightgrey\",\"white\",\"lightgrey\",\"white\",\"white\",\"lightgrey\",\"white\",\"lightgrey\",\"white\"]]},\"font\":{\"color\":\"darkslategray\",\"size\":11},\"line\":{\"color\":\"darkslategray\"},\"values\":[[\"Full Buy\",\"Semi Buy\",\"Full Eco\",\"Semi Eco\",\"Summe\"],[1826,248,30,81,2185],[339,85,3,15,442],[391,104,243,3,741],[339,75,0,0,414]]},\"header\":{\"align\":[\"left\",\"center\"],\"fill\":{\"color\":\"grey\"},\"font\":{\"color\":\"white\",\"size\":12},\"line\":{\"color\":\"darkslategray\"},\"values\":[\"<b> </b>\",\"<b>Full Buy</b>\",\"<b>Semi Buy</b>\",\"<b>Full Eco</b>\",\"<b>Semi Eco</b>\",\"Summe\"]},\"type\":\"table\"}],                        {\"template\":{\"data\":{\"bar\":[{\"error_x\":{\"color\":\"#2a3f5f\"},\"error_y\":{\"color\":\"#2a3f5f\"},\"marker\":{\"line\":{\"color\":\"#E5ECF6\",\"width\":0.5},\"pattern\":{\"fillmode\":\"overlay\",\"size\":10,\"solidity\":0.2}},\"type\":\"bar\"}],\"barpolar\":[{\"marker\":{\"line\":{\"color\":\"#E5ECF6\",\"width\":0.5},\"pattern\":{\"fillmode\":\"overlay\",\"size\":10,\"solidity\":0.2}},\"type\":\"barpolar\"}],\"carpet\":[{\"aaxis\":{\"endlinecolor\":\"#2a3f5f\",\"gridcolor\":\"white\",\"linecolor\":\"white\",\"minorgridcolor\":\"white\",\"startlinecolor\":\"#2a3f5f\"},\"baxis\":{\"endlinecolor\":\"#2a3f5f\",\"gridcolor\":\"white\",\"linecolor\":\"white\",\"minorgridcolor\":\"white\",\"startlinecolor\":\"#2a3f5f\"},\"type\":\"carpet\"}],\"choropleth\":[{\"colorbar\":{\"outlinewidth\":0,\"ticks\":\"\"},\"type\":\"choropleth\"}],\"contour\":[{\"colorbar\":{\"outlinewidth\":0,\"ticks\":\"\"},\"colorscale\":[[0.0,\"#0d0887\"],[0.1111111111111111,\"#46039f\"],[0.2222222222222222,\"#7201a8\"],[0.3333333333333333,\"#9c179e\"],[0.4444444444444444,\"#bd3786\"],[0.5555555555555556,\"#d8576b\"],[0.6666666666666666,\"#ed7953\"],[0.7777777777777778,\"#fb9f3a\"],[0.8888888888888888,\"#fdca26\"],[1.0,\"#f0f921\"]],\"type\":\"contour\"}],\"contourcarpet\":[{\"colorbar\":{\"outlinewidth\":0,\"ticks\":\"\"},\"type\":\"contourcarpet\"}],\"heatmap\":[{\"colorbar\":{\"outlinewidth\":0,\"ticks\":\"\"},\"colorscale\":[[0.0,\"#0d0887\"],[0.1111111111111111,\"#46039f\"],[0.2222222222222222,\"#7201a8\"],[0.3333333333333333,\"#9c179e\"],[0.4444444444444444,\"#bd3786\"],[0.5555555555555556,\"#d8576b\"],[0.6666666666666666,\"#ed7953\"],[0.7777777777777778,\"#fb9f3a\"],[0.8888888888888888,\"#fdca26\"],[1.0,\"#f0f921\"]],\"type\":\"heatmap\"}],\"heatmapgl\":[{\"colorbar\":{\"outlinewidth\":0,\"ticks\":\"\"},\"colorscale\":[[0.0,\"#0d0887\"],[0.1111111111111111,\"#46039f\"],[0.2222222222222222,\"#7201a8\"],[0.3333333333333333,\"#9c179e\"],[0.4444444444444444,\"#bd3786\"],[0.5555555555555556,\"#d8576b\"],[0.6666666666666666,\"#ed7953\"],[0.7777777777777778,\"#fb9f3a\"],[0.8888888888888888,\"#fdca26\"],[1.0,\"#f0f921\"]],\"type\":\"heatmapgl\"}],\"histogram\":[{\"marker\":{\"pattern\":{\"fillmode\":\"overlay\",\"size\":10,\"solidity\":0.2}},\"type\":\"histogram\"}],\"histogram2d\":[{\"colorbar\":{\"outlinewidth\":0,\"ticks\":\"\"},\"colorscale\":[[0.0,\"#0d0887\"],[0.1111111111111111,\"#46039f\"],[0.2222222222222222,\"#7201a8\"],[0.3333333333333333,\"#9c179e\"],[0.4444444444444444,\"#bd3786\"],[0.5555555555555556,\"#d8576b\"],[0.6666666666666666,\"#ed7953\"],[0.7777777777777778,\"#fb9f3a\"],[0.8888888888888888,\"#fdca26\"],[1.0,\"#f0f921\"]],\"type\":\"histogram2d\"}],\"histogram2dcontour\":[{\"colorbar\":{\"outlinewidth\":0,\"ticks\":\"\"},\"colorscale\":[[0.0,\"#0d0887\"],[0.1111111111111111,\"#46039f\"],[0.2222222222222222,\"#7201a8\"],[0.3333333333333333,\"#9c179e\"],[0.4444444444444444,\"#bd3786\"],[0.5555555555555556,\"#d8576b\"],[0.6666666666666666,\"#ed7953\"],[0.7777777777777778,\"#fb9f3a\"],[0.8888888888888888,\"#fdca26\"],[1.0,\"#f0f921\"]],\"type\":\"histogram2dcontour\"}],\"mesh3d\":[{\"colorbar\":{\"outlinewidth\":0,\"ticks\":\"\"},\"type\":\"mesh3d\"}],\"parcoords\":[{\"line\":{\"colorbar\":{\"outlinewidth\":0,\"ticks\":\"\"}},\"type\":\"parcoords\"}],\"pie\":[{\"automargin\":true,\"type\":\"pie\"}],\"scatter\":[{\"marker\":{\"colorbar\":{\"outlinewidth\":0,\"ticks\":\"\"}},\"type\":\"scatter\"}],\"scatter3d\":[{\"line\":{\"colorbar\":{\"outlinewidth\":0,\"ticks\":\"\"}},\"marker\":{\"colorbar\":{\"outlinewidth\":0,\"ticks\":\"\"}},\"type\":\"scatter3d\"}],\"scattercarpet\":[{\"marker\":{\"colorbar\":{\"outlinewidth\":0,\"ticks\":\"\"}},\"type\":\"scattercarpet\"}],\"scattergeo\":[{\"marker\":{\"colorbar\":{\"outlinewidth\":0,\"ticks\":\"\"}},\"type\":\"scattergeo\"}],\"scattergl\":[{\"marker\":{\"colorbar\":{\"outlinewidth\":0,\"ticks\":\"\"}},\"type\":\"scattergl\"}],\"scattermapbox\":[{\"marker\":{\"colorbar\":{\"outlinewidth\":0,\"ticks\":\"\"}},\"type\":\"scattermapbox\"}],\"scatterpolar\":[{\"marker\":{\"colorbar\":{\"outlinewidth\":0,\"ticks\":\"\"}},\"type\":\"scatterpolar\"}],\"scatterpolargl\":[{\"marker\":{\"colorbar\":{\"outlinewidth\":0,\"ticks\":\"\"}},\"type\":\"scatterpolargl\"}],\"scatterternary\":[{\"marker\":{\"colorbar\":{\"outlinewidth\":0,\"ticks\":\"\"}},\"type\":\"scatterternary\"}],\"surface\":[{\"colorbar\":{\"outlinewidth\":0,\"ticks\":\"\"},\"colorscale\":[[0.0,\"#0d0887\"],[0.1111111111111111,\"#46039f\"],[0.2222222222222222,\"#7201a8\"],[0.3333333333333333,\"#9c179e\"],[0.4444444444444444,\"#bd3786\"],[0.5555555555555556,\"#d8576b\"],[0.6666666666666666,\"#ed7953\"],[0.7777777777777778,\"#fb9f3a\"],[0.8888888888888888,\"#fdca26\"],[1.0,\"#f0f921\"]],\"type\":\"surface\"}],\"table\":[{\"cells\":{\"fill\":{\"color\":\"#EBF0F8\"},\"line\":{\"color\":\"white\"}},\"header\":{\"fill\":{\"color\":\"#C8D4E3\"},\"line\":{\"color\":\"white\"}},\"type\":\"table\"}]},\"layout\":{\"annotationdefaults\":{\"arrowcolor\":\"#2a3f5f\",\"arrowhead\":0,\"arrowwidth\":1},\"autotypenumbers\":\"strict\",\"coloraxis\":{\"colorbar\":{\"outlinewidth\":0,\"ticks\":\"\"}},\"colorscale\":{\"diverging\":[[0,\"#8e0152\"],[0.1,\"#c51b7d\"],[0.2,\"#de77ae\"],[0.3,\"#f1b6da\"],[0.4,\"#fde0ef\"],[0.5,\"#f7f7f7\"],[0.6,\"#e6f5d0\"],[0.7,\"#b8e186\"],[0.8,\"#7fbc41\"],[0.9,\"#4d9221\"],[1,\"#276419\"]],\"sequential\":[[0.0,\"#0d0887\"],[0.1111111111111111,\"#46039f\"],[0.2222222222222222,\"#7201a8\"],[0.3333333333333333,\"#9c179e\"],[0.4444444444444444,\"#bd3786\"],[0.5555555555555556,\"#d8576b\"],[0.6666666666666666,\"#ed7953\"],[0.7777777777777778,\"#fb9f3a\"],[0.8888888888888888,\"#fdca26\"],[1.0,\"#f0f921\"]],\"sequentialminus\":[[0.0,\"#0d0887\"],[0.1111111111111111,\"#46039f\"],[0.2222222222222222,\"#7201a8\"],[0.3333333333333333,\"#9c179e\"],[0.4444444444444444,\"#bd3786\"],[0.5555555555555556,\"#d8576b\"],[0.6666666666666666,\"#ed7953\"],[0.7777777777777778,\"#fb9f3a\"],[0.8888888888888888,\"#fdca26\"],[1.0,\"#f0f921\"]]},\"colorway\":[\"#636efa\",\"#EF553B\",\"#00cc96\",\"#ab63fa\",\"#FFA15A\",\"#19d3f3\",\"#FF6692\",\"#B6E880\",\"#FF97FF\",\"#FECB52\"],\"font\":{\"color\":\"#2a3f5f\"},\"geo\":{\"bgcolor\":\"white\",\"lakecolor\":\"white\",\"landcolor\":\"#E5ECF6\",\"showlakes\":true,\"showland\":true,\"subunitcolor\":\"white\"},\"hoverlabel\":{\"align\":\"left\"},\"hovermode\":\"closest\",\"mapbox\":{\"style\":\"light\"},\"paper_bgcolor\":\"white\",\"plot_bgcolor\":\"#E5ECF6\",\"polar\":{\"angularaxis\":{\"gridcolor\":\"white\",\"linecolor\":\"white\",\"ticks\":\"\"},\"bgcolor\":\"#E5ECF6\",\"radialaxis\":{\"gridcolor\":\"white\",\"linecolor\":\"white\",\"ticks\":\"\"}},\"scene\":{\"xaxis\":{\"backgroundcolor\":\"#E5ECF6\",\"gridcolor\":\"white\",\"gridwidth\":2,\"linecolor\":\"white\",\"showbackground\":true,\"ticks\":\"\",\"zerolinecolor\":\"white\"},\"yaxis\":{\"backgroundcolor\":\"#E5ECF6\",\"gridcolor\":\"white\",\"gridwidth\":2,\"linecolor\":\"white\",\"showbackground\":true,\"ticks\":\"\",\"zerolinecolor\":\"white\"},\"zaxis\":{\"backgroundcolor\":\"#E5ECF6\",\"gridcolor\":\"white\",\"gridwidth\":2,\"linecolor\":\"white\",\"showbackground\":true,\"ticks\":\"\",\"zerolinecolor\":\"white\"}},\"shapedefaults\":{\"line\":{\"color\":\"#2a3f5f\"}},\"ternary\":{\"aaxis\":{\"gridcolor\":\"white\",\"linecolor\":\"white\",\"ticks\":\"\"},\"baxis\":{\"gridcolor\":\"white\",\"linecolor\":\"white\",\"ticks\":\"\"},\"bgcolor\":\"#E5ECF6\",\"caxis\":{\"gridcolor\":\"white\",\"linecolor\":\"white\",\"ticks\":\"\"}},\"title\":{\"x\":0.05},\"xaxis\":{\"automargin\":true,\"gridcolor\":\"white\",\"linecolor\":\"white\",\"ticks\":\"\",\"title\":{\"standoff\":15},\"zerolinecolor\":\"white\",\"zerolinewidth\":2},\"yaxis\":{\"automargin\":true,\"gridcolor\":\"white\",\"linecolor\":\"white\",\"ticks\":\"\",\"title\":{\"standoff\":15},\"zerolinecolor\":\"white\",\"zerolinewidth\":2}}}},                        {\"responsive\": true}                    ).then(function(){\n",
              "                            \n",
              "var gd = document.getElementById('362453fb-a9da-4b7b-9094-0e64048019d0');\n",
              "var x = new MutationObserver(function (mutations, observer) {{\n",
              "        var display = window.getComputedStyle(gd).display;\n",
              "        if (!display || display === 'none') {{\n",
              "            console.log([gd, 'removed!']);\n",
              "            Plotly.purge(gd);\n",
              "            observer.disconnect();\n",
              "        }}\n",
              "}});\n",
              "\n",
              "// Listen for the removal of the full notebook cells\n",
              "var notebookContainer = gd.closest('#notebook-container');\n",
              "if (notebookContainer) {{\n",
              "    x.observe(notebookContainer, {childList: true});\n",
              "}}\n",
              "\n",
              "// Listen for the clearing of the current output cell\n",
              "var outputEl = gd.closest('.output');\n",
              "if (outputEl) {{\n",
              "    x.observe(outputEl, {childList: true});\n",
              "}}\n",
              "\n",
              "                        })                };                            </script>        </div>\n",
              "</body>\n",
              "</html>"
            ]
          },
          "metadata": {}
        }
      ]
    },
    {
      "cell_type": "code",
      "source": [
        "headerColor = 'grey'\n",
        "rowEvenColor = 'lightgrey'\n",
        "rowOddColor = 'white'\n",
        "\n",
        "fig = go.Figure(data=[go.Table(\n",
        "  header=dict(\n",
        "    values=['<b> </b>','<b>Full Buy</b>','<b>Semi Buy</b>','<b>Full Eco</b>','<b>Semi Eco</b>',\"Summe\"],\n",
        "    line_color='darkslategray',\n",
        "    fill_color=headerColor,\n",
        "    align=['left','center'],\n",
        "    font=dict(color='white', size=12)\n",
        "  ),\n",
        "  cells=dict(\n",
        "    values=[\n",
        "      ['Full Buy', 'Semi Buy', 'Full Eco', 'Semi Eco', \"Summe\"],\n",
        "      [pi_F_B_F_B.shape[0]/full_pi_F_B_F_B, pi_S_B_F_B.shape[0]/full_pi_S_B_F_B, pi_F_E_F_B.shape[0]/full_pi_F_E_F_B, pi_S_E_F_B.shape[0]/full_pi_S_E_F_B, sum([pi_F_B_F_B.shape[0], pi_S_B_F_B.shape[0], pi_F_E_F_B.shape[0], pi_S_E_F_B.shape[0]])],\n",
        "      [pi_F_B_S_B.shape[0]/full_pi_F_B_S_B, pi_S_B_S_B.shape[0]/full_pi_S_B_S_B, pi_F_E_S_B.shape[0]/full_pi_F_E_S_B, pi_S_E_S_B.shape[0]/full_pi_S_E_S_B, sum([pi_F_B_S_B.shape[0], pi_S_B_S_B.shape[0], pi_F_E_S_B.shape[0], pi_S_E_S_B.shape[0]])],\n",
        "      [pi_F_B_F_E.shape[0]/full_pi_F_B_F_E, pi_S_B_F_E.shape[0]/full_pi_S_B_F_E, pi_F_E_F_E.shape[0]/full_pi_F_E_F_E, pi_S_E_F_E.shape[0]/full_pi_S_E_F_E, sum([pi_F_B_F_E.shape[0], pi_S_B_F_E.shape[0], pi_F_E_F_E.shape[0], pi_S_E_F_E.shape[0]])],\n",
        "      [pi_F_B_S_E.shape[0]/full_pi_F_B_S_E, pi_S_B_S_E.shape[0]/full_pi_S_B_S_E, pi_F_E_S_E.shape[0]/full_pi_F_E_S_E, pi_S_E_S_E.shape[0]/full_pi_S_E_S_E, sum([pi_F_B_S_E.shape[0], pi_S_B_S_E.shape[0], pi_F_E_S_E.shape[0], pi_S_E_S_E.shape[0]])]],\n",
        "      #[sum([pi_F_B_F_B, pi_F_B_S_B, pi_F_B_F_E, pi_F_B_S_E]), sum([pi_S_B_F_B, pi_S_B_S_B, pi_S_B_F_E, pi_S_B_S_E]), \n",
        "       #sum([pi_F_E_F_B, pi_F_E_S_B, pi_F_E_F_E, pi_F_E_S_E]), sum([pi_S_E_F_B, pi_S_E_S_B, pi_S_E_F_E, pi_S_E_S_E])]],\n",
        "    line_color='darkslategray',\n",
        "    # 2-D list of colors for alternating rows\n",
        "    fill_color = [[rowOddColor,rowEvenColor,rowOddColor, rowEvenColor,rowOddColor]*5],\n",
        "    align = ['left', 'center'],\n",
        "    font = dict(color = 'darkslategray', size = 11)\n",
        "    ))\n",
        "])\n",
        "\n",
        "print(\"Siegwkeit der T Seite\")\n",
        "fig.show()"
      ],
      "metadata": {
        "id": "qQksNPl7PIyH",
        "outputId": "9ac02fa0-d9b4-4756-d1e6-a440ce3d1b31",
        "colab": {
          "base_uri": "https://localhost:8080/",
          "height": 560
        }
      },
      "execution_count": 210,
      "outputs": [
        {
          "output_type": "stream",
          "name": "stdout",
          "text": [
            "Siegwkeit der T Seite\n"
          ]
        },
        {
          "output_type": "display_data",
          "data": {
            "text/html": [
              "<html>\n",
              "<head><meta charset=\"utf-8\" /></head>\n",
              "<body>\n",
              "    <div>            <script src=\"https://cdnjs.cloudflare.com/ajax/libs/mathjax/2.7.5/MathJax.js?config=TeX-AMS-MML_SVG\"></script><script type=\"text/javascript\">if (window.MathJax) {MathJax.Hub.Config({SVG: {font: \"STIX-Web\"}});}</script>                <script type=\"text/javascript\">window.PlotlyConfig = {MathJaxConfig: 'local'};</script>\n",
              "        <script src=\"https://cdn.plot.ly/plotly-2.8.3.min.js\"></script>                <div id=\"c01baad3-efab-4f3e-a514-de4c0ea9b100\" class=\"plotly-graph-div\" style=\"height:525px; width:100%;\"></div>            <script type=\"text/javascript\">                                    window.PLOTLYENV=window.PLOTLYENV || {};                                    if (document.getElementById(\"c01baad3-efab-4f3e-a514-de4c0ea9b100\")) {                    Plotly.newPlot(                        \"c01baad3-efab-4f3e-a514-de4c0ea9b100\",                        [{\"cells\":{\"align\":[\"left\",\"center\"],\"fill\":{\"color\":[[\"white\",\"lightgrey\",\"white\",\"lightgrey\",\"white\",\"white\",\"lightgrey\",\"white\",\"lightgrey\",\"white\",\"white\",\"lightgrey\",\"white\",\"lightgrey\",\"white\",\"white\",\"lightgrey\",\"white\",\"lightgrey\",\"white\",\"white\",\"lightgrey\",\"white\",\"lightgrey\",\"white\"]]},\"font\":{\"color\":\"darkslategray\",\"size\":11},\"line\":{\"color\":\"darkslategray\"},\"values\":[[\"Full Buy\",\"Semi Buy\",\"Full Eco\",\"Semi Eco\",\"Summe\"],[0.49619565217391304,0.38390092879256965,0.05660377358490566,0.19194312796208532,2185],[0.710691823899371,0.6692913385826772,0.04054054054054054,0.3488372093023256,442],[0.9444444444444444,0.9811320754716981,0.4263157894736842,0.75,741],[0.8432835820895522,0.6756756756756757,0.0,0.0,414]]},\"header\":{\"align\":[\"left\",\"center\"],\"fill\":{\"color\":\"grey\"},\"font\":{\"color\":\"white\",\"size\":12},\"line\":{\"color\":\"darkslategray\"},\"values\":[\"<b> </b>\",\"<b>Full Buy</b>\",\"<b>Semi Buy</b>\",\"<b>Full Eco</b>\",\"<b>Semi Eco</b>\",\"Summe\"]},\"type\":\"table\"}],                        {\"template\":{\"data\":{\"bar\":[{\"error_x\":{\"color\":\"#2a3f5f\"},\"error_y\":{\"color\":\"#2a3f5f\"},\"marker\":{\"line\":{\"color\":\"#E5ECF6\",\"width\":0.5},\"pattern\":{\"fillmode\":\"overlay\",\"size\":10,\"solidity\":0.2}},\"type\":\"bar\"}],\"barpolar\":[{\"marker\":{\"line\":{\"color\":\"#E5ECF6\",\"width\":0.5},\"pattern\":{\"fillmode\":\"overlay\",\"size\":10,\"solidity\":0.2}},\"type\":\"barpolar\"}],\"carpet\":[{\"aaxis\":{\"endlinecolor\":\"#2a3f5f\",\"gridcolor\":\"white\",\"linecolor\":\"white\",\"minorgridcolor\":\"white\",\"startlinecolor\":\"#2a3f5f\"},\"baxis\":{\"endlinecolor\":\"#2a3f5f\",\"gridcolor\":\"white\",\"linecolor\":\"white\",\"minorgridcolor\":\"white\",\"startlinecolor\":\"#2a3f5f\"},\"type\":\"carpet\"}],\"choropleth\":[{\"colorbar\":{\"outlinewidth\":0,\"ticks\":\"\"},\"type\":\"choropleth\"}],\"contour\":[{\"colorbar\":{\"outlinewidth\":0,\"ticks\":\"\"},\"colorscale\":[[0.0,\"#0d0887\"],[0.1111111111111111,\"#46039f\"],[0.2222222222222222,\"#7201a8\"],[0.3333333333333333,\"#9c179e\"],[0.4444444444444444,\"#bd3786\"],[0.5555555555555556,\"#d8576b\"],[0.6666666666666666,\"#ed7953\"],[0.7777777777777778,\"#fb9f3a\"],[0.8888888888888888,\"#fdca26\"],[1.0,\"#f0f921\"]],\"type\":\"contour\"}],\"contourcarpet\":[{\"colorbar\":{\"outlinewidth\":0,\"ticks\":\"\"},\"type\":\"contourcarpet\"}],\"heatmap\":[{\"colorbar\":{\"outlinewidth\":0,\"ticks\":\"\"},\"colorscale\":[[0.0,\"#0d0887\"],[0.1111111111111111,\"#46039f\"],[0.2222222222222222,\"#7201a8\"],[0.3333333333333333,\"#9c179e\"],[0.4444444444444444,\"#bd3786\"],[0.5555555555555556,\"#d8576b\"],[0.6666666666666666,\"#ed7953\"],[0.7777777777777778,\"#fb9f3a\"],[0.8888888888888888,\"#fdca26\"],[1.0,\"#f0f921\"]],\"type\":\"heatmap\"}],\"heatmapgl\":[{\"colorbar\":{\"outlinewidth\":0,\"ticks\":\"\"},\"colorscale\":[[0.0,\"#0d0887\"],[0.1111111111111111,\"#46039f\"],[0.2222222222222222,\"#7201a8\"],[0.3333333333333333,\"#9c179e\"],[0.4444444444444444,\"#bd3786\"],[0.5555555555555556,\"#d8576b\"],[0.6666666666666666,\"#ed7953\"],[0.7777777777777778,\"#fb9f3a\"],[0.8888888888888888,\"#fdca26\"],[1.0,\"#f0f921\"]],\"type\":\"heatmapgl\"}],\"histogram\":[{\"marker\":{\"pattern\":{\"fillmode\":\"overlay\",\"size\":10,\"solidity\":0.2}},\"type\":\"histogram\"}],\"histogram2d\":[{\"colorbar\":{\"outlinewidth\":0,\"ticks\":\"\"},\"colorscale\":[[0.0,\"#0d0887\"],[0.1111111111111111,\"#46039f\"],[0.2222222222222222,\"#7201a8\"],[0.3333333333333333,\"#9c179e\"],[0.4444444444444444,\"#bd3786\"],[0.5555555555555556,\"#d8576b\"],[0.6666666666666666,\"#ed7953\"],[0.7777777777777778,\"#fb9f3a\"],[0.8888888888888888,\"#fdca26\"],[1.0,\"#f0f921\"]],\"type\":\"histogram2d\"}],\"histogram2dcontour\":[{\"colorbar\":{\"outlinewidth\":0,\"ticks\":\"\"},\"colorscale\":[[0.0,\"#0d0887\"],[0.1111111111111111,\"#46039f\"],[0.2222222222222222,\"#7201a8\"],[0.3333333333333333,\"#9c179e\"],[0.4444444444444444,\"#bd3786\"],[0.5555555555555556,\"#d8576b\"],[0.6666666666666666,\"#ed7953\"],[0.7777777777777778,\"#fb9f3a\"],[0.8888888888888888,\"#fdca26\"],[1.0,\"#f0f921\"]],\"type\":\"histogram2dcontour\"}],\"mesh3d\":[{\"colorbar\":{\"outlinewidth\":0,\"ticks\":\"\"},\"type\":\"mesh3d\"}],\"parcoords\":[{\"line\":{\"colorbar\":{\"outlinewidth\":0,\"ticks\":\"\"}},\"type\":\"parcoords\"}],\"pie\":[{\"automargin\":true,\"type\":\"pie\"}],\"scatter\":[{\"marker\":{\"colorbar\":{\"outlinewidth\":0,\"ticks\":\"\"}},\"type\":\"scatter\"}],\"scatter3d\":[{\"line\":{\"colorbar\":{\"outlinewidth\":0,\"ticks\":\"\"}},\"marker\":{\"colorbar\":{\"outlinewidth\":0,\"ticks\":\"\"}},\"type\":\"scatter3d\"}],\"scattercarpet\":[{\"marker\":{\"colorbar\":{\"outlinewidth\":0,\"ticks\":\"\"}},\"type\":\"scattercarpet\"}],\"scattergeo\":[{\"marker\":{\"colorbar\":{\"outlinewidth\":0,\"ticks\":\"\"}},\"type\":\"scattergeo\"}],\"scattergl\":[{\"marker\":{\"colorbar\":{\"outlinewidth\":0,\"ticks\":\"\"}},\"type\":\"scattergl\"}],\"scattermapbox\":[{\"marker\":{\"colorbar\":{\"outlinewidth\":0,\"ticks\":\"\"}},\"type\":\"scattermapbox\"}],\"scatterpolar\":[{\"marker\":{\"colorbar\":{\"outlinewidth\":0,\"ticks\":\"\"}},\"type\":\"scatterpolar\"}],\"scatterpolargl\":[{\"marker\":{\"colorbar\":{\"outlinewidth\":0,\"ticks\":\"\"}},\"type\":\"scatterpolargl\"}],\"scatterternary\":[{\"marker\":{\"colorbar\":{\"outlinewidth\":0,\"ticks\":\"\"}},\"type\":\"scatterternary\"}],\"surface\":[{\"colorbar\":{\"outlinewidth\":0,\"ticks\":\"\"},\"colorscale\":[[0.0,\"#0d0887\"],[0.1111111111111111,\"#46039f\"],[0.2222222222222222,\"#7201a8\"],[0.3333333333333333,\"#9c179e\"],[0.4444444444444444,\"#bd3786\"],[0.5555555555555556,\"#d8576b\"],[0.6666666666666666,\"#ed7953\"],[0.7777777777777778,\"#fb9f3a\"],[0.8888888888888888,\"#fdca26\"],[1.0,\"#f0f921\"]],\"type\":\"surface\"}],\"table\":[{\"cells\":{\"fill\":{\"color\":\"#EBF0F8\"},\"line\":{\"color\":\"white\"}},\"header\":{\"fill\":{\"color\":\"#C8D4E3\"},\"line\":{\"color\":\"white\"}},\"type\":\"table\"}]},\"layout\":{\"annotationdefaults\":{\"arrowcolor\":\"#2a3f5f\",\"arrowhead\":0,\"arrowwidth\":1},\"autotypenumbers\":\"strict\",\"coloraxis\":{\"colorbar\":{\"outlinewidth\":0,\"ticks\":\"\"}},\"colorscale\":{\"diverging\":[[0,\"#8e0152\"],[0.1,\"#c51b7d\"],[0.2,\"#de77ae\"],[0.3,\"#f1b6da\"],[0.4,\"#fde0ef\"],[0.5,\"#f7f7f7\"],[0.6,\"#e6f5d0\"],[0.7,\"#b8e186\"],[0.8,\"#7fbc41\"],[0.9,\"#4d9221\"],[1,\"#276419\"]],\"sequential\":[[0.0,\"#0d0887\"],[0.1111111111111111,\"#46039f\"],[0.2222222222222222,\"#7201a8\"],[0.3333333333333333,\"#9c179e\"],[0.4444444444444444,\"#bd3786\"],[0.5555555555555556,\"#d8576b\"],[0.6666666666666666,\"#ed7953\"],[0.7777777777777778,\"#fb9f3a\"],[0.8888888888888888,\"#fdca26\"],[1.0,\"#f0f921\"]],\"sequentialminus\":[[0.0,\"#0d0887\"],[0.1111111111111111,\"#46039f\"],[0.2222222222222222,\"#7201a8\"],[0.3333333333333333,\"#9c179e\"],[0.4444444444444444,\"#bd3786\"],[0.5555555555555556,\"#d8576b\"],[0.6666666666666666,\"#ed7953\"],[0.7777777777777778,\"#fb9f3a\"],[0.8888888888888888,\"#fdca26\"],[1.0,\"#f0f921\"]]},\"colorway\":[\"#636efa\",\"#EF553B\",\"#00cc96\",\"#ab63fa\",\"#FFA15A\",\"#19d3f3\",\"#FF6692\",\"#B6E880\",\"#FF97FF\",\"#FECB52\"],\"font\":{\"color\":\"#2a3f5f\"},\"geo\":{\"bgcolor\":\"white\",\"lakecolor\":\"white\",\"landcolor\":\"#E5ECF6\",\"showlakes\":true,\"showland\":true,\"subunitcolor\":\"white\"},\"hoverlabel\":{\"align\":\"left\"},\"hovermode\":\"closest\",\"mapbox\":{\"style\":\"light\"},\"paper_bgcolor\":\"white\",\"plot_bgcolor\":\"#E5ECF6\",\"polar\":{\"angularaxis\":{\"gridcolor\":\"white\",\"linecolor\":\"white\",\"ticks\":\"\"},\"bgcolor\":\"#E5ECF6\",\"radialaxis\":{\"gridcolor\":\"white\",\"linecolor\":\"white\",\"ticks\":\"\"}},\"scene\":{\"xaxis\":{\"backgroundcolor\":\"#E5ECF6\",\"gridcolor\":\"white\",\"gridwidth\":2,\"linecolor\":\"white\",\"showbackground\":true,\"ticks\":\"\",\"zerolinecolor\":\"white\"},\"yaxis\":{\"backgroundcolor\":\"#E5ECF6\",\"gridcolor\":\"white\",\"gridwidth\":2,\"linecolor\":\"white\",\"showbackground\":true,\"ticks\":\"\",\"zerolinecolor\":\"white\"},\"zaxis\":{\"backgroundcolor\":\"#E5ECF6\",\"gridcolor\":\"white\",\"gridwidth\":2,\"linecolor\":\"white\",\"showbackground\":true,\"ticks\":\"\",\"zerolinecolor\":\"white\"}},\"shapedefaults\":{\"line\":{\"color\":\"#2a3f5f\"}},\"ternary\":{\"aaxis\":{\"gridcolor\":\"white\",\"linecolor\":\"white\",\"ticks\":\"\"},\"baxis\":{\"gridcolor\":\"white\",\"linecolor\":\"white\",\"ticks\":\"\"},\"bgcolor\":\"#E5ECF6\",\"caxis\":{\"gridcolor\":\"white\",\"linecolor\":\"white\",\"ticks\":\"\"}},\"title\":{\"x\":0.05},\"xaxis\":{\"automargin\":true,\"gridcolor\":\"white\",\"linecolor\":\"white\",\"ticks\":\"\",\"title\":{\"standoff\":15},\"zerolinecolor\":\"white\",\"zerolinewidth\":2},\"yaxis\":{\"automargin\":true,\"gridcolor\":\"white\",\"linecolor\":\"white\",\"ticks\":\"\",\"title\":{\"standoff\":15},\"zerolinecolor\":\"white\",\"zerolinewidth\":2}}}},                        {\"responsive\": true}                    ).then(function(){\n",
              "                            \n",
              "var gd = document.getElementById('c01baad3-efab-4f3e-a514-de4c0ea9b100');\n",
              "var x = new MutationObserver(function (mutations, observer) {{\n",
              "        var display = window.getComputedStyle(gd).display;\n",
              "        if (!display || display === 'none') {{\n",
              "            console.log([gd, 'removed!']);\n",
              "            Plotly.purge(gd);\n",
              "            observer.disconnect();\n",
              "        }}\n",
              "}});\n",
              "\n",
              "// Listen for the removal of the full notebook cells\n",
              "var notebookContainer = gd.closest('#notebook-container');\n",
              "if (notebookContainer) {{\n",
              "    x.observe(notebookContainer, {childList: true});\n",
              "}}\n",
              "\n",
              "// Listen for the clearing of the current output cell\n",
              "var outputEl = gd.closest('.output');\n",
              "if (outputEl) {{\n",
              "    x.observe(outputEl, {childList: true});\n",
              "}}\n",
              "\n",
              "                        })                };                            </script>        </div>\n",
              "</body>\n",
              "</html>"
            ]
          },
          "metadata": {}
        }
      ]
    },
    {
      "cell_type": "code",
      "source": [
        "headerColor = 'grey'\n",
        "rowEvenColor = 'lightgrey'\n",
        "rowOddColor = 'white'\n",
        "\n",
        "fig = go.Figure(data=[go.Table(\n",
        "  header=dict(\n",
        "    values=['<b> </b>','<b>Full Buy</b>','<b>Semi Buy</b>','<b>Full Eco</b>','<b>Semi Eco</b>',\"Summe\"],\n",
        "    line_color='darkslategray',\n",
        "    fill_color=headerColor,\n",
        "    align=['left','center'],\n",
        "    font=dict(color='white', size=12)\n",
        "  ),\n",
        "  cells=dict(\n",
        "    values=[\n",
        "      ['Full Buy', 'Semi Buy', 'Full Eco', 'Semi Eco', \"Summe\"],\n",
        "      [CT_pi_F_B_F_B.shape[0], CT_pi_S_B_F_B.shape[0], CT_pi_F_E_F_B.shape[0], CT_pi_S_E_F_B.shape[0], sum([CT_pi_F_B_F_B.shape[0], CT_pi_S_B_F_B.shape[0], CT_pi_F_E_F_B.shape[0], CT_pi_S_E_F_B.shape[0]])],\n",
        "      [CT_pi_F_B_S_B.shape[0], CT_pi_S_B_S_B.shape[0], CT_pi_F_E_S_B.shape[0], CT_pi_S_E_S_B.shape[0], sum([CT_pi_F_B_S_B.shape[0], CT_pi_S_B_S_B.shape[0], CT_pi_F_E_S_B.shape[0], CT_pi_S_E_S_B.shape[0]])],\n",
        "      [CT_pi_F_B_F_E.shape[0], CT_pi_S_B_F_E.shape[0], CT_pi_F_E_F_E.shape[0], CT_pi_S_E_F_E.shape[0], sum([CT_pi_F_B_F_E.shape[0], CT_pi_S_B_F_E.shape[0], CT_pi_F_E_F_E.shape[0], CT_pi_S_E_F_E.shape[0]])],\n",
        "      [CT_pi_F_B_S_E.shape[0], CT_pi_S_B_S_E.shape[0], CT_pi_F_E_S_E.shape[0], CT_pi_S_E_S_E.shape[0], sum([CT_pi_F_B_S_E.shape[0], CT_pi_S_B_S_E.shape[0], CT_pi_F_E_S_E.shape[0], CT_pi_S_E_S_E.shape[0]])]],\n",
        "      #[sum([CT_pi_F_B_F_B, CT_pi_F_B_S_B, CT_pi_F_B_F_E, CT_pi_F_B_S_E]), sum([CT_pi_S_B_F_B, CT_pi_S_B_S_B, CT_pi_S_B_F_E, CT_pi_S_B_S_E]), \n",
        "       #sum([CT_pi_F_E_F_B, CT_pi_F_E_S_B, CT_pi_F_E_F_E, CT_pi_F_E_S_E]), sum([CT_pi_S_E_F_B, CT_pi_S_E_S_B, CT_pi_S_E_F_E, CT_pi_S_E_S_E])]],\n",
        "    line_color='darkslategray',\n",
        "    # 2-D list of colors for alternating rows\n",
        "    fill_color = [[rowOddColor,rowEvenColor,rowOddColor, rowEvenColor,rowOddColor]*5],\n",
        "    align = ['left', 'center'],\n",
        "    font = dict(color = 'darkslategray', size = 11)\n",
        "    ))\n",
        "])\n",
        "\n",
        "print(\"Siege der CT Seite\")\n",
        "fig.show()"
      ],
      "metadata": {
        "colab": {
          "base_uri": "https://localhost:8080/",
          "height": 560
        },
        "id": "c8F3pa9ZY43O",
        "outputId": "d64fc83a-e2db-4b67-8c9b-41a05680b30a"
      },
      "execution_count": 208,
      "outputs": [
        {
          "output_type": "stream",
          "name": "stdout",
          "text": [
            "Siege der CT Seite\n"
          ]
        },
        {
          "output_type": "display_data",
          "data": {
            "text/html": [
              "<html>\n",
              "<head><meta charset=\"utf-8\" /></head>\n",
              "<body>\n",
              "    <div>            <script src=\"https://cdnjs.cloudflare.com/ajax/libs/mathjax/2.7.5/MathJax.js?config=TeX-AMS-MML_SVG\"></script><script type=\"text/javascript\">if (window.MathJax) {MathJax.Hub.Config({SVG: {font: \"STIX-Web\"}});}</script>                <script type=\"text/javascript\">window.PlotlyConfig = {MathJaxConfig: 'local'};</script>\n",
              "        <script src=\"https://cdn.plot.ly/plotly-2.8.3.min.js\"></script>                <div id=\"4a269fd0-9463-46ea-af56-5cd2954f1c0e\" class=\"plotly-graph-div\" style=\"height:525px; width:100%;\"></div>            <script type=\"text/javascript\">                                    window.PLOTLYENV=window.PLOTLYENV || {};                                    if (document.getElementById(\"4a269fd0-9463-46ea-af56-5cd2954f1c0e\")) {                    Plotly.newPlot(                        \"4a269fd0-9463-46ea-af56-5cd2954f1c0e\",                        [{\"cells\":{\"align\":[\"left\",\"center\"],\"fill\":{\"color\":[[\"white\",\"lightgrey\",\"white\",\"lightgrey\",\"white\",\"white\",\"lightgrey\",\"white\",\"lightgrey\",\"white\",\"white\",\"lightgrey\",\"white\",\"lightgrey\",\"white\",\"white\",\"lightgrey\",\"white\",\"lightgrey\",\"white\",\"white\",\"lightgrey\",\"white\",\"lightgrey\",\"white\"]]},\"font\":{\"color\":\"darkslategray\",\"size\":11},\"line\":{\"color\":\"darkslategray\"},\"values\":[[\"Full Buy\",\"Semi Buy\",\"Full Eco\",\"Semi Eco\",\"Summe\"],[1854,398,500,341,3093],[138,42,71,28,279],[23,2,327,1,353],[63,36,0,0,99]]},\"header\":{\"align\":[\"left\",\"center\"],\"fill\":{\"color\":\"grey\"},\"font\":{\"color\":\"white\",\"size\":12},\"line\":{\"color\":\"darkslategray\"},\"values\":[\"<b> </b>\",\"<b>Full Buy</b>\",\"<b>Semi Buy</b>\",\"<b>Full Eco</b>\",\"<b>Semi Eco</b>\",\"Summe\"]},\"type\":\"table\"}],                        {\"template\":{\"data\":{\"bar\":[{\"error_x\":{\"color\":\"#2a3f5f\"},\"error_y\":{\"color\":\"#2a3f5f\"},\"marker\":{\"line\":{\"color\":\"#E5ECF6\",\"width\":0.5},\"pattern\":{\"fillmode\":\"overlay\",\"size\":10,\"solidity\":0.2}},\"type\":\"bar\"}],\"barpolar\":[{\"marker\":{\"line\":{\"color\":\"#E5ECF6\",\"width\":0.5},\"pattern\":{\"fillmode\":\"overlay\",\"size\":10,\"solidity\":0.2}},\"type\":\"barpolar\"}],\"carpet\":[{\"aaxis\":{\"endlinecolor\":\"#2a3f5f\",\"gridcolor\":\"white\",\"linecolor\":\"white\",\"minorgridcolor\":\"white\",\"startlinecolor\":\"#2a3f5f\"},\"baxis\":{\"endlinecolor\":\"#2a3f5f\",\"gridcolor\":\"white\",\"linecolor\":\"white\",\"minorgridcolor\":\"white\",\"startlinecolor\":\"#2a3f5f\"},\"type\":\"carpet\"}],\"choropleth\":[{\"colorbar\":{\"outlinewidth\":0,\"ticks\":\"\"},\"type\":\"choropleth\"}],\"contour\":[{\"colorbar\":{\"outlinewidth\":0,\"ticks\":\"\"},\"colorscale\":[[0.0,\"#0d0887\"],[0.1111111111111111,\"#46039f\"],[0.2222222222222222,\"#7201a8\"],[0.3333333333333333,\"#9c179e\"],[0.4444444444444444,\"#bd3786\"],[0.5555555555555556,\"#d8576b\"],[0.6666666666666666,\"#ed7953\"],[0.7777777777777778,\"#fb9f3a\"],[0.8888888888888888,\"#fdca26\"],[1.0,\"#f0f921\"]],\"type\":\"contour\"}],\"contourcarpet\":[{\"colorbar\":{\"outlinewidth\":0,\"ticks\":\"\"},\"type\":\"contourcarpet\"}],\"heatmap\":[{\"colorbar\":{\"outlinewidth\":0,\"ticks\":\"\"},\"colorscale\":[[0.0,\"#0d0887\"],[0.1111111111111111,\"#46039f\"],[0.2222222222222222,\"#7201a8\"],[0.3333333333333333,\"#9c179e\"],[0.4444444444444444,\"#bd3786\"],[0.5555555555555556,\"#d8576b\"],[0.6666666666666666,\"#ed7953\"],[0.7777777777777778,\"#fb9f3a\"],[0.8888888888888888,\"#fdca26\"],[1.0,\"#f0f921\"]],\"type\":\"heatmap\"}],\"heatmapgl\":[{\"colorbar\":{\"outlinewidth\":0,\"ticks\":\"\"},\"colorscale\":[[0.0,\"#0d0887\"],[0.1111111111111111,\"#46039f\"],[0.2222222222222222,\"#7201a8\"],[0.3333333333333333,\"#9c179e\"],[0.4444444444444444,\"#bd3786\"],[0.5555555555555556,\"#d8576b\"],[0.6666666666666666,\"#ed7953\"],[0.7777777777777778,\"#fb9f3a\"],[0.8888888888888888,\"#fdca26\"],[1.0,\"#f0f921\"]],\"type\":\"heatmapgl\"}],\"histogram\":[{\"marker\":{\"pattern\":{\"fillmode\":\"overlay\",\"size\":10,\"solidity\":0.2}},\"type\":\"histogram\"}],\"histogram2d\":[{\"colorbar\":{\"outlinewidth\":0,\"ticks\":\"\"},\"colorscale\":[[0.0,\"#0d0887\"],[0.1111111111111111,\"#46039f\"],[0.2222222222222222,\"#7201a8\"],[0.3333333333333333,\"#9c179e\"],[0.4444444444444444,\"#bd3786\"],[0.5555555555555556,\"#d8576b\"],[0.6666666666666666,\"#ed7953\"],[0.7777777777777778,\"#fb9f3a\"],[0.8888888888888888,\"#fdca26\"],[1.0,\"#f0f921\"]],\"type\":\"histogram2d\"}],\"histogram2dcontour\":[{\"colorbar\":{\"outlinewidth\":0,\"ticks\":\"\"},\"colorscale\":[[0.0,\"#0d0887\"],[0.1111111111111111,\"#46039f\"],[0.2222222222222222,\"#7201a8\"],[0.3333333333333333,\"#9c179e\"],[0.4444444444444444,\"#bd3786\"],[0.5555555555555556,\"#d8576b\"],[0.6666666666666666,\"#ed7953\"],[0.7777777777777778,\"#fb9f3a\"],[0.8888888888888888,\"#fdca26\"],[1.0,\"#f0f921\"]],\"type\":\"histogram2dcontour\"}],\"mesh3d\":[{\"colorbar\":{\"outlinewidth\":0,\"ticks\":\"\"},\"type\":\"mesh3d\"}],\"parcoords\":[{\"line\":{\"colorbar\":{\"outlinewidth\":0,\"ticks\":\"\"}},\"type\":\"parcoords\"}],\"pie\":[{\"automargin\":true,\"type\":\"pie\"}],\"scatter\":[{\"marker\":{\"colorbar\":{\"outlinewidth\":0,\"ticks\":\"\"}},\"type\":\"scatter\"}],\"scatter3d\":[{\"line\":{\"colorbar\":{\"outlinewidth\":0,\"ticks\":\"\"}},\"marker\":{\"colorbar\":{\"outlinewidth\":0,\"ticks\":\"\"}},\"type\":\"scatter3d\"}],\"scattercarpet\":[{\"marker\":{\"colorbar\":{\"outlinewidth\":0,\"ticks\":\"\"}},\"type\":\"scattercarpet\"}],\"scattergeo\":[{\"marker\":{\"colorbar\":{\"outlinewidth\":0,\"ticks\":\"\"}},\"type\":\"scattergeo\"}],\"scattergl\":[{\"marker\":{\"colorbar\":{\"outlinewidth\":0,\"ticks\":\"\"}},\"type\":\"scattergl\"}],\"scattermapbox\":[{\"marker\":{\"colorbar\":{\"outlinewidth\":0,\"ticks\":\"\"}},\"type\":\"scattermapbox\"}],\"scatterpolar\":[{\"marker\":{\"colorbar\":{\"outlinewidth\":0,\"ticks\":\"\"}},\"type\":\"scatterpolar\"}],\"scatterpolargl\":[{\"marker\":{\"colorbar\":{\"outlinewidth\":0,\"ticks\":\"\"}},\"type\":\"scatterpolargl\"}],\"scatterternary\":[{\"marker\":{\"colorbar\":{\"outlinewidth\":0,\"ticks\":\"\"}},\"type\":\"scatterternary\"}],\"surface\":[{\"colorbar\":{\"outlinewidth\":0,\"ticks\":\"\"},\"colorscale\":[[0.0,\"#0d0887\"],[0.1111111111111111,\"#46039f\"],[0.2222222222222222,\"#7201a8\"],[0.3333333333333333,\"#9c179e\"],[0.4444444444444444,\"#bd3786\"],[0.5555555555555556,\"#d8576b\"],[0.6666666666666666,\"#ed7953\"],[0.7777777777777778,\"#fb9f3a\"],[0.8888888888888888,\"#fdca26\"],[1.0,\"#f0f921\"]],\"type\":\"surface\"}],\"table\":[{\"cells\":{\"fill\":{\"color\":\"#EBF0F8\"},\"line\":{\"color\":\"white\"}},\"header\":{\"fill\":{\"color\":\"#C8D4E3\"},\"line\":{\"color\":\"white\"}},\"type\":\"table\"}]},\"layout\":{\"annotationdefaults\":{\"arrowcolor\":\"#2a3f5f\",\"arrowhead\":0,\"arrowwidth\":1},\"autotypenumbers\":\"strict\",\"coloraxis\":{\"colorbar\":{\"outlinewidth\":0,\"ticks\":\"\"}},\"colorscale\":{\"diverging\":[[0,\"#8e0152\"],[0.1,\"#c51b7d\"],[0.2,\"#de77ae\"],[0.3,\"#f1b6da\"],[0.4,\"#fde0ef\"],[0.5,\"#f7f7f7\"],[0.6,\"#e6f5d0\"],[0.7,\"#b8e186\"],[0.8,\"#7fbc41\"],[0.9,\"#4d9221\"],[1,\"#276419\"]],\"sequential\":[[0.0,\"#0d0887\"],[0.1111111111111111,\"#46039f\"],[0.2222222222222222,\"#7201a8\"],[0.3333333333333333,\"#9c179e\"],[0.4444444444444444,\"#bd3786\"],[0.5555555555555556,\"#d8576b\"],[0.6666666666666666,\"#ed7953\"],[0.7777777777777778,\"#fb9f3a\"],[0.8888888888888888,\"#fdca26\"],[1.0,\"#f0f921\"]],\"sequentialminus\":[[0.0,\"#0d0887\"],[0.1111111111111111,\"#46039f\"],[0.2222222222222222,\"#7201a8\"],[0.3333333333333333,\"#9c179e\"],[0.4444444444444444,\"#bd3786\"],[0.5555555555555556,\"#d8576b\"],[0.6666666666666666,\"#ed7953\"],[0.7777777777777778,\"#fb9f3a\"],[0.8888888888888888,\"#fdca26\"],[1.0,\"#f0f921\"]]},\"colorway\":[\"#636efa\",\"#EF553B\",\"#00cc96\",\"#ab63fa\",\"#FFA15A\",\"#19d3f3\",\"#FF6692\",\"#B6E880\",\"#FF97FF\",\"#FECB52\"],\"font\":{\"color\":\"#2a3f5f\"},\"geo\":{\"bgcolor\":\"white\",\"lakecolor\":\"white\",\"landcolor\":\"#E5ECF6\",\"showlakes\":true,\"showland\":true,\"subunitcolor\":\"white\"},\"hoverlabel\":{\"align\":\"left\"},\"hovermode\":\"closest\",\"mapbox\":{\"style\":\"light\"},\"paper_bgcolor\":\"white\",\"plot_bgcolor\":\"#E5ECF6\",\"polar\":{\"angularaxis\":{\"gridcolor\":\"white\",\"linecolor\":\"white\",\"ticks\":\"\"},\"bgcolor\":\"#E5ECF6\",\"radialaxis\":{\"gridcolor\":\"white\",\"linecolor\":\"white\",\"ticks\":\"\"}},\"scene\":{\"xaxis\":{\"backgroundcolor\":\"#E5ECF6\",\"gridcolor\":\"white\",\"gridwidth\":2,\"linecolor\":\"white\",\"showbackground\":true,\"ticks\":\"\",\"zerolinecolor\":\"white\"},\"yaxis\":{\"backgroundcolor\":\"#E5ECF6\",\"gridcolor\":\"white\",\"gridwidth\":2,\"linecolor\":\"white\",\"showbackground\":true,\"ticks\":\"\",\"zerolinecolor\":\"white\"},\"zaxis\":{\"backgroundcolor\":\"#E5ECF6\",\"gridcolor\":\"white\",\"gridwidth\":2,\"linecolor\":\"white\",\"showbackground\":true,\"ticks\":\"\",\"zerolinecolor\":\"white\"}},\"shapedefaults\":{\"line\":{\"color\":\"#2a3f5f\"}},\"ternary\":{\"aaxis\":{\"gridcolor\":\"white\",\"linecolor\":\"white\",\"ticks\":\"\"},\"baxis\":{\"gridcolor\":\"white\",\"linecolor\":\"white\",\"ticks\":\"\"},\"bgcolor\":\"#E5ECF6\",\"caxis\":{\"gridcolor\":\"white\",\"linecolor\":\"white\",\"ticks\":\"\"}},\"title\":{\"x\":0.05},\"xaxis\":{\"automargin\":true,\"gridcolor\":\"white\",\"linecolor\":\"white\",\"ticks\":\"\",\"title\":{\"standoff\":15},\"zerolinecolor\":\"white\",\"zerolinewidth\":2},\"yaxis\":{\"automargin\":true,\"gridcolor\":\"white\",\"linecolor\":\"white\",\"ticks\":\"\",\"title\":{\"standoff\":15},\"zerolinecolor\":\"white\",\"zerolinewidth\":2}}}},                        {\"responsive\": true}                    ).then(function(){\n",
              "                            \n",
              "var gd = document.getElementById('4a269fd0-9463-46ea-af56-5cd2954f1c0e');\n",
              "var x = new MutationObserver(function (mutations, observer) {{\n",
              "        var display = window.getComputedStyle(gd).display;\n",
              "        if (!display || display === 'none') {{\n",
              "            console.log([gd, 'removed!']);\n",
              "            Plotly.purge(gd);\n",
              "            observer.disconnect();\n",
              "        }}\n",
              "}});\n",
              "\n",
              "// Listen for the removal of the full notebook cells\n",
              "var notebookContainer = gd.closest('#notebook-container');\n",
              "if (notebookContainer) {{\n",
              "    x.observe(notebookContainer, {childList: true});\n",
              "}}\n",
              "\n",
              "// Listen for the clearing of the current output cell\n",
              "var outputEl = gd.closest('.output');\n",
              "if (outputEl) {{\n",
              "    x.observe(outputEl, {childList: true});\n",
              "}}\n",
              "\n",
              "                        })                };                            </script>        </div>\n",
              "</body>\n",
              "</html>"
            ]
          },
          "metadata": {}
        }
      ]
    },
    {
      "cell_type": "markdown",
      "source": [
        "pi_F_B_F_B\n",
        "pi_F_B_S_B\n",
        "pi_F_B_F_E\n",
        "pi_F_B_S_E\n",
        "pi_S_B_F_B\n",
        "pi_S_B_S_B\n",
        "pi_S_B_F_E\n",
        "pi_S_B_S_E\n",
        "pi_F_E_F_B\n",
        "pi_F_E_S_B\n",
        "pi_F_E_F_E\n",
        "pi_F_E_S_E\n",
        "pi_S_E_F_B\n",
        "pi_S_E_S_B\n",
        "pi_S_E_F_E\n",
        "pi_S_E_S_E"
      ],
      "metadata": {
        "id": "bMe2a__3NV4U"
      }
    },
    {
      "cell_type": "markdown",
      "source": [
        "#Nash Buy"
      ],
      "metadata": {
        "id": "5CoPzIFci_hn"
      }
    },
    {
      "cell_type": "code",
      "source": [
        "A = np.array([#[ pi_F_B_F_B.shape[0]/full_pi_F_B_F_B,  pi_S_B_F_B.shape[0]/full_pi_S_B_F_B,  pi_F_E_F_B.shape[0]/full_pi_F_E_F_B,  pi_S_E_F_B.shape[0]/full_pi_S_E_F_B],\n",
        "             #[ pi_F_B_S_B.shape[0]/full_pi_F_B_S_B,  \n",
        "              [pi_S_B_S_B.shape[0]/full_pi_S_B_S_B,  pi_F_E_S_B.shape[0]/full_pi_F_E_S_B,  pi_S_E_S_B.shape[0]/full_pi_S_E_S_B],\n",
        "             #[ pi_F_B_F_E.shape[0]/full_pi_F_B_F_E,  \n",
        "              [pi_S_B_F_E.shape[0]/full_pi_S_B_F_E,  pi_F_E_F_E.shape[0]/full_pi_F_E_F_E,  pi_S_E_F_E.shape[0]/full_pi_S_E_F_E],\n",
        "             #[ pi_F_B_S_E.shape[0]/full_pi_F_B_S_E,  \n",
        "              [pi_S_B_S_E.shape[0]/full_pi_S_B_S_E,  pi_F_E_S_E.shape[0]/full_pi_F_E_S_E,  pi_S_E_S_E.shape[0]/full_pi_S_E_S_E]])\n",
        "A = A.transpose()\n",
        "\n",
        "B = np.array([#[CT_pi_F_B_F_B.shape[0]/full_pi_F_B_F_B, CT_pi_S_B_F_B.shape[0]/full_pi_S_B_F_B, CT_pi_F_E_F_B.shape[0]/full_pi_F_E_F_B, CT_pi_S_E_F_B.shape[0]/full_pi_S_E_F_B],\n",
        "             #[CT_pi_F_B_S_B.shape[0]/full_pi_F_B_S_B, \n",
        "              [CT_pi_S_B_S_B.shape[0]/full_pi_S_B_S_B, CT_pi_F_E_S_B.shape[0]/full_pi_F_E_S_B, CT_pi_S_E_S_B.shape[0]/full_pi_S_E_S_B],\n",
        "             #[CT_pi_F_B_F_E.shape[0]/full_pi_F_B_F_E, \n",
        "              [CT_pi_S_B_F_E.shape[0]/full_pi_S_B_F_E, CT_pi_F_E_F_E.shape[0]/full_pi_F_E_F_E, CT_pi_S_E_F_E.shape[0]/full_pi_S_E_F_E],\n",
        "             #[CT_pi_F_B_S_E.shape[0]/full_pi_F_B_S_E, \n",
        "              [CT_pi_S_B_S_E.shape[0]/full_pi_S_B_S_E, CT_pi_F_E_S_E.shape[0]/full_pi_F_E_S_E, CT_pi_S_E_S_E.shape[0]/full_pi_S_E_S_E]])\n",
        "B = B.transpose()\n",
        "#B = np.array([[CT_pi_SS.shape[0]/Full_pi_SS, CT_pi_AS.shape[0]/Full_pi_AS, CT_pi_BS.shape[0]/Full_pi_BS], \n",
        "#              [CT_pi_SA.shape[0]/Full_pi_SA, CT_pi_AA.shape[0]/Full_pi_AA, CT_pi_BA.shape[0]/Full_pi_BA],\n",
        "#              [CT_pi_SB.shape[0]/Full_pi_SB, CT_pi_AB.shape[0]/Full_pi_AB, CT_pi_BB.shape[0]/Full_pi_BB]])\n",
        "CSGO_2 = nash.Game(A, B)\n",
        "CSGO_2\n",
        "\n",
        "equilibria = CSGO_2.support_enumeration()\n",
        "for eq in equilibria:\n",
        "    print(eq)"
      ],
      "metadata": {
        "colab": {
          "base_uri": "https://localhost:8080/"
        },
        "id": "zYUYCNIci-43",
        "outputId": "8b8eaa3f-3fb9-4d66-905b-a9b56da31095"
      },
      "execution_count": 209,
      "outputs": [
        {
          "output_type": "stream",
          "name": "stdout",
          "text": [
            "(array([1., 0., 0.]), array([1., 0., 0.]))\n"
          ]
        }
      ]
    },
    {
      "cell_type": "markdown",
      "source": [
        "#Download Buy"
      ],
      "metadata": {
        "id": "Y2IGGZw9xBtj"
      }
    },
    {
      "cell_type": "code",
      "source": [
        "Buy_Dec.to_csv(\"Buy_dec_2021.csv\")"
      ],
      "metadata": {
        "id": "iaen-RcCxFp8"
      },
      "execution_count": 21,
      "outputs": []
    },
    {
      "cell_type": "markdown",
      "source": [
        "#Gewinnerseite"
      ],
      "metadata": {
        "id": "385UQcciW7Zi"
      }
    },
    {
      "cell_type": "markdown",
      "source": [
        "#Strategiewahl - Parsing"
      ],
      "metadata": {
        "id": "QzNLC_Sapr44"
      }
    },
    {
      "cell_type": "code",
      "source": [
        "for file in os.listdir(dir):\n",
        "  \n",
        "  if file.endswith(\".dem\"):\n",
        "    \n",
        "    p = DemoParser(demofile=\"/content/drive/MyDrive/2022_Dust2/\"+file, parse_rate=128)\n",
        "    print(file)\n",
        "    #d = p.parse()\n",
        "    #d.keys()\n",
        "    df = p.parse(return_type=\"df\")\n",
        "    #df.keys()\n",
        "\n",
        "    i = 1\n",
        "    Gameround = []\n",
        "    Strategies = []\n",
        "    while i <= df[\"playerFrames\"][\"roundNum\"].max():\n",
        "      player= df[\"playerFrames\"]\n",
        "      track3 = player\n",
        "      track4 = track3[(track3['seconds'] > 5) & (track3['seconds'] <= 25)]\n",
        "      track4 = track4.loc[track4[\"roundNum\"]==i] \n",
        "      track4 = track4.loc[track4[\"side\"]==\"T\"]\n",
        "      \n",
        "      t = NAV_CSV[NAV_CSV[\"mapName\"] == \"de_dust2\"]\n",
        "\n",
        "\n",
        "      area = []\n",
        "      #für jede Reihe durchgehen und Position festlegen und in Liste einspeichern --> jede Sekunde für jeden Spieler\n",
        "      for index, row in track4.iterrows():\n",
        "        f = t[(t['northWestX'] > row['x']-40) & (t['northWestX'] < row['x']+40)]\n",
        "        f = f[(f['northWestY'] > row['y']-40) & (f['northWestY'] < row['y']+40)]\n",
        "      \n",
        "        if f.empty:\n",
        "          loc = \"MISTAKE\"\n",
        "          area.append(loc)\n",
        "        \n",
        "        else:\n",
        "          loc = f[\"areaName\"].value_counts().idxmax()\n",
        "          area.append(loc)\n",
        "\n",
        "      #füge Liste mit Positionen zu DF hinzu\n",
        "      track4[\"area\"] = area \n",
        "      \n",
        "      track4.loc[track4['area'] == \"CTSpawn\",'subgroup'] = \"Mid\"\n",
        "      track4.loc[track4['area'] == \"MidDoors\",'subgroup'] = \"Mid\"\n",
        "      track4.loc[track4['area'] == \"TopofMid\",'subgroup'] = \"Mid\"\n",
        "      track4.loc[track4['area'] == \"Middle\",'subgroup'] = \"Mid\"\n",
        "      track4.loc[track4['area'] == \"Short\",'subgroup'] = \"Mid\"\n",
        "\n",
        "      track4.loc[track4['area'] == \"ShortStairs\",'subgroup'] = \"BombA\"\n",
        "      track4.loc[track4['area'] == \"UnderA\",'subgroup'] = \"BombA\"\n",
        "      track4.loc[track4['area'] == \"ExtendedA\",'subgroup'] = \"BombA\"\n",
        "      track4.loc[track4['area'] == \"Catwalk\",'subgroup'] = \"BombA\"\n",
        "\n",
        "      track4.loc[track4['area'] == \"BombsiteB\",'subgroup'] = \"BombB\"\n",
        "      track4.loc[track4['area'] == \"BDoors\",'subgroup'] = \"BombB\"\n",
        "      track4.loc[track4['area'] == \"Hole\",'subgroup'] = \"BombB\"\n",
        "\n",
        "      track4.loc[track4['area'] == \"TSpawn\",'subgroup'] = \"TerroristSpawn\"\n",
        "      track4.loc[track4['area'] == \"TRamp\",'subgroup'] = \"TerroristSpawn\"\n",
        "\n",
        "      track4.loc[track4['area'] == \"OutsideTunnel\",'subgroup'] = \"BombB\"\n",
        "      track4.loc[track4['area'] == \"UpperTunnel\",'subgroup'] = \"BombB\"\n",
        "      track4.loc[track4['area'] == \"TunnelStairs\",'subgroup'] = \"BombB\"\n",
        "      track4.loc[track4['area'] == \"LowerTunnel\",'subgroup'] = \"BombB\"\n",
        "\n",
        "      track4.loc[track4['area'] == \"LongA\",'subgroup'] = \"BombA\"\n",
        "      track4.loc[track4['area'] == \"LongDoors\",'subgroup'] = \"BombA\"\n",
        "      track4.loc[track4['area'] == \"OutsideLong\",'subgroup'] = \"BombA\"\n",
        "      track4.loc[track4['area'] == \"Pit\",'subgroup'] = \"BombA\"\n",
        "      track4.loc[track4['area'] == \"Ramp\",'subgroup'] = \"BombA\"\n",
        "      track4.loc[track4['area'] == \"Side\",'subgroup'] = \"BombA\"\n",
        "\n",
        "      track4.loc[track4['area'] == \"BombsiteA\",'subgroup'] = \"BombA\"\n",
        "      track4.loc[track4['area'] == \"ARamp\",'subgroup'] = \"BombA\"\n",
        "\n",
        "      stra = []\n",
        "\n",
        "      df2 = track4.groupby(['subgroup', 'name'])['subgroup'].count().unstack(fill_value=0)\n",
        "\n",
        "      for column in df2:\n",
        "        y = df2[{column}].idxmax()\n",
        "        y = y.values.tolist()\n",
        "        stra.append(y)\n",
        "      \n",
        "      j = 0\n",
        "      \n",
        "\n",
        "      BombA = 0\n",
        "      BombB = 0\n",
        "      Mid = 0\n",
        "      TerroristSpawn = 0\n",
        "\n",
        "      for element in stra:\n",
        "        if (element[j] == \"BombA\"):\n",
        "          BombA = BombA+1\n",
        "        elif (element[j] == \"BombB\"):\n",
        "          BombB = BombB+1\n",
        "        elif (element[j] == \"Mid\"):\n",
        "          Mid = Mid+1\n",
        "        elif (element[j] == \"Terroristspawn\"):\n",
        "          TerroristSpawn = TerroristSpawn + 1 \n",
        "      if BombA >= 4:\n",
        "          strategy = \"RushA\"\n",
        "          Strategies.append(strategy)\n",
        "          strategy=0\n",
        "          Gameround.append(i)\n",
        "      if BombB >=4:\n",
        "          strategy = \"RushB\"\n",
        "          Strategies.append(strategy)\n",
        "          strategy=0\n",
        "          Gameround.append(i)\n",
        "      if (BombA<4)&(BombB<4):\n",
        "          strategy = \"Split\"\n",
        "          Strategies.append(strategy)\n",
        "          strategy=0\n",
        "          Gameround.append(i)\n",
        "      ##print(i)\n",
        "      ##print(stra)\n",
        "      ##print(Strategies)\n",
        "\n",
        "      i=i+1\n",
        "\n",
        "    i = 1\n",
        "    Gameround = []\n",
        "    CTStrategies = []\n",
        "    while i <= df[\"playerFrames\"][\"roundNum\"].max():\n",
        "      player= df[\"playerFrames\"]\n",
        "      track3 = player\n",
        "      track4 = track3[(track3['seconds'] > 10) & (track3['seconds'] <= 30)]\n",
        "      track4 = track4.loc[track4[\"roundNum\"]==i] \n",
        "      track4 = track4.loc[track4[\"side\"]==\"CT\"]\n",
        "      \n",
        "      t = NAV_CSV[NAV_CSV[\"mapName\"] == \"de_dust2\"]\n",
        "\n",
        "\n",
        "      area = []\n",
        "      #für jede Reihe durchgehen und Position festlegen und in Liste einspeichern --> jede Sekunde für jeden Spieler\n",
        "      for index, row in track4.iterrows():\n",
        "        f = t[(t['northWestX'] > row['x']-80) & (t['northWestX'] < row['x']+80)]\n",
        "        f = f[(f['northWestY'] > row['y']-80) & (f['northWestY'] < row['y']+80)]\n",
        "      \n",
        "        if f.empty:\n",
        "          loc = \"MISTAKE\"\n",
        "          area.append(loc)\n",
        "        \n",
        "        else:\n",
        "          loc = f[\"areaName\"].value_counts().idxmax()\n",
        "          area.append(loc)\n",
        "\n",
        "      #füge Liste mit Positionen zu DF hinzu\n",
        "      track4[\"area\"] = area \n",
        "      \n",
        "      track4.loc[track4['area'] == \"CTSpawn\",'subgroup'] = \"Mid\"\n",
        "      track4.loc[track4['area'] == \"MidDoors\",'subgroup'] = \"Mid\"\n",
        "      track4.loc[track4['area'] == \"TopofMid\",'subgroup'] = \"Mid\"\n",
        "      track4.loc[track4['area'] == \"Middle\",'subgroup'] = \"Mid\"\n",
        "      track4.loc[track4['area'] == \"Short\",'subgroup'] = \"Mid\"\n",
        "\n",
        "      track4.loc[track4['area'] == \"ShortStairs\",'subgroup'] = \"BombA\"\n",
        "      track4.loc[track4['area'] == \"UnderA\",'subgroup'] = \"BombA\"\n",
        "      track4.loc[track4['area'] == \"ExtendedA\",'subgroup'] = \"BombA\"\n",
        "      track4.loc[track4['area'] == \"Catwalk\",'subgroup'] = \"BombA\"\n",
        "\n",
        "      track4.loc[track4['area'] == \"BombsiteB\",'subgroup'] = \"BombB\"\n",
        "      track4.loc[track4['area'] == \"BDoors\",'subgroup'] = \"BombB\"\n",
        "      track4.loc[track4['area'] == \"Hole\",'subgroup'] = \"BombB\"\n",
        "\n",
        "      track4.loc[track4['area'] == \"TSpawn\",'subgroup'] = \"TerroristSpawn\"\n",
        "      track4.loc[track4['area'] == \"TRamp\",'subgroup'] = \"TerroristSpawn\"\n",
        "\n",
        "      track4.loc[track4['area'] == \"OutsideTunnel\",'subgroup'] = \"BombB\"\n",
        "      track4.loc[track4['area'] == \"UpperTunnel\",'subgroup'] = \"BombB\"\n",
        "      track4.loc[track4['area'] == \"TunnelStairs\",'subgroup'] = \"BombB\"\n",
        "      track4.loc[track4['area'] == \"LowerTunnel\",'subgroup'] = \"BombB\"\n",
        "\n",
        "      track4.loc[track4['area'] == \"LongA\",'subgroup'] = \"BombA\"\n",
        "      track4.loc[track4['area'] == \"LongDoors\",'subgroup'] = \"BombA\"\n",
        "      track4.loc[track4['area'] == \"OutsideLong\",'subgroup'] = \"BombA\"\n",
        "      track4.loc[track4['area'] == \"Pit\",'subgroup'] = \"BombA\"\n",
        "      track4.loc[track4['area'] == \"Ramp\",'subgroup'] = \"BombA\"\n",
        "      track4.loc[track4['area'] == \"Side\",'subgroup'] = \"BombA\"\n",
        "\n",
        "      track4.loc[track4['area'] == \"BombsiteA\",'subgroup'] = \"BombA\"\n",
        "      track4.loc[track4['area'] == \"ARamp\",'subgroup'] = \"BombA\"\n",
        "\n",
        "      stra = []\n",
        "\n",
        "      df2 = track4.groupby(['subgroup', 'name'])['subgroup'].count().unstack(fill_value=0)\n",
        "\n",
        "      for column in df2:\n",
        "        y = df2[{column}].idxmax()\n",
        "        y = y.values.tolist()\n",
        "        stra.append(y)\n",
        "      \n",
        "      j = 0\n",
        "      \n",
        "\n",
        "      BombA = 0\n",
        "      BombB = 0\n",
        "      Mid = 0\n",
        "      TerroristSpawn = 0\n",
        "\n",
        "      for element in stra:\n",
        "        if (element[j] == \"BombA\"):\n",
        "          BombA = BombA+1\n",
        "        elif (element[j] == \"BombB\"):\n",
        "          BombB = BombB+1\n",
        "        elif (element[j] == \"Mid\"):\n",
        "          Mid = Mid+1\n",
        "        elif (element[j] == \"Terroristspawn\"):\n",
        "          TerroristSpawn = TerroristSpawn + 1 \n",
        "      if BombA >= 3:\n",
        "          strategy = \"FullA\"\n",
        "          CTStrategies.append(strategy)\n",
        "          strategy=0\n",
        "          Gameround.append(i)\n",
        "      if BombB >=3:\n",
        "          strategy = \"FullB\"\n",
        "          CTStrategies.append(strategy)\n",
        "          strategy=0\n",
        "          Gameround.append(i)\n",
        "      if (BombA<3)&(BombB<3):\n",
        "          strategy = \"Split\"\n",
        "          CTStrategies.append(strategy)\n",
        "          strategy=0\n",
        "          Gameround.append(i)\n",
        "      #print(i)\n",
        "      ##print(stra)\n",
        "      #print(CTStrategies)\n",
        "\n",
        "      i=i+1\n",
        "      \n",
        "    Winner = df[\"rounds\"][\"winningSide\"].tolist()\n",
        "    #print(Winner)\n",
        "\n",
        "\n",
        "    df_strategy_temp = pd.DataFrame({'Round':Gameround, \"T-strategy\":Strategies, \"CT-strategy\":CTStrategies, \"Winner\":Winner})\n",
        "    df_strategy = df_strategy.append(df_strategy_temp)\n",
        "\n",
        "    #print(df_strategy)\n",
        "\n",
        "df_strategy.to_csv(\"df_strategy_2022.csv\")"
      ],
      "metadata": {
        "id": "cCw05XlbojdV",
        "colab": {
          "base_uri": "https://localhost:8080/"
        },
        "outputId": "a1a1a254-c48a-4ea7-ef64-0edf52f63349"
      },
      "execution_count": 4,
      "outputs": [
        {
          "metadata": {
            "tags": null
          },
          "name": "stdout",
          "output_type": "stream",
          "text": [
            "natus-vincere-vs-faze-m2-dust2.dem\n",
            "gambit-vs-faze-m1-dust2.dem\n",
            "g2-vs-faze-m3-dust2.dem\n"
          ]
        },
        {
          "metadata": {
            "tags": null
          },
          "name": "stderr",
          "output_type": "stream",
          "text": [
            "/usr/local/lib/python3.7/dist-packages/ipykernel_launcher.py:40: SettingWithCopyWarning: \n",
            "A value is trying to be set on a copy of a slice from a DataFrame.\n",
            "Try using .loc[row_indexer,col_indexer] = value instead\n",
            "\n",
            "See the caveats in the documentation: https://pandas.pydata.org/pandas-docs/stable/user_guide/indexing.html#returning-a-view-versus-a-copy\n",
            "/usr/local/lib/python3.7/dist-packages/pandas/core/indexing.py:1684: SettingWithCopyWarning: \n",
            "A value is trying to be set on a copy of a slice from a DataFrame.\n",
            "Try using .loc[row_indexer,col_indexer] = value instead\n",
            "\n",
            "See the caveats in the documentation: https://pandas.pydata.org/pandas-docs/stable/user_guide/indexing.html#returning-a-view-versus-a-copy\n",
            "  self.obj[key] = infer_fill_value(value)\n",
            "/usr/local/lib/python3.7/dist-packages/pandas/core/indexing.py:1817: SettingWithCopyWarning: \n",
            "A value is trying to be set on a copy of a slice from a DataFrame.\n",
            "Try using .loc[row_indexer,col_indexer] = value instead\n",
            "\n",
            "See the caveats in the documentation: https://pandas.pydata.org/pandas-docs/stable/user_guide/indexing.html#returning-a-view-versus-a-copy\n",
            "  self._setitem_single_column(loc, value, pi)\n"
          ]
        },
        {
          "metadata": {
            "tags": null
          },
          "name": "stdout",
          "output_type": "stream",
          "text": [
            "ence-vs-faze-m4-dust2.dem\n",
            "forze-vs-outsiders-m1-dust2.dem\n",
            "vitality-vs-liquid-m2-dust2.dem\n",
            "faze-vs-spirit-m2-dust2.dem\n",
            "ence-vs-natus-vincere-m2-dust2.dem\n"
          ]
        }
      ]
    },
    {
      "cell_type": "markdown",
      "source": [
        "#CT Seite"
      ],
      "metadata": {
        "id": "wEruoYsTTk0Q"
      }
    },
    {
      "cell_type": "markdown",
      "source": [
        "#Strategie DF"
      ],
      "metadata": {
        "id": "NZ3xFKGVUugG"
      }
    },
    {
      "cell_type": "markdown",
      "source": [
        "#Weiterversuch"
      ],
      "metadata": {
        "id": "7Njmu-5ZKmfQ"
      }
    },
    {
      "cell_type": "markdown",
      "source": [
        "pi_SS = 0\n",
        "pi_SA = 0\n",
        "pi_SB = 0\n",
        "pi_AS = 0\n",
        "pi_AA = 0\n",
        "pi_AB = 0\n",
        "pi_BS = 0\n",
        "pi_BA = 0\n",
        "pi_BB = 0\n",
        "\n",
        "kann man evtl mal gebrauchen wieder"
      ],
      "metadata": {
        "id": "lOI4QJ4SRrlL"
      }
    },
    {
      "cell_type": "code",
      "source": [
        "#Aufteilung des großen DF in 9 kleine --> möglichkeit, über shape[0] Zahlen zu bekommen\n",
        "\n",
        "pi_SS = df_strategy[(df_strategy['T-strategy'] == \"Split\") & (df_strategy['CT-strategy'] == \"Split\") & (df_strategy['Winner'] == \"T\")]\n",
        "pi_SA = df_strategy[(df_strategy['T-strategy'] == \"Split\") & (df_strategy['CT-strategy'] == \"FullA\") & (df_strategy['Winner'] == \"T\")]\n",
        "pi_SB = df_strategy[(df_strategy['T-strategy'] == \"Split\") & (df_strategy['CT-strategy'] == \"FullB\") & (df_strategy['Winner'] == \"T\")]\n",
        "pi_AS = df_strategy[(df_strategy['T-strategy'] == \"RushA\") & (df_strategy['CT-strategy'] == \"Split\") & (df_strategy['Winner'] == \"T\")]\n",
        "pi_AA = df_strategy[(df_strategy['T-strategy'] == \"RushA\") & (df_strategy['CT-strategy'] == \"FullA\") & (df_strategy['Winner'] == \"T\")]\n",
        "pi_AB = df_strategy[(df_strategy['T-strategy'] == \"RushA\") & (df_strategy['CT-strategy'] == \"FullB\") & (df_strategy['Winner'] == \"T\")]\n",
        "pi_BS = df_strategy[(df_strategy['T-strategy'] == \"RushB\") & (df_strategy['CT-strategy'] == \"Split\") & (df_strategy['Winner'] == \"T\")]\n",
        "pi_BA = df_strategy[(df_strategy['T-strategy'] == \"RushB\") & (df_strategy['CT-strategy'] == \"FullA\") & (df_strategy['Winner'] == \"T\")]\n",
        "pi_BB = df_strategy[(df_strategy['T-strategy'] == \"RushB\") & (df_strategy['CT-strategy'] == \"FullB\") & (df_strategy['Winner'] == \"T\")]"
      ],
      "metadata": {
        "id": "ht99pW1sOQLF"
      },
      "execution_count": 185,
      "outputs": []
    },
    {
      "cell_type": "code",
      "source": [
        "#gesamtzahl an siegen der T-Seite\n",
        "wins_T =(\n",
        "pi_SS.shape[0]+\n",
        "pi_SA.shape[0]+\n",
        "pi_SB.shape[0]+\n",
        "pi_AS.shape[0]+\n",
        "pi_AA.shape[0]+\n",
        "pi_AB.shape[0]+\n",
        "pi_BS.shape[0]+\n",
        "pi_BA.shape[0]+\n",
        "pi_BB.shape[0])\n",
        "print(wins_T)"
      ],
      "metadata": {
        "colab": {
          "base_uri": "https://localhost:8080/"
        },
        "id": "52SnbXzgQYUV",
        "outputId": "8b53a6e5-3993-47c0-f0c0-cfa7948412a0"
      },
      "execution_count": 186,
      "outputs": [
        {
          "output_type": "stream",
          "name": "stdout",
          "text": [
            "579\n"
          ]
        }
      ]
    },
    {
      "cell_type": "code",
      "source": [
        "\n",
        "CT_pi_SS = df_strategy[(df_strategy['T-strategy'] == \"Split\") & (df_strategy['CT-strategy'] == \"Split\") & (df_strategy['Winner'] == \"CT\")]\n",
        "CT_pi_SA = df_strategy[(df_strategy['T-strategy'] == \"Split\") & (df_strategy['CT-strategy'] == \"FullA\") & (df_strategy['Winner'] == \"CT\")]\n",
        "CT_pi_SB = df_strategy[(df_strategy['T-strategy'] == \"Split\") & (df_strategy['CT-strategy'] == \"FullB\") & (df_strategy['Winner'] == \"CT\")]\n",
        "CT_pi_AS = df_strategy[(df_strategy['T-strategy'] == \"RushA\") & (df_strategy['CT-strategy'] == \"Split\") & (df_strategy['Winner'] == \"CT\")]\n",
        "CT_pi_AA = df_strategy[(df_strategy['T-strategy'] == \"RushA\") & (df_strategy['CT-strategy'] == \"FullA\") & (df_strategy['Winner'] == \"CT\")]\n",
        "CT_pi_AB = df_strategy[(df_strategy['T-strategy'] == \"RushA\") & (df_strategy['CT-strategy'] == \"FullB\") & (df_strategy['Winner'] == \"CT\")]\n",
        "CT_pi_BS = df_strategy[(df_strategy['T-strategy'] == \"RushB\") & (df_strategy['CT-strategy'] == \"Split\") & (df_strategy['Winner'] == \"CT\")]\n",
        "CT_pi_BA = df_strategy[(df_strategy['T-strategy'] == \"RushB\") & (df_strategy['CT-strategy'] == \"FullA\") & (df_strategy['Winner'] == \"CT\")]\n",
        "CT_pi_BB = df_strategy[(df_strategy['T-strategy'] == \"RushB\") & (df_strategy['CT-strategy'] == \"FullB\") & (df_strategy['Winner'] == \"CT\")]"
      ],
      "metadata": {
        "id": "56LqGSKBVnzs"
      },
      "execution_count": 187,
      "outputs": []
    },
    {
      "cell_type": "code",
      "source": [
        "#Gesamtzahl der Ereignisse \n",
        "Full_pi_SS = CT_pi_SS.shape[0] + pi_SS.shape[0]\n",
        "Full_pi_SA = CT_pi_SA.shape[0] + pi_SA.shape[0]\n",
        "Full_pi_SB = CT_pi_SB.shape[0] + pi_SB.shape[0]\n",
        "Full_pi_AS = CT_pi_AS.shape[0] + pi_AS.shape[0]\n",
        "Full_pi_AA = CT_pi_AA.shape[0] + pi_AA.shape[0]\n",
        "Full_pi_AB = CT_pi_AB.shape[0] + pi_AB.shape[0]\n",
        "Full_pi_BS = CT_pi_BS.shape[0] + pi_BS.shape[0]\n",
        "Full_pi_BA = CT_pi_BA.shape[0] + pi_BA.shape[0]\n",
        "Full_pi_BB = CT_pi_BB.shape[0] + pi_BB.shape[0]\n",
        "\n",
        "#print(Full_pi_AS)"
      ],
      "metadata": {
        "id": "0EU6cBleiKmz"
      },
      "execution_count": 188,
      "outputs": []
    },
    {
      "cell_type": "code",
      "source": [
        "wins_CT =(\n",
        "CT_pi_SS.shape[0]+\n",
        "CT_pi_SA.shape[0]+\n",
        "CT_pi_SB.shape[0]+\n",
        "CT_pi_AS.shape[0]+\n",
        "CT_pi_AA.shape[0]+\n",
        "CT_pi_AB.shape[0]+\n",
        "CT_pi_BS.shape[0]+\n",
        "CT_pi_BA.shape[0]+\n",
        "CT_pi_BB.shape[0])\n",
        "#print(wins_CT)"
      ],
      "metadata": {
        "id": "2yNxwC9SVyNs"
      },
      "execution_count": 189,
      "outputs": []
    },
    {
      "cell_type": "code",
      "source": [
        "headerColor = 'grey'\n",
        "rowEvenColor = 'lightgrey'\n",
        "rowOddColor = 'white'\n",
        "\n",
        "fig = go.Figure(data=[go.Table(\n",
        "  header=dict(\n",
        "    values=['<b> </b>','<b>Split</b>','<b>FullA</b>','<b>FullB</b>','<b>Total</b>'],\n",
        "    line_color='darkslategray',\n",
        "    fill_color=headerColor,\n",
        "    align=['left','center'],\n",
        "    font=dict(color='white', size=12)\n",
        "  ),\n",
        "  cells=dict(\n",
        "    values=[\n",
        "      ['Split', 'RushA', 'RushB', '<b>TOTAL</b>'],\n",
        "      [pi_SS.shape[0], pi_AS.shape[0], pi_BS.shape[0], pi_SS.shape[0]+ pi_AS.shape[0]+ pi_BS.shape[0]],\n",
        "      [pi_SA.shape[0], pi_AA.shape[0], pi_BA.shape[0], pi_SA.shape[0]+ pi_AA.shape[0]+ pi_BA.shape[0]],\n",
        "      [pi_SB.shape[0], pi_AB.shape[0], pi_BB.shape[0], pi_SB.shape[0]+ pi_AB.shape[0]+ pi_BB.shape[0]],\n",
        "      [pi_SS.shape[0]+ pi_SA.shape[0]+ pi_SB.shape[0], pi_AS.shape[0]+ pi_AA.shape[0]+ pi_AB.shape[0],\n",
        "       pi_BS.shape[0]+ pi_BA.shape[0]+ pi_BB.shape[0], pi_SS.shape[0]+ pi_AS.shape[0]+ pi_BS.shape[0] +\n",
        "       pi_SA.shape[0]+ pi_AA.shape[0]+ pi_BA.shape[0]+\n",
        "       pi_SB.shape[0]+ pi_AB.shape[0]+ pi_BB.shape[0]]],\n",
        "    line_color='darkslategray',\n",
        "    # 2-D list of colors for alternating rows\n",
        "    fill_color = [[rowOddColor,rowEvenColor,rowOddColor, rowEvenColor,rowOddColor]*5],\n",
        "    align = ['left', 'center'],\n",
        "    font = dict(color = 'darkslategray', size = 11)\n",
        "    ))\n",
        "])\n",
        "\n",
        "#print(\"Siege der T Seite\")\n",
        "fig.show()"
      ],
      "metadata": {
        "id": "i5EfBmpwd_l9",
        "outputId": "80805ac5-8f20-4d57-838e-638b85e7c80d",
        "colab": {
          "base_uri": "https://localhost:8080/",
          "height": 0
        }
      },
      "execution_count": 190,
      "outputs": [
        {
          "output_type": "display_data",
          "data": {
            "text/html": [
              "<html>\n",
              "<head><meta charset=\"utf-8\" /></head>\n",
              "<body>\n",
              "    <div>            <script src=\"https://cdnjs.cloudflare.com/ajax/libs/mathjax/2.7.5/MathJax.js?config=TeX-AMS-MML_SVG\"></script><script type=\"text/javascript\">if (window.MathJax) {MathJax.Hub.Config({SVG: {font: \"STIX-Web\"}});}</script>                <script type=\"text/javascript\">window.PlotlyConfig = {MathJaxConfig: 'local'};</script>\n",
              "        <script src=\"https://cdn.plot.ly/plotly-2.8.3.min.js\"></script>                <div id=\"b525a6b4-0ce5-4d88-9f78-6a2bbf7a273f\" class=\"plotly-graph-div\" style=\"height:525px; width:100%;\"></div>            <script type=\"text/javascript\">                                    window.PLOTLYENV=window.PLOTLYENV || {};                                    if (document.getElementById(\"b525a6b4-0ce5-4d88-9f78-6a2bbf7a273f\")) {                    Plotly.newPlot(                        \"b525a6b4-0ce5-4d88-9f78-6a2bbf7a273f\",                        [{\"cells\":{\"align\":[\"left\",\"center\"],\"fill\":{\"color\":[[\"white\",\"lightgrey\",\"white\",\"lightgrey\",\"white\",\"white\",\"lightgrey\",\"white\",\"lightgrey\",\"white\",\"white\",\"lightgrey\",\"white\",\"lightgrey\",\"white\",\"white\",\"lightgrey\",\"white\",\"lightgrey\",\"white\",\"white\",\"lightgrey\",\"white\",\"lightgrey\",\"white\"]]},\"font\":{\"color\":\"darkslategray\",\"size\":11},\"line\":{\"color\":\"darkslategray\"},\"values\":[[\"Split\",\"RushA\",\"RushB\",\"<b>TOTAL</b>\"],[112,45,36,193],[177,110,25,312],[36,5,33,74],[325,160,94,579]]},\"header\":{\"align\":[\"left\",\"center\"],\"fill\":{\"color\":\"grey\"},\"font\":{\"color\":\"white\",\"size\":12},\"line\":{\"color\":\"darkslategray\"},\"values\":[\"<b> </b>\",\"<b>Split</b>\",\"<b>FullA</b>\",\"<b>FullB</b>\",\"<b>Total</b>\"]},\"type\":\"table\"}],                        {\"template\":{\"data\":{\"bar\":[{\"error_x\":{\"color\":\"#2a3f5f\"},\"error_y\":{\"color\":\"#2a3f5f\"},\"marker\":{\"line\":{\"color\":\"#E5ECF6\",\"width\":0.5},\"pattern\":{\"fillmode\":\"overlay\",\"size\":10,\"solidity\":0.2}},\"type\":\"bar\"}],\"barpolar\":[{\"marker\":{\"line\":{\"color\":\"#E5ECF6\",\"width\":0.5},\"pattern\":{\"fillmode\":\"overlay\",\"size\":10,\"solidity\":0.2}},\"type\":\"barpolar\"}],\"carpet\":[{\"aaxis\":{\"endlinecolor\":\"#2a3f5f\",\"gridcolor\":\"white\",\"linecolor\":\"white\",\"minorgridcolor\":\"white\",\"startlinecolor\":\"#2a3f5f\"},\"baxis\":{\"endlinecolor\":\"#2a3f5f\",\"gridcolor\":\"white\",\"linecolor\":\"white\",\"minorgridcolor\":\"white\",\"startlinecolor\":\"#2a3f5f\"},\"type\":\"carpet\"}],\"choropleth\":[{\"colorbar\":{\"outlinewidth\":0,\"ticks\":\"\"},\"type\":\"choropleth\"}],\"contour\":[{\"colorbar\":{\"outlinewidth\":0,\"ticks\":\"\"},\"colorscale\":[[0.0,\"#0d0887\"],[0.1111111111111111,\"#46039f\"],[0.2222222222222222,\"#7201a8\"],[0.3333333333333333,\"#9c179e\"],[0.4444444444444444,\"#bd3786\"],[0.5555555555555556,\"#d8576b\"],[0.6666666666666666,\"#ed7953\"],[0.7777777777777778,\"#fb9f3a\"],[0.8888888888888888,\"#fdca26\"],[1.0,\"#f0f921\"]],\"type\":\"contour\"}],\"contourcarpet\":[{\"colorbar\":{\"outlinewidth\":0,\"ticks\":\"\"},\"type\":\"contourcarpet\"}],\"heatmap\":[{\"colorbar\":{\"outlinewidth\":0,\"ticks\":\"\"},\"colorscale\":[[0.0,\"#0d0887\"],[0.1111111111111111,\"#46039f\"],[0.2222222222222222,\"#7201a8\"],[0.3333333333333333,\"#9c179e\"],[0.4444444444444444,\"#bd3786\"],[0.5555555555555556,\"#d8576b\"],[0.6666666666666666,\"#ed7953\"],[0.7777777777777778,\"#fb9f3a\"],[0.8888888888888888,\"#fdca26\"],[1.0,\"#f0f921\"]],\"type\":\"heatmap\"}],\"heatmapgl\":[{\"colorbar\":{\"outlinewidth\":0,\"ticks\":\"\"},\"colorscale\":[[0.0,\"#0d0887\"],[0.1111111111111111,\"#46039f\"],[0.2222222222222222,\"#7201a8\"],[0.3333333333333333,\"#9c179e\"],[0.4444444444444444,\"#bd3786\"],[0.5555555555555556,\"#d8576b\"],[0.6666666666666666,\"#ed7953\"],[0.7777777777777778,\"#fb9f3a\"],[0.8888888888888888,\"#fdca26\"],[1.0,\"#f0f921\"]],\"type\":\"heatmapgl\"}],\"histogram\":[{\"marker\":{\"pattern\":{\"fillmode\":\"overlay\",\"size\":10,\"solidity\":0.2}},\"type\":\"histogram\"}],\"histogram2d\":[{\"colorbar\":{\"outlinewidth\":0,\"ticks\":\"\"},\"colorscale\":[[0.0,\"#0d0887\"],[0.1111111111111111,\"#46039f\"],[0.2222222222222222,\"#7201a8\"],[0.3333333333333333,\"#9c179e\"],[0.4444444444444444,\"#bd3786\"],[0.5555555555555556,\"#d8576b\"],[0.6666666666666666,\"#ed7953\"],[0.7777777777777778,\"#fb9f3a\"],[0.8888888888888888,\"#fdca26\"],[1.0,\"#f0f921\"]],\"type\":\"histogram2d\"}],\"histogram2dcontour\":[{\"colorbar\":{\"outlinewidth\":0,\"ticks\":\"\"},\"colorscale\":[[0.0,\"#0d0887\"],[0.1111111111111111,\"#46039f\"],[0.2222222222222222,\"#7201a8\"],[0.3333333333333333,\"#9c179e\"],[0.4444444444444444,\"#bd3786\"],[0.5555555555555556,\"#d8576b\"],[0.6666666666666666,\"#ed7953\"],[0.7777777777777778,\"#fb9f3a\"],[0.8888888888888888,\"#fdca26\"],[1.0,\"#f0f921\"]],\"type\":\"histogram2dcontour\"}],\"mesh3d\":[{\"colorbar\":{\"outlinewidth\":0,\"ticks\":\"\"},\"type\":\"mesh3d\"}],\"parcoords\":[{\"line\":{\"colorbar\":{\"outlinewidth\":0,\"ticks\":\"\"}},\"type\":\"parcoords\"}],\"pie\":[{\"automargin\":true,\"type\":\"pie\"}],\"scatter\":[{\"marker\":{\"colorbar\":{\"outlinewidth\":0,\"ticks\":\"\"}},\"type\":\"scatter\"}],\"scatter3d\":[{\"line\":{\"colorbar\":{\"outlinewidth\":0,\"ticks\":\"\"}},\"marker\":{\"colorbar\":{\"outlinewidth\":0,\"ticks\":\"\"}},\"type\":\"scatter3d\"}],\"scattercarpet\":[{\"marker\":{\"colorbar\":{\"outlinewidth\":0,\"ticks\":\"\"}},\"type\":\"scattercarpet\"}],\"scattergeo\":[{\"marker\":{\"colorbar\":{\"outlinewidth\":0,\"ticks\":\"\"}},\"type\":\"scattergeo\"}],\"scattergl\":[{\"marker\":{\"colorbar\":{\"outlinewidth\":0,\"ticks\":\"\"}},\"type\":\"scattergl\"}],\"scattermapbox\":[{\"marker\":{\"colorbar\":{\"outlinewidth\":0,\"ticks\":\"\"}},\"type\":\"scattermapbox\"}],\"scatterpolar\":[{\"marker\":{\"colorbar\":{\"outlinewidth\":0,\"ticks\":\"\"}},\"type\":\"scatterpolar\"}],\"scatterpolargl\":[{\"marker\":{\"colorbar\":{\"outlinewidth\":0,\"ticks\":\"\"}},\"type\":\"scatterpolargl\"}],\"scatterternary\":[{\"marker\":{\"colorbar\":{\"outlinewidth\":0,\"ticks\":\"\"}},\"type\":\"scatterternary\"}],\"surface\":[{\"colorbar\":{\"outlinewidth\":0,\"ticks\":\"\"},\"colorscale\":[[0.0,\"#0d0887\"],[0.1111111111111111,\"#46039f\"],[0.2222222222222222,\"#7201a8\"],[0.3333333333333333,\"#9c179e\"],[0.4444444444444444,\"#bd3786\"],[0.5555555555555556,\"#d8576b\"],[0.6666666666666666,\"#ed7953\"],[0.7777777777777778,\"#fb9f3a\"],[0.8888888888888888,\"#fdca26\"],[1.0,\"#f0f921\"]],\"type\":\"surface\"}],\"table\":[{\"cells\":{\"fill\":{\"color\":\"#EBF0F8\"},\"line\":{\"color\":\"white\"}},\"header\":{\"fill\":{\"color\":\"#C8D4E3\"},\"line\":{\"color\":\"white\"}},\"type\":\"table\"}]},\"layout\":{\"annotationdefaults\":{\"arrowcolor\":\"#2a3f5f\",\"arrowhead\":0,\"arrowwidth\":1},\"autotypenumbers\":\"strict\",\"coloraxis\":{\"colorbar\":{\"outlinewidth\":0,\"ticks\":\"\"}},\"colorscale\":{\"diverging\":[[0,\"#8e0152\"],[0.1,\"#c51b7d\"],[0.2,\"#de77ae\"],[0.3,\"#f1b6da\"],[0.4,\"#fde0ef\"],[0.5,\"#f7f7f7\"],[0.6,\"#e6f5d0\"],[0.7,\"#b8e186\"],[0.8,\"#7fbc41\"],[0.9,\"#4d9221\"],[1,\"#276419\"]],\"sequential\":[[0.0,\"#0d0887\"],[0.1111111111111111,\"#46039f\"],[0.2222222222222222,\"#7201a8\"],[0.3333333333333333,\"#9c179e\"],[0.4444444444444444,\"#bd3786\"],[0.5555555555555556,\"#d8576b\"],[0.6666666666666666,\"#ed7953\"],[0.7777777777777778,\"#fb9f3a\"],[0.8888888888888888,\"#fdca26\"],[1.0,\"#f0f921\"]],\"sequentialminus\":[[0.0,\"#0d0887\"],[0.1111111111111111,\"#46039f\"],[0.2222222222222222,\"#7201a8\"],[0.3333333333333333,\"#9c179e\"],[0.4444444444444444,\"#bd3786\"],[0.5555555555555556,\"#d8576b\"],[0.6666666666666666,\"#ed7953\"],[0.7777777777777778,\"#fb9f3a\"],[0.8888888888888888,\"#fdca26\"],[1.0,\"#f0f921\"]]},\"colorway\":[\"#636efa\",\"#EF553B\",\"#00cc96\",\"#ab63fa\",\"#FFA15A\",\"#19d3f3\",\"#FF6692\",\"#B6E880\",\"#FF97FF\",\"#FECB52\"],\"font\":{\"color\":\"#2a3f5f\"},\"geo\":{\"bgcolor\":\"white\",\"lakecolor\":\"white\",\"landcolor\":\"#E5ECF6\",\"showlakes\":true,\"showland\":true,\"subunitcolor\":\"white\"},\"hoverlabel\":{\"align\":\"left\"},\"hovermode\":\"closest\",\"mapbox\":{\"style\":\"light\"},\"paper_bgcolor\":\"white\",\"plot_bgcolor\":\"#E5ECF6\",\"polar\":{\"angularaxis\":{\"gridcolor\":\"white\",\"linecolor\":\"white\",\"ticks\":\"\"},\"bgcolor\":\"#E5ECF6\",\"radialaxis\":{\"gridcolor\":\"white\",\"linecolor\":\"white\",\"ticks\":\"\"}},\"scene\":{\"xaxis\":{\"backgroundcolor\":\"#E5ECF6\",\"gridcolor\":\"white\",\"gridwidth\":2,\"linecolor\":\"white\",\"showbackground\":true,\"ticks\":\"\",\"zerolinecolor\":\"white\"},\"yaxis\":{\"backgroundcolor\":\"#E5ECF6\",\"gridcolor\":\"white\",\"gridwidth\":2,\"linecolor\":\"white\",\"showbackground\":true,\"ticks\":\"\",\"zerolinecolor\":\"white\"},\"zaxis\":{\"backgroundcolor\":\"#E5ECF6\",\"gridcolor\":\"white\",\"gridwidth\":2,\"linecolor\":\"white\",\"showbackground\":true,\"ticks\":\"\",\"zerolinecolor\":\"white\"}},\"shapedefaults\":{\"line\":{\"color\":\"#2a3f5f\"}},\"ternary\":{\"aaxis\":{\"gridcolor\":\"white\",\"linecolor\":\"white\",\"ticks\":\"\"},\"baxis\":{\"gridcolor\":\"white\",\"linecolor\":\"white\",\"ticks\":\"\"},\"bgcolor\":\"#E5ECF6\",\"caxis\":{\"gridcolor\":\"white\",\"linecolor\":\"white\",\"ticks\":\"\"}},\"title\":{\"x\":0.05},\"xaxis\":{\"automargin\":true,\"gridcolor\":\"white\",\"linecolor\":\"white\",\"ticks\":\"\",\"title\":{\"standoff\":15},\"zerolinecolor\":\"white\",\"zerolinewidth\":2},\"yaxis\":{\"automargin\":true,\"gridcolor\":\"white\",\"linecolor\":\"white\",\"ticks\":\"\",\"title\":{\"standoff\":15},\"zerolinecolor\":\"white\",\"zerolinewidth\":2}}}},                        {\"responsive\": true}                    ).then(function(){\n",
              "                            \n",
              "var gd = document.getElementById('b525a6b4-0ce5-4d88-9f78-6a2bbf7a273f');\n",
              "var x = new MutationObserver(function (mutations, observer) {{\n",
              "        var display = window.getComputedStyle(gd).display;\n",
              "        if (!display || display === 'none') {{\n",
              "            console.log([gd, 'removed!']);\n",
              "            Plotly.purge(gd);\n",
              "            observer.disconnect();\n",
              "        }}\n",
              "}});\n",
              "\n",
              "// Listen for the removal of the full notebook cells\n",
              "var notebookContainer = gd.closest('#notebook-container');\n",
              "if (notebookContainer) {{\n",
              "    x.observe(notebookContainer, {childList: true});\n",
              "}}\n",
              "\n",
              "// Listen for the clearing of the current output cell\n",
              "var outputEl = gd.closest('.output');\n",
              "if (outputEl) {{\n",
              "    x.observe(outputEl, {childList: true});\n",
              "}}\n",
              "\n",
              "                        })                };                            </script>        </div>\n",
              "</body>\n",
              "</html>"
            ]
          },
          "metadata": {}
        }
      ]
    },
    {
      "cell_type": "code",
      "source": [
        "headerColor = 'grey'\n",
        "rowEvenColor = 'lightgrey'\n",
        "rowOddColor = 'white'\n",
        "\n",
        "fig = go.Figure(data=[go.Table(\n",
        "  header=dict(\n",
        "    values=['<b> </b>','<b>Split</b>','<b>FullA</b>','<b>FullB</b>','<b>Total</b>'],\n",
        "    line_color='darkslategray',\n",
        "    fill_color=headerColor,\n",
        "    align=['left','center'],\n",
        "    font=dict(color='white', size=12)\n",
        "  ),\n",
        "  cells=dict(\n",
        "    values=[\n",
        "      ['Split', 'RushA', 'RushB', '<b>TOTAL</b>'],\n",
        "      [Full_pi_SS , Full_pi_AS , Full_pi_BS , Full_pi_SS + Full_pi_AS + Full_pi_BS ],\n",
        "      [Full_pi_SA , Full_pi_AA , Full_pi_BA , Full_pi_SA + Full_pi_AA + Full_pi_BA ],\n",
        "      [Full_pi_SB , Full_pi_AB , Full_pi_BB , Full_pi_SB + Full_pi_AB + Full_pi_BB ],\n",
        "      [Full_pi_SS + Full_pi_SA + Full_pi_SB , Full_pi_AS + Full_pi_AA + Full_pi_AB ,\n",
        "       Full_pi_BS + Full_pi_BA + Full_pi_BB , Full_pi_SS + Full_pi_AS + Full_pi_BS  +\n",
        "       Full_pi_SA + Full_pi_AA + Full_pi_BA +\n",
        "       Full_pi_SB + Full_pi_AB + Full_pi_BB ]],\n",
        "    line_color='darkslategray',\n",
        "    # 2-D list of colors for alternating rows\n",
        "    fill_color = [[rowOddColor,rowEvenColor,rowOddColor, rowEvenColor,rowOddColor]*5],\n",
        "    align = ['left', 'center'],\n",
        "    font = dict(color = 'darkslategray', size = 11)\n",
        "    ))\n",
        "])\n",
        "\n",
        "#print(\"Gesamtzahl\")\n",
        "fig.show()"
      ],
      "metadata": {
        "colab": {
          "base_uri": "https://localhost:8080/",
          "height": 0
        },
        "id": "TQx0aiNnjEKv",
        "outputId": "ebf8fbef-53bd-4155-e545-d8cd37c0c4d9"
      },
      "execution_count": 191,
      "outputs": [
        {
          "output_type": "display_data",
          "data": {
            "text/html": [
              "<html>\n",
              "<head><meta charset=\"utf-8\" /></head>\n",
              "<body>\n",
              "    <div>            <script src=\"https://cdnjs.cloudflare.com/ajax/libs/mathjax/2.7.5/MathJax.js?config=TeX-AMS-MML_SVG\"></script><script type=\"text/javascript\">if (window.MathJax) {MathJax.Hub.Config({SVG: {font: \"STIX-Web\"}});}</script>                <script type=\"text/javascript\">window.PlotlyConfig = {MathJaxConfig: 'local'};</script>\n",
              "        <script src=\"https://cdn.plot.ly/plotly-2.8.3.min.js\"></script>                <div id=\"ab0a83e0-eef1-469d-ac0c-b6111a6286ba\" class=\"plotly-graph-div\" style=\"height:525px; width:100%;\"></div>            <script type=\"text/javascript\">                                    window.PLOTLYENV=window.PLOTLYENV || {};                                    if (document.getElementById(\"ab0a83e0-eef1-469d-ac0c-b6111a6286ba\")) {                    Plotly.newPlot(                        \"ab0a83e0-eef1-469d-ac0c-b6111a6286ba\",                        [{\"cells\":{\"align\":[\"left\",\"center\"],\"fill\":{\"color\":[[\"white\",\"lightgrey\",\"white\",\"lightgrey\",\"white\",\"white\",\"lightgrey\",\"white\",\"lightgrey\",\"white\",\"white\",\"lightgrey\",\"white\",\"lightgrey\",\"white\",\"white\",\"lightgrey\",\"white\",\"lightgrey\",\"white\",\"white\",\"lightgrey\",\"white\",\"lightgrey\",\"white\"]]},\"font\":{\"color\":\"darkslategray\",\"size\":11},\"line\":{\"color\":\"darkslategray\"},\"values\":[[\"Split\",\"RushA\",\"RushB\",\"<b>TOTAL</b>\"],[264,72,63,399],[397,227,46,670],[66,8,65,139],[727,307,174,1208]]},\"header\":{\"align\":[\"left\",\"center\"],\"fill\":{\"color\":\"grey\"},\"font\":{\"color\":\"white\",\"size\":12},\"line\":{\"color\":\"darkslategray\"},\"values\":[\"<b> </b>\",\"<b>Split</b>\",\"<b>FullA</b>\",\"<b>FullB</b>\",\"<b>Total</b>\"]},\"type\":\"table\"}],                        {\"template\":{\"data\":{\"bar\":[{\"error_x\":{\"color\":\"#2a3f5f\"},\"error_y\":{\"color\":\"#2a3f5f\"},\"marker\":{\"line\":{\"color\":\"#E5ECF6\",\"width\":0.5},\"pattern\":{\"fillmode\":\"overlay\",\"size\":10,\"solidity\":0.2}},\"type\":\"bar\"}],\"barpolar\":[{\"marker\":{\"line\":{\"color\":\"#E5ECF6\",\"width\":0.5},\"pattern\":{\"fillmode\":\"overlay\",\"size\":10,\"solidity\":0.2}},\"type\":\"barpolar\"}],\"carpet\":[{\"aaxis\":{\"endlinecolor\":\"#2a3f5f\",\"gridcolor\":\"white\",\"linecolor\":\"white\",\"minorgridcolor\":\"white\",\"startlinecolor\":\"#2a3f5f\"},\"baxis\":{\"endlinecolor\":\"#2a3f5f\",\"gridcolor\":\"white\",\"linecolor\":\"white\",\"minorgridcolor\":\"white\",\"startlinecolor\":\"#2a3f5f\"},\"type\":\"carpet\"}],\"choropleth\":[{\"colorbar\":{\"outlinewidth\":0,\"ticks\":\"\"},\"type\":\"choropleth\"}],\"contour\":[{\"colorbar\":{\"outlinewidth\":0,\"ticks\":\"\"},\"colorscale\":[[0.0,\"#0d0887\"],[0.1111111111111111,\"#46039f\"],[0.2222222222222222,\"#7201a8\"],[0.3333333333333333,\"#9c179e\"],[0.4444444444444444,\"#bd3786\"],[0.5555555555555556,\"#d8576b\"],[0.6666666666666666,\"#ed7953\"],[0.7777777777777778,\"#fb9f3a\"],[0.8888888888888888,\"#fdca26\"],[1.0,\"#f0f921\"]],\"type\":\"contour\"}],\"contourcarpet\":[{\"colorbar\":{\"outlinewidth\":0,\"ticks\":\"\"},\"type\":\"contourcarpet\"}],\"heatmap\":[{\"colorbar\":{\"outlinewidth\":0,\"ticks\":\"\"},\"colorscale\":[[0.0,\"#0d0887\"],[0.1111111111111111,\"#46039f\"],[0.2222222222222222,\"#7201a8\"],[0.3333333333333333,\"#9c179e\"],[0.4444444444444444,\"#bd3786\"],[0.5555555555555556,\"#d8576b\"],[0.6666666666666666,\"#ed7953\"],[0.7777777777777778,\"#fb9f3a\"],[0.8888888888888888,\"#fdca26\"],[1.0,\"#f0f921\"]],\"type\":\"heatmap\"}],\"heatmapgl\":[{\"colorbar\":{\"outlinewidth\":0,\"ticks\":\"\"},\"colorscale\":[[0.0,\"#0d0887\"],[0.1111111111111111,\"#46039f\"],[0.2222222222222222,\"#7201a8\"],[0.3333333333333333,\"#9c179e\"],[0.4444444444444444,\"#bd3786\"],[0.5555555555555556,\"#d8576b\"],[0.6666666666666666,\"#ed7953\"],[0.7777777777777778,\"#fb9f3a\"],[0.8888888888888888,\"#fdca26\"],[1.0,\"#f0f921\"]],\"type\":\"heatmapgl\"}],\"histogram\":[{\"marker\":{\"pattern\":{\"fillmode\":\"overlay\",\"size\":10,\"solidity\":0.2}},\"type\":\"histogram\"}],\"histogram2d\":[{\"colorbar\":{\"outlinewidth\":0,\"ticks\":\"\"},\"colorscale\":[[0.0,\"#0d0887\"],[0.1111111111111111,\"#46039f\"],[0.2222222222222222,\"#7201a8\"],[0.3333333333333333,\"#9c179e\"],[0.4444444444444444,\"#bd3786\"],[0.5555555555555556,\"#d8576b\"],[0.6666666666666666,\"#ed7953\"],[0.7777777777777778,\"#fb9f3a\"],[0.8888888888888888,\"#fdca26\"],[1.0,\"#f0f921\"]],\"type\":\"histogram2d\"}],\"histogram2dcontour\":[{\"colorbar\":{\"outlinewidth\":0,\"ticks\":\"\"},\"colorscale\":[[0.0,\"#0d0887\"],[0.1111111111111111,\"#46039f\"],[0.2222222222222222,\"#7201a8\"],[0.3333333333333333,\"#9c179e\"],[0.4444444444444444,\"#bd3786\"],[0.5555555555555556,\"#d8576b\"],[0.6666666666666666,\"#ed7953\"],[0.7777777777777778,\"#fb9f3a\"],[0.8888888888888888,\"#fdca26\"],[1.0,\"#f0f921\"]],\"type\":\"histogram2dcontour\"}],\"mesh3d\":[{\"colorbar\":{\"outlinewidth\":0,\"ticks\":\"\"},\"type\":\"mesh3d\"}],\"parcoords\":[{\"line\":{\"colorbar\":{\"outlinewidth\":0,\"ticks\":\"\"}},\"type\":\"parcoords\"}],\"pie\":[{\"automargin\":true,\"type\":\"pie\"}],\"scatter\":[{\"marker\":{\"colorbar\":{\"outlinewidth\":0,\"ticks\":\"\"}},\"type\":\"scatter\"}],\"scatter3d\":[{\"line\":{\"colorbar\":{\"outlinewidth\":0,\"ticks\":\"\"}},\"marker\":{\"colorbar\":{\"outlinewidth\":0,\"ticks\":\"\"}},\"type\":\"scatter3d\"}],\"scattercarpet\":[{\"marker\":{\"colorbar\":{\"outlinewidth\":0,\"ticks\":\"\"}},\"type\":\"scattercarpet\"}],\"scattergeo\":[{\"marker\":{\"colorbar\":{\"outlinewidth\":0,\"ticks\":\"\"}},\"type\":\"scattergeo\"}],\"scattergl\":[{\"marker\":{\"colorbar\":{\"outlinewidth\":0,\"ticks\":\"\"}},\"type\":\"scattergl\"}],\"scattermapbox\":[{\"marker\":{\"colorbar\":{\"outlinewidth\":0,\"ticks\":\"\"}},\"type\":\"scattermapbox\"}],\"scatterpolar\":[{\"marker\":{\"colorbar\":{\"outlinewidth\":0,\"ticks\":\"\"}},\"type\":\"scatterpolar\"}],\"scatterpolargl\":[{\"marker\":{\"colorbar\":{\"outlinewidth\":0,\"ticks\":\"\"}},\"type\":\"scatterpolargl\"}],\"scatterternary\":[{\"marker\":{\"colorbar\":{\"outlinewidth\":0,\"ticks\":\"\"}},\"type\":\"scatterternary\"}],\"surface\":[{\"colorbar\":{\"outlinewidth\":0,\"ticks\":\"\"},\"colorscale\":[[0.0,\"#0d0887\"],[0.1111111111111111,\"#46039f\"],[0.2222222222222222,\"#7201a8\"],[0.3333333333333333,\"#9c179e\"],[0.4444444444444444,\"#bd3786\"],[0.5555555555555556,\"#d8576b\"],[0.6666666666666666,\"#ed7953\"],[0.7777777777777778,\"#fb9f3a\"],[0.8888888888888888,\"#fdca26\"],[1.0,\"#f0f921\"]],\"type\":\"surface\"}],\"table\":[{\"cells\":{\"fill\":{\"color\":\"#EBF0F8\"},\"line\":{\"color\":\"white\"}},\"header\":{\"fill\":{\"color\":\"#C8D4E3\"},\"line\":{\"color\":\"white\"}},\"type\":\"table\"}]},\"layout\":{\"annotationdefaults\":{\"arrowcolor\":\"#2a3f5f\",\"arrowhead\":0,\"arrowwidth\":1},\"autotypenumbers\":\"strict\",\"coloraxis\":{\"colorbar\":{\"outlinewidth\":0,\"ticks\":\"\"}},\"colorscale\":{\"diverging\":[[0,\"#8e0152\"],[0.1,\"#c51b7d\"],[0.2,\"#de77ae\"],[0.3,\"#f1b6da\"],[0.4,\"#fde0ef\"],[0.5,\"#f7f7f7\"],[0.6,\"#e6f5d0\"],[0.7,\"#b8e186\"],[0.8,\"#7fbc41\"],[0.9,\"#4d9221\"],[1,\"#276419\"]],\"sequential\":[[0.0,\"#0d0887\"],[0.1111111111111111,\"#46039f\"],[0.2222222222222222,\"#7201a8\"],[0.3333333333333333,\"#9c179e\"],[0.4444444444444444,\"#bd3786\"],[0.5555555555555556,\"#d8576b\"],[0.6666666666666666,\"#ed7953\"],[0.7777777777777778,\"#fb9f3a\"],[0.8888888888888888,\"#fdca26\"],[1.0,\"#f0f921\"]],\"sequentialminus\":[[0.0,\"#0d0887\"],[0.1111111111111111,\"#46039f\"],[0.2222222222222222,\"#7201a8\"],[0.3333333333333333,\"#9c179e\"],[0.4444444444444444,\"#bd3786\"],[0.5555555555555556,\"#d8576b\"],[0.6666666666666666,\"#ed7953\"],[0.7777777777777778,\"#fb9f3a\"],[0.8888888888888888,\"#fdca26\"],[1.0,\"#f0f921\"]]},\"colorway\":[\"#636efa\",\"#EF553B\",\"#00cc96\",\"#ab63fa\",\"#FFA15A\",\"#19d3f3\",\"#FF6692\",\"#B6E880\",\"#FF97FF\",\"#FECB52\"],\"font\":{\"color\":\"#2a3f5f\"},\"geo\":{\"bgcolor\":\"white\",\"lakecolor\":\"white\",\"landcolor\":\"#E5ECF6\",\"showlakes\":true,\"showland\":true,\"subunitcolor\":\"white\"},\"hoverlabel\":{\"align\":\"left\"},\"hovermode\":\"closest\",\"mapbox\":{\"style\":\"light\"},\"paper_bgcolor\":\"white\",\"plot_bgcolor\":\"#E5ECF6\",\"polar\":{\"angularaxis\":{\"gridcolor\":\"white\",\"linecolor\":\"white\",\"ticks\":\"\"},\"bgcolor\":\"#E5ECF6\",\"radialaxis\":{\"gridcolor\":\"white\",\"linecolor\":\"white\",\"ticks\":\"\"}},\"scene\":{\"xaxis\":{\"backgroundcolor\":\"#E5ECF6\",\"gridcolor\":\"white\",\"gridwidth\":2,\"linecolor\":\"white\",\"showbackground\":true,\"ticks\":\"\",\"zerolinecolor\":\"white\"},\"yaxis\":{\"backgroundcolor\":\"#E5ECF6\",\"gridcolor\":\"white\",\"gridwidth\":2,\"linecolor\":\"white\",\"showbackground\":true,\"ticks\":\"\",\"zerolinecolor\":\"white\"},\"zaxis\":{\"backgroundcolor\":\"#E5ECF6\",\"gridcolor\":\"white\",\"gridwidth\":2,\"linecolor\":\"white\",\"showbackground\":true,\"ticks\":\"\",\"zerolinecolor\":\"white\"}},\"shapedefaults\":{\"line\":{\"color\":\"#2a3f5f\"}},\"ternary\":{\"aaxis\":{\"gridcolor\":\"white\",\"linecolor\":\"white\",\"ticks\":\"\"},\"baxis\":{\"gridcolor\":\"white\",\"linecolor\":\"white\",\"ticks\":\"\"},\"bgcolor\":\"#E5ECF6\",\"caxis\":{\"gridcolor\":\"white\",\"linecolor\":\"white\",\"ticks\":\"\"}},\"title\":{\"x\":0.05},\"xaxis\":{\"automargin\":true,\"gridcolor\":\"white\",\"linecolor\":\"white\",\"ticks\":\"\",\"title\":{\"standoff\":15},\"zerolinecolor\":\"white\",\"zerolinewidth\":2},\"yaxis\":{\"automargin\":true,\"gridcolor\":\"white\",\"linecolor\":\"white\",\"ticks\":\"\",\"title\":{\"standoff\":15},\"zerolinecolor\":\"white\",\"zerolinewidth\":2}}}},                        {\"responsive\": true}                    ).then(function(){\n",
              "                            \n",
              "var gd = document.getElementById('ab0a83e0-eef1-469d-ac0c-b6111a6286ba');\n",
              "var x = new MutationObserver(function (mutations, observer) {{\n",
              "        var display = window.getComputedStyle(gd).display;\n",
              "        if (!display || display === 'none') {{\n",
              "            console.log([gd, 'removed!']);\n",
              "            Plotly.purge(gd);\n",
              "            observer.disconnect();\n",
              "        }}\n",
              "}});\n",
              "\n",
              "// Listen for the removal of the full notebook cells\n",
              "var notebookContainer = gd.closest('#notebook-container');\n",
              "if (notebookContainer) {{\n",
              "    x.observe(notebookContainer, {childList: true});\n",
              "}}\n",
              "\n",
              "// Listen for the clearing of the current output cell\n",
              "var outputEl = gd.closest('.output');\n",
              "if (outputEl) {{\n",
              "    x.observe(outputEl, {childList: true});\n",
              "}}\n",
              "\n",
              "                        })                };                            </script>        </div>\n",
              "</body>\n",
              "</html>"
            ]
          },
          "metadata": {}
        }
      ]
    },
    {
      "cell_type": "code",
      "source": [
        "headerColor = 'grey'\n",
        "rowEvenColor = 'lightgrey'\n",
        "rowOddColor = 'white'\n",
        "\n",
        "fig = go.Figure(data=[go.Table(\n",
        "  header=dict(\n",
        "    values=['<b> </b>','<b>Split</b>','<b>FullA</b>','<b>FullB</b>','<b>Total</b>'],\n",
        "    line_color='darkslategray',\n",
        "    fill_color=headerColor,\n",
        "    align=['left','center'],\n",
        "    font=dict(color='white', size=12)\n",
        "  ),\n",
        "  cells=dict(\n",
        "    values=[\n",
        "      ['Split', 'RushA', 'RushB', '<b>TOTAL</b>'],\n",
        "      [pi_SS.shape[0]/Full_pi_SS, pi_AS.shape[0]/Full_pi_AS, pi_BS.shape[0]/Full_pi_BS, pi_SS.shape[0]+ pi_AS.shape[0]+ pi_BS.shape[0]],\n",
        "      [pi_SA.shape[0]/Full_pi_SA, pi_AA.shape[0]/Full_pi_AA, pi_BA.shape[0]/Full_pi_BA, pi_SA.shape[0]+ pi_AA.shape[0]+ pi_BA.shape[0]],\n",
        "      [pi_SB.shape[0]/Full_pi_SB, pi_AB.shape[0]/Full_pi_AB, pi_BB.shape[0]/Full_pi_BB, pi_SB.shape[0]+ pi_AB.shape[0]+ pi_BB.shape[0]],\n",
        "      [pi_SS.shape[0]+ pi_SA.shape[0]+ pi_SB.shape[0], pi_AS.shape[0]+ pi_AA.shape[0]+ pi_AB.shape[0],\n",
        "       pi_BS.shape[0]+ pi_BA.shape[0]+ pi_BB.shape[0], pi_SS.shape[0]+ pi_AS.shape[0]+ pi_BS.shape[0] +\n",
        "       pi_SA.shape[0]+ pi_AA.shape[0]+ pi_BA.shape[0]+\n",
        "       pi_SB.shape[0]+ pi_AB.shape[0]+ pi_BB.shape[0]]],\n",
        "    line_color='darkslategray',\n",
        "    # 2-D list of colors for alternating rows\n",
        "    fill_color = [[rowOddColor,rowEvenColor,rowOddColor, rowEvenColor,rowOddColor]*5],\n",
        "    align = ['left', 'center'],\n",
        "    font = dict(color = 'darkslategray', size = 11)\n",
        "    ))\n",
        "])\n",
        "\n",
        "#print(\"SiegWKEIT der T Seite\")\n",
        "fig.show()"
      ],
      "metadata": {
        "colab": {
          "base_uri": "https://localhost:8080/",
          "height": 0
        },
        "id": "ZjJqacNdyyWC",
        "outputId": "4a8a962e-a1aa-4800-a358-180c174eaff3"
      },
      "execution_count": 192,
      "outputs": [
        {
          "output_type": "display_data",
          "data": {
            "text/html": [
              "<html>\n",
              "<head><meta charset=\"utf-8\" /></head>\n",
              "<body>\n",
              "    <div>            <script src=\"https://cdnjs.cloudflare.com/ajax/libs/mathjax/2.7.5/MathJax.js?config=TeX-AMS-MML_SVG\"></script><script type=\"text/javascript\">if (window.MathJax) {MathJax.Hub.Config({SVG: {font: \"STIX-Web\"}});}</script>                <script type=\"text/javascript\">window.PlotlyConfig = {MathJaxConfig: 'local'};</script>\n",
              "        <script src=\"https://cdn.plot.ly/plotly-2.8.3.min.js\"></script>                <div id=\"46d1af03-7b16-46db-8218-b1525cf65b88\" class=\"plotly-graph-div\" style=\"height:525px; width:100%;\"></div>            <script type=\"text/javascript\">                                    window.PLOTLYENV=window.PLOTLYENV || {};                                    if (document.getElementById(\"46d1af03-7b16-46db-8218-b1525cf65b88\")) {                    Plotly.newPlot(                        \"46d1af03-7b16-46db-8218-b1525cf65b88\",                        [{\"cells\":{\"align\":[\"left\",\"center\"],\"fill\":{\"color\":[[\"white\",\"lightgrey\",\"white\",\"lightgrey\",\"white\",\"white\",\"lightgrey\",\"white\",\"lightgrey\",\"white\",\"white\",\"lightgrey\",\"white\",\"lightgrey\",\"white\",\"white\",\"lightgrey\",\"white\",\"lightgrey\",\"white\",\"white\",\"lightgrey\",\"white\",\"lightgrey\",\"white\"]]},\"font\":{\"color\":\"darkslategray\",\"size\":11},\"line\":{\"color\":\"darkslategray\"},\"values\":[[\"Split\",\"RushA\",\"RushB\",\"<b>TOTAL</b>\"],[0.42424242424242425,0.625,0.5714285714285714,193],[0.44584382871536526,0.4845814977973568,0.5434782608695652,312],[0.5454545454545454,0.625,0.5076923076923077,74],[325,160,94,579]]},\"header\":{\"align\":[\"left\",\"center\"],\"fill\":{\"color\":\"grey\"},\"font\":{\"color\":\"white\",\"size\":12},\"line\":{\"color\":\"darkslategray\"},\"values\":[\"<b> </b>\",\"<b>Split</b>\",\"<b>FullA</b>\",\"<b>FullB</b>\",\"<b>Total</b>\"]},\"type\":\"table\"}],                        {\"template\":{\"data\":{\"bar\":[{\"error_x\":{\"color\":\"#2a3f5f\"},\"error_y\":{\"color\":\"#2a3f5f\"},\"marker\":{\"line\":{\"color\":\"#E5ECF6\",\"width\":0.5},\"pattern\":{\"fillmode\":\"overlay\",\"size\":10,\"solidity\":0.2}},\"type\":\"bar\"}],\"barpolar\":[{\"marker\":{\"line\":{\"color\":\"#E5ECF6\",\"width\":0.5},\"pattern\":{\"fillmode\":\"overlay\",\"size\":10,\"solidity\":0.2}},\"type\":\"barpolar\"}],\"carpet\":[{\"aaxis\":{\"endlinecolor\":\"#2a3f5f\",\"gridcolor\":\"white\",\"linecolor\":\"white\",\"minorgridcolor\":\"white\",\"startlinecolor\":\"#2a3f5f\"},\"baxis\":{\"endlinecolor\":\"#2a3f5f\",\"gridcolor\":\"white\",\"linecolor\":\"white\",\"minorgridcolor\":\"white\",\"startlinecolor\":\"#2a3f5f\"},\"type\":\"carpet\"}],\"choropleth\":[{\"colorbar\":{\"outlinewidth\":0,\"ticks\":\"\"},\"type\":\"choropleth\"}],\"contour\":[{\"colorbar\":{\"outlinewidth\":0,\"ticks\":\"\"},\"colorscale\":[[0.0,\"#0d0887\"],[0.1111111111111111,\"#46039f\"],[0.2222222222222222,\"#7201a8\"],[0.3333333333333333,\"#9c179e\"],[0.4444444444444444,\"#bd3786\"],[0.5555555555555556,\"#d8576b\"],[0.6666666666666666,\"#ed7953\"],[0.7777777777777778,\"#fb9f3a\"],[0.8888888888888888,\"#fdca26\"],[1.0,\"#f0f921\"]],\"type\":\"contour\"}],\"contourcarpet\":[{\"colorbar\":{\"outlinewidth\":0,\"ticks\":\"\"},\"type\":\"contourcarpet\"}],\"heatmap\":[{\"colorbar\":{\"outlinewidth\":0,\"ticks\":\"\"},\"colorscale\":[[0.0,\"#0d0887\"],[0.1111111111111111,\"#46039f\"],[0.2222222222222222,\"#7201a8\"],[0.3333333333333333,\"#9c179e\"],[0.4444444444444444,\"#bd3786\"],[0.5555555555555556,\"#d8576b\"],[0.6666666666666666,\"#ed7953\"],[0.7777777777777778,\"#fb9f3a\"],[0.8888888888888888,\"#fdca26\"],[1.0,\"#f0f921\"]],\"type\":\"heatmap\"}],\"heatmapgl\":[{\"colorbar\":{\"outlinewidth\":0,\"ticks\":\"\"},\"colorscale\":[[0.0,\"#0d0887\"],[0.1111111111111111,\"#46039f\"],[0.2222222222222222,\"#7201a8\"],[0.3333333333333333,\"#9c179e\"],[0.4444444444444444,\"#bd3786\"],[0.5555555555555556,\"#d8576b\"],[0.6666666666666666,\"#ed7953\"],[0.7777777777777778,\"#fb9f3a\"],[0.8888888888888888,\"#fdca26\"],[1.0,\"#f0f921\"]],\"type\":\"heatmapgl\"}],\"histogram\":[{\"marker\":{\"pattern\":{\"fillmode\":\"overlay\",\"size\":10,\"solidity\":0.2}},\"type\":\"histogram\"}],\"histogram2d\":[{\"colorbar\":{\"outlinewidth\":0,\"ticks\":\"\"},\"colorscale\":[[0.0,\"#0d0887\"],[0.1111111111111111,\"#46039f\"],[0.2222222222222222,\"#7201a8\"],[0.3333333333333333,\"#9c179e\"],[0.4444444444444444,\"#bd3786\"],[0.5555555555555556,\"#d8576b\"],[0.6666666666666666,\"#ed7953\"],[0.7777777777777778,\"#fb9f3a\"],[0.8888888888888888,\"#fdca26\"],[1.0,\"#f0f921\"]],\"type\":\"histogram2d\"}],\"histogram2dcontour\":[{\"colorbar\":{\"outlinewidth\":0,\"ticks\":\"\"},\"colorscale\":[[0.0,\"#0d0887\"],[0.1111111111111111,\"#46039f\"],[0.2222222222222222,\"#7201a8\"],[0.3333333333333333,\"#9c179e\"],[0.4444444444444444,\"#bd3786\"],[0.5555555555555556,\"#d8576b\"],[0.6666666666666666,\"#ed7953\"],[0.7777777777777778,\"#fb9f3a\"],[0.8888888888888888,\"#fdca26\"],[1.0,\"#f0f921\"]],\"type\":\"histogram2dcontour\"}],\"mesh3d\":[{\"colorbar\":{\"outlinewidth\":0,\"ticks\":\"\"},\"type\":\"mesh3d\"}],\"parcoords\":[{\"line\":{\"colorbar\":{\"outlinewidth\":0,\"ticks\":\"\"}},\"type\":\"parcoords\"}],\"pie\":[{\"automargin\":true,\"type\":\"pie\"}],\"scatter\":[{\"marker\":{\"colorbar\":{\"outlinewidth\":0,\"ticks\":\"\"}},\"type\":\"scatter\"}],\"scatter3d\":[{\"line\":{\"colorbar\":{\"outlinewidth\":0,\"ticks\":\"\"}},\"marker\":{\"colorbar\":{\"outlinewidth\":0,\"ticks\":\"\"}},\"type\":\"scatter3d\"}],\"scattercarpet\":[{\"marker\":{\"colorbar\":{\"outlinewidth\":0,\"ticks\":\"\"}},\"type\":\"scattercarpet\"}],\"scattergeo\":[{\"marker\":{\"colorbar\":{\"outlinewidth\":0,\"ticks\":\"\"}},\"type\":\"scattergeo\"}],\"scattergl\":[{\"marker\":{\"colorbar\":{\"outlinewidth\":0,\"ticks\":\"\"}},\"type\":\"scattergl\"}],\"scattermapbox\":[{\"marker\":{\"colorbar\":{\"outlinewidth\":0,\"ticks\":\"\"}},\"type\":\"scattermapbox\"}],\"scatterpolar\":[{\"marker\":{\"colorbar\":{\"outlinewidth\":0,\"ticks\":\"\"}},\"type\":\"scatterpolar\"}],\"scatterpolargl\":[{\"marker\":{\"colorbar\":{\"outlinewidth\":0,\"ticks\":\"\"}},\"type\":\"scatterpolargl\"}],\"scatterternary\":[{\"marker\":{\"colorbar\":{\"outlinewidth\":0,\"ticks\":\"\"}},\"type\":\"scatterternary\"}],\"surface\":[{\"colorbar\":{\"outlinewidth\":0,\"ticks\":\"\"},\"colorscale\":[[0.0,\"#0d0887\"],[0.1111111111111111,\"#46039f\"],[0.2222222222222222,\"#7201a8\"],[0.3333333333333333,\"#9c179e\"],[0.4444444444444444,\"#bd3786\"],[0.5555555555555556,\"#d8576b\"],[0.6666666666666666,\"#ed7953\"],[0.7777777777777778,\"#fb9f3a\"],[0.8888888888888888,\"#fdca26\"],[1.0,\"#f0f921\"]],\"type\":\"surface\"}],\"table\":[{\"cells\":{\"fill\":{\"color\":\"#EBF0F8\"},\"line\":{\"color\":\"white\"}},\"header\":{\"fill\":{\"color\":\"#C8D4E3\"},\"line\":{\"color\":\"white\"}},\"type\":\"table\"}]},\"layout\":{\"annotationdefaults\":{\"arrowcolor\":\"#2a3f5f\",\"arrowhead\":0,\"arrowwidth\":1},\"autotypenumbers\":\"strict\",\"coloraxis\":{\"colorbar\":{\"outlinewidth\":0,\"ticks\":\"\"}},\"colorscale\":{\"diverging\":[[0,\"#8e0152\"],[0.1,\"#c51b7d\"],[0.2,\"#de77ae\"],[0.3,\"#f1b6da\"],[0.4,\"#fde0ef\"],[0.5,\"#f7f7f7\"],[0.6,\"#e6f5d0\"],[0.7,\"#b8e186\"],[0.8,\"#7fbc41\"],[0.9,\"#4d9221\"],[1,\"#276419\"]],\"sequential\":[[0.0,\"#0d0887\"],[0.1111111111111111,\"#46039f\"],[0.2222222222222222,\"#7201a8\"],[0.3333333333333333,\"#9c179e\"],[0.4444444444444444,\"#bd3786\"],[0.5555555555555556,\"#d8576b\"],[0.6666666666666666,\"#ed7953\"],[0.7777777777777778,\"#fb9f3a\"],[0.8888888888888888,\"#fdca26\"],[1.0,\"#f0f921\"]],\"sequentialminus\":[[0.0,\"#0d0887\"],[0.1111111111111111,\"#46039f\"],[0.2222222222222222,\"#7201a8\"],[0.3333333333333333,\"#9c179e\"],[0.4444444444444444,\"#bd3786\"],[0.5555555555555556,\"#d8576b\"],[0.6666666666666666,\"#ed7953\"],[0.7777777777777778,\"#fb9f3a\"],[0.8888888888888888,\"#fdca26\"],[1.0,\"#f0f921\"]]},\"colorway\":[\"#636efa\",\"#EF553B\",\"#00cc96\",\"#ab63fa\",\"#FFA15A\",\"#19d3f3\",\"#FF6692\",\"#B6E880\",\"#FF97FF\",\"#FECB52\"],\"font\":{\"color\":\"#2a3f5f\"},\"geo\":{\"bgcolor\":\"white\",\"lakecolor\":\"white\",\"landcolor\":\"#E5ECF6\",\"showlakes\":true,\"showland\":true,\"subunitcolor\":\"white\"},\"hoverlabel\":{\"align\":\"left\"},\"hovermode\":\"closest\",\"mapbox\":{\"style\":\"light\"},\"paper_bgcolor\":\"white\",\"plot_bgcolor\":\"#E5ECF6\",\"polar\":{\"angularaxis\":{\"gridcolor\":\"white\",\"linecolor\":\"white\",\"ticks\":\"\"},\"bgcolor\":\"#E5ECF6\",\"radialaxis\":{\"gridcolor\":\"white\",\"linecolor\":\"white\",\"ticks\":\"\"}},\"scene\":{\"xaxis\":{\"backgroundcolor\":\"#E5ECF6\",\"gridcolor\":\"white\",\"gridwidth\":2,\"linecolor\":\"white\",\"showbackground\":true,\"ticks\":\"\",\"zerolinecolor\":\"white\"},\"yaxis\":{\"backgroundcolor\":\"#E5ECF6\",\"gridcolor\":\"white\",\"gridwidth\":2,\"linecolor\":\"white\",\"showbackground\":true,\"ticks\":\"\",\"zerolinecolor\":\"white\"},\"zaxis\":{\"backgroundcolor\":\"#E5ECF6\",\"gridcolor\":\"white\",\"gridwidth\":2,\"linecolor\":\"white\",\"showbackground\":true,\"ticks\":\"\",\"zerolinecolor\":\"white\"}},\"shapedefaults\":{\"line\":{\"color\":\"#2a3f5f\"}},\"ternary\":{\"aaxis\":{\"gridcolor\":\"white\",\"linecolor\":\"white\",\"ticks\":\"\"},\"baxis\":{\"gridcolor\":\"white\",\"linecolor\":\"white\",\"ticks\":\"\"},\"bgcolor\":\"#E5ECF6\",\"caxis\":{\"gridcolor\":\"white\",\"linecolor\":\"white\",\"ticks\":\"\"}},\"title\":{\"x\":0.05},\"xaxis\":{\"automargin\":true,\"gridcolor\":\"white\",\"linecolor\":\"white\",\"ticks\":\"\",\"title\":{\"standoff\":15},\"zerolinecolor\":\"white\",\"zerolinewidth\":2},\"yaxis\":{\"automargin\":true,\"gridcolor\":\"white\",\"linecolor\":\"white\",\"ticks\":\"\",\"title\":{\"standoff\":15},\"zerolinecolor\":\"white\",\"zerolinewidth\":2}}}},                        {\"responsive\": true}                    ).then(function(){\n",
              "                            \n",
              "var gd = document.getElementById('46d1af03-7b16-46db-8218-b1525cf65b88');\n",
              "var x = new MutationObserver(function (mutations, observer) {{\n",
              "        var display = window.getComputedStyle(gd).display;\n",
              "        if (!display || display === 'none') {{\n",
              "            console.log([gd, 'removed!']);\n",
              "            Plotly.purge(gd);\n",
              "            observer.disconnect();\n",
              "        }}\n",
              "}});\n",
              "\n",
              "// Listen for the removal of the full notebook cells\n",
              "var notebookContainer = gd.closest('#notebook-container');\n",
              "if (notebookContainer) {{\n",
              "    x.observe(notebookContainer, {childList: true});\n",
              "}}\n",
              "\n",
              "// Listen for the clearing of the current output cell\n",
              "var outputEl = gd.closest('.output');\n",
              "if (outputEl) {{\n",
              "    x.observe(outputEl, {childList: true});\n",
              "}}\n",
              "\n",
              "                        })                };                            </script>        </div>\n",
              "</body>\n",
              "</html>"
            ]
          },
          "metadata": {}
        }
      ]
    },
    {
      "cell_type": "code",
      "source": [
        "headerColor = 'grey'\n",
        "rowEvenColor = 'lightgrey'\n",
        "rowOddColor = 'white'\n",
        "\n",
        "fig = go.Figure(data=[go.Table(\n",
        "  header=dict(\n",
        "    values=['<b> </b>','<b>Split</b>','<b>FullA</b>','<b>FullB</b>','<b>Total</b>'],\n",
        "    line_color='darkslategray',\n",
        "    fill_color=headerColor,\n",
        "    align=['left','center'],\n",
        "    font=dict(color='white', size=12)\n",
        "  ),\n",
        "  cells=dict(\n",
        "    values=[\n",
        "      ['Split', 'RushA', 'RushB', '<b>TOTAL</b>'],\n",
        "      [CT_pi_SS.shape[0], CT_pi_AS.shape[0], CT_pi_BS.shape[0], CT_pi_SS.shape[0]+ CT_pi_AS.shape[0]+ CT_pi_BS.shape[0]],\n",
        "      [CT_pi_SA.shape[0], CT_pi_AA.shape[0], CT_pi_BA.shape[0], CT_pi_SA.shape[0]+ CT_pi_AA.shape[0]+ CT_pi_BA.shape[0]],\n",
        "      [CT_pi_SB.shape[0], CT_pi_AB.shape[0], CT_pi_BB.shape[0], CT_pi_SB.shape[0]+ CT_pi_AB.shape[0]+ CT_pi_BB.shape[0]],\n",
        "      [CT_pi_SS.shape[0]+ CT_pi_SA.shape[0]+ CT_pi_SB.shape[0], CT_pi_AS.shape[0]+ CT_pi_AA.shape[0]+ CT_pi_AB.shape[0],\n",
        "       CT_pi_BS.shape[0]+ CT_pi_BA.shape[0]+ CT_pi_BB.shape[0], CT_pi_SS.shape[0]+ CT_pi_AS.shape[0]+ CT_pi_BS.shape[0] +\n",
        "       CT_pi_SA.shape[0]+ CT_pi_AA.shape[0]+ CT_pi_BA.shape[0]+\n",
        "       CT_pi_SB.shape[0]+ CT_pi_AB.shape[0]+ CT_pi_BB.shape[0]]],\n",
        "    line_color='darkslategray',\n",
        "    # 2-D list of colors for alternating rows\n",
        "    fill_color = [[rowOddColor,rowEvenColor,rowOddColor, rowEvenColor,rowOddColor]*5],\n",
        "    align = ['left', 'center'],\n",
        "    font = dict(color = 'darkslategray', size = 11)\n",
        "    ))\n",
        "])\n",
        "\n",
        "#print(\"Siege der CT Seite\")\n",
        "fig.show()"
      ],
      "metadata": {
        "colab": {
          "base_uri": "https://localhost:8080/",
          "height": 0
        },
        "id": "FZOAkFE4WFYM",
        "outputId": "40112ec1-98de-4fef-9a56-49b829ecf4c3"
      },
      "execution_count": 193,
      "outputs": [
        {
          "output_type": "display_data",
          "data": {
            "text/html": [
              "<html>\n",
              "<head><meta charset=\"utf-8\" /></head>\n",
              "<body>\n",
              "    <div>            <script src=\"https://cdnjs.cloudflare.com/ajax/libs/mathjax/2.7.5/MathJax.js?config=TeX-AMS-MML_SVG\"></script><script type=\"text/javascript\">if (window.MathJax) {MathJax.Hub.Config({SVG: {font: \"STIX-Web\"}});}</script>                <script type=\"text/javascript\">window.PlotlyConfig = {MathJaxConfig: 'local'};</script>\n",
              "        <script src=\"https://cdn.plot.ly/plotly-2.8.3.min.js\"></script>                <div id=\"3dd25de9-c15a-41f7-8f6a-535853f30326\" class=\"plotly-graph-div\" style=\"height:525px; width:100%;\"></div>            <script type=\"text/javascript\">                                    window.PLOTLYENV=window.PLOTLYENV || {};                                    if (document.getElementById(\"3dd25de9-c15a-41f7-8f6a-535853f30326\")) {                    Plotly.newPlot(                        \"3dd25de9-c15a-41f7-8f6a-535853f30326\",                        [{\"cells\":{\"align\":[\"left\",\"center\"],\"fill\":{\"color\":[[\"white\",\"lightgrey\",\"white\",\"lightgrey\",\"white\",\"white\",\"lightgrey\",\"white\",\"lightgrey\",\"white\",\"white\",\"lightgrey\",\"white\",\"lightgrey\",\"white\",\"white\",\"lightgrey\",\"white\",\"lightgrey\",\"white\",\"white\",\"lightgrey\",\"white\",\"lightgrey\",\"white\"]]},\"font\":{\"color\":\"darkslategray\",\"size\":11},\"line\":{\"color\":\"darkslategray\"},\"values\":[[\"Split\",\"RushA\",\"RushB\",\"<b>TOTAL</b>\"],[152,27,27,206],[220,117,21,358],[30,3,32,65],[402,147,80,629]]},\"header\":{\"align\":[\"left\",\"center\"],\"fill\":{\"color\":\"grey\"},\"font\":{\"color\":\"white\",\"size\":12},\"line\":{\"color\":\"darkslategray\"},\"values\":[\"<b> </b>\",\"<b>Split</b>\",\"<b>FullA</b>\",\"<b>FullB</b>\",\"<b>Total</b>\"]},\"type\":\"table\"}],                        {\"template\":{\"data\":{\"bar\":[{\"error_x\":{\"color\":\"#2a3f5f\"},\"error_y\":{\"color\":\"#2a3f5f\"},\"marker\":{\"line\":{\"color\":\"#E5ECF6\",\"width\":0.5},\"pattern\":{\"fillmode\":\"overlay\",\"size\":10,\"solidity\":0.2}},\"type\":\"bar\"}],\"barpolar\":[{\"marker\":{\"line\":{\"color\":\"#E5ECF6\",\"width\":0.5},\"pattern\":{\"fillmode\":\"overlay\",\"size\":10,\"solidity\":0.2}},\"type\":\"barpolar\"}],\"carpet\":[{\"aaxis\":{\"endlinecolor\":\"#2a3f5f\",\"gridcolor\":\"white\",\"linecolor\":\"white\",\"minorgridcolor\":\"white\",\"startlinecolor\":\"#2a3f5f\"},\"baxis\":{\"endlinecolor\":\"#2a3f5f\",\"gridcolor\":\"white\",\"linecolor\":\"white\",\"minorgridcolor\":\"white\",\"startlinecolor\":\"#2a3f5f\"},\"type\":\"carpet\"}],\"choropleth\":[{\"colorbar\":{\"outlinewidth\":0,\"ticks\":\"\"},\"type\":\"choropleth\"}],\"contour\":[{\"colorbar\":{\"outlinewidth\":0,\"ticks\":\"\"},\"colorscale\":[[0.0,\"#0d0887\"],[0.1111111111111111,\"#46039f\"],[0.2222222222222222,\"#7201a8\"],[0.3333333333333333,\"#9c179e\"],[0.4444444444444444,\"#bd3786\"],[0.5555555555555556,\"#d8576b\"],[0.6666666666666666,\"#ed7953\"],[0.7777777777777778,\"#fb9f3a\"],[0.8888888888888888,\"#fdca26\"],[1.0,\"#f0f921\"]],\"type\":\"contour\"}],\"contourcarpet\":[{\"colorbar\":{\"outlinewidth\":0,\"ticks\":\"\"},\"type\":\"contourcarpet\"}],\"heatmap\":[{\"colorbar\":{\"outlinewidth\":0,\"ticks\":\"\"},\"colorscale\":[[0.0,\"#0d0887\"],[0.1111111111111111,\"#46039f\"],[0.2222222222222222,\"#7201a8\"],[0.3333333333333333,\"#9c179e\"],[0.4444444444444444,\"#bd3786\"],[0.5555555555555556,\"#d8576b\"],[0.6666666666666666,\"#ed7953\"],[0.7777777777777778,\"#fb9f3a\"],[0.8888888888888888,\"#fdca26\"],[1.0,\"#f0f921\"]],\"type\":\"heatmap\"}],\"heatmapgl\":[{\"colorbar\":{\"outlinewidth\":0,\"ticks\":\"\"},\"colorscale\":[[0.0,\"#0d0887\"],[0.1111111111111111,\"#46039f\"],[0.2222222222222222,\"#7201a8\"],[0.3333333333333333,\"#9c179e\"],[0.4444444444444444,\"#bd3786\"],[0.5555555555555556,\"#d8576b\"],[0.6666666666666666,\"#ed7953\"],[0.7777777777777778,\"#fb9f3a\"],[0.8888888888888888,\"#fdca26\"],[1.0,\"#f0f921\"]],\"type\":\"heatmapgl\"}],\"histogram\":[{\"marker\":{\"pattern\":{\"fillmode\":\"overlay\",\"size\":10,\"solidity\":0.2}},\"type\":\"histogram\"}],\"histogram2d\":[{\"colorbar\":{\"outlinewidth\":0,\"ticks\":\"\"},\"colorscale\":[[0.0,\"#0d0887\"],[0.1111111111111111,\"#46039f\"],[0.2222222222222222,\"#7201a8\"],[0.3333333333333333,\"#9c179e\"],[0.4444444444444444,\"#bd3786\"],[0.5555555555555556,\"#d8576b\"],[0.6666666666666666,\"#ed7953\"],[0.7777777777777778,\"#fb9f3a\"],[0.8888888888888888,\"#fdca26\"],[1.0,\"#f0f921\"]],\"type\":\"histogram2d\"}],\"histogram2dcontour\":[{\"colorbar\":{\"outlinewidth\":0,\"ticks\":\"\"},\"colorscale\":[[0.0,\"#0d0887\"],[0.1111111111111111,\"#46039f\"],[0.2222222222222222,\"#7201a8\"],[0.3333333333333333,\"#9c179e\"],[0.4444444444444444,\"#bd3786\"],[0.5555555555555556,\"#d8576b\"],[0.6666666666666666,\"#ed7953\"],[0.7777777777777778,\"#fb9f3a\"],[0.8888888888888888,\"#fdca26\"],[1.0,\"#f0f921\"]],\"type\":\"histogram2dcontour\"}],\"mesh3d\":[{\"colorbar\":{\"outlinewidth\":0,\"ticks\":\"\"},\"type\":\"mesh3d\"}],\"parcoords\":[{\"line\":{\"colorbar\":{\"outlinewidth\":0,\"ticks\":\"\"}},\"type\":\"parcoords\"}],\"pie\":[{\"automargin\":true,\"type\":\"pie\"}],\"scatter\":[{\"marker\":{\"colorbar\":{\"outlinewidth\":0,\"ticks\":\"\"}},\"type\":\"scatter\"}],\"scatter3d\":[{\"line\":{\"colorbar\":{\"outlinewidth\":0,\"ticks\":\"\"}},\"marker\":{\"colorbar\":{\"outlinewidth\":0,\"ticks\":\"\"}},\"type\":\"scatter3d\"}],\"scattercarpet\":[{\"marker\":{\"colorbar\":{\"outlinewidth\":0,\"ticks\":\"\"}},\"type\":\"scattercarpet\"}],\"scattergeo\":[{\"marker\":{\"colorbar\":{\"outlinewidth\":0,\"ticks\":\"\"}},\"type\":\"scattergeo\"}],\"scattergl\":[{\"marker\":{\"colorbar\":{\"outlinewidth\":0,\"ticks\":\"\"}},\"type\":\"scattergl\"}],\"scattermapbox\":[{\"marker\":{\"colorbar\":{\"outlinewidth\":0,\"ticks\":\"\"}},\"type\":\"scattermapbox\"}],\"scatterpolar\":[{\"marker\":{\"colorbar\":{\"outlinewidth\":0,\"ticks\":\"\"}},\"type\":\"scatterpolar\"}],\"scatterpolargl\":[{\"marker\":{\"colorbar\":{\"outlinewidth\":0,\"ticks\":\"\"}},\"type\":\"scatterpolargl\"}],\"scatterternary\":[{\"marker\":{\"colorbar\":{\"outlinewidth\":0,\"ticks\":\"\"}},\"type\":\"scatterternary\"}],\"surface\":[{\"colorbar\":{\"outlinewidth\":0,\"ticks\":\"\"},\"colorscale\":[[0.0,\"#0d0887\"],[0.1111111111111111,\"#46039f\"],[0.2222222222222222,\"#7201a8\"],[0.3333333333333333,\"#9c179e\"],[0.4444444444444444,\"#bd3786\"],[0.5555555555555556,\"#d8576b\"],[0.6666666666666666,\"#ed7953\"],[0.7777777777777778,\"#fb9f3a\"],[0.8888888888888888,\"#fdca26\"],[1.0,\"#f0f921\"]],\"type\":\"surface\"}],\"table\":[{\"cells\":{\"fill\":{\"color\":\"#EBF0F8\"},\"line\":{\"color\":\"white\"}},\"header\":{\"fill\":{\"color\":\"#C8D4E3\"},\"line\":{\"color\":\"white\"}},\"type\":\"table\"}]},\"layout\":{\"annotationdefaults\":{\"arrowcolor\":\"#2a3f5f\",\"arrowhead\":0,\"arrowwidth\":1},\"autotypenumbers\":\"strict\",\"coloraxis\":{\"colorbar\":{\"outlinewidth\":0,\"ticks\":\"\"}},\"colorscale\":{\"diverging\":[[0,\"#8e0152\"],[0.1,\"#c51b7d\"],[0.2,\"#de77ae\"],[0.3,\"#f1b6da\"],[0.4,\"#fde0ef\"],[0.5,\"#f7f7f7\"],[0.6,\"#e6f5d0\"],[0.7,\"#b8e186\"],[0.8,\"#7fbc41\"],[0.9,\"#4d9221\"],[1,\"#276419\"]],\"sequential\":[[0.0,\"#0d0887\"],[0.1111111111111111,\"#46039f\"],[0.2222222222222222,\"#7201a8\"],[0.3333333333333333,\"#9c179e\"],[0.4444444444444444,\"#bd3786\"],[0.5555555555555556,\"#d8576b\"],[0.6666666666666666,\"#ed7953\"],[0.7777777777777778,\"#fb9f3a\"],[0.8888888888888888,\"#fdca26\"],[1.0,\"#f0f921\"]],\"sequentialminus\":[[0.0,\"#0d0887\"],[0.1111111111111111,\"#46039f\"],[0.2222222222222222,\"#7201a8\"],[0.3333333333333333,\"#9c179e\"],[0.4444444444444444,\"#bd3786\"],[0.5555555555555556,\"#d8576b\"],[0.6666666666666666,\"#ed7953\"],[0.7777777777777778,\"#fb9f3a\"],[0.8888888888888888,\"#fdca26\"],[1.0,\"#f0f921\"]]},\"colorway\":[\"#636efa\",\"#EF553B\",\"#00cc96\",\"#ab63fa\",\"#FFA15A\",\"#19d3f3\",\"#FF6692\",\"#B6E880\",\"#FF97FF\",\"#FECB52\"],\"font\":{\"color\":\"#2a3f5f\"},\"geo\":{\"bgcolor\":\"white\",\"lakecolor\":\"white\",\"landcolor\":\"#E5ECF6\",\"showlakes\":true,\"showland\":true,\"subunitcolor\":\"white\"},\"hoverlabel\":{\"align\":\"left\"},\"hovermode\":\"closest\",\"mapbox\":{\"style\":\"light\"},\"paper_bgcolor\":\"white\",\"plot_bgcolor\":\"#E5ECF6\",\"polar\":{\"angularaxis\":{\"gridcolor\":\"white\",\"linecolor\":\"white\",\"ticks\":\"\"},\"bgcolor\":\"#E5ECF6\",\"radialaxis\":{\"gridcolor\":\"white\",\"linecolor\":\"white\",\"ticks\":\"\"}},\"scene\":{\"xaxis\":{\"backgroundcolor\":\"#E5ECF6\",\"gridcolor\":\"white\",\"gridwidth\":2,\"linecolor\":\"white\",\"showbackground\":true,\"ticks\":\"\",\"zerolinecolor\":\"white\"},\"yaxis\":{\"backgroundcolor\":\"#E5ECF6\",\"gridcolor\":\"white\",\"gridwidth\":2,\"linecolor\":\"white\",\"showbackground\":true,\"ticks\":\"\",\"zerolinecolor\":\"white\"},\"zaxis\":{\"backgroundcolor\":\"#E5ECF6\",\"gridcolor\":\"white\",\"gridwidth\":2,\"linecolor\":\"white\",\"showbackground\":true,\"ticks\":\"\",\"zerolinecolor\":\"white\"}},\"shapedefaults\":{\"line\":{\"color\":\"#2a3f5f\"}},\"ternary\":{\"aaxis\":{\"gridcolor\":\"white\",\"linecolor\":\"white\",\"ticks\":\"\"},\"baxis\":{\"gridcolor\":\"white\",\"linecolor\":\"white\",\"ticks\":\"\"},\"bgcolor\":\"#E5ECF6\",\"caxis\":{\"gridcolor\":\"white\",\"linecolor\":\"white\",\"ticks\":\"\"}},\"title\":{\"x\":0.05},\"xaxis\":{\"automargin\":true,\"gridcolor\":\"white\",\"linecolor\":\"white\",\"ticks\":\"\",\"title\":{\"standoff\":15},\"zerolinecolor\":\"white\",\"zerolinewidth\":2},\"yaxis\":{\"automargin\":true,\"gridcolor\":\"white\",\"linecolor\":\"white\",\"ticks\":\"\",\"title\":{\"standoff\":15},\"zerolinecolor\":\"white\",\"zerolinewidth\":2}}}},                        {\"responsive\": true}                    ).then(function(){\n",
              "                            \n",
              "var gd = document.getElementById('3dd25de9-c15a-41f7-8f6a-535853f30326');\n",
              "var x = new MutationObserver(function (mutations, observer) {{\n",
              "        var display = window.getComputedStyle(gd).display;\n",
              "        if (!display || display === 'none') {{\n",
              "            console.log([gd, 'removed!']);\n",
              "            Plotly.purge(gd);\n",
              "            observer.disconnect();\n",
              "        }}\n",
              "}});\n",
              "\n",
              "// Listen for the removal of the full notebook cells\n",
              "var notebookContainer = gd.closest('#notebook-container');\n",
              "if (notebookContainer) {{\n",
              "    x.observe(notebookContainer, {childList: true});\n",
              "}}\n",
              "\n",
              "// Listen for the clearing of the current output cell\n",
              "var outputEl = gd.closest('.output');\n",
              "if (outputEl) {{\n",
              "    x.observe(outputEl, {childList: true});\n",
              "}}\n",
              "\n",
              "                        })                };                            </script>        </div>\n",
              "</body>\n",
              "</html>"
            ]
          },
          "metadata": {}
        }
      ]
    },
    {
      "cell_type": "code",
      "source": [
        "headerColor = 'grey'\n",
        "rowEvenColor = 'lightgrey'\n",
        "rowOddColor = 'white'\n",
        "\n",
        "fig = go.Figure(data=[go.Table(\n",
        "  header=dict(\n",
        "    values=['<b> </b>','<b>Split</b>','<b>FullA</b>','<b>FullB</b>','<b>Total</b>'],\n",
        "    line_color='darkslategray',\n",
        "    fill_color=headerColor,\n",
        "    align=['left','center'],\n",
        "    font=dict(color='white', size=12)\n",
        "  ),\n",
        "  cells=dict(\n",
        "    values=[\n",
        "      ['Split', 'RushA', 'RushB', '<b>TOTAL</b>'],\n",
        "      [CT_pi_SS.shape[0]/Full_pi_SS, CT_pi_AS.shape[0]/Full_pi_AS, CT_pi_BS.shape[0]/Full_pi_BS, (CT_pi_SS.shape[0]+ CT_pi_AS.shape[0]+ CT_pi_BS.shape[0])/df_strategy.shape[0]],\n",
        "      [CT_pi_SA.shape[0]/Full_pi_SA, CT_pi_AA.shape[0]/Full_pi_AA, CT_pi_BA.shape[0]/Full_pi_BA, (CT_pi_SA.shape[0]+ CT_pi_AA.shape[0]+ CT_pi_BA.shape[0])/df_strategy.shape[0]],\n",
        "      [CT_pi_SB.shape[0]/Full_pi_SB, CT_pi_AB.shape[0]/Full_pi_AB, CT_pi_BB.shape[0]/Full_pi_BB, (CT_pi_SB.shape[0]+ CT_pi_AB.shape[0]+ CT_pi_BB.shape[0])/df_strategy.shape[0]],\n",
        "      [(CT_pi_SS.shape[0]+ CT_pi_SA.shape[0]+ CT_pi_SB.shape[0])/df_strategy.shape[0], (CT_pi_AS.shape[0]+ CT_pi_AA.shape[0]+ CT_pi_AB.shape[0])/df_strategy.shape[0],\n",
        "       (CT_pi_BS.shape[0]+ CT_pi_BA.shape[0]+ CT_pi_BB.shape[0])/df_strategy.shape[0], (CT_pi_SS.shape[0]+ CT_pi_AS.shape[0]+ CT_pi_BS.shape[0] +\n",
        "       CT_pi_SA.shape[0]+ CT_pi_AA.shape[0]+ CT_pi_BA.shape[0]+\n",
        "       CT_pi_SB.shape[0]+ CT_pi_AB.shape[0]+ CT_pi_BB.shape[0])/df_strategy.shape[0]]],\n",
        "    line_color='darkslategray',\n",
        "    # 2-D list of colors for alternating rows\n",
        "    fill_color = [[rowOddColor,rowEvenColor,rowOddColor, rowEvenColor,rowOddColor]*5],\n",
        "    align = ['left', 'center'],\n",
        "    font = dict(color = 'darkslategray', size = 11)\n",
        "    ))\n",
        "])\n",
        "\n",
        "#print(\"SiegWKEIT der CT Seite\")\n",
        "fig.show()"
      ],
      "metadata": {
        "colab": {
          "base_uri": "https://localhost:8080/",
          "height": 0
        },
        "id": "o_yQgYeOX12n",
        "outputId": "5947b0f4-0954-48ab-8117-8bec89411baa"
      },
      "execution_count": 194,
      "outputs": [
        {
          "output_type": "display_data",
          "data": {
            "text/html": [
              "<html>\n",
              "<head><meta charset=\"utf-8\" /></head>\n",
              "<body>\n",
              "    <div>            <script src=\"https://cdnjs.cloudflare.com/ajax/libs/mathjax/2.7.5/MathJax.js?config=TeX-AMS-MML_SVG\"></script><script type=\"text/javascript\">if (window.MathJax) {MathJax.Hub.Config({SVG: {font: \"STIX-Web\"}});}</script>                <script type=\"text/javascript\">window.PlotlyConfig = {MathJaxConfig: 'local'};</script>\n",
              "        <script src=\"https://cdn.plot.ly/plotly-2.8.3.min.js\"></script>                <div id=\"d18f63b0-2b44-47b8-a2d5-5d3b4051a25d\" class=\"plotly-graph-div\" style=\"height:525px; width:100%;\"></div>            <script type=\"text/javascript\">                                    window.PLOTLYENV=window.PLOTLYENV || {};                                    if (document.getElementById(\"d18f63b0-2b44-47b8-a2d5-5d3b4051a25d\")) {                    Plotly.newPlot(                        \"d18f63b0-2b44-47b8-a2d5-5d3b4051a25d\",                        [{\"cells\":{\"align\":[\"left\",\"center\"],\"fill\":{\"color\":[[\"white\",\"lightgrey\",\"white\",\"lightgrey\",\"white\",\"white\",\"lightgrey\",\"white\",\"lightgrey\",\"white\",\"white\",\"lightgrey\",\"white\",\"lightgrey\",\"white\",\"white\",\"lightgrey\",\"white\",\"lightgrey\",\"white\",\"white\",\"lightgrey\",\"white\",\"lightgrey\",\"white\"]]},\"font\":{\"color\":\"darkslategray\",\"size\":11},\"line\":{\"color\":\"darkslategray\"},\"values\":[[\"Split\",\"RushA\",\"RushB\",\"<b>TOTAL</b>\"],[0.5757575757575758,0.375,0.42857142857142855,0.17052980132450332],[0.5541561712846348,0.5154185022026432,0.45652173913043476,0.29635761589403975],[0.45454545454545453,0.375,0.49230769230769234,0.05380794701986755],[0.33278145695364236,0.1216887417218543,0.06622516556291391,0.5206953642384106]]},\"header\":{\"align\":[\"left\",\"center\"],\"fill\":{\"color\":\"grey\"},\"font\":{\"color\":\"white\",\"size\":12},\"line\":{\"color\":\"darkslategray\"},\"values\":[\"<b> </b>\",\"<b>Split</b>\",\"<b>FullA</b>\",\"<b>FullB</b>\",\"<b>Total</b>\"]},\"type\":\"table\"}],                        {\"template\":{\"data\":{\"bar\":[{\"error_x\":{\"color\":\"#2a3f5f\"},\"error_y\":{\"color\":\"#2a3f5f\"},\"marker\":{\"line\":{\"color\":\"#E5ECF6\",\"width\":0.5},\"pattern\":{\"fillmode\":\"overlay\",\"size\":10,\"solidity\":0.2}},\"type\":\"bar\"}],\"barpolar\":[{\"marker\":{\"line\":{\"color\":\"#E5ECF6\",\"width\":0.5},\"pattern\":{\"fillmode\":\"overlay\",\"size\":10,\"solidity\":0.2}},\"type\":\"barpolar\"}],\"carpet\":[{\"aaxis\":{\"endlinecolor\":\"#2a3f5f\",\"gridcolor\":\"white\",\"linecolor\":\"white\",\"minorgridcolor\":\"white\",\"startlinecolor\":\"#2a3f5f\"},\"baxis\":{\"endlinecolor\":\"#2a3f5f\",\"gridcolor\":\"white\",\"linecolor\":\"white\",\"minorgridcolor\":\"white\",\"startlinecolor\":\"#2a3f5f\"},\"type\":\"carpet\"}],\"choropleth\":[{\"colorbar\":{\"outlinewidth\":0,\"ticks\":\"\"},\"type\":\"choropleth\"}],\"contour\":[{\"colorbar\":{\"outlinewidth\":0,\"ticks\":\"\"},\"colorscale\":[[0.0,\"#0d0887\"],[0.1111111111111111,\"#46039f\"],[0.2222222222222222,\"#7201a8\"],[0.3333333333333333,\"#9c179e\"],[0.4444444444444444,\"#bd3786\"],[0.5555555555555556,\"#d8576b\"],[0.6666666666666666,\"#ed7953\"],[0.7777777777777778,\"#fb9f3a\"],[0.8888888888888888,\"#fdca26\"],[1.0,\"#f0f921\"]],\"type\":\"contour\"}],\"contourcarpet\":[{\"colorbar\":{\"outlinewidth\":0,\"ticks\":\"\"},\"type\":\"contourcarpet\"}],\"heatmap\":[{\"colorbar\":{\"outlinewidth\":0,\"ticks\":\"\"},\"colorscale\":[[0.0,\"#0d0887\"],[0.1111111111111111,\"#46039f\"],[0.2222222222222222,\"#7201a8\"],[0.3333333333333333,\"#9c179e\"],[0.4444444444444444,\"#bd3786\"],[0.5555555555555556,\"#d8576b\"],[0.6666666666666666,\"#ed7953\"],[0.7777777777777778,\"#fb9f3a\"],[0.8888888888888888,\"#fdca26\"],[1.0,\"#f0f921\"]],\"type\":\"heatmap\"}],\"heatmapgl\":[{\"colorbar\":{\"outlinewidth\":0,\"ticks\":\"\"},\"colorscale\":[[0.0,\"#0d0887\"],[0.1111111111111111,\"#46039f\"],[0.2222222222222222,\"#7201a8\"],[0.3333333333333333,\"#9c179e\"],[0.4444444444444444,\"#bd3786\"],[0.5555555555555556,\"#d8576b\"],[0.6666666666666666,\"#ed7953\"],[0.7777777777777778,\"#fb9f3a\"],[0.8888888888888888,\"#fdca26\"],[1.0,\"#f0f921\"]],\"type\":\"heatmapgl\"}],\"histogram\":[{\"marker\":{\"pattern\":{\"fillmode\":\"overlay\",\"size\":10,\"solidity\":0.2}},\"type\":\"histogram\"}],\"histogram2d\":[{\"colorbar\":{\"outlinewidth\":0,\"ticks\":\"\"},\"colorscale\":[[0.0,\"#0d0887\"],[0.1111111111111111,\"#46039f\"],[0.2222222222222222,\"#7201a8\"],[0.3333333333333333,\"#9c179e\"],[0.4444444444444444,\"#bd3786\"],[0.5555555555555556,\"#d8576b\"],[0.6666666666666666,\"#ed7953\"],[0.7777777777777778,\"#fb9f3a\"],[0.8888888888888888,\"#fdca26\"],[1.0,\"#f0f921\"]],\"type\":\"histogram2d\"}],\"histogram2dcontour\":[{\"colorbar\":{\"outlinewidth\":0,\"ticks\":\"\"},\"colorscale\":[[0.0,\"#0d0887\"],[0.1111111111111111,\"#46039f\"],[0.2222222222222222,\"#7201a8\"],[0.3333333333333333,\"#9c179e\"],[0.4444444444444444,\"#bd3786\"],[0.5555555555555556,\"#d8576b\"],[0.6666666666666666,\"#ed7953\"],[0.7777777777777778,\"#fb9f3a\"],[0.8888888888888888,\"#fdca26\"],[1.0,\"#f0f921\"]],\"type\":\"histogram2dcontour\"}],\"mesh3d\":[{\"colorbar\":{\"outlinewidth\":0,\"ticks\":\"\"},\"type\":\"mesh3d\"}],\"parcoords\":[{\"line\":{\"colorbar\":{\"outlinewidth\":0,\"ticks\":\"\"}},\"type\":\"parcoords\"}],\"pie\":[{\"automargin\":true,\"type\":\"pie\"}],\"scatter\":[{\"marker\":{\"colorbar\":{\"outlinewidth\":0,\"ticks\":\"\"}},\"type\":\"scatter\"}],\"scatter3d\":[{\"line\":{\"colorbar\":{\"outlinewidth\":0,\"ticks\":\"\"}},\"marker\":{\"colorbar\":{\"outlinewidth\":0,\"ticks\":\"\"}},\"type\":\"scatter3d\"}],\"scattercarpet\":[{\"marker\":{\"colorbar\":{\"outlinewidth\":0,\"ticks\":\"\"}},\"type\":\"scattercarpet\"}],\"scattergeo\":[{\"marker\":{\"colorbar\":{\"outlinewidth\":0,\"ticks\":\"\"}},\"type\":\"scattergeo\"}],\"scattergl\":[{\"marker\":{\"colorbar\":{\"outlinewidth\":0,\"ticks\":\"\"}},\"type\":\"scattergl\"}],\"scattermapbox\":[{\"marker\":{\"colorbar\":{\"outlinewidth\":0,\"ticks\":\"\"}},\"type\":\"scattermapbox\"}],\"scatterpolar\":[{\"marker\":{\"colorbar\":{\"outlinewidth\":0,\"ticks\":\"\"}},\"type\":\"scatterpolar\"}],\"scatterpolargl\":[{\"marker\":{\"colorbar\":{\"outlinewidth\":0,\"ticks\":\"\"}},\"type\":\"scatterpolargl\"}],\"scatterternary\":[{\"marker\":{\"colorbar\":{\"outlinewidth\":0,\"ticks\":\"\"}},\"type\":\"scatterternary\"}],\"surface\":[{\"colorbar\":{\"outlinewidth\":0,\"ticks\":\"\"},\"colorscale\":[[0.0,\"#0d0887\"],[0.1111111111111111,\"#46039f\"],[0.2222222222222222,\"#7201a8\"],[0.3333333333333333,\"#9c179e\"],[0.4444444444444444,\"#bd3786\"],[0.5555555555555556,\"#d8576b\"],[0.6666666666666666,\"#ed7953\"],[0.7777777777777778,\"#fb9f3a\"],[0.8888888888888888,\"#fdca26\"],[1.0,\"#f0f921\"]],\"type\":\"surface\"}],\"table\":[{\"cells\":{\"fill\":{\"color\":\"#EBF0F8\"},\"line\":{\"color\":\"white\"}},\"header\":{\"fill\":{\"color\":\"#C8D4E3\"},\"line\":{\"color\":\"white\"}},\"type\":\"table\"}]},\"layout\":{\"annotationdefaults\":{\"arrowcolor\":\"#2a3f5f\",\"arrowhead\":0,\"arrowwidth\":1},\"autotypenumbers\":\"strict\",\"coloraxis\":{\"colorbar\":{\"outlinewidth\":0,\"ticks\":\"\"}},\"colorscale\":{\"diverging\":[[0,\"#8e0152\"],[0.1,\"#c51b7d\"],[0.2,\"#de77ae\"],[0.3,\"#f1b6da\"],[0.4,\"#fde0ef\"],[0.5,\"#f7f7f7\"],[0.6,\"#e6f5d0\"],[0.7,\"#b8e186\"],[0.8,\"#7fbc41\"],[0.9,\"#4d9221\"],[1,\"#276419\"]],\"sequential\":[[0.0,\"#0d0887\"],[0.1111111111111111,\"#46039f\"],[0.2222222222222222,\"#7201a8\"],[0.3333333333333333,\"#9c179e\"],[0.4444444444444444,\"#bd3786\"],[0.5555555555555556,\"#d8576b\"],[0.6666666666666666,\"#ed7953\"],[0.7777777777777778,\"#fb9f3a\"],[0.8888888888888888,\"#fdca26\"],[1.0,\"#f0f921\"]],\"sequentialminus\":[[0.0,\"#0d0887\"],[0.1111111111111111,\"#46039f\"],[0.2222222222222222,\"#7201a8\"],[0.3333333333333333,\"#9c179e\"],[0.4444444444444444,\"#bd3786\"],[0.5555555555555556,\"#d8576b\"],[0.6666666666666666,\"#ed7953\"],[0.7777777777777778,\"#fb9f3a\"],[0.8888888888888888,\"#fdca26\"],[1.0,\"#f0f921\"]]},\"colorway\":[\"#636efa\",\"#EF553B\",\"#00cc96\",\"#ab63fa\",\"#FFA15A\",\"#19d3f3\",\"#FF6692\",\"#B6E880\",\"#FF97FF\",\"#FECB52\"],\"font\":{\"color\":\"#2a3f5f\"},\"geo\":{\"bgcolor\":\"white\",\"lakecolor\":\"white\",\"landcolor\":\"#E5ECF6\",\"showlakes\":true,\"showland\":true,\"subunitcolor\":\"white\"},\"hoverlabel\":{\"align\":\"left\"},\"hovermode\":\"closest\",\"mapbox\":{\"style\":\"light\"},\"paper_bgcolor\":\"white\",\"plot_bgcolor\":\"#E5ECF6\",\"polar\":{\"angularaxis\":{\"gridcolor\":\"white\",\"linecolor\":\"white\",\"ticks\":\"\"},\"bgcolor\":\"#E5ECF6\",\"radialaxis\":{\"gridcolor\":\"white\",\"linecolor\":\"white\",\"ticks\":\"\"}},\"scene\":{\"xaxis\":{\"backgroundcolor\":\"#E5ECF6\",\"gridcolor\":\"white\",\"gridwidth\":2,\"linecolor\":\"white\",\"showbackground\":true,\"ticks\":\"\",\"zerolinecolor\":\"white\"},\"yaxis\":{\"backgroundcolor\":\"#E5ECF6\",\"gridcolor\":\"white\",\"gridwidth\":2,\"linecolor\":\"white\",\"showbackground\":true,\"ticks\":\"\",\"zerolinecolor\":\"white\"},\"zaxis\":{\"backgroundcolor\":\"#E5ECF6\",\"gridcolor\":\"white\",\"gridwidth\":2,\"linecolor\":\"white\",\"showbackground\":true,\"ticks\":\"\",\"zerolinecolor\":\"white\"}},\"shapedefaults\":{\"line\":{\"color\":\"#2a3f5f\"}},\"ternary\":{\"aaxis\":{\"gridcolor\":\"white\",\"linecolor\":\"white\",\"ticks\":\"\"},\"baxis\":{\"gridcolor\":\"white\",\"linecolor\":\"white\",\"ticks\":\"\"},\"bgcolor\":\"#E5ECF6\",\"caxis\":{\"gridcolor\":\"white\",\"linecolor\":\"white\",\"ticks\":\"\"}},\"title\":{\"x\":0.05},\"xaxis\":{\"automargin\":true,\"gridcolor\":\"white\",\"linecolor\":\"white\",\"ticks\":\"\",\"title\":{\"standoff\":15},\"zerolinecolor\":\"white\",\"zerolinewidth\":2},\"yaxis\":{\"automargin\":true,\"gridcolor\":\"white\",\"linecolor\":\"white\",\"ticks\":\"\",\"title\":{\"standoff\":15},\"zerolinecolor\":\"white\",\"zerolinewidth\":2}}}},                        {\"responsive\": true}                    ).then(function(){\n",
              "                            \n",
              "var gd = document.getElementById('d18f63b0-2b44-47b8-a2d5-5d3b4051a25d');\n",
              "var x = new MutationObserver(function (mutations, observer) {{\n",
              "        var display = window.getComputedStyle(gd).display;\n",
              "        if (!display || display === 'none') {{\n",
              "            console.log([gd, 'removed!']);\n",
              "            Plotly.purge(gd);\n",
              "            observer.disconnect();\n",
              "        }}\n",
              "}});\n",
              "\n",
              "// Listen for the removal of the full notebook cells\n",
              "var notebookContainer = gd.closest('#notebook-container');\n",
              "if (notebookContainer) {{\n",
              "    x.observe(notebookContainer, {childList: true});\n",
              "}}\n",
              "\n",
              "// Listen for the clearing of the current output cell\n",
              "var outputEl = gd.closest('.output');\n",
              "if (outputEl) {{\n",
              "    x.observe(outputEl, {childList: true});\n",
              "}}\n",
              "\n",
              "                        })                };                            </script>        </div>\n",
              "</body>\n",
              "</html>"
            ]
          },
          "metadata": {}
        }
      ]
    },
    {
      "cell_type": "markdown",
      "source": [
        "#Nash Test"
      ],
      "metadata": {
        "id": "F5HZj8tuTvcV"
      }
    },
    {
      "cell_type": "code",
      "source": [
        "A = np.array([[pi_SS.shape[0]/Full_pi_SS, pi_SA.shape[0]/Full_pi_SA, pi_SB.shape[0]/Full_pi_SB], \n",
        "              [pi_AS.shape[0]/Full_pi_AS, pi_AA.shape[0]/Full_pi_AA, pi_AB.shape[0]/Full_pi_AB],\n",
        "              [pi_BS.shape[0]/Full_pi_BS, pi_BA.shape[0]/Full_pi_BA, pi_BB.shape[0]/Full_pi_BB]])\n",
        "\n",
        "\n",
        "#A = np.array([[pi_SS.shape[0]/Full_pi_SS, (pi_SA.shape[0]+pi_SB.shape[0])/(Full_pi_SA+Full_pi_SB)], \n",
        " #             [(pi_AS.shape[0]+pi_BS.shape[0])/(Full_pi_AS+Full_pi_BS), (pi_AA.shape[0]+pi_BA.shape[0]+pi_BB.shape[0]+pi_AB.shape[0])/(Full_pi_AA+Full_pi_BA+Full_pi_BB+Full_pi_AB)]\n",
        "  #            ])\n",
        "\n",
        "#B = np.array([[-pi_SS.shape[0]/Full_pi_SS, -(pi_SA.shape[0]+pi_SB.shape[0])/(Full_pi_SA+Full_pi_SB)], \n",
        " #             [-(pi_AS.shape[0]+pi_BS.shape[0])/-(Full_pi_AS+Full_pi_BS), (pi_AA.shape[0]+pi_BA.shape[0]+pi_BB.shape[0]+pi_AB.shape[0])/(Full_pi_AA+Full_pi_BA+Full_pi_BB+Full_pi_AB)]\n",
        "  #            ])\n",
        "B = np.array([[CT_pi_SS.shape[0]/Full_pi_SS, CT_pi_SA.shape[0]/Full_pi_SA, CT_pi_SB.shape[0]/Full_pi_SB], \n",
        "              [CT_pi_AS.shape[0]/Full_pi_AS, CT_pi_AA.shape[0]/Full_pi_AA, CT_pi_AB.shape[0]/Full_pi_AB],\n",
        "              [CT_pi_BS.shape[0]/Full_pi_BS, CT_pi_BA.shape[0]/Full_pi_BA, CT_pi_BB.shape[0]/Full_pi_BB]])\n",
        "\n",
        "#B = np.array([[CT_pi_SS.shape[0]/Full_pi_SS, CT_pi_AS.shape[0]/Full_pi_AS, CT_pi_BS.shape[0]/Full_pi_BS], \n",
        "#              [CT_pi_SA.shape[0]/Full_pi_SA, CT_pi_AA.shape[0]/Full_pi_AA, CT_pi_BA.shape[0]/Full_pi_BA],\n",
        "#              [CT_pi_SB.shape[0]/Full_pi_SB, CT_pi_AB.shape[0]/Full_pi_AB, CT_pi_BB.shape[0]/Full_pi_BB]])\n",
        "CSGO = nash.Game(A, B)\n",
        "CSGO"
      ],
      "metadata": {
        "colab": {
          "base_uri": "https://localhost:8080/"
        },
        "id": "Molov4rnTw7v",
        "outputId": "5afada53-10a2-412f-c14d-8cae0ca4e3cb"
      },
      "execution_count": 195,
      "outputs": [
        {
          "output_type": "execute_result",
          "data": {
            "text/plain": [
              "Bi matrix game with payoff matrices:\n",
              "\n",
              "Row player:\n",
              "[[0.42424242 0.44584383 0.54545455]\n",
              " [0.625      0.4845815  0.625     ]\n",
              " [0.57142857 0.54347826 0.50769231]]\n",
              "\n",
              "Column player:\n",
              "[[0.57575758 0.55415617 0.45454545]\n",
              " [0.375      0.5154185  0.375     ]\n",
              " [0.42857143 0.45652174 0.49230769]]"
            ]
          },
          "metadata": {},
          "execution_count": 195
        }
      ]
    },
    {
      "cell_type": "code",
      "source": [
        "equilibria = CSGO.support_enumeration()\n",
        "for eq in equilibria:\n",
        "    print(eq)"
      ],
      "metadata": {
        "colab": {
          "base_uri": "https://localhost:8080/"
        },
        "id": "QfbRtrTrXjgV",
        "outputId": "915f3fda-1130-44fe-8717-f6415c2fccec"
      },
      "execution_count": 196,
      "outputs": [
        {
          "output_type": "stream",
          "name": "stdout",
          "text": [
            "(array([0.        , 0.20309335, 0.79690665]), array([0.        , 0.66574759, 0.33425241]))\n"
          ]
        }
      ]
    },
    {
      "cell_type": "code",
      "source": [
        "df_strategy.to_csv(\"df_strategy_complete.csv\")\n",
        "\n"
      ],
      "metadata": {
        "id": "5oqVVsj9Uv0-"
      },
      "execution_count": 197,
      "outputs": []
    }
  ]
}